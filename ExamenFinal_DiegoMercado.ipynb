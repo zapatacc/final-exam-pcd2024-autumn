{
 "cells": [
  {
   "cell_type": "markdown",
   "metadata": {},
   "source": [
    "# Proyecto de Ciencia de Datos: Clasificación de Quejas\n",
    "\n",
    "En este proyecto, desarrollaremos un modelo de machine learning para predecir la categoría adecuada para cada nueva queja recibida. Comenzaremos importando las librerías necesarias y cargando el dataset inicial, el cual requiere limpieza y preparación antes de su uso."
   ]
  },
  {
   "cell_type": "markdown",
   "metadata": {},
   "source": [
    "## Preprocesamiento de Datos"
   ]
  },
  {
   "cell_type": "code",
   "execution_count": 1,
   "metadata": {},
   "outputs": [],
   "source": [
    "import pandas as pd\n",
    "import json"
   ]
  },
  {
   "cell_type": "code",
   "execution_count": 2,
   "metadata": {},
   "outputs": [],
   "source": [
    "# Cargamos el archivo tickets_classification_eng.json que se encuentra en la carpeta data/raw_data.\n",
    "\n",
    "file_path = './raw_data/tickets_classification_eng.json'\n",
    "\n",
    "with open(file_path, 'r') as file:\n",
    "    data = json.load(file)"
   ]
  },
  {
   "cell_type": "code",
   "execution_count": 3,
   "metadata": {},
   "outputs": [
    {
     "data": {
      "text/html": [
       "<div>\n",
       "<style scoped>\n",
       "    .dataframe tbody tr th:only-of-type {\n",
       "        vertical-align: middle;\n",
       "    }\n",
       "\n",
       "    .dataframe tbody tr th {\n",
       "        vertical-align: top;\n",
       "    }\n",
       "\n",
       "    .dataframe thead th {\n",
       "        text-align: right;\n",
       "    }\n",
       "</style>\n",
       "<table border=\"1\" class=\"dataframe\">\n",
       "  <thead>\n",
       "    <tr style=\"text-align: right;\">\n",
       "      <th></th>\n",
       "      <th>_index</th>\n",
       "      <th>_type</th>\n",
       "      <th>_id</th>\n",
       "      <th>_score</th>\n",
       "      <th>_source.tags</th>\n",
       "      <th>_source.zip_code</th>\n",
       "      <th>_source.complaint_id</th>\n",
       "      <th>_source.issue</th>\n",
       "      <th>_source.date_received</th>\n",
       "      <th>_source.state</th>\n",
       "      <th>...</th>\n",
       "      <th>_source.company_response</th>\n",
       "      <th>_source.company</th>\n",
       "      <th>_source.submitted_via</th>\n",
       "      <th>_source.date_sent_to_company</th>\n",
       "      <th>_source.company_public_response</th>\n",
       "      <th>_source.sub_product</th>\n",
       "      <th>_source.timely</th>\n",
       "      <th>_source.complaint_what_happened</th>\n",
       "      <th>_source.sub_issue</th>\n",
       "      <th>_source.consumer_consent_provided</th>\n",
       "    </tr>\n",
       "  </thead>\n",
       "  <tbody>\n",
       "    <tr>\n",
       "      <th>0</th>\n",
       "      <td>complaint-public-v2</td>\n",
       "      <td>complaint</td>\n",
       "      <td>3211475</td>\n",
       "      <td>0.0</td>\n",
       "      <td>None</td>\n",
       "      <td>90301</td>\n",
       "      <td>3211475</td>\n",
       "      <td>Attempts to collect debt not owed</td>\n",
       "      <td>2019-04-13T12:00:00-05:00</td>\n",
       "      <td>CA</td>\n",
       "      <td>...</td>\n",
       "      <td>Closed with explanation</td>\n",
       "      <td>JPMORGAN CHASE &amp; CO.</td>\n",
       "      <td>Web</td>\n",
       "      <td>2019-04-13T12:00:00-05:00</td>\n",
       "      <td>None</td>\n",
       "      <td>Credit card debt</td>\n",
       "      <td>Yes</td>\n",
       "      <td></td>\n",
       "      <td>Debt is not yours</td>\n",
       "      <td>Consent not provided</td>\n",
       "    </tr>\n",
       "    <tr>\n",
       "      <th>1</th>\n",
       "      <td>complaint-public-v2</td>\n",
       "      <td>complaint</td>\n",
       "      <td>3229299</td>\n",
       "      <td>0.0</td>\n",
       "      <td>Servicemember</td>\n",
       "      <td>319XX</td>\n",
       "      <td>3229299</td>\n",
       "      <td>Written notification about debt</td>\n",
       "      <td>2019-05-01T12:00:00-05:00</td>\n",
       "      <td>GA</td>\n",
       "      <td>...</td>\n",
       "      <td>Closed with explanation</td>\n",
       "      <td>JPMORGAN CHASE &amp; CO.</td>\n",
       "      <td>Web</td>\n",
       "      <td>2019-05-01T12:00:00-05:00</td>\n",
       "      <td>None</td>\n",
       "      <td>Credit card debt</td>\n",
       "      <td>Yes</td>\n",
       "      <td>Good morning my name is XXXX XXXX and I apprec...</td>\n",
       "      <td>Didn't receive enough information to verify debt</td>\n",
       "      <td>Consent provided</td>\n",
       "    </tr>\n",
       "    <tr>\n",
       "      <th>2</th>\n",
       "      <td>complaint-public-v2</td>\n",
       "      <td>complaint</td>\n",
       "      <td>3199379</td>\n",
       "      <td>0.0</td>\n",
       "      <td>None</td>\n",
       "      <td>77069</td>\n",
       "      <td>3199379</td>\n",
       "      <td>Other features, terms, or problems</td>\n",
       "      <td>2019-04-02T12:00:00-05:00</td>\n",
       "      <td>TX</td>\n",
       "      <td>...</td>\n",
       "      <td>Closed with explanation</td>\n",
       "      <td>JPMORGAN CHASE &amp; CO.</td>\n",
       "      <td>Web</td>\n",
       "      <td>2019-04-02T12:00:00-05:00</td>\n",
       "      <td>None</td>\n",
       "      <td>General-purpose credit card or charge card</td>\n",
       "      <td>Yes</td>\n",
       "      <td>I upgraded my XXXX XXXX card in XX/XX/2018 and...</td>\n",
       "      <td>Problem with rewards from credit card</td>\n",
       "      <td>Consent provided</td>\n",
       "    </tr>\n",
       "    <tr>\n",
       "      <th>3</th>\n",
       "      <td>complaint-public-v2</td>\n",
       "      <td>complaint</td>\n",
       "      <td>2673060</td>\n",
       "      <td>0.0</td>\n",
       "      <td>None</td>\n",
       "      <td>48066</td>\n",
       "      <td>2673060</td>\n",
       "      <td>Trouble during payment process</td>\n",
       "      <td>2017-09-13T12:00:00-05:00</td>\n",
       "      <td>MI</td>\n",
       "      <td>...</td>\n",
       "      <td>Closed with explanation</td>\n",
       "      <td>JPMORGAN CHASE &amp; CO.</td>\n",
       "      <td>Web</td>\n",
       "      <td>2017-09-14T12:00:00-05:00</td>\n",
       "      <td>None</td>\n",
       "      <td>Conventional home mortgage</td>\n",
       "      <td>Yes</td>\n",
       "      <td></td>\n",
       "      <td>None</td>\n",
       "      <td>Consent not provided</td>\n",
       "    </tr>\n",
       "    <tr>\n",
       "      <th>4</th>\n",
       "      <td>complaint-public-v2</td>\n",
       "      <td>complaint</td>\n",
       "      <td>3203545</td>\n",
       "      <td>0.0</td>\n",
       "      <td>None</td>\n",
       "      <td>10473</td>\n",
       "      <td>3203545</td>\n",
       "      <td>Fees or interest</td>\n",
       "      <td>2019-04-05T12:00:00-05:00</td>\n",
       "      <td>NY</td>\n",
       "      <td>...</td>\n",
       "      <td>Closed with explanation</td>\n",
       "      <td>JPMORGAN CHASE &amp; CO.</td>\n",
       "      <td>Referral</td>\n",
       "      <td>2019-04-05T12:00:00-05:00</td>\n",
       "      <td>None</td>\n",
       "      <td>General-purpose credit card or charge card</td>\n",
       "      <td>Yes</td>\n",
       "      <td></td>\n",
       "      <td>Charged too much interest</td>\n",
       "      <td>N/A</td>\n",
       "    </tr>\n",
       "  </tbody>\n",
       "</table>\n",
       "<p>5 rows × 22 columns</p>\n",
       "</div>"
      ],
      "text/plain": [
       "                _index      _type      _id  _score   _source.tags  \\\n",
       "0  complaint-public-v2  complaint  3211475     0.0           None   \n",
       "1  complaint-public-v2  complaint  3229299     0.0  Servicemember   \n",
       "2  complaint-public-v2  complaint  3199379     0.0           None   \n",
       "3  complaint-public-v2  complaint  2673060     0.0           None   \n",
       "4  complaint-public-v2  complaint  3203545     0.0           None   \n",
       "\n",
       "  _source.zip_code _source.complaint_id                       _source.issue  \\\n",
       "0            90301              3211475   Attempts to collect debt not owed   \n",
       "1            319XX              3229299     Written notification about debt   \n",
       "2            77069              3199379  Other features, terms, or problems   \n",
       "3            48066              2673060      Trouble during payment process   \n",
       "4            10473              3203545                    Fees or interest   \n",
       "\n",
       "       _source.date_received _source.state  ... _source.company_response  \\\n",
       "0  2019-04-13T12:00:00-05:00            CA  ...  Closed with explanation   \n",
       "1  2019-05-01T12:00:00-05:00            GA  ...  Closed with explanation   \n",
       "2  2019-04-02T12:00:00-05:00            TX  ...  Closed with explanation   \n",
       "3  2017-09-13T12:00:00-05:00            MI  ...  Closed with explanation   \n",
       "4  2019-04-05T12:00:00-05:00            NY  ...  Closed with explanation   \n",
       "\n",
       "        _source.company _source.submitted_via _source.date_sent_to_company  \\\n",
       "0  JPMORGAN CHASE & CO.                   Web    2019-04-13T12:00:00-05:00   \n",
       "1  JPMORGAN CHASE & CO.                   Web    2019-05-01T12:00:00-05:00   \n",
       "2  JPMORGAN CHASE & CO.                   Web    2019-04-02T12:00:00-05:00   \n",
       "3  JPMORGAN CHASE & CO.                   Web    2017-09-14T12:00:00-05:00   \n",
       "4  JPMORGAN CHASE & CO.              Referral    2019-04-05T12:00:00-05:00   \n",
       "\n",
       "  _source.company_public_response                         _source.sub_product  \\\n",
       "0                            None                            Credit card debt   \n",
       "1                            None                            Credit card debt   \n",
       "2                            None  General-purpose credit card or charge card   \n",
       "3                            None                  Conventional home mortgage   \n",
       "4                            None  General-purpose credit card or charge card   \n",
       "\n",
       "  _source.timely                    _source.complaint_what_happened  \\\n",
       "0            Yes                                                      \n",
       "1            Yes  Good morning my name is XXXX XXXX and I apprec...   \n",
       "2            Yes  I upgraded my XXXX XXXX card in XX/XX/2018 and...   \n",
       "3            Yes                                                      \n",
       "4            Yes                                                      \n",
       "\n",
       "                                  _source.sub_issue  \\\n",
       "0                                 Debt is not yours   \n",
       "1  Didn't receive enough information to verify debt   \n",
       "2             Problem with rewards from credit card   \n",
       "3                                              None   \n",
       "4                         Charged too much interest   \n",
       "\n",
       "  _source.consumer_consent_provided  \n",
       "0              Consent not provided  \n",
       "1                  Consent provided  \n",
       "2                  Consent provided  \n",
       "3              Consent not provided  \n",
       "4                               N/A  \n",
       "\n",
       "[5 rows x 22 columns]"
      ]
     },
     "execution_count": 3,
     "metadata": {},
     "output_type": "execute_result"
    }
   ],
   "source": [
    "df = pd.json_normalize(data)\n",
    "df.head()"
   ]
  },
  {
   "cell_type": "code",
   "execution_count": 4,
   "metadata": {},
   "outputs": [
    {
     "name": "stdout",
     "output_type": "stream",
     "text": [
      "<class 'pandas.core.frame.DataFrame'>\n",
      "RangeIndex: 78313 entries, 0 to 78312\n",
      "Data columns (total 22 columns):\n",
      " #   Column                             Non-Null Count  Dtype  \n",
      "---  ------                             --------------  -----  \n",
      " 0   _index                             78313 non-null  object \n",
      " 1   _type                              78313 non-null  object \n",
      " 2   _id                                78313 non-null  object \n",
      " 3   _score                             78313 non-null  float64\n",
      " 4   _source.tags                       10900 non-null  object \n",
      " 5   _source.zip_code                   71556 non-null  object \n",
      " 6   _source.complaint_id               78313 non-null  object \n",
      " 7   _source.issue                      78313 non-null  object \n",
      " 8   _source.date_received              78313 non-null  object \n",
      " 9   _source.state                      76322 non-null  object \n",
      " 10  _source.consumer_disputed          78313 non-null  object \n",
      " 11  _source.product                    78313 non-null  object \n",
      " 12  _source.company_response           78313 non-null  object \n",
      " 13  _source.company                    78313 non-null  object \n",
      " 14  _source.submitted_via              78313 non-null  object \n",
      " 15  _source.date_sent_to_company       78313 non-null  object \n",
      " 16  _source.company_public_response    4 non-null      object \n",
      " 17  _source.sub_product                67742 non-null  object \n",
      " 18  _source.timely                     78313 non-null  object \n",
      " 19  _source.complaint_what_happened    78313 non-null  object \n",
      " 20  _source.sub_issue                  32016 non-null  object \n",
      " 21  _source.consumer_consent_provided  77305 non-null  object \n",
      "dtypes: float64(1), object(21)\n",
      "memory usage: 13.1+ MB\n"
     ]
    }
   ],
   "source": [
    "df.info()"
   ]
  },
  {
   "cell_type": "markdown",
   "metadata": {},
   "source": [
    "Seleccionamos las columnas relevantes"
   ]
  },
  {
   "cell_type": "code",
   "execution_count": 5,
   "metadata": {},
   "outputs": [],
   "source": [
    "df = df[['_source.complaint_what_happened', '_source.product', '_source.sub_product']]"
   ]
  },
  {
   "cell_type": "markdown",
   "metadata": {},
   "source": [
    "Renombrar las columnas para que sean mas legibles"
   ]
  },
  {
   "cell_type": "code",
   "execution_count": 6,
   "metadata": {},
   "outputs": [],
   "source": [
    "df.rename(columns={\n",
    "    '_source.complaint_what_happened': 'complaint_what_happened',\n",
    "    '_source.product': 'category',\n",
    "    '_source.sub_product': 'sub_product'\n",
    "}, inplace=True)"
   ]
  },
  {
   "cell_type": "markdown",
   "metadata": {},
   "source": [
    "Creamos una nueva columna ticket_classification"
   ]
  },
  {
   "cell_type": "code",
   "execution_count": 7,
   "metadata": {},
   "outputs": [],
   "source": [
    "df['ticket_classification'] = df['category'] + ' + ' + df['sub_product']"
   ]
  },
  {
   "cell_type": "markdown",
   "metadata": {},
   "source": [
    "Eliminamos columnas redundantes"
   ]
  },
  {
   "cell_type": "code",
   "execution_count": 8,
   "metadata": {},
   "outputs": [],
   "source": [
    "df.drop(columns=['category', 'sub_product'], inplace=True)"
   ]
  },
  {
   "cell_type": "markdown",
   "metadata": {},
   "source": [
    "Limpiamos los datos en la columna complaint_what_happened"
   ]
  },
  {
   "cell_type": "code",
   "execution_count": 9,
   "metadata": {},
   "outputs": [
    {
     "data": {
      "text/plain": [
       "0"
      ]
     },
     "execution_count": 9,
     "metadata": {},
     "output_type": "execute_result"
    }
   ],
   "source": [
    "# Contar los Nulos en complaint_what_happened\n",
    "df['complaint_what_happened'].isnull().sum()"
   ]
  },
  {
   "cell_type": "code",
   "execution_count": 10,
   "metadata": {},
   "outputs": [
    {
     "data": {
      "text/plain": [
       "57241"
      ]
     },
     "execution_count": 10,
     "metadata": {},
     "output_type": "execute_result"
    }
   ],
   "source": [
    "# Revisar si hay campos vacios en complaint_what_happened\n",
    "lambda x: x == ''\n",
    "df['complaint_what_happened'].apply(lambda x: x == '').sum()"
   ]
  },
  {
   "cell_type": "code",
   "execution_count": 11,
   "metadata": {},
   "outputs": [
    {
     "data": {
      "text/plain": [
       "0"
      ]
     },
     "execution_count": 11,
     "metadata": {},
     "output_type": "execute_result"
    }
   ],
   "source": [
    "# Revisar si hay nulos enmasacarados en complaint_what_happened\n",
    "lambda x: x == 'nan' or x == 'NaN' or x == 'NAN' or x == 'n/a' or x == 'N/A' or x == '' or x == ' '\n",
    "df['complaint_what_happened'].apply(lambda x: x == 'nan').sum()"
   ]
  },
  {
   "cell_type": "code",
   "execution_count": 12,
   "metadata": {},
   "outputs": [
    {
     "name": "stderr",
     "output_type": "stream",
     "text": [
      "C:\\Users\\diego\\AppData\\Local\\Temp\\ipykernel_14996\\3742695349.py:2: FutureWarning: A value is trying to be set on a copy of a DataFrame or Series through chained assignment using an inplace method.\n",
      "The behavior will change in pandas 3.0. This inplace method will never work because the intermediate object on which we are setting values always behaves as a copy.\n",
      "\n",
      "For example, when doing 'df[col].method(value, inplace=True)', try using 'df.method({col: value}, inplace=True)' or df[col] = df[col].method(value) instead, to perform the operation inplace on the original object.\n",
      "\n",
      "\n",
      "  df['complaint_what_happened'].replace('', pd.NA, inplace=True)\n"
     ]
    }
   ],
   "source": [
    "# Reemplazamos por el nulo de pandas\n",
    "df['complaint_what_happened'].replace('', pd.NA, inplace=True)"
   ]
  },
  {
   "cell_type": "code",
   "execution_count": 13,
   "metadata": {},
   "outputs": [
    {
     "data": {
      "text/plain": [
       "0"
      ]
     },
     "execution_count": 13,
     "metadata": {},
     "output_type": "execute_result"
    }
   ],
   "source": [
    "# Revisar si hay campos vacios en complaint_what_happened de nuevo\n",
    "lambda x: x == ''\n",
    "df['complaint_what_happened'].apply(lambda x: x == '').sum()"
   ]
  },
  {
   "cell_type": "code",
   "execution_count": 14,
   "metadata": {},
   "outputs": [
    {
     "data": {
      "text/plain": [
       "57241"
      ]
     },
     "execution_count": 14,
     "metadata": {},
     "output_type": "execute_result"
    }
   ],
   "source": [
    "# Contar los Nulos en complaint_what_happened otra vez\n",
    "df['complaint_what_happened'].isnull().sum()"
   ]
  },
  {
   "cell_type": "markdown",
   "metadata": {},
   "source": [
    "Eliminamos las filas con datos faltantes en complaint_what_happened y ticket_classification"
   ]
  },
  {
   "cell_type": "code",
   "execution_count": 15,
   "metadata": {},
   "outputs": [
    {
     "data": {
      "text/plain": [
       "10571"
      ]
     },
     "execution_count": 15,
     "metadata": {},
     "output_type": "execute_result"
    }
   ],
   "source": [
    "# Contral los nulos en ticket_classification y complaint_what_happened\n",
    "df['ticket_classification'].isnull().sum()"
   ]
  },
  {
   "cell_type": "code",
   "execution_count": 16,
   "metadata": {},
   "outputs": [
    {
     "data": {
      "text/plain": [
       "57241"
      ]
     },
     "execution_count": 16,
     "metadata": {},
     "output_type": "execute_result"
    }
   ],
   "source": [
    "df['complaint_what_happened'].isnull().sum()"
   ]
  },
  {
   "cell_type": "code",
   "execution_count": 17,
   "metadata": {},
   "outputs": [],
   "source": [
    "df.dropna(subset=['complaint_what_happened', 'ticket_classification'], inplace=True)"
   ]
  },
  {
   "cell_type": "code",
   "execution_count": 18,
   "metadata": {},
   "outputs": [
    {
     "data": {
      "text/plain": [
       "0"
      ]
     },
     "execution_count": 18,
     "metadata": {},
     "output_type": "execute_result"
    }
   ],
   "source": [
    "# Contar si se eliminaron los nulos\n",
    "df['complaint_what_happened'].isnull().sum()"
   ]
  },
  {
   "cell_type": "code",
   "execution_count": 19,
   "metadata": {},
   "outputs": [
    {
     "data": {
      "text/plain": [
       "0"
      ]
     },
     "execution_count": 19,
     "metadata": {},
     "output_type": "execute_result"
    }
   ],
   "source": [
    "df['ticket_classification'].isnull().sum()"
   ]
  },
  {
   "cell_type": "markdown",
   "metadata": {},
   "source": [
    "reiniciamos el indice en el dataframe para que si este consecutivo despues de eliminar filas"
   ]
  },
  {
   "cell_type": "code",
   "execution_count": 20,
   "metadata": {},
   "outputs": [],
   "source": [
    "df.reset_index(drop=True, inplace=True)"
   ]
  },
  {
   "cell_type": "code",
   "execution_count": 21,
   "metadata": {},
   "outputs": [
    {
     "data": {
      "text/html": [
       "<div>\n",
       "<style scoped>\n",
       "    .dataframe tbody tr th:only-of-type {\n",
       "        vertical-align: middle;\n",
       "    }\n",
       "\n",
       "    .dataframe tbody tr th {\n",
       "        vertical-align: top;\n",
       "    }\n",
       "\n",
       "    .dataframe thead th {\n",
       "        text-align: right;\n",
       "    }\n",
       "</style>\n",
       "<table border=\"1\" class=\"dataframe\">\n",
       "  <thead>\n",
       "    <tr style=\"text-align: right;\">\n",
       "      <th></th>\n",
       "      <th>complaint_what_happened</th>\n",
       "      <th>ticket_classification</th>\n",
       "    </tr>\n",
       "  </thead>\n",
       "  <tbody>\n",
       "    <tr>\n",
       "      <th>0</th>\n",
       "      <td>Good morning my name is XXXX XXXX and I apprec...</td>\n",
       "      <td>Debt collection + Credit card debt</td>\n",
       "    </tr>\n",
       "    <tr>\n",
       "      <th>1</th>\n",
       "      <td>I upgraded my XXXX XXXX card in XX/XX/2018 and...</td>\n",
       "      <td>Credit card or prepaid card + General-purpose ...</td>\n",
       "    </tr>\n",
       "    <tr>\n",
       "      <th>2</th>\n",
       "      <td>Chase Card was reported on XX/XX/2019. However...</td>\n",
       "      <td>Credit reporting, credit repair services, or o...</td>\n",
       "    </tr>\n",
       "    <tr>\n",
       "      <th>3</th>\n",
       "      <td>On XX/XX/2018, while trying to book a XXXX  XX...</td>\n",
       "      <td>Credit reporting, credit repair services, or o...</td>\n",
       "    </tr>\n",
       "    <tr>\n",
       "      <th>4</th>\n",
       "      <td>my grand son give me check for {$1600.00} i de...</td>\n",
       "      <td>Checking or savings account + Checking account</td>\n",
       "    </tr>\n",
       "    <tr>\n",
       "      <th>...</th>\n",
       "      <td>...</td>\n",
       "      <td>...</td>\n",
       "    </tr>\n",
       "    <tr>\n",
       "      <th>18958</th>\n",
       "      <td>My husband passed away. Chase bank put check o...</td>\n",
       "      <td>Checking or savings account + Checking account</td>\n",
       "    </tr>\n",
       "    <tr>\n",
       "      <th>18959</th>\n",
       "      <td>After being a Chase Card customer for well ove...</td>\n",
       "      <td>Credit card or prepaid card + General-purpose ...</td>\n",
       "    </tr>\n",
       "    <tr>\n",
       "      <th>18960</th>\n",
       "      <td>On Wednesday, XX/XX/XXXX I called Chas, my XXX...</td>\n",
       "      <td>Credit card or prepaid card + General-purpose ...</td>\n",
       "    </tr>\n",
       "    <tr>\n",
       "      <th>18961</th>\n",
       "      <td>I am not familiar with XXXX pay and did not un...</td>\n",
       "      <td>Checking or savings account + Checking account</td>\n",
       "    </tr>\n",
       "    <tr>\n",
       "      <th>18962</th>\n",
       "      <td>I have had flawless credit for 30 yrs. I've ha...</td>\n",
       "      <td>Credit card or prepaid card + General-purpose ...</td>\n",
       "    </tr>\n",
       "  </tbody>\n",
       "</table>\n",
       "<p>18963 rows × 2 columns</p>\n",
       "</div>"
      ],
      "text/plain": [
       "                                 complaint_what_happened  \\\n",
       "0      Good morning my name is XXXX XXXX and I apprec...   \n",
       "1      I upgraded my XXXX XXXX card in XX/XX/2018 and...   \n",
       "2      Chase Card was reported on XX/XX/2019. However...   \n",
       "3      On XX/XX/2018, while trying to book a XXXX  XX...   \n",
       "4      my grand son give me check for {$1600.00} i de...   \n",
       "...                                                  ...   \n",
       "18958  My husband passed away. Chase bank put check o...   \n",
       "18959  After being a Chase Card customer for well ove...   \n",
       "18960  On Wednesday, XX/XX/XXXX I called Chas, my XXX...   \n",
       "18961  I am not familiar with XXXX pay and did not un...   \n",
       "18962  I have had flawless credit for 30 yrs. I've ha...   \n",
       "\n",
       "                                   ticket_classification  \n",
       "0                     Debt collection + Credit card debt  \n",
       "1      Credit card or prepaid card + General-purpose ...  \n",
       "2      Credit reporting, credit repair services, or o...  \n",
       "3      Credit reporting, credit repair services, or o...  \n",
       "4         Checking or savings account + Checking account  \n",
       "...                                                  ...  \n",
       "18958     Checking or savings account + Checking account  \n",
       "18959  Credit card or prepaid card + General-purpose ...  \n",
       "18960  Credit card or prepaid card + General-purpose ...  \n",
       "18961     Checking or savings account + Checking account  \n",
       "18962  Credit card or prepaid card + General-purpose ...  \n",
       "\n",
       "[18963 rows x 2 columns]"
      ]
     },
     "execution_count": 21,
     "metadata": {},
     "output_type": "execute_result"
    }
   ],
   "source": [
    "df"
   ]
  },
  {
   "cell_type": "markdown",
   "metadata": {},
   "source": [
    "Guardamos el dataframe limpio en un nuevo archivo CSV"
   ]
  },
  {
   "cell_type": "code",
   "execution_count": 22,
   "metadata": {},
   "outputs": [],
   "source": [
    "import os\n",
    "\n",
    "# Creamos la carpeta clean_data si no existe\n",
    "os.makedirs('data/clean_data', exist_ok=True)\n",
    "\n",
    "df.to_csv('data/clean_data/cleaned_tickets.csv', index=False)"
   ]
  },
  {
   "cell_type": "markdown",
   "metadata": {},
   "source": [
    "## EDA"
   ]
  },
  {
   "cell_type": "code",
   "execution_count": 23,
   "metadata": {},
   "outputs": [
    {
     "data": {
      "text/html": [
       "<div>\n",
       "<style scoped>\n",
       "    .dataframe tbody tr th:only-of-type {\n",
       "        vertical-align: middle;\n",
       "    }\n",
       "\n",
       "    .dataframe tbody tr th {\n",
       "        vertical-align: top;\n",
       "    }\n",
       "\n",
       "    .dataframe thead th {\n",
       "        text-align: right;\n",
       "    }\n",
       "</style>\n",
       "<table border=\"1\" class=\"dataframe\">\n",
       "  <thead>\n",
       "    <tr style=\"text-align: right;\">\n",
       "      <th></th>\n",
       "      <th>complaint_what_happened</th>\n",
       "      <th>ticket_classification</th>\n",
       "    </tr>\n",
       "  </thead>\n",
       "  <tbody>\n",
       "    <tr>\n",
       "      <th>0</th>\n",
       "      <td>Good morning my name is XXXX XXXX and I apprec...</td>\n",
       "      <td>Debt collection + Credit card debt</td>\n",
       "    </tr>\n",
       "    <tr>\n",
       "      <th>1</th>\n",
       "      <td>I upgraded my XXXX XXXX card in XX/XX/2018 and...</td>\n",
       "      <td>Credit card or prepaid card + General-purpose ...</td>\n",
       "    </tr>\n",
       "    <tr>\n",
       "      <th>2</th>\n",
       "      <td>Chase Card was reported on XX/XX/2019. However...</td>\n",
       "      <td>Credit reporting, credit repair services, or o...</td>\n",
       "    </tr>\n",
       "    <tr>\n",
       "      <th>3</th>\n",
       "      <td>On XX/XX/2018, while trying to book a XXXX  XX...</td>\n",
       "      <td>Credit reporting, credit repair services, or o...</td>\n",
       "    </tr>\n",
       "    <tr>\n",
       "      <th>4</th>\n",
       "      <td>my grand son give me check for {$1600.00} i de...</td>\n",
       "      <td>Checking or savings account + Checking account</td>\n",
       "    </tr>\n",
       "    <tr>\n",
       "      <th>...</th>\n",
       "      <td>...</td>\n",
       "      <td>...</td>\n",
       "    </tr>\n",
       "    <tr>\n",
       "      <th>18958</th>\n",
       "      <td>My husband passed away. Chase bank put check o...</td>\n",
       "      <td>Checking or savings account + Checking account</td>\n",
       "    </tr>\n",
       "    <tr>\n",
       "      <th>18959</th>\n",
       "      <td>After being a Chase Card customer for well ove...</td>\n",
       "      <td>Credit card or prepaid card + General-purpose ...</td>\n",
       "    </tr>\n",
       "    <tr>\n",
       "      <th>18960</th>\n",
       "      <td>On Wednesday, XX/XX/XXXX I called Chas, my XXX...</td>\n",
       "      <td>Credit card or prepaid card + General-purpose ...</td>\n",
       "    </tr>\n",
       "    <tr>\n",
       "      <th>18961</th>\n",
       "      <td>I am not familiar with XXXX pay and did not un...</td>\n",
       "      <td>Checking or savings account + Checking account</td>\n",
       "    </tr>\n",
       "    <tr>\n",
       "      <th>18962</th>\n",
       "      <td>I have had flawless credit for 30 yrs. I've ha...</td>\n",
       "      <td>Credit card or prepaid card + General-purpose ...</td>\n",
       "    </tr>\n",
       "  </tbody>\n",
       "</table>\n",
       "<p>18963 rows × 2 columns</p>\n",
       "</div>"
      ],
      "text/plain": [
       "                                 complaint_what_happened  \\\n",
       "0      Good morning my name is XXXX XXXX and I apprec...   \n",
       "1      I upgraded my XXXX XXXX card in XX/XX/2018 and...   \n",
       "2      Chase Card was reported on XX/XX/2019. However...   \n",
       "3      On XX/XX/2018, while trying to book a XXXX  XX...   \n",
       "4      my grand son give me check for {$1600.00} i de...   \n",
       "...                                                  ...   \n",
       "18958  My husband passed away. Chase bank put check o...   \n",
       "18959  After being a Chase Card customer for well ove...   \n",
       "18960  On Wednesday, XX/XX/XXXX I called Chas, my XXX...   \n",
       "18961  I am not familiar with XXXX pay and did not un...   \n",
       "18962  I have had flawless credit for 30 yrs. I've ha...   \n",
       "\n",
       "                                   ticket_classification  \n",
       "0                     Debt collection + Credit card debt  \n",
       "1      Credit card or prepaid card + General-purpose ...  \n",
       "2      Credit reporting, credit repair services, or o...  \n",
       "3      Credit reporting, credit repair services, or o...  \n",
       "4         Checking or savings account + Checking account  \n",
       "...                                                  ...  \n",
       "18958     Checking or savings account + Checking account  \n",
       "18959  Credit card or prepaid card + General-purpose ...  \n",
       "18960  Credit card or prepaid card + General-purpose ...  \n",
       "18961     Checking or savings account + Checking account  \n",
       "18962  Credit card or prepaid card + General-purpose ...  \n",
       "\n",
       "[18963 rows x 2 columns]"
      ]
     },
     "execution_count": 23,
     "metadata": {},
     "output_type": "execute_result"
    }
   ],
   "source": [
    "df = pd.read_csv('./data/clean_data/cleaned_tickets.csv')\n",
    "df"
   ]
  },
  {
   "cell_type": "markdown",
   "metadata": {},
   "source": [
    "Vemos el contenido de las primeras filas para ver como quedo el dataframe"
   ]
  },
  {
   "cell_type": "code",
   "execution_count": 24,
   "metadata": {},
   "outputs": [
    {
     "data": {
      "text/html": [
       "<div>\n",
       "<style scoped>\n",
       "    .dataframe tbody tr th:only-of-type {\n",
       "        vertical-align: middle;\n",
       "    }\n",
       "\n",
       "    .dataframe tbody tr th {\n",
       "        vertical-align: top;\n",
       "    }\n",
       "\n",
       "    .dataframe thead th {\n",
       "        text-align: right;\n",
       "    }\n",
       "</style>\n",
       "<table border=\"1\" class=\"dataframe\">\n",
       "  <thead>\n",
       "    <tr style=\"text-align: right;\">\n",
       "      <th></th>\n",
       "      <th>complaint_what_happened</th>\n",
       "      <th>ticket_classification</th>\n",
       "    </tr>\n",
       "  </thead>\n",
       "  <tbody>\n",
       "    <tr>\n",
       "      <th>0</th>\n",
       "      <td>Good morning my name is XXXX XXXX and I apprec...</td>\n",
       "      <td>Debt collection + Credit card debt</td>\n",
       "    </tr>\n",
       "    <tr>\n",
       "      <th>1</th>\n",
       "      <td>I upgraded my XXXX XXXX card in XX/XX/2018 and...</td>\n",
       "      <td>Credit card or prepaid card + General-purpose ...</td>\n",
       "    </tr>\n",
       "    <tr>\n",
       "      <th>2</th>\n",
       "      <td>Chase Card was reported on XX/XX/2019. However...</td>\n",
       "      <td>Credit reporting, credit repair services, or o...</td>\n",
       "    </tr>\n",
       "    <tr>\n",
       "      <th>3</th>\n",
       "      <td>On XX/XX/2018, while trying to book a XXXX  XX...</td>\n",
       "      <td>Credit reporting, credit repair services, or o...</td>\n",
       "    </tr>\n",
       "    <tr>\n",
       "      <th>4</th>\n",
       "      <td>my grand son give me check for {$1600.00} i de...</td>\n",
       "      <td>Checking or savings account + Checking account</td>\n",
       "    </tr>\n",
       "  </tbody>\n",
       "</table>\n",
       "</div>"
      ],
      "text/plain": [
       "                             complaint_what_happened  \\\n",
       "0  Good morning my name is XXXX XXXX and I apprec...   \n",
       "1  I upgraded my XXXX XXXX card in XX/XX/2018 and...   \n",
       "2  Chase Card was reported on XX/XX/2019. However...   \n",
       "3  On XX/XX/2018, while trying to book a XXXX  XX...   \n",
       "4  my grand son give me check for {$1600.00} i de...   \n",
       "\n",
       "                               ticket_classification  \n",
       "0                 Debt collection + Credit card debt  \n",
       "1  Credit card or prepaid card + General-purpose ...  \n",
       "2  Credit reporting, credit repair services, or o...  \n",
       "3  Credit reporting, credit repair services, or o...  \n",
       "4     Checking or savings account + Checking account  "
      ]
     },
     "execution_count": 24,
     "metadata": {},
     "output_type": "execute_result"
    }
   ],
   "source": [
    "df.head()"
   ]
  },
  {
   "cell_type": "markdown",
   "metadata": {},
   "source": [
    "complaint_what_happened: Contiene el texto de la queja del cliente.\n",
    "ticket_classification: Es la combinación de la categoría y subcategoría del producto afectado."
   ]
  },
  {
   "cell_type": "markdown",
   "metadata": {},
   "source": [
    "Sacamos información del dataset"
   ]
  },
  {
   "cell_type": "code",
   "execution_count": 25,
   "metadata": {},
   "outputs": [
    {
     "name": "stdout",
     "output_type": "stream",
     "text": [
      "<class 'pandas.core.frame.DataFrame'>\n",
      "RangeIndex: 18963 entries, 0 to 18962\n",
      "Data columns (total 2 columns):\n",
      " #   Column                   Non-Null Count  Dtype \n",
      "---  ------                   --------------  ----- \n",
      " 0   complaint_what_happened  18963 non-null  object\n",
      " 1   ticket_classification    18963 non-null  object\n",
      "dtypes: object(2)\n",
      "memory usage: 296.4+ KB\n"
     ]
    }
   ],
   "source": [
    "df.info()"
   ]
  },
  {
   "cell_type": "markdown",
   "metadata": {},
   "source": [
    "Ambas columnas son de tipo object, porque contienen texto."
   ]
  },
  {
   "cell_type": "code",
   "execution_count": 26,
   "metadata": {},
   "outputs": [
    {
     "data": {
      "text/html": [
       "<div>\n",
       "<style scoped>\n",
       "    .dataframe tbody tr th:only-of-type {\n",
       "        vertical-align: middle;\n",
       "    }\n",
       "\n",
       "    .dataframe tbody tr th {\n",
       "        vertical-align: top;\n",
       "    }\n",
       "\n",
       "    .dataframe thead th {\n",
       "        text-align: right;\n",
       "    }\n",
       "</style>\n",
       "<table border=\"1\" class=\"dataframe\">\n",
       "  <thead>\n",
       "    <tr style=\"text-align: right;\">\n",
       "      <th></th>\n",
       "      <th>complaint_what_happened</th>\n",
       "      <th>ticket_classification</th>\n",
       "    </tr>\n",
       "  </thead>\n",
       "  <tbody>\n",
       "    <tr>\n",
       "      <th>count</th>\n",
       "      <td>18963</td>\n",
       "      <td>18963</td>\n",
       "    </tr>\n",
       "    <tr>\n",
       "      <th>unique</th>\n",
       "      <td>18824</td>\n",
       "      <td>78</td>\n",
       "    </tr>\n",
       "    <tr>\n",
       "      <th>top</th>\n",
       "      <td>Chase has violated 15 USC 1692 by continuing c...</td>\n",
       "      <td>Credit card or prepaid card + General-purpose ...</td>\n",
       "    </tr>\n",
       "    <tr>\n",
       "      <th>freq</th>\n",
       "      <td>11</td>\n",
       "      <td>4918</td>\n",
       "    </tr>\n",
       "  </tbody>\n",
       "</table>\n",
       "</div>"
      ],
      "text/plain": [
       "                                  complaint_what_happened  \\\n",
       "count                                               18963   \n",
       "unique                                              18824   \n",
       "top     Chase has violated 15 USC 1692 by continuing c...   \n",
       "freq                                                   11   \n",
       "\n",
       "                                    ticket_classification  \n",
       "count                                               18963  \n",
       "unique                                                 78  \n",
       "top     Credit card or prepaid card + General-purpose ...  \n",
       "freq                                                 4918  "
      ]
     },
     "execution_count": 26,
     "metadata": {},
     "output_type": "execute_result"
    }
   ],
   "source": [
    "df.describe()"
   ]
  },
  {
   "cell_type": "markdown",
   "metadata": {},
   "source": [
    "complaint_what_happened:\n",
    "\n",
    "- count: 18,963 (número total de quejas).\n",
    "- unique: 18,824 (número de quejas únicas).\n",
    "- top: El texto de la queja más frecuente.\n",
    "- freq: 11 (esta queja específica aparece 11 veces).\n",
    "\n",
    "ticket_classification:\n",
    "\n",
    "- count: 18,963.\n",
    "- unique: 78 (número de clasificaciones únicas).\n",
    "- top: \"Credit card or prepaid card + General-purpose credit card or charge card\".\n",
    "- freq: 4,918 (esta clasificación aparece 4,918 veces).\n",
    "\n",
    "Interpretación:\n",
    "\n",
    "- La mayoría de las quejas son únicas, entonces hay varios problemas reportados.\n",
    "- La clasificación de tickets más común está relacionada con tarjetas de crédito, lo que mas les importa los clientes."
   ]
  },
  {
   "cell_type": "markdown",
   "metadata": {},
   "source": [
    "Analizamos como se distribuyen las categorias en el dataset"
   ]
  },
  {
   "cell_type": "code",
   "execution_count": 27,
   "metadata": {},
   "outputs": [
    {
     "data": {
      "text/plain": [
       "ticket_classification\n",
       "Credit card or prepaid card + General-purpose credit card or charge card                           4918\n",
       "Checking or savings account + Checking account                                                     3788\n",
       "Credit reporting, credit repair services, or other personal consumer reports + Credit reporting    2011\n",
       "Bank account or service + Checking account                                                         1242\n",
       "Mortgage + Conventional home mortgage                                                               955\n",
       "Mortgage + Conventional fixed mortgage                                                              785\n",
       "Mortgage + FHA mortgage                                                                             496\n",
       "Debt collection + Credit card debt                                                                  427\n",
       "Money transfer, virtual currency, or money service + Domestic (US) money transfer                   344\n",
       "Bank account or service + Other bank product/service                                                301\n",
       "Name: count, dtype: int64"
      ]
     },
     "execution_count": 27,
     "metadata": {},
     "output_type": "execute_result"
    }
   ],
   "source": [
    "ticket_counts = df['ticket_classification'].value_counts()\n",
    "ticket_counts.head(10)"
   ]
  },
  {
   "cell_type": "markdown",
   "metadata": {},
   "source": [
    "Vemos las categorias mas frecuentes en el dataset"
   ]
  },
  {
   "cell_type": "code",
   "execution_count": 28,
   "metadata": {},
   "outputs": [
    {
     "data": {
      "image/png": "[encoded data removed]",
      "text/plain": [
       "<Figure size 1000x600 with 1 Axes>"
      ]
     },
     "metadata": {},
     "output_type": "display_data"
    }
   ],
   "source": [
    "import matplotlib.pyplot as plt\n",
    "\n",
    "ticket_counts.head(10).plot(kind='barh', figsize=(10,6))\n",
    "plt.xlabel('Número de Quejas')\n",
    "plt.ylabel('Clasificación del Ticket')\n",
    "plt.title('Top 10 Clasificaciones de Tickets Más Frecuentes')\n",
    "plt.gca().invert_yaxis()\n",
    "plt.show()"
   ]
  },
  {
   "cell_type": "markdown",
   "metadata": {},
   "source": [
    "Interpretación:\n",
    "\n",
    "- Las quejas relacionadas con tarjetas de crédito y cuentas corrientes son las más comunes.\n",
    "- Los problemas con informes de crédito y hipotecas también son comunes.\n",
    "- La empresa podría enfocarse para mejorar el servicio al cliente y reducir el número de quejas."
   ]
  },
  {
   "cell_type": "markdown",
   "metadata": {},
   "source": [
    "Vemos la longitud de los textos de las quejas"
   ]
  },
  {
   "cell_type": "code",
   "execution_count": 29,
   "metadata": {},
   "outputs": [
    {
     "data": {
      "text/plain": [
       "count    18963.000000\n",
       "mean      1411.152349\n",
       "std       1550.977004\n",
       "min         19.000000\n",
       "25%        536.000000\n",
       "50%        999.000000\n",
       "75%       1760.000000\n",
       "max      31611.000000\n",
       "Name: complaint_length, dtype: float64"
      ]
     },
     "execution_count": 29,
     "metadata": {},
     "output_type": "execute_result"
    }
   ],
   "source": [
    "df['complaint_length'] = df['complaint_what_happened'].str.len()\n",
    "df['complaint_length'].describe()"
   ]
  },
  {
   "cell_type": "markdown",
   "metadata": {},
   "source": [
    "complaint_length:\n",
    "\n",
    "- count: 18,963 (número total de quejas analizadas).\n",
    "- mean: 1,411.15 caracteres (longitud media de las quejas).\n",
    "- std: 1,550.98 caracteres (desviación estándar, alta variabilidad).\n",
    "- min: 19 caracteres (queja más corta).\n",
    "- 25%: 536 caracteres (el 25% de las quejas tienen menos de 536 caracteres).\n",
    "- 50% (mediana): 999 caracteres.\n",
    "- 75%: 1,760 caracteres (el 75% de las quejas tienen menos de 1,760 caracteres).\n",
    "- max: 31,611 caracteres (queja más larga).\n",
    "\n",
    "Interpretación:\n",
    "\n",
    "- La longitud de las quejas varía mucho, desde muy cortas (19 caracteres) hasta muy largas (más de 31,000 caracteres).\n",
    "- La mediana de 999 caracteres indica que la mitad de las quejas tienen menos de 1,000 caracteres.\n",
    "- La alta desviación estándar inidcA que hay quejas MUY largas que podrían afectar el análisis y el procesamiento de texto.\n",
    "-   Veremos como afecta la variabilidad al preprocesar los datos para el modelado."
   ]
  },
  {
   "cell_type": "code",
   "execution_count": 30,
   "metadata": {},
   "outputs": [
    {
     "data": {
      "image/png": "[encoded data removed]",
      "text/plain": [
       "<Figure size 1000x600 with 1 Axes>"
      ]
     },
     "metadata": {},
     "output_type": "display_data"
    }
   ],
   "source": [
    "df['complaint_length'].hist(bins=50, figsize=(10,6))\n",
    "plt.xlabel('Longitud de la Queja')\n",
    "plt.ylabel('Frecuencia')\n",
    "plt.title('Distribución de la Longitud de las Quejas')\n",
    "plt.show()"
   ]
  },
  {
   "cell_type": "markdown",
   "metadata": {},
   "source": [
    "**Conclusiones Generales del EDA:**\n",
    "\n",
    "1. **Diversidad en las Quejas:**  \n",
    "   La mayoría de las quejas son únicas, las repetidas podrian ser del mismo usuario. Esto implica que el modelo debe ser capaz de manejar una variedad de temas y vocabulario.\n",
    "\n",
    "2. **Áreas Principales de Quejas:**  \n",
    "   Las categorías más frecuentes son:\n",
    "   - Tarjetas de crédito y tarjetas prepagas.\n",
    "   - Cuentas corrientes y de ahorro.\n",
    "   - Informes de crédito y servicios de reparación de crédito.\n",
    "   - Hipotecas.  \n",
    "   \n",
    "   Estas áreas son los principales puntos para los clientes y podrían ser utiles para mejorar los servicios y productos ofrecidos.\n",
    "\n",
    "3. **Desbalance de Clases:**  \n",
    "   Existe un desbalance en las clases de `ticket_classification`, con algunas categorías siendo mucho más frecuentes que otras. Esto deberiamos verlo durante el entrenamiento del modelo para evitar sesgos y mejorar la precisión en categorías menos representadas.\n",
    "\n",
    "4. **Variabilidad en la Longitud de las Quejas:**  \n",
    "   - Las quejas varían desde muy cortas hasta muuy largas.  \n",
    "   - El preprocesamiento de texto deberá manejar eficientemente esta variabilidad, tal vez limitando la longitud máxima o utilizando técnicas que capturen información relevante independientemente de la longitud.\n",
    "\n",
    "5. **Posibles Datos Duplicados:**  \n",
    "   La existencia de una queja que aparece 11 veces sugiere posibles duplicados. Aunque el número es pequeño en relación al total de registros, podría ser beneficioso eliminar duplicados para mejorar la calidad del modelo."
   ]
  },
  {
   "cell_type": "markdown",
   "metadata": {},
   "source": [
    "**Implicaciones para el Modelado:**\n",
    "\n",
    "- **Preprocesamiento de Texto:**\n",
    "  - Limpiar y normalizar el texto (eliminar signos de puntuación, convertir a minúsculas, eliminar stopwords, etc.).\n",
    "  - Considerar técnicas de lematización o stemming para reducir palabras a su forma base.\n",
    "  - Manejar las quejas extremadamente largas y cortas, posiblemente estableciendo umbrales o utilizando padding/truncamiento.\n",
    "\n",
    "- **Representación de Texto:**\n",
    "  - Convertir el texto en representaciones numéricas utilizando técnicas como Bag of Words, TF-IDF, o embeddings como Word2Vec, GloVe, o modelos basados en Transformers (por ejemplo, BERT).\n",
    "\n",
    "- **Manejo del Desbalance de Clases:**\n",
    "  - Utilizar técnicas de resampling como sobremuestreo de clases minoritarias o submuestreo de clases mayoritarias.\n",
    "  - Aplicar técnicas como penalización de clases en los algoritmos de aprendizaje o utilizar algoritmos robustos al desbalance de clases.\n",
    "\n",
    "- **Selección de Modelos:**\n",
    "  - Probar diferentes algoritmos de clasificación como Naive Bayes, Random Forest, Support Vector Machines, y modelos de Deep Learning.\n",
    "  - Evaluar el desempeño con métricas adecuadas para clasificación multiclase y desbalanceada (por ejemplo, F1-score macro y weighted).\n",
    "\n",
    "- **Validación Cruzada y Tuning de Hiperparámetros:**\n",
    "  - Utilizar validación cruzada para obtener estimaciones más fiables del desempeño del modelo.\n",
    "  - Realizar tuning de hiperparámetros utilizando técnicas como Grid Search o Random Search, posiblemente integrando con `mlflow` para el tracking de experimentos.\n"
   ]
  },
  {
   "cell_type": "markdown",
   "metadata": {},
   "source": [
    "**Siguientes Pasos:**\n",
    "\n",
    "1. **Ingeniería de Características y Preprocesamiento:**\n",
    "   - Implementar las técnicas de preprocesamiento mencionadas.\n",
    "   - Convertir el texto a una representación numérica adecuada.\n",
    "\n",
    "2. **Entrenamiento y Evaluación de Modelos:**\n",
    "   - Entrenar al menos dos modelos diferentes.\n",
    "   - Realizar tuning de hiperparámetros para cada modelo.\n",
    "   - Utilizar `mlflow` para el tracking de experimentos y registrar los modelos.\n",
    "\n",
    "3. **Selección de Modelos Champion y Challenger:**\n",
    "   - Seleccionar el modelo con mejor desempeño como Champion.\n",
    "   - Seleccionar el segundo mejor modelo como Challenger.\n",
    "   - Registrar ambos modelos en el Model Registry de `mlflow`.\n",
    "\n",
    "4. **Implementación de la API y Frontend:**\n",
    "   - Desplegar el modelo Champion mediante una API utilizando `fastapi` u otro framework.\n",
    "   - Desarrollar un frontend sencillo con `streamlit` u otro framework para interactuar con la API.\n",
    "\n",
    "5. **Orquestación y Contenerización:**\n",
    "   - Crear un script con Prefect para orquestar el flujo de entrenamiento y registro de modelos.\n",
    "   - Utilizar `docker-compose` para crear contenedores de la API y el frontend."
   ]
  },
  {
   "cell_type": "markdown",
   "metadata": {},
   "source": [
    "# Feature Engineering y Preprocesamiento de Datos\n",
    "\n",
    "Preprocesaremos el texto y convertiremos las quejas en una representación numérica que pueda ser utilizada por algoritmos de machine learning."
   ]
  },
  {
   "cell_type": "code",
   "execution_count": 31,
   "metadata": {},
   "outputs": [],
   "source": [
    "import nltk\n",
    "from nltk.corpus import stopwords\n",
    "from nltk.stem import WordNetLemmatizer\n",
    "import string\n",
    "import re\n",
    "\n",
    "from sklearn.model_selection import train_test_split\n",
    "from sklearn.feature_extraction.text import TfidfVectorizer"
   ]
  },
  {
   "cell_type": "code",
   "execution_count": 32,
   "metadata": {},
   "outputs": [
    {
     "name": "stderr",
     "output_type": "stream",
     "text": [
      "[nltk_data] Downloading package stopwords to\n",
      "[nltk_data]     C:\\Users\\diego\\AppData\\Roaming\\nltk_data...\n",
      "[nltk_data]   Package stopwords is already up-to-date!\n",
      "[nltk_data] Downloading package wordnet to\n",
      "[nltk_data]     C:\\Users\\diego\\AppData\\Roaming\\nltk_data...\n",
      "[nltk_data]   Package wordnet is already up-to-date!\n",
      "[nltk_data] Downloading package omw-1.4 to\n",
      "[nltk_data]     C:\\Users\\diego\\AppData\\Roaming\\nltk_data...\n",
      "[nltk_data]   Package omw-1.4 is already up-to-date!\n"
     ]
    },
    {
     "data": {
      "text/plain": [
       "True"
      ]
     },
     "execution_count": 32,
     "metadata": {},
     "output_type": "execute_result"
    }
   ],
   "source": [
    "# Descargar las stopwords y el lematizador de nltk\n",
    "nltk.download('stopwords')\n",
    "nltk.download('wordnet')\n",
    "nltk.download('omw-1.4')"
   ]
  },
  {
   "cell_type": "markdown",
   "metadata": {},
   "source": [
    "Funcion para preprocesar y limpiar el texto de las quejas"
   ]
  },
  {
   "cell_type": "code",
   "execution_count": 33,
   "metadata": {},
   "outputs": [],
   "source": [
    "def preprocess_text(text):\n",
    "    # Convertir a minúsculas\n",
    "    text = text.lower()\n",
    "    \n",
    "    # Eliminar URLs y direcciones de correo electrónico\n",
    "    text = re.sub(r'http\\S+|www.\\S+|@\\S+', '', text)\n",
    "    \n",
    "    # Eliminar números y caracteres especiales\n",
    "    text = re.sub(r'[^a-zA-Z\\s]', '', text)\n",
    "    \n",
    "    # Tokenización\n",
    "    tokens = text.split()\n",
    "    \n",
    "    # Eliminar stopwords\n",
    "    stop_words = set(stopwords.words('english'))\n",
    "    tokens = [word for word in tokens if word not in stop_words]\n",
    "    \n",
    "    # Lematización\n",
    "    lemmatizer = WordNetLemmatizer()\n",
    "    tokens = [lemmatizer.lemmatize(word) for word in tokens]\n",
    "    \n",
    "    # Reconstruir el texto\n",
    "    text = ' '.join(tokens)\n",
    "    return text"
   ]
  },
  {
   "cell_type": "code",
   "execution_count": 34,
   "metadata": {},
   "outputs": [],
   "source": [
    "#Aplicamos la función de preprocesamiento a la columna complaint_what_happened.\n",
    "df['clean_complaint'] = df['complaint_what_happened'].apply(preprocess_text)"
   ]
  },
  {
   "cell_type": "code",
   "execution_count": 36,
   "metadata": {},
   "outputs": [
    {
     "data": {
      "text/html": [
       "<div>\n",
       "<style scoped>\n",
       "    .dataframe tbody tr th:only-of-type {\n",
       "        vertical-align: middle;\n",
       "    }\n",
       "\n",
       "    .dataframe tbody tr th {\n",
       "        vertical-align: top;\n",
       "    }\n",
       "\n",
       "    .dataframe thead th {\n",
       "        text-align: right;\n",
       "    }\n",
       "</style>\n",
       "<table border=\"1\" class=\"dataframe\">\n",
       "  <thead>\n",
       "    <tr style=\"text-align: right;\">\n",
       "      <th></th>\n",
       "      <th>complaint_what_happened</th>\n",
       "      <th>clean_complaint</th>\n",
       "    </tr>\n",
       "  </thead>\n",
       "  <tbody>\n",
       "    <tr>\n",
       "      <th>0</th>\n",
       "      <td>Good morning my name is XXXX XXXX and I apprec...</td>\n",
       "      <td>good morning name xxxx xxxx appreciate could h...</td>\n",
       "    </tr>\n",
       "    <tr>\n",
       "      <th>1</th>\n",
       "      <td>I upgraded my XXXX XXXX card in XX/XX/2018 and...</td>\n",
       "      <td>upgraded xxxx xxxx card xxxx told agent upgrad...</td>\n",
       "    </tr>\n",
       "    <tr>\n",
       "      <th>2</th>\n",
       "      <td>Chase Card was reported on XX/XX/2019. However...</td>\n",
       "      <td>chase card reported xxxx however fraudulent ap...</td>\n",
       "    </tr>\n",
       "    <tr>\n",
       "      <th>3</th>\n",
       "      <td>On XX/XX/2018, while trying to book a XXXX  XX...</td>\n",
       "      <td>xxxx trying book xxxx xxxx ticket came across ...</td>\n",
       "    </tr>\n",
       "    <tr>\n",
       "      <th>4</th>\n",
       "      <td>my grand son give me check for {$1600.00} i de...</td>\n",
       "      <td>grand son give check deposit chase account fun...</td>\n",
       "    </tr>\n",
       "    <tr>\n",
       "      <th>...</th>\n",
       "      <td>...</td>\n",
       "      <td>...</td>\n",
       "    </tr>\n",
       "    <tr>\n",
       "      <th>18958</th>\n",
       "      <td>My husband passed away. Chase bank put check o...</td>\n",
       "      <td>husband passed away chase bank put check hold ...</td>\n",
       "    </tr>\n",
       "    <tr>\n",
       "      <th>18959</th>\n",
       "      <td>After being a Chase Card customer for well ove...</td>\n",
       "      <td>chase card customer well decade offered multip...</td>\n",
       "    </tr>\n",
       "    <tr>\n",
       "      <th>18960</th>\n",
       "      <td>On Wednesday, XX/XX/XXXX I called Chas, my XXX...</td>\n",
       "      <td>wednesday xxxxxxxx called chas xxxx xxxx visa ...</td>\n",
       "    </tr>\n",
       "    <tr>\n",
       "      <th>18961</th>\n",
       "      <td>I am not familiar with XXXX pay and did not un...</td>\n",
       "      <td>familiar xxxx pay understand great risk provid...</td>\n",
       "    </tr>\n",
       "    <tr>\n",
       "      <th>18962</th>\n",
       "      <td>I have had flawless credit for 30 yrs. I've ha...</td>\n",
       "      <td>flawless credit yr ive chase credit card chase...</td>\n",
       "    </tr>\n",
       "  </tbody>\n",
       "</table>\n",
       "<p>18963 rows × 2 columns</p>\n",
       "</div>"
      ],
      "text/plain": [
       "                                 complaint_what_happened  \\\n",
       "0      Good morning my name is XXXX XXXX and I apprec...   \n",
       "1      I upgraded my XXXX XXXX card in XX/XX/2018 and...   \n",
       "2      Chase Card was reported on XX/XX/2019. However...   \n",
       "3      On XX/XX/2018, while trying to book a XXXX  XX...   \n",
       "4      my grand son give me check for {$1600.00} i de...   \n",
       "...                                                  ...   \n",
       "18958  My husband passed away. Chase bank put check o...   \n",
       "18959  After being a Chase Card customer for well ove...   \n",
       "18960  On Wednesday, XX/XX/XXXX I called Chas, my XXX...   \n",
       "18961  I am not familiar with XXXX pay and did not un...   \n",
       "18962  I have had flawless credit for 30 yrs. I've ha...   \n",
       "\n",
       "                                         clean_complaint  \n",
       "0      good morning name xxxx xxxx appreciate could h...  \n",
       "1      upgraded xxxx xxxx card xxxx told agent upgrad...  \n",
       "2      chase card reported xxxx however fraudulent ap...  \n",
       "3      xxxx trying book xxxx xxxx ticket came across ...  \n",
       "4      grand son give check deposit chase account fun...  \n",
       "...                                                  ...  \n",
       "18958  husband passed away chase bank put check hold ...  \n",
       "18959  chase card customer well decade offered multip...  \n",
       "18960  wednesday xxxxxxxx called chas xxxx xxxx visa ...  \n",
       "18961  familiar xxxx pay understand great risk provid...  \n",
       "18962  flawless credit yr ive chase credit card chase...  \n",
       "\n",
       "[18963 rows x 2 columns]"
      ]
     },
     "execution_count": 36,
     "metadata": {},
     "output_type": "execute_result"
    }
   ],
   "source": [
    "# Observamos algunas filas para verificar que el preprocesamiento se realizó correctamente.\n",
    "df[['complaint_what_happened', 'clean_complaint']]"
   ]
  },
  {
   "cell_type": "markdown",
   "metadata": {},
   "source": []
  },
  {
   "cell_type": "code",
   "execution_count": 37,
   "metadata": {},
   "outputs": [],
   "source": [
    "# Dividir el dataset en train test split\n",
    "X = df['clean_complaint']\n",
    "y = df['ticket_classification']\n",
    "\n",
    "X_train, X_test, y_train, y_test = train_test_split(X, y, test_size=0.2, random_state=11)"
   ]
  },
  {
   "cell_type": "code",
   "execution_count": 38,
   "metadata": {},
   "outputs": [],
   "source": [
    "# Convertimos el texto a vectores numericos usando TF-IDF Vectorizer\n",
    "vectorizer = TfidfVectorizer(max_features=5000)\n",
    "X_train_tfidf = vectorizer.fit_transform(X_train)\n",
    "X_test_tfidf = vectorizer.transform(X_test)"
   ]
  },
  {
   "cell_type": "code",
   "execution_count": 40,
   "metadata": {},
   "outputs": [],
   "source": [
    "# Guardamos los datos preprocesados y el vectorizador para usarlos cuando entrenemos el modelo\n",
    "import pickle"
   ]
  },
  {
   "cell_type": "code",
   "execution_count": 42,
   "metadata": {},
   "outputs": [],
   "source": [
    "import os\n",
    "\n",
    "# Crear la carpeta processed_data si no existe\n",
    "os.makedirs('data/processed_data', exist_ok=True)\n",
    "\n",
    "# Guardar los datos\n",
    "with open('data/processed_data/X_train_tfidf.pkl', 'wb') as f:\n",
    "    pickle.dump(X_train_tfidf, f)\n",
    "    \n",
    "with open('data/processed_data/X_test_tfidf.pkl', 'wb') as f:\n",
    "    pickle.dump(X_test_tfidf, f)"
   ]
  },
  {
   "cell_type": "code",
   "execution_count": 44,
   "metadata": {},
   "outputs": [],
   "source": [
    "# Guardar las etiquetas\n",
    "y_train.to_csv('data/processed_data/y_train.csv', index=False)\n",
    "y_test.to_csv('data/processed_data/y_test.csv', index=False)\n",
    "\n",
    "# Crear la carpeta models si no existe\n",
    "os.makedirs('models', exist_ok=True)\n",
    "\n",
    "# Guardar el vectorizador\n",
    "with open('models/tfidf_vectorizer.pkl', 'wb') as f:\n",
    "    pickle.dump(vectorizer, f)"
   ]
  },
  {
   "cell_type": "markdown",
   "metadata": {},
   "source": [
    "- Preprocesamiento de Texto: Limpiamos el texto eliminando URLs, correos electrónicos, números y caracteres especiales. Convertimos el texto a minúsculas, eliminamos stopwords y aplicamos lematización.\n",
    "- Vectorización: Convertimos el texto preprocesado en una matriz de características numéricas utilizando TF-IDF.\n",
    "- División de Datos: Separamos los datos en conjuntos de entrenamiento y prueba para evaluar el rendimiento del modelo,\n",
    "- Guardar los Datos: Guardamos los datos procesados y el vectorizador para facilitar el entrenamiento de modelos."
   ]
  }
 ],
 "metadata": {
  "kernelspec": {
   "display_name": "base",
   "language": "python",
   "name": "python3"
  },
  "language_info": {
   "codemirror_mode": {
    "name": "ipython",
    "version": 3
   },
   "file_extension": ".py",
   "mimetype": "text/x-python",
   "name": "python",
   "nbconvert_exporter": "python",
   "pygments_lexer": "ipython3",
   "version": "3.11.5"
  }
 },
 "nbformat": 4,
 "nbformat_minor": 2
}
