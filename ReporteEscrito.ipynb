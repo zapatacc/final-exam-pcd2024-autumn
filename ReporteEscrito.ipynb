{
 "cells": [
  {
   "cell_type": "markdown",
   "metadata": {},
   "source": [
    "# Distribución del repositorio\n",
    "-app\n",
    "\n",
    "-data\n",
    "-notebooks\n",
    "\n"
   ]
  },
  {
   "cell_type": "markdown",
   "metadata": {},
   "source": [
    "# Data Wrangling\n",
    "\n",
    "Comencé este examen siguiendo los pasos para la lectura y pre procesado inicial del dataset, tomé el Json, lo normalicé, recorté el dataset a las variables de importancia, las renombré, hice el feature engineering para la variable de respuesta y comencé a ir i venir al EDA para obtener insights\n",
    "\n",
    "Primero hice limṕieza clásica de textos, eliminé todo lo que no fuera alfanumérico, estandaricé a minúsculas, expandí contracciones y quité stopwords\n",
    "\n",
    "Después cuando comencé a checar el EDA noté que había palabras que eran casi constantes a lo largo de todas las quejas, así que decidí generar una función que recortara aquellas palabras que aparecieran en cierta cantidad de documentos y finalmenté la dejé para el 80% de los documentos.\n",
    "\n",
    "Casi para terminar noté que había categorías con muy pocos registros, así que tomé un approach similar al de las palabras muy repetidas y eliminé todas aquellas categorías con un conteo de registros menor a 10\n",
    "\n",
    "Por último apliqué ambos métodos en batch processing y guardé un save state del dataset en transformed data"
   ]
  },
  {
   "cell_type": "markdown",
   "metadata": {},
   "source": [
    "# EDA\n",
    "\n",
    "El EDA fue mi guía para el data wranglin, ya que los insights que iba obteniendo e servían para la limpieza, entre lo más relevante está el notar las clases con pocos registros, mucho de stopwords y palabras muy repetidas, fue un procceso iterativo pero finalmente dejé limpio el dataset y procedí a la visualización\n",
    "\n",
    "Para ello reutilicé una función que ya había hecho hace tiempo para graficar un wordcloud por cada categoría junto a una colección del top 10 unigramas, bigramas y trigramas, para evalúar que tan distintas eran las categorías después de la limpieza, y los resultados fueron satisfactorios\n"
   ]
  },
  {
   "cell_type": "markdown",
   "metadata": {},
   "source": []
  },
  {
   "cell_type": "code",
   "execution_count": null,
   "metadata": {},
   "outputs": [],
   "source": []
  }
 ],
 "metadata": {
  "kernelspec": {
   "display_name": ".venv",
   "language": "python",
   "name": "python3"
  },
  "language_info": {
   "name": "python",
   "version": "3.12.3"
  }
 },
 "nbformat": 4,
 "nbformat_minor": 2
}
