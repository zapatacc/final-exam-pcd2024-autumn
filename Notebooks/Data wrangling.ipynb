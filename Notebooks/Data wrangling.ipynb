{
 "cells": [
  {
   "metadata": {},
   "cell_type": "markdown",
   "source": "## Data wrangling",
   "id": "845b3c97c5d00c9a"
  },
  {
   "metadata": {},
   "cell_type": "markdown",
   "source": "### Importamos las librerias necesarias",
   "id": "ccd860ff1d2b8e03"
  },
  {
   "metadata": {
    "ExecuteTime": {
     "end_time": "2024-11-20T18:27:35.950680Z",
     "start_time": "2024-11-20T18:27:35.541489Z"
    }
   },
   "cell_type": "code",
   "source": [
    "import json\n",
    "import pandas as pd"
   ],
   "id": "11bfb7f693ab8afb",
   "outputs": [],
   "execution_count": 2
  },
  {
   "metadata": {},
   "cell_type": "markdown",
   "source": "### Cargamos el archivo json con el que estaremos trabajando",
   "id": "b45e775fbff83aaa"
  },
  {
   "metadata": {
    "ExecuteTime": {
     "end_time": "2024-11-20T18:28:56.634216Z",
     "start_time": "2024-11-20T18:28:56.200873Z"
    }
   },
   "cell_type": "code",
   "source": [
    "file_path = \"../Data/raw_data/tickets_classification_eng.json\"\n",
    "\n",
    "with open(file_path, \"r\") as file:\n",
    "    datos = json.load(file)"
   ],
   "id": "1b421a2f6853acff",
   "outputs": [],
   "execution_count": 5
  },
  {
   "metadata": {},
   "cell_type": "markdown",
   "source": "### Leemos los datos en un dataframe",
   "id": "60e6239aafaa86ea"
  },
  {
   "metadata": {
    "ExecuteTime": {
     "end_time": "2024-11-20T18:44:33.575628Z",
     "start_time": "2024-11-20T18:44:32.890589Z"
    }
   },
   "cell_type": "code",
   "source": "df = pd.json_normalize(datos)",
   "id": "77dcdbf1f2bccf58",
   "outputs": [],
   "execution_count": 10
  },
  {
   "metadata": {},
   "cell_type": "markdown",
   "source": "### Hacemos todo el preprocesmiento que se nos sugiere en las hints",
   "id": "7d291ed13d080c73"
  },
  {
   "metadata": {
    "ExecuteTime": {
     "end_time": "2024-11-20T18:44:34.850211Z",
     "start_time": "2024-11-20T18:44:34.783713Z"
    }
   },
   "cell_type": "code",
   "source": [
    "# Seleccionamos las columnas\n",
    "df = df[['_source.complaint_what_happened', '_source.product', '_source.sub_product']]\n",
    "# Renombramos las columnas\n",
    "df.rename(columns={\n",
    "    '_source.complaint_what_happened': 'complaint_what_happened',\n",
    "    '_source.product': 'category',\n",
    "    '_source.sub_product': 'sub_product'\n",
    "}, inplace=True)\n",
    "# Creamos la  nueva columa\n",
    "df['ticket_classification'] = df['category'] + ' + ' + df['sub_product']\n",
    "# Eliminamos las columnas de sobra\n",
    "df.drop(columns=['category', 'sub_product'], inplace=True)\n",
    "# Nos aseguramos de que no haya nulos   \n",
    "df['complaint_what_happened'].replace('', pd.NA, inplace=True)\n",
    "# Eliminamos las filas con datos faltantes\n",
    "df.dropna(subset=['complaint_what_happened', 'ticket_classification'], inplace=True)\n",
    "# Reiniciamos el indice\n",
    "df.reset_index(drop=True, inplace=True)"
   ],
   "id": "7803b280401b16fc",
   "outputs": [
    {
     "name": "stderr",
     "output_type": "stream",
     "text": [
      "C:\\Users\\ctorr\\AppData\\Local\\Temp\\ipykernel_18944\\2146385964.py:14: FutureWarning: A value is trying to be set on a copy of a DataFrame or Series through chained assignment using an inplace method.\n",
      "The behavior will change in pandas 3.0. This inplace method will never work because the intermediate object on which we are setting values always behaves as a copy.\n",
      "\n",
      "For example, when doing 'df[col].method(value, inplace=True)', try using 'df.method({col: value}, inplace=True)' or df[col] = df[col].method(value) instead, to perform the operation inplace on the original object.\n",
      "\n",
      "\n",
      "  df['complaint_what_happened'].replace('', pd.NA, inplace=True)\n"
     ]
    }
   ],
   "execution_count": 11
  },
  {
   "metadata": {
    "ExecuteTime": {
     "end_time": "2024-11-20T18:44:37.018752Z",
     "start_time": "2024-11-20T18:44:37.008063Z"
    }
   },
   "cell_type": "code",
   "source": [
    "# Vemos que todo se hizo de manera correcta\n",
    "df"
   ],
   "id": "ebe7301997939d8e",
   "outputs": [
    {
     "data": {
      "text/plain": [
       "                                 complaint_what_happened  \\\n",
       "0      Good morning my name is XXXX XXXX and I apprec...   \n",
       "1      I upgraded my XXXX XXXX card in XX/XX/2018 and...   \n",
       "2      Chase Card was reported on XX/XX/2019. However...   \n",
       "3      On XX/XX/2018, while trying to book a XXXX  XX...   \n",
       "4      my grand son give me check for {$1600.00} i de...   \n",
       "...                                                  ...   \n",
       "18958  My husband passed away. Chase bank put check o...   \n",
       "18959  After being a Chase Card customer for well ove...   \n",
       "18960  On Wednesday, XX/XX/XXXX I called Chas, my XXX...   \n",
       "18961  I am not familiar with XXXX pay and did not un...   \n",
       "18962  I have had flawless credit for 30 yrs. I've ha...   \n",
       "\n",
       "                                   ticket_classification  \n",
       "0                     Debt collection + Credit card debt  \n",
       "1      Credit card or prepaid card + General-purpose ...  \n",
       "2      Credit reporting, credit repair services, or o...  \n",
       "3      Credit reporting, credit repair services, or o...  \n",
       "4         Checking or savings account + Checking account  \n",
       "...                                                  ...  \n",
       "18958     Checking or savings account + Checking account  \n",
       "18959  Credit card or prepaid card + General-purpose ...  \n",
       "18960  Credit card or prepaid card + General-purpose ...  \n",
       "18961     Checking or savings account + Checking account  \n",
       "18962  Credit card or prepaid card + General-purpose ...  \n",
       "\n",
       "[18963 rows x 2 columns]"
      ],
      "text/html": [
       "<div>\n",
       "<style scoped>\n",
       "    .dataframe tbody tr th:only-of-type {\n",
       "        vertical-align: middle;\n",
       "    }\n",
       "\n",
       "    .dataframe tbody tr th {\n",
       "        vertical-align: top;\n",
       "    }\n",
       "\n",
       "    .dataframe thead th {\n",
       "        text-align: right;\n",
       "    }\n",
       "</style>\n",
       "<table border=\"1\" class=\"dataframe\">\n",
       "  <thead>\n",
       "    <tr style=\"text-align: right;\">\n",
       "      <th></th>\n",
       "      <th>complaint_what_happened</th>\n",
       "      <th>ticket_classification</th>\n",
       "    </tr>\n",
       "  </thead>\n",
       "  <tbody>\n",
       "    <tr>\n",
       "      <th>0</th>\n",
       "      <td>Good morning my name is XXXX XXXX and I apprec...</td>\n",
       "      <td>Debt collection + Credit card debt</td>\n",
       "    </tr>\n",
       "    <tr>\n",
       "      <th>1</th>\n",
       "      <td>I upgraded my XXXX XXXX card in XX/XX/2018 and...</td>\n",
       "      <td>Credit card or prepaid card + General-purpose ...</td>\n",
       "    </tr>\n",
       "    <tr>\n",
       "      <th>2</th>\n",
       "      <td>Chase Card was reported on XX/XX/2019. However...</td>\n",
       "      <td>Credit reporting, credit repair services, or o...</td>\n",
       "    </tr>\n",
       "    <tr>\n",
       "      <th>3</th>\n",
       "      <td>On XX/XX/2018, while trying to book a XXXX  XX...</td>\n",
       "      <td>Credit reporting, credit repair services, or o...</td>\n",
       "    </tr>\n",
       "    <tr>\n",
       "      <th>4</th>\n",
       "      <td>my grand son give me check for {$1600.00} i de...</td>\n",
       "      <td>Checking or savings account + Checking account</td>\n",
       "    </tr>\n",
       "    <tr>\n",
       "      <th>...</th>\n",
       "      <td>...</td>\n",
       "      <td>...</td>\n",
       "    </tr>\n",
       "    <tr>\n",
       "      <th>18958</th>\n",
       "      <td>My husband passed away. Chase bank put check o...</td>\n",
       "      <td>Checking or savings account + Checking account</td>\n",
       "    </tr>\n",
       "    <tr>\n",
       "      <th>18959</th>\n",
       "      <td>After being a Chase Card customer for well ove...</td>\n",
       "      <td>Credit card or prepaid card + General-purpose ...</td>\n",
       "    </tr>\n",
       "    <tr>\n",
       "      <th>18960</th>\n",
       "      <td>On Wednesday, XX/XX/XXXX I called Chas, my XXX...</td>\n",
       "      <td>Credit card or prepaid card + General-purpose ...</td>\n",
       "    </tr>\n",
       "    <tr>\n",
       "      <th>18961</th>\n",
       "      <td>I am not familiar with XXXX pay and did not un...</td>\n",
       "      <td>Checking or savings account + Checking account</td>\n",
       "    </tr>\n",
       "    <tr>\n",
       "      <th>18962</th>\n",
       "      <td>I have had flawless credit for 30 yrs. I've ha...</td>\n",
       "      <td>Credit card or prepaid card + General-purpose ...</td>\n",
       "    </tr>\n",
       "  </tbody>\n",
       "</table>\n",
       "<p>18963 rows × 2 columns</p>\n",
       "</div>"
      ]
     },
     "execution_count": 12,
     "metadata": {},
     "output_type": "execute_result"
    }
   ],
   "execution_count": 12
  },
  {
   "metadata": {
    "ExecuteTime": {
     "end_time": "2024-11-20T18:49:55.257639Z",
     "start_time": "2024-11-20T18:49:54.871209Z"
    }
   },
   "cell_type": "code",
   "source": [
    "# Finalmente guardamos el dataframe en un archivo CSV\n",
    "output_file_path = \"../Data/Clean_data/clean_data.csv\"\n",
    "df.to_csv(output_file_path, index=False)"
   ],
   "id": "4dd579e87780242a",
   "outputs": [],
   "execution_count": 13
  },
  {
   "metadata": {},
   "cell_type": "markdown",
   "source": "### Hare una breve limpieza de texto con el fin de que el modelo tenga mejores resultados",
   "id": "6678e93c299d413d"
  },
  {
   "metadata": {
    "ExecuteTime": {
     "end_time": "2024-11-20T19:13:05.599072Z",
     "start_time": "2024-11-20T19:13:05.566757Z"
    }
   },
   "cell_type": "code",
   "source": [
    "import nltk\n",
    "from nltk.corpus import stopwords\n",
    "import re\n",
    "import contractions"
   ],
   "id": "d83ba37df12ff264",
   "outputs": [],
   "execution_count": 15
  },
  {
   "metadata": {
    "ExecuteTime": {
     "end_time": "2024-11-20T19:18:35.263900Z",
     "start_time": "2024-11-20T19:18:35.246049Z"
    }
   },
   "cell_type": "code",
   "source": [
    "stop_words = set(stopwords.words('english'))\n",
    "\n",
    "def preprocesar_titulo(texto):\n",
    "    # Expandir contracciones\n",
    "    texto = contractions.fix(texto)\n",
    "    \n",
    "    # Eliminamos 'X' mayúsculas porque representan datos confindenciales y no dan valor\n",
    "    texto = re.sub(r'X+', '', texto)\n",
    "    \n",
    "    # Convertimos a minúsculas\n",
    "    texto = texto.lower()\n",
    "    \n",
    "    # Tokenizamos el texto\n",
    "    palabras = nltk.word_tokenize(texto)\n",
    "    \n",
    "    # Eliminamos las stopwords\n",
    "    palabras = [palabra for palabra in palabras if palabra not in stop_words]\n",
    "    \n",
    "    # Unimos las palabras en un solo string\n",
    "    texto_limpio = ' '.join(palabras)\n",
    "    \n",
    "    return texto_limpio"
   ],
   "id": "fc9aa648129b8079",
   "outputs": [],
   "execution_count": 16
  },
  {
   "metadata": {
    "ExecuteTime": {
     "end_time": "2024-11-20T19:22:20.255459Z",
     "start_time": "2024-11-20T19:22:06.263275Z"
    }
   },
   "cell_type": "code",
   "source": "df['complaint_what_happened'] = df['complaint_what_happened'].apply(preprocesar_titulo)",
   "id": "4e2ae4f2629f848c",
   "outputs": [],
   "execution_count": 17
  },
  {
   "metadata": {},
   "cell_type": "markdown",
   "source": "### Así queda el dataframe final con el texto preprocesado para su posterior modelado",
   "id": "4d395f5c79fde528"
  },
  {
   "metadata": {
    "ExecuteTime": {
     "end_time": "2024-11-20T19:22:28.334992Z",
     "start_time": "2024-11-20T19:22:28.329321Z"
    }
   },
   "cell_type": "code",
   "source": "df",
   "id": "245dc9c397a7d688",
   "outputs": [
    {
     "data": {
      "text/plain": [
       "                                 complaint_what_happened  \\\n",
       "0      good morning name appreciate could help put st...   \n",
       "1      upgraded card //2018 told agent upgrade annive...   \n",
       "2      chase card reported //2019 . however , fraudul...   \n",
       "3      //2018 , trying book ticket , came across offe...   \n",
       "4      grand son give check { $ 1600.00 } deposit cha...   \n",
       "...                                                  ...   \n",
       "18958  husband passed away . chase bank put check hol...   \n",
       "18959  chase card customer well decade , offered mult...   \n",
       "18960  wednesday , // called chas , visa credit card ...   \n",
       "18961  familiar pay understand great risk provides co...   \n",
       "18962  flawless credit 30 yrs . chase credit cards , ...   \n",
       "\n",
       "                                   ticket_classification  \n",
       "0                     Debt collection + Credit card debt  \n",
       "1      Credit card or prepaid card + General-purpose ...  \n",
       "2      Credit reporting, credit repair services, or o...  \n",
       "3      Credit reporting, credit repair services, or o...  \n",
       "4         Checking or savings account + Checking account  \n",
       "...                                                  ...  \n",
       "18958     Checking or savings account + Checking account  \n",
       "18959  Credit card or prepaid card + General-purpose ...  \n",
       "18960  Credit card or prepaid card + General-purpose ...  \n",
       "18961     Checking or savings account + Checking account  \n",
       "18962  Credit card or prepaid card + General-purpose ...  \n",
       "\n",
       "[18963 rows x 2 columns]"
      ],
      "text/html": [
       "<div>\n",
       "<style scoped>\n",
       "    .dataframe tbody tr th:only-of-type {\n",
       "        vertical-align: middle;\n",
       "    }\n",
       "\n",
       "    .dataframe tbody tr th {\n",
       "        vertical-align: top;\n",
       "    }\n",
       "\n",
       "    .dataframe thead th {\n",
       "        text-align: right;\n",
       "    }\n",
       "</style>\n",
       "<table border=\"1\" class=\"dataframe\">\n",
       "  <thead>\n",
       "    <tr style=\"text-align: right;\">\n",
       "      <th></th>\n",
       "      <th>complaint_what_happened</th>\n",
       "      <th>ticket_classification</th>\n",
       "    </tr>\n",
       "  </thead>\n",
       "  <tbody>\n",
       "    <tr>\n",
       "      <th>0</th>\n",
       "      <td>good morning name appreciate could help put st...</td>\n",
       "      <td>Debt collection + Credit card debt</td>\n",
       "    </tr>\n",
       "    <tr>\n",
       "      <th>1</th>\n",
       "      <td>upgraded card //2018 told agent upgrade annive...</td>\n",
       "      <td>Credit card or prepaid card + General-purpose ...</td>\n",
       "    </tr>\n",
       "    <tr>\n",
       "      <th>2</th>\n",
       "      <td>chase card reported //2019 . however , fraudul...</td>\n",
       "      <td>Credit reporting, credit repair services, or o...</td>\n",
       "    </tr>\n",
       "    <tr>\n",
       "      <th>3</th>\n",
       "      <td>//2018 , trying book ticket , came across offe...</td>\n",
       "      <td>Credit reporting, credit repair services, or o...</td>\n",
       "    </tr>\n",
       "    <tr>\n",
       "      <th>4</th>\n",
       "      <td>grand son give check { $ 1600.00 } deposit cha...</td>\n",
       "      <td>Checking or savings account + Checking account</td>\n",
       "    </tr>\n",
       "    <tr>\n",
       "      <th>...</th>\n",
       "      <td>...</td>\n",
       "      <td>...</td>\n",
       "    </tr>\n",
       "    <tr>\n",
       "      <th>18958</th>\n",
       "      <td>husband passed away . chase bank put check hol...</td>\n",
       "      <td>Checking or savings account + Checking account</td>\n",
       "    </tr>\n",
       "    <tr>\n",
       "      <th>18959</th>\n",
       "      <td>chase card customer well decade , offered mult...</td>\n",
       "      <td>Credit card or prepaid card + General-purpose ...</td>\n",
       "    </tr>\n",
       "    <tr>\n",
       "      <th>18960</th>\n",
       "      <td>wednesday , // called chas , visa credit card ...</td>\n",
       "      <td>Credit card or prepaid card + General-purpose ...</td>\n",
       "    </tr>\n",
       "    <tr>\n",
       "      <th>18961</th>\n",
       "      <td>familiar pay understand great risk provides co...</td>\n",
       "      <td>Checking or savings account + Checking account</td>\n",
       "    </tr>\n",
       "    <tr>\n",
       "      <th>18962</th>\n",
       "      <td>flawless credit 30 yrs . chase credit cards , ...</td>\n",
       "      <td>Credit card or prepaid card + General-purpose ...</td>\n",
       "    </tr>\n",
       "  </tbody>\n",
       "</table>\n",
       "<p>18963 rows × 2 columns</p>\n",
       "</div>"
      ]
     },
     "execution_count": 18,
     "metadata": {},
     "output_type": "execute_result"
    }
   ],
   "execution_count": 18
  },
  {
   "metadata": {
    "ExecuteTime": {
     "end_time": "2024-11-20T19:28:10.123123Z",
     "start_time": "2024-11-20T19:28:09.881632Z"
    }
   },
   "cell_type": "code",
   "source": [
    "output_file_path = \"../Data/Clean_data/transformed_data.csv\"\n",
    "df.to_csv(output_file_path, index=False)"
   ],
   "id": "48e4806367ad44c4",
   "outputs": [],
   "execution_count": 19
  },
  {
   "metadata": {},
   "cell_type": "code",
   "outputs": [],
   "execution_count": null,
   "source": "",
   "id": "5256d677a272c855"
  }
 ],
 "metadata": {
  "kernelspec": {
   "display_name": "Python 3",
   "language": "python",
   "name": "python3"
  },
  "language_info": {
   "codemirror_mode": {
    "name": "ipython",
    "version": 2
   },
   "file_extension": ".py",
   "mimetype": "text/x-python",
   "name": "python",
   "nbconvert_exporter": "python",
   "pygments_lexer": "ipython2",
   "version": "2.7.6"
  }
 },
 "nbformat": 4,
 "nbformat_minor": 5
}
