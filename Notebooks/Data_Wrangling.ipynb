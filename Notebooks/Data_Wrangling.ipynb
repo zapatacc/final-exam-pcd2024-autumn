{
 "cells": [
  {
   "cell_type": "markdown",
   "source": [
    " En esta sección, se describe cómo se limpiaron y prepararon los datos para su análisis, incluyendo la eliminación de valores atípicos y la imputación de datos faltantes."
   ],
   "metadata": {
    "collapsed": false
   },
   "id": "4b6677be080fec8a"
  },
  {
   "cell_type": "code",
   "outputs": [],
   "source": [
    "import json\n",
    "import pandas as pd\n",
    "from nltk.corpus import stopwords\n",
    "import contractions\n",
    "import re\n",
    "import nltk"
   ],
   "metadata": {
    "collapsed": false,
    "ExecuteTime": {
     "end_time": "2024-11-22T00:43:08.234828600Z",
     "start_time": "2024-11-22T00:43:08.214745100Z"
    }
   },
   "id": "4b5c5e6f18a073d0",
   "execution_count": 2
  },
  {
   "cell_type": "code",
   "outputs": [],
   "source": [
    "file_path = \"../data/tickets_classification_eng.json\"\n",
    "\n",
    "# Leer el archivo JSON \n",
    "with open(file_path, \"r\", encoding=\"utf-8\") as file:  \n",
    "    datos = json.load(file)\n",
    "\n",
    "df = pd.json_normalize(datos)"
   ],
   "metadata": {
    "collapsed": false,
    "ExecuteTime": {
     "end_time": "2024-11-22T00:47:15.171968500Z",
     "start_time": "2024-11-22T00:47:13.599014700Z"
    }
   },
   "id": "a508c535b68e1c19",
   "execution_count": 20
  },
  {
   "cell_type": "code",
   "outputs": [],
   "source": [
    "columns_to_select = [\n",
    "    \"_source.complaint_what_happened\",\n",
    "    \"_source.product\",\n",
    "    \"_source.sub_product\"\n",
    "]\n",
    "\n",
    "df_selected = df[columns_to_select]"
   ],
   "metadata": {
    "collapsed": false,
    "ExecuteTime": {
     "end_time": "2024-11-22T00:47:17.884540900Z",
     "start_time": "2024-11-22T00:47:17.872029200Z"
    }
   },
   "id": "2c11f7f3b9456cf6",
   "execution_count": 21
  },
  {
   "cell_type": "code",
   "outputs": [
    {
     "name": "stderr",
     "output_type": "stream",
     "text": [
      "C:\\Users\\Francisco\\AppData\\Local\\Temp\\ipykernel_3080\\3935133602.py:2: SettingWithCopyWarning: \n",
      "A value is trying to be set on a copy of a slice from a DataFrame\n",
      "\n",
      "See the caveats in the documentation: https://pandas.pydata.org/pandas-docs/stable/user_guide/indexing.html#returning-a-view-versus-a-copy\n",
      "  df_selected.rename(columns={\n"
     ]
    }
   ],
   "source": [
    "# Renombrar columnas para mayor claridad\n",
    "df_selected.rename(columns={\n",
    "    \"_source.complaint_what_happened\": \"complaint_what_happened\",\n",
    "    \"_source.product\": \"category\",\n",
    "    \"_source.sub_product\": \"sub_product\"\n",
    "}, inplace=True)"
   ],
   "metadata": {
    "collapsed": false,
    "ExecuteTime": {
     "end_time": "2024-11-22T00:47:20.291765100Z",
     "start_time": "2024-11-22T00:47:20.288251200Z"
    }
   },
   "id": "791894e218bd9ed",
   "execution_count": 22
  },
  {
   "cell_type": "code",
   "outputs": [
    {
     "name": "stdout",
     "output_type": "stream",
     "text": [
      "<class 'pandas.core.frame.DataFrame'>\n",
      "RangeIndex: 78313 entries, 0 to 78312\n",
      "Data columns (total 3 columns):\n",
      " #   Column                   Non-Null Count  Dtype \n",
      "---  ------                   --------------  ----- \n",
      " 0   complaint_what_happened  78313 non-null  object\n",
      " 1   category                 78313 non-null  object\n",
      " 2   sub_product              67742 non-null  object\n",
      "dtypes: object(3)\n",
      "memory usage: 1.8+ MB\n"
     ]
    }
   ],
   "source": [
    "df_selected.info()"
   ],
   "metadata": {
    "collapsed": false,
    "ExecuteTime": {
     "end_time": "2024-11-22T00:45:45.453184600Z",
     "start_time": "2024-11-22T00:45:45.422887300Z"
    }
   },
   "id": "1d2c95c01ca697a9",
   "execution_count": 9
  },
  {
   "cell_type": "markdown",
   "source": [
    "### Creación de Nueva Columna:\n",
    "\n",
    " Añade una nueva columna llamada ticket_classification que sea el resultado de concatenar los valores de las columnas category y sub_product, separados por un signo más. Por ejemplo, si category contiene \"Banco\" y sub_product contiene \"Cuenta Corriente\", entonces ticket_classification debería ser \"Banco + Cuenta Corriente\"."
   ],
   "metadata": {
    "collapsed": false
   },
   "id": "9dbca979136d9da3"
  },
  {
   "cell_type": "code",
   "outputs": [
    {
     "name": "stderr",
     "output_type": "stream",
     "text": [
      "C:\\Users\\Francisco\\AppData\\Local\\Temp\\ipykernel_3080\\766719112.py:1: SettingWithCopyWarning: \n",
      "A value is trying to be set on a copy of a slice from a DataFrame.\n",
      "Try using .loc[row_indexer,col_indexer] = value instead\n",
      "\n",
      "See the caveats in the documentation: https://pandas.pydata.org/pandas-docs/stable/user_guide/indexing.html#returning-a-view-versus-a-copy\n",
      "  df_selected[\"ticket_classification\"] = df_selected[\"category\"] + \" + \" + df_selected[\"sub_product\"]\n"
     ]
    }
   ],
   "source": [
    "df_selected[\"ticket_classification\"] = df_selected[\"category\"] + \" + \" + df_selected[\"sub_product\"]"
   ],
   "metadata": {
    "collapsed": false,
    "ExecuteTime": {
     "end_time": "2024-11-22T00:47:25.662112300Z",
     "start_time": "2024-11-22T00:47:25.605865100Z"
    }
   },
   "id": "7de1f12995b28394",
   "execution_count": 23
  },
  {
   "cell_type": "code",
   "outputs": [
    {
     "data": {
      "text/plain": "                             complaint_what_happened  \\\n0                                                      \n1  Good morning my name is XXXX XXXX and I apprec...   \n2  I upgraded my XXXX XXXX card in XX/XX/2018 and...   \n3                                                      \n4                                                      \n\n                      category                                 sub_product  \\\n0              Debt collection                            Credit card debt   \n1              Debt collection                            Credit card debt   \n2  Credit card or prepaid card  General-purpose credit card or charge card   \n3                     Mortgage                  Conventional home mortgage   \n4  Credit card or prepaid card  General-purpose credit card or charge card   \n\n                               ticket_classification  \n0                 Debt collection + Credit card debt  \n1                 Debt collection + Credit card debt  \n2  Credit card or prepaid card + General-purpose ...  \n3              Mortgage + Conventional home mortgage  \n4  Credit card or prepaid card + General-purpose ...  ",
      "text/html": "<div>\n<style scoped>\n    .dataframe tbody tr th:only-of-type {\n        vertical-align: middle;\n    }\n\n    .dataframe tbody tr th {\n        vertical-align: top;\n    }\n\n    .dataframe thead th {\n        text-align: right;\n    }\n</style>\n<table border=\"1\" class=\"dataframe\">\n  <thead>\n    <tr style=\"text-align: right;\">\n      <th></th>\n      <th>complaint_what_happened</th>\n      <th>category</th>\n      <th>sub_product</th>\n      <th>ticket_classification</th>\n    </tr>\n  </thead>\n  <tbody>\n    <tr>\n      <th>0</th>\n      <td></td>\n      <td>Debt collection</td>\n      <td>Credit card debt</td>\n      <td>Debt collection + Credit card debt</td>\n    </tr>\n    <tr>\n      <th>1</th>\n      <td>Good morning my name is XXXX XXXX and I apprec...</td>\n      <td>Debt collection</td>\n      <td>Credit card debt</td>\n      <td>Debt collection + Credit card debt</td>\n    </tr>\n    <tr>\n      <th>2</th>\n      <td>I upgraded my XXXX XXXX card in XX/XX/2018 and...</td>\n      <td>Credit card or prepaid card</td>\n      <td>General-purpose credit card or charge card</td>\n      <td>Credit card or prepaid card + General-purpose ...</td>\n    </tr>\n    <tr>\n      <th>3</th>\n      <td></td>\n      <td>Mortgage</td>\n      <td>Conventional home mortgage</td>\n      <td>Mortgage + Conventional home mortgage</td>\n    </tr>\n    <tr>\n      <th>4</th>\n      <td></td>\n      <td>Credit card or prepaid card</td>\n      <td>General-purpose credit card or charge card</td>\n      <td>Credit card or prepaid card + General-purpose ...</td>\n    </tr>\n  </tbody>\n</table>\n</div>"
     },
     "execution_count": 24,
     "metadata": {},
     "output_type": "execute_result"
    }
   ],
   "source": [
    "df_selected.head()"
   ],
   "metadata": {
    "collapsed": false,
    "ExecuteTime": {
     "end_time": "2024-11-22T00:47:28.961256200Z",
     "start_time": "2024-11-22T00:47:28.953020Z"
    }
   },
   "id": "fc39b719dffa2fcf",
   "execution_count": 24
  },
  {
   "cell_type": "markdown",
   "source": [
    "### Eliminar Columnas Redundantes:\n",
    "\n",
    "Después de crear la columna ticket_classification, elimina las columnas sub_product y category, ya que su información ahora está encapsulada en la nueva columna."
   ],
   "metadata": {
    "collapsed": false
   },
   "id": "f21ab59b4366d417"
  },
  {
   "cell_type": "code",
   "outputs": [
    {
     "name": "stderr",
     "output_type": "stream",
     "text": [
      "C:\\Users\\Francisco\\AppData\\Local\\Temp\\ipykernel_3080\\78379480.py:1: SettingWithCopyWarning: \n",
      "A value is trying to be set on a copy of a slice from a DataFrame\n",
      "\n",
      "See the caveats in the documentation: https://pandas.pydata.org/pandas-docs/stable/user_guide/indexing.html#returning-a-view-versus-a-copy\n",
      "  df_selected.drop(columns=[\"sub_product\", \"category\"], inplace=True)\n"
     ]
    }
   ],
   "source": [
    "df_selected.drop(columns=[\"sub_product\", \"category\"], inplace=True)"
   ],
   "metadata": {
    "collapsed": false,
    "ExecuteTime": {
     "end_time": "2024-11-22T00:47:32.116784700Z",
     "start_time": "2024-11-22T00:47:32.106646300Z"
    }
   },
   "id": "3d4ba306125b418d",
   "execution_count": 25
  },
  {
   "cell_type": "markdown",
   "source": [
    "### Limpieza de Datos en Columnas Específicas: \n",
    "\n",
    "Aquí aseguramos de que la columna complaint_what_happened no contenga campos vacíos. Reemplaza esos campos vacíos con un valor que indique que los datos están ausentes (como NaN)."
   ],
   "metadata": {
    "collapsed": false
   },
   "id": "5be4e9ebfb23e0"
  },
  {
   "cell_type": "code",
   "outputs": [
    {
     "name": "stderr",
     "output_type": "stream",
     "text": [
      "C:\\Users\\Francisco\\AppData\\Local\\Temp\\ipykernel_3080\\1068415345.py:1: FutureWarning: A value is trying to be set on a copy of a DataFrame or Series through chained assignment using an inplace method.\n",
      "The behavior will change in pandas 3.0. This inplace method will never work because the intermediate object on which we are setting values always behaves as a copy.\n",
      "\n",
      "For example, when doing 'df[col].method(value, inplace=True)', try using 'df.method({col: value}, inplace=True)' or df[col] = df[col].method(value) instead, to perform the operation inplace on the original object.\n",
      "\n",
      "\n",
      "  df_selected[\"complaint_what_happened\"].replace(\"\", pd.NA, inplace=True)\n",
      "C:\\Users\\Francisco\\AppData\\Local\\Temp\\ipykernel_3080\\1068415345.py:1: SettingWithCopyWarning: \n",
      "A value is trying to be set on a copy of a slice from a DataFrame\n",
      "\n",
      "See the caveats in the documentation: https://pandas.pydata.org/pandas-docs/stable/user_guide/indexing.html#returning-a-view-versus-a-copy\n",
      "  df_selected[\"complaint_what_happened\"].replace(\"\", pd.NA, inplace=True)\n"
     ]
    }
   ],
   "source": [
    "df_selected[\"complaint_what_happened\"].replace(\"\", pd.NA, inplace=True)"
   ],
   "metadata": {
    "collapsed": false,
    "ExecuteTime": {
     "end_time": "2024-11-22T00:47:34.399684100Z",
     "start_time": "2024-11-22T00:47:34.383073100Z"
    }
   },
   "id": "2bf1dc7727d88c64",
   "execution_count": 26
  },
  {
   "cell_type": "markdown",
   "source": [
    "### Eliminación de Filas con Datos Faltantes: \n",
    "\n",
    "Elimina todas las filas que tengan datos faltantes en las columnas críticas, es decir, complaint_what_happened y ticket_classification."
   ],
   "metadata": {
    "collapsed": false
   },
   "id": "9747470de6006d15"
  },
  {
   "cell_type": "code",
   "outputs": [
    {
     "name": "stderr",
     "output_type": "stream",
     "text": [
      "C:\\Users\\Francisco\\AppData\\Local\\Temp\\ipykernel_3080\\561902098.py:1: SettingWithCopyWarning: \n",
      "A value is trying to be set on a copy of a slice from a DataFrame\n",
      "\n",
      "See the caveats in the documentation: https://pandas.pydata.org/pandas-docs/stable/user_guide/indexing.html#returning-a-view-versus-a-copy\n",
      "  df_selected.dropna(subset=[\"complaint_what_happened\", \"ticket_classification\"], inplace=True)\n"
     ]
    }
   ],
   "source": [
    "df_selected.dropna(subset=[\"complaint_what_happened\", \"ticket_classification\"], inplace=True)"
   ],
   "metadata": {
    "collapsed": false,
    "ExecuteTime": {
     "end_time": "2024-11-22T00:47:36.637598500Z",
     "start_time": "2024-11-22T00:47:36.613530200Z"
    }
   },
   "id": "b4a75769c1cb6ea4",
   "execution_count": 27
  },
  {
   "cell_type": "markdown",
   "source": [
    "### Limpiar las \"X\" con nltk y eliminar stopwords para después guardar el modelo "
   ],
   "metadata": {
    "collapsed": false
   },
   "id": "b66642b0beee5a72"
  },
  {
   "cell_type": "code",
   "outputs": [
    {
     "name": "stderr",
     "output_type": "stream",
     "text": [
      "[nltk_data] Downloading package stopwords to\n",
      "[nltk_data]     C:\\Users\\Francisco\\AppData\\Roaming\\nltk_data...\n",
      "[nltk_data]   Package stopwords is already up-to-date!\n",
      "[nltk_data] Downloading package punkt to\n",
      "[nltk_data]     C:\\Users\\Francisco\\AppData\\Roaming\\nltk_data...\n",
      "[nltk_data]   Package punkt is already up-to-date!\n"
     ]
    }
   ],
   "source": [
    "# Descargar las stopwords de nltk si no lo has hecho\n",
    "nltk.download('stopwords')\n",
    "nltk.download('punkt')\n",
    "\n",
    "# Definir las stopwords en inglés\n",
    "stopwords_ingles = set(stopwords.words('english'))"
   ],
   "metadata": {
    "collapsed": false,
    "ExecuteTime": {
     "end_time": "2024-11-22T00:56:29.384317300Z",
     "start_time": "2024-11-22T00:56:29.377030800Z"
    }
   },
   "id": "d75fa5670c97e9cb",
   "execution_count": 43
  },
  {
   "cell_type": "code",
   "outputs": [],
   "source": [
    "def limpiar_texto(texto):\n",
    "    \"\"\"\n",
    "    Función para limpiar y preprocesar un texto.\n",
    "    \"\"\"\n",
    "    # Paso 1: Expandir contracciones\n",
    "    texto_expandido = contractions.fix(texto)\n",
    "\n",
    "    # Paso 2: Remover caracteres 'X' repetidos que simbolizan datos confidenciales\n",
    "    texto_sin_x = re.sub(r'X+', '', texto_expandido)\n",
    "\n",
    "    # Paso 3: Convertir a minúsculas\n",
    "    texto_minusculas = texto_sin_x.lower()\n",
    "\n",
    "    # Paso 4: Tokenizar\n",
    "    tokens = nltk.word_tokenize(texto_minusculas)\n",
    "\n",
    "    # Paso 5: Filtrar stopwords\n",
    "    tokens_filtrados = filter(lambda palabra: palabra not in stopwords_ingles, tokens)\n",
    "\n",
    "    # Paso 6: Unir palabras filtradas\n",
    "    texto_procesado = ' '.join(tokens_filtrados)\n",
    "\n",
    "    return texto_procesado\n"
   ],
   "metadata": {
    "collapsed": false,
    "ExecuteTime": {
     "end_time": "2024-11-22T00:56:34.825374Z",
     "start_time": "2024-11-22T00:56:34.822363100Z"
    }
   },
   "id": "beae2d1a57a1bc16",
   "execution_count": 44
  },
  {
   "cell_type": "code",
   "outputs": [
    {
     "name": "stderr",
     "output_type": "stream",
     "text": [
      "C:\\Users\\Francisco\\AppData\\Local\\Temp\\ipykernel_3080\\1786559717.py:2: SettingWithCopyWarning: \n",
      "A value is trying to be set on a copy of a slice from a DataFrame.\n",
      "Try using .loc[row_indexer,col_indexer] = value instead\n",
      "\n",
      "See the caveats in the documentation: https://pandas.pydata.org/pandas-docs/stable/user_guide/indexing.html#returning-a-view-versus-a-copy\n",
      "  df_selected['complaint_what_happened'] = df_selected['complaint_what_happened'].apply(limpiar_texto)\n"
     ]
    }
   ],
   "source": [
    "# Aplicar la función a la columna 'complaint_what_happened'\n",
    "df_selected['complaint_what_happened'] = df_selected['complaint_what_happened'].apply(limpiar_texto)"
   ],
   "metadata": {
    "collapsed": false,
    "ExecuteTime": {
     "end_time": "2024-11-22T00:55:10.695740900Z",
     "start_time": "2024-11-22T00:54:59.256340200Z"
    }
   },
   "id": "4dafe88c850c33bc",
   "execution_count": 41
  },
  {
   "cell_type": "code",
   "outputs": [
    {
     "data": {
      "text/plain": "                                 complaint_what_happened  \\\n1      good morning name appreciate could help put st...   \n2      upgraded card //2018 told agent upgrade annive...   \n10     chase card reported //2019 . however , fraudul...   \n11     //2018 , trying book ticket , came across offe...   \n14     grand son give check { $ 1600.00 } deposit cha...   \n...                                                  ...   \n78301  husband passed away . chase bank put check hol...   \n78303  chase card customer well decade , offered mult...   \n78309  wednesday , // called chas , visa credit card ...   \n78310  familiar pay understand great risk provides co...   \n78311  flawless credit 30 yrs . 've chase credit card...   \n\n                                   ticket_classification  \n1                     Debt collection + Credit card debt  \n2      Credit card or prepaid card + General-purpose ...  \n10     Credit reporting, credit repair services, or o...  \n11     Credit reporting, credit repair services, or o...  \n14        Checking or savings account + Checking account  \n...                                                  ...  \n78301     Checking or savings account + Checking account  \n78303  Credit card or prepaid card + General-purpose ...  \n78309  Credit card or prepaid card + General-purpose ...  \n78310     Checking or savings account + Checking account  \n78311  Credit card or prepaid card + General-purpose ...  \n\n[18963 rows x 2 columns]",
      "text/html": "<div>\n<style scoped>\n    .dataframe tbody tr th:only-of-type {\n        vertical-align: middle;\n    }\n\n    .dataframe tbody tr th {\n        vertical-align: top;\n    }\n\n    .dataframe thead th {\n        text-align: right;\n    }\n</style>\n<table border=\"1\" class=\"dataframe\">\n  <thead>\n    <tr style=\"text-align: right;\">\n      <th></th>\n      <th>complaint_what_happened</th>\n      <th>ticket_classification</th>\n    </tr>\n  </thead>\n  <tbody>\n    <tr>\n      <th>1</th>\n      <td>good morning name appreciate could help put st...</td>\n      <td>Debt collection + Credit card debt</td>\n    </tr>\n    <tr>\n      <th>2</th>\n      <td>upgraded card //2018 told agent upgrade annive...</td>\n      <td>Credit card or prepaid card + General-purpose ...</td>\n    </tr>\n    <tr>\n      <th>10</th>\n      <td>chase card reported //2019 . however , fraudul...</td>\n      <td>Credit reporting, credit repair services, or o...</td>\n    </tr>\n    <tr>\n      <th>11</th>\n      <td>//2018 , trying book ticket , came across offe...</td>\n      <td>Credit reporting, credit repair services, or o...</td>\n    </tr>\n    <tr>\n      <th>14</th>\n      <td>grand son give check { $ 1600.00 } deposit cha...</td>\n      <td>Checking or savings account + Checking account</td>\n    </tr>\n    <tr>\n      <th>...</th>\n      <td>...</td>\n      <td>...</td>\n    </tr>\n    <tr>\n      <th>78301</th>\n      <td>husband passed away . chase bank put check hol...</td>\n      <td>Checking or savings account + Checking account</td>\n    </tr>\n    <tr>\n      <th>78303</th>\n      <td>chase card customer well decade , offered mult...</td>\n      <td>Credit card or prepaid card + General-purpose ...</td>\n    </tr>\n    <tr>\n      <th>78309</th>\n      <td>wednesday , // called chas , visa credit card ...</td>\n      <td>Credit card or prepaid card + General-purpose ...</td>\n    </tr>\n    <tr>\n      <th>78310</th>\n      <td>familiar pay understand great risk provides co...</td>\n      <td>Checking or savings account + Checking account</td>\n    </tr>\n    <tr>\n      <th>78311</th>\n      <td>flawless credit 30 yrs . 've chase credit card...</td>\n      <td>Credit card or prepaid card + General-purpose ...</td>\n    </tr>\n  </tbody>\n</table>\n<p>18963 rows × 2 columns</p>\n</div>"
     },
     "execution_count": 45,
     "metadata": {},
     "output_type": "execute_result"
    }
   ],
   "source": [
    "df_selected"
   ],
   "metadata": {
    "collapsed": false,
    "ExecuteTime": {
     "end_time": "2024-11-22T00:56:37.704782800Z",
     "start_time": "2024-11-22T00:56:37.697877800Z"
    }
   },
   "id": "a8914ded3c43aa6f",
   "execution_count": 45
  },
  {
   "cell_type": "code",
   "outputs": [],
   "source": [
    "##### Ahora si ya más limpio falta reiniciar el índex y guardarlo \n",
    "df_selected.reset_index(drop=True, inplace=True)"
   ],
   "metadata": {
    "collapsed": false,
    "ExecuteTime": {
     "end_time": "2024-11-22T00:57:30.796962700Z",
     "start_time": "2024-11-22T00:57:30.793926900Z"
    }
   },
   "id": "bc594bad2061dd72",
   "execution_count": 46
  },
  {
   "cell_type": "code",
   "outputs": [],
   "source": [
    "output_path = \"../data/processed/tickets_cleaned.csv\""
   ],
   "metadata": {
    "collapsed": false,
    "ExecuteTime": {
     "end_time": "2024-11-22T00:57:33.790044500Z",
     "start_time": "2024-11-22T00:57:33.785484900Z"
    }
   },
   "id": "14a3e3dbc3e7a4c8",
   "execution_count": 47
  },
  {
   "cell_type": "code",
   "outputs": [
    {
     "name": "stdout",
     "output_type": "stream",
     "text": [
      "DataFrame guardado exitosamente en: ../data/processed/tickets_cleaned.csv\n"
     ]
    }
   ],
   "source": [
    "df_selected.to_csv(output_path, index=False)\n",
    "print(f\"DataFrame guardado exitosamente en: {output_path}\")"
   ],
   "metadata": {
    "collapsed": false,
    "ExecuteTime": {
     "end_time": "2024-11-22T00:57:36.029643600Z",
     "start_time": "2024-11-22T00:57:35.734923Z"
    }
   },
   "id": "2bda158019edbbf2",
   "execution_count": 48
  },
  {
   "cell_type": "markdown",
   "source": [
    "## Posibles modelos a utilizar"
   ],
   "metadata": {
    "collapsed": false
   },
   "id": "4128bd354fffb675"
  },
  {
   "cell_type": "markdown",
   "source": [
    "####  Regresión Logística \n",
    "\n",
    "Por qué usarla\n",
    "* Modelo lineal: La regresión logística es un modelo estadístico sencillo que asume una relación lineal entre las variables independientes (predictoras) y la probabilidad de que una observación pertenezca a una clase específica.\n",
    "\n",
    "\n",
    "* Interpretabilidad: Es fácil de interpretar, ya que los coeficientes indican la contribución de cada característica al resultado.\n",
    "\n",
    "\n",
    "* Rápido y eficiente: Es computacionalmente eficiente, lo que lo hace ideal como punto de partida para problemas de clasificación."
   ],
   "metadata": {
    "collapsed": false
   },
   "id": "35b61759ae34196e"
  },
  {
   "cell_type": "markdown",
   "source": [
    "#### Random Forest \n",
    "\n",
    "Por qué usarla\n",
    "\n",
    "* Modelo no lineal: Random Forest es un modelo basado en árboles de decisión, que puede capturar relaciones complejas y no lineales entre las características.\n",
    "\n",
    "\n",
    "* Versatilidad: Funciona bien tanto con datos categóricos como continuos, lo que lo hace adecuado para conjuntos de datos mixtos.\n",
    "\n",
    "\n",
    "* Robustez: Es resistente al sobreajuste debido al ensamble de múltiples árboles (votación de mayorías en clasificación)."
   ],
   "metadata": {
    "collapsed": false
   },
   "id": "1fec9cab852c3d17"
  },
  {
   "cell_type": "markdown",
   "source": [
    "#### Support Vector Classifier \n",
    "\n",
    "Por qué usarlo\n",
    "\n",
    "* Separación óptima: SVC busca el hiperplano que maximiza la separación entre las clases, lo que lo hace efectivo para problemas con datos bien separables.\n",
    "\n",
    "\n",
    "* Adaptabilidad: Con el uso de diferentes funciones kernel (linear, rbf), SVC puede adaptarse a problemas lineales y no lineales.\n",
    "\n",
    "\n",
    "* Robustez en problemas con ruido: Es eficaz en conjuntos de datos pequeños y con clases desbalanceadas, ya que se enfoca en los puntos más críticos (los cercanos al margen)."
   ],
   "metadata": {
    "collapsed": false
   },
   "id": "417ac7d9c5247520"
  },
  {
   "cell_type": "markdown",
   "source": [
    "Posible implementación y análisis: \n",
    "\n",
    "Iniciar con Regresión Logística como un modelo base para evaluar la dificultad del problema.\n",
    "Usar Random Forest si hay sospechas de relaciones no lineales o características más complejas.\n",
    "Explorar el SVC si el tamaño del conjunto de datos lo permite y se requieren soluciones más sofisticadas."
   ],
   "metadata": {
    "collapsed": false
   },
   "id": "869b6d72998e37f3"
  }
 ],
 "metadata": {
  "kernelspec": {
   "display_name": "Python 3",
   "language": "python",
   "name": "python3"
  },
  "language_info": {
   "codemirror_mode": {
    "name": "ipython",
    "version": 2
   },
   "file_extension": ".py",
   "mimetype": "text/x-python",
   "name": "python",
   "nbconvert_exporter": "python",
   "pygments_lexer": "ipython2",
   "version": "2.7.6"
  }
 },
 "nbformat": 4,
 "nbformat_minor": 5
}
