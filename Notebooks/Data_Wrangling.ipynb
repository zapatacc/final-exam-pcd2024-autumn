{
 "cells": [
  {
   "cell_type": "markdown",
   "source": [
    " En esta sección, se describe cómo se limpiaron y prepararon los datos para su análisis, incluyendo la eliminación de valores atípicos y la imputación de datos faltantes."
   ],
   "metadata": {
    "collapsed": false
   },
   "id": "4b6677be080fec8a"
  },
  {
   "cell_type": "code",
   "outputs": [],
   "source": [
    "import json\n",
    "import pandas as pd\n",
    "\n",
    "file_path = \"../data/tickets_classification_eng.json\"\n",
    "\n",
    "# Leer el archivo JSON \n",
    "with open(file_path, \"r\", encoding=\"utf-8\") as file:  \n",
    "    datos = json.load(file)\n",
    "\n",
    "df = pd.json_normalize(datos)"
   ],
   "metadata": {
    "collapsed": false,
    "ExecuteTime": {
     "end_time": "2024-11-21T19:24:10.929145400Z",
     "start_time": "2024-11-21T19:24:09.209131200Z"
    }
   },
   "id": "a508c535b68e1c19",
   "execution_count": 1
  },
  {
   "cell_type": "code",
   "outputs": [],
   "source": [
    "columns_to_select = [\n",
    "    \"_source.complaint_what_happened\",\n",
    "    \"_source.product\",\n",
    "    \"_source.sub_product\"\n",
    "]\n",
    "\n",
    "df_selected = df[columns_to_select]"
   ],
   "metadata": {
    "collapsed": false,
    "ExecuteTime": {
     "end_time": "2024-11-21T19:24:44.351738500Z",
     "start_time": "2024-11-21T19:24:44.327573600Z"
    }
   },
   "id": "2c11f7f3b9456cf6",
   "execution_count": 2
  },
  {
   "cell_type": "code",
   "outputs": [
    {
     "name": "stderr",
     "output_type": "stream",
     "text": [
      "C:\\Users\\Francisco\\AppData\\Local\\Temp\\ipykernel_32644\\3935133602.py:2: SettingWithCopyWarning: \n",
      "A value is trying to be set on a copy of a slice from a DataFrame\n",
      "\n",
      "See the caveats in the documentation: https://pandas.pydata.org/pandas-docs/stable/user_guide/indexing.html#returning-a-view-versus-a-copy\n",
      "  df_selected.rename(columns={\n"
     ]
    }
   ],
   "source": [
    "# Renombrar columnas para mayor claridad\n",
    "df_selected.rename(columns={\n",
    "    \"_source.complaint_what_happened\": \"complaint_what_happened\",\n",
    "    \"_source.product\": \"category\",\n",
    "    \"_source.sub_product\": \"sub_product\"\n",
    "}, inplace=True)"
   ],
   "metadata": {
    "collapsed": false,
    "ExecuteTime": {
     "end_time": "2024-11-21T19:24:47.497374Z",
     "start_time": "2024-11-21T19:24:47.465371900Z"
    }
   },
   "id": "791894e218bd9ed",
   "execution_count": 3
  },
  {
   "cell_type": "code",
   "outputs": [
    {
     "name": "stdout",
     "output_type": "stream",
     "text": [
      "<class 'pandas.core.frame.DataFrame'>\n",
      "RangeIndex: 78313 entries, 0 to 78312\n",
      "Data columns (total 3 columns):\n",
      " #   Column                   Non-Null Count  Dtype \n",
      "---  ------                   --------------  ----- \n",
      " 0   complaint_what_happened  78313 non-null  object\n",
      " 1   category                 78313 non-null  object\n",
      " 2   sub_product              67742 non-null  object\n",
      "dtypes: object(3)\n",
      "memory usage: 1.8+ MB\n"
     ]
    }
   ],
   "source": [
    "df_selected.info()"
   ],
   "metadata": {
    "collapsed": false,
    "ExecuteTime": {
     "end_time": "2024-11-21T19:25:18.747978200Z",
     "start_time": "2024-11-21T19:25:18.733976300Z"
    }
   },
   "id": "1d2c95c01ca697a9",
   "execution_count": 4
  },
  {
   "cell_type": "markdown",
   "source": [
    "### Creación de Nueva Columna:\n",
    "\n",
    " Añade una nueva columna llamada ticket_classification que sea el resultado de concatenar los valores de las columnas category y sub_product, separados por un signo más. Por ejemplo, si category contiene \"Banco\" y sub_product contiene \"Cuenta Corriente\", entonces ticket_classification debería ser \"Banco + Cuenta Corriente\"."
   ],
   "metadata": {
    "collapsed": false
   },
   "id": "9dbca979136d9da3"
  },
  {
   "cell_type": "code",
   "outputs": [
    {
     "name": "stderr",
     "output_type": "stream",
     "text": [
      "C:\\Users\\Francisco\\AppData\\Local\\Temp\\ipykernel_32644\\766719112.py:1: SettingWithCopyWarning: \n",
      "A value is trying to be set on a copy of a slice from a DataFrame.\n",
      "Try using .loc[row_indexer,col_indexer] = value instead\n",
      "\n",
      "See the caveats in the documentation: https://pandas.pydata.org/pandas-docs/stable/user_guide/indexing.html#returning-a-view-versus-a-copy\n",
      "  df_selected[\"ticket_classification\"] = df_selected[\"category\"] + \" + \" + df_selected[\"sub_product\"]\n"
     ]
    }
   ],
   "source": [
    "df_selected[\"ticket_classification\"] = df_selected[\"category\"] + \" + \" + df_selected[\"sub_product\"]"
   ],
   "metadata": {
    "collapsed": false,
    "ExecuteTime": {
     "end_time": "2024-11-21T19:25:59.062640200Z",
     "start_time": "2024-11-21T19:25:59.013006200Z"
    }
   },
   "id": "7de1f12995b28394",
   "execution_count": 5
  },
  {
   "cell_type": "code",
   "outputs": [
    {
     "data": {
      "text/plain": "                             complaint_what_happened  \\\n0                                                      \n1  Good morning my name is XXXX XXXX and I apprec...   \n2  I upgraded my XXXX XXXX card in XX/XX/2018 and...   \n3                                                      \n4                                                      \n\n                      category                                 sub_product  \\\n0              Debt collection                            Credit card debt   \n1              Debt collection                            Credit card debt   \n2  Credit card or prepaid card  General-purpose credit card or charge card   \n3                     Mortgage                  Conventional home mortgage   \n4  Credit card or prepaid card  General-purpose credit card or charge card   \n\n                               ticket_classification  \n0                 Debt collection + Credit card debt  \n1                 Debt collection + Credit card debt  \n2  Credit card or prepaid card + General-purpose ...  \n3              Mortgage + Conventional home mortgage  \n4  Credit card or prepaid card + General-purpose ...  ",
      "text/html": "<div>\n<style scoped>\n    .dataframe tbody tr th:only-of-type {\n        vertical-align: middle;\n    }\n\n    .dataframe tbody tr th {\n        vertical-align: top;\n    }\n\n    .dataframe thead th {\n        text-align: right;\n    }\n</style>\n<table border=\"1\" class=\"dataframe\">\n  <thead>\n    <tr style=\"text-align: right;\">\n      <th></th>\n      <th>complaint_what_happened</th>\n      <th>category</th>\n      <th>sub_product</th>\n      <th>ticket_classification</th>\n    </tr>\n  </thead>\n  <tbody>\n    <tr>\n      <th>0</th>\n      <td></td>\n      <td>Debt collection</td>\n      <td>Credit card debt</td>\n      <td>Debt collection + Credit card debt</td>\n    </tr>\n    <tr>\n      <th>1</th>\n      <td>Good morning my name is XXXX XXXX and I apprec...</td>\n      <td>Debt collection</td>\n      <td>Credit card debt</td>\n      <td>Debt collection + Credit card debt</td>\n    </tr>\n    <tr>\n      <th>2</th>\n      <td>I upgraded my XXXX XXXX card in XX/XX/2018 and...</td>\n      <td>Credit card or prepaid card</td>\n      <td>General-purpose credit card or charge card</td>\n      <td>Credit card or prepaid card + General-purpose ...</td>\n    </tr>\n    <tr>\n      <th>3</th>\n      <td></td>\n      <td>Mortgage</td>\n      <td>Conventional home mortgage</td>\n      <td>Mortgage + Conventional home mortgage</td>\n    </tr>\n    <tr>\n      <th>4</th>\n      <td></td>\n      <td>Credit card or prepaid card</td>\n      <td>General-purpose credit card or charge card</td>\n      <td>Credit card or prepaid card + General-purpose ...</td>\n    </tr>\n  </tbody>\n</table>\n</div>"
     },
     "execution_count": 6,
     "metadata": {},
     "output_type": "execute_result"
    }
   ],
   "source": [
    "df_selected.head()"
   ],
   "metadata": {
    "collapsed": false,
    "ExecuteTime": {
     "end_time": "2024-11-21T19:26:09.859830800Z",
     "start_time": "2024-11-21T19:26:09.841737300Z"
    }
   },
   "id": "fc39b719dffa2fcf",
   "execution_count": 6
  },
  {
   "cell_type": "markdown",
   "source": [
    "### Eliminar Columnas Redundantes:\n",
    "\n",
    "Después de crear la columna ticket_classification, elimina las columnas sub_product y category, ya que su información ahora está encapsulada en la nueva columna."
   ],
   "metadata": {
    "collapsed": false
   },
   "id": "f21ab59b4366d417"
  },
  {
   "cell_type": "code",
   "outputs": [
    {
     "name": "stderr",
     "output_type": "stream",
     "text": [
      "C:\\Users\\Francisco\\AppData\\Local\\Temp\\ipykernel_32644\\78379480.py:1: SettingWithCopyWarning: \n",
      "A value is trying to be set on a copy of a slice from a DataFrame\n",
      "\n",
      "See the caveats in the documentation: https://pandas.pydata.org/pandas-docs/stable/user_guide/indexing.html#returning-a-view-versus-a-copy\n",
      "  df_selected.drop(columns=[\"sub_product\", \"category\"], inplace=True)\n"
     ]
    }
   ],
   "source": [
    "df_selected.drop(columns=[\"sub_product\", \"category\"], inplace=True)"
   ],
   "metadata": {
    "collapsed": false,
    "ExecuteTime": {
     "end_time": "2024-11-21T19:26:44.588025200Z",
     "start_time": "2024-11-21T19:26:44.563053500Z"
    }
   },
   "id": "3d4ba306125b418d",
   "execution_count": 7
  },
  {
   "cell_type": "markdown",
   "source": [
    "### Limpieza de Datos en Columnas Específicas: \n",
    "\n",
    "Aquí aseguramos de que la columna complaint_what_happened no contenga campos vacíos. Reemplaza esos campos vacíos con un valor que indique que los datos están ausentes (como NaN)."
   ],
   "metadata": {
    "collapsed": false
   },
   "id": "5be4e9ebfb23e0"
  },
  {
   "cell_type": "code",
   "outputs": [
    {
     "name": "stderr",
     "output_type": "stream",
     "text": [
      "C:\\Users\\Francisco\\AppData\\Local\\Temp\\ipykernel_32644\\1068415345.py:1: FutureWarning: A value is trying to be set on a copy of a DataFrame or Series through chained assignment using an inplace method.\n",
      "The behavior will change in pandas 3.0. This inplace method will never work because the intermediate object on which we are setting values always behaves as a copy.\n",
      "\n",
      "For example, when doing 'df[col].method(value, inplace=True)', try using 'df.method({col: value}, inplace=True)' or df[col] = df[col].method(value) instead, to perform the operation inplace on the original object.\n",
      "\n",
      "\n",
      "  df_selected[\"complaint_what_happened\"].replace(\"\", pd.NA, inplace=True)\n",
      "C:\\Users\\Francisco\\AppData\\Local\\Temp\\ipykernel_32644\\1068415345.py:1: SettingWithCopyWarning: \n",
      "A value is trying to be set on a copy of a slice from a DataFrame\n",
      "\n",
      "See the caveats in the documentation: https://pandas.pydata.org/pandas-docs/stable/user_guide/indexing.html#returning-a-view-versus-a-copy\n",
      "  df_selected[\"complaint_what_happened\"].replace(\"\", pd.NA, inplace=True)\n"
     ]
    }
   ],
   "source": [
    "df_selected[\"complaint_what_happened\"].replace(\"\", pd.NA, inplace=True)"
   ],
   "metadata": {
    "collapsed": false,
    "ExecuteTime": {
     "end_time": "2024-11-21T19:55:41.905053900Z",
     "start_time": "2024-11-21T19:55:41.880956200Z"
    }
   },
   "id": "2bf1dc7727d88c64",
   "execution_count": 10
  },
  {
   "cell_type": "markdown",
   "source": [
    "### Eliminación de Filas con Datos Faltantes: \n",
    "\n",
    "Elimina todas las filas que tengan datos faltantes en las columnas críticas, es decir, complaint_what_happened y ticket_classification."
   ],
   "metadata": {
    "collapsed": false
   },
   "id": "9747470de6006d15"
  },
  {
   "cell_type": "code",
   "outputs": [
    {
     "name": "stderr",
     "output_type": "stream",
     "text": [
      "C:\\Users\\Francisco\\AppData\\Local\\Temp\\ipykernel_32644\\561902098.py:1: SettingWithCopyWarning: \n",
      "A value is trying to be set on a copy of a slice from a DataFrame\n",
      "\n",
      "See the caveats in the documentation: https://pandas.pydata.org/pandas-docs/stable/user_guide/indexing.html#returning-a-view-versus-a-copy\n",
      "  df_selected.dropna(subset=[\"complaint_what_happened\", \"ticket_classification\"], inplace=True)\n"
     ]
    }
   ],
   "source": [
    "df_selected.dropna(subset=[\"complaint_what_happened\", \"ticket_classification\"], inplace=True)"
   ],
   "metadata": {
    "collapsed": false,
    "ExecuteTime": {
     "end_time": "2024-11-21T19:55:45.094730100Z",
     "start_time": "2024-11-21T19:55:45.074730100Z"
    }
   },
   "id": "b4a75769c1cb6ea4",
   "execution_count": 11
  },
  {
   "cell_type": "code",
   "outputs": [
    {
     "data": {
      "text/plain": "                                 complaint_what_happened  \\\n1      Good morning my name is XXXX XXXX and I apprec...   \n2      I upgraded my XXXX XXXX card in XX/XX/2018 and...   \n10     Chase Card was reported on XX/XX/2019. However...   \n11     On XX/XX/2018, while trying to book a XXXX  XX...   \n14     my grand son give me check for {$1600.00} i de...   \n...                                                  ...   \n78301  My husband passed away. Chase bank put check o...   \n78303  After being a Chase Card customer for well ove...   \n78309  On Wednesday, XX/XX/XXXX I called Chas, my XXX...   \n78310  I am not familiar with XXXX pay and did not un...   \n78311  I have had flawless credit for 30 yrs. I've ha...   \n\n                                   ticket_classification  \n1                     Debt collection + Credit card debt  \n2      Credit card or prepaid card + General-purpose ...  \n10     Credit reporting, credit repair services, or o...  \n11     Credit reporting, credit repair services, or o...  \n14        Checking or savings account + Checking account  \n...                                                  ...  \n78301     Checking or savings account + Checking account  \n78303  Credit card or prepaid card + General-purpose ...  \n78309  Credit card or prepaid card + General-purpose ...  \n78310     Checking or savings account + Checking account  \n78311  Credit card or prepaid card + General-purpose ...  \n\n[18963 rows x 2 columns]",
      "text/html": "<div>\n<style scoped>\n    .dataframe tbody tr th:only-of-type {\n        vertical-align: middle;\n    }\n\n    .dataframe tbody tr th {\n        vertical-align: top;\n    }\n\n    .dataframe thead th {\n        text-align: right;\n    }\n</style>\n<table border=\"1\" class=\"dataframe\">\n  <thead>\n    <tr style=\"text-align: right;\">\n      <th></th>\n      <th>complaint_what_happened</th>\n      <th>ticket_classification</th>\n    </tr>\n  </thead>\n  <tbody>\n    <tr>\n      <th>1</th>\n      <td>Good morning my name is XXXX XXXX and I apprec...</td>\n      <td>Debt collection + Credit card debt</td>\n    </tr>\n    <tr>\n      <th>2</th>\n      <td>I upgraded my XXXX XXXX card in XX/XX/2018 and...</td>\n      <td>Credit card or prepaid card + General-purpose ...</td>\n    </tr>\n    <tr>\n      <th>10</th>\n      <td>Chase Card was reported on XX/XX/2019. However...</td>\n      <td>Credit reporting, credit repair services, or o...</td>\n    </tr>\n    <tr>\n      <th>11</th>\n      <td>On XX/XX/2018, while trying to book a XXXX  XX...</td>\n      <td>Credit reporting, credit repair services, or o...</td>\n    </tr>\n    <tr>\n      <th>14</th>\n      <td>my grand son give me check for {$1600.00} i de...</td>\n      <td>Checking or savings account + Checking account</td>\n    </tr>\n    <tr>\n      <th>...</th>\n      <td>...</td>\n      <td>...</td>\n    </tr>\n    <tr>\n      <th>78301</th>\n      <td>My husband passed away. Chase bank put check o...</td>\n      <td>Checking or savings account + Checking account</td>\n    </tr>\n    <tr>\n      <th>78303</th>\n      <td>After being a Chase Card customer for well ove...</td>\n      <td>Credit card or prepaid card + General-purpose ...</td>\n    </tr>\n    <tr>\n      <th>78309</th>\n      <td>On Wednesday, XX/XX/XXXX I called Chas, my XXX...</td>\n      <td>Credit card or prepaid card + General-purpose ...</td>\n    </tr>\n    <tr>\n      <th>78310</th>\n      <td>I am not familiar with XXXX pay and did not un...</td>\n      <td>Checking or savings account + Checking account</td>\n    </tr>\n    <tr>\n      <th>78311</th>\n      <td>I have had flawless credit for 30 yrs. I've ha...</td>\n      <td>Credit card or prepaid card + General-purpose ...</td>\n    </tr>\n  </tbody>\n</table>\n<p>18963 rows × 2 columns</p>\n</div>"
     },
     "execution_count": 12,
     "metadata": {},
     "output_type": "execute_result"
    }
   ],
   "source": [
    "df_selected"
   ],
   "metadata": {
    "collapsed": false,
    "ExecuteTime": {
     "end_time": "2024-11-21T19:55:47.291292300Z",
     "start_time": "2024-11-21T19:55:47.267798400Z"
    }
   },
   "id": "a8914ded3c43aa6f",
   "execution_count": 12
  },
  {
   "cell_type": "code",
   "outputs": [],
   "source": [
    "##### Ahora si ya más limpio falta reiniciar el índex y guardarlo \n",
    "df_selected.reset_index(drop=True, inplace=True)"
   ],
   "metadata": {
    "collapsed": false,
    "ExecuteTime": {
     "end_time": "2024-11-21T19:56:20.971155900Z",
     "start_time": "2024-11-21T19:56:20.960141Z"
    }
   },
   "id": "bc594bad2061dd72",
   "execution_count": 13
  },
  {
   "cell_type": "code",
   "outputs": [],
   "source": [
    "output_path = \"../data/processed/tickets_cleaned.csv\""
   ],
   "metadata": {
    "collapsed": false,
    "ExecuteTime": {
     "end_time": "2024-11-21T19:57:32.836443500Z",
     "start_time": "2024-11-21T19:57:32.818435400Z"
    }
   },
   "id": "14a3e3dbc3e7a4c8",
   "execution_count": 16
  },
  {
   "cell_type": "code",
   "outputs": [
    {
     "name": "stdout",
     "output_type": "stream",
     "text": [
      "DataFrame guardado exitosamente en: ../data/processed/tickets_cleaned.csv\n"
     ]
    }
   ],
   "source": [
    "df_selected.to_csv(output_path, index=False)\n",
    "print(f\"DataFrame guardado exitosamente en: {output_path}\")"
   ],
   "metadata": {
    "collapsed": false,
    "ExecuteTime": {
     "end_time": "2024-11-21T19:57:35.363231400Z",
     "start_time": "2024-11-21T19:57:34.776544900Z"
    }
   },
   "id": "2bda158019edbbf2",
   "execution_count": 17
  }
 ],
 "metadata": {
  "kernelspec": {
   "display_name": "Python 3",
   "language": "python",
   "name": "python3"
  },
  "language_info": {
   "codemirror_mode": {
    "name": "ipython",
    "version": 2
   },
   "file_extension": ".py",
   "mimetype": "text/x-python",
   "name": "python",
   "nbconvert_exporter": "python",
   "pygments_lexer": "ipython2",
   "version": "2.7.6"
  }
 },
 "nbformat": 4,
 "nbformat_minor": 5
}
