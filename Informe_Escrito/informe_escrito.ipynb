{
 "cells": [
  {
   "cell_type": "markdown",
   "id": "6394bff86d4fd9ff",
   "metadata": {},
   "source": [
    "#### Erick Machuca\n",
    "# Classification Challenge\n",
    "## Introducción\n",
    "\n",
    "En este examen final de la asignatura Proyecto de Ciencia de Datos se pretende demostrar los conocimientos adquiridos durante el curso y las enseñanzas previas a este. Se toma una dataset de quejas con la intención de crear un modelo de machine learning para clasificar las quejas en distintas categorías.\n",
    "\n",
    "En este notebook se encontraran las descripciones de cada archivo, qué es lo que contienen, el por qué se crearon dichos archivos y que función cumplen.\n",
    "\n",
    "## Descripción\n",
    "\n",
    "Nuestro dataset es conformado por varias variables, sin embargo, para nuestro propósito, sólo utilizaremos las siguientes dos: ticket_classification y complaint_what_happened.\n",
    "\n",
    "La columna de ticket_classification es nuestra variable objetivo, será la que contiene las categorías por clasificar.\n",
    "\n",
    "La variable de complaint_what_happened es la que contiene la queja en sí, con detalles sobre el incidente o problemas experimentados por el cliente.\n",
    "\n",
    "### Libraries and data loading"
   ]
  },
  {
   "cell_type": "code",
   "id": "initial_id",
   "metadata": {
    "collapsed": true,
    "jupyter": {
     "outputs_hidden": true
    },
    "ExecuteTime": {
     "end_time": "2024-11-20T19:06:56.463220Z",
     "start_time": "2024-11-20T19:06:56.457977Z"
    }
   },
   "source": [
    "import numpy as np\n",
    "import pandas as pd\n",
    "import seaborn as sns\n",
    "import matplotlib.pyplot as plt\n",
    "import json"
   ],
   "outputs": [],
   "execution_count": 27
  },
  {
   "cell_type": "code",
   "id": "58c54af6dd132ed7",
   "metadata": {
    "ExecuteTime": {
     "end_time": "2024-11-20T19:06:57.272618Z",
     "start_time": "2024-11-20T19:06:56.472585Z"
    }
   },
   "source": [
    "with open('../data/tickets_classification_eng.json', \"r\") as file:\n",
    "    datos = json.load(file)"
   ],
   "outputs": [],
   "execution_count": 28
  },
  {
   "metadata": {
    "ExecuteTime": {
     "end_time": "2024-11-20T19:06:57.833841Z",
     "start_time": "2024-11-20T19:06:57.278786Z"
    }
   },
   "cell_type": "code",
   "source": "df = pd.json_normalize(datos)",
   "id": "b8e8aa2af2745f8e",
   "outputs": [],
   "execution_count": 29
  },
  {
   "metadata": {
    "ExecuteTime": {
     "end_time": "2024-11-20T19:06:57.847860Z",
     "start_time": "2024-11-20T19:06:57.845320Z"
    }
   },
   "cell_type": "code",
   "source": "df.shape # Hay 22 columnas y 78,313 registros",
   "id": "d19a2e916d8dee41",
   "outputs": [
    {
     "data": {
      "text/plain": [
       "(78313, 22)"
      ]
     },
     "execution_count": 30,
     "metadata": {},
     "output_type": "execute_result"
    }
   ],
   "execution_count": 30
  },
  {
   "metadata": {
    "ExecuteTime": {
     "end_time": "2024-11-20T19:06:58.261084Z",
     "start_time": "2024-11-20T19:06:57.855659Z"
    }
   },
   "cell_type": "code",
   "source": [
    "# Selección de columnas\n",
    "cols = ['_source.complaint_what_happened', '_source.product', '_source.sub_product']\n",
    "\n",
    "for col in df.columns:\n",
    "    if col not in cols:\n",
    "        df.drop(col, axis=1, inplace=True)"
   ],
   "id": "19da85a3c5a7647f",
   "outputs": [],
   "execution_count": 31
  },
  {
   "metadata": {
    "ExecuteTime": {
     "end_time": "2024-11-20T19:06:58.269586Z",
     "start_time": "2024-11-20T19:06:58.266935Z"
    }
   },
   "cell_type": "code",
   "source": [
    "# Renombrar las columnas\n",
    "df.rename(columns={\"_source.complaint_what_happened\": \"complaint_what_happened\", \"_source.product\": \"category\",\n",
    "                   \"_source.sub_product\": \"sub_product\"}, inplace=True)"
   ],
   "id": "fc358d1d63c1e56b",
   "outputs": [],
   "execution_count": 32
  },
  {
   "metadata": {
    "ExecuteTime": {
     "end_time": "2024-11-20T19:06:58.302737Z",
     "start_time": "2024-11-20T19:06:58.275916Z"
    }
   },
   "cell_type": "code",
   "source": [
    "# Creación de nueva columna\n",
    "df['ticket_classification'] = df['category'] + '+' + df['sub_product']\n",
    "# Eliminar columnas redundantes\n",
    "df.drop(columns=['category', 'sub_product'], inplace=True)"
   ],
   "id": "44d7e580dfab82fc",
   "outputs": [],
   "execution_count": 33
  },
  {
   "metadata": {
    "ExecuteTime": {
     "end_time": "2024-11-20T19:06:58.331428Z",
     "start_time": "2024-11-20T19:06:58.308783Z"
    }
   },
   "cell_type": "code",
   "source": [
    "# Limpieza de datos\n",
    "df['complaint_what_happened'].value_counts()"
   ],
   "id": "344ae68cf2034241",
   "outputs": [
    {
     "data": {
      "text/plain": [
       "complaint_what_happened\n",
       "                                                                                                                                                                                                                                                                                                                                                                                                                                                                                                                                                                                                                                                                                                                                                                                                                                                                                                                                                                                                                                                                                                                                                                                                                                                                                                                                                                                                                                                                                                                                                                                                                                                                                                                                                                                                                                                                                                                                                                                                                                                                                                                                                                                                                                                                                                                                                                                                                                                                                                                                                                                                                                                                                                                                                                                                                                                                                                                                  57241\n",
       "Chase has violated 15 USC 1692 by continuing collection activity after a cease and desist and 15 USC 1681 by failing to report complete and accurate information to credit reporting bureaus.                                                                                                                                                                                                                                                                                                                                                                                                                                                                                                                                                                                                                                                                                                                                                                                                                                                                                                                                                                                                                                                                                                                                                                                                                                                                                                                                                                                                                                                                                                                                                                                                                                                                                                                                                                                                                                                                                                                                                                                                                                                                                                                                                                                                                                                                                                                                                                                                                                                                                                                                                                                                                                                                                                                                        11\n",
       "Hello, I was an authorized user on a relative chase credit card and had asked to be permanently removed from my credit report which they agreed and also have that address removed from my report as I am no longer staying there. For some reason it is still showing up. Just looking to have this corrected and moved from all credit reporting company 's as promised                                                                                                                                                                                                                                                                                                                                                                                                                                                                                                                                                                                                                                                                                                                                                                                                                                                                                                                                                                                                                                                                                                                                                                                                                                                                                                                                                                                                                                                                                                                                                                                                                                                                                                                                                                                                                                                                                                                                                                                                                                                                                                                                                                                                                                                                                                                                                                                                                                                                                                                                                             9\n",
       "I filed a dispute in regards to the incorrect items on my credit report and its been well over 30 days and I havent received any investigation results.                                                                                                                                                                                                                                                                                                                                                                                                                                                                                                                                                                                                                                                                                                                                                                                                                                                                                                                                                                                                                                                                                                                                                                                                                                                                                                                                                                                                                                                                                                                                                                                                                                                                                                                                                                                                                                                                                                                                                                                                                                                                                                                                                                                                                                                                                                                                                                                                                                                                                                                                                                                                                                                                                                                                                                               7\n",
       "This particular account situation that is lately filing on my own credit document has a seriously unfavorable relation to my personal ability to obtain a present loan application. I highly recommend you generate verification that Credit Union has been reported completely in accordance with the Fair Credit Reporting Act regulations, it's really a serious problem to misreport. More confirmation of the aforesaid item too. My proper request must over, I was never 30 days/60 days/120 days late in any of my payments and I'm not greatly tuned in to the date opened so I prefer to ask you be investigated as soon as possible and confirmed to be correct. Thanks!                                                                                                                                                                                                                                                                                                                                                                                                                                                                                                                                                                                                                                                                                                                                                                                                                                                                                                                                                                                                                                                                                                                                                                                                                                                                                                                                                                                                                                                                                                                                                                                                                                                                                                                                                                                                                                                                                                                                                                                                                                                                                                                                                                                                                                                   7\n",
       "                                                                                                                                                                                                                                                                                                                                                                                                                                                                                                                                                                                                                                                                                                                                                                                                                                                                                                                                                                                                                                                                                                                                                                                                                                                                                                                                                                                                                                                                                                                                                                                                                                                                                                                                                                                                                                                                                                                                                                                                                                                                                                                                                                                                                                                                                                                                                                                                                                                                                                                                                                                                                                                                                                                                                                                                                                                                                                                                  ...  \n",
       "CREDIT FROM CHASE IS SUPPOSED TO BE IN THE FORM OF A CHECK SENT DIRECTLY TO ME SINCE I SPECIFICALLY TOLD THEM IN MY PREVIOUS COMPLAINT THROUGH THIS FORUM THAT I WILL NEVER BE USING THAT CARD AGAIN!!!! CREDIT ON A CARD I WILL NEVER USE AGAIN IS COMPLETELY USELESS TO ME!!!! UNACCEPTABLE CUSTOMER SERVICE!!!! \\n\\nRESPONSE TO PREVIOUS COMPLAINT WAS SUPPOSED TO BE SENT BACK TO CHASE BUT APPARENTLY NEVER WAS!!!!                                                                                                                                                                                                                                                                                                                                                                                                                                                                                                                                                                                                                                                                                                                                                                                                                                                                                                                                                                                                                                                                                                                                                                                                                                                                                                                                                                                                                                                                                                                                                                                                                                                                                                                                                                                                                                                                                                                                                                                                                                                                                                                                                                                                                                                                                                                                                                                                                                                                                                              1\n",
       "My husband and I opened a Home Equity loan with Chase bank. We do have a valid balance, which I have been paying on time. I have even been making additional payments each month to expedite clearing the balance. However, when I logged into my accounts on Friday, XX/XX/2021 I noticed a withdrawal of {$20000.00} against this account. This is not a valid transaction made by my husband or myself. I immediately called Chase bank and logged a fraudulent claim. The claim # is XXXX. I called back later that day to Chase to tell them my XXXX report show this occurred at XXXX XXXX XXXX XXXX LA. XXXX XXXX shows this to be basically in the middle of nowhere. They did not seem interested. Neither my husband nor myself have left Wisconsin in the past two months. Today, XX/XX/2021 I received notification that my claim is denied, simply stating that the transaction is valid and we owe the money. I have sent an email requesting the details of this transaction and proof that it was executed by myself or my husband. The response is pending. I have just learned that I should have filed a police report and logged a complaint here, as well as with the Attorney General so am taking those steps. I have also requested this account be locked so no further transactions can be made against this account.                                                                                                                                                                                                                                                                                                                                                                                                                                                                                                                                                                                                                                                                                                                                                                                                                                                                                                                                                                                                                                                                                                                                                                                                                                                                                                                                                                                                                                                                                                                                                                                       1\n",
       "XX/XX/XXXX The background of this compliant is regarding unanswered communications to Chase ( JPMortganChase ), specifically and initially in a phone conversation and servicing complaint on XX/XX/XXXX, with a purported manager named XXXX XXXX phone # XXXX XXXX XXXX. ) 75 days have elapsed days without a reply, There were additional requests for a reply made to other Chase personnel, 1. customer service # XXXX XXXX XXXX, as well as,. \\n2. requests to their online messaging system personnel AND. \\n3. a couple of formal PERSONAL AND CONFIDENTIAL complaints to their executive officer ( XX/XX/XXXX, CEO ) on XX/XX/XXXX and XX/XX/XXXX XXXX and 37 days have elapsed days without a reply, INCLUDING. \\nThe failure to satisfy a requested XX/XX/XXXX deadline 33 days have elapsed. without a reply on this. \\n\\nin summary Chase never responds to the complaint ( s ) submitted to that employee or any of the others named. \\n\\nXX/XX/XXXX XXXX XXXX XXXX XX/XX/XXXX PERSONAL AND CONFIDENTIAL Mr.XX/XX/XXXX, CEO XXXX. fax XXXX XXXX XXXX XXXX alt re : Complaint This is another formal COMPLAINT regarding my communication to your office on XX/XX/XXXX It has been another 2 weeks without any response or resolution on the issue presented to XXXX on XX/XX/XXXX and now 5 weeks since that was first done. \\n\\nI have not heard back from anyone. \\n\\nI need a prompt written response and RESOLUTION of this specific complaint, no later than XX/XX/XXXX, to be sent via XXXX XXXX or USPS Priority mail, without my having to ask again and again or involve other entities. \\n\\nXXXX XXXX XXXX XXXX XXXX XXXX, NY XXXX ********************************************************************************************************************************************************** XX/XX/XXXX PERSONAL AND CONFIDENTIAL Mr.XX/XX/XXXX, CEO fax XXXX XXXX XXXX XXXX XXXX XXXX. \\n\\nre : Complaint This is a formal COMPLAINT regarding a manager named XXXX XXXX XXXX XXXX XXXX XXXX, On XX/XX/XXXX, I contacted the XXXX # and after several transferred calls, I asked for a manager and was connect to him. \\n\\nThe issue was regarding unresolved issue presented to you online messaging personnel responses or lack thereof. \\n\\nHe stated that he would formalize a complaint and stated I would receive a reply in 3-5 business days This did not occur and, as a result, commencing around XX/XX/XXXX, I attempted to contact him again both through both the XXXX and the XXXX numbers ]. \\n\\nI was told that this matter would be forwarded to him Approximately 25 days have elapsed since the XX/XX/XXXX contact. BUT, I have not heard back from anyone. \\n\\nI need a prompt written response and RESOLUTION of this specific complaint, to be sent via XXXX XXXX or USPS Priority mail, without my having to ask again and again. \\n\\nXXXX XXXX XXXX XXXX XXXX XXXX, NY XXXX        1\n",
       "I deposited a large check into my account on XX/XX/2021. I was told that the money wouldn't be available until XX/XX/XXXX by the teller. I thought that a strangely long period to hold onto a check, but I just accepted it. Now, a sibling also made a similar deposit at another bank ( not Chase ) on the same date as I and the funds were made available two days later on Saturday, XX/XX/2021. So, if this smaller bank was able to verify and pay out a check within two days, what is Chase 's problem? \\nOn XX/XX/2021, I contacted Chase twice ; the first time at noon and the second at XXXX. The first time, customer service transferred me over to another department after telling me that maybe some of my funds could be made available to me. The woman in the department ( she did not give her name nor the department, which upon the subsequent call, I found out was the fraud department ), allegedly called the issuing bank and the lawyers office where the check was written but surprisingly could not get in touch with anyone at either office to verify this check. This took 35 minutes and no resolution. Unsatisfied, that's when I made the call at XXXX. XXXX, in the fraud department ( I had to ask his name and department. They don't offer this information upfront which I don't understand what the point of the secrecy is ) all but told me that I was being investigated for fraud. I never have and never will be involved in criminal behavior. This is MY money that I entrusted to Chase and this is how they treat customers. Is it because I'm otherwise a working class person ; not rich enough to be treated humanely? Is it XXXX? Now I'm offended and feel discriminated against. I also am now behind on debt that I would have been able to rectify if Chase did not have such ridiculous practices. I understand a large check being deposited needs to be verified but why does it take 7 to 10 business days to do that when another bank was able to do it in 2? I know that Chase has received the release of my money from the other bank and they are just holding onto it for no other reason but to be unprofessional and uncompromising. As of this complaint, one of the two accounts that I have with Chase is overdrawn. I expect Chase to do away with the overdraft fees since this situation is one that they've created. I've had money in my account since XX/XX/XXXX.                                                                                                                                                                                                                                                                                                                                                                                                                                                                               1\n",
       "Roughly 10+ years ago I closed out my accounts with JP Morgan Chase Bank XXXX in order to close out an unsecured line of credit I had to pay it off. I did that to close out my account roughly {$500.00} payment when I closed out the accounts, and now I get this late payment that showed up on my credit report after 10+ years stating I owe close to {$900.00} dollars. I have never had any payment schedules or notifications in the 10+ years because I paid it off. Upon calling them I am told I need to show proof I paid it off. I would like to think that if indeed I had not paid it off ( which I did ) I would have immediately received late payment notifications. I left Chase bank because of some poor customer service and charges that were way out of line with the other banking institutions.                                                                                                                                                                                                                                                                                                                                                                                                                                                                                                                                                                                                                                                                                                                                                                                                                                                                                                                                                                                                                                                                                                                                                                                                                                                                                                                                                                                                                                                                                                                                                                                                                                                                                                                                                                                                                                                                                                                                                                                                                                                                                                            1\n",
       "Name: count, Length: 20931, dtype: int64"
      ]
     },
     "execution_count": 34,
     "metadata": {},
     "output_type": "execute_result"
    }
   ],
   "execution_count": 34
  },
  {
   "metadata": {
    "ExecuteTime": {
     "end_time": "2024-11-20T19:06:58.403172Z",
     "start_time": "2024-11-20T19:06:58.363878Z"
    }
   },
   "cell_type": "code",
   "source": [
    "# Reemplazar los valores vacíos con nan\n",
    "df.replace(r'^\\s*$', np.nan, regex=True, inplace=True)"
   ],
   "id": "c372c613b138cc0b",
   "outputs": [],
   "execution_count": 35
  },
  {
   "metadata": {
    "ExecuteTime": {
     "end_time": "2024-11-20T19:06:58.438960Z",
     "start_time": "2024-11-20T19:06:58.428109Z"
    }
   },
   "cell_type": "code",
   "source": [
    "# Comprobar que el número de valores vacíos haga match con el número de nans después del reemplazo\n",
    "df['complaint_what_happened'].isna().sum()"
   ],
   "id": "8605959d6e91dc50",
   "outputs": [
    {
     "data": {
      "text/plain": [
       "np.int64(57241)"
      ]
     },
     "execution_count": 36,
     "metadata": {},
     "output_type": "execute_result"
    }
   ],
   "execution_count": 36
  },
  {
   "metadata": {
    "ExecuteTime": {
     "end_time": "2024-11-20T19:06:58.471109Z",
     "start_time": "2024-11-20T19:06:58.460337Z"
    }
   },
   "cell_type": "code",
   "source": [
    "# Eliminación de filas con datos faltantes\n",
    "df.dropna(inplace=True)\n",
    "df.shape # Shape de nuestro dataframe final"
   ],
   "id": "6f34bd635ca035fc",
   "outputs": [
    {
     "data": {
      "text/plain": [
       "(18963, 2)"
      ]
     },
     "execution_count": 37,
     "metadata": {},
     "output_type": "execute_result"
    }
   ],
   "execution_count": 37
  },
  {
   "metadata": {
    "ExecuteTime": {
     "end_time": "2024-11-20T19:06:58.506752Z",
     "start_time": "2024-11-20T19:06:58.501319Z"
    }
   },
   "cell_type": "code",
   "source": "df.isnull().sum() # No hay datos faltantes",
   "id": "d935d117afc6701",
   "outputs": [
    {
     "data": {
      "text/plain": [
       "complaint_what_happened    0\n",
       "ticket_classification      0\n",
       "dtype: int64"
      ]
     },
     "execution_count": 38,
     "metadata": {},
     "output_type": "execute_result"
    }
   ],
   "execution_count": 38
  },
  {
   "metadata": {
    "ExecuteTime": {
     "end_time": "2024-11-20T19:06:58.602363Z",
     "start_time": "2024-11-20T19:06:58.599901Z"
    }
   },
   "cell_type": "code",
   "source": [
    "# Reiniciar índice\n",
    "df.reset_index(inplace=True, drop=True)"
   ],
   "id": "e2b26b811797429d",
   "outputs": [],
   "execution_count": 40
  },
  {
   "metadata": {
    "ExecuteTime": {
     "end_time": "2024-11-20T19:39:56.709047Z",
     "start_time": "2024-11-20T19:39:56.342507Z"
    }
   },
   "cell_type": "code",
   "source": "df.to_csv('../data/interim.csv')",
   "id": "deaf6e92e1e70184",
   "outputs": [],
   "execution_count": 42
  },
  {
   "metadata": {},
   "cell_type": "markdown",
   "source": [
    "## Conclusiones\n",
    "\n",
    "En este examen final, diseñé un flujo de trabajo integral que aborda todas las etapas clave de un proyecto de ciencia de datos, comenzando con un análisis exploratorio de datos riguroso, para identificar los datos con los que estaba trabajando y garantizar la calidad de los datos utilizados.\n",
    "\n",
    "Implementé ingeniería de características para transformar y optimizar las variables, maximizando el rendimiento de los modelos predictivos. Decidí utilizar dos tipos de modelos distintos, uno de regresión logística y otro de SVM. Ambos fueron modelos precarios.\n",
    "\n",
    "Para el entrenamiento y evaluación de modelos, utilicé MLflow, que no solo permitió gestionar y comparar experimentos de manera eficiente, sino también rastrear métricas clave y registrar versiones de los modelos. La orquestación de procesos con Prefect permitió coordinar y automatizar flujos de trabajo complejos, asegurando la ejecución fluida de tareas interdependientes. Además, desplegué los modelos mediante FastAPI, creando una API robusta que facilita la integración del modelo con aplicaciones externas, asegurando tanto la velocidad de respuesta como la escalabilidad. Para mejorar la interacción con los usuarios, desarrollé interfaces interactivas utilizando Streamlit, permitiendo visualizaciones dinámicas y accesibles de los resultados y métricas clave.\n",
    "\n",
    "Finalmente, utilicé contenedores de Docker para la solución , lo que asegura la portabilidad, reproducibilidad y una transición sin fricciones hacia entornos de producción. Este enfoque cohesivo y escalable garantiza la aplicación práctica y eficiente de soluciones de ciencia de datos en contextos reales."
   ],
   "id": "28fcae4a8c627156"
  }
 ],
 "metadata": {
  "kernelspec": {
   "display_name": "Python 3 (ipykernel)",
   "language": "python",
   "name": "python3"
  },
  "language_info": {
   "codemirror_mode": {
    "name": "ipython",
    "version": 3
   },
   "file_extension": ".py",
   "mimetype": "text/x-python",
   "name": "python",
   "nbconvert_exporter": "python",
   "pygments_lexer": "ipython3",
   "version": "3.11.7"
  }
 },
 "nbformat": 4,
 "nbformat_minor": 5
}
