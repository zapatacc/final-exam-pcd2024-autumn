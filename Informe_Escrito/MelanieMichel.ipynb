{
 "cells": [
  {
   "metadata": {},
   "cell_type": "markdown",
   "source": [
    "\n",
    "### Objetivo\n",
    "\n",
    "El objetivo de este examen es repasar todo lo aprendido a lo largo del semestre respecto a la orquestación de proyectos, comenzando desde la creación de un entorno virtual, pasando por la construcción de modelos e implementación a través de herramientas como MLflow y Dagshub, hasta el manejo de versiones mediante GitHub. También incluye la orquestación de modelos y la presentación de proyectos mediante contenedores de Docker. Este proyecto busca consolidar conocimientos teóricos y prácticos, permitiendo la integración de diversas herramientas y habilidades en un contexto real.\n",
    "\n",
    "---\n",
    "\n",
    "### Desarrollo de carpetas\n",
    "\n",
    "El proyecto está organizado en los siguientes directorios:\n",
    "\n",
    "#### **Informe_Escrito/**\n",
    "- **MelanieMichel.ipynb**: Contiene el notebook principal con toda la información sobre las etapas del proyecto, incluyendo la estructuración, los objetivos y los resultados obtenidos.\n",
    "\n",
    "#### **raw_data/**\n",
    "- **tickets_classification_eng.json**: Contiene toda la información cruda.\n",
    "- **data.csv**: Contiene la información con un preprocesamiento y solo las columnas necesarias.\n",
    "\n",
    "#### **Notebooks/**\n",
    "- **Data_extraction.ipynb**: En este notebook se extrajo la información desde el JSON, se limpió, se dejaron solamente las columnas necesarias y se eliminaron los nulos.\n",
    "- **EDA.ipynb**: Análisis exploratorio de los datos en donde se resaltaron los principales descubrimientos.\n",
    "- **Experiments.ipynb**: Realización de los diversos modelos para buscar la mejor métrica e implementación de ellos en Dagshub.\n",
    "- **train.py**: Estructuración del flujo de Prefect para realizar todo el proceso completo, desde el preprocesamiento de las preguntas hasta cargar los datos en MLflow para definir el modelo champion.\n",
    "\n",
    "#### **App/**\n",
    "\n",
    "Esta carpeta se vuelve un poco más compleja, ya que en ella se encuentra el frontend y backend del proyecto, además de los notebooks necesarios para crear y levantar los contenedores.\n",
    "\n",
    "##### **App/model/**\n",
    "- Aquí se encuentran los archivos con los que se construyó el backend para conectar los modelos cargados en MLflow y conectarlos con el modelo campeón.\n",
    "\n",
    "##### **App/UI/**\n",
    "- Aquí podemos encontrar los archivos con los que se construyó el frontend usando Streamlit para poder realizar las predicciones o conectarlos con el modelo seleccionado como campeón.\n",
    "\n",
    "##### **App/docker-compose.yaml**\n",
    "- En este archivo se definieron los pasos para crear los diversos contenedores, networks y levantarlos de manera correcta para que el modelo correcto se ejecute.\n",
    "\n",
    "---\n",
    "\n",
    "### Comentarios y Hallazgos\n",
    "\n",
    "A lo largo del proyecto, podemos analizar cómo estaban estructurados nuestros datos, conocerlos mejor para hacer los cambios necesarios y optimizar el flujo del modelo. Por ejemplo, eliminamos ciertas categorías que tenían una menor cantidad de repeticiones, ya que afectaban el rendimiento del modelo y lo hacían más lento. Además, pudimos observar las ventajas de aplicar diversos modelos. Aunque algunos, como el SVM, nos daban un mejor accuracy, su tiempo de ejecución era considerablemente mayor. En cambio, la regresión logística, con un menor tiempo de entrenamiento, nos ofrecía un buen rendimiento en términos de accuracy.\n",
    "\n",
    "Este proyecto fue de gran ayuda, ya que me permitió reforzar todos los conocimientos adquiridos a lo largo del semestre, llevándolos a la práctica de una forma más concreta y eficiente.\n",
    "\n"
   ],
   "id": "2035e7bbb8c94fba"
  }
 ],
 "metadata": {
  "kernelspec": {
   "display_name": "Python 3",
   "language": "python",
   "name": "python3"
  },
  "language_info": {
   "codemirror_mode": {
    "name": "ipython",
    "version": 2
   },
   "file_extension": ".py",
   "mimetype": "text/x-python",
   "name": "python",
   "nbconvert_exporter": "python",
   "pygments_lexer": "ipython2",
   "version": "2.7.6"
  }
 },
 "nbformat": 4,
 "nbformat_minor": 5
}
