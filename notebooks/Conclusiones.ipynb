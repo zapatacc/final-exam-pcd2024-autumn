{
 "cells": [
  {
   "cell_type": "markdown",
   "metadata": {},
   "source": [
    "Conclusiones"
   ]
  },
  {
   "cell_type": "markdown",
   "metadata": {},
   "source": [
    "Análisis Exploratorio de Datos (EDA):\n",
    "\n",
    "El análisis exploratorio permitió identificar las características clave del conjunto de datos, incluyendo patrones, distribuciones, valores atípicos y relaciones entre variables. Además, se abordó el balanceo de categorías para garantizar una representación adecuada en el conjunto de datos. Este análisis inicial fue fundamental para diseñar la estrategia de ingeniería de características y para entender mejor el alcance del examen.\n",
    "\n",
    "Ingeniería de Características:\n",
    "Se procesaron los datos para estandarizar su estructura, incluyendo la eliminación de valores faltantes y la normalización de nombres de variables. Adicionalmente, se aplicaron transformaciones al texto, como convertir a minúsculas, eliminar puntuaciones y lematizar, entre otras. Estas acciones garantizaron que los modelos de machine learning trabajaran con datos limpios, consistentes y mejor preparados, lo cual impactó positivamente en el desempeño de los modelos. La modificación a resaltar fue la aparición de valores que estaban restrignidos debido a la confidencialidad. Por esto, se usó un REGEX para eliminar desde 2 X's en adelante.\n",
    "\n",
    "Entrenamiento de Modelos:\n",
    "Dos modelos fueron entrenados y evaluados: Logistic SPM y Random Forest (RF). Los experimentos fueron registrados en MLflow, lo que facilitó la comparación de métricas como la precisión (accuracy).  El modelo SPM alcanzó el mejor desempeño con un 50% de accuracy, siendo registrado como el modelo Champion, mientras que el Random Forest quedó como el Challenger. Intenté localmente hacer una SVC, pero tardó mucho, y los resultados no fueron los epserados.\n",
    "\n",
    "Registro de Modelos:\n",
    "Se registraron los modelos en el Model Registry de MLflow, asegurando un seguimiento detallado, versionamiento y la posibilidad de desplegar el modelo Champion. Este proceso garantiza la trazabilidad de los modelos y permite futuras iteraciones o mejoras.\n",
    "\n",
    "Orquestación:\n",
    "Se implementó un flujo automatizado con Prefect que integra todo el pipeline, incluyendo preprocesamiento, entrenamiento, evaluación y registro de modelos en MLflow. Esto asegura la reproducibilidad y la ejecución sistemática de cada paso del flujo de trabajo.\n",
    "\n",
    "API:\n",
    "Se desarrolló una API para exponer el modelo Champion, lo que permite realizar predicciones de manera rápida y eficiente. Esto facilita la integración del modelo en aplicaciones reales, permitiendo su uso directo por parte de los usuarios.\n",
    "\n",
    "# Streamlit: Faltó por hacer\n",
    "\n",
    "\n",
    "# Docker: Faltó por hacer\n",
    "\n",
    "\n",
    "Conclusiones Finales:\n",
    "El objetivo del examen fue cumplido al desarrollar y desplegar un pipeline completo que abarca desde el procesamiento de datos hasta la predicción en tiempo real. El uso de herramientas modernas como Prefect, MLflow, Docker, y Streamlit permiten una solución robusta y reproducible. Me hubiera encantado tener mayor tiempo para el desarrollo del examen o la misma subida, siendo consciente de que no todos constamos de las mismas responsabilidades y tiempos. Aún así respeto la dinámica."
   ]
  },
  {
   "cell_type": "code",
   "execution_count": null,
   "metadata": {},
   "outputs": [],
   "source": []
  },
  {
   "cell_type": "code",
   "execution_count": null,
   "metadata": {},
   "outputs": [],
   "source": []
  }
 ],
 "metadata": {
  "kernelspec": {
   "display_name": "venv",
   "language": "python",
   "name": "python3"
  },
  "language_info": {
   "codemirror_mode": {
    "name": "ipython",
    "version": 3
   },
   "file_extension": ".py",
   "mimetype": "text/x-python",
   "name": "python",
   "nbconvert_exporter": "python",
   "pygments_lexer": "ipython3",
   "version": "3.12.4"
  }
 },
 "nbformat": 4,
 "nbformat_minor": 2
}
