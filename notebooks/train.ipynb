{
 "cells": [
  {
   "cell_type": "markdown",
   "metadata": {},
   "source": [
    "# MLFLOW - Colomé"
   ]
  },
  {
   "cell_type": "code",
   "execution_count": 18,
   "metadata": {},
   "outputs": [],
   "source": [
    "from sklearn.model_selection import train_test_split\n",
    "import mlflow\n",
    "from sklearn.ensemble import RandomForestClassifier\n",
    "from sklearn.metrics import classification_report, accuracy_score\n",
    "import mlflow.sklearn\n",
    "from mlflow import log_metric, log_param\n",
    "import pandas as pd\n",
    "from sklearn.feature_extraction.text import TfidfVectorizer\n",
    "import dagshub\n",
    "from sklearn.linear_model import LogisticRegression"
   ]
  },
  {
   "cell_type": "code",
   "execution_count": 10,
   "metadata": {},
   "outputs": [],
   "source": [
    "data = pd.read_csv(\"../data/cleaned_tickets.csv\")\n",
    "\n",
    "# Definir X e y\n",
    "X_raw = data['complaint_what_happened']  # Característica textual\n",
    "y = data['ticket_classification']       # Variable objetivo\n",
    "\n",
    "# Vectorizar los textos (Transformación de texto a números)\n",
    "vectorizer = TfidfVectorizer(stop_words='english', max_features=1000)  # Puedes ajustar los parámetros\n",
    "X = vectorizer.fit_transform(X_raw).toarray()"
   ]
  },
  {
   "cell_type": "code",
   "execution_count": 11,
   "metadata": {},
   "outputs": [
    {
     "data": {
      "text/html": [
       "<pre style=\"white-space:pre;overflow-x:auto;line-height:normal;font-family:Menlo,'DejaVu Sans Mono',consolas,'Courier New',monospace\">Accessing as colome8\n",
       "</pre>\n"
      ],
      "text/plain": [
       "Accessing as colome8\n"
      ]
     },
     "metadata": {},
     "output_type": "display_data"
    },
    {
     "data": {
      "text/html": [
       "<pre style=\"white-space:pre;overflow-x:auto;line-height:normal;font-family:Menlo,'DejaVu Sans Mono',consolas,'Courier New',monospace\">Initialized MLflow to track repo <span style=\"color: #008000; text-decoration-color: #008000\">\"zapatacc/final-exam-pcd2024-autumn\"</span>\n",
       "</pre>\n"
      ],
      "text/plain": [
       "Initialized MLflow to track repo \u001b[32m\"zapatacc/final-exam-pcd2024-autumn\"\u001b[0m\n"
      ]
     },
     "metadata": {},
     "output_type": "display_data"
    },
    {
     "data": {
      "text/html": [
       "<pre style=\"white-space:pre;overflow-x:auto;line-height:normal;font-family:Menlo,'DejaVu Sans Mono',consolas,'Courier New',monospace\">Repository zapatacc/final-exam-pcd2024-autumn initialized!\n",
       "</pre>\n"
      ],
      "text/plain": [
       "Repository zapatacc/final-exam-pcd2024-autumn initialized!\n"
      ]
     },
     "metadata": {},
     "output_type": "display_data"
    }
   ],
   "source": [
    "dagshub.init(repo_owner='zapatacc', repo_name='final-exam-pcd2024-autumn', mlflow=True)"
   ]
  },
  {
   "cell_type": "code",
   "execution_count": 14,
   "metadata": {},
   "outputs": [
    {
     "name": "stderr",
     "output_type": "stream",
     "text": [
      "2024/11/20 17:31:25 INFO mlflow.tracking.fluent: Experiment with name 'colome-experiment' does not exist. Creating a new experiment.\n"
     ]
    },
    {
     "data": {
      "text/plain": [
       "<Experiment: artifact_location='mlflow-artifacts:/ff62fd7bba484e129f79990a7cada3e8', creation_time=1732145485355, experiment_id='4', last_update_time=1732145485355, lifecycle_stage='active', name='colome-experiment', tags={}>"
      ]
     },
     "execution_count": 14,
     "metadata": {},
     "output_type": "execute_result"
    }
   ],
   "source": [
    "mlflow.set_tracking_uri(\"https://dagshub.com/zapatacc/final-exam-pcd2024-autumn.mlflow\") \n",
    "mlflow.set_experiment(\"colome-experiment\")"
   ]
  },
  {
   "cell_type": "markdown",
   "metadata": {},
   "source": [
    "Random forest log"
   ]
  },
  {
   "cell_type": "code",
   "execution_count": null,
   "metadata": {},
   "outputs": [
    {
     "name": "stderr",
     "output_type": "stream",
     "text": [
      "2024/11/20 17:34:27 WARNING mlflow.models.model: Model logged without a signature and input example. Please set `input_example` parameter when logging the model to auto infer the model signature.\n",
      "Successfully registered model 'colome-random-forest'.\n",
      "2024/11/20 17:34:38 INFO mlflow.store.model_registry.abstract_store: Waiting up to 300 seconds for model version to finish creation. Model name: colome-random-forest, version 1\n",
      "Created version '1' of model 'colome-random-forest'.\n"
     ]
    },
    {
     "name": "stdout",
     "output_type": "stream",
     "text": [
      "Modelo registrado con precisión: 0.48589506986554176\n",
      "🏃 View run RandomForest-experiment at: https://dagshub.com/zapatacc/final-exam-pcd2024-autumn.mlflow/#/experiments/5/runs/a54bf9a3dfad4f4993880acd41c914ba\n",
      "🧪 View experiment at: https://dagshub.com/zapatacc/final-exam-pcd2024-autumn.mlflow/#/experiments/5\n"
     ]
    }
   ],
   "source": [
    "# Datos de ejemplo\n",
    "X_train, X_test, y_train, y_test = train_test_split(X, y, test_size=0.2, random_state=42)\n",
    "\n",
    "# Configuración del experimento\n",
    "mlflow.set_experiment(\"colome-random-forest\")\n",
    "\n",
    "with mlflow.start_run(run_name=\"RandomForest-experiment\"):\n",
    "    # Hiperparámetros\n",
    "    params = {\n",
    "        \"n_estimators\": 100,\n",
    "        \"max_depth\": 10,\n",
    "        \"min_samples_split\": 2,\n",
    "        \"random_state\": 42\n",
    "    }\n",
    "\n",
    "    # Registrar parámetros en MLflow\n",
    "    for param, value in params.items():\n",
    "        log_param(param, value)\n",
    "\n",
    "    # Entrenamiento del modelo\n",
    "    model = RandomForestClassifier(**params)\n",
    "    model.fit(X_train, y_train)\n",
    "\n",
    "    # Predicción\n",
    "    predictions = model.predict(X_test)\n",
    "\n",
    "    # Evaluación\n",
    "    accuracy = accuracy_score(y_test, predictions)\n",
    "    log_metric(\"accuracy\", accuracy)\n",
    "\n",
    "    # Registrar el modelo\n",
    "    mlflow.sklearn.log_model(model, \"colome-random-forest-model\")\n",
    "\n",
    "    print(f\"Modelo registrado con precisión: {accuracy}\")\n",
    "\n"
   ]
  },
  {
   "cell_type": "code",
   "execution_count": null,
   "metadata": {},
   "outputs": [],
   "source": [
    "mlflow.end_run()"
   ]
  },
  {
   "cell_type": "markdown",
   "metadata": {},
   "source": [
    "<!-- logistic regression log -->"
   ]
  },
  {
   "cell_type": "code",
   "execution_count": null,
   "metadata": {},
   "outputs": [
    {
     "name": "stderr",
     "output_type": "stream",
     "text": [
      "2024/11/20 17:42:21 INFO mlflow.tracking.fluent: Experiment with name 'colome-logistic-regression' does not exist. Creating a new experiment.\n",
      "2024/11/20 17:42:50 WARNING mlflow.models.model: Model logged without a signature and input example. Please set `input_example` parameter when logging the model to auto infer the model signature.\n",
      "Successfully registered model 'colome-logistic-regression'.\n",
      "2024/11/20 17:42:53 INFO mlflow.store.model_registry.abstract_store: Waiting up to 300 seconds for model version to finish creation. Model name: colome-logistic-regression, version 1\n",
      "Created version '1' of model 'colome-logistic-regression'.\n"
     ]
    },
    {
     "name": "stdout",
     "output_type": "stream",
     "text": [
      "Modelo registrado con precisión: 0.5713155813340364\n",
      "🏃 View run LogisticRegression-experiment at: https://dagshub.com/zapatacc/final-exam-pcd2024-autumn.mlflow/#/experiments/7/runs/3a84449d69ea4bd788525e1e64fbdc5f\n",
      "🧪 View experiment at: https://dagshub.com/zapatacc/final-exam-pcd2024-autumn.mlflow/#/experiments/7\n"
     ]
    }
   ],
   "source": [
    "mlflow.set_experiment(\"colome-logistic-regression\")\n",
    "\n",
    "with mlflow.start_run(run_name=\"LogisticRegression-experiment\"):\n",
    "    # Hiperparámetros\n",
    "    params = {\n",
    "        \"C\": 1.0,  # Regularización\n",
    "        \"solver\": \"liblinear\"  # Solver adecuado para datasets pequeños\n",
    "    }\n",
    "\n",
    "    # Registrar parámetros en MLflow\n",
    "    for param, value in params.items():\n",
    "        log_param(param, value)\n",
    "\n",
    "    # Crear el modelo de Regresión Logística\n",
    "    model = LogisticRegression(**params)\n",
    "    model.fit(X_train, y_train)\n",
    "\n",
    "    # Predicción\n",
    "    predictions = model.predict(X_test)\n",
    "\n",
    "    # Evaluación\n",
    "    accuracy = accuracy_score(y_test, predictions)\n",
    "    log_metric(\"accuracy\", accuracy)\n",
    "\n",
    "    # Registrar el modelo\n",
    "    mlflow.sklearn.log_model(model, \"logistic-regression-model\")\n",
    "\n",
    "    print(f\"Modelo registrado con precisión: {accuracy}\")\n"
   ]
  },
  {
   "cell_type": "code",
   "execution_count": 29,
   "metadata": {},
   "outputs": [
    {
     "name": "stdout",
     "output_type": "stream",
     "text": [
      "🏃 View run zealous-auk-384 at: https://dagshub.com/zapatacc/final-exam-pcd2024-autumn.mlflow/#/experiments/7/runs/57aef99af7f342a4bc8e7db4bb94821f\n",
      "🧪 View experiment at: https://dagshub.com/zapatacc/final-exam-pcd2024-autumn.mlflow/#/experiments/7\n"
     ]
    }
   ],
   "source": [
    "mlflow.end_run()"
   ]
  },
  {
   "cell_type": "markdown",
   "metadata": {},
   "source": [
    "Hyperparameter tuning"
   ]
  },
  {
   "cell_type": "markdown",
   "metadata": {},
   "source": [
    "Random forest"
   ]
  },
  {
   "cell_type": "code",
   "execution_count": 30,
   "metadata": {},
   "outputs": [
    {
     "name": "stdout",
     "output_type": "stream",
     "text": [
      "Fitting 3 folds for each of 9 candidates, totalling 27 fits\n"
     ]
    },
    {
     "name": "stderr",
     "output_type": "stream",
     "text": [
      "c:\\Users\\colom\\OneDrive - ITESO\\iteso\\5to semestre\\cienciadatos\\final-exam-pcd2024-autumn\\venv\\Lib\\site-packages\\sklearn\\model_selection\\_split.py:776: UserWarning: The least populated class in y has only 1 members, which is less than n_splits=3.\n",
      "  warnings.warn(\n"
     ]
    },
    {
     "name": "stdout",
     "output_type": "stream",
     "text": [
      "Mejores parámetros: {'max_depth': 20, 'n_estimators': 100}\n"
     ]
    },
    {
     "name": "stderr",
     "output_type": "stream",
     "text": [
      "2024/11/20 19:43:29 WARNING mlflow.models.model: Model logged without a signature and input example. Please set `input_example` parameter when logging the model to auto infer the model signature.\n"
     ]
    },
    {
     "name": "stdout",
     "output_type": "stream",
     "text": [
      "Modelo de Random Forest registrado con precisión: 0.533350909570261\n",
      "🏃 View run coolme-RandomForest-Hyperparameter-Tuning at: https://dagshub.com/zapatacc/final-exam-pcd2024-autumn.mlflow/#/experiments/5/runs/bb57ddfb7f3b49588002fcce72361bb6\n",
      "🧪 View experiment at: https://dagshub.com/zapatacc/final-exam-pcd2024-autumn.mlflow/#/experiments/5\n"
     ]
    }
   ],
   "source": [
    "from sklearn.model_selection import GridSearchCV\n",
    "\n",
    "mlflow.set_experiment(\"colome-random-forest\")  # Configurar el experimento\n",
    "\n",
    "with mlflow.start_run(run_name=\"coolme-RandomForest-Hyperparameter-Tuning\"):  # Crear una nueva ejecución\n",
    "    # Definir los parámetros para GridSearch\n",
    "    param_grid = {\n",
    "        \"n_estimators\": [50, 100, 200],\n",
    "        \"max_depth\": [5, 10, 20]\n",
    "    }\n",
    "\n",
    "    # Crear el modelo y realizar la búsqueda de hiperparámetros\n",
    "    grid_search = GridSearchCV(RandomForestClassifier(random_state=42), param_grid, cv=3, n_jobs=-1, verbose=1)\n",
    "    grid_search.fit(X_train, y_train)\n",
    "\n",
    "    # Obtener el mejor modelo y los parámetros óptimos\n",
    "    best_model = grid_search.best_estimator_\n",
    "    best_params = grid_search.best_params_\n",
    "\n",
    "    # Loggear los mejores parámetros\n",
    "    print(f\"Mejores parámetros: {best_params}\")\n",
    "    for param, value in best_params.items():\n",
    "        mlflow.log_param(param, value)\n",
    "\n",
    "    # Evaluar el mejor modelo\n",
    "    accuracy = accuracy_score(y_test, best_model.predict(X_test))\n",
    "    mlflow.log_metric(\"accuracy\", accuracy)\n",
    "\n",
    "    # Registrar el modelo en MLflow\n",
    "    mlflow.sklearn.log_model(best_model, \"colome-hypeparameter-random-forest\")\n",
    "\n",
    "    print(f\"Modelo de Random Forest registrado con precisión: {accuracy}\")\n",
    "\n"
   ]
  },
  {
   "cell_type": "code",
   "execution_count": 31,
   "metadata": {},
   "outputs": [],
   "source": [
    "mlflow.end_run()"
   ]
  },
  {
   "cell_type": "markdown",
   "metadata": {},
   "source": [
    "Logistic Regression"
   ]
  },
  {
   "cell_type": "code",
   "execution_count": 32,
   "metadata": {},
   "outputs": [
    {
     "name": "stdout",
     "output_type": "stream",
     "text": [
      "Fitting 3 folds for each of 8 candidates, totalling 24 fits\n"
     ]
    },
    {
     "name": "stderr",
     "output_type": "stream",
     "text": [
      "c:\\Users\\colom\\OneDrive - ITESO\\iteso\\5to semestre\\cienciadatos\\final-exam-pcd2024-autumn\\venv\\Lib\\site-packages\\sklearn\\model_selection\\_split.py:776: UserWarning: The least populated class in y has only 1 members, which is less than n_splits=3.\n",
      "  warnings.warn(\n"
     ]
    },
    {
     "name": "stdout",
     "output_type": "stream",
     "text": [
      "Mejores parámetros: {'C': 1, 'solver': 'saga'}\n"
     ]
    },
    {
     "name": "stderr",
     "output_type": "stream",
     "text": [
      "2024/11/20 20:04:50 WARNING mlflow.models.model: Model logged without a signature and input example. Please set `input_example` parameter when logging the model to auto infer the model signature.\n"
     ]
    },
    {
     "name": "stdout",
     "output_type": "stream",
     "text": [
      "Modelo de Regresión Logística registrado con precisión: 0.5810703928288954\n",
      "🏃 View run colome-LogisticRegression-Hyperparameter-Tuning at: https://dagshub.com/zapatacc/final-exam-pcd2024-autumn.mlflow/#/experiments/7/runs/2c0776034a8740dd9d281feaa6c7b2a1\n",
      "🧪 View experiment at: https://dagshub.com/zapatacc/final-exam-pcd2024-autumn.mlflow/#/experiments/7\n"
     ]
    }
   ],
   "source": [
    "mlflow.set_experiment(\"colome-logistic-regression\")  # Configurar el experimento\n",
    "\n",
    "with mlflow.start_run(run_name=\"colome-LogisticRegression-Hyperparameter-Tuning\"):  # Crear una nueva ejecución\n",
    "    # Definir los parámetros de GridSearch para la Regresión Logística\n",
    "    param_grid_lr = {\n",
    "        'C': [0.01, 0.1, 1, 10],  # Parámetros de regularización\n",
    "        'solver': ['liblinear', 'saga']  # Solvers disponibles\n",
    "    }\n",
    "\n",
    "    # Crear el modelo de Regresión Logística\n",
    "    logreg = LogisticRegression()\n",
    "\n",
    "    # Realizar la búsqueda de hiperparámetros con validación cruzada\n",
    "    grid_search_lr = GridSearchCV(logreg, param_grid_lr, cv=3, n_jobs=-1, verbose=1)\n",
    "    grid_search_lr.fit(X_train, y_train)\n",
    "\n",
    "    # Obtener el mejor modelo y los parámetros\n",
    "    best_lr_model = grid_search_lr.best_estimator_\n",
    "    best_lr_params = grid_search_lr.best_params_\n",
    "\n",
    "    # Loggear los mejores parámetros\n",
    "    print(f\"Mejores parámetros: {best_lr_params}\")\n",
    "    for param, value in best_lr_params.items():\n",
    "        mlflow.log_param(param, value)\n",
    "\n",
    "    # Evaluar el mejor modelo\n",
    "    predictions_lr = best_lr_model.predict(X_test)\n",
    "    accuracy_lr = accuracy_score(y_test, predictions_lr)\n",
    "\n",
    "    # Loggear la métrica de precisión\n",
    "    mlflow.log_metric(\"accuracy\", accuracy_lr)\n",
    "\n",
    "    # Registrar el modelo en MLflow\n",
    "    mlflow.sklearn.log_model(best_lr_model, \"colome-hyperparameter-logistic-regression\")\n",
    "\n",
    "    print(f\"Modelo de Regresión Logística registrado con precisión: {accuracy_lr}\")\n"
   ]
  },
  {
   "cell_type": "code",
   "execution_count": 33,
   "metadata": {},
   "outputs": [],
   "source": [
    "mlflow.end_run()"
   ]
  },
  {
   "cell_type": "markdown",
   "metadata": {},
   "source": [
    "Champion y Challenger"
   ]
  },
  {
   "cell_type": "code",
   "execution_count": 34,
   "metadata": {},
   "outputs": [],
   "source": [
    "from mlflow.tracking import MlflowClient\n",
    "\n",
    "client = MlflowClient()\n",
    "\n",
    "# Nombre de los experimentos\n",
    "experimento_logistic = \"colome-logistic-regression\"\n",
    "experimento_rf = \"colome-random-forest\"\n",
    "\n",
    "# Obtener ID de los experimentos\n",
    "experiment_id_logistic = client.get_experiment_by_name(experimento_logistic).experiment_id\n",
    "experiment_id_rf = client.get_experiment_by_name(experimento_rf).experiment_id\n",
    "\n",
    "# Obtener las ejecuciones de los experimentos\n",
    "runs_logistic = client.search_runs(\n",
    "    experiment_ids=[experiment_id_logistic],\n",
    "    filter_string=\"\",\n",
    "    order_by=[\"metrics.accuracy DESC\"],  # Ordenar por mayor accuracy\n",
    "    max_results=1\n",
    ")\n",
    "runs_rf = client.search_runs(\n",
    "    experiment_ids=[experiment_id_rf],\n",
    "    filter_string=\"\",\n",
    "    order_by=[\"metrics.accuracy DESC\"],  # Ordenar por mayor accuracy\n",
    "    max_results=1\n",
    ")\n",
    "\n",
    "# Extraer el mejor modelo y sus métricas\n",
    "best_logistic_run = runs_logistic[0]\n",
    "best_rf_run = runs_rf[0]\n",
    "\n",
    "accuracy_logistic = best_logistic_run.data.metrics[\"accuracy\"]\n",
    "accuracy_rf = best_rf_run.data.metrics[\"accuracy\"]\n",
    "\n",
    "logistic_model_uri = f\"runs:/{best_logistic_run.info.run_id}/logistic-regression-model\"\n",
    "rf_model_uri = f\"runs:/{best_rf_run.info.run_id}/random-forest-model\""
   ]
  },
  {
   "cell_type": "markdown",
   "metadata": {},
   "source": [
    "Registrar modelo"
   ]
  },
  {
   "cell_type": "code",
   "execution_count": 36,
   "metadata": {},
   "outputs": [
    {
     "name": "stderr",
     "output_type": "stream",
     "text": [
      "2024/11/20 21:51:58 INFO mlflow.store.model_registry.abstract_store: Waiting up to 300 seconds for model version to finish creation. Model name: COLOME-logistic-regression, version 1\n",
      "2024/11/20 21:51:58 INFO mlflow.store.model_registry.abstract_store: Waiting up to 300 seconds for model version to finish creation. Model name: COLOME-random-forest, version 1\n"
     ]
    }
   ],
   "source": [
    "# Registrar el modelo Logistic Regression\n",
    "logistic_model_name = \"COLOME-logistic-regression\"\n",
    "rf_model_name = \"COLOME-random-forest\"\n",
    "\n",
    "client.create_registered_model(logistic_model_name)  # Crear registro si no existe\n",
    "logistic_model_version = client.create_model_version(\n",
    "    name=logistic_model_name,\n",
    "    source=logistic_model_uri,\n",
    "    run_id=best_logistic_run.info.run_id\n",
    ")\n",
    "\n",
    "# Registrar el modelo Random Forest\n",
    "client.create_registered_model(rf_model_name)  # Crear registro si no existe\n",
    "rf_model_version = client.create_model_version(\n",
    "    name=rf_model_name,\n",
    "    source=rf_model_uri,\n",
    "    run_id=best_rf_run.info.run_id\n",
    ")\n"
   ]
  },
  {
   "cell_type": "markdown",
   "metadata": {},
   "source": [
    "ALIASES"
   ]
  },
  {
   "cell_type": "code",
   "execution_count": 37,
   "metadata": {},
   "outputs": [
    {
     "name": "stderr",
     "output_type": "stream",
     "text": [
      "C:\\Users\\colom\\AppData\\Local\\Temp\\ipykernel_10692\\4056651061.py:3: FutureWarning: ``mlflow.tracking.client.MlflowClient.transition_model_version_stage`` is deprecated since 2.9.0. Model registry stages will be removed in a future major release. To learn more about the deprecation of model registry stages, see our migration guide here: https://mlflow.org/docs/latest/model-registry.html#migrating-from-stages\n",
      "  client.transition_model_version_stage(\n",
      "C:\\Users\\colom\\AppData\\Local\\Temp\\ipykernel_10692\\4056651061.py:8: FutureWarning: ``mlflow.tracking.client.MlflowClient.transition_model_version_stage`` is deprecated since 2.9.0. Model registry stages will be removed in a future major release. To learn more about the deprecation of model registry stages, see our migration guide here: https://mlflow.org/docs/latest/model-registry.html#migrating-from-stages\n",
      "  client.transition_model_version_stage(\n"
     ]
    },
    {
     "name": "stdout",
     "output_type": "stream",
     "text": [
      "Champion: Logistic Regression\n",
      "Challenger: Random Forest\n"
     ]
    }
   ],
   "source": [
    "if accuracy_logistic > accuracy_rf:\n",
    "    # Logistic Regression es el Champion\n",
    "    client.transition_model_version_stage(\n",
    "        name=logistic_model_name,\n",
    "        version=logistic_model_version.version,\n",
    "        stage=\"Production\"\n",
    "    )\n",
    "    client.transition_model_version_stage(\n",
    "        name=rf_model_name,\n",
    "        version=rf_model_version.version,\n",
    "        stage=\"Staging\"\n",
    "    )\n",
    "    print(\"Champion: Logistic Regression\")\n",
    "    print(\"Challenger: Random Forest\")\n",
    "else:\n",
    "    # Random Forest es el Champion\n",
    "    client.transition_model_version_stage(\n",
    "        name=rf_model_name,\n",
    "        version=rf_model_version.version,\n",
    "        stage=\"Production\"\n",
    "    )\n",
    "    client.transition_model_version_stage(\n",
    "        name=logistic_model_name,\n",
    "        version=logistic_model_version.version,\n",
    "        stage=\"Staging\"\n",
    "    )\n",
    "    print(\"Champion: Random Forest\")\n",
    "    print(\"Challenger: Logistic Regression\")\n"
   ]
  }
 ],
 "metadata": {
  "kernelspec": {
   "display_name": "venv",
   "language": "python",
   "name": "python3"
  },
  "language_info": {
   "codemirror_mode": {
    "name": "ipython",
    "version": 3
   },
   "file_extension": ".py",
   "mimetype": "text/x-python",
   "name": "python",
   "nbconvert_exporter": "python",
   "pygments_lexer": "ipython3",
   "version": "3.11.8"
  }
 },
 "nbformat": 4,
 "nbformat_minor": 2
}
