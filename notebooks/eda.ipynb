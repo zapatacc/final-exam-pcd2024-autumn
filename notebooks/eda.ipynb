{
 "cells": [
  {
   "cell_type": "markdown",
   "metadata": {},
   "source": [
    "# EDA y DATA WRANGLING - Colomé"
   ]
  },
  {
   "cell_type": "code",
   "execution_count": 5,
   "metadata": {},
   "outputs": [],
   "source": [
    "import json\n",
    "import pandas as pd"
   ]
  },
  {
   "cell_type": "code",
   "execution_count": 9,
   "metadata": {},
   "outputs": [
    {
     "name": "stdout",
     "output_type": "stream",
     "text": [
      "                _index      _type      _id  _score   _source.tags  \\\n",
      "0  complaint-public-v2  complaint  3211475     0.0           None   \n",
      "1  complaint-public-v2  complaint  3229299     0.0  Servicemember   \n",
      "2  complaint-public-v2  complaint  3199379     0.0           None   \n",
      "3  complaint-public-v2  complaint  2673060     0.0           None   \n",
      "4  complaint-public-v2  complaint  3203545     0.0           None   \n",
      "\n",
      "  _source.zip_code _source.complaint_id                       _source.issue  \\\n",
      "0            90301              3211475   Attempts to collect debt not owed   \n",
      "1            319XX              3229299     Written notification about debt   \n",
      "2            77069              3199379  Other features, terms, or problems   \n",
      "3            48066              2673060      Trouble during payment process   \n",
      "4            10473              3203545                    Fees or interest   \n",
      "\n",
      "       _source.date_received _source.state  ... _source.company_response  \\\n",
      "0  2019-04-13T12:00:00-05:00            CA  ...  Closed with explanation   \n",
      "1  2019-05-01T12:00:00-05:00            GA  ...  Closed with explanation   \n",
      "2  2019-04-02T12:00:00-05:00            TX  ...  Closed with explanation   \n",
      "3  2017-09-13T12:00:00-05:00            MI  ...  Closed with explanation   \n",
      "4  2019-04-05T12:00:00-05:00            NY  ...  Closed with explanation   \n",
      "\n",
      "        _source.company _source.submitted_via _source.date_sent_to_company  \\\n",
      "0  JPMORGAN CHASE & CO.                   Web    2019-04-13T12:00:00-05:00   \n",
      "1  JPMORGAN CHASE & CO.                   Web    2019-05-01T12:00:00-05:00   \n",
      "2  JPMORGAN CHASE & CO.                   Web    2019-04-02T12:00:00-05:00   \n",
      "3  JPMORGAN CHASE & CO.                   Web    2017-09-14T12:00:00-05:00   \n",
      "4  JPMORGAN CHASE & CO.              Referral    2019-04-05T12:00:00-05:00   \n",
      "\n",
      "  _source.company_public_response                         _source.sub_product  \\\n",
      "0                            None                            Credit card debt   \n",
      "1                            None                            Credit card debt   \n",
      "2                            None  General-purpose credit card or charge card   \n",
      "3                            None                  Conventional home mortgage   \n",
      "4                            None  General-purpose credit card or charge card   \n",
      "\n",
      "  _source.timely                    _source.complaint_what_happened  \\\n",
      "0            Yes                                                      \n",
      "1            Yes  Good morning my name is XXXX XXXX and I apprec...   \n",
      "2            Yes  I upgraded my XXXX XXXX card in XX/XX/2018 and...   \n",
      "3            Yes                                                      \n",
      "4            Yes                                                      \n",
      "\n",
      "                                  _source.sub_issue  \\\n",
      "0                                 Debt is not yours   \n",
      "1  Didn't receive enough information to verify debt   \n",
      "2             Problem with rewards from credit card   \n",
      "3                                              None   \n",
      "4                         Charged too much interest   \n",
      "\n",
      "  _source.consumer_consent_provided  \n",
      "0              Consent not provided  \n",
      "1                  Consent provided  \n",
      "2                  Consent provided  \n",
      "3              Consent not provided  \n",
      "4                               N/A  \n",
      "\n",
      "[5 rows x 22 columns]\n"
     ]
    }
   ],
   "source": [
    "# Cambia 'ruta_del_archivo.json' por la ruta de tu archivo JSON\n",
    "ruta_json = \"../raw_data/tickets_classification_eng.json\"\n",
    "\n",
    "# Cargar el archivo JSON como un diccionario\n",
    "with open(ruta_json, \"r\", encoding=\"utf-8\") as archivo:\n",
    "    datos = json.load(archivo)\n",
    "\n",
    "df = pd.json_normalize(datos)\n",
    "print(df.head())  # Muestra las primeras filas del DataFrame"
   ]
  },
  {
   "cell_type": "code",
   "execution_count": 10,
   "metadata": {},
   "outputs": [
    {
     "name": "stdout",
     "output_type": "stream",
     "text": [
      "Dataset limpio guardado como 'cleaned_tickets.csv'\n"
     ]
    }
   ],
   "source": [
    "# 1. Selección de columnas relevantes\n",
    "df = df[['_source.complaint_what_happened', '_source.product', '_source.sub_product']]\n",
    "\n",
    "# 2. Renombrar columnas\n",
    "df.rename(columns={\n",
    "    '_source.complaint_what_happened': 'complaint_what_happened',\n",
    "    '_source.product': 'category',\n",
    "    '_source.sub_product': 'sub_product'\n",
    "}, inplace=True)\n",
    "\n",
    "# 3. Crear columna 'ticket_classification'\n",
    "df['ticket_classification'] = df['category'] + ' + ' + df['sub_product']\n",
    "\n",
    "# 4. Eliminar columnas redundantes\n",
    "df.drop(columns=['category', 'sub_product'], inplace=True)\n",
    "\n",
    "# 5. Limpieza de datos en 'complaint_what_happened'\n",
    "# Reemplazar campos vacíos o nulos con 'NaN'\n",
    "df['complaint_what_happened'] = df['complaint_what_happened'].replace('', pd.NA)\n",
    "\n",
    "# 6. Eliminar filas con datos faltantes en columnas críticas\n",
    "df.dropna(subset=['complaint_what_happened', 'ticket_classification'], inplace=True)\n",
    "\n",
    "# 7. Reiniciar el índice\n",
    "df.reset_index(drop=True, inplace=True)\n",
    "\n",
    "# 8. Guardar como archivo CSV\n",
    "df.to_csv('../data/cleaned_tickets.csv', index=False)\n",
    "print(\"Dataset limpio guardado como 'cleaned_tickets.csv'\")\n"
   ]
  },
  {
   "cell_type": "code",
   "execution_count": 11,
   "metadata": {},
   "outputs": [
    {
     "data": {
      "text/html": [
       "<div>\n",
       "<style scoped>\n",
       "    .dataframe tbody tr th:only-of-type {\n",
       "        vertical-align: middle;\n",
       "    }\n",
       "\n",
       "    .dataframe tbody tr th {\n",
       "        vertical-align: top;\n",
       "    }\n",
       "\n",
       "    .dataframe thead th {\n",
       "        text-align: right;\n",
       "    }\n",
       "</style>\n",
       "<table border=\"1\" class=\"dataframe\">\n",
       "  <thead>\n",
       "    <tr style=\"text-align: right;\">\n",
       "      <th></th>\n",
       "      <th>complaint_what_happened</th>\n",
       "      <th>ticket_classification</th>\n",
       "    </tr>\n",
       "  </thead>\n",
       "  <tbody>\n",
       "    <tr>\n",
       "      <th>0</th>\n",
       "      <td>Good morning my name is XXXX XXXX and I apprec...</td>\n",
       "      <td>Debt collection + Credit card debt</td>\n",
       "    </tr>\n",
       "    <tr>\n",
       "      <th>1</th>\n",
       "      <td>I upgraded my XXXX XXXX card in XX/XX/2018 and...</td>\n",
       "      <td>Credit card or prepaid card + General-purpose ...</td>\n",
       "    </tr>\n",
       "    <tr>\n",
       "      <th>2</th>\n",
       "      <td>Chase Card was reported on XX/XX/2019. However...</td>\n",
       "      <td>Credit reporting, credit repair services, or o...</td>\n",
       "    </tr>\n",
       "    <tr>\n",
       "      <th>3</th>\n",
       "      <td>On XX/XX/2018, while trying to book a XXXX  XX...</td>\n",
       "      <td>Credit reporting, credit repair services, or o...</td>\n",
       "    </tr>\n",
       "    <tr>\n",
       "      <th>4</th>\n",
       "      <td>my grand son give me check for {$1600.00} i de...</td>\n",
       "      <td>Checking or savings account + Checking account</td>\n",
       "    </tr>\n",
       "    <tr>\n",
       "      <th>...</th>\n",
       "      <td>...</td>\n",
       "      <td>...</td>\n",
       "    </tr>\n",
       "    <tr>\n",
       "      <th>18958</th>\n",
       "      <td>My husband passed away. Chase bank put check o...</td>\n",
       "      <td>Checking or savings account + Checking account</td>\n",
       "    </tr>\n",
       "    <tr>\n",
       "      <th>18959</th>\n",
       "      <td>After being a Chase Card customer for well ove...</td>\n",
       "      <td>Credit card or prepaid card + General-purpose ...</td>\n",
       "    </tr>\n",
       "    <tr>\n",
       "      <th>18960</th>\n",
       "      <td>On Wednesday, XX/XX/XXXX I called Chas, my XXX...</td>\n",
       "      <td>Credit card or prepaid card + General-purpose ...</td>\n",
       "    </tr>\n",
       "    <tr>\n",
       "      <th>18961</th>\n",
       "      <td>I am not familiar with XXXX pay and did not un...</td>\n",
       "      <td>Checking or savings account + Checking account</td>\n",
       "    </tr>\n",
       "    <tr>\n",
       "      <th>18962</th>\n",
       "      <td>I have had flawless credit for 30 yrs. I've ha...</td>\n",
       "      <td>Credit card or prepaid card + General-purpose ...</td>\n",
       "    </tr>\n",
       "  </tbody>\n",
       "</table>\n",
       "<p>18963 rows × 2 columns</p>\n",
       "</div>"
      ],
      "text/plain": [
       "                                 complaint_what_happened  \\\n",
       "0      Good morning my name is XXXX XXXX and I apprec...   \n",
       "1      I upgraded my XXXX XXXX card in XX/XX/2018 and...   \n",
       "2      Chase Card was reported on XX/XX/2019. However...   \n",
       "3      On XX/XX/2018, while trying to book a XXXX  XX...   \n",
       "4      my grand son give me check for {$1600.00} i de...   \n",
       "...                                                  ...   \n",
       "18958  My husband passed away. Chase bank put check o...   \n",
       "18959  After being a Chase Card customer for well ove...   \n",
       "18960  On Wednesday, XX/XX/XXXX I called Chas, my XXX...   \n",
       "18961  I am not familiar with XXXX pay and did not un...   \n",
       "18962  I have had flawless credit for 30 yrs. I've ha...   \n",
       "\n",
       "                                   ticket_classification  \n",
       "0                     Debt collection + Credit card debt  \n",
       "1      Credit card or prepaid card + General-purpose ...  \n",
       "2      Credit reporting, credit repair services, or o...  \n",
       "3      Credit reporting, credit repair services, or o...  \n",
       "4         Checking or savings account + Checking account  \n",
       "...                                                  ...  \n",
       "18958     Checking or savings account + Checking account  \n",
       "18959  Credit card or prepaid card + General-purpose ...  \n",
       "18960  Credit card or prepaid card + General-purpose ...  \n",
       "18961     Checking or savings account + Checking account  \n",
       "18962  Credit card or prepaid card + General-purpose ...  \n",
       "\n",
       "[18963 rows x 2 columns]"
      ]
     },
     "execution_count": 11,
     "metadata": {},
     "output_type": "execute_result"
    }
   ],
   "source": [
    "df"
   ]
  },
  {
   "cell_type": "code",
   "execution_count": 13,
   "metadata": {},
   "outputs": [
    {
     "data": {
      "text/html": [
       "<div>\n",
       "<style scoped>\n",
       "    .dataframe tbody tr th:only-of-type {\n",
       "        vertical-align: middle;\n",
       "    }\n",
       "\n",
       "    .dataframe tbody tr th {\n",
       "        vertical-align: top;\n",
       "    }\n",
       "\n",
       "    .dataframe thead th {\n",
       "        text-align: right;\n",
       "    }\n",
       "</style>\n",
       "<table border=\"1\" class=\"dataframe\">\n",
       "  <thead>\n",
       "    <tr style=\"text-align: right;\">\n",
       "      <th></th>\n",
       "      <th>complaint_what_happened</th>\n",
       "      <th>ticket_classification</th>\n",
       "    </tr>\n",
       "  </thead>\n",
       "  <tbody>\n",
       "    <tr>\n",
       "      <th>count</th>\n",
       "      <td>18963</td>\n",
       "      <td>18963</td>\n",
       "    </tr>\n",
       "    <tr>\n",
       "      <th>unique</th>\n",
       "      <td>18824</td>\n",
       "      <td>78</td>\n",
       "    </tr>\n",
       "    <tr>\n",
       "      <th>top</th>\n",
       "      <td>Chase has violated 15 USC 1692 by continuing c...</td>\n",
       "      <td>Credit card or prepaid card + General-purpose ...</td>\n",
       "    </tr>\n",
       "    <tr>\n",
       "      <th>freq</th>\n",
       "      <td>11</td>\n",
       "      <td>4918</td>\n",
       "    </tr>\n",
       "  </tbody>\n",
       "</table>\n",
       "</div>"
      ],
      "text/plain": [
       "                                  complaint_what_happened  \\\n",
       "count                                               18963   \n",
       "unique                                              18824   \n",
       "top     Chase has violated 15 USC 1692 by continuing c...   \n",
       "freq                                                   11   \n",
       "\n",
       "                                    ticket_classification  \n",
       "count                                               18963  \n",
       "unique                                                 78  \n",
       "top     Credit card or prepaid card + General-purpose ...  \n",
       "freq                                                 4918  "
      ]
     },
     "execution_count": 13,
     "metadata": {},
     "output_type": "execute_result"
    }
   ],
   "source": [
    "df.describe(include=\"all\")"
   ]
  },
  {
   "cell_type": "code",
   "execution_count": 15,
   "metadata": {},
   "outputs": [
    {
     "name": "stdout",
     "output_type": "stream",
     "text": [
      "count    18963.000000\n",
      "mean      1411.152349\n",
      "std       1550.977004\n",
      "min         19.000000\n",
      "25%        536.000000\n",
      "50%        999.000000\n",
      "75%       1760.000000\n",
      "max      31611.000000\n",
      "Name: text_length, dtype: float64\n"
     ]
    },
    {
     "data": {
      "image/png": "[encoded data removed]",
      "text/plain": [
       "<Figure size 640x480 with 1 Axes>"
      ]
     },
     "metadata": {},
     "output_type": "display_data"
    }
   ],
   "source": [
    "df['text_length'] = df['complaint_what_happened'].apply(len)\n",
    "print(df['text_length'].describe())\n",
    "\n",
    "import matplotlib.pyplot as plt\n",
    "df['text_length'].hist(bins=50)\n",
    "plt.title(\"Distribución de la longitud de los textos\")\n",
    "plt.xlabel(\"Longitud del texto\")\n",
    "plt.ylabel(\"Frecuencia\")\n",
    "plt.show()\n"
   ]
  }
 ],
 "metadata": {
  "kernelspec": {
   "display_name": "venv",
   "language": "python",
   "name": "python3"
  },
  "language_info": {
   "codemirror_mode": {
    "name": "ipython",
    "version": 3
   },
   "file_extension": ".py",
   "mimetype": "text/x-python",
   "name": "python",
   "nbconvert_exporter": "python",
   "pygments_lexer": "ipython3",
   "version": "3.11.8"
  }
 },
 "nbformat": 4,
 "nbformat_minor": 2
}
