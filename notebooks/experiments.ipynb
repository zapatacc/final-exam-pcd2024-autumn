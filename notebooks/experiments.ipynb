{
 "cells": [
  {
   "cell_type": "code",
   "execution_count": null,
   "metadata": {},
   "outputs": [],
   "source": [
    "import pandas as pd\n",
    "import nltk\n",
    "from nltk.corpus import stopwords\n",
    "from nltk.stem import WordNetLemmatizer\n",
    "import string\n",
    "import re\n",
    "from sklearn.feature_extraction.text import TfidfVectorizer\n",
    "from sklearn.model_selection import train_test_split\n",
    "from sklearn.linear_model import LogisticRegression\n",
    "from sklearn.metrics import accuracy_score, mean_squared_error\n",
    "from sklearn.model_selection import train_test_split, GridSearchCV\n",
    "from sklearn.metrics import accuracy_score, classification_report\n",
    "from sklearn.preprocessing import LabelEncoder\n",
    "import pickle"
   ]
  },
  {
   "cell_type": "code",
   "execution_count": 2,
   "metadata": {},
   "outputs": [],
   "source": [
    "def preprocess_text(text):\n",
    "    # minusculas\n",
    "    text = text.lower()\n",
    "    \n",
    "    # Eliminar puntuación\n",
    "    text = ''.join([char for char in text if char not in string.punctuation])\n",
    "\n",
    "    # Eliminar cadenas con más de dos 'X' consecutivas\n",
    "    text = re.sub(r'x{2,}', '', text)\n",
    "\n",
    "    text = re.sub(r'[^a-zA-Z0-9\\s]', '', text)\n",
    "    \n",
    "    # Tokenización\n",
    "    words = nltk.word_tokenize(text)\n",
    "    \n",
    "    # Eliminar stopwords\n",
    "    stop_words = set(stopwords.words('english'))\n",
    "    words = [word for word in words if word not in stop_words]\n",
    "    \n",
    "    # Lematización\n",
    "    lemmatizer = WordNetLemmatizer()\n",
    "    words = [lemmatizer.lemmatize(word) for word in words]\n",
    "    \n",
    "    # Unir las palabras preprocesadas\n",
    "    return ' '.join(words)"
   ]
  },
  {
   "cell_type": "code",
   "execution_count": 3,
   "metadata": {},
   "outputs": [
    {
     "data": {
      "text/html": [
       "<div>\n",
       "<style scoped>\n",
       "    .dataframe tbody tr th:only-of-type {\n",
       "        vertical-align: middle;\n",
       "    }\n",
       "\n",
       "    .dataframe tbody tr th {\n",
       "        vertical-align: top;\n",
       "    }\n",
       "\n",
       "    .dataframe thead th {\n",
       "        text-align: right;\n",
       "    }\n",
       "</style>\n",
       "<table border=\"1\" class=\"dataframe\">\n",
       "  <thead>\n",
       "    <tr style=\"text-align: right;\">\n",
       "      <th></th>\n",
       "      <th>complaint_what_happened</th>\n",
       "      <th>ticket_classification</th>\n",
       "    </tr>\n",
       "  </thead>\n",
       "  <tbody>\n",
       "    <tr>\n",
       "      <th>0</th>\n",
       "      <td>Good morning my name is XXXX XXXX and I apprec...</td>\n",
       "      <td>Debt collection + Credit card debt</td>\n",
       "    </tr>\n",
       "    <tr>\n",
       "      <th>1</th>\n",
       "      <td>I upgraded my XXXX XXXX card in XX/XX/2018 and...</td>\n",
       "      <td>Credit card or prepaid card + General-purpose ...</td>\n",
       "    </tr>\n",
       "    <tr>\n",
       "      <th>2</th>\n",
       "      <td>Chase Card was reported on XX/XX/2019. However...</td>\n",
       "      <td>Credit reporting, credit repair services, or o...</td>\n",
       "    </tr>\n",
       "    <tr>\n",
       "      <th>3</th>\n",
       "      <td>On XX/XX/2018, while trying to book a XXXX  XX...</td>\n",
       "      <td>Credit reporting, credit repair services, or o...</td>\n",
       "    </tr>\n",
       "    <tr>\n",
       "      <th>4</th>\n",
       "      <td>my grand son give me check for {$1600.00} i de...</td>\n",
       "      <td>Checking or savings account + Checking account</td>\n",
       "    </tr>\n",
       "    <tr>\n",
       "      <th>...</th>\n",
       "      <td>...</td>\n",
       "      <td>...</td>\n",
       "    </tr>\n",
       "    <tr>\n",
       "      <th>18958</th>\n",
       "      <td>My husband passed away. Chase bank put check o...</td>\n",
       "      <td>Checking or savings account + Checking account</td>\n",
       "    </tr>\n",
       "    <tr>\n",
       "      <th>18959</th>\n",
       "      <td>After being a Chase Card customer for well ove...</td>\n",
       "      <td>Credit card or prepaid card + General-purpose ...</td>\n",
       "    </tr>\n",
       "    <tr>\n",
       "      <th>18960</th>\n",
       "      <td>On Wednesday, XX/XX/XXXX I called Chas, my XXX...</td>\n",
       "      <td>Credit card or prepaid card + General-purpose ...</td>\n",
       "    </tr>\n",
       "    <tr>\n",
       "      <th>18961</th>\n",
       "      <td>I am not familiar with XXXX pay and did not un...</td>\n",
       "      <td>Checking or savings account + Checking account</td>\n",
       "    </tr>\n",
       "    <tr>\n",
       "      <th>18962</th>\n",
       "      <td>I have had flawless credit for 30 yrs. I've ha...</td>\n",
       "      <td>Credit card or prepaid card + General-purpose ...</td>\n",
       "    </tr>\n",
       "  </tbody>\n",
       "</table>\n",
       "<p>18963 rows × 2 columns</p>\n",
       "</div>"
      ],
      "text/plain": [
       "                                 complaint_what_happened  \\\n",
       "0      Good morning my name is XXXX XXXX and I apprec...   \n",
       "1      I upgraded my XXXX XXXX card in XX/XX/2018 and...   \n",
       "2      Chase Card was reported on XX/XX/2019. However...   \n",
       "3      On XX/XX/2018, while trying to book a XXXX  XX...   \n",
       "4      my grand son give me check for {$1600.00} i de...   \n",
       "...                                                  ...   \n",
       "18958  My husband passed away. Chase bank put check o...   \n",
       "18959  After being a Chase Card customer for well ove...   \n",
       "18960  On Wednesday, XX/XX/XXXX I called Chas, my XXX...   \n",
       "18961  I am not familiar with XXXX pay and did not un...   \n",
       "18962  I have had flawless credit for 30 yrs. I've ha...   \n",
       "\n",
       "                                   ticket_classification  \n",
       "0                     Debt collection + Credit card debt  \n",
       "1      Credit card or prepaid card + General-purpose ...  \n",
       "2      Credit reporting, credit repair services, or o...  \n",
       "3      Credit reporting, credit repair services, or o...  \n",
       "4         Checking or savings account + Checking account  \n",
       "...                                                  ...  \n",
       "18958     Checking or savings account + Checking account  \n",
       "18959  Credit card or prepaid card + General-purpose ...  \n",
       "18960  Credit card or prepaid card + General-purpose ...  \n",
       "18961     Checking or savings account + Checking account  \n",
       "18962  Credit card or prepaid card + General-purpose ...  \n",
       "\n",
       "[18963 rows x 2 columns]"
      ]
     },
     "execution_count": 3,
     "metadata": {},
     "output_type": "execute_result"
    }
   ],
   "source": [
    "df = pd.read_csv(\"../data/clean/processed_data.csv\")\n",
    "df"
   ]
  },
  {
   "cell_type": "code",
   "execution_count": 4,
   "metadata": {},
   "outputs": [],
   "source": [
    "df['complaint_what_happened'] = df['complaint_what_happened'].apply(preprocess_text)\n",
    "df['ticket_classification'] = df['ticket_classification'].apply(preprocess_text)"
   ]
  },
  {
   "cell_type": "code",
   "execution_count": 5,
   "metadata": {},
   "outputs": [],
   "source": [
    "X = df['complaint_what_happened']\n",
    "y = df['ticket_classification']\n",
    "\n",
    "label_encoder = LabelEncoder()\n",
    "\n",
    "y = label_encoder.fit_transform(y)\n",
    "tfidf = TfidfVectorizer()\n",
    "\n",
    "X = tfidf.fit_transform(X)"
   ]
  },
  {
   "cell_type": "code",
   "execution_count": 6,
   "metadata": {},
   "outputs": [],
   "source": [
    "X_train, X_test, y_train, y_test = train_test_split(X,y,test_size=0.2)"
   ]
  },
  {
   "cell_type": "code",
   "execution_count": 7,
   "metadata": {},
   "outputs": [
    {
     "data": {
      "text/html": [
       "<pre style=\"white-space:pre;overflow-x:auto;line-height:normal;font-family:Menlo,'DejaVu Sans Mono',consolas,'Courier New',monospace\">Accessing as Maria-Paula-PR\n",
       "</pre>\n"
      ],
      "text/plain": [
       "Accessing as Maria-Paula-PR\n"
      ]
     },
     "metadata": {},
     "output_type": "display_data"
    },
    {
     "data": {
      "text/html": [
       "<pre style=\"white-space:pre;overflow-x:auto;line-height:normal;font-family:Menlo,'DejaVu Sans Mono',consolas,'Courier New',monospace\">Initialized MLflow to track repo <span style=\"color: #008000; text-decoration-color: #008000\">\"zapatacc/final-exam-pcd2024-autumn\"</span>\n",
       "</pre>\n"
      ],
      "text/plain": [
       "Initialized MLflow to track repo \u001b[32m\"zapatacc/final-exam-pcd2024-autumn\"\u001b[0m\n"
      ]
     },
     "metadata": {},
     "output_type": "display_data"
    },
    {
     "data": {
      "text/html": [
       "<pre style=\"white-space:pre;overflow-x:auto;line-height:normal;font-family:Menlo,'DejaVu Sans Mono',consolas,'Courier New',monospace\">Repository zapatacc/final-exam-pcd2024-autumn initialized!\n",
       "</pre>\n"
      ],
      "text/plain": [
       "Repository zapatacc/final-exam-pcd2024-autumn initialized!\n"
      ]
     },
     "metadata": {},
     "output_type": "display_data"
    },
    {
     "data": {
      "text/plain": [
       "<Experiment: artifact_location='mlflow-artifacts:/325528813677435a86c03d4a3fd51d45', creation_time=1732229152759, experiment_id='25', last_update_time=1732229152759, lifecycle_stage='active', name='mariapaula-perez-experiments', tags={}>"
      ]
     },
     "execution_count": 7,
     "metadata": {},
     "output_type": "execute_result"
    }
   ],
   "source": [
    "import dagshub\n",
    "import mlflow\n",
    "\n",
    "dagshub.init(repo_owner='zapatacc', repo_name='final-exam-pcd2024-autumn', mlflow=True)\n",
    "TRACKING_URI = mlflow.get_tracking_uri()\n",
    "mlflow.set_tracking_uri(TRACKING_URI)\n",
    "mlflow.set_experiment(\"mariapaula-perez-experiments\") # Guarda MI experimento "
   ]
  },
  {
   "cell_type": "code",
   "execution_count": 8,
   "metadata": {},
   "outputs": [],
   "source": [
    "from sklearn.svm import SVC\n",
    "from sklearn.linear_model import LogisticRegression\n",
    "\n",
    "# Diccionario de modelos con parámetros\n",
    "models_gridSearch = {\n",
    "    \"SVC\": {\n",
    "        \"model\": SVC(),\n",
    "        \"params\": {\n",
    "            \"C\": [1],           # Regularización\n",
    "            \"kernel\": [\"linear\"], # Tipos de kernel\n",
    "            \"gamma\": [\"auto\"]   # Coeficiente del kernel\n",
    "        }\n",
    "    },\n",
    "    \"LogisticRegression\": {\n",
    "        \"model\": LogisticRegression(),\n",
    "        \"params\": {\n",
    "            \"C\": [0.1, 1, 5],          # Regularización\n",
    "            \"solver\": [\"liblinear\"], # Algoritmo de optimización\n",
    "            \"penalty\": [\"l2\"]           # Tipo de penalización\n",
    "        }\n",
    "    }\n",
    "}"
   ]
  },
  {
   "cell_type": "code",
   "execution_count": 9,
   "metadata": {},
   "outputs": [
    {
     "name": "stderr",
     "output_type": "stream",
     "text": [
      "2024/11/22 00:11:13 WARNING mlflow.models.model: Model logged without a signature and input example. Please set `input_example` parameter when logging the model to auto infer the model signature.\n",
      "2024/11/22 00:11:24 INFO mlflow.tracking._tracking_service.client: 🏃 View run mariapaula-perez-SVC at: https://dagshub.com/zapatacc/final-exam-pcd2024-autumn.mlflow/#/experiments/25/runs/b8cbe8369b724b579b398c5949ec4b47.\n",
      "2024/11/22 00:11:24 INFO mlflow.tracking._tracking_service.client: 🧪 View experiment at: https://dagshub.com/zapatacc/final-exam-pcd2024-autumn.mlflow/#/experiments/25.\n"
     ]
    }
   ],
   "source": [
    "model = models_gridSearch[\"SVC\"][\"model\"]\n",
    "params = models_gridSearch[\"SVC\"][\"params\"]\n",
    "grid = GridSearchCV(model, params, scoring=\"accuracy\", cv=3)\n",
    "\n",
    "with mlflow.start_run(run_name=\"mariapaula-perez-SVC\"):\n",
    "    grid.fit(X_train,y_train)\n",
    "    model = grid.best_estimator_\n",
    "    y_pred = model.predict(X_test)\n",
    "\n",
    "    accuracy = accuracy_score(y_test,y_pred)\n",
    "\n",
    "    with open (\"LabelEncoder.pkl\", \"wb\") as file:\n",
    "        pickle.dump(label_encoder, file)\n",
    "    mlflow.log_artifact(\"LabelEncoder.pkl\")\n",
    "\n",
    "    \n",
    "    with open (\"TfidfVectorizer.pkl\", \"wb\") as file:\n",
    "        pickle.dump(tfidf, file)\n",
    "    mlflow.log_artifact(\"TfidfVectorizer.pkl\")\n",
    "\n",
    "    ## Log del modelo\n",
    "    mlflow.log_params(grid.best_params_)\n",
    "    mlflow.log_metric(\"accuracy\", accuracy)\n",
    "\n",
    "    mlflow.sklearn.log_model(model, artifact_path=f\"SVC-maripau\")"
   ]
  },
  {
   "cell_type": "code",
   "execution_count": null,
   "metadata": {},
   "outputs": [
    {
     "name": "stderr",
     "output_type": "stream",
     "text": [
      "2024/11/22 00:13:25 WARNING mlflow.models.model: Model logged without a signature and input example. Please set `input_example` parameter when logging the model to auto infer the model signature.\n",
      "2024/11/22 00:13:32 INFO mlflow.tracking._tracking_service.client: 🏃 View run mariapaula-perez-LogisticRegression at: https://dagshub.com/zapatacc/final-exam-pcd2024-autumn.mlflow/#/experiments/25/runs/cc33f6b9baf142e28efc1d1ad3e1bb4a.\n",
      "2024/11/22 00:13:32 INFO mlflow.tracking._tracking_service.client: 🧪 View experiment at: https://dagshub.com/zapatacc/final-exam-pcd2024-autumn.mlflow/#/experiments/25.\n"
     ]
    }
   ],
   "source": [
    "model = models_gridSearch[\"LogisticRegression\"][\"model\"]\n",
    "params = models_gridSearch[\"LogisticRegression\"][\"params\"]\n",
    "grid = GridSearchCV(model, params, scoring=\"accuracy\", cv=3)\n",
    "\n",
    "with mlflow.start_run(run_name=\"mariapaula-perez-LogisticRegression\"):\n",
    "    grid.fit(X_train,y_train)\n",
    "    model = grid.best_estimator_\n",
    "    y_pred = model.predict(X_test)\n",
    "\n",
    "    accuracy = accuracy_score(y_test,y_pred)\n",
    "\n",
    "    with open (\"LabelEncoder.pkl\", \"wb\") as file:\n",
    "        pickle.dump(label_encoder, file)\n",
    "    mlflow.log_artifact(\"LabelEncoder.pkl\")\n",
    "\n",
    "    \n",
    "    with open (\"TfidfVectorizer.pkl\", \"wb\") as file:\n",
    "        pickle.dump(tfidf, file)\n",
    "    mlflow.log_artifact(\"TfidfVectorizer.pkl\")\n",
    "\n",
    "    ## Log del modelo\n",
    "    mlflow.log_params(grid.best_params_)\n",
    "    mlflow.log_metric(\"accuracy\", accuracy)\n",
    "\n",
    "    mlflow.sklearn.log_model(model, artifact_path=f\"LogisticRegression-maripau\")"
   ]
  }
 ],
 "metadata": {
  "kernelspec": {
   "display_name": "Python 3",
   "language": "python",
   "name": "python3"
  },
  "language_info": {
   "codemirror_mode": {
    "name": "ipython",
    "version": 3
   },
   "file_extension": ".py",
   "mimetype": "text/x-python",
   "name": "python",
   "nbconvert_exporter": "python",
   "pygments_lexer": "ipython3",
   "version": "3.12.0"
  }
 },
 "nbformat": 4,
 "nbformat_minor": 2
}
