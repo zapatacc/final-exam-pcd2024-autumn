{
 "cells": [
  {
   "metadata": {},
   "cell_type": "markdown",
   "source": [
    "## Model Training SVM\n",
    "\n",
    "Para la selección de modelos, decidí entrenar un modelo de Linear Support Vector Machine y otro de Regresión Logística\n",
    "\n",
    "En este notebook se encuentra el entrenamiento de SVM.\n",
    "\n",
    "A continuación, aplicaremos CountVectorizer y TF-IDF Transformer.\n",
    "\n",
    "CountVectorizer convierte el texto de cada registro a una matriz, en la cuál cada renglón representa un documento (que es un registro de la columna de quejas) y cada columna es una palabra del vocabulario del mismo.\n",
    "\n",
    "TF-IDF Transformer convierte el conteo de palabras a un score de TF-IDF, que normaliza la importancia de cada palabra basada en su frecuencia en cada documento y a través de todos los documentos. Nos ayuda a enfocarnos en las palabras más importantes, que no son tan comunes, pero sobre todo convierte el texto en formato numérico para poder entrenar nuestro modelo."
   ],
   "id": "b1ccb9e9e2cfeb8f"
  },
  {
   "metadata": {
    "ExecuteTime": {
     "end_time": "2024-11-21T19:06:22.639775Z",
     "start_time": "2024-11-21T19:06:22.465461Z"
    }
   },
   "cell_type": "code",
   "source": [
    "import pandas as pd\n",
    "import numpy as np\n",
    "from sklearn.linear_model import SGDClassifier\n",
    "from sklearn.pipeline import Pipeline\n",
    "from sklearn.feature_extraction.text import CountVectorizer, TfidfTransformer\n",
    "from sklearn.model_selection import train_test_split\n",
    "from sklearn.metrics import accuracy_score, recall_score, precision_score\n",
    "import dagshub\n",
    "import mlflow\n",
    "import mlflow.sklearn\n",
    "from hyperopt import fmin, tpe, hp, Trials\n",
    "from hyperopt.pyll import scope\n",
    "import pickle\n",
    "import pathlib"
   ],
   "id": "b07d7d9eee292714",
   "outputs": [],
   "execution_count": 46
  },
  {
   "metadata": {
    "ExecuteTime": {
     "end_time": "2024-11-21T18:57:40.689589Z",
     "start_time": "2024-11-21T18:57:40.530524Z"
    }
   },
   "cell_type": "code",
   "source": [
    "df = pd.read_csv('../data/processed.csv')\n",
    "X = df.complaint_what_happened\n",
    "y = df.ticket_classification\n",
    "X_train, X_test, y_train, y_test = train_test_split(X, y, test_size=0.2, random_state = 42)"
   ],
   "id": "5b0141867eb1d077",
   "outputs": [],
   "execution_count": 42
  },
  {
   "metadata": {
    "ExecuteTime": {
     "end_time": "2024-11-21T18:57:43.053782Z",
     "start_time": "2024-11-21T18:57:41.916729Z"
    }
   },
   "cell_type": "code",
   "source": [
    "dagshub.init(url=\"https://dagshub.com/zapatacc/final-exam-pcd2024-autumn\", mlflow=True)\n",
    "\n",
    "MLFLOW_TRACKING_URI = mlflow.get_tracking_uri()\n",
    "\n",
    "print(MLFLOW_TRACKING_URI)\n",
    "\n",
    "mlflow.set_tracking_uri(MLFLOW_TRACKING_URI)\n",
    "mlflow.set_experiment(experiment_name=\"erick-machuca-SVM\")"
   ],
   "id": "f9f61ebfe5fb1379",
   "outputs": [
    {
     "data": {
      "text/plain": [
       "Accessing as daduke1\n"
      ],
      "text/html": [
       "<pre style=\"white-space:pre;overflow-x:auto;line-height:normal;font-family:Menlo,'DejaVu Sans Mono',consolas,'Courier New',monospace\">Accessing as daduke1\n",
       "</pre>\n"
      ]
     },
     "metadata": {},
     "output_type": "display_data"
    },
    {
     "data": {
      "text/plain": [
       "Initialized MLflow to track repo \u001B[32m\"zapatacc/final-exam-pcd2024-autumn\"\u001B[0m\n"
      ],
      "text/html": [
       "<pre style=\"white-space:pre;overflow-x:auto;line-height:normal;font-family:Menlo,'DejaVu Sans Mono',consolas,'Courier New',monospace\">Initialized MLflow to track repo <span style=\"color: #008000; text-decoration-color: #008000\">\"zapatacc/final-exam-pcd2024-autumn\"</span>\n",
       "</pre>\n"
      ]
     },
     "metadata": {},
     "output_type": "display_data"
    },
    {
     "data": {
      "text/plain": [
       "Repository zapatacc/final-exam-pcd2024-autumn initialized!\n"
      ],
      "text/html": [
       "<pre style=\"white-space:pre;overflow-x:auto;line-height:normal;font-family:Menlo,'DejaVu Sans Mono',consolas,'Courier New',monospace\">Repository zapatacc/final-exam-pcd2024-autumn initialized!\n",
       "</pre>\n"
      ]
     },
     "metadata": {},
     "output_type": "display_data"
    },
    {
     "name": "stdout",
     "output_type": "stream",
     "text": [
      "https://dagshub.com/zapatacc/final-exam-pcd2024-autumn.mlflow\n"
     ]
    },
    {
     "name": "stderr",
     "output_type": "stream",
     "text": [
      "2024/11/21 12:57:42 INFO mlflow.tracking.fluent: Experiment with name 'erick-machuca-SVM' does not exist. Creating a new experiment.\n"
     ]
    },
    {
     "data": {
      "text/plain": [
       "<Experiment: artifact_location='mlflow-artifacts:/626151d2cb9a4b17b840cd442c8160e4', creation_time=1732215462967, experiment_id='20', last_update_time=1732215462967, lifecycle_stage='active', name='erick-machuca-SVM', tags={}>"
      ]
     },
     "execution_count": 43,
     "metadata": {},
     "output_type": "execute_result"
    }
   ],
   "execution_count": 43
  },
  {
   "metadata": {
    "ExecuteTime": {
     "end_time": "2024-11-21T19:00:26.399531Z",
     "start_time": "2024-11-21T19:00:23.555409Z"
    }
   },
   "cell_type": "code",
   "source": [
    "# Start logging the experiment\n",
    "with mlflow.start_run() as run:\n",
    "    # Log model parameters\n",
    "    mlflow.log_param(\"loss\", \"hinge\")\n",
    "    mlflow.log_param(\"penalty\", \"l2\")\n",
    "    mlflow.log_param(\"alpha\", 1e-3)\n",
    "    mlflow.log_param(\"max_iter\", 5)\n",
    "    mlflow.log_param(\"class_weight\", \"balanced\")\n",
    "\n",
    "    # Define and train the SGD pipeline\n",
    "    sgd = Pipeline([\n",
    "        ('vect', CountVectorizer()),\n",
    "        ('tfidf', TfidfTransformer()),\n",
    "        ('clf', SGDClassifier(loss='hinge', penalty='l2', alpha=1e-3, random_state=42, max_iter=5, tol=None, class_weight='balanced')),\n",
    "    ])\n",
    "    sgd.fit(X_train, y_train)\n",
    "\n",
    "    # Make predictions\n",
    "    y_pred = sgd.predict(X_test)\n",
    "\n",
    "    # Calculate and log metrics\n",
    "    accuracy = accuracy_score(y_pred, y_test)\n",
    "    recall = recall_score(y_pred, y_test, average='macro')\n",
    "    precision = precision_score(y_pred, y_test, average='macro')\n",
    "\n",
    "    mlflow.log_metric(\"accuracy\", accuracy)\n",
    "    mlflow.log_metric(\"recall\", recall)\n",
    "    mlflow.log_metric(\"precision\", precision)\n",
    "\n",
    "    # Print a success message\n",
    "    print(f\"SGD Classifier logged in MLflow with accuracy: {accuracy:.2f}, recall: {recall:.2f}, precision: {precision:.2f}\")"
   ],
   "id": "aea4787d5d14b7df",
   "outputs": [
    {
     "name": "stdout",
     "output_type": "stream",
     "text": [
      "SGD Classifier logged in MLflow with accuracy: 0.48, recall: 0.28, precision: 0.42\n",
      "🏃 View run capable-robin-924 at: https://dagshub.com/zapatacc/final-exam-pcd2024-autumn.mlflow/#/experiments/20/runs/6ea19ae69e0943399c91ee5a491a08dd\n",
      "🧪 View experiment at: https://dagshub.com/zapatacc/final-exam-pcd2024-autumn.mlflow/#/experiments/20\n"
     ]
    }
   ],
   "execution_count": 44
  },
  {
   "metadata": {
    "ExecuteTime": {
     "end_time": "2024-11-21T19:50:49.958Z",
     "start_time": "2024-11-21T19:50:06.682282Z"
    }
   },
   "cell_type": "code",
   "source": [
    "# 1. Define the objective function for SVM hyperparameter tuning\n",
    "def objective(params):\n",
    "    # Extract parameters from the search space\n",
    "    alpha = params['alpha']\n",
    "    max_iter = int(params['max_iter'])\n",
    "\n",
    "    # Build and train the SVM pipeline\n",
    "    sgd = Pipeline([\n",
    "        ('vect', CountVectorizer()),\n",
    "        ('tfidf', TfidfTransformer()),\n",
    "        ('clf', SGDClassifier(\n",
    "            loss='hinge',\n",
    "            penalty='l2',\n",
    "            alpha=alpha,\n",
    "            random_state=42,\n",
    "            max_iter=max_iter,\n",
    "            tol=None,\n",
    "            class_weight='balanced'))\n",
    "    ])\n",
    "    sgd.fit(X_train, y_train)\n",
    "\n",
    "    # Make predictions and calculate the objective metric (negative accuracy for minimization)\n",
    "    y_pred = sgd.predict(X_test)\n",
    "    accuracy = accuracy_score(y_test, y_pred)\n",
    "\n",
    "    return -accuracy  # Return negative because fmin minimizes by default\n",
    "\n",
    "# 2. Set up the search space for hyperparameters\n",
    "search_space = {\n",
    "    'alpha': hp.loguniform('alpha', -5, 1),  # Alpha (learning rate) on a log scale\n",
    "    'max_iter': scope.int(hp.quniform('max_iter', 5, 100, 5))  # Iterations\n",
    "}\n",
    "\n",
    "# 3. Start MLflow run for hyperparameter optimization\n",
    "with mlflow.start_run(run_name=\"SVM Hyper-parameter Optimization\", nested=True):\n",
    "    # 4. Optimize SVM parameters using hyperopt\n",
    "    trials = Trials()\n",
    "    best_params = fmin(\n",
    "        fn=objective,\n",
    "        space=search_space,\n",
    "        algo=tpe.suggest,\n",
    "        max_evals=10,  # Adjust for more evaluations\n",
    "        trials=trials\n",
    "    )\n",
    "\n",
    "    # Convert parameters to usable types\n",
    "    best_params['alpha'] = float(best_params['alpha'])\n",
    "    best_params['max_iter'] = int(best_params['max_iter'])\n",
    "\n",
    "    # Log the best parameters to MLflow\n",
    "    mlflow.log_params(best_params)\n",
    "\n",
    "    # 5. Set experiment tags for tracking\n",
    "    mlflow.set_tags({\n",
    "        \"project\": \"Text Classification with SVM\",\n",
    "        \"optimizer_engine\": \"hyper-opt\",\n",
    "        \"model_family\": \"Linear SVM\",\n",
    "        \"feature_set_version\": 1,\n",
    "    })\n",
    "\n",
    "    # 6. Train the SVM model with the best parameters\n",
    "    sgd = Pipeline([\n",
    "        ('vect', CountVectorizer()),\n",
    "        ('tfidf', TfidfTransformer()),\n",
    "        ('clf', SGDClassifier(\n",
    "            loss='hinge',\n",
    "            penalty='l2',\n",
    "            alpha=best_params['alpha'],\n",
    "            random_state=42,\n",
    "            max_iter=best_params['max_iter'],\n",
    "            tol=None,\n",
    "            class_weight='balanced'))\n",
    "    ])\n",
    "    sgd.fit(X_train, y_train)\n",
    "\n",
    "    # Make predictions and calculate metrics\n",
    "    y_pred = sgd.predict(X_test)\n",
    "    accuracy = accuracy_score(y_test, y_pred)\n",
    "    recall = recall_score(y_test, y_pred, average='macro')\n",
    "    precision = precision_score(y_test, y_pred, average='macro')\n",
    "\n",
    "    # Log metrics to MLflow\n",
    "    mlflow.log_metric(\"accuracy\", accuracy)\n",
    "    mlflow.log_metric(\"recall\", recall)\n",
    "    mlflow.log_metric(\"precision\", precision)\n",
    "\n",
    "    # 7. Save the trained SVM pipeline using mlflow.sklearn\n",
    "    mlflow.sklearn.log_model(sgd, artifact_path=\"model\")\n",
    "\n",
    "    # Print out a success message\n",
    "    print(f\"Best SVM model logged with accuracy: {accuracy:.2f}, recall: {recall:.2f}, precision: {precision:.2f}\")\n",
    "\n"
   ],
   "id": "6ca75573093716ae",
   "outputs": [
    {
     "name": "stdout",
     "output_type": "stream",
     "text": [
      "100%|██████████| 10/10 [00:33<00:00,  3.37s/trial, best loss: -0.47913749649957993]\n"
     ]
    },
    {
     "name": "stderr",
     "output_type": "stream",
     "text": [
      "/Users/erick/Library/CloudStorage/OneDrive-ITESO/Proyecto_Ciencia_datos/final-exam-pcd2024-autumn/.venv/lib/python3.11/site-packages/sklearn/metrics/_classification.py:1531: UndefinedMetricWarning: Precision is ill-defined and being set to 0.0 in labels with no predicted samples. Use `zero_division` parameter to control this behavior.\n",
      "  _warn_prf(average, modifier, f\"{metric.capitalize()} is\", len(result))\n",
      "2024/11/21 13:50:46 WARNING mlflow.models.model: Model logged without a signature and input example. Please set `input_example` parameter when logging the model to auto infer the model signature.\n"
     ]
    },
    {
     "name": "stdout",
     "output_type": "stream",
     "text": [
      "Best SVM model logged with accuracy: 0.48, recall: 0.26, precision: 0.31\n",
      "🏃 View run SVM Hyper-parameter Optimization at: https://dagshub.com/zapatacc/final-exam-pcd2024-autumn.mlflow/#/experiments/20/runs/73938a23abad4b7dbff08e3136aa10ce\n",
      "🧪 View experiment at: https://dagshub.com/zapatacc/final-exam-pcd2024-autumn.mlflow/#/experiments/20\n"
     ]
    }
   ],
   "execution_count": 48
  }
 ],
 "metadata": {
  "kernelspec": {
   "display_name": "Python 3",
   "language": "python",
   "name": "python3"
  },
  "language_info": {
   "codemirror_mode": {
    "name": "ipython",
    "version": 2
   },
   "file_extension": ".py",
   "mimetype": "text/x-python",
   "name": "python",
   "nbconvert_exporter": "python",
   "pygments_lexer": "ipython2",
   "version": "2.7.6"
  }
 },
 "nbformat": 4,
 "nbformat_minor": 5
}
