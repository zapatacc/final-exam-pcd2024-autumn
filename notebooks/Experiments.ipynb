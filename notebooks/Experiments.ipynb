{
 "cells": [
  {
   "cell_type": "code",
   "execution_count": 1,
   "metadata": {
    "metadata": {}
   },
   "outputs": [],
   "source": [
    "import pickle\n",
    "import pandas as pd\n",
    "from nltk.corpus import stopwords\n",
    "from sklearn.model_selection import train_test_split, GridSearchCV\n",
    "from sklearn.linear_model import LogisticRegression\n",
    "from sklearn.feature_extraction.text import TfidfVectorizer\n",
    "from sklearn.metrics import accuracy_score, precision_score, recall_score, f1_score, confusion_matrix, classification_report\n",
    "import mlflow\n",
    "from sklearn.ensemble import RandomForestClassifier"
   ]
  },
  {
   "cell_type": "code",
   "execution_count": 2,
   "metadata": {
    "metadata": {}
   },
   "outputs": [],
   "source": [
    "df = pd.read_csv('../data/clean_data/cleaned_corpus.csv')"
   ]
  },
  {
   "cell_type": "code",
   "execution_count": 3,
   "metadata": {
    "metadata": {}
   },
   "outputs": [],
   "source": [
    "#Target y predictor\n",
    "X = df['complaint_what_happened']\n",
    "y = df['ticket_classification']\n",
    "\n",
    "# Mapear categorías\n",
    "category_mapping = {category: index for index, category in enumerate(y.unique())}\n",
    "y_mapped = y.map(category_mapping)\n",
    "y = y_mapped.tolist()\n",
    "label_names = list(category_mapping.keys())\n",
    "labels_list = list(category_mapping.values())"
   ]
  },
  {
   "cell_type": "code",
   "execution_count": 6,
   "metadata": {
    "metadata": {}
   },
   "outputs": [],
   "source": [
    "# Vectorizamos usando TFIDF\n",
    "vectorizer = TfidfVectorizer(stop_words = stopwords.words('english'))\n",
    "X_TF = vectorizer.fit_transform(X).toarray()"
   ]
  },
  {
   "cell_type": "code",
   "execution_count": 14,
   "metadata": {
    "metadata": {}
   },
   "outputs": [
    {
     "data": {
      "text/html": [
       "<pre style=\"white-space:pre;overflow-x:auto;line-height:normal;font-family:Menlo,'DejaVu Sans Mono',consolas,'Courier New',monospace\">Initialized MLflow to track repo <span style=\"color: #008000; text-decoration-color: #008000\">\"zapatacc/final-exam-pcd2024-autumn\"</span>\n",
       "</pre>\n"
      ],
      "text/plain": [
       "Initialized MLflow to track repo \u001b[32m\"zapatacc/final-exam-pcd2024-autumn\"\u001b[0m\n"
      ]
     },
     "metadata": {},
     "output_type": "display_data"
    },
    {
     "data": {
      "text/html": [
       "<pre style=\"white-space:pre;overflow-x:auto;line-height:normal;font-family:Menlo,'DejaVu Sans Mono',consolas,'Courier New',monospace\">Repository zapatacc/final-exam-pcd2024-autumn initialized!\n",
       "</pre>\n"
      ],
      "text/plain": [
       "Repository zapatacc/final-exam-pcd2024-autumn initialized!\n"
      ]
     },
     "metadata": {},
     "output_type": "display_data"
    },
    {
     "data": {
      "text/plain": [
       "<Experiment: artifact_location='mlflow-artifacts:/84a5ce7783a145f4885894900ed57256', creation_time=1732137494418, experiment_id='2', last_update_time=1732137494418, lifecycle_stage='active', name='jesus-carbajal-logreg-rf', tags={}>"
      ]
     },
     "execution_count": 14,
     "metadata": {},
     "output_type": "execute_result"
    }
   ],
   "source": [
    "import dagshub\n",
    "\n",
    "dagshub.init(repo_owner='zapatacc', repo_name='final-exam-pcd2024-autumn', mlflow=True)\n",
    "mlflow.set_experiment(\"jesus-carbajal-logreg-rf\")"
   ]
  },
  {
   "cell_type": "code",
   "execution_count": 15,
   "metadata": {
    "metadata": {}
   },
   "outputs": [
    {
     "name": "stdout",
     "output_type": "stream",
     "text": [
      "Running GridSearchCV for logreg...\n",
      "Fitting 3 folds for each of 6 candidates, totalling 18 fits\n"
     ]
    },
    {
     "name": "stderr",
     "output_type": "stream",
     "text": [
      "c:\\Users\\dosju\\Downloads\\LabExamen\\.venv\\Lib\\site-packages\\sklearn\\model_selection\\_split.py:776: UserWarning: The least populated class in y has only 1 members, which is less than n_splits=3.\n",
      "  warnings.warn(\n"
     ]
    },
    {
     "name": "stdout",
     "output_type": "stream",
     "text": [
      "[CV] END .................................C=0.01, penalty=l2; total time= 1.5min\n",
      "[CV] END .................................C=0.01, penalty=l2; total time= 2.1min\n",
      "[CV] END .................................C=0.01, penalty=l2; total time= 1.4min\n",
      "[CV] END .........................C=0.01, penalty=elasticnet; total time=   1.5s\n",
      "[CV] END .........................C=0.01, penalty=elasticnet; total time=   1.4s\n",
      "[CV] END .........................C=0.01, penalty=elasticnet; total time=   1.4s\n",
      "[CV] END ..................................C=0.1, penalty=l2; total time= 1.4min\n",
      "[CV] END ..................................C=0.1, penalty=l2; total time= 2.0min\n",
      "[CV] END ..................................C=0.1, penalty=l2; total time= 1.5min\n",
      "[CV] END ..........................C=0.1, penalty=elasticnet; total time=   1.5s\n",
      "[CV] END ..........................C=0.1, penalty=elasticnet; total time=   1.4s\n",
      "[CV] END ..........................C=0.1, penalty=elasticnet; total time=   1.4s\n",
      "[CV] END ....................................C=1, penalty=l2; total time= 2.5min\n",
      "[CV] END ....................................C=1, penalty=l2; total time= 2.3min\n",
      "[CV] END ....................................C=1, penalty=l2; total time= 2.4min\n",
      "[CV] END ............................C=1, penalty=elasticnet; total time=   1.4s\n",
      "[CV] END ............................C=1, penalty=elasticnet; total time=   1.4s\n",
      "[CV] END ............................C=1, penalty=elasticnet; total time=   1.4s\n"
     ]
    },
    {
     "name": "stderr",
     "output_type": "stream",
     "text": [
      "c:\\Users\\dosju\\Downloads\\LabExamen\\.venv\\Lib\\site-packages\\sklearn\\model_selection\\_validation.py:540: FitFailedWarning: \n",
      "9 fits failed out of a total of 18.\n",
      "The score on these train-test partitions for these parameters will be set to nan.\n",
      "If these failures are not expected, you can try to debug them by setting error_score='raise'.\n",
      "\n",
      "Below are more details about the failures:\n",
      "--------------------------------------------------------------------------------\n",
      "9 fits failed with the following error:\n",
      "Traceback (most recent call last):\n",
      "  File \"c:\\Users\\dosju\\Downloads\\LabExamen\\.venv\\Lib\\site-packages\\sklearn\\model_selection\\_validation.py\", line 888, in _fit_and_score\n",
      "    estimator.fit(X_train, y_train, **fit_params)\n",
      "  File \"c:\\Users\\dosju\\Downloads\\LabExamen\\.venv\\Lib\\site-packages\\sklearn\\base.py\", line 1473, in wrapper\n",
      "    return fit_method(estimator, *args, **kwargs)\n",
      "           ^^^^^^^^^^^^^^^^^^^^^^^^^^^^^^^^^^^^^^\n",
      "  File \"c:\\Users\\dosju\\Downloads\\LabExamen\\.venv\\Lib\\site-packages\\sklearn\\linear_model\\_logistic.py\", line 1194, in fit\n",
      "    solver = _check_solver(self.solver, self.penalty, self.dual)\n",
      "             ^^^^^^^^^^^^^^^^^^^^^^^^^^^^^^^^^^^^^^^^^^^^^^^^^^^\n",
      "  File \"c:\\Users\\dosju\\Downloads\\LabExamen\\.venv\\Lib\\site-packages\\sklearn\\linear_model\\_logistic.py\", line 67, in _check_solver\n",
      "    raise ValueError(\n",
      "ValueError: Solver lbfgs supports only 'l2' or None penalties, got elasticnet penalty.\n",
      "\n",
      "  warnings.warn(some_fits_failed_message, FitFailedWarning)\n",
      "c:\\Users\\dosju\\Downloads\\LabExamen\\.venv\\Lib\\site-packages\\sklearn\\model_selection\\_search.py:1103: UserWarning: One or more of the test scores are non-finite: [0.33487152        nan 0.47211602        nan 0.55187886        nan]\n",
      "  warnings.warn(\n",
      "c:\\Users\\dosju\\Downloads\\LabExamen\\.venv\\Lib\\site-packages\\sklearn\\linear_model\\_logistic.py:469: ConvergenceWarning: lbfgs failed to converge (status=1):\n",
      "STOP: TOTAL NO. of ITERATIONS REACHED LIMIT.\n",
      "\n",
      "Increase the number of iterations (max_iter) or scale the data as shown in:\n",
      "    https://scikit-learn.org/stable/modules/preprocessing.html\n",
      "Please also refer to the documentation for alternative solver options:\n",
      "    https://scikit-learn.org/stable/modules/linear_model.html#logistic-regression\n",
      "  n_iter_i = _check_optimize_result(\n",
      "c:\\Users\\dosju\\Downloads\\LabExamen\\.venv\\Lib\\site-packages\\sklearn\\metrics\\_classification.py:1531: UndefinedMetricWarning: Precision is ill-defined and being set to 0.0 in labels with no predicted samples. Use `zero_division` parameter to control this behavior.\n",
      "  _warn_prf(average, modifier, f\"{metric.capitalize()} is\", len(result))\n",
      "c:\\Users\\dosju\\Downloads\\LabExamen\\.venv\\Lib\\site-packages\\sklearn\\metrics\\_classification.py:1531: UndefinedMetricWarning: Precision is ill-defined and being set to 0.0 in labels with no predicted samples. Use `zero_division` parameter to control this behavior.\n",
      "  _warn_prf(average, modifier, f\"{metric.capitalize()} is\", len(result))\n",
      "c:\\Users\\dosju\\Downloads\\LabExamen\\.venv\\Lib\\site-packages\\sklearn\\metrics\\_classification.py:1531: UndefinedMetricWarning: Precision is ill-defined and being set to 0.0 in labels with no predicted samples. Use `zero_division` parameter to control this behavior.\n",
      "  _warn_prf(average, modifier, f\"{metric.capitalize()} is\", len(result))\n",
      "2024/11/20 15:41:13 WARNING mlflow.models.model: Model logged without a signature and input example. Please set `input_example` parameter when logging the model to auto infer the model signature.\n"
     ]
    },
    {
     "name": "stdout",
     "output_type": "stream",
     "text": [
      "\n",
      "Model: logreg\n",
      "Best Parameters: {'C': 1, 'penalty': 'l2'}\n",
      "Accuracy: 0.5713155813340364\n",
      "Classification Report:\n",
      "               precision    recall  f1-score   support\n",
      "\n",
      "           0       0.42      0.22      0.29        88\n",
      "           1       0.65      0.91      0.76       996\n",
      "           2       0.00      0.00      0.00        14\n",
      "           3       0.61      0.65      0.63       407\n",
      "           4       0.56      0.84      0.67       733\n",
      "           5       0.51      0.52      0.52        61\n",
      "           6       0.59      0.22      0.32        59\n",
      "           7       0.67      0.15      0.24        41\n",
      "           8       0.38      0.55      0.45       209\n",
      "           9       0.71      0.14      0.23        36\n",
      "          10       0.00      0.00      0.00         7\n",
      "          11       0.00      0.00      0.00        20\n",
      "          12       0.78      0.19      0.31        36\n",
      "          13       0.44      0.30      0.36        92\n",
      "          14       0.22      0.06      0.10        32\n",
      "          15       0.00      0.00      0.00         9\n",
      "          16       0.00      0.00      0.00        17\n",
      "          17       1.00      0.05      0.09        21\n",
      "          18       0.50      0.20      0.29        15\n",
      "          19       0.67      0.36      0.47        22\n",
      "          20       0.00      0.00      0.00        10\n",
      "          21       0.00      0.00      0.00         4\n",
      "          22       1.00      0.03      0.05        39\n",
      "          23       0.00      0.00      0.00        10\n",
      "          24       0.00      0.00      0.00         4\n",
      "          25       0.00      0.00      0.00         2\n",
      "          26       0.00      0.00      0.00         2\n",
      "          27       0.00      0.00      0.00         5\n",
      "          28       0.57      0.21      0.31       248\n",
      "          29       0.67      0.06      0.12        31\n",
      "          30       0.00      0.00      0.00         6\n",
      "          31       0.00      0.00      0.00        59\n",
      "          32       0.00      0.00      0.00         2\n",
      "          33       0.42      0.25      0.31        52\n",
      "          34       0.00      0.00      0.00        59\n",
      "          35       1.00      0.02      0.05        41\n",
      "          36       0.00      0.00      0.00         2\n",
      "          37       0.36      0.39      0.38       166\n",
      "          38       0.00      0.00      0.00        16\n",
      "          39       0.67      0.31      0.42        26\n",
      "          40       0.00      0.00      0.00         1\n",
      "          41       0.00      0.00      0.00         2\n",
      "          42       1.00      0.09      0.17        11\n",
      "          43       0.00      0.00      0.00         2\n",
      "          44       0.00      0.00      0.00         6\n",
      "          45       0.00      0.00      0.00         4\n",
      "          46       0.00      0.00      0.00         2\n",
      "          47       0.00      0.00      0.00         5\n",
      "          49       0.00      0.00      0.00         4\n",
      "          50       0.00      0.00      0.00         2\n",
      "          51       0.00      0.00      0.00         4\n",
      "          52       0.00      0.00      0.00         3\n",
      "          53       0.00      0.00      0.00         1\n",
      "          54       0.00      0.00      0.00         4\n",
      "          55       0.00      0.00      0.00         1\n",
      "          56       0.00      0.00      0.00        12\n",
      "          57       0.00      0.00      0.00        13\n",
      "          61       0.00      0.00      0.00         5\n",
      "          62       0.00      0.00      0.00         1\n",
      "          64       0.00      0.00      0.00         1\n",
      "          65       0.00      0.00      0.00         3\n",
      "          67       0.00      0.00      0.00         2\n",
      "          71       0.00      0.00      0.00         1\n",
      "          72       0.00      0.00      0.00         2\n",
      "          74       0.00      0.00      0.00         1\n",
      "          76       0.00      0.00      0.00         1\n",
      "\n",
      "    accuracy                           0.57      3793\n",
      "   macro avg       0.22      0.10      0.11      3793\n",
      "weighted avg       0.53      0.57      0.51      3793\n",
      "\n",
      "🏃 View run logreg_grid_search at: https://dagshub.com/zapatacc/final-exam-pcd2024-autumn.mlflow/#/experiments/2/runs/4ef9357f331d45eebc803f2d0cdbe3e7\n",
      "🧪 View experiment at: https://dagshub.com/zapatacc/final-exam-pcd2024-autumn.mlflow/#/experiments/2\n"
     ]
    },
    {
     "name": "stderr",
     "output_type": "stream",
     "text": [
      "c:\\Users\\dosju\\Downloads\\LabExamen\\.venv\\Lib\\site-packages\\sklearn\\metrics\\_classification.py:1531: UndefinedMetricWarning: Precision is ill-defined and being set to 0.0 in labels with no predicted samples. Use `zero_division` parameter to control this behavior.\n",
      "  _warn_prf(average, modifier, f\"{metric.capitalize()} is\", len(result))\n",
      "c:\\Users\\dosju\\Downloads\\LabExamen\\.venv\\Lib\\site-packages\\sklearn\\metrics\\_classification.py:1531: UndefinedMetricWarning: Precision is ill-defined and being set to 0.0 in labels with no predicted samples. Use `zero_division` parameter to control this behavior.\n",
      "  _warn_prf(average, modifier, f\"{metric.capitalize()} is\", len(result))\n",
      "c:\\Users\\dosju\\Downloads\\LabExamen\\.venv\\Lib\\site-packages\\sklearn\\metrics\\_classification.py:1531: UndefinedMetricWarning: Precision is ill-defined and being set to 0.0 in labels with no predicted samples. Use `zero_division` parameter to control this behavior.\n",
      "  _warn_prf(average, modifier, f\"{metric.capitalize()} is\", len(result))\n"
     ]
    },
    {
     "name": "stdout",
     "output_type": "stream",
     "text": [
      "Running GridSearchCV for RF...\n",
      "Fitting 3 folds for each of 4 candidates, totalling 12 fits\n"
     ]
    },
    {
     "name": "stderr",
     "output_type": "stream",
     "text": [
      "c:\\Users\\dosju\\Downloads\\LabExamen\\.venv\\Lib\\site-packages\\sklearn\\model_selection\\_split.py:776: UserWarning: The least populated class in y has only 1 members, which is less than n_splits=3.\n",
      "  warnings.warn(\n"
     ]
    },
    {
     "name": "stdout",
     "output_type": "stream",
     "text": [
      "[CV] END ......................max_depth=5, n_estimators=100; total time=  10.2s\n",
      "[CV] END ......................max_depth=5, n_estimators=100; total time=  10.5s\n",
      "[CV] END ......................max_depth=5, n_estimators=100; total time=   7.8s\n",
      "[CV] END ......................max_depth=5, n_estimators=200; total time=  12.8s\n",
      "[CV] END ......................max_depth=5, n_estimators=200; total time=  12.9s\n",
      "[CV] END ......................max_depth=5, n_estimators=200; total time=  12.8s\n",
      "[CV] END .....................max_depth=10, n_estimators=100; total time=  12.6s\n",
      "[CV] END .....................max_depth=10, n_estimators=100; total time=  12.3s\n",
      "[CV] END .....................max_depth=10, n_estimators=100; total time=  12.5s\n",
      "[CV] END .....................max_depth=10, n_estimators=200; total time=  22.2s\n",
      "[CV] END .....................max_depth=10, n_estimators=200; total time=  22.6s\n",
      "[CV] END .....................max_depth=10, n_estimators=200; total time=  22.2s\n"
     ]
    },
    {
     "name": "stderr",
     "output_type": "stream",
     "text": [
      "c:\\Users\\dosju\\Downloads\\LabExamen\\.venv\\Lib\\site-packages\\numpy\\ma\\core.py:2881: RuntimeWarning: invalid value encountered in cast\n",
      "  _data = np.array(data, dtype=dtype, copy=copy,\n",
      "c:\\Users\\dosju\\Downloads\\LabExamen\\.venv\\Lib\\site-packages\\sklearn\\metrics\\_classification.py:1531: UndefinedMetricWarning: Precision is ill-defined and being set to 0.0 in labels with no predicted samples. Use `zero_division` parameter to control this behavior.\n",
      "  _warn_prf(average, modifier, f\"{metric.capitalize()} is\", len(result))\n",
      "c:\\Users\\dosju\\Downloads\\LabExamen\\.venv\\Lib\\site-packages\\sklearn\\metrics\\_classification.py:1531: UndefinedMetricWarning: Precision is ill-defined and being set to 0.0 in labels with no predicted samples. Use `zero_division` parameter to control this behavior.\n",
      "  _warn_prf(average, modifier, f\"{metric.capitalize()} is\", len(result))\n",
      "c:\\Users\\dosju\\Downloads\\LabExamen\\.venv\\Lib\\site-packages\\sklearn\\metrics\\_classification.py:1531: UndefinedMetricWarning: Precision is ill-defined and being set to 0.0 in labels with no predicted samples. Use `zero_division` parameter to control this behavior.\n",
      "  _warn_prf(average, modifier, f\"{metric.capitalize()} is\", len(result))\n",
      "2024/11/20 15:44:58 WARNING mlflow.models.model: Model logged without a signature and input example. Please set `input_example` parameter when logging the model to auto infer the model signature.\n"
     ]
    },
    {
     "name": "stdout",
     "output_type": "stream",
     "text": [
      "\n",
      "Model: RF\n",
      "Best Parameters: {'max_depth': 10, 'n_estimators': 200}\n",
      "Accuracy: 0.3822831531769048\n",
      "Classification Report:\n",
      "               precision    recall  f1-score   support\n",
      "\n",
      "           0       0.00      0.00      0.00        88\n",
      "           1       0.33      0.98      0.49       996\n",
      "           2       0.00      0.00      0.00        14\n",
      "           3       0.93      0.10      0.19       407\n",
      "           4       0.55      0.59      0.57       733\n",
      "           5       0.00      0.00      0.00        61\n",
      "           6       0.00      0.00      0.00        59\n",
      "           7       0.00      0.00      0.00        41\n",
      "           8       1.00      0.01      0.02       209\n",
      "           9       0.00      0.00      0.00        36\n",
      "          10       0.00      0.00      0.00         7\n",
      "          11       0.00      0.00      0.00        20\n",
      "          12       0.00      0.00      0.00        36\n",
      "          13       0.00      0.00      0.00        92\n",
      "          14       0.00      0.00      0.00        32\n",
      "          15       0.00      0.00      0.00         9\n",
      "          16       0.00      0.00      0.00        17\n",
      "          17       0.00      0.00      0.00        21\n",
      "          18       0.00      0.00      0.00        15\n",
      "          19       0.00      0.00      0.00        22\n",
      "          20       0.00      0.00      0.00        10\n",
      "          21       0.00      0.00      0.00         4\n",
      "          22       0.00      0.00      0.00        39\n",
      "          23       0.00      0.00      0.00        10\n",
      "          24       0.00      0.00      0.00         4\n",
      "          25       0.00      0.00      0.00         2\n",
      "          26       0.00      0.00      0.00         2\n",
      "          27       0.00      0.00      0.00         5\n",
      "          28       0.00      0.00      0.00       248\n",
      "          29       0.00      0.00      0.00        31\n",
      "          30       0.00      0.00      0.00         6\n",
      "          31       0.00      0.00      0.00        59\n",
      "          32       0.00      0.00      0.00         2\n",
      "          33       0.00      0.00      0.00        52\n",
      "          34       0.00      0.00      0.00        59\n",
      "          35       0.00      0.00      0.00        41\n",
      "          36       0.00      0.00      0.00         2\n",
      "          37       0.00      0.00      0.00       166\n",
      "          38       0.00      0.00      0.00        16\n",
      "          39       0.00      0.00      0.00        26\n",
      "          40       0.00      0.00      0.00         1\n",
      "          41       0.00      0.00      0.00         2\n",
      "          42       0.00      0.00      0.00        11\n",
      "          43       0.00      0.00      0.00         2\n",
      "          44       0.00      0.00      0.00         6\n",
      "          45       0.00      0.00      0.00         4\n",
      "          46       0.00      0.00      0.00         2\n",
      "          47       0.00      0.00      0.00         5\n",
      "          49       0.00      0.00      0.00         4\n",
      "          50       0.00      0.00      0.00         2\n",
      "          51       0.00      0.00      0.00         4\n",
      "          52       0.00      0.00      0.00         3\n",
      "          53       0.00      0.00      0.00         1\n",
      "          54       0.00      0.00      0.00         4\n",
      "          55       0.00      0.00      0.00         1\n",
      "          56       0.00      0.00      0.00        12\n",
      "          57       0.00      0.00      0.00        13\n",
      "          61       0.00      0.00      0.00         5\n",
      "          62       0.00      0.00      0.00         1\n",
      "          64       0.00      0.00      0.00         1\n",
      "          65       0.00      0.00      0.00         3\n",
      "          67       0.00      0.00      0.00         2\n",
      "          71       0.00      0.00      0.00         1\n",
      "          72       0.00      0.00      0.00         2\n",
      "          74       0.00      0.00      0.00         1\n",
      "          76       0.00      0.00      0.00         1\n",
      "\n",
      "    accuracy                           0.38      3793\n",
      "   macro avg       0.04      0.03      0.02      3793\n",
      "weighted avg       0.35      0.38      0.26      3793\n",
      "\n",
      "🏃 View run RF_grid_search at: https://dagshub.com/zapatacc/final-exam-pcd2024-autumn.mlflow/#/experiments/2/runs/a64b944453544926b59a86d9ac93c15a\n",
      "🧪 View experiment at: https://dagshub.com/zapatacc/final-exam-pcd2024-autumn.mlflow/#/experiments/2\n"
     ]
    },
    {
     "name": "stderr",
     "output_type": "stream",
     "text": [
      "c:\\Users\\dosju\\Downloads\\LabExamen\\.venv\\Lib\\site-packages\\sklearn\\metrics\\_classification.py:1531: UndefinedMetricWarning: Precision is ill-defined and being set to 0.0 in labels with no predicted samples. Use `zero_division` parameter to control this behavior.\n",
      "  _warn_prf(average, modifier, f\"{metric.capitalize()} is\", len(result))\n",
      "c:\\Users\\dosju\\Downloads\\LabExamen\\.venv\\Lib\\site-packages\\sklearn\\metrics\\_classification.py:1531: UndefinedMetricWarning: Precision is ill-defined and being set to 0.0 in labels with no predicted samples. Use `zero_division` parameter to control this behavior.\n",
      "  _warn_prf(average, modifier, f\"{metric.capitalize()} is\", len(result))\n",
      "c:\\Users\\dosju\\Downloads\\LabExamen\\.venv\\Lib\\site-packages\\sklearn\\metrics\\_classification.py:1531: UndefinedMetricWarning: Precision is ill-defined and being set to 0.0 in labels with no predicted samples. Use `zero_division` parameter to control this behavior.\n",
      "  _warn_prf(average, modifier, f\"{metric.capitalize()} is\", len(result))\n"
     ]
    }
   ],
   "source": [
    "# Tfid\n",
    "text_train, text_test, sent_train, sent_test = train_test_split(X_TF, y, test_size = 0.20, random_state = 309)\n",
    "\n",
    "#Param grid\n",
    "params_grid = {\n",
    "    \"logreg\" : (LogisticRegression(),{\n",
    "        'C': [0.01, 0.1, 1],\n",
    "        #'max_iter': [100, 200],\n",
    "        'penalty': ['l2', 'elasticnet']}),\n",
    "\n",
    "    \"RF\" : (RandomForestClassifier(),{\n",
    "        \"max_depth\":[5, 10],\n",
    "        \"n_estimators\": [100, 200]})\n",
    "}\n",
    "\n",
    "\n",
    "for model_name, (model, param_grid) in params_grid.items():\n",
    "    print(f\"Running GridSearchCV for {model_name}...\")\n",
    "    grid_search = GridSearchCV(\n",
    "        model,\n",
    "        param_grid,\n",
    "        cv=3,\n",
    "        scoring='accuracy',\n",
    "        n_jobs=1,\n",
    "        verbose=2\n",
    "    )\n",
    "    \n",
    "    grid_search.fit(text_train, sent_train)\n",
    "    \n",
    "    # Loggear en mlflow\n",
    "    with mlflow.start_run(run_name=f\"{model_name}_grid_search\"):\n",
    "        best_model = grid_search.best_estimator_\n",
    "        \n",
    "        # predicciones\n",
    "        y_pred = best_model.predict(text_test)\n",
    "        \n",
    "        # calcular métricas\n",
    "        accuracy = accuracy_score(sent_test, y_pred)\n",
    "        report = classification_report(sent_test, y_pred, output_dict=True)\n",
    "        \n",
    "        # Loggear el mejor modelo\n",
    "        mlflow.log_params(grid_search.best_params_)\n",
    "        mlflow.log_metric(\"accuracy\", accuracy)\n",
    "        mlflow.log_metric(\"precision\", report[\"weighted avg\"][\"precision\"])\n",
    "        mlflow.log_metric(\"recall\", report[\"weighted avg\"][\"recall\"])\n",
    "        mlflow.log_metric(\"f1_score\", report[\"weighted avg\"][\"f1-score\"])\n",
    "        \n",
    "    \n",
    "        mlflow.sklearn.log_model(best_model, artifact_path=f\"jesus-carbajal-{model_name}\")\n",
    "        \n",
    "        print(f\"\\nModel: {model_name}\")\n",
    "        print(f\"Best Parameters: {grid_search.best_params_}\")\n",
    "        print(f\"Accuracy: {accuracy}\")\n",
    "        print(\"Classification Report:\\n\", classification_report(sent_test, y_pred))"
   ]
  }
 ],
 "metadata": {
  "kernelspec": {
   "display_name": ".venv",
   "language": "python",
   "name": "python3"
  },
  "language_info": {
   "codemirror_mode": {
    "name": "ipython",
    "version": 3
   },
   "file_extension": ".py",
   "mimetype": "text/x-python",
   "name": "python",
   "nbconvert_exporter": "python",
   "pygments_lexer": "ipython3",
   "version": "3.12.7"
  }
 },
 "nbformat": 4,
 "nbformat_minor": 2
}
