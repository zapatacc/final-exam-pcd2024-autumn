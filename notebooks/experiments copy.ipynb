{
 "cells": [
  {
   "cell_type": "code",
   "execution_count": 38,
   "metadata": {},
   "outputs": [],
   "source": [
    "import pandas as pd\n",
    "import nltk\n",
    "from nltk.corpus import stopwords\n",
    "from nltk.stem import WordNetLemmatizer\n",
    "import string\n",
    "import re\n",
    "from sklearn.feature_extraction.text import TfidfVectorizer\n",
    "from sklearn.model_selection import train_test_split\n",
    "from sklearn.linear_model import LogisticRegression\n",
    "from sklearn.metrics import accuracy_score, mean_squared_error\n",
    "from sklearn.model_selection import train_test_split, GridSearchCV\n",
    "from xgboost import XGBClassifier\n",
    "from sklearn.metrics import accuracy_score, classification_report"
   ]
  },
  {
   "cell_type": "code",
   "execution_count": 39,
   "metadata": {},
   "outputs": [],
   "source": [
    "data = pd.read_csv(\"../data/clean/processed_data.csv\")"
   ]
  },
  {
   "cell_type": "code",
   "execution_count": 40,
   "metadata": {},
   "outputs": [],
   "source": [
    "def preprocess_text(text):\n",
    "    # minusculas\n",
    "    text = text.lower()\n",
    "    \n",
    "    # Eliminar puntuación\n",
    "    text = ''.join([char for char in text if char not in string.punctuation])\n",
    "\n",
    "    # Eliminar cadenas con más de dos 'X' consecutivas\n",
    "    text = re.sub(r'x{2,}', '', text)\n",
    "\n",
    "    text = re.sub(r'[^a-zA-Z0-9\\s]', '', text)\n",
    "    \n",
    "    # Tokenización\n",
    "    words = nltk.word_tokenize(text)\n",
    "    \n",
    "    # Eliminar stopwords\n",
    "    stop_words = set(stopwords.words('english'))\n",
    "    words = [word for word in words if word not in stop_words]\n",
    "    \n",
    "    # Lematización\n",
    "    lemmatizer = WordNetLemmatizer()\n",
    "    words = [lemmatizer.lemmatize(word) for word in words]\n",
    "    \n",
    "    # Unir las palabras preprocesadas\n",
    "    return ' '.join(words)"
   ]
  },
  {
   "cell_type": "code",
   "execution_count": 41,
   "metadata": {},
   "outputs": [],
   "source": [
    "data['complaint_what_happened'] = data['complaint_what_happened'].apply(preprocess_text)\n",
    "data['ticket_classification'] = data['ticket_classification'].apply(preprocess_text)\n"
   ]
  },
  {
   "cell_type": "code",
   "execution_count": 42,
   "metadata": {},
   "outputs": [],
   "source": [
    "X = data['complaint_what_happened']\n",
    "y = data['ticket_classification']\n",
    "\n",
    "# Dividir en conjuntos de entrenamiento y prueba\n",
    "X_train, X_test, y_train, y_test = train_test_split(X, y, test_size=0.2, random_state=42, stratify=y)"
   ]
  },
  {
   "cell_type": "code",
   "execution_count": 43,
   "metadata": {},
   "outputs": [],
   "source": [
    "# vectorizador TF-IDF\n",
    "tfidf_vectorizer = TfidfVectorizer(max_features=5000)"
   ]
  },
  {
   "cell_type": "code",
   "execution_count": 44,
   "metadata": {},
   "outputs": [],
   "source": [
    "# transformar los datos de entrenamiento\n",
    "X_train_tfidf = tfidf_vectorizer.fit_transform(X_train)\n"
   ]
  },
  {
   "cell_type": "code",
   "execution_count": 45,
   "metadata": {},
   "outputs": [],
   "source": [
    "# transformar los datos de prueba\n",
    "X_test_tfidf = tfidf_vectorizer.transform(X_test)"
   ]
  },
  {
   "cell_type": "code",
   "execution_count": 46,
   "metadata": {},
   "outputs": [],
   "source": [
    "import dagshub\n",
    "import mlflow"
   ]
  },
  {
   "cell_type": "code",
   "execution_count": 47,
   "metadata": {},
   "outputs": [
    {
     "data": {
      "text/html": [
       "<pre style=\"white-space:pre;overflow-x:auto;line-height:normal;font-family:Menlo,'DejaVu Sans Mono',consolas,'Courier New',monospace\">Initialized MLflow to track repo <span style=\"color: #008000; text-decoration-color: #008000\">\"zapatacc/final-exam-pcd2024-autumn\"</span>\n",
       "</pre>\n"
      ],
      "text/plain": [
       "Initialized MLflow to track repo \u001b[32m\"zapatacc/final-exam-pcd2024-autumn\"\u001b[0m\n"
      ]
     },
     "metadata": {},
     "output_type": "display_data"
    },
    {
     "data": {
      "text/html": [
       "<pre style=\"white-space:pre;overflow-x:auto;line-height:normal;font-family:Menlo,'DejaVu Sans Mono',consolas,'Courier New',monospace\">Repository zapatacc/final-exam-pcd2024-autumn initialized!\n",
       "</pre>\n"
      ],
      "text/plain": [
       "Repository zapatacc/final-exam-pcd2024-autumn initialized!\n"
      ]
     },
     "metadata": {},
     "output_type": "display_data"
    }
   ],
   "source": [
    "dagshub.init(repo_owner='zapatacc', repo_name='final-exam-pcd2024-autumn', mlflow=True)"
   ]
  },
  {
   "cell_type": "code",
   "execution_count": null,
   "metadata": {},
   "outputs": [],
   "source": []
  },
  {
   "cell_type": "code",
   "execution_count": 48,
   "metadata": {},
   "outputs": [
    {
     "data": {
      "text/plain": [
       "<Experiment: artifact_location='mlflow-artifacts:/325c6ccf10f6419fa3a07d45f3c20ef2', creation_time=1732160772548, experiment_id='12', last_update_time=1732160772548, lifecycle_stage='active', name='mariapaula-perez-logisticRegression', tags={}>"
      ]
     },
     "execution_count": 48,
     "metadata": {},
     "output_type": "execute_result"
    }
   ],
   "source": [
    "mlflow.set_experiment(\"mariapaula-perez-logisticRegression\")"
   ]
  },
  {
   "cell_type": "markdown",
   "metadata": {},
   "source": [
    "Logistic Regression"
   ]
  },
  {
   "cell_type": "code",
   "execution_count": 49,
   "metadata": {},
   "outputs": [
    {
     "name": "stderr",
     "output_type": "stream",
     "text": [
      "c:\\Users\\mpper\\AppData\\Local\\Programs\\Python\\Python312\\Lib\\site-packages\\sklearn\\metrics\\_classification.py:1531: UndefinedMetricWarning: Precision is ill-defined and being set to 0.0 in labels with no predicted samples. Use `zero_division` parameter to control this behavior.\n",
      "  _warn_prf(average, modifier, f\"{metric.capitalize()} is\", len(result))\n",
      "c:\\Users\\mpper\\AppData\\Local\\Programs\\Python\\Python312\\Lib\\site-packages\\sklearn\\metrics\\_classification.py:1531: UndefinedMetricWarning: Precision is ill-defined and being set to 0.0 in labels with no predicted samples. Use `zero_division` parameter to control this behavior.\n",
      "  _warn_prf(average, modifier, f\"{metric.capitalize()} is\", len(result))\n",
      "c:\\Users\\mpper\\AppData\\Local\\Programs\\Python\\Python312\\Lib\\site-packages\\sklearn\\metrics\\_classification.py:1531: UndefinedMetricWarning: Precision is ill-defined and being set to 0.0 in labels with no predicted samples. Use `zero_division` parameter to control this behavior.\n",
      "  _warn_prf(average, modifier, f\"{metric.capitalize()} is\", len(result))\n",
      "2024/11/21 14:48:18 WARNING mlflow.models.model: Model logged without a signature and input example. Please set `input_example` parameter when logging the model to auto infer the model signature.\n"
     ]
    },
    {
     "name": "stdout",
     "output_type": "stream",
     "text": [
      "Accuracy: 0.5921434220933298\n",
      "                                                                                          precision    recall  f1-score   support\n",
      "\n",
      "                                                bank account service bank productservice       0.00      0.00      0.00        60\n",
      "                                      bank account service cashing check without account       0.00      0.00      0.00         4\n",
      "                                             bank account service cd certificate deposit       0.00      0.00      0.00         4\n",
      "                                                   bank account service checking account       0.57      0.34      0.43       249\n",
      "                                                     bank account service saving account       0.00      0.00      0.00        14\n",
      "                                         checking saving account banking product service       0.00      0.00      0.00        48\n",
      "                                          checking saving account cd certificate deposit       1.00      0.20      0.33         5\n",
      "                                                checking saving account checking account       0.59      0.87      0.71       758\n",
      "                                                  checking saving account saving account       0.86      0.13      0.23        46\n",
      "                                                          consumer loan installment loan       0.00      0.00      0.00         7\n",
      "                                                             consumer loan vehicle lease       0.00      0.00      0.00         5\n",
      "                                                              consumer loan vehicle loan       0.80      0.11      0.20        35\n",
      "                         credit card prepaid card generalpurpose credit card charge card       0.72      0.90      0.80       984\n",
      "                                    credit card prepaid card generalpurpose prepaid card       0.00      0.00      0.00         8\n",
      "                                                      credit card prepaid card gift card       0.00      0.00      0.00         2\n",
      "                                        credit card prepaid card government benefit card       0.00      0.00      0.00         2\n",
      "                                                   credit card prepaid card payroll card       0.00      0.00      0.00         1\n",
      "                                              credit card prepaid card store credit card       0.00      0.00      0.00        11\n",
      "   credit reporting credit repair service personal consumer report credit repair service       0.00      0.00      0.00         3\n",
      "        credit reporting credit repair service personal consumer report credit reporting       0.63      0.73      0.68       402\n",
      "credit reporting credit repair service personal consumer report personal consumer report       0.00      0.00      0.00        12\n",
      "                                                                    debt collection auto       0.00      0.00      0.00         2\n",
      "                                                               debt collection auto debt       0.00      0.00      0.00         6\n",
      "                                                             debt collection credit card       0.50      0.20      0.29        44\n",
      "                                                        debt collection credit card debt       0.44      0.27      0.34        85\n",
      "                                                                    debt collection debt       0.00      0.00      0.00         6\n",
      "                                                debt collection ie phone health club etc       0.00      0.00      0.00         4\n",
      "                                                                    debt collection know       0.00      0.00      0.00        17\n",
      "                                                                debt collection mortgage       0.00      0.00      0.00        10\n",
      "                                                           debt collection mortgage debt       0.00      0.00      0.00        13\n",
      "                                               debt collection private student loan debt       0.00      0.00      0.00         1\n",
      "                                                money transfer domestic u money transfer       0.00      0.00      0.00         7\n",
      "                                             money transfer international money transfer       0.00      0.00      0.00         4\n",
      "                     money transfer virtual currency money service check cashing service       0.00      0.00      0.00         4\n",
      "                 money transfer virtual currency money service domestic u money transfer       0.44      0.29      0.35        69\n",
      "                 money transfer virtual currency money service foreign currency exchange       0.00      0.00      0.00         3\n",
      "              money transfer virtual currency money service international money transfer       0.25      0.05      0.08        22\n",
      "                     money transfer virtual currency money service mobile digital wallet       0.33      0.08      0.12        39\n",
      "                               money transfer virtual currency money service money order       0.00      0.00      0.00         4\n",
      "                 money transfer virtual currency money service refund anticipation check       0.00      0.00      0.00         2\n",
      "              money transfer virtual currency money service traveler check cashier check       0.00      0.00      0.00         7\n",
      "                          money transfer virtual currency money service virtual currency       0.00      0.00      0.00        10\n",
      "                                           mortgage conventional adjustable mortgage arm       0.25      0.02      0.03        56\n",
      "                                                    mortgage conventional fixed mortgage       0.29      0.39      0.33       157\n",
      "                                                     mortgage conventional home mortgage       0.37      0.61      0.46       191\n",
      "                                                                   mortgage fha mortgage       0.42      0.26      0.32        99\n",
      "                                                   mortgage home equity loan line credit       0.50      0.03      0.06        32\n",
      "                                             mortgage home equity loan line credit heloc       0.29      0.12      0.17        33\n",
      "                                                                       mortgage mortgage       0.33      0.03      0.05        38\n",
      "                                                                  mortgage type mortgage       0.00      0.00      0.00        22\n",
      "                                                                    mortgage va mortgage       0.00      0.00      0.00        19\n",
      "                                                                                   otros       0.00      0.00      0.00         9\n",
      "                                   payday loan title loan personal loan installment loan       0.00      0.00      0.00         3\n",
      "                               payday loan title loan personal loan personal line credit       0.00      0.00      0.00         4\n",
      "                                         payday loan title loan personal loan title loan       0.00      0.00      0.00         2\n",
      "                                             student loan federal student loan servicing       0.00      0.00      0.00         2\n",
      "                                                    student loan nonfederal student loan       0.65      0.52      0.58        21\n",
      "                                                       student loan private student loan       0.00      0.00      0.00         5\n",
      "                                                                vehicle loan lease lease       0.86      0.50      0.63        24\n",
      "                                                                 vehicle loan lease loan       0.42      0.40      0.41        57\n",
      "\n",
      "                                                                                accuracy                           0.59      3793\n",
      "                                                                               macro avg       0.19      0.12      0.13      3793\n",
      "                                                                            weighted avg       0.53      0.59      0.53      3793\n",
      "\n"
     ]
    },
    {
     "name": "stderr",
     "output_type": "stream",
     "text": [
      "c:\\Users\\mpper\\AppData\\Local\\Programs\\Python\\Python312\\Lib\\site-packages\\sklearn\\metrics\\_classification.py:1531: UndefinedMetricWarning: Precision is ill-defined and being set to 0.0 in labels with no predicted samples. Use `zero_division` parameter to control this behavior.\n",
      "  _warn_prf(average, modifier, f\"{metric.capitalize()} is\", len(result))\n",
      "c:\\Users\\mpper\\AppData\\Local\\Programs\\Python\\Python312\\Lib\\site-packages\\sklearn\\metrics\\_classification.py:1531: UndefinedMetricWarning: Precision is ill-defined and being set to 0.0 in labels with no predicted samples. Use `zero_division` parameter to control this behavior.\n",
      "  _warn_prf(average, modifier, f\"{metric.capitalize()} is\", len(result))\n",
      "c:\\Users\\mpper\\AppData\\Local\\Programs\\Python\\Python312\\Lib\\site-packages\\sklearn\\metrics\\_classification.py:1531: UndefinedMetricWarning: Precision is ill-defined and being set to 0.0 in labels with no predicted samples. Use `zero_division` parameter to control this behavior.\n",
      "  _warn_prf(average, modifier, f\"{metric.capitalize()} is\", len(result))\n",
      "2024/11/21 14:48:45 INFO mlflow.tracking._tracking_service.client: 🏃 View run Regression Logistica at: https://dagshub.com/zapatacc/final-exam-pcd2024-autumn.mlflow/#/experiments/12/runs/013384fc119745069d059bfcd95de104.\n",
      "2024/11/21 14:48:45 INFO mlflow.tracking._tracking_service.client: 🧪 View experiment at: https://dagshub.com/zapatacc/final-exam-pcd2024-autumn.mlflow/#/experiments/12.\n"
     ]
    }
   ],
   "source": [
    "with mlflow.start_run(run_name='Regression Logistica'):\n",
    "    lr_model = LogisticRegression(max_iter=2000)\n",
    "    \n",
    "    #fit al modelo\n",
    "    lr_model.fit(X_train_tfidf, y_train)\n",
    "    \n",
    "    # hacer predict\n",
    "    y_pred = lr_model.predict(X_test_tfidf)\n",
    "    \n",
    "    # metricas de performace\n",
    "    accuracy = accuracy_score(y_test, y_pred)\n",
    "    report = classification_report(y_test, y_pred, output_dict=True)\n",
    "    \n",
    "    mlflow.log_metric('accuracy', accuracy)\n",
    "    \n",
    "    # registrar el modelo\n",
    "    mlflow.sklearn.log_model(lr_model, 'logistic_regression_model')\n",
    "    \n",
    "    print(f\"Accuracy: {accuracy}\")\n",
    "    print(classification_report(y_test, y_pred))"
   ]
  },
  {
   "cell_type": "markdown",
   "metadata": {},
   "source": [
    "Accuracy de 59%. Intentar mejorar haciendo gridsearch"
   ]
  },
  {
   "cell_type": "code",
   "execution_count": 50,
   "metadata": {},
   "outputs": [],
   "source": [
    "parameters = {\n",
    "    'C': [0.1, 1, 5],          #regularización inversa\n",
    "    'penalty': ['l1', 'l2'],    # Tipos de penalización (l1, l2)\n",
    "    'solver': ['liblinear']   \n",
    "}\n",
    "\n",
    "# GridSearchCV\n",
    "grid_search_lr = GridSearchCV(\n",
    "    LogisticRegression(max_iter=1000),\n",
    "    parameters,\n",
    "    cv=5,\n",
    "    scoring='accuracy',\n",
    "    n_jobs=-1\n",
    ")"
   ]
  },
  {
   "cell_type": "code",
   "execution_count": 51,
   "metadata": {},
   "outputs": [
    {
     "name": "stderr",
     "output_type": "stream",
     "text": [
      "c:\\Users\\mpper\\AppData\\Local\\Programs\\Python\\Python312\\Lib\\site-packages\\sklearn\\metrics\\_classification.py:1531: UndefinedMetricWarning: Precision is ill-defined and being set to 0.0 in labels with no predicted samples. Use `zero_division` parameter to control this behavior.\n",
      "  _warn_prf(average, modifier, f\"{metric.capitalize()} is\", len(result))\n",
      "c:\\Users\\mpper\\AppData\\Local\\Programs\\Python\\Python312\\Lib\\site-packages\\sklearn\\metrics\\_classification.py:1531: UndefinedMetricWarning: Precision is ill-defined and being set to 0.0 in labels with no predicted samples. Use `zero_division` parameter to control this behavior.\n",
      "  _warn_prf(average, modifier, f\"{metric.capitalize()} is\", len(result))\n",
      "c:\\Users\\mpper\\AppData\\Local\\Programs\\Python\\Python312\\Lib\\site-packages\\sklearn\\metrics\\_classification.py:1531: UndefinedMetricWarning: Precision is ill-defined and being set to 0.0 in labels with no predicted samples. Use `zero_division` parameter to control this behavior.\n",
      "  _warn_prf(average, modifier, f\"{metric.capitalize()} is\", len(result))\n",
      "2024/11/21 14:51:06 WARNING mlflow.models.model: Model logged without a signature and input example. Please set `input_example` parameter when logging the model to auto infer the model signature.\n"
     ]
    },
    {
     "name": "stdout",
     "output_type": "stream",
     "text": [
      "Best Params: {'C': 5, 'penalty': 'l2', 'solver': 'liblinear'}\n",
      "Accuracy: 0.5974162931716319\n",
      "                                                                                          precision    recall  f1-score   support\n",
      "\n",
      "                                                bank account service bank productservice       0.25      0.02      0.03        60\n",
      "                                      bank account service cashing check without account       0.00      0.00      0.00         4\n",
      "                                             bank account service cd certificate deposit       0.00      0.00      0.00         4\n",
      "                                                   bank account service checking account       0.50      0.39      0.44       249\n",
      "                                                     bank account service saving account       1.00      0.07      0.13        14\n",
      "                                         checking saving account banking product service       0.33      0.02      0.04        48\n",
      "                                          checking saving account cd certificate deposit       0.33      0.20      0.25         5\n",
      "                                                checking saving account checking account       0.61      0.85      0.71       758\n",
      "                                                  checking saving account saving account       0.64      0.15      0.25        46\n",
      "                                                          consumer loan installment loan       0.00      0.00      0.00         7\n",
      "                                                             consumer loan vehicle lease       0.00      0.00      0.00         5\n",
      "                                                              consumer loan vehicle loan       0.50      0.17      0.26        35\n",
      "                         credit card prepaid card generalpurpose credit card charge card       0.73      0.89      0.80       984\n",
      "                                    credit card prepaid card generalpurpose prepaid card       1.00      0.12      0.22         8\n",
      "                                                      credit card prepaid card gift card       0.00      0.00      0.00         2\n",
      "                                        credit card prepaid card government benefit card       0.00      0.00      0.00         2\n",
      "                                                   credit card prepaid card payroll card       0.00      0.00      0.00         1\n",
      "                                              credit card prepaid card store credit card       0.00      0.00      0.00        11\n",
      "   credit reporting credit repair service personal consumer report credit repair service       0.00      0.00      0.00         3\n",
      "        credit reporting credit repair service personal consumer report credit reporting       0.64      0.72      0.68       402\n",
      "credit reporting credit repair service personal consumer report personal consumer report       0.00      0.00      0.00        12\n",
      "                                                                    debt collection auto       0.00      0.00      0.00         2\n",
      "                                                               debt collection auto debt       0.00      0.00      0.00         6\n",
      "                                                             debt collection credit card       0.61      0.39      0.47        44\n",
      "                                                        debt collection credit card debt       0.47      0.32      0.38        85\n",
      "                                                                    debt collection debt       0.00      0.00      0.00         6\n",
      "                                                debt collection ie phone health club etc       0.00      0.00      0.00         4\n",
      "                                                                    debt collection know       0.00      0.00      0.00        17\n",
      "                                                                debt collection mortgage       0.00      0.00      0.00        10\n",
      "                                                           debt collection mortgage debt       0.67      0.15      0.25        13\n",
      "                                               debt collection private student loan debt       0.00      0.00      0.00         1\n",
      "                                                money transfer domestic u money transfer       0.00      0.00      0.00         7\n",
      "                                             money transfer international money transfer       0.00      0.00      0.00         4\n",
      "                     money transfer virtual currency money service check cashing service       0.00      0.00      0.00         4\n",
      "                 money transfer virtual currency money service domestic u money transfer       0.39      0.28      0.32        69\n",
      "                 money transfer virtual currency money service foreign currency exchange       0.00      0.00      0.00         3\n",
      "              money transfer virtual currency money service international money transfer       0.50      0.23      0.31        22\n",
      "                     money transfer virtual currency money service mobile digital wallet       0.33      0.10      0.16        39\n",
      "                               money transfer virtual currency money service money order       0.00      0.00      0.00         4\n",
      "                 money transfer virtual currency money service refund anticipation check       0.00      0.00      0.00         2\n",
      "              money transfer virtual currency money service traveler check cashier check       0.00      0.00      0.00         7\n",
      "                          money transfer virtual currency money service virtual currency       0.00      0.00      0.00        10\n",
      "                                           mortgage conventional adjustable mortgage arm       0.40      0.11      0.17        56\n",
      "                                                    mortgage conventional fixed mortgage       0.32      0.44      0.37       157\n",
      "                                                     mortgage conventional home mortgage       0.37      0.50      0.43       191\n",
      "                                                                   mortgage fha mortgage       0.37      0.35      0.36        99\n",
      "                                                   mortgage home equity loan line credit       0.57      0.12      0.21        32\n",
      "                                             mortgage home equity loan line credit heloc       0.37      0.21      0.27        33\n",
      "                                                                       mortgage mortgage       0.25      0.05      0.09        38\n",
      "                                                                  mortgage type mortgage       0.00      0.00      0.00        22\n",
      "                                                                    mortgage va mortgage       1.00      0.11      0.19        19\n",
      "                                                                                   otros       0.00      0.00      0.00         9\n",
      "                                   payday loan title loan personal loan installment loan       0.00      0.00      0.00         3\n",
      "                               payday loan title loan personal loan personal line credit       0.00      0.00      0.00         4\n",
      "                                         payday loan title loan personal loan title loan       0.00      0.00      0.00         2\n",
      "                                             student loan federal student loan servicing       0.00      0.00      0.00         2\n",
      "                                                    student loan nonfederal student loan       0.65      0.62      0.63        21\n",
      "                                                       student loan private student loan       0.00      0.00      0.00         5\n",
      "                                                                vehicle loan lease lease       0.78      0.58      0.67        24\n",
      "                                                                 vehicle loan lease loan       0.40      0.33      0.37        57\n",
      "\n",
      "                                                                                accuracy                           0.60      3793\n",
      "                                                                               macro avg       0.25      0.14      0.16      3793\n",
      "                                                                            weighted avg       0.55      0.60      0.55      3793\n",
      "\n"
     ]
    },
    {
     "name": "stderr",
     "output_type": "stream",
     "text": [
      "c:\\Users\\mpper\\AppData\\Local\\Programs\\Python\\Python312\\Lib\\site-packages\\sklearn\\metrics\\_classification.py:1531: UndefinedMetricWarning: Precision is ill-defined and being set to 0.0 in labels with no predicted samples. Use `zero_division` parameter to control this behavior.\n",
      "  _warn_prf(average, modifier, f\"{metric.capitalize()} is\", len(result))\n",
      "c:\\Users\\mpper\\AppData\\Local\\Programs\\Python\\Python312\\Lib\\site-packages\\sklearn\\metrics\\_classification.py:1531: UndefinedMetricWarning: Precision is ill-defined and being set to 0.0 in labels with no predicted samples. Use `zero_division` parameter to control this behavior.\n",
      "  _warn_prf(average, modifier, f\"{metric.capitalize()} is\", len(result))\n",
      "c:\\Users\\mpper\\AppData\\Local\\Programs\\Python\\Python312\\Lib\\site-packages\\sklearn\\metrics\\_classification.py:1531: UndefinedMetricWarning: Precision is ill-defined and being set to 0.0 in labels with no predicted samples. Use `zero_division` parameter to control this behavior.\n",
      "  _warn_prf(average, modifier, f\"{metric.capitalize()} is\", len(result))\n",
      "2024/11/21 14:51:14 INFO mlflow.tracking._tracking_service.client: 🏃 View run LogisticRegression Mejorar at: https://dagshub.com/zapatacc/final-exam-pcd2024-autumn.mlflow/#/experiments/12/runs/31d7515902d84b68ba08155a68c8deda.\n",
      "2024/11/21 14:51:14 INFO mlflow.tracking._tracking_service.client: 🧪 View experiment at: https://dagshub.com/zapatacc/final-exam-pcd2024-autumn.mlflow/#/experiments/12.\n"
     ]
    }
   ],
   "source": [
    "#hacer el run de mlflow\n",
    "with mlflow.start_run(run_name='LogisticRegression Mejorar'):\n",
    "    # intentar diferentes hiperparámetros\n",
    "    grid_search_lr.fit(X_train_tfidf, y_train)\n",
    "    \n",
    "    # Mejor modelo\n",
    "    better_model = grid_search_lr.best_estimator_\n",
    "    \n",
    "    # predicciones\n",
    "    y_pred = better_model.predict(X_test_tfidf)\n",
    "    \n",
    "    # Calcular métricas\n",
    "    accuracy = accuracy_score(y_test, y_pred)\n",
    "    report = classification_report(y_test, y_pred, output_dict=True)\n",
    "    \n",
    "    # Registrar métricas y parámetros\n",
    "    mlflow.log_params(grid_search_lr.best_params_)\n",
    "    mlflow.log_metric('accuracy', accuracy)\n",
    "    \n",
    "    mlflow.sklearn.log_model(better_model, 'better_logistic_regression_mp')\n",
    "    \n",
    "    print(f\"Best Params: {grid_search_lr.best_params_}\")\n",
    "    print(f\"Accuracy: {accuracy}\")\n",
    "    print(classification_report(y_test, y_pred))"
   ]
  },
  {
   "cell_type": "markdown",
   "metadata": {},
   "source": [
    "Subio a 60. :)"
   ]
  },
  {
   "cell_type": "markdown",
   "metadata": {},
   "source": [
    "# Modelo 2: Suport Vector Classifier"
   ]
  },
  {
   "cell_type": "code",
   "execution_count": 52,
   "metadata": {},
   "outputs": [
    {
     "data": {
      "text/plain": [
       "<Experiment: artifact_location='mlflow-artifacts:/bfdaea6ea41c4c0fa7411726fadd8133', creation_time=1732168497880, experiment_id='16', last_update_time=1732168497880, lifecycle_stage='active', name='mariapaula-perez-SVClassifier', tags={}>"
      ]
     },
     "execution_count": 52,
     "metadata": {},
     "output_type": "execute_result"
    }
   ],
   "source": [
    "mlflow.set_experiment('mariapaula-perez-SVClassifier')"
   ]
  },
  {
   "cell_type": "code",
   "execution_count": 53,
   "metadata": {},
   "outputs": [],
   "source": [
    "from sklearn.svm import SVC\n",
    "from sklearn.pipeline import Pipeline\n",
    "from sklearn.preprocessing import LabelEncoder"
   ]
  },
  {
   "cell_type": "code",
   "execution_count": 54,
   "metadata": {},
   "outputs": [],
   "source": [
    "label_encoder = LabelEncoder()\n",
    "y_train_encoded = label_encoder.fit_transform(y_train)\n",
    "y_test_encoded = label_encoder.transform(y_test)"
   ]
  },
  {
   "cell_type": "code",
   "execution_count": 55,
   "metadata": {},
   "outputs": [
    {
     "name": "stderr",
     "output_type": "stream",
     "text": [
      "c:\\Users\\mpper\\AppData\\Local\\Programs\\Python\\Python312\\Lib\\site-packages\\sklearn\\metrics\\_classification.py:1531: UndefinedMetricWarning: Precision is ill-defined and being set to 0.0 in labels with no predicted samples. Use `zero_division` parameter to control this behavior.\n",
      "  _warn_prf(average, modifier, f\"{metric.capitalize()} is\", len(result))\n",
      "c:\\Users\\mpper\\AppData\\Local\\Programs\\Python\\Python312\\Lib\\site-packages\\sklearn\\metrics\\_classification.py:1531: UndefinedMetricWarning: Precision is ill-defined and being set to 0.0 in labels with no predicted samples. Use `zero_division` parameter to control this behavior.\n",
      "  _warn_prf(average, modifier, f\"{metric.capitalize()} is\", len(result))\n",
      "c:\\Users\\mpper\\AppData\\Local\\Programs\\Python\\Python312\\Lib\\site-packages\\sklearn\\metrics\\_classification.py:1531: UndefinedMetricWarning: Precision is ill-defined and being set to 0.0 in labels with no predicted samples. Use `zero_division` parameter to control this behavior.\n",
      "  _warn_prf(average, modifier, f\"{metric.capitalize()} is\", len(result))\n",
      "2024/11/21 14:55:03 WARNING mlflow.models.model: Model logged without a signature and input example. Please set `input_example` parameter when logging the model to auto infer the model signature.\n"
     ]
    },
    {
     "name": "stdout",
     "output_type": "stream",
     "text": [
      "Accuracy: 0.6092802530978118\n",
      "              precision    recall  f1-score   support\n",
      "\n",
      "           0       0.00      0.00      0.00        60\n",
      "           1       0.00      0.00      0.00         4\n",
      "           2       0.00      0.00      0.00         4\n",
      "           3       0.59      0.39      0.46       249\n",
      "           4       1.00      0.07      0.13        14\n",
      "           5       0.00      0.00      0.00        48\n",
      "           6       0.25      0.20      0.22         5\n",
      "           7       0.61      0.88      0.72       758\n",
      "           8       0.78      0.15      0.25        46\n",
      "           9       0.00      0.00      0.00         7\n",
      "          10       0.00      0.00      0.00         5\n",
      "          11       0.50      0.14      0.22        35\n",
      "          12       0.76      0.89      0.82       984\n",
      "          13       1.00      0.12      0.22         8\n",
      "          14       0.00      0.00      0.00         2\n",
      "          15       0.00      0.00      0.00         2\n",
      "          16       0.00      0.00      0.00         1\n",
      "          17       0.00      0.00      0.00        11\n",
      "          18       0.00      0.00      0.00         3\n",
      "          19       0.64      0.75      0.69       402\n",
      "          20       0.00      0.00      0.00        12\n",
      "          21       0.00      0.00      0.00         2\n",
      "          22       0.00      0.00      0.00         6\n",
      "          23       0.56      0.41      0.47        44\n",
      "          24       0.47      0.31      0.37        85\n",
      "          25       0.00      0.00      0.00         6\n",
      "          26       0.00      0.00      0.00         4\n",
      "          27       0.00      0.00      0.00        17\n",
      "          28       0.00      0.00      0.00        10\n",
      "          29       0.67      0.15      0.25        13\n",
      "          30       0.00      0.00      0.00         1\n",
      "          31       0.00      0.00      0.00         7\n",
      "          32       0.00      0.00      0.00         4\n",
      "          33       0.00      0.00      0.00         4\n",
      "          34       0.40      0.29      0.34        69\n",
      "          35       0.00      0.00      0.00         3\n",
      "          36       0.57      0.18      0.28        22\n",
      "          37       0.27      0.08      0.12        39\n",
      "          38       0.00      0.00      0.00         4\n",
      "          39       0.00      0.00      0.00         2\n",
      "          40       0.00      0.00      0.00         7\n",
      "          41       0.00      0.00      0.00        10\n",
      "          42       0.56      0.09      0.15        56\n",
      "          43       0.31      0.44      0.36       157\n",
      "          44       0.39      0.62      0.48       191\n",
      "          45       0.44      0.28      0.34        99\n",
      "          46       0.50      0.06      0.11        32\n",
      "          47       0.32      0.18      0.23        33\n",
      "          48       0.67      0.05      0.10        38\n",
      "          49       0.00      0.00      0.00        22\n",
      "          50       1.00      0.11      0.19        19\n",
      "          51       0.00      0.00      0.00         9\n",
      "          52       0.00      0.00      0.00         3\n",
      "          53       0.00      0.00      0.00         4\n",
      "          54       0.00      0.00      0.00         2\n",
      "          55       0.00      0.00      0.00         2\n",
      "          56       0.58      0.67      0.62        21\n",
      "          57       0.00      0.00      0.00         5\n",
      "          58       0.68      0.62      0.65        24\n",
      "          59       0.47      0.44      0.45        57\n",
      "\n",
      "    accuracy                           0.61      3793\n",
      "   macro avg       0.25      0.14      0.15      3793\n",
      "weighted avg       0.56      0.61      0.56      3793\n",
      "\n"
     ]
    },
    {
     "name": "stderr",
     "output_type": "stream",
     "text": [
      "c:\\Users\\mpper\\AppData\\Local\\Programs\\Python\\Python312\\Lib\\site-packages\\sklearn\\metrics\\_classification.py:1531: UndefinedMetricWarning: Precision is ill-defined and being set to 0.0 in labels with no predicted samples. Use `zero_division` parameter to control this behavior.\n",
      "  _warn_prf(average, modifier, f\"{metric.capitalize()} is\", len(result))\n",
      "c:\\Users\\mpper\\AppData\\Local\\Programs\\Python\\Python312\\Lib\\site-packages\\sklearn\\metrics\\_classification.py:1531: UndefinedMetricWarning: Precision is ill-defined and being set to 0.0 in labels with no predicted samples. Use `zero_division` parameter to control this behavior.\n",
      "  _warn_prf(average, modifier, f\"{metric.capitalize()} is\", len(result))\n",
      "c:\\Users\\mpper\\AppData\\Local\\Programs\\Python\\Python312\\Lib\\site-packages\\sklearn\\metrics\\_classification.py:1531: UndefinedMetricWarning: Precision is ill-defined and being set to 0.0 in labels with no predicted samples. Use `zero_division` parameter to control this behavior.\n",
      "  _warn_prf(average, modifier, f\"{metric.capitalize()} is\", len(result))\n",
      "2024/11/21 14:55:31 INFO mlflow.tracking._tracking_service.client: 🏃 View run SVC_MP at: https://dagshub.com/zapatacc/final-exam-pcd2024-autumn.mlflow/#/experiments/16/runs/5407b23cfc464a7593f52ffa833f2899.\n",
      "2024/11/21 14:55:31 INFO mlflow.tracking._tracking_service.client: 🧪 View experiment at: https://dagshub.com/zapatacc/final-exam-pcd2024-autumn.mlflow/#/experiments/16.\n"
     ]
    }
   ],
   "source": [
    "with mlflow.start_run(run_name='SVC_MP'):\n",
    "    # Crear un pipeline \n",
    "    svc_model = Pipeline([\n",
    "        ('tfidf', TfidfVectorizer(max_features=5000)),\n",
    "        ('svc', SVC(kernel='linear', C=1))\n",
    "    ])\n",
    "    \n",
    "    # Entrenar el pipeline\n",
    "    svc_model.fit(X_train, y_train_encoded)\n",
    "    \n",
    "    y_pred = svc_model.predict(X_test)\n",
    "    \n",
    "    accuracy = accuracy_score(y_test_encoded, y_pred)\n",
    "    report = classification_report(y_test_encoded, y_pred, output_dict=True)\n",
    "    \n",
    "    # Registrar metricas\n",
    "    mlflow.log_metric('accuracy', accuracy)\n",
    "    \n",
    "    # Registrar el modelo \n",
    "    mlflow.sklearn.log_model(svc_model, 'svc_model')\n",
    "    \n",
    "    print(f\"Accuracy: {accuracy}\")\n",
    "    print(classification_report(y_test_encoded, y_pred))"
   ]
  },
  {
   "cell_type": "markdown",
   "metadata": {},
   "source": [
    "Accuracy de 61, mejoro un poco. "
   ]
  },
  {
   "cell_type": "code",
   "execution_count": 56,
   "metadata": {},
   "outputs": [],
   "source": [
    "# from mlflow.tracking import MlflowClient\n",
    "\n",
    "# client = MlflowClient()\n",
    "\n",
    "# run_id_champion = \"c0946a5c2dc44f379a398377d97244c5\"\n",
    "# run_id_challenger = \"c3c0702311004d98984b4f17d6cce6cf\"\n",
    "\n",
    "# # Registra el Champion\n",
    "# mlflow.register_model(\n",
    "#     model_uri=f\"runs:/{run_id_champion}/model\",\n",
    "#     name=\"Champion-Model\"\n",
    "# )\n",
    "\n",
    "# # Registra el Challenger\n",
    "# mlflow.register_model(\n",
    "#     model_uri=f\"runs:/{run_id_challenger}/model\",\n",
    "#     name=\"Challenger-Model\"\n",
    "# )\n"
   ]
  }
 ],
 "metadata": {
  "kernelspec": {
   "display_name": "Python 3",
   "language": "python",
   "name": "python3"
  },
  "language_info": {
   "codemirror_mode": {
    "name": "ipython",
    "version": 3
   },
   "file_extension": ".py",
   "mimetype": "text/x-python",
   "name": "python",
   "nbconvert_exporter": "python",
   "pygments_lexer": "ipython3",
   "version": "3.12.0"
  }
 },
 "nbformat": 4,
 "nbformat_minor": 2
}
