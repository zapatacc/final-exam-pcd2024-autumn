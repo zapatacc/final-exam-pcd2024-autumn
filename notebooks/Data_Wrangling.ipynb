{
 "cells": [
  {
   "metadata": {},
   "cell_type": "markdown",
   "source": "## Data Preparation and Data Wrangling",
   "id": "f4295c445b7d4d72"
  },
  {
   "metadata": {},
   "cell_type": "markdown",
   "source": "En este notebook, se va a realizar la limpieza y preparación de los datos crudos para posteriormente analizarlos y modelarlos. Incluiremos limpieza de textos, renombramiento de columnas, manejo de valores faltantes y aplicación de técnicas de procesamiento de lenguaje natural.",
   "id": "a2a6362ea86013d4"
  },
  {
   "metadata": {},
   "cell_type": "markdown",
   "source": "Importamos librerías",
   "id": "dcc25a8c093b7b66"
  },
  {
   "cell_type": "code",
   "id": "initial_id",
   "metadata": {
    "collapsed": true,
    "ExecuteTime": {
     "end_time": "2024-11-20T18:43:41.090572Z",
     "start_time": "2024-11-20T18:43:41.085513Z"
    }
   },
   "source": [
    "import json \n",
    "import pandas as pd\n",
    "import os"
   ],
   "outputs": [],
   "execution_count": 36
  },
  {
   "metadata": {},
   "cell_type": "markdown",
   "source": "Definimos la ruta al archivo JSON y verificamos que si existe.",
   "id": "eb6ed97bdca0760a"
  },
  {
   "metadata": {
    "ExecuteTime": {
     "end_time": "2024-11-20T18:43:41.456405Z",
     "start_time": "2024-11-20T18:43:41.453920Z"
    }
   },
   "cell_type": "code",
   "source": "file_path = '../data/raw_data/tickets_classification_eng.json'",
   "id": "39ac6f6c94b2cb80",
   "outputs": [],
   "execution_count": 37
  },
  {
   "metadata": {
    "ExecuteTime": {
     "end_time": "2024-11-20T18:43:42.222805Z",
     "start_time": "2024-11-20T18:43:41.751312Z"
    }
   },
   "cell_type": "code",
   "source": [
    "if not os.path.exists(file_path):\n",
    "    print(f\"El archivo {file_path} no existe\")\n",
    "else:\n",
    "    with open(file_path, \"r\") as file:\n",
    "        datos = json.load(file)"
   ],
   "id": "1aea099a3ae50ba4",
   "outputs": [],
   "execution_count": 38
  },
  {
   "metadata": {
    "ExecuteTime": {
     "end_time": "2024-11-20T18:43:43.142280Z",
     "start_time": "2024-11-20T18:43:42.224093Z"
    }
   },
   "cell_type": "code",
   "source": "df = pd.json_normalize(datos)",
   "id": "1809a4c9ac217d3c",
   "outputs": [],
   "execution_count": 39
  },
  {
   "metadata": {
    "ExecuteTime": {
     "end_time": "2024-11-20T18:43:43.172755Z",
     "start_time": "2024-11-20T18:43:43.146519Z"
    }
   },
   "cell_type": "code",
   "source": "df_clean = df.copy()",
   "id": "65f7960da9fe9484",
   "outputs": [],
   "execution_count": 40
  },
  {
   "metadata": {},
   "cell_type": "markdown",
   "source": "Renombramos columnas",
   "id": "b0c74ea7219b221b"
  },
  {
   "metadata": {
    "ExecuteTime": {
     "end_time": "2024-11-20T18:43:43.321741Z",
     "start_time": "2024-11-20T18:43:43.303087Z"
    }
   },
   "cell_type": "code",
   "source": [
    "df_clean = df_clean[['_source.complaint_what_happened', '_source.product', '_source.sub_product']]\n",
    "df_clean.rename(columns={\n",
    "        '_source.complaint_what_happened': 'complaint_what_happened',\n",
    "        '_source.product': 'category',\n",
    "        '_source.sub_product': 'sub_product'\n",
    "    }, inplace=True)\n",
    "df_clean"
   ],
   "id": "48b943dea32ed447",
   "outputs": [
    {
     "data": {
      "text/plain": [
       "                                 complaint_what_happened  \\\n",
       "0                                                          \n",
       "1      Good morning my name is XXXX XXXX and I apprec...   \n",
       "2      I upgraded my XXXX XXXX card in XX/XX/2018 and...   \n",
       "3                                                          \n",
       "4                                                          \n",
       "...                                                  ...   \n",
       "78308                                                      \n",
       "78309  On Wednesday, XX/XX/XXXX I called Chas, my XXX...   \n",
       "78310  I am not familiar with XXXX pay and did not un...   \n",
       "78311  I have had flawless credit for 30 yrs. I've ha...   \n",
       "78312  Roughly 10+ years ago I closed out my accounts...   \n",
       "\n",
       "                          category                                 sub_product  \n",
       "0                  Debt collection                            Credit card debt  \n",
       "1                  Debt collection                            Credit card debt  \n",
       "2      Credit card or prepaid card  General-purpose credit card or charge card  \n",
       "3                         Mortgage                  Conventional home mortgage  \n",
       "4      Credit card or prepaid card  General-purpose credit card or charge card  \n",
       "...                            ...                                         ...  \n",
       "78308  Checking or savings account                            Checking account  \n",
       "78309  Credit card or prepaid card  General-purpose credit card or charge card  \n",
       "78310  Checking or savings account                            Checking account  \n",
       "78311  Credit card or prepaid card  General-purpose credit card or charge card  \n",
       "78312                  Payday loan                                        None  \n",
       "\n",
       "[78313 rows x 3 columns]"
      ],
      "text/html": [
       "<div>\n",
       "<style scoped>\n",
       "    .dataframe tbody tr th:only-of-type {\n",
       "        vertical-align: middle;\n",
       "    }\n",
       "\n",
       "    .dataframe tbody tr th {\n",
       "        vertical-align: top;\n",
       "    }\n",
       "\n",
       "    .dataframe thead th {\n",
       "        text-align: right;\n",
       "    }\n",
       "</style>\n",
       "<table border=\"1\" class=\"dataframe\">\n",
       "  <thead>\n",
       "    <tr style=\"text-align: right;\">\n",
       "      <th></th>\n",
       "      <th>complaint_what_happened</th>\n",
       "      <th>category</th>\n",
       "      <th>sub_product</th>\n",
       "    </tr>\n",
       "  </thead>\n",
       "  <tbody>\n",
       "    <tr>\n",
       "      <th>0</th>\n",
       "      <td></td>\n",
       "      <td>Debt collection</td>\n",
       "      <td>Credit card debt</td>\n",
       "    </tr>\n",
       "    <tr>\n",
       "      <th>1</th>\n",
       "      <td>Good morning my name is XXXX XXXX and I apprec...</td>\n",
       "      <td>Debt collection</td>\n",
       "      <td>Credit card debt</td>\n",
       "    </tr>\n",
       "    <tr>\n",
       "      <th>2</th>\n",
       "      <td>I upgraded my XXXX XXXX card in XX/XX/2018 and...</td>\n",
       "      <td>Credit card or prepaid card</td>\n",
       "      <td>General-purpose credit card or charge card</td>\n",
       "    </tr>\n",
       "    <tr>\n",
       "      <th>3</th>\n",
       "      <td></td>\n",
       "      <td>Mortgage</td>\n",
       "      <td>Conventional home mortgage</td>\n",
       "    </tr>\n",
       "    <tr>\n",
       "      <th>4</th>\n",
       "      <td></td>\n",
       "      <td>Credit card or prepaid card</td>\n",
       "      <td>General-purpose credit card or charge card</td>\n",
       "    </tr>\n",
       "    <tr>\n",
       "      <th>...</th>\n",
       "      <td>...</td>\n",
       "      <td>...</td>\n",
       "      <td>...</td>\n",
       "    </tr>\n",
       "    <tr>\n",
       "      <th>78308</th>\n",
       "      <td></td>\n",
       "      <td>Checking or savings account</td>\n",
       "      <td>Checking account</td>\n",
       "    </tr>\n",
       "    <tr>\n",
       "      <th>78309</th>\n",
       "      <td>On Wednesday, XX/XX/XXXX I called Chas, my XXX...</td>\n",
       "      <td>Credit card or prepaid card</td>\n",
       "      <td>General-purpose credit card or charge card</td>\n",
       "    </tr>\n",
       "    <tr>\n",
       "      <th>78310</th>\n",
       "      <td>I am not familiar with XXXX pay and did not un...</td>\n",
       "      <td>Checking or savings account</td>\n",
       "      <td>Checking account</td>\n",
       "    </tr>\n",
       "    <tr>\n",
       "      <th>78311</th>\n",
       "      <td>I have had flawless credit for 30 yrs. I've ha...</td>\n",
       "      <td>Credit card or prepaid card</td>\n",
       "      <td>General-purpose credit card or charge card</td>\n",
       "    </tr>\n",
       "    <tr>\n",
       "      <th>78312</th>\n",
       "      <td>Roughly 10+ years ago I closed out my accounts...</td>\n",
       "      <td>Payday loan</td>\n",
       "      <td>None</td>\n",
       "    </tr>\n",
       "  </tbody>\n",
       "</table>\n",
       "<p>78313 rows × 3 columns</p>\n",
       "</div>"
      ]
     },
     "execution_count": 41,
     "metadata": {},
     "output_type": "execute_result"
    }
   ],
   "execution_count": 41
  },
  {
   "metadata": {},
   "cell_type": "markdown",
   "source": "",
   "id": "38fd96536d52d946"
  },
  {
   "metadata": {},
   "cell_type": "markdown",
   "source": "Craemos la columna `ticket_classification` que combina las columnas `category`y `sub_product` que representan la clasificación completa de cada ticket.",
   "id": "bdffb33fe60728cb"
  },
  {
   "metadata": {
    "ExecuteTime": {
     "end_time": "2024-11-20T18:43:44.173339Z",
     "start_time": "2024-11-20T18:43:44.136184Z"
    }
   },
   "cell_type": "code",
   "source": "df_clean['ticket_classification'] = df_clean['category'] + ' + ' + df_clean['sub_product']",
   "id": "1284e4845d0dc437",
   "outputs": [],
   "execution_count": 42
  },
  {
   "metadata": {
    "ExecuteTime": {
     "end_time": "2024-11-20T18:43:44.893569Z",
     "start_time": "2024-11-20T18:43:44.883876Z"
    }
   },
   "cell_type": "code",
   "source": "df_clean.drop(['category', 'sub_product'], axis=1, inplace=True)",
   "id": "93720796d179dde7",
   "outputs": [],
   "execution_count": 43
  },
  {
   "metadata": {},
   "cell_type": "markdown",
   "source": "Remplazamos los datos vacíos por NAN y eliminamos las filas que continen valores faltantes.",
   "id": "9f0af3a3fc6c3106"
  },
  {
   "metadata": {
    "ExecuteTime": {
     "end_time": "2024-11-20T18:45:55.362302Z",
     "start_time": "2024-11-20T18:45:55.349471Z"
    }
   },
   "cell_type": "code",
   "source": [
    "df_clean['complaint_what_happened'].replace('', pd.NA, inplace=True)\n",
    "df_clean"
   ],
   "id": "63fb503b3427af7e",
   "outputs": [
    {
     "name": "stderr",
     "output_type": "stream",
     "text": [
      "/var/folders/sk/pvtckwm10nz9m00s0ldjlwsc0000gn/T/ipykernel_94170/1701691931.py:1: FutureWarning: A value is trying to be set on a copy of a DataFrame or Series through chained assignment using an inplace method.\n",
      "The behavior will change in pandas 3.0. This inplace method will never work because the intermediate object on which we are setting values always behaves as a copy.\n",
      "\n",
      "For example, when doing 'df[col].method(value, inplace=True)', try using 'df.method({col: value}, inplace=True)' or df[col] = df[col].method(value) instead, to perform the operation inplace on the original object.\n",
      "\n",
      "\n",
      "  df_clean['complaint_what_happened'].replace('', pd.NA, inplace=True)\n"
     ]
    },
    {
     "data": {
      "text/plain": [
       "                                 complaint_what_happened  \\\n",
       "0                                                   <NA>   \n",
       "1      Good morning my name is XXXX XXXX and I apprec...   \n",
       "2      I upgraded my XXXX XXXX card in XX/XX/2018 and...   \n",
       "3                                                   <NA>   \n",
       "4                                                   <NA>   \n",
       "...                                                  ...   \n",
       "78308                                               <NA>   \n",
       "78309  On Wednesday, XX/XX/XXXX I called Chas, my XXX...   \n",
       "78310  I am not familiar with XXXX pay and did not un...   \n",
       "78311  I have had flawless credit for 30 yrs. I've ha...   \n",
       "78312  Roughly 10+ years ago I closed out my accounts...   \n",
       "\n",
       "                                   ticket_classification  \n",
       "0                     Debt collection + Credit card debt  \n",
       "1                     Debt collection + Credit card debt  \n",
       "2      Credit card or prepaid card + General-purpose ...  \n",
       "3                  Mortgage + Conventional home mortgage  \n",
       "4      Credit card or prepaid card + General-purpose ...  \n",
       "...                                                  ...  \n",
       "78308     Checking or savings account + Checking account  \n",
       "78309  Credit card or prepaid card + General-purpose ...  \n",
       "78310     Checking or savings account + Checking account  \n",
       "78311  Credit card or prepaid card + General-purpose ...  \n",
       "78312                                                NaN  \n",
       "\n",
       "[78313 rows x 2 columns]"
      ],
      "text/html": [
       "<div>\n",
       "<style scoped>\n",
       "    .dataframe tbody tr th:only-of-type {\n",
       "        vertical-align: middle;\n",
       "    }\n",
       "\n",
       "    .dataframe tbody tr th {\n",
       "        vertical-align: top;\n",
       "    }\n",
       "\n",
       "    .dataframe thead th {\n",
       "        text-align: right;\n",
       "    }\n",
       "</style>\n",
       "<table border=\"1\" class=\"dataframe\">\n",
       "  <thead>\n",
       "    <tr style=\"text-align: right;\">\n",
       "      <th></th>\n",
       "      <th>complaint_what_happened</th>\n",
       "      <th>ticket_classification</th>\n",
       "    </tr>\n",
       "  </thead>\n",
       "  <tbody>\n",
       "    <tr>\n",
       "      <th>0</th>\n",
       "      <td>&lt;NA&gt;</td>\n",
       "      <td>Debt collection + Credit card debt</td>\n",
       "    </tr>\n",
       "    <tr>\n",
       "      <th>1</th>\n",
       "      <td>Good morning my name is XXXX XXXX and I apprec...</td>\n",
       "      <td>Debt collection + Credit card debt</td>\n",
       "    </tr>\n",
       "    <tr>\n",
       "      <th>2</th>\n",
       "      <td>I upgraded my XXXX XXXX card in XX/XX/2018 and...</td>\n",
       "      <td>Credit card or prepaid card + General-purpose ...</td>\n",
       "    </tr>\n",
       "    <tr>\n",
       "      <th>3</th>\n",
       "      <td>&lt;NA&gt;</td>\n",
       "      <td>Mortgage + Conventional home mortgage</td>\n",
       "    </tr>\n",
       "    <tr>\n",
       "      <th>4</th>\n",
       "      <td>&lt;NA&gt;</td>\n",
       "      <td>Credit card or prepaid card + General-purpose ...</td>\n",
       "    </tr>\n",
       "    <tr>\n",
       "      <th>...</th>\n",
       "      <td>...</td>\n",
       "      <td>...</td>\n",
       "    </tr>\n",
       "    <tr>\n",
       "      <th>78308</th>\n",
       "      <td>&lt;NA&gt;</td>\n",
       "      <td>Checking or savings account + Checking account</td>\n",
       "    </tr>\n",
       "    <tr>\n",
       "      <th>78309</th>\n",
       "      <td>On Wednesday, XX/XX/XXXX I called Chas, my XXX...</td>\n",
       "      <td>Credit card or prepaid card + General-purpose ...</td>\n",
       "    </tr>\n",
       "    <tr>\n",
       "      <th>78310</th>\n",
       "      <td>I am not familiar with XXXX pay and did not un...</td>\n",
       "      <td>Checking or savings account + Checking account</td>\n",
       "    </tr>\n",
       "    <tr>\n",
       "      <th>78311</th>\n",
       "      <td>I have had flawless credit for 30 yrs. I've ha...</td>\n",
       "      <td>Credit card or prepaid card + General-purpose ...</td>\n",
       "    </tr>\n",
       "    <tr>\n",
       "      <th>78312</th>\n",
       "      <td>Roughly 10+ years ago I closed out my accounts...</td>\n",
       "      <td>NaN</td>\n",
       "    </tr>\n",
       "  </tbody>\n",
       "</table>\n",
       "<p>78313 rows × 2 columns</p>\n",
       "</div>"
      ]
     },
     "execution_count": 45,
     "metadata": {},
     "output_type": "execute_result"
    }
   ],
   "execution_count": 45
  },
  {
   "metadata": {
    "ExecuteTime": {
     "end_time": "2024-11-20T18:48:39.541142Z",
     "start_time": "2024-11-20T18:48:39.514993Z"
    }
   },
   "cell_type": "code",
   "source": "df_clean.dropna(subset=['complaint_what_happened', 'ticket_classification'], inplace=True)",
   "id": "fb365b39a5e66424",
   "outputs": [],
   "execution_count": 48
  },
  {
   "metadata": {
    "ExecuteTime": {
     "end_time": "2024-11-20T18:48:46.582761Z",
     "start_time": "2024-11-20T18:48:46.575277Z"
    }
   },
   "cell_type": "code",
   "source": "df_clean",
   "id": "3f3a3d6ff9f977b7",
   "outputs": [
    {
     "data": {
      "text/plain": [
       "                                 complaint_what_happened  \\\n",
       "1      Good morning my name is XXXX XXXX and I apprec...   \n",
       "2      I upgraded my XXXX XXXX card in XX/XX/2018 and...   \n",
       "10     Chase Card was reported on XX/XX/2019. However...   \n",
       "11     On XX/XX/2018, while trying to book a XXXX  XX...   \n",
       "14     my grand son give me check for {$1600.00} i de...   \n",
       "...                                                  ...   \n",
       "78301  My husband passed away. Chase bank put check o...   \n",
       "78303  After being a Chase Card customer for well ove...   \n",
       "78309  On Wednesday, XX/XX/XXXX I called Chas, my XXX...   \n",
       "78310  I am not familiar with XXXX pay and did not un...   \n",
       "78311  I have had flawless credit for 30 yrs. I've ha...   \n",
       "\n",
       "                                   ticket_classification  \n",
       "1                     Debt collection + Credit card debt  \n",
       "2      Credit card or prepaid card + General-purpose ...  \n",
       "10     Credit reporting, credit repair services, or o...  \n",
       "11     Credit reporting, credit repair services, or o...  \n",
       "14        Checking or savings account + Checking account  \n",
       "...                                                  ...  \n",
       "78301     Checking or savings account + Checking account  \n",
       "78303  Credit card or prepaid card + General-purpose ...  \n",
       "78309  Credit card or prepaid card + General-purpose ...  \n",
       "78310     Checking or savings account + Checking account  \n",
       "78311  Credit card or prepaid card + General-purpose ...  \n",
       "\n",
       "[18963 rows x 2 columns]"
      ],
      "text/html": [
       "<div>\n",
       "<style scoped>\n",
       "    .dataframe tbody tr th:only-of-type {\n",
       "        vertical-align: middle;\n",
       "    }\n",
       "\n",
       "    .dataframe tbody tr th {\n",
       "        vertical-align: top;\n",
       "    }\n",
       "\n",
       "    .dataframe thead th {\n",
       "        text-align: right;\n",
       "    }\n",
       "</style>\n",
       "<table border=\"1\" class=\"dataframe\">\n",
       "  <thead>\n",
       "    <tr style=\"text-align: right;\">\n",
       "      <th></th>\n",
       "      <th>complaint_what_happened</th>\n",
       "      <th>ticket_classification</th>\n",
       "    </tr>\n",
       "  </thead>\n",
       "  <tbody>\n",
       "    <tr>\n",
       "      <th>1</th>\n",
       "      <td>Good morning my name is XXXX XXXX and I apprec...</td>\n",
       "      <td>Debt collection + Credit card debt</td>\n",
       "    </tr>\n",
       "    <tr>\n",
       "      <th>2</th>\n",
       "      <td>I upgraded my XXXX XXXX card in XX/XX/2018 and...</td>\n",
       "      <td>Credit card or prepaid card + General-purpose ...</td>\n",
       "    </tr>\n",
       "    <tr>\n",
       "      <th>10</th>\n",
       "      <td>Chase Card was reported on XX/XX/2019. However...</td>\n",
       "      <td>Credit reporting, credit repair services, or o...</td>\n",
       "    </tr>\n",
       "    <tr>\n",
       "      <th>11</th>\n",
       "      <td>On XX/XX/2018, while trying to book a XXXX  XX...</td>\n",
       "      <td>Credit reporting, credit repair services, or o...</td>\n",
       "    </tr>\n",
       "    <tr>\n",
       "      <th>14</th>\n",
       "      <td>my grand son give me check for {$1600.00} i de...</td>\n",
       "      <td>Checking or savings account + Checking account</td>\n",
       "    </tr>\n",
       "    <tr>\n",
       "      <th>...</th>\n",
       "      <td>...</td>\n",
       "      <td>...</td>\n",
       "    </tr>\n",
       "    <tr>\n",
       "      <th>78301</th>\n",
       "      <td>My husband passed away. Chase bank put check o...</td>\n",
       "      <td>Checking or savings account + Checking account</td>\n",
       "    </tr>\n",
       "    <tr>\n",
       "      <th>78303</th>\n",
       "      <td>After being a Chase Card customer for well ove...</td>\n",
       "      <td>Credit card or prepaid card + General-purpose ...</td>\n",
       "    </tr>\n",
       "    <tr>\n",
       "      <th>78309</th>\n",
       "      <td>On Wednesday, XX/XX/XXXX I called Chas, my XXX...</td>\n",
       "      <td>Credit card or prepaid card + General-purpose ...</td>\n",
       "    </tr>\n",
       "    <tr>\n",
       "      <th>78310</th>\n",
       "      <td>I am not familiar with XXXX pay and did not un...</td>\n",
       "      <td>Checking or savings account + Checking account</td>\n",
       "    </tr>\n",
       "    <tr>\n",
       "      <th>78311</th>\n",
       "      <td>I have had flawless credit for 30 yrs. I've ha...</td>\n",
       "      <td>Credit card or prepaid card + General-purpose ...</td>\n",
       "    </tr>\n",
       "  </tbody>\n",
       "</table>\n",
       "<p>18963 rows × 2 columns</p>\n",
       "</div>"
      ]
     },
     "execution_count": 49,
     "metadata": {},
     "output_type": "execute_result"
    }
   ],
   "execution_count": 49
  },
  {
   "metadata": {},
   "cell_type": "markdown",
   "source": "Reseteamos index ",
   "id": "3a1097344292b6c0"
  },
  {
   "metadata": {
    "ExecuteTime": {
     "end_time": "2024-11-20T18:49:18.577507Z",
     "start_time": "2024-11-20T18:49:18.574052Z"
    }
   },
   "cell_type": "code",
   "source": "df_clean.reset_index(drop=True, inplace=True)",
   "id": "259d35661e7c21ff",
   "outputs": [],
   "execution_count": 51
  },
  {
   "metadata": {
    "ExecuteTime": {
     "end_time": "2024-11-20T18:49:23.866800Z",
     "start_time": "2024-11-20T18:49:23.861549Z"
    }
   },
   "cell_type": "code",
   "source": "df_clean",
   "id": "7769451303782938",
   "outputs": [
    {
     "data": {
      "text/plain": [
       "                                 complaint_what_happened  \\\n",
       "0      Good morning my name is XXXX XXXX and I apprec...   \n",
       "1      I upgraded my XXXX XXXX card in XX/XX/2018 and...   \n",
       "2      Chase Card was reported on XX/XX/2019. However...   \n",
       "3      On XX/XX/2018, while trying to book a XXXX  XX...   \n",
       "4      my grand son give me check for {$1600.00} i de...   \n",
       "...                                                  ...   \n",
       "18958  My husband passed away. Chase bank put check o...   \n",
       "18959  After being a Chase Card customer for well ove...   \n",
       "18960  On Wednesday, XX/XX/XXXX I called Chas, my XXX...   \n",
       "18961  I am not familiar with XXXX pay and did not un...   \n",
       "18962  I have had flawless credit for 30 yrs. I've ha...   \n",
       "\n",
       "                                   ticket_classification  \n",
       "0                     Debt collection + Credit card debt  \n",
       "1      Credit card or prepaid card + General-purpose ...  \n",
       "2      Credit reporting, credit repair services, or o...  \n",
       "3      Credit reporting, credit repair services, or o...  \n",
       "4         Checking or savings account + Checking account  \n",
       "...                                                  ...  \n",
       "18958     Checking or savings account + Checking account  \n",
       "18959  Credit card or prepaid card + General-purpose ...  \n",
       "18960  Credit card or prepaid card + General-purpose ...  \n",
       "18961     Checking or savings account + Checking account  \n",
       "18962  Credit card or prepaid card + General-purpose ...  \n",
       "\n",
       "[18963 rows x 2 columns]"
      ],
      "text/html": [
       "<div>\n",
       "<style scoped>\n",
       "    .dataframe tbody tr th:only-of-type {\n",
       "        vertical-align: middle;\n",
       "    }\n",
       "\n",
       "    .dataframe tbody tr th {\n",
       "        vertical-align: top;\n",
       "    }\n",
       "\n",
       "    .dataframe thead th {\n",
       "        text-align: right;\n",
       "    }\n",
       "</style>\n",
       "<table border=\"1\" class=\"dataframe\">\n",
       "  <thead>\n",
       "    <tr style=\"text-align: right;\">\n",
       "      <th></th>\n",
       "      <th>complaint_what_happened</th>\n",
       "      <th>ticket_classification</th>\n",
       "    </tr>\n",
       "  </thead>\n",
       "  <tbody>\n",
       "    <tr>\n",
       "      <th>0</th>\n",
       "      <td>Good morning my name is XXXX XXXX and I apprec...</td>\n",
       "      <td>Debt collection + Credit card debt</td>\n",
       "    </tr>\n",
       "    <tr>\n",
       "      <th>1</th>\n",
       "      <td>I upgraded my XXXX XXXX card in XX/XX/2018 and...</td>\n",
       "      <td>Credit card or prepaid card + General-purpose ...</td>\n",
       "    </tr>\n",
       "    <tr>\n",
       "      <th>2</th>\n",
       "      <td>Chase Card was reported on XX/XX/2019. However...</td>\n",
       "      <td>Credit reporting, credit repair services, or o...</td>\n",
       "    </tr>\n",
       "    <tr>\n",
       "      <th>3</th>\n",
       "      <td>On XX/XX/2018, while trying to book a XXXX  XX...</td>\n",
       "      <td>Credit reporting, credit repair services, or o...</td>\n",
       "    </tr>\n",
       "    <tr>\n",
       "      <th>4</th>\n",
       "      <td>my grand son give me check for {$1600.00} i de...</td>\n",
       "      <td>Checking or savings account + Checking account</td>\n",
       "    </tr>\n",
       "    <tr>\n",
       "      <th>...</th>\n",
       "      <td>...</td>\n",
       "      <td>...</td>\n",
       "    </tr>\n",
       "    <tr>\n",
       "      <th>18958</th>\n",
       "      <td>My husband passed away. Chase bank put check o...</td>\n",
       "      <td>Checking or savings account + Checking account</td>\n",
       "    </tr>\n",
       "    <tr>\n",
       "      <th>18959</th>\n",
       "      <td>After being a Chase Card customer for well ove...</td>\n",
       "      <td>Credit card or prepaid card + General-purpose ...</td>\n",
       "    </tr>\n",
       "    <tr>\n",
       "      <th>18960</th>\n",
       "      <td>On Wednesday, XX/XX/XXXX I called Chas, my XXX...</td>\n",
       "      <td>Credit card or prepaid card + General-purpose ...</td>\n",
       "    </tr>\n",
       "    <tr>\n",
       "      <th>18961</th>\n",
       "      <td>I am not familiar with XXXX pay and did not un...</td>\n",
       "      <td>Checking or savings account + Checking account</td>\n",
       "    </tr>\n",
       "    <tr>\n",
       "      <th>18962</th>\n",
       "      <td>I have had flawless credit for 30 yrs. I've ha...</td>\n",
       "      <td>Credit card or prepaid card + General-purpose ...</td>\n",
       "    </tr>\n",
       "  </tbody>\n",
       "</table>\n",
       "<p>18963 rows × 2 columns</p>\n",
       "</div>"
      ]
     },
     "execution_count": 52,
     "metadata": {},
     "output_type": "execute_result"
    }
   ],
   "execution_count": 52
  },
  {
   "metadata": {},
   "cell_type": "markdown",
   "source": "Creamos un directorio para guardar los datos limpios y lo convertimos a csv.",
   "id": "958ed9564ee29131"
  },
  {
   "metadata": {
    "ExecuteTime": {
     "end_time": "2024-11-20T18:53:05.146106Z",
     "start_time": "2024-11-20T18:53:05.140087Z"
    }
   },
   "cell_type": "code",
   "source": [
    "clean_data_dir = '../data/clean_data'\n",
    "os.makedirs(clean_data_dir, exist_ok=True)"
   ],
   "id": "413eb3f034007e05",
   "outputs": [],
   "execution_count": 53
  },
  {
   "metadata": {
    "ExecuteTime": {
     "end_time": "2024-11-20T18:53:43.145730Z",
     "start_time": "2024-11-20T18:53:42.829176Z"
    }
   },
   "cell_type": "code",
   "source": [
    "output_path = os.path.join(clean_data_dir, 'clean_tickets.csv')\n",
    "df_clean.to_csv(output_path, index=False)\n",
    "\n",
    "print(f\"Datos limpios guardados en {output_path}\")"
   ],
   "id": "16a2b6e40d45f043",
   "outputs": [
    {
     "name": "stdout",
     "output_type": "stream",
     "text": [
      "Datos limpios guardados en ../data/clean_data/clean_tickets.csv\n"
     ]
    }
   ],
   "execution_count": 54
  },
  {
   "metadata": {},
   "cell_type": "markdown",
   "source": "## Data Wrangling",
   "id": "349881edfe4ccefd"
  },
  {
   "metadata": {},
   "cell_type": "markdown",
   "source": "Ahora pasamos al procesamiento de los datos ya limpios para aplicarle técnicas de limpieza de texto para prepararlos para ser modelados.",
   "id": "6a2f8c223854673e"
  },
  {
   "metadata": {},
   "cell_type": "markdown",
   "source": "Importamos las librerías necesarias",
   "id": "7388287cb81171d3"
  },
  {
   "metadata": {
    "ExecuteTime": {
     "end_time": "2024-11-20T19:55:57.904350Z",
     "start_time": "2024-11-20T19:55:57.896612Z"
    }
   },
   "cell_type": "code",
   "source": [
    "import nltk\n",
    "import re\n",
    "from nltk.corpus import stopwords\n",
    "import contractions\n",
    "from nltk.stem import WordNetLemmatizer\n",
    "nltk.download('stopwords')\n",
    "nltk.download('wordnet')"
   ],
   "id": "ee939dfa1df587d2",
   "outputs": [],
   "execution_count": 61
  },
  {
   "metadata": {
    "ExecuteTime": {
     "end_time": "2024-11-20T19:15:30.567680Z",
     "start_time": "2024-11-20T19:15:30.255514Z"
    }
   },
   "cell_type": "code",
   "source": [
    "df = pd.read_csv('../data/clean_data/clean_tickets.csv')\n",
    "df"
   ],
   "id": "f4dcf4bec1c0d8c8",
   "outputs": [
    {
     "data": {
      "text/plain": [
       "                                 complaint_what_happened  \\\n",
       "0      Good morning my name is XXXX XXXX and I apprec...   \n",
       "1      I upgraded my XXXX XXXX card in XX/XX/2018 and...   \n",
       "2      Chase Card was reported on XX/XX/2019. However...   \n",
       "3      On XX/XX/2018, while trying to book a XXXX  XX...   \n",
       "4      my grand son give me check for {$1600.00} i de...   \n",
       "...                                                  ...   \n",
       "18958  My husband passed away. Chase bank put check o...   \n",
       "18959  After being a Chase Card customer for well ove...   \n",
       "18960  On Wednesday, XX/XX/XXXX I called Chas, my XXX...   \n",
       "18961  I am not familiar with XXXX pay and did not un...   \n",
       "18962  I have had flawless credit for 30 yrs. I've ha...   \n",
       "\n",
       "                                   ticket_classification  \n",
       "0                     Debt collection + Credit card debt  \n",
       "1      Credit card or prepaid card + General-purpose ...  \n",
       "2      Credit reporting, credit repair services, or o...  \n",
       "3      Credit reporting, credit repair services, or o...  \n",
       "4         Checking or savings account + Checking account  \n",
       "...                                                  ...  \n",
       "18958     Checking or savings account + Checking account  \n",
       "18959  Credit card or prepaid card + General-purpose ...  \n",
       "18960  Credit card or prepaid card + General-purpose ...  \n",
       "18961     Checking or savings account + Checking account  \n",
       "18962  Credit card or prepaid card + General-purpose ...  \n",
       "\n",
       "[18963 rows x 2 columns]"
      ],
      "text/html": [
       "<div>\n",
       "<style scoped>\n",
       "    .dataframe tbody tr th:only-of-type {\n",
       "        vertical-align: middle;\n",
       "    }\n",
       "\n",
       "    .dataframe tbody tr th {\n",
       "        vertical-align: top;\n",
       "    }\n",
       "\n",
       "    .dataframe thead th {\n",
       "        text-align: right;\n",
       "    }\n",
       "</style>\n",
       "<table border=\"1\" class=\"dataframe\">\n",
       "  <thead>\n",
       "    <tr style=\"text-align: right;\">\n",
       "      <th></th>\n",
       "      <th>complaint_what_happened</th>\n",
       "      <th>ticket_classification</th>\n",
       "    </tr>\n",
       "  </thead>\n",
       "  <tbody>\n",
       "    <tr>\n",
       "      <th>0</th>\n",
       "      <td>Good morning my name is XXXX XXXX and I apprec...</td>\n",
       "      <td>Debt collection + Credit card debt</td>\n",
       "    </tr>\n",
       "    <tr>\n",
       "      <th>1</th>\n",
       "      <td>I upgraded my XXXX XXXX card in XX/XX/2018 and...</td>\n",
       "      <td>Credit card or prepaid card + General-purpose ...</td>\n",
       "    </tr>\n",
       "    <tr>\n",
       "      <th>2</th>\n",
       "      <td>Chase Card was reported on XX/XX/2019. However...</td>\n",
       "      <td>Credit reporting, credit repair services, or o...</td>\n",
       "    </tr>\n",
       "    <tr>\n",
       "      <th>3</th>\n",
       "      <td>On XX/XX/2018, while trying to book a XXXX  XX...</td>\n",
       "      <td>Credit reporting, credit repair services, or o...</td>\n",
       "    </tr>\n",
       "    <tr>\n",
       "      <th>4</th>\n",
       "      <td>my grand son give me check for {$1600.00} i de...</td>\n",
       "      <td>Checking or savings account + Checking account</td>\n",
       "    </tr>\n",
       "    <tr>\n",
       "      <th>...</th>\n",
       "      <td>...</td>\n",
       "      <td>...</td>\n",
       "    </tr>\n",
       "    <tr>\n",
       "      <th>18958</th>\n",
       "      <td>My husband passed away. Chase bank put check o...</td>\n",
       "      <td>Checking or savings account + Checking account</td>\n",
       "    </tr>\n",
       "    <tr>\n",
       "      <th>18959</th>\n",
       "      <td>After being a Chase Card customer for well ove...</td>\n",
       "      <td>Credit card or prepaid card + General-purpose ...</td>\n",
       "    </tr>\n",
       "    <tr>\n",
       "      <th>18960</th>\n",
       "      <td>On Wednesday, XX/XX/XXXX I called Chas, my XXX...</td>\n",
       "      <td>Credit card or prepaid card + General-purpose ...</td>\n",
       "    </tr>\n",
       "    <tr>\n",
       "      <th>18961</th>\n",
       "      <td>I am not familiar with XXXX pay and did not un...</td>\n",
       "      <td>Checking or savings account + Checking account</td>\n",
       "    </tr>\n",
       "    <tr>\n",
       "      <th>18962</th>\n",
       "      <td>I have had flawless credit for 30 yrs. I've ha...</td>\n",
       "      <td>Credit card or prepaid card + General-purpose ...</td>\n",
       "    </tr>\n",
       "  </tbody>\n",
       "</table>\n",
       "<p>18963 rows × 2 columns</p>\n",
       "</div>"
      ]
     },
     "execution_count": 57,
     "metadata": {},
     "output_type": "execute_result"
    }
   ],
   "execution_count": 57
  },
  {
   "metadata": {},
   "cell_type": "markdown",
   "source": "Para limpiar los textos vamos a aplicar diferentes técnicas de procesamiento de lenguaje, para empezar vamos a hacer una función que expanda las contracciones.",
   "id": "cae1a9788cbf3c84"
  },
  {
   "metadata": {
    "ExecuteTime": {
     "end_time": "2024-11-20T19:40:56.874736Z",
     "start_time": "2024-11-20T19:40:56.868835Z"
    }
   },
   "cell_type": "code",
   "source": [
    "def expand_contractions(text):\n",
    "    return contractions.fix(text)"
   ],
   "id": "5b5812d68906cc6c",
   "outputs": [],
   "execution_count": 59
  },
  {
   "metadata": {},
   "cell_type": "markdown",
   "source": [
    "Definimos una función para limpiar el texto que incluye:\n",
    "+\tExpansión de contracciones.\n",
    "+\tConversión a minúsculas.\n",
    "+\tEliminación de caracteres repetidos (xx).\n",
    "+\tEliminación de espacios adicionales."
   ],
   "id": "4452ee5fdf4764ed"
  },
  {
   "metadata": {
    "ExecuteTime": {
     "end_time": "2024-11-20T20:08:41.770336Z",
     "start_time": "2024-11-20T20:08:41.766936Z"
    }
   },
   "cell_type": "code",
   "source": [
    "def clean_text(text):\n",
    "    text = expand_contractions(text)\n",
    "    text = text.lower()\n",
    "    text = re.sub(r'xx+', '', text)\n",
    "    text = re.sub(r'\\s+', ' ', text).strip()\n",
    "    return text"
   ],
   "id": "2ab19a5a2cee895c",
   "outputs": [],
   "execution_count": 66
  },
  {
   "metadata": {},
   "cell_type": "markdown",
   "source": [
    "Por último crearemos una función llamada `preprocess_text` que va a realizar lo siguiente:\n",
    " + Aplicará la función `clean_text`.\n",
    " + Tokenizaremos el texto, esto significa que dividirá el texto en palabras individuales.\n",
    " + Eliminaremos las stopwords, o sea las palabras comunes que no aportan un significado significativo.\n",
    "+ Lematizaremos el texto, buscará la forma más simple y básica de cada palabra, al reducir las palabras a su forma básica, puedes agruparlas y analizarlas más fácilmente."
   ],
   "id": "45262be2d10f70e9"
  },
  {
   "metadata": {
    "ExecuteTime": {
     "end_time": "2024-11-20T20:08:46.256391Z",
     "start_time": "2024-11-20T20:08:46.252051Z"
    }
   },
   "cell_type": "code",
   "source": [
    "def preprocess_text(text):\n",
    "    # Limpiar el texto\n",
    "    text = clean_text(text)\n",
    "    # Tokenizar\n",
    "    words = nltk.word_tokenize(text)\n",
    "    # Eliminar stopwords\n",
    "    stop_words = set(stopwords.words('english'))\n",
    "    words = [word for word in words if word not in stop_words]\n",
    "    # Lematizar\n",
    "    lemmatizer = WordNetLemmatizer()\n",
    "    words = [lemmatizer.lemmatize(word) for word in words]\n",
    "    # Unir palabras\n",
    "    text = ' '.join(words)\n",
    "    return text"
   ],
   "id": "1162ff76f68fd063",
   "outputs": [],
   "execution_count": 67
  },
  {
   "metadata": {
    "ExecuteTime": {
     "end_time": "2024-11-20T20:09:07.644428Z",
     "start_time": "2024-11-20T20:08:47.106098Z"
    }
   },
   "cell_type": "code",
   "source": "df_clean['clean_complaint'] = df_clean['complaint_what_happened'].apply(preprocess_text)",
   "id": "c0e88d9f3a4b0812",
   "outputs": [],
   "execution_count": 68
  },
  {
   "metadata": {
    "ExecuteTime": {
     "end_time": "2024-11-20T20:09:09.258591Z",
     "start_time": "2024-11-20T20:09:09.251259Z"
    }
   },
   "cell_type": "code",
   "source": "df_clean",
   "id": "8d33b2b302a91ce",
   "outputs": [
    {
     "data": {
      "text/plain": [
       "                                 complaint_what_happened  \\\n",
       "0      Good morning my name is XXXX XXXX and I apprec...   \n",
       "1      I upgraded my XXXX XXXX card in XX/XX/2018 and...   \n",
       "2      Chase Card was reported on XX/XX/2019. However...   \n",
       "3      On XX/XX/2018, while trying to book a XXXX  XX...   \n",
       "4      my grand son give me check for {$1600.00} i de...   \n",
       "...                                                  ...   \n",
       "18958  My husband passed away. Chase bank put check o...   \n",
       "18959  After being a Chase Card customer for well ove...   \n",
       "18960  On Wednesday, XX/XX/XXXX I called Chas, my XXX...   \n",
       "18961  I am not familiar with XXXX pay and did not un...   \n",
       "18962  I have had flawless credit for 30 yrs. I've ha...   \n",
       "\n",
       "                                   ticket_classification  \\\n",
       "0                     Debt collection + Credit card debt   \n",
       "1      Credit card or prepaid card + General-purpose ...   \n",
       "2      Credit reporting, credit repair services, or o...   \n",
       "3      Credit reporting, credit repair services, or o...   \n",
       "4         Checking or savings account + Checking account   \n",
       "...                                                  ...   \n",
       "18958     Checking or savings account + Checking account   \n",
       "18959  Credit card or prepaid card + General-purpose ...   \n",
       "18960  Credit card or prepaid card + General-purpose ...   \n",
       "18961     Checking or savings account + Checking account   \n",
       "18962  Credit card or prepaid card + General-purpose ...   \n",
       "\n",
       "                                         clean_complaint  \n",
       "0      good morning name appreciate could help put st...  \n",
       "1      upgraded card //2018 told agent upgrade annive...  \n",
       "2      chase card reported //2019 . however , fraudul...  \n",
       "3      //2018 , trying book ticket , came across offe...  \n",
       "4      grand son give check { $ 1600.00 } deposit cha...  \n",
       "...                                                  ...  \n",
       "18958  husband passed away . chase bank put check hol...  \n",
       "18959  chase card customer well decade , offered mult...  \n",
       "18960  wednesday , // called chas , visa credit card ...  \n",
       "18961  familiar pay understand great risk provides co...  \n",
       "18962  flawless credit 30 yr . chase credit card , ``...  \n",
       "\n",
       "[18963 rows x 3 columns]"
      ],
      "text/html": [
       "<div>\n",
       "<style scoped>\n",
       "    .dataframe tbody tr th:only-of-type {\n",
       "        vertical-align: middle;\n",
       "    }\n",
       "\n",
       "    .dataframe tbody tr th {\n",
       "        vertical-align: top;\n",
       "    }\n",
       "\n",
       "    .dataframe thead th {\n",
       "        text-align: right;\n",
       "    }\n",
       "</style>\n",
       "<table border=\"1\" class=\"dataframe\">\n",
       "  <thead>\n",
       "    <tr style=\"text-align: right;\">\n",
       "      <th></th>\n",
       "      <th>complaint_what_happened</th>\n",
       "      <th>ticket_classification</th>\n",
       "      <th>clean_complaint</th>\n",
       "    </tr>\n",
       "  </thead>\n",
       "  <tbody>\n",
       "    <tr>\n",
       "      <th>0</th>\n",
       "      <td>Good morning my name is XXXX XXXX and I apprec...</td>\n",
       "      <td>Debt collection + Credit card debt</td>\n",
       "      <td>good morning name appreciate could help put st...</td>\n",
       "    </tr>\n",
       "    <tr>\n",
       "      <th>1</th>\n",
       "      <td>I upgraded my XXXX XXXX card in XX/XX/2018 and...</td>\n",
       "      <td>Credit card or prepaid card + General-purpose ...</td>\n",
       "      <td>upgraded card //2018 told agent upgrade annive...</td>\n",
       "    </tr>\n",
       "    <tr>\n",
       "      <th>2</th>\n",
       "      <td>Chase Card was reported on XX/XX/2019. However...</td>\n",
       "      <td>Credit reporting, credit repair services, or o...</td>\n",
       "      <td>chase card reported //2019 . however , fraudul...</td>\n",
       "    </tr>\n",
       "    <tr>\n",
       "      <th>3</th>\n",
       "      <td>On XX/XX/2018, while trying to book a XXXX  XX...</td>\n",
       "      <td>Credit reporting, credit repair services, or o...</td>\n",
       "      <td>//2018 , trying book ticket , came across offe...</td>\n",
       "    </tr>\n",
       "    <tr>\n",
       "      <th>4</th>\n",
       "      <td>my grand son give me check for {$1600.00} i de...</td>\n",
       "      <td>Checking or savings account + Checking account</td>\n",
       "      <td>grand son give check { $ 1600.00 } deposit cha...</td>\n",
       "    </tr>\n",
       "    <tr>\n",
       "      <th>...</th>\n",
       "      <td>...</td>\n",
       "      <td>...</td>\n",
       "      <td>...</td>\n",
       "    </tr>\n",
       "    <tr>\n",
       "      <th>18958</th>\n",
       "      <td>My husband passed away. Chase bank put check o...</td>\n",
       "      <td>Checking or savings account + Checking account</td>\n",
       "      <td>husband passed away . chase bank put check hol...</td>\n",
       "    </tr>\n",
       "    <tr>\n",
       "      <th>18959</th>\n",
       "      <td>After being a Chase Card customer for well ove...</td>\n",
       "      <td>Credit card or prepaid card + General-purpose ...</td>\n",
       "      <td>chase card customer well decade , offered mult...</td>\n",
       "    </tr>\n",
       "    <tr>\n",
       "      <th>18960</th>\n",
       "      <td>On Wednesday, XX/XX/XXXX I called Chas, my XXX...</td>\n",
       "      <td>Credit card or prepaid card + General-purpose ...</td>\n",
       "      <td>wednesday , // called chas , visa credit card ...</td>\n",
       "    </tr>\n",
       "    <tr>\n",
       "      <th>18961</th>\n",
       "      <td>I am not familiar with XXXX pay and did not un...</td>\n",
       "      <td>Checking or savings account + Checking account</td>\n",
       "      <td>familiar pay understand great risk provides co...</td>\n",
       "    </tr>\n",
       "    <tr>\n",
       "      <th>18962</th>\n",
       "      <td>I have had flawless credit for 30 yrs. I've ha...</td>\n",
       "      <td>Credit card or prepaid card + General-purpose ...</td>\n",
       "      <td>flawless credit 30 yr . chase credit card , ``...</td>\n",
       "    </tr>\n",
       "  </tbody>\n",
       "</table>\n",
       "<p>18963 rows × 3 columns</p>\n",
       "</div>"
      ]
     },
     "execution_count": 69,
     "metadata": {},
     "output_type": "execute_result"
    }
   ],
   "execution_count": 69
  },
  {
   "metadata": {},
   "cell_type": "markdown",
   "source": "Seleccionamos únicamente las columnas necesarias para el modelado",
   "id": "cd0c7670dcc9a39c"
  },
  {
   "metadata": {
    "ExecuteTime": {
     "end_time": "2024-11-20T22:39:33.749270Z",
     "start_time": "2024-11-20T22:39:33.741378Z"
    }
   },
   "cell_type": "code",
   "source": [
    "df_processed_clean = df_clean[['clean_complaint', 'ticket_classification']]\n",
    "df_processed_clean"
   ],
   "id": "46fa72181328bf58",
   "outputs": [
    {
     "data": {
      "text/plain": [
       "                                         clean_complaint  \\\n",
       "0      good morning name appreciate could help put st...   \n",
       "1      upgraded card //2018 told agent upgrade annive...   \n",
       "2      chase card reported //2019 . however , fraudul...   \n",
       "3      //2018 , trying book ticket , came across offe...   \n",
       "4      grand son give check { $ 1600.00 } deposit cha...   \n",
       "...                                                  ...   \n",
       "18958  husband passed away . chase bank put check hol...   \n",
       "18959  chase card customer well decade , offered mult...   \n",
       "18960  wednesday , // called chas , visa credit card ...   \n",
       "18961  familiar pay understand great risk provides co...   \n",
       "18962  flawless credit 30 yr . chase credit card , ``...   \n",
       "\n",
       "                                   ticket_classification  \n",
       "0                     Debt collection + Credit card debt  \n",
       "1      Credit card or prepaid card + General-purpose ...  \n",
       "2      Credit reporting, credit repair services, or o...  \n",
       "3      Credit reporting, credit repair services, or o...  \n",
       "4         Checking or savings account + Checking account  \n",
       "...                                                  ...  \n",
       "18958     Checking or savings account + Checking account  \n",
       "18959  Credit card or prepaid card + General-purpose ...  \n",
       "18960  Credit card or prepaid card + General-purpose ...  \n",
       "18961     Checking or savings account + Checking account  \n",
       "18962  Credit card or prepaid card + General-purpose ...  \n",
       "\n",
       "[18963 rows x 2 columns]"
      ],
      "text/html": [
       "<div>\n",
       "<style scoped>\n",
       "    .dataframe tbody tr th:only-of-type {\n",
       "        vertical-align: middle;\n",
       "    }\n",
       "\n",
       "    .dataframe tbody tr th {\n",
       "        vertical-align: top;\n",
       "    }\n",
       "\n",
       "    .dataframe thead th {\n",
       "        text-align: right;\n",
       "    }\n",
       "</style>\n",
       "<table border=\"1\" class=\"dataframe\">\n",
       "  <thead>\n",
       "    <tr style=\"text-align: right;\">\n",
       "      <th></th>\n",
       "      <th>clean_complaint</th>\n",
       "      <th>ticket_classification</th>\n",
       "    </tr>\n",
       "  </thead>\n",
       "  <tbody>\n",
       "    <tr>\n",
       "      <th>0</th>\n",
       "      <td>good morning name appreciate could help put st...</td>\n",
       "      <td>Debt collection + Credit card debt</td>\n",
       "    </tr>\n",
       "    <tr>\n",
       "      <th>1</th>\n",
       "      <td>upgraded card //2018 told agent upgrade annive...</td>\n",
       "      <td>Credit card or prepaid card + General-purpose ...</td>\n",
       "    </tr>\n",
       "    <tr>\n",
       "      <th>2</th>\n",
       "      <td>chase card reported //2019 . however , fraudul...</td>\n",
       "      <td>Credit reporting, credit repair services, or o...</td>\n",
       "    </tr>\n",
       "    <tr>\n",
       "      <th>3</th>\n",
       "      <td>//2018 , trying book ticket , came across offe...</td>\n",
       "      <td>Credit reporting, credit repair services, or o...</td>\n",
       "    </tr>\n",
       "    <tr>\n",
       "      <th>4</th>\n",
       "      <td>grand son give check { $ 1600.00 } deposit cha...</td>\n",
       "      <td>Checking or savings account + Checking account</td>\n",
       "    </tr>\n",
       "    <tr>\n",
       "      <th>...</th>\n",
       "      <td>...</td>\n",
       "      <td>...</td>\n",
       "    </tr>\n",
       "    <tr>\n",
       "      <th>18958</th>\n",
       "      <td>husband passed away . chase bank put check hol...</td>\n",
       "      <td>Checking or savings account + Checking account</td>\n",
       "    </tr>\n",
       "    <tr>\n",
       "      <th>18959</th>\n",
       "      <td>chase card customer well decade , offered mult...</td>\n",
       "      <td>Credit card or prepaid card + General-purpose ...</td>\n",
       "    </tr>\n",
       "    <tr>\n",
       "      <th>18960</th>\n",
       "      <td>wednesday , // called chas , visa credit card ...</td>\n",
       "      <td>Credit card or prepaid card + General-purpose ...</td>\n",
       "    </tr>\n",
       "    <tr>\n",
       "      <th>18961</th>\n",
       "      <td>familiar pay understand great risk provides co...</td>\n",
       "      <td>Checking or savings account + Checking account</td>\n",
       "    </tr>\n",
       "    <tr>\n",
       "      <th>18962</th>\n",
       "      <td>flawless credit 30 yr . chase credit card , ``...</td>\n",
       "      <td>Credit card or prepaid card + General-purpose ...</td>\n",
       "    </tr>\n",
       "  </tbody>\n",
       "</table>\n",
       "<p>18963 rows × 2 columns</p>\n",
       "</div>"
      ]
     },
     "execution_count": 71,
     "metadata": {},
     "output_type": "execute_result"
    }
   ],
   "execution_count": 71
  },
  {
   "metadata": {
    "ExecuteTime": {
     "end_time": "2024-11-20T23:29:39.528407Z",
     "start_time": "2024-11-20T23:29:39.502445Z"
    }
   },
   "cell_type": "code",
   "source": "df_processed_clean = df_processed_clean.rename(columns={'clean_complaint': 'complaint_what_happened'})",
   "id": "a61a39a5a04698b8",
   "outputs": [],
   "execution_count": 73
  },
  {
   "metadata": {},
   "cell_type": "markdown",
   "source": "Almacenamos los datos en un nuevo directorio que se llama processed_data",
   "id": "bc1deb43bad17e4"
  },
  {
   "metadata": {
    "ExecuteTime": {
     "end_time": "2024-11-20T23:29:44.006074Z",
     "start_time": "2024-11-20T23:29:43.786924Z"
    }
   },
   "cell_type": "code",
   "source": [
    "processed_data_dir = '../data/processed_data'\n",
    "os.makedirs(processed_data_dir, exist_ok=True)\n",
    "df_processed_clean.to_csv(os.path.join(processed_data_dir, 'processed_tickets.csv'), index=False)\n"
   ],
   "id": "eb8c52743e8e995a",
   "outputs": [],
   "execution_count": 74
  },
  {
   "metadata": {},
   "cell_type": "code",
   "outputs": [],
   "execution_count": null,
   "source": "",
   "id": "d5590d76487a26fd"
  },
  {
   "metadata": {},
   "cell_type": "code",
   "outputs": [],
   "execution_count": null,
   "source": "",
   "id": "40e588c344a64703"
  }
 ],
 "metadata": {
  "kernelspec": {
   "display_name": "Python 3",
   "language": "python",
   "name": "python3"
  },
  "language_info": {
   "codemirror_mode": {
    "name": "ipython",
    "version": 2
   },
   "file_extension": ".py",
   "mimetype": "text/x-python",
   "name": "python",
   "nbconvert_exporter": "python",
   "pygments_lexer": "ipython2",
   "version": "2.7.6"
  }
 },
 "nbformat": 4,
 "nbformat_minor": 5
}
