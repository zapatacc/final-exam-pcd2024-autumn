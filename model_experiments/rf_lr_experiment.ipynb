{
 "cells": [
  {
   "cell_type": "code",
   "execution_count": 22,
   "id": "d7cd5920-7823-4629-b83f-1df4d292a477",
   "metadata": {},
   "outputs": [],
   "source": [
    "from sklearn.model_selection import train_test_split, GridSearchCV\n",
    "import pandas as pd\n",
    "import matplotlib.pyplot as plt\n",
    "import seaborn as sns\n",
    "from sklearn.feature_extraction.text import TfidfVectorizer\n",
    "from sklearn.metrics import  root_mean_squared_error, classification_report, accuracy_score\n",
    "from sklearn.feature_extraction import  DictVectorizer\n",
    "from sklearn.linear_model import LogisticRegression\n",
    "from sklearn.ensemble import RandomForestClassifier\n",
    "from sklearn.metrics import mean_squared_error\n",
    "from hyperopt import fmin, tpe, hp, STATUS_OK, Trials\n",
    "import numpy as np\n",
    "import mlflow"
   ]
  },
  {
   "cell_type": "code",
   "execution_count": 15,
   "id": "de743191-b215-4f0c-ba6b-3f187037e8ee",
   "metadata": {},
   "outputs": [],
   "source": [
    "\n",
    "file_path = r'C:\\Users\\jplv0\\PycharmProjects\\final-exam-pcd2024-autumn\\cleaned_data\\cleaned_ticket_classification.csv'\n",
    "df = pd.read_csv(file_path)"
   ]
  },
  {
   "cell_type": "code",
   "execution_count": 16,
   "id": "acb0a8fd-b4c1-42e3-9e35-8f9f2ae3e8fa",
   "metadata": {},
   "outputs": [],
   "source": [
    "# train, test, split\n",
    "X = df['complaint_what_happened']\n",
    "y = df['ticket_classification']\n",
    "\n",
    "tfidf_vectorizer = TfidfVectorizer(stop_words='english', max_features=5000)\n",
    "X_tfidf = tfidf_vectorizer.fit_transform(X)\n",
    "\n",
    "X_train, X_test, y_train, y_test = train_test_split(X_tfidf, y, test_size=0.2, random_state=42)"
   ]
  },
  {
   "cell_type": "code",
   "execution_count": 6,
   "id": "e7fe6f91-e736-4319-bec1-09b8359c9b99",
   "metadata": {},
   "outputs": [
    {
     "data": {
      "text/html": [
       "<pre style=\"white-space:pre;overflow-x:auto;line-height:normal;font-family:Menlo,'DejaVu Sans Mono',consolas,'Courier New',monospace\">Accessing as juanplv04\n",
       "</pre>\n"
      ],
      "text/plain": [
       "Accessing as juanplv04\n"
      ]
     },
     "metadata": {},
     "output_type": "display_data"
    },
    {
     "data": {
      "text/html": [
       "<pre style=\"white-space:pre;overflow-x:auto;line-height:normal;font-family:Menlo,'DejaVu Sans Mono',consolas,'Courier New',monospace\">Initialized MLflow to track repo <span style=\"color: #008000; text-decoration-color: #008000\">\"zapatacc/final-exam-pcd2024-autumn\"</span>\n",
       "</pre>\n"
      ],
      "text/plain": [
       "Initialized MLflow to track repo \u001b[32m\"zapatacc/final-exam-pcd2024-autumn\"\u001b[0m\n"
      ]
     },
     "metadata": {},
     "output_type": "display_data"
    },
    {
     "data": {
      "text/html": [
       "<pre style=\"white-space:pre;overflow-x:auto;line-height:normal;font-family:Menlo,'DejaVu Sans Mono',consolas,'Courier New',monospace\">Repository zapatacc/final-exam-pcd2024-autumn initialized!\n",
       "</pre>\n"
      ],
      "text/plain": [
       "Repository zapatacc/final-exam-pcd2024-autumn initialized!\n"
      ]
     },
     "metadata": {},
     "output_type": "display_data"
    },
    {
     "data": {
      "text/plain": [
       "<Experiment: artifact_location='mlflow-artifacts:/6698e85967524b0a8c6fb9f009ae4810', creation_time=1732214488506, experiment_id='19', last_update_time=1732214488506, lifecycle_stage='active', name='juan-ley-random-forest', tags={}>"
      ]
     },
     "execution_count": 6,
     "metadata": {},
     "output_type": "execute_result"
    }
   ],
   "source": [
    "import dagshub\n",
    "import mlflow\n",
    "dagshub.init(repo_owner='zapatacc', repo_name='final-exam-pcd2024-autumn', mlflow=True)\n",
    "mlflow.set_experiment('juan-ley-random-forest')\n"
   ]
  },
  {
   "cell_type": "markdown",
   "id": "3a87b6ad-ddb3-4bef-9a8b-ea247c08e831",
   "metadata": {},
   "source": [
    "## Random Forest"
   ]
  },
  {
   "cell_type": "code",
   "execution_count": 17,
   "id": "780a5b65-3a4c-45f2-a072-01714f128da7",
   "metadata": {
    "scrolled": true
   },
   "outputs": [
    {
     "name": "stderr",
     "output_type": "stream",
     "text": [
      "2024/11/21 16:32:31 WARNING mlflow.utils.autologging_utils: MLflow sklearn autologging is known to be compatible with 0.24.1 <= scikit-learn <= 1.5.1, but the installed version is 1.5.2. If you encounter errors during autologging, try upgrading / downgrading scikit-learn to a compatible version, or try upgrading MLflow.\n"
     ]
    },
    {
     "name": "stdout",
     "output_type": "stream",
     "text": [
      "  0%|                                                                                                                                            | 0/10 [00:00<?, ?trial/s, best loss=?]"
     ]
    },
    {
     "name": "stderr",
     "output_type": "stream",
     "text": [
      "2024/11/21 16:32:32 WARNING mlflow.sklearn: Failed to log training dataset information to MLflow Tracking. Reason: 'Series' object has no attribute 'toarray'\n",
      "\n",
      "C:\\Users\\jplv0\\anaconda3\\lib\\site-packages\\sklearn\\metrics\\_classification.py:1531: UndefinedMetricWarning: Precision is ill-defined and being set to 0.0 in labels with no predicted samples. Use `zero_division` parameter to control this behavior.\n",
      "  _warn_prf(average, modifier, f\"{metric.capitalize()} is\", len(result))\n",
      "\n",
      "2024/11/21 16:33:24 WARNING mlflow.utils.autologging_utils: Encountered unexpected error during sklearn autologging: The following failures occurred while performing one or more logging operations: [MlflowException('Failed to perform one or more operations on the run with ID 798a4f1c812e4e69aa2da021ee850543. Failed operations: [RestException(\"INVALID_PARAMETER_VALUE: Response: {\\'error_code\\': \\'INVALID_PARAMETER_VALUE\\'}\")]')]\n",
      "\n",
      "2024/11/21 16:33:24 INFO mlflow.tracking._tracking_service.client: 🏃 View run defiant-shoat-869 at: https://dagshub.com/zapatacc/final-exam-pcd2024-autumn.mlflow/#/experiments/19/runs/798a4f1c812e4e69aa2da021ee850543.\n",
      "\n",
      "2024/11/21 16:33:24 INFO mlflow.tracking._tracking_service.client: 🧪 View experiment at: https://dagshub.com/zapatacc/final-exam-pcd2024-autumn.mlflow/#/experiments/19.\n",
      "\n"
     ]
    },
    {
     "name": "stdout",
     "output_type": "stream",
     "text": [
      " 10%|███████████▎                                                                                                     | 1/10 [00:53<07:57, 53.06s/trial, best loss: -0.5286053255997891]"
     ]
    },
    {
     "name": "stderr",
     "output_type": "stream",
     "text": [
      "2024/11/21 16:33:25 WARNING mlflow.sklearn: Failed to log training dataset information to MLflow Tracking. Reason: 'Series' object has no attribute 'toarray'\n",
      "\n",
      "C:\\Users\\jplv0\\anaconda3\\lib\\site-packages\\sklearn\\metrics\\_classification.py:1531: UndefinedMetricWarning: Precision is ill-defined and being set to 0.0 in labels with no predicted samples. Use `zero_division` parameter to control this behavior.\n",
      "  _warn_prf(average, modifier, f\"{metric.capitalize()} is\", len(result))\n",
      "\n",
      "2024/11/21 16:33:44 WARNING mlflow.utils.autologging_utils: Encountered unexpected error during sklearn autologging: The following failures occurred while performing one or more logging operations: [MlflowException('Failed to perform one or more operations on the run with ID 3af87ecacf504980ba4bd79da81d8ada. Failed operations: [RestException(\"INVALID_PARAMETER_VALUE: Response: {\\'error_code\\': \\'INVALID_PARAMETER_VALUE\\'}\")]')]\n",
      "\n",
      "2024/11/21 16:33:45 INFO mlflow.tracking._tracking_service.client: 🏃 View run capricious-smelt-738 at: https://dagshub.com/zapatacc/final-exam-pcd2024-autumn.mlflow/#/experiments/19/runs/3af87ecacf504980ba4bd79da81d8ada.\n",
      "\n",
      "2024/11/21 16:33:45 INFO mlflow.tracking._tracking_service.client: 🧪 View experiment at: https://dagshub.com/zapatacc/final-exam-pcd2024-autumn.mlflow/#/experiments/19.\n",
      "\n"
     ]
    },
    {
     "name": "stdout",
     "output_type": "stream",
     "text": [
      " 20%|██████████████████████▌                                                                                          | 2/10 [01:13<04:29, 33.74s/trial, best loss: -0.5286053255997891]"
     ]
    },
    {
     "name": "stderr",
     "output_type": "stream",
     "text": [
      "2024/11/21 16:33:45 WARNING mlflow.sklearn: Failed to log training dataset information to MLflow Tracking. Reason: 'Series' object has no attribute 'toarray'\n",
      "\n",
      "C:\\Users\\jplv0\\anaconda3\\lib\\site-packages\\sklearn\\metrics\\_classification.py:1531: UndefinedMetricWarning: Precision is ill-defined and being set to 0.0 in labels with no predicted samples. Use `zero_division` parameter to control this behavior.\n",
      "  _warn_prf(average, modifier, f\"{metric.capitalize()} is\", len(result))\n",
      "\n",
      "2024/11/21 16:34:19 WARNING mlflow.utils.autologging_utils: Encountered unexpected error during sklearn autologging: The following failures occurred while performing one or more logging operations: [MlflowException('Failed to perform one or more operations on the run with ID b98d0574fd974ca9a24cdd80ee21907c. Failed operations: [RestException(\"INVALID_PARAMETER_VALUE: Response: {\\'error_code\\': \\'INVALID_PARAMETER_VALUE\\'}\")]')]\n",
      "\n",
      "2024/11/21 16:34:19 INFO mlflow.tracking._tracking_service.client: 🏃 View run shivering-lynx-424 at: https://dagshub.com/zapatacc/final-exam-pcd2024-autumn.mlflow/#/experiments/19/runs/b98d0574fd974ca9a24cdd80ee21907c.\n",
      "\n",
      "2024/11/21 16:34:19 INFO mlflow.tracking._tracking_service.client: 🧪 View experiment at: https://dagshub.com/zapatacc/final-exam-pcd2024-autumn.mlflow/#/experiments/19.\n",
      "\n"
     ]
    },
    {
     "name": "stdout",
     "output_type": "stream",
     "text": [
      " 30%|█████████████████████████████████▉                                                                               | 3/10 [01:47<03:58, 34.13s/trial, best loss: -0.5286053255997891]"
     ]
    },
    {
     "name": "stderr",
     "output_type": "stream",
     "text": [
      "2024/11/21 16:34:20 WARNING mlflow.sklearn: Failed to log training dataset information to MLflow Tracking. Reason: 'Series' object has no attribute 'toarray'\n",
      "\n",
      "C:\\Users\\jplv0\\anaconda3\\lib\\site-packages\\sklearn\\metrics\\_classification.py:1531: UndefinedMetricWarning: Precision is ill-defined and being set to 0.0 in labels with no predicted samples. Use `zero_division` parameter to control this behavior.\n",
      "  _warn_prf(average, modifier, f\"{metric.capitalize()} is\", len(result))\n",
      "\n",
      "2024/11/21 16:35:11 WARNING mlflow.utils.autologging_utils: Encountered unexpected error during sklearn autologging: The following failures occurred while performing one or more logging operations: [MlflowException('Failed to perform one or more operations on the run with ID 4918d8b32e804d05a3c7bb6cc9f7a04e. Failed operations: [RestException(\"INVALID_PARAMETER_VALUE: Response: {\\'error_code\\': \\'INVALID_PARAMETER_VALUE\\'}\")]')]\n",
      "\n",
      "2024/11/21 16:35:11 INFO mlflow.tracking._tracking_service.client: 🏃 View run efficient-gnu-379 at: https://dagshub.com/zapatacc/final-exam-pcd2024-autumn.mlflow/#/experiments/19/runs/4918d8b32e804d05a3c7bb6cc9f7a04e.\n",
      "\n",
      "2024/11/21 16:35:11 INFO mlflow.tracking._tracking_service.client: 🧪 View experiment at: https://dagshub.com/zapatacc/final-exam-pcd2024-autumn.mlflow/#/experiments/19.\n",
      "\n"
     ]
    },
    {
     "name": "stdout",
     "output_type": "stream",
     "text": [
      " 40%|█████████████████████████████████████████████▏                                                                   | 4/10 [02:40<04:07, 41.27s/trial, best loss: -0.5286053255997891]"
     ]
    },
    {
     "name": "stderr",
     "output_type": "stream",
     "text": [
      "2024/11/21 16:35:13 WARNING mlflow.sklearn: Failed to log training dataset information to MLflow Tracking. Reason: 'Series' object has no attribute 'toarray'\n",
      "\n",
      "C:\\Users\\jplv0\\anaconda3\\lib\\site-packages\\sklearn\\metrics\\_classification.py:1531: UndefinedMetricWarning: Precision is ill-defined and being set to 0.0 in labels with no predicted samples. Use `zero_division` parameter to control this behavior.\n",
      "  _warn_prf(average, modifier, f\"{metric.capitalize()} is\", len(result))\n",
      "\n",
      "2024/11/21 16:35:57 WARNING mlflow.utils.autologging_utils: Encountered unexpected error during sklearn autologging: The following failures occurred while performing one or more logging operations: [MlflowException('Failed to perform one or more operations on the run with ID b3864f75c6a240c8a46732230d2c638e. Failed operations: [RestException(\"INVALID_PARAMETER_VALUE: Response: {\\'error_code\\': \\'INVALID_PARAMETER_VALUE\\'}\")]')]\n",
      "\n",
      "2024/11/21 16:35:58 INFO mlflow.tracking._tracking_service.client: 🏃 View run kindly-steed-923 at: https://dagshub.com/zapatacc/final-exam-pcd2024-autumn.mlflow/#/experiments/19/runs/b3864f75c6a240c8a46732230d2c638e.\n",
      "\n",
      "2024/11/21 16:35:58 INFO mlflow.tracking._tracking_service.client: 🧪 View experiment at: https://dagshub.com/zapatacc/final-exam-pcd2024-autumn.mlflow/#/experiments/19.\n",
      "\n"
     ]
    },
    {
     "name": "stdout",
     "output_type": "stream",
     "text": [
      " 50%|████████████████████████████████████████████████████████▌                                                        | 5/10 [03:26<03:35, 43.07s/trial, best loss: -0.5286053255997891]"
     ]
    },
    {
     "name": "stderr",
     "output_type": "stream",
     "text": [
      "2024/11/21 16:35:59 WARNING mlflow.sklearn: Failed to log training dataset information to MLflow Tracking. Reason: 'Series' object has no attribute 'toarray'\n",
      "\n",
      "C:\\Users\\jplv0\\anaconda3\\lib\\site-packages\\sklearn\\metrics\\_classification.py:1531: UndefinedMetricWarning: Precision is ill-defined and being set to 0.0 in labels with no predicted samples. Use `zero_division` parameter to control this behavior.\n",
      "  _warn_prf(average, modifier, f\"{metric.capitalize()} is\", len(result))\n",
      "\n",
      "2024/11/21 16:36:18 WARNING mlflow.utils.autologging_utils: Encountered unexpected error during sklearn autologging: The following failures occurred while performing one or more logging operations: [MlflowException('Failed to perform one or more operations on the run with ID 170b5d9cd67e4cb49b7503b4db5446c1. Failed operations: [RestException(\"INVALID_PARAMETER_VALUE: Response: {\\'error_code\\': \\'INVALID_PARAMETER_VALUE\\'}\")]')]\n",
      "\n",
      "2024/11/21 16:36:18 INFO mlflow.tracking._tracking_service.client: 🏃 View run gaudy-rat-896 at: https://dagshub.com/zapatacc/final-exam-pcd2024-autumn.mlflow/#/experiments/19/runs/170b5d9cd67e4cb49b7503b4db5446c1.\n",
      "\n",
      "2024/11/21 16:36:18 INFO mlflow.tracking._tracking_service.client: 🧪 View experiment at: https://dagshub.com/zapatacc/final-exam-pcd2024-autumn.mlflow/#/experiments/19.\n",
      "\n"
     ]
    },
    {
     "name": "stdout",
     "output_type": "stream",
     "text": [
      " 60%|███████████████████████████████████████████████████████████████████▊                                             | 6/10 [03:47<02:22, 35.50s/trial, best loss: -0.5286053255997891]"
     ]
    },
    {
     "name": "stderr",
     "output_type": "stream",
     "text": [
      "2024/11/21 16:36:19 WARNING mlflow.sklearn: Failed to log training dataset information to MLflow Tracking. Reason: 'Series' object has no attribute 'toarray'\n",
      "\n",
      "C:\\Users\\jplv0\\anaconda3\\lib\\site-packages\\sklearn\\metrics\\_classification.py:1531: UndefinedMetricWarning: Precision is ill-defined and being set to 0.0 in labels with no predicted samples. Use `zero_division` parameter to control this behavior.\n",
      "  _warn_prf(average, modifier, f\"{metric.capitalize()} is\", len(result))\n",
      "\n",
      "2024/11/21 16:37:05 WARNING mlflow.utils.autologging_utils: Encountered unexpected error during sklearn autologging: The following failures occurred while performing one or more logging operations: [MlflowException('Failed to perform one or more operations on the run with ID b0511efe5d5a46a1a57eee7c26f40159. Failed operations: [RestException(\"INVALID_PARAMETER_VALUE: Response: {\\'error_code\\': \\'INVALID_PARAMETER_VALUE\\'}\")]')]\n",
      "\n",
      "2024/11/21 16:37:06 INFO mlflow.tracking._tracking_service.client: 🏃 View run skittish-bee-46 at: https://dagshub.com/zapatacc/final-exam-pcd2024-autumn.mlflow/#/experiments/19/runs/b0511efe5d5a46a1a57eee7c26f40159.\n",
      "\n",
      "2024/11/21 16:37:06 INFO mlflow.tracking._tracking_service.client: 🧪 View experiment at: https://dagshub.com/zapatacc/final-exam-pcd2024-autumn.mlflow/#/experiments/19.\n",
      "\n"
     ]
    },
    {
     "name": "stdout",
     "output_type": "stream",
     "text": [
      " 70%|███████████████████████████████████████████████████████████████████████████████                                  | 7/10 [04:34<01:58, 39.42s/trial, best loss: -0.5286053255997891]"
     ]
    },
    {
     "name": "stderr",
     "output_type": "stream",
     "text": [
      "2024/11/21 16:37:07 WARNING mlflow.sklearn: Failed to log training dataset information to MLflow Tracking. Reason: 'Series' object has no attribute 'toarray'\n",
      "\n",
      "C:\\Users\\jplv0\\anaconda3\\lib\\site-packages\\sklearn\\metrics\\_classification.py:1531: UndefinedMetricWarning: Precision is ill-defined and being set to 0.0 in labels with no predicted samples. Use `zero_division` parameter to control this behavior.\n",
      "  _warn_prf(average, modifier, f\"{metric.capitalize()} is\", len(result))\n",
      "\n",
      "2024/11/21 16:37:47 WARNING mlflow.utils.autologging_utils: Encountered unexpected error during sklearn autologging: The following failures occurred while performing one or more logging operations: [MlflowException('Failed to perform one or more operations on the run with ID c4de6a508aea4c29b8a3bed701e6b4b5. Failed operations: [RestException(\"INVALID_PARAMETER_VALUE: Response: {\\'error_code\\': \\'INVALID_PARAMETER_VALUE\\'}\")]')]\n",
      "\n",
      "2024/11/21 16:37:48 INFO mlflow.tracking._tracking_service.client: 🏃 View run persistent-cub-95 at: https://dagshub.com/zapatacc/final-exam-pcd2024-autumn.mlflow/#/experiments/19/runs/c4de6a508aea4c29b8a3bed701e6b4b5.\n",
      "\n",
      "2024/11/21 16:37:48 INFO mlflow.tracking._tracking_service.client: 🧪 View experiment at: https://dagshub.com/zapatacc/final-exam-pcd2024-autumn.mlflow/#/experiments/19.\n",
      "\n"
     ]
    },
    {
     "name": "stdout",
     "output_type": "stream",
     "text": [
      " 80%|██████████████████████████████████████████████████████████████████████████████████████████▍                      | 8/10 [05:16<01:20, 40.32s/trial, best loss: -0.5286053255997891]"
     ]
    },
    {
     "name": "stderr",
     "output_type": "stream",
     "text": [
      "2024/11/21 16:37:49 WARNING mlflow.sklearn: Failed to log training dataset information to MLflow Tracking. Reason: 'Series' object has no attribute 'toarray'\n",
      "\n",
      "C:\\Users\\jplv0\\anaconda3\\lib\\site-packages\\sklearn\\metrics\\_classification.py:1531: UndefinedMetricWarning: Precision is ill-defined and being set to 0.0 in labels with no predicted samples. Use `zero_division` parameter to control this behavior.\n",
      "  _warn_prf(average, modifier, f\"{metric.capitalize()} is\", len(result))\n",
      "\n",
      "2024/11/21 16:38:33 WARNING mlflow.utils.autologging_utils: Encountered unexpected error during sklearn autologging: The following failures occurred while performing one or more logging operations: [MlflowException('Failed to perform one or more operations on the run with ID 1804ec132e724bb7ae0d28f517bb5893. Failed operations: [RestException(\"INVALID_PARAMETER_VALUE: Response: {\\'error_code\\': \\'INVALID_PARAMETER_VALUE\\'}\")]')]\n",
      "\n",
      "2024/11/21 16:38:33 INFO mlflow.tracking._tracking_service.client: 🏃 View run bustling-cod-350 at: https://dagshub.com/zapatacc/final-exam-pcd2024-autumn.mlflow/#/experiments/19/runs/1804ec132e724bb7ae0d28f517bb5893.\n",
      "\n",
      "2024/11/21 16:38:33 INFO mlflow.tracking._tracking_service.client: 🧪 View experiment at: https://dagshub.com/zapatacc/final-exam-pcd2024-autumn.mlflow/#/experiments/19.\n",
      "\n"
     ]
    },
    {
     "name": "stdout",
     "output_type": "stream",
     "text": [
      " 90%|█████████████████████████████████████████████████████████████████████████████████████████████████████▋           | 9/10 [06:02<00:41, 41.88s/trial, best loss: -0.5286053255997891]"
     ]
    },
    {
     "name": "stderr",
     "output_type": "stream",
     "text": [
      "2024/11/21 16:38:34 WARNING mlflow.sklearn: Failed to log training dataset information to MLflow Tracking. Reason: 'Series' object has no attribute 'toarray'\n",
      "\n",
      "C:\\Users\\jplv0\\anaconda3\\lib\\site-packages\\sklearn\\metrics\\_classification.py:1531: UndefinedMetricWarning: Precision is ill-defined and being set to 0.0 in labels with no predicted samples. Use `zero_division` parameter to control this behavior.\n",
      "  _warn_prf(average, modifier, f\"{metric.capitalize()} is\", len(result))\n",
      "\n",
      "2024/11/21 16:39:30 WARNING mlflow.utils.autologging_utils: Encountered unexpected error during sklearn autologging: The following failures occurred while performing one or more logging operations: [MlflowException('Failed to perform one or more operations on the run with ID 29cbc3c138394dd5a2bb7355444e2eea. Failed operations: [RestException(\"INVALID_PARAMETER_VALUE: Response: {\\'error_code\\': \\'INVALID_PARAMETER_VALUE\\'}\")]')]\n",
      "\n",
      "2024/11/21 16:39:31 INFO mlflow.tracking._tracking_service.client: 🏃 View run auspicious-grouse-18 at: https://dagshub.com/zapatacc/final-exam-pcd2024-autumn.mlflow/#/experiments/19/runs/29cbc3c138394dd5a2bb7355444e2eea.\n",
      "\n",
      "2024/11/21 16:39:31 INFO mlflow.tracking._tracking_service.client: 🧪 View experiment at: https://dagshub.com/zapatacc/final-exam-pcd2024-autumn.mlflow/#/experiments/19.\n",
      "\n"
     ]
    },
    {
     "name": "stdout",
     "output_type": "stream",
     "text": [
      "100%|████████████████████████████████████████████████████████████████████████████████████████████████████████████████| 10/10 [06:59<00:00, 41.99s/trial, best loss: -0.5286053255997891]\n"
     ]
    },
    {
     "name": "stderr",
     "output_type": "stream",
     "text": [
      "2024/11/21 16:39:32 INFO mlflow.tracking._tracking_service.client: 🏃 View run Parent Random Forest at: https://dagshub.com/zapatacc/final-exam-pcd2024-autumn.mlflow/#/experiments/19/runs/6f77d21c1b0d47c69737f72557ac1962.\n",
      "2024/11/21 16:39:32 INFO mlflow.tracking._tracking_service.client: 🧪 View experiment at: https://dagshub.com/zapatacc/final-exam-pcd2024-autumn.mlflow/#/experiments/19.\n",
      "2024/11/21 16:39:32 INFO mlflow.utils.autologging_utils: Created MLflow autologging run with ID '6233c1f2ae8f4a90a9770deef6511f1b', which will track hyperparameters, performance metrics, model artifacts, and lineage information for the current sklearn workflow\n",
      "2024/11/21 16:39:32 WARNING mlflow.sklearn: Failed to log training dataset information to MLflow Tracking. Reason: 'Series' object has no attribute 'toarray'\n",
      "C:\\Users\\jplv0\\anaconda3\\lib\\site-packages\\sklearn\\metrics\\_classification.py:1531: UndefinedMetricWarning: Precision is ill-defined and being set to 0.0 in labels with no predicted samples. Use `zero_division` parameter to control this behavior.\n",
      "  _warn_prf(average, modifier, f\"{metric.capitalize()} is\", len(result))\n",
      "2024/11/21 16:40:21 INFO mlflow.tracking._tracking_service.client: 🏃 View run masked-wren-564 at: https://dagshub.com/zapatacc/final-exam-pcd2024-autumn.mlflow/#/experiments/19/runs/6233c1f2ae8f4a90a9770deef6511f1b.\n",
      "2024/11/21 16:40:21 INFO mlflow.tracking._tracking_service.client: 🧪 View experiment at: https://dagshub.com/zapatacc/final-exam-pcd2024-autumn.mlflow/#/experiments/19.\n"
     ]
    },
    {
     "name": "stdout",
     "output_type": "stream",
     "text": [
      "Accuracy: 0.53\n",
      "Classification Report:\n",
      "                                                                                                               precision    recall  f1-score   support\n",
      "\n",
      "                                                        Bank account or service + (CD) Certificate of deposit       0.00      0.00      0.00         3\n",
      "                                                 Bank account or service + Cashing a check without an account       0.00      0.00      0.00         7\n",
      "                                                                   Bank account or service + Checking account       1.00      0.00      0.01       217\n",
      "                                                         Bank account or service + Other bank product/service       0.00      0.00      0.00        55\n",
      "                                                                    Bank account or service + Savings account       0.00      0.00      0.00        17\n",
      "                                                    Checking or savings account + CD (Certificate of Deposit)       0.00      0.00      0.00         5\n",
      "                                                               Checking or savings account + Checking account       0.51      0.86      0.64       788\n",
      "                                               Checking or savings account + Other banking product or service       0.00      0.00      0.00        36\n",
      "                                                                Checking or savings account + Savings account       0.00      0.00      0.00        35\n",
      "                                                                             Consumer Loan + Installment loan       0.00      0.00      0.00         8\n",
      "                                                                                    Consumer Loan + Pawn loan       0.00      0.00      0.00         1\n",
      "                                                                                   Consumer Loan + Title loan       0.00      0.00      0.00         1\n",
      "                                                                                Consumer Loan + Vehicle lease       0.00      0.00      0.00         7\n",
      "                                                                                 Consumer Loan + Vehicle loan       0.00      0.00      0.00        32\n",
      "                                     Credit card or prepaid card + General-purpose credit card or charge card       0.56      0.93      0.70       969\n",
      "                                                   Credit card or prepaid card + General-purpose prepaid card       0.00      0.00      0.00        12\n",
      "                                                                      Credit card or prepaid card + Gift card       0.00      0.00      0.00         2\n",
      "                                                        Credit card or prepaid card + Government benefit card       0.00      0.00      0.00         3\n",
      "                                                                   Credit card or prepaid card + Payroll card       0.00      0.00      0.00         1\n",
      "                                                              Credit card or prepaid card + Store credit card       0.00      0.00      0.00        14\n",
      "        Credit reporting, credit repair services, or other personal consumer reports + Credit repair services       0.00      0.00      0.00         1\n",
      "              Credit reporting, credit repair services, or other personal consumer reports + Credit reporting       0.60      0.64      0.62       389\n",
      "Credit reporting, credit repair services, or other personal consumer reports + Other personal consumer report       0.00      0.00      0.00        11\n",
      "                                                                                       Debt collection + Auto       0.00      0.00      0.00         1\n",
      "                                                                                Debt collection + Credit card       0.00      0.00      0.00        46\n",
      "                                                                           Debt collection + Credit card debt       1.00      0.03      0.06        92\n",
      "                                                                              Debt collection + I do not know       1.00      0.06      0.11        17\n",
      "                                                                                   Debt collection + Mortgage       0.00      0.00      0.00         9\n",
      "                                                                              Debt collection + Mortgage debt       1.00      0.06      0.11        18\n",
      "                                                                   Debt collection + Non-federal student loan       0.00      0.00      0.00         1\n",
      "                                                      Debt collection + Other (i.e. phone, health club, etc.)       0.00      0.00      0.00         4\n",
      "                                                                                 Debt collection + Other debt       0.00      0.00      0.00         6\n",
      "                                                                                Debt collection + Payday loan       0.00      0.00      0.00         1\n",
      "                                   Money transfer, virtual currency, or money service + Check cashing service       0.00      0.00      0.00         2\n",
      "                            Money transfer, virtual currency, or money service + Domestic (US) money transfer       0.00      0.00      0.00        61\n",
      "                               Money transfer, virtual currency, or money service + Foreign currency exchange       0.00      0.00      0.00         4\n",
      "                            Money transfer, virtual currency, or money service + International money transfer       0.00      0.00      0.00        29\n",
      "                                Money transfer, virtual currency, or money service + Mobile or digital wallet       0.00      0.00      0.00        39\n",
      "                                             Money transfer, virtual currency, or money service + Money order       0.00      0.00      0.00         4\n",
      "                     Money transfer, virtual currency, or money service + Traveler's check or cashier's check       0.00      0.00      0.00         8\n",
      "                                        Money transfer, virtual currency, or money service + Virtual currency       0.00      0.00      0.00         8\n",
      "                                                               Money transfers + Domestic (US) money transfer       0.00      0.00      0.00         4\n",
      "                                                               Money transfers + International money transfer       0.00      0.00      0.00         5\n",
      "                                                            Mortgage + Conventional adjustable mortgage (ARM)       1.00      0.02      0.03        60\n",
      "                                                                       Mortgage + Conventional fixed mortgage       0.34      0.26      0.29       171\n",
      "                                                                        Mortgage + Conventional home mortgage       0.38      0.45      0.41       235\n",
      "                                                                                      Mortgage + FHA mortgage       0.48      0.16      0.24        87\n",
      "                                                                Mortgage + Home equity loan or line of credit       0.00      0.00      0.00        27\n",
      "                                                        Mortgage + Home equity loan or line of credit (HELOC)       0.00      0.00      0.00        30\n",
      "                                                                                    Mortgage + Other mortgage       0.00      0.00      0.00        38\n",
      "                                                                            Mortgage + Other type of mortgage       1.00      0.05      0.10        20\n",
      "                                                                                  Mortgage + Reverse mortgage       0.00      0.00      0.00         2\n",
      "                                                                                       Mortgage + VA mortgage       0.00      0.00      0.00        13\n",
      "                                                                        Other financial service + Money order       0.00      0.00      0.00         1\n",
      "                                                        Other financial service + Traveler’s/Cashier’s checks       0.00      0.00      0.00         1\n",
      "                                                 Payday loan, title loan, or personal loan + Installment loan       0.00      0.00      0.00         6\n",
      "                                          Payday loan, title loan, or personal loan + Personal line of credit       0.00      0.00      0.00         6\n",
      "                                                       Payday loan, title loan, or personal loan + Title loan       0.00      0.00      0.00         2\n",
      "                                                               Prepaid card + Government benefit payment card       0.00      0.00      0.00         1\n",
      "                                                                Student loan + Federal student loan servicing       0.00      0.00      0.00         2\n",
      "                                                                      Student loan + Non-federal student loan       1.00      0.17      0.29        29\n",
      "                                                                          Student loan + Private student loan       0.00      0.00      0.00         9\n",
      "                                                                                Vehicle loan or lease + Lease       0.00      0.00      0.00        22\n",
      "                                                                                 Vehicle loan or lease + Loan       0.71      0.09      0.15        58\n",
      "\n",
      "                                                                                                     accuracy                           0.53      3793\n",
      "                                                                                                    macro avg       0.17      0.06      0.06      3793\n",
      "                                                                                                 weighted avg       0.49      0.53      0.43      3793\n",
      "\n"
     ]
    },
    {
     "name": "stderr",
     "output_type": "stream",
     "text": [
      "C:\\Users\\jplv0\\anaconda3\\lib\\site-packages\\sklearn\\metrics\\_classification.py:1531: UndefinedMetricWarning: Precision is ill-defined and being set to 0.0 in labels with no predicted samples. Use `zero_division` parameter to control this behavior.\n",
      "  _warn_prf(average, modifier, f\"{metric.capitalize()} is\", len(result))\n",
      "C:\\Users\\jplv0\\anaconda3\\lib\\site-packages\\sklearn\\metrics\\_classification.py:1531: UndefinedMetricWarning: Precision is ill-defined and being set to 0.0 in labels with no predicted samples. Use `zero_division` parameter to control this behavior.\n",
      "  _warn_prf(average, modifier, f\"{metric.capitalize()} is\", len(result))\n",
      "C:\\Users\\jplv0\\anaconda3\\lib\\site-packages\\sklearn\\metrics\\_classification.py:1531: UndefinedMetricWarning: Precision is ill-defined and being set to 0.0 in labels with no predicted samples. Use `zero_division` parameter to control this behavior.\n",
      "  _warn_prf(average, modifier, f\"{metric.capitalize()} is\", len(result))\n"
     ]
    }
   ],
   "source": [
    "mlflow.sklearn.autolog()\n",
    "\n",
    "# Define objective function for Random Forest model\n",
    "def objective_rf(params):\n",
    "    with mlflow.start_run(nested=True):\n",
    "        # Set model tag\n",
    "        mlflow.set_tag(\"model_family\", \"random_forest\")\n",
    "        \n",
    "        # Log parameters\n",
    "        mlflow.log_params(params)\n",
    "        \n",
    "        # Create the Random Forest model with given parameters\n",
    "        rf_model = RandomForestClassifier(\n",
    "            n_estimators=int(params['n_estimators']),\n",
    "            max_depth=int(params['max_depth']),\n",
    "            min_samples_split=int(params['min_samples_split']),\n",
    "            min_samples_leaf=int(params['min_samples_leaf']),\n",
    "            random_state=42\n",
    "        )\n",
    "        \n",
    "        # Fit the model\n",
    "        rf_model.fit(X_train, y_train)\n",
    "        \n",
    "        # Make predictions\n",
    "        y_pred = rf_model.predict(X_test)\n",
    "        \n",
    "        # Calculate accuracy\n",
    "        accuracy = accuracy_score(y_test, y_pred)\n",
    "        \n",
    "        # Log accuracy metric\n",
    "        mlflow.log_metric(\"accuracy\", accuracy)\n",
    "        \n",
    "        return {'loss': -accuracy, 'status': STATUS_OK}\n",
    "\n",
    "# Define search space for RandomForestClassifier\n",
    "search_space_rf = {\n",
    "    'n_estimators': hp.quniform('n_estimators', 50, 300, 1),\n",
    "    'max_depth': hp.quniform('max_depth', 5, 30, 1),\n",
    "    'min_samples_split': hp.quniform('min_samples_split', 2, 10, 1),\n",
    "    'min_samples_leaf': hp.quniform('min_samples_leaf', 1, 5, 1),\n",
    "}\n",
    "\n",
    "# Run hyperparameter optimization\n",
    "with mlflow.start_run(run_name=\"Parent Random Forest\", nested=True):\n",
    "    best_params_rf = fmin(\n",
    "        fn=objective_rf,\n",
    "        space=search_space_rf,\n",
    "        algo=tpe.suggest,\n",
    "        max_evals=10,\n",
    "        trials=Trials()\n",
    "    )\n",
    "    \n",
    "    # Log best parameters\n",
    "    mlflow.log_params(best_params_rf)\n",
    "\n",
    "# Evaluate the best model\n",
    "y_pred = RandomForestClassifier(\n",
    "    n_estimators=int(best_params_rf['n_estimators']),\n",
    "    max_depth=int(best_params_rf['max_depth']),\n",
    "    min_samples_split=int(best_params_rf['min_samples_split']),\n",
    "    min_samples_leaf=int(best_params_rf['min_samples_leaf']),\n",
    "    random_state=42\n",
    ").fit(X_train, y_train).predict(X_test)\n",
    "\n",
    "accuracy = accuracy_score(y_test, y_pred)\n",
    "report = classification_report(y_test, y_pred)\n",
    "\n",
    "print(f'Accuracy: {accuracy:.2f}')\n",
    "print('Classification Report:')\n",
    "print(report)\n"
   ]
  },
  {
   "cell_type": "code",
   "execution_count": 15,
   "id": "18c97512-d63e-4f4b-bc9f-0f1994502a29",
   "metadata": {},
   "outputs": [
    {
     "name": "stdin",
     "output_type": "stream",
     "text": [
      "Ingrese el run_id 060fd68f8e16463fa7b2341d098d974c\n"
     ]
    },
    {
     "name": "stderr",
     "output_type": "stream",
     "text": [
      "Successfully registered model 'juan-ley-random-forest-model'.\n",
      "2024/11/21 14:46:37 INFO mlflow.store.model_registry.abstract_store: Waiting up to 300 seconds for model version to finish creation. Model name: juan-ley-random-forest-model, version 1\n",
      "Created version '1' of model 'juan-ley-random-forest-model'.\n"
     ]
    }
   ],
   "source": [
    "run_id = input(\"Ingrese el run_id\")\n",
    "run_uri = f\"runs:/{run_id}/model\"\n",
    "\n",
    "result = mlflow.register_model(\n",
    "    model_uri=run_uri,\n",
    "    name=\"juan-ley-random-forest-model\"\n",
    ")"
   ]
  },
  {
   "cell_type": "code",
   "execution_count": 10,
   "id": "5494a7d1-0ac3-4db6-b17f-a222714f9abd",
   "metadata": {},
   "outputs": [],
   "source": [
    "MLFLOW_TRACKING_URI = mlflow.get_tracking_uri()\n"
   ]
  },
  {
   "cell_type": "code",
   "execution_count": 11,
   "id": "ae643e90-37e0-4c20-93c2-ba7a81dca6d5",
   "metadata": {},
   "outputs": [
    {
     "data": {
      "text/plain": [
       "<ModelVersion: aliases=['champion'], creation_timestamp=1732221997686, current_stage='None', description='The model version 1 was transitioned to champion on 2024-11-21 16:14:07.478835', last_updated_timestamp=1732227247792, name='juan-ley-random-forest-model', run_id='060fd68f8e16463fa7b2341d098d974c', run_link='', source='mlflow-artifacts:/6698e85967524b0a8c6fb9f009ae4810/060fd68f8e16463fa7b2341d098d974c/artifacts/model', status='READY', status_message='', tags={}, user_id='', version='1'>"
      ]
     },
     "execution_count": 11,
     "metadata": {},
     "output_type": "execute_result"
    }
   ],
   "source": [
    "from datetime import datetime\n",
    "from mlflow import MlflowClient\n",
    "\n",
    "\n",
    "client = MlflowClient(tracking_uri=MLFLOW_TRACKING_URI)\n",
    "client.update_registered_model(\n",
    "    name=\"juan-ley-random-forest-model\",\n",
    "    description=\"\",\n",
    ")\n",
    "new_alias = \"champion\"\n",
    "date = datetime.today()\n",
    "model_version = \"1\"\n",
    "\n",
    "# create \"champion\" alias for version 1 of model \n",
    "client.set_registered_model_alias(\n",
    "    name=\"juan-ley-random-forest-model\",\n",
    "    alias=new_alias,\n",
    "    version=model_version\n",
    ")\n",
    "\n",
    "client.update_model_version(\n",
    "    name=\"juan-ley-random-forest-model\",\n",
    "    version=model_version,\n",
    "    description=f\"The model version {model_version} was transitioned to {new_alias} on {date}\",\n",
    ")"
   ]
  },
  {
   "cell_type": "code",
   "execution_count": 18,
   "id": "a05df18e-c592-4a6c-86f9-abbe5adafee7",
   "metadata": {},
   "outputs": [
    {
     "data": {
      "text/plain": [
       "{'max_depth': 28.0,\n",
       " 'min_samples_leaf': 3.0,\n",
       " 'min_samples_split': 10.0,\n",
       " 'n_estimators': 132.0}"
      ]
     },
     "execution_count": 18,
     "metadata": {},
     "output_type": "execute_result"
    }
   ],
   "source": [
    "best_params_rf"
   ]
  },
  {
   "cell_type": "code",
   "execution_count": 20,
   "id": "5f4d1102-6340-449d-8133-faa8bf86bf95",
   "metadata": {},
   "outputs": [
    {
     "data": {
      "application/vnd.jupyter.widget-view+json": {
       "model_id": "f9be13d0655c44319fdb1329ba588c29",
       "version_major": 2,
       "version_minor": 0
      },
      "text/plain": [
       "Downloading artifacts:   0%|          | 0/5 [00:00<?, ?it/s]"
      ]
     },
     "metadata": {},
     "output_type": "display_data"
    },
    {
     "data": {
      "text/plain": [
       "array(['Checking or savings account + Checking account',\n",
       "       'Mortgage + Conventional home mortgage',\n",
       "       'Credit card or prepaid card + General-purpose credit card or charge card',\n",
       "       ..., 'Checking or savings account + Checking account',\n",
       "       'Checking or savings account + Checking account',\n",
       "       'Checking or savings account + Checking account'], dtype=object)"
      ]
     },
     "execution_count": 20,
     "metadata": {},
     "output_type": "execute_result"
    }
   ],
   "source": [
    "import mlflow.pyfunc\n",
    "\n",
    "model_name = \"juan-ley-random-forest-model\"\n",
    "alias = \"champion\"\n",
    "\n",
    "model_uri = f\"models:/{model_name}@{alias}\"\n",
    "\n",
    "champion_version = mlflow.pyfunc.load_model(\n",
    "    model_uri=model_uri\n",
    ")\n",
    "\n",
    "champion_version.predict(X_test)"
   ]
  },
  {
   "cell_type": "markdown",
   "id": "685491c5-9d7d-4802-b542-d8ec7c867a9d",
   "metadata": {},
   "source": [
    "## Logistic Regression"
   ]
  },
  {
   "cell_type": "code",
   "execution_count": 24,
   "id": "071c0f0d-f195-47b0-9da9-115a6f85ebab",
   "metadata": {},
   "outputs": [
    {
     "data": {
      "text/html": [
       "<pre style=\"white-space:pre;overflow-x:auto;line-height:normal;font-family:Menlo,'DejaVu Sans Mono',consolas,'Courier New',monospace\">Initialized MLflow to track repo <span style=\"color: #008000; text-decoration-color: #008000\">\"zapatacc/final-exam-pcd2024-autumn\"</span>\n",
       "</pre>\n"
      ],
      "text/plain": [
       "Initialized MLflow to track repo \u001b[32m\"zapatacc/final-exam-pcd2024-autumn\"\u001b[0m\n"
      ]
     },
     "metadata": {},
     "output_type": "display_data"
    },
    {
     "data": {
      "text/html": [
       "<pre style=\"white-space:pre;overflow-x:auto;line-height:normal;font-family:Menlo,'DejaVu Sans Mono',consolas,'Courier New',monospace\">Repository zapatacc/final-exam-pcd2024-autumn initialized!\n",
       "</pre>\n"
      ],
      "text/plain": [
       "Repository zapatacc/final-exam-pcd2024-autumn initialized!\n"
      ]
     },
     "metadata": {},
     "output_type": "display_data"
    },
    {
     "name": "stderr",
     "output_type": "stream",
     "text": [
      "2024/11/21 17:06:06 INFO mlflow.tracking.fluent: Experiment with name 'juan-ley-logistic-regression' does not exist. Creating a new experiment.\n"
     ]
    },
    {
     "data": {
      "text/plain": [
       "<Experiment: artifact_location='mlflow-artifacts:/2ba27dd603444cc7af16985d563b264d', creation_time=1732230366992, experiment_id='26', last_update_time=1732230366992, lifecycle_stage='active', name='juan-ley-logistic-regression', tags={}>"
      ]
     },
     "execution_count": 24,
     "metadata": {},
     "output_type": "execute_result"
    }
   ],
   "source": [
    "import dagshub\n",
    "import mlflow\n",
    "dagshub.init(repo_owner='zapatacc', repo_name='final-exam-pcd2024-autumn', mlflow=True)\n",
    "mlflow.set_experiment('juan-ley-logistic-regression')"
   ]
  },
  {
   "cell_type": "code",
   "execution_count": 25,
   "id": "09001865-190e-4b64-a37a-abd4eaa090fa",
   "metadata": {
    "scrolled": true
   },
   "outputs": [
    {
     "name": "stdout",
     "output_type": "stream",
     "text": [
      "  0%|                                                                                                                                            | 0/10 [00:00<?, ?trial/s, best loss=?]"
     ]
    },
    {
     "name": "stderr",
     "output_type": "stream",
     "text": [
      "2024/11/21 17:06:14 WARNING mlflow.sklearn: Failed to log training dataset information to MLflow Tracking. Reason: 'Series' object has no attribute 'toarray'\n",
      "\n",
      "C:\\Users\\jplv0\\anaconda3\\lib\\site-packages\\sklearn\\metrics\\_classification.py:1531: UndefinedMetricWarning: Precision is ill-defined and being set to 0.0 in labels with no predicted samples. Use `zero_division` parameter to control this behavior.\n",
      "  _warn_prf(average, modifier, f\"{metric.capitalize()} is\", len(result))\n",
      "\n",
      "2024/11/21 17:06:34 WARNING mlflow.utils.autologging_utils: Encountered unexpected error during sklearn autologging: The following failures occurred while performing one or more logging operations: [MlflowException('Failed to perform one or more operations on the run with ID 1a5d3c8a10f9498a9b8f28c0c59af1c8. Failed operations: [RestException(\"INVALID_PARAMETER_VALUE: Response: {\\'error_code\\': \\'INVALID_PARAMETER_VALUE\\'}\")]')]\n",
      "\n",
      "2024/11/21 17:06:34 INFO mlflow.tracking._tracking_service.client: 🏃 View run amusing-flea-473 at: https://dagshub.com/zapatacc/final-exam-pcd2024-autumn.mlflow/#/experiments/26/runs/1a5d3c8a10f9498a9b8f28c0c59af1c8.\n",
      "\n",
      "2024/11/21 17:06:34 INFO mlflow.tracking._tracking_service.client: 🧪 View experiment at: https://dagshub.com/zapatacc/final-exam-pcd2024-autumn.mlflow/#/experiments/26.\n",
      "\n"
     ]
    },
    {
     "name": "stdout",
     "output_type": "stream",
     "text": [
      " 10%|███████████▏                                                                                                    | 1/10 [00:21<03:10, 21.11s/trial, best loss: -0.40311099393619826]"
     ]
    },
    {
     "name": "stderr",
     "output_type": "stream",
     "text": [
      "2024/11/21 17:06:35 WARNING mlflow.sklearn: Failed to log training dataset information to MLflow Tracking. Reason: 'Series' object has no attribute 'toarray'\n",
      "\n",
      "C:\\Users\\jplv0\\anaconda3\\lib\\site-packages\\sklearn\\metrics\\_classification.py:1531: UndefinedMetricWarning: Precision is ill-defined and being set to 0.0 in labels with no predicted samples. Use `zero_division` parameter to control this behavior.\n",
      "  _warn_prf(average, modifier, f\"{metric.capitalize()} is\", len(result))\n",
      "\n",
      "2024/11/21 17:07:09 WARNING mlflow.utils.autologging_utils: Encountered unexpected error during sklearn autologging: The following failures occurred while performing one or more logging operations: [MlflowException('Failed to perform one or more operations on the run with ID 1ffa6b99ba8e4f67af84ad76461f2d74. Failed operations: [RestException(\"INVALID_PARAMETER_VALUE: Response: {\\'error_code\\': \\'INVALID_PARAMETER_VALUE\\'}\")]')]\n",
      "\n",
      "2024/11/21 17:07:10 INFO mlflow.tracking._tracking_service.client: 🏃 View run painted-kite-951 at: https://dagshub.com/zapatacc/final-exam-pcd2024-autumn.mlflow/#/experiments/26/runs/1ffa6b99ba8e4f67af84ad76461f2d74.\n",
      "\n",
      "2024/11/21 17:07:10 INFO mlflow.tracking._tracking_service.client: 🧪 View experiment at: https://dagshub.com/zapatacc/final-exam-pcd2024-autumn.mlflow/#/experiments/26.\n",
      "\n"
     ]
    },
    {
     "name": "stdout",
     "output_type": "stream",
     "text": [
      " 20%|██████████████████████▌                                                                                          | 2/10 [00:56<03:57, 29.67s/trial, best loss: -0.6016345900342737]"
     ]
    },
    {
     "name": "stderr",
     "output_type": "stream",
     "text": [
      "2024/11/21 17:07:10 WARNING mlflow.sklearn: Failed to log training dataset information to MLflow Tracking. Reason: 'Series' object has no attribute 'toarray'\n",
      "\n",
      "C:\\Users\\jplv0\\anaconda3\\lib\\site-packages\\sklearn\\metrics\\_classification.py:1531: UndefinedMetricWarning: Precision is ill-defined and being set to 0.0 in labels with no predicted samples. Use `zero_division` parameter to control this behavior.\n",
      "  _warn_prf(average, modifier, f\"{metric.capitalize()} is\", len(result))\n",
      "\n",
      "2024/11/21 17:07:48 WARNING mlflow.utils.autologging_utils: Encountered unexpected error during sklearn autologging: The following failures occurred while performing one or more logging operations: [MlflowException('Failed to perform one or more operations on the run with ID b63c8e14f77e4c67aca271649fe39a51. Failed operations: [RestException(\"INVALID_PARAMETER_VALUE: Response: {\\'error_code\\': \\'INVALID_PARAMETER_VALUE\\'}\")]')]\n",
      "\n",
      "2024/11/21 17:07:48 INFO mlflow.tracking._tracking_service.client: 🏃 View run treasured-carp-388 at: https://dagshub.com/zapatacc/final-exam-pcd2024-autumn.mlflow/#/experiments/26/runs/b63c8e14f77e4c67aca271649fe39a51.\n",
      "\n",
      "2024/11/21 17:07:48 INFO mlflow.tracking._tracking_service.client: 🧪 View experiment at: https://dagshub.com/zapatacc/final-exam-pcd2024-autumn.mlflow/#/experiments/26.\n",
      "\n"
     ]
    },
    {
     "name": "stdout",
     "output_type": "stream",
     "text": [
      " 30%|█████████████████████████████████▉                                                                               | 3/10 [01:35<03:55, 33.63s/trial, best loss: -0.6016345900342737]"
     ]
    },
    {
     "name": "stderr",
     "output_type": "stream",
     "text": [
      "2024/11/21 17:07:49 WARNING mlflow.sklearn: Failed to log training dataset information to MLflow Tracking. Reason: 'Series' object has no attribute 'toarray'\n",
      "\n",
      "C:\\Users\\jplv0\\anaconda3\\lib\\site-packages\\sklearn\\metrics\\_classification.py:1531: UndefinedMetricWarning: Precision is ill-defined and being set to 0.0 in labels with no predicted samples. Use `zero_division` parameter to control this behavior.\n",
      "  _warn_prf(average, modifier, f\"{metric.capitalize()} is\", len(result))\n",
      "\n",
      "2024/11/21 17:08:09 WARNING mlflow.utils.autologging_utils: Encountered unexpected error during sklearn autologging: The following failures occurred while performing one or more logging operations: [MlflowException('Failed to perform one or more operations on the run with ID 3e841a0ff0e7444589a6a970f911b5eb. Failed operations: [RestException(\"INVALID_PARAMETER_VALUE: Response: {\\'error_code\\': \\'INVALID_PARAMETER_VALUE\\'}\")]')]\n",
      "\n",
      "2024/11/21 17:08:10 INFO mlflow.tracking._tracking_service.client: 🏃 View run serious-turtle-925 at: https://dagshub.com/zapatacc/final-exam-pcd2024-autumn.mlflow/#/experiments/26/runs/3e841a0ff0e7444589a6a970f911b5eb.\n",
      "\n",
      "2024/11/21 17:08:10 INFO mlflow.tracking._tracking_service.client: 🧪 View experiment at: https://dagshub.com/zapatacc/final-exam-pcd2024-autumn.mlflow/#/experiments/26.\n",
      "\n"
     ]
    },
    {
     "name": "stdout",
     "output_type": "stream",
     "text": [
      " 40%|█████████████████████████████████████████████▏                                                                   | 4/10 [01:56<02:53, 28.97s/trial, best loss: -0.6016345900342737]"
     ]
    },
    {
     "name": "stderr",
     "output_type": "stream",
     "text": [
      "2024/11/21 17:08:10 WARNING mlflow.sklearn: Failed to log training dataset information to MLflow Tracking. Reason: 'Series' object has no attribute 'toarray'\n",
      "\n",
      "C:\\Users\\jplv0\\anaconda3\\lib\\site-packages\\sklearn\\metrics\\_classification.py:1531: UndefinedMetricWarning: Precision is ill-defined and being set to 0.0 in labels with no predicted samples. Use `zero_division` parameter to control this behavior.\n",
      "  _warn_prf(average, modifier, f\"{metric.capitalize()} is\", len(result))\n",
      "\n",
      "2024/11/21 17:08:31 WARNING mlflow.utils.autologging_utils: Encountered unexpected error during sklearn autologging: The following failures occurred while performing one or more logging operations: [MlflowException('Failed to perform one or more operations on the run with ID 51d67a6531184c8f81b10ba8b36ef0a8. Failed operations: [RestException(\"INVALID_PARAMETER_VALUE: Response: {\\'error_code\\': \\'INVALID_PARAMETER_VALUE\\'}\")]')]\n",
      "\n",
      "2024/11/21 17:08:31 INFO mlflow.tracking._tracking_service.client: 🏃 View run monumental-mare-796 at: https://dagshub.com/zapatacc/final-exam-pcd2024-autumn.mlflow/#/experiments/26/runs/51d67a6531184c8f81b10ba8b36ef0a8.\n",
      "\n",
      "2024/11/21 17:08:31 INFO mlflow.tracking._tracking_service.client: 🧪 View experiment at: https://dagshub.com/zapatacc/final-exam-pcd2024-autumn.mlflow/#/experiments/26.\n",
      "\n"
     ]
    },
    {
     "name": "stdout",
     "output_type": "stream",
     "text": [
      " 50%|████████████████████████████████████████████████████████▌                                                        | 5/10 [02:18<02:11, 26.25s/trial, best loss: -0.6016345900342737]"
     ]
    },
    {
     "name": "stderr",
     "output_type": "stream",
     "text": [
      "2024/11/21 17:08:32 WARNING mlflow.sklearn: Failed to log training dataset information to MLflow Tracking. Reason: 'Series' object has no attribute 'toarray'\n",
      "\n",
      "C:\\Users\\jplv0\\anaconda3\\lib\\site-packages\\sklearn\\metrics\\_classification.py:1531: UndefinedMetricWarning: Precision is ill-defined and being set to 0.0 in labels with no predicted samples. Use `zero_division` parameter to control this behavior.\n",
      "  _warn_prf(average, modifier, f\"{metric.capitalize()} is\", len(result))\n",
      "\n",
      "2024/11/21 17:08:54 WARNING mlflow.utils.autologging_utils: Encountered unexpected error during sklearn autologging: The following failures occurred while performing one or more logging operations: [MlflowException('Failed to perform one or more operations on the run with ID 5c0976d023704747a32e2415b81117b4. Failed operations: [RestException(\"INVALID_PARAMETER_VALUE: Response: {\\'error_code\\': \\'INVALID_PARAMETER_VALUE\\'}\")]')]\n",
      "\n",
      "2024/11/21 17:08:55 INFO mlflow.tracking._tracking_service.client: 🏃 View run stately-zebra-316 at: https://dagshub.com/zapatacc/final-exam-pcd2024-autumn.mlflow/#/experiments/26/runs/5c0976d023704747a32e2415b81117b4.\n",
      "\n",
      "2024/11/21 17:08:55 INFO mlflow.tracking._tracking_service.client: 🧪 View experiment at: https://dagshub.com/zapatacc/final-exam-pcd2024-autumn.mlflow/#/experiments/26.\n",
      "\n"
     ]
    },
    {
     "name": "stdout",
     "output_type": "stream",
     "text": [
      " 60%|███████████████████████████████████████████████████████████████████▊                                             | 6/10 [02:42<01:41, 25.39s/trial, best loss: -0.6016345900342737]"
     ]
    },
    {
     "name": "stderr",
     "output_type": "stream",
     "text": [
      "2024/11/21 17:08:56 WARNING mlflow.sklearn: Failed to log training dataset information to MLflow Tracking. Reason: 'Series' object has no attribute 'toarray'\n",
      "\n",
      "C:\\Users\\jplv0\\anaconda3\\lib\\site-packages\\sklearn\\metrics\\_classification.py:1531: UndefinedMetricWarning: Precision is ill-defined and being set to 0.0 in labels with no predicted samples. Use `zero_division` parameter to control this behavior.\n",
      "  _warn_prf(average, modifier, f\"{metric.capitalize()} is\", len(result))\n",
      "\n",
      "2024/11/21 17:09:23 WARNING mlflow.utils.autologging_utils: Encountered unexpected error during sklearn autologging: The following failures occurred while performing one or more logging operations: [MlflowException('Failed to perform one or more operations on the run with ID e21447d6a5db4105a6c34811943b2474. Failed operations: [RestException(\"INVALID_PARAMETER_VALUE: Response: {\\'error_code\\': \\'INVALID_PARAMETER_VALUE\\'}\")]')]\n",
      "\n",
      "2024/11/21 17:09:24 INFO mlflow.tracking._tracking_service.client: 🏃 View run amazing-grub-821 at: https://dagshub.com/zapatacc/final-exam-pcd2024-autumn.mlflow/#/experiments/26/runs/e21447d6a5db4105a6c34811943b2474.\n",
      "\n",
      "2024/11/21 17:09:24 INFO mlflow.tracking._tracking_service.client: 🧪 View experiment at: https://dagshub.com/zapatacc/final-exam-pcd2024-autumn.mlflow/#/experiments/26.\n",
      "\n"
     ]
    },
    {
     "name": "stdout",
     "output_type": "stream",
     "text": [
      " 70%|███████████████████████████████████████████████████████████████████████████████                                  | 7/10 [03:10<01:19, 26.49s/trial, best loss: -0.6016345900342737]"
     ]
    },
    {
     "name": "stderr",
     "output_type": "stream",
     "text": [
      "2024/11/21 17:09:24 WARNING mlflow.sklearn: Failed to log training dataset information to MLflow Tracking. Reason: 'Series' object has no attribute 'toarray'\n",
      "\n",
      "C:\\Users\\jplv0\\anaconda3\\lib\\site-packages\\sklearn\\metrics\\_classification.py:1531: UndefinedMetricWarning: Precision is ill-defined and being set to 0.0 in labels with no predicted samples. Use `zero_division` parameter to control this behavior.\n",
      "  _warn_prf(average, modifier, f\"{metric.capitalize()} is\", len(result))\n",
      "\n",
      "2024/11/21 17:09:59 WARNING mlflow.utils.autologging_utils: Encountered unexpected error during sklearn autologging: The following failures occurred while performing one or more logging operations: [MlflowException('Failed to perform one or more operations on the run with ID 507b4ce99e7f4a55b252cb06f8b50ebe. Failed operations: [RestException(\"INVALID_PARAMETER_VALUE: Response: {\\'error_code\\': \\'INVALID_PARAMETER_VALUE\\'}\")]')]\n",
      "\n",
      "2024/11/21 17:09:59 INFO mlflow.tracking._tracking_service.client: 🏃 View run marvelous-asp-457 at: https://dagshub.com/zapatacc/final-exam-pcd2024-autumn.mlflow/#/experiments/26/runs/507b4ce99e7f4a55b252cb06f8b50ebe.\n",
      "\n",
      "2024/11/21 17:09:59 INFO mlflow.tracking._tracking_service.client: 🧪 View experiment at: https://dagshub.com/zapatacc/final-exam-pcd2024-autumn.mlflow/#/experiments/26.\n",
      "\n"
     ]
    },
    {
     "name": "stdout",
     "output_type": "stream",
     "text": [
      " 80%|██████████████████████████████████████████████████████████████████████████████████████████▍                      | 8/10 [03:46<00:58, 29.38s/trial, best loss: -0.6016345900342737]"
     ]
    },
    {
     "name": "stderr",
     "output_type": "stream",
     "text": [
      "2024/11/21 17:10:00 WARNING mlflow.sklearn: Failed to log training dataset information to MLflow Tracking. Reason: 'Series' object has no attribute 'toarray'\n",
      "\n",
      "C:\\Users\\jplv0\\anaconda3\\lib\\site-packages\\sklearn\\metrics\\_classification.py:1531: UndefinedMetricWarning: Precision is ill-defined and being set to 0.0 in labels with no predicted samples. Use `zero_division` parameter to control this behavior.\n",
      "  _warn_prf(average, modifier, f\"{metric.capitalize()} is\", len(result))\n",
      "\n",
      "2024/11/21 17:10:29 WARNING mlflow.utils.autologging_utils: Encountered unexpected error during sklearn autologging: The following failures occurred while performing one or more logging operations: [MlflowException('Failed to perform one or more operations on the run with ID e392b706062e4e22aec12721c3504534. Failed operations: [RestException(\"INVALID_PARAMETER_VALUE: Response: {\\'error_code\\': \\'INVALID_PARAMETER_VALUE\\'}\")]')]\n",
      "\n",
      "2024/11/21 17:10:29 INFO mlflow.tracking._tracking_service.client: 🏃 View run enchanting-shoat-930 at: https://dagshub.com/zapatacc/final-exam-pcd2024-autumn.mlflow/#/experiments/26/runs/e392b706062e4e22aec12721c3504534.\n",
      "\n",
      "2024/11/21 17:10:29 INFO mlflow.tracking._tracking_service.client: 🧪 View experiment at: https://dagshub.com/zapatacc/final-exam-pcd2024-autumn.mlflow/#/experiments/26.\n",
      "\n"
     ]
    },
    {
     "name": "stdout",
     "output_type": "stream",
     "text": [
      " 90%|█████████████████████████████████████████████████████████████████████████████████████████████████████▋           | 9/10 [04:16<00:29, 29.57s/trial, best loss: -0.6016345900342737]"
     ]
    },
    {
     "name": "stderr",
     "output_type": "stream",
     "text": [
      "2024/11/21 17:10:30 WARNING mlflow.sklearn: Failed to log training dataset information to MLflow Tracking. Reason: 'Series' object has no attribute 'toarray'\n",
      "\n",
      "C:\\Users\\jplv0\\anaconda3\\lib\\site-packages\\sklearn\\metrics\\_classification.py:1531: UndefinedMetricWarning: Precision is ill-defined and being set to 0.0 in labels with no predicted samples. Use `zero_division` parameter to control this behavior.\n",
      "  _warn_prf(average, modifier, f\"{metric.capitalize()} is\", len(result))\n",
      "\n",
      "2024/11/21 17:10:52 WARNING mlflow.utils.autologging_utils: Encountered unexpected error during sklearn autologging: The following failures occurred while performing one or more logging operations: [MlflowException('Failed to perform one or more operations on the run with ID ef915e543f524b20a92cccbc0570ca47. Failed operations: [RestException(\"INVALID_PARAMETER_VALUE: Response: {\\'error_code\\': \\'INVALID_PARAMETER_VALUE\\'}\")]')]\n",
      "\n",
      "2024/11/21 17:10:52 INFO mlflow.tracking._tracking_service.client: 🏃 View run unruly-bird-172 at: https://dagshub.com/zapatacc/final-exam-pcd2024-autumn.mlflow/#/experiments/26/runs/ef915e543f524b20a92cccbc0570ca47.\n",
      "\n",
      "2024/11/21 17:10:52 INFO mlflow.tracking._tracking_service.client: 🧪 View experiment at: https://dagshub.com/zapatacc/final-exam-pcd2024-autumn.mlflow/#/experiments/26.\n",
      "\n"
     ]
    },
    {
     "name": "stdout",
     "output_type": "stream",
     "text": [
      "100%|████████████████████████████████████████████████████████████████████████████████████████████████████████████████| 10/10 [04:39<00:00, 27.92s/trial, best loss: -0.6016345900342737]\n"
     ]
    },
    {
     "name": "stderr",
     "output_type": "stream",
     "text": [
      "2024/11/21 17:10:52 INFO mlflow.tracking._tracking_service.client: 🏃 View run Parent Logistic Regression at: https://dagshub.com/zapatacc/final-exam-pcd2024-autumn.mlflow/#/experiments/26/runs/af8ed1a125af4bbfb1125cbf12334b41.\n",
      "2024/11/21 17:10:52 INFO mlflow.tracking._tracking_service.client: 🧪 View experiment at: https://dagshub.com/zapatacc/final-exam-pcd2024-autumn.mlflow/#/experiments/26.\n",
      "2024/11/21 17:10:53 INFO mlflow.utils.autologging_utils: Created MLflow autologging run with ID '0c4636f07a124fb9995c9d93b0f080a0', which will track hyperparameters, performance metrics, model artifacts, and lineage information for the current sklearn workflow\n",
      "2024/11/21 17:10:53 WARNING mlflow.sklearn: Failed to log training dataset information to MLflow Tracking. Reason: 'Series' object has no attribute 'toarray'\n",
      "C:\\Users\\jplv0\\anaconda3\\lib\\site-packages\\sklearn\\metrics\\_classification.py:1531: UndefinedMetricWarning: Precision is ill-defined and being set to 0.0 in labels with no predicted samples. Use `zero_division` parameter to control this behavior.\n",
      "  _warn_prf(average, modifier, f\"{metric.capitalize()} is\", len(result))\n",
      "2024/11/21 17:11:28 INFO mlflow.tracking._tracking_service.client: 🏃 View run valuable-horse-559 at: https://dagshub.com/zapatacc/final-exam-pcd2024-autumn.mlflow/#/experiments/26/runs/0c4636f07a124fb9995c9d93b0f080a0.\n",
      "2024/11/21 17:11:28 INFO mlflow.tracking._tracking_service.client: 🧪 View experiment at: https://dagshub.com/zapatacc/final-exam-pcd2024-autumn.mlflow/#/experiments/26.\n"
     ]
    },
    {
     "name": "stdout",
     "output_type": "stream",
     "text": [
      "Accuracy: 0.60\n",
      "Classification Report:\n",
      "                                                                                                               precision    recall  f1-score   support\n",
      "\n",
      "                                                        Bank account or service + (CD) Certificate of deposit       1.00      0.00      0.00         3\n",
      "                                                 Bank account or service + Cashing a check without an account       1.00      0.00      0.00         7\n",
      "                                                                   Bank account or service + Checking account       0.48      0.47      0.48       217\n",
      "                                                         Bank account or service + Other bank product/service       0.25      0.04      0.06        55\n",
      "                                                                    Bank account or service + Savings account       1.00      0.06      0.11        17\n",
      "                                                    Checking or savings account + CD (Certificate of Deposit)       1.00      0.80      0.89         5\n",
      "                                                               Checking or savings account + Checking account       0.65      0.80      0.72       788\n",
      "                                               Checking or savings account + Other banking product or service       0.33      0.03      0.05        36\n",
      "                                                                Checking or savings account + Savings account       0.33      0.14      0.20        35\n",
      "                                                                             Consumer Loan + Installment loan       1.00      0.00      0.00         8\n",
      "                                                                                    Consumer Loan + Pawn loan       1.00      0.00      0.00         1\n",
      "                                                                                   Consumer Loan + Title loan       1.00      0.00      0.00         1\n",
      "                                                                                Consumer Loan + Vehicle lease       1.00      0.00      0.00         7\n",
      "                                                                                 Consumer Loan + Vehicle loan       0.43      0.28      0.34        32\n",
      "                                     Credit card or prepaid card + General-purpose credit card or charge card       0.73      0.88      0.80       969\n",
      "                                                   Credit card or prepaid card + General-purpose prepaid card       1.00      0.00      0.00        12\n",
      "                                                                      Credit card or prepaid card + Gift card       1.00      0.00      0.00         2\n",
      "                                                        Credit card or prepaid card + Government benefit card       1.00      0.00      0.00         3\n",
      "                                                                   Credit card or prepaid card + Payroll card       1.00      0.00      0.00         1\n",
      "                                                              Credit card or prepaid card + Store credit card       1.00      0.00      0.00        14\n",
      "        Credit reporting, credit repair services, or other personal consumer reports + Credit repair services       1.00      0.00      0.00         1\n",
      "              Credit reporting, credit repair services, or other personal consumer reports + Credit reporting       0.60      0.72      0.65       389\n",
      "Credit reporting, credit repair services, or other personal consumer reports + Other personal consumer report       1.00      0.00      0.00        11\n",
      "                                                                                       Debt collection + Auto       1.00      0.00      0.00         1\n",
      "                                                                                Debt collection + Credit card       0.49      0.37      0.42        46\n",
      "                                                                           Debt collection + Credit card debt       0.52      0.32      0.39        92\n",
      "                                                                              Debt collection + I do not know       0.50      0.06      0.11        17\n",
      "                                                                                   Debt collection + Mortgage       1.00      0.11      0.20         9\n",
      "                                                                              Debt collection + Mortgage debt       1.00      0.17      0.29        18\n",
      "                                                                   Debt collection + Non-federal student loan       1.00      0.00      0.00         1\n",
      "                                                      Debt collection + Other (i.e. phone, health club, etc.)       1.00      0.00      0.00         4\n",
      "                                                                                 Debt collection + Other debt       1.00      0.00      0.00         6\n",
      "                                                                                Debt collection + Payday loan       1.00      0.00      0.00         1\n",
      "                                   Money transfer, virtual currency, or money service + Check cashing service       1.00      0.00      0.00         2\n",
      "                            Money transfer, virtual currency, or money service + Domestic (US) money transfer       0.28      0.28      0.28        61\n",
      "                               Money transfer, virtual currency, or money service + Foreign currency exchange       1.00      0.00      0.00         4\n",
      "                            Money transfer, virtual currency, or money service + International money transfer       0.78      0.24      0.37        29\n",
      "                                Money transfer, virtual currency, or money service + Mobile or digital wallet       0.58      0.18      0.27        39\n",
      "                                             Money transfer, virtual currency, or money service + Money order       1.00      0.00      0.00         4\n",
      "                     Money transfer, virtual currency, or money service + Traveler's check or cashier's check       1.00      0.00      0.00         8\n",
      "                                        Money transfer, virtual currency, or money service + Virtual currency       1.00      0.00      0.00         8\n",
      "                                                               Money transfers + Domestic (US) money transfer       1.00      0.00      0.00         4\n",
      "                                                               Money transfers + International money transfer       1.00      0.00      0.00         5\n",
      "                                                            Mortgage + Conventional adjustable mortgage (ARM)       0.44      0.18      0.26        60\n",
      "                                                                       Mortgage + Conventional fixed mortgage       0.38      0.42      0.40       171\n",
      "                                                                        Mortgage + Conventional home mortgage       0.45      0.54      0.49       235\n",
      "                                                                                      Mortgage + FHA mortgage       0.30      0.38      0.34        87\n",
      "                                                                Mortgage + Home equity loan or line of credit       0.25      0.07      0.11        27\n",
      "                                                        Mortgage + Home equity loan or line of credit (HELOC)       0.28      0.17      0.21        30\n",
      "                                                                                    Mortgage + Other mortgage       0.00      0.00      0.00        38\n",
      "                                                                            Mortgage + Other type of mortgage       1.00      0.05      0.10        20\n",
      "                                                                                  Mortgage + Reverse mortgage       1.00      0.00      0.00         2\n",
      "                                                                                       Mortgage + VA mortgage       0.67      0.15      0.25        13\n",
      "                                                                        Other financial service + Money order       1.00      0.00      0.00         1\n",
      "                                                        Other financial service + Traveler’s/Cashier’s checks       1.00      0.00      0.00         1\n",
      "                                                 Payday loan, title loan, or personal loan + Installment loan       1.00      0.00      0.00         6\n",
      "                                          Payday loan, title loan, or personal loan + Personal line of credit       1.00      0.00      0.00         6\n",
      "                                                       Payday loan, title loan, or personal loan + Title loan       1.00      0.00      0.00         2\n",
      "                                                               Prepaid card + Government benefit payment card       1.00      0.00      0.00         1\n",
      "                                                                Student loan + Federal student loan servicing       1.00      0.00      0.00         2\n",
      "                                                                      Student loan + Non-federal student loan       0.83      0.69      0.75        29\n",
      "                                                                          Student loan + Private student loan       1.00      0.00      0.00         9\n",
      "                                                                                Vehicle loan or lease + Lease       0.50      0.32      0.39        22\n",
      "                                                                                 Vehicle loan or lease + Loan       0.56      0.47      0.51        58\n",
      "\n",
      "                                                                                                     accuracy                           0.60      3793\n",
      "                                                                                                    macro avg       0.79      0.15      0.16      3793\n",
      "                                                                                                 weighted avg       0.60      0.60      0.56      3793\n",
      "\n"
     ]
    }
   ],
   "source": [
    "def objective_lr(params):\n",
    "    with mlflow.start_run(nested=True):\n",
    "        # Set model tag\n",
    "        mlflow.set_tag(\"model_family\", \"logistic_regression\")\n",
    "        \n",
    "        # Log parameters\n",
    "        mlflow.log_params(params)\n",
    "        \n",
    "        # Create the Logistic Regression model with given parameters\n",
    "        lr_model = LogisticRegression(\n",
    "            C=params['C'],\n",
    "            max_iter=int(params['max_iter']),\n",
    "            solver=params['solver'],\n",
    "            random_state=42\n",
    "        )\n",
    "        \n",
    "        # Fit the model\n",
    "        lr_model.fit(X_train, y_train)\n",
    "        \n",
    "        # Make predictions\n",
    "        y_pred = lr_model.predict(X_test)\n",
    "        \n",
    "        # Calculate accuracy\n",
    "        accuracy = accuracy_score(y_test, y_pred)\n",
    "        \n",
    "        # Log accuracy metric\n",
    "        mlflow.log_metric(\"accuracy\", accuracy)\n",
    "        \n",
    "        return {'loss': -accuracy, 'status': STATUS_OK}\n",
    "# Define search space for LogisticRegression\n",
    "search_space_lr = {\n",
    "    'C': hp.loguniform('C', np.log(0.01), np.log(10)),\n",
    "    'max_iter': hp.quniform('max_iter', 100, 500, 1),\n",
    "    'solver': hp.choice('solver', ['liblinear', 'lbfgs'])\n",
    "}\n",
    "\n",
    "# Run hyperparameter optimization\n",
    "with mlflow.start_run(run_name=\"Parent Logistic Regression\", nested=True):\n",
    "    best_params_lr = fmin(\n",
    "        fn=objective_lr,\n",
    "        space=search_space_lr,\n",
    "        algo=tpe.suggest,\n",
    "        max_evals=10,\n",
    "        trials=Trials()\n",
    "    )\n",
    "    \n",
    "    # Log best parameters\n",
    "    mlflow.log_params(best_params_lr)\n",
    "\n",
    "# Evaluate the best model\n",
    "y_pred = LogisticRegression(\n",
    "    C=best_params_lr['C'],\n",
    "    max_iter=int(best_params_lr['max_iter']),\n",
    "    solver=['liblinear', 'lbfgs'][best_params_lr['solver']],\n",
    "    random_state=42\n",
    ").fit(X_train, y_train).predict(X_test)\n",
    "\n",
    "accuracy = accuracy_score(y_test, y_pred)\n",
    "report = classification_report(y_test, y_pred, zero_division=1)\n",
    "\n",
    "print(f'Accuracy: {accuracy:.2f}')\n",
    "print('Classification Report:')\n",
    "print(report)\n",
    "\n"
   ]
  },
  {
   "cell_type": "code",
   "execution_count": 26,
   "id": "744229e0-98a0-4db9-88ee-e96b27f0e502",
   "metadata": {},
   "outputs": [
    {
     "name": "stdin",
     "output_type": "stream",
     "text": [
      "Ingrese el run_id 1ffa6b99ba8e4f67af84ad76461f2d74\n"
     ]
    },
    {
     "name": "stderr",
     "output_type": "stream",
     "text": [
      "Successfully registered model 'juan-ley-logistic-regression-model'.\n",
      "2024/11/21 17:15:10 INFO mlflow.store.model_registry.abstract_store: Waiting up to 300 seconds for model version to finish creation. Model name: juan-ley-logistic-regression-model, version 1\n",
      "Created version '1' of model 'juan-ley-logistic-regression-model'.\n"
     ]
    }
   ],
   "source": [
    "run_id = input(\"Ingrese el run_id\")\n",
    "run_uri = f\"runs:/{run_id}/model\"\n",
    "\n",
    "result = mlflow.register_model(\n",
    "    model_uri=run_uri,\n",
    "    name=\"juan-ley-logistic-regression-model\"\n",
    ")"
   ]
  },
  {
   "cell_type": "code",
   "execution_count": 27,
   "id": "ac148185-ffa1-41b3-93ef-78186951a4d2",
   "metadata": {},
   "outputs": [
    {
     "data": {
      "text/plain": [
       "<ModelVersion: aliases=['champion'], creation_timestamp=1732230910470, current_stage='None', description='The model version 1 was transitioned to champion on 2024-11-21 17:17:34.428144', last_updated_timestamp=1732231054764, name='juan-ley-logistic-regression-model', run_id='1ffa6b99ba8e4f67af84ad76461f2d74', run_link='', source='mlflow-artifacts:/2ba27dd603444cc7af16985d563b264d/1ffa6b99ba8e4f67af84ad76461f2d74/artifacts/model', status='READY', status_message='', tags={}, user_id='', version='1'>"
      ]
     },
     "execution_count": 27,
     "metadata": {},
     "output_type": "execute_result"
    }
   ],
   "source": [
    "from datetime import datetime\n",
    "from mlflow import MlflowClient\n",
    "\n",
    "\n",
    "client = MlflowClient(tracking_uri=MLFLOW_TRACKING_URI)\n",
    "client.update_registered_model(\n",
    "    name=\"juan-ley-logistic-regression-model\",\n",
    "    description=\"\",\n",
    ")\n",
    "new_alias = \"champion\"\n",
    "date = datetime.today()\n",
    "model_version = \"1\"\n",
    "\n",
    "# create \"champion\" alias for version 1 of model \n",
    "client.set_registered_model_alias(\n",
    "    name=\"juan-ley-logistic-regression-model\",\n",
    "    alias=new_alias,\n",
    "    version=model_version\n",
    ")\n",
    "\n",
    "client.update_model_version(\n",
    "    name=\"juan-ley-logistic-regression-model\",\n",
    "    version=model_version,\n",
    "    description=f\"The model version {model_version} was transitioned to {new_alias} on {date}\",\n",
    ")"
   ]
  },
  {
   "cell_type": "code",
   "execution_count": 35,
   "id": "e57fea2b-8225-4442-b001-626d17d36857",
   "metadata": {
    "scrolled": true
   },
   "outputs": [
    {
     "name": "stdin",
     "output_type": "stream",
     "text": [
      "Ingrese el run_id 798a4f1c812e4e69aa2da021ee850543\n"
     ]
    },
    {
     "name": "stderr",
     "output_type": "stream",
     "text": [
      "Registered model 'juan-ley-random-forest-model' already exists. Creating a new version of this model...\n",
      "2024/11/21 18:16:00 INFO mlflow.store.model_registry.abstract_store: Waiting up to 300 seconds for model version to finish creation. Model name: juan-ley-random-forest-model, version 3\n",
      "Created version '3' of model 'juan-ley-random-forest-model'.\n"
     ]
    },
    {
     "ename": "RestException",
     "evalue": "RESOURCE_DOES_NOT_EXIST: Response: {'error_code': 'RESOURCE_DOES_NOT_EXIST'}",
     "output_type": "error",
     "traceback": [
      "\u001b[1;31m---------------------------------------------------------------------------\u001b[0m",
      "\u001b[1;31mRestException\u001b[0m                             Traceback (most recent call last)",
      "Cell \u001b[1;32mIn[35], line 6\u001b[0m\n\u001b[0;32m      3\u001b[0m run_uri \u001b[38;5;241m=\u001b[39m \u001b[38;5;124mf\u001b[39m\u001b[38;5;124m\"\u001b[39m\u001b[38;5;124mruns:/\u001b[39m\u001b[38;5;132;01m{\u001b[39;00mrun_id\u001b[38;5;132;01m}\u001b[39;00m\u001b[38;5;124m/model\u001b[39m\u001b[38;5;124m\"\u001b[39m\n\u001b[0;32m      5\u001b[0m challenger_model_version \u001b[38;5;241m=\u001b[39m mlflow\u001b[38;5;241m.\u001b[39mregister_model(model_uri\u001b[38;5;241m=\u001b[39mrun_uri, name\u001b[38;5;241m=\u001b[39m\u001b[38;5;124m\"\u001b[39m\u001b[38;5;124mjuan-ley-random-forest-model\u001b[39m\u001b[38;5;124m\"\u001b[39m)\n\u001b[1;32m----> 6\u001b[0m \u001b[43mclient\u001b[49m\u001b[38;5;241;43m.\u001b[39;49m\u001b[43mset_registered_model_alias\u001b[49m\u001b[43m(\u001b[49m\u001b[43mname\u001b[49m\u001b[38;5;241;43m=\u001b[39;49m\u001b[43mmodel_name\u001b[49m\u001b[43m,\u001b[49m\u001b[43m \u001b[49m\u001b[43malias\u001b[49m\u001b[38;5;241;43m=\u001b[39;49m\u001b[38;5;124;43m'\u001b[39;49m\u001b[38;5;124;43mchallenger\u001b[39;49m\u001b[38;5;124;43m'\u001b[39;49m\u001b[43m,\u001b[49m\u001b[43m \u001b[49m\u001b[43mversion\u001b[49m\u001b[38;5;241;43m=\u001b[39;49m\u001b[43mchallenger_model_version\u001b[49m\u001b[38;5;241;43m.\u001b[39;49m\u001b[43mversion\u001b[49m\u001b[43m)\u001b[49m\n",
      "File \u001b[1;32m~\\anaconda3\\lib\\site-packages\\mlflow\\tracking\\client.py:4554\u001b[0m, in \u001b[0;36mMlflowClient.set_registered_model_alias\u001b[1;34m(self, name, alias, version)\u001b[0m\n\u001b[0;32m   4552\u001b[0m _validate_model_alias_name(alias)\n\u001b[0;32m   4553\u001b[0m _validate_model_version(version)\n\u001b[1;32m-> 4554\u001b[0m \u001b[38;5;28;43mself\u001b[39;49m\u001b[38;5;241;43m.\u001b[39;49m\u001b[43m_get_registry_client\u001b[49m\u001b[43m(\u001b[49m\u001b[43m)\u001b[49m\u001b[38;5;241;43m.\u001b[39;49m\u001b[43mset_registered_model_alias\u001b[49m\u001b[43m(\u001b[49m\u001b[43mname\u001b[49m\u001b[43m,\u001b[49m\u001b[43m \u001b[49m\u001b[43malias\u001b[49m\u001b[43m,\u001b[49m\u001b[43m \u001b[49m\u001b[43mversion\u001b[49m\u001b[43m)\u001b[49m\n",
      "File \u001b[1;32m~\\anaconda3\\lib\\site-packages\\mlflow\\tracking\\_model_registry\\client.py:394\u001b[0m, in \u001b[0;36mModelRegistryClient.set_registered_model_alias\u001b[1;34m(self, name, alias, version)\u001b[0m\n\u001b[0;32m    383\u001b[0m \u001b[38;5;28;01mdef\u001b[39;00m \u001b[38;5;21mset_registered_model_alias\u001b[39m(\u001b[38;5;28mself\u001b[39m, name, alias, version):\n\u001b[0;32m    384\u001b[0m \u001b[38;5;250m    \u001b[39m\u001b[38;5;124;03m\"\"\"Set a registered model alias pointing to a model version.\u001b[39;00m\n\u001b[0;32m    385\u001b[0m \n\u001b[0;32m    386\u001b[0m \u001b[38;5;124;03m    Args:\u001b[39;00m\n\u001b[1;32m   (...)\u001b[0m\n\u001b[0;32m    392\u001b[0m \u001b[38;5;124;03m        None\u001b[39;00m\n\u001b[0;32m    393\u001b[0m \u001b[38;5;124;03m    \"\"\"\u001b[39;00m\n\u001b[1;32m--> 394\u001b[0m     \u001b[38;5;28;43mself\u001b[39;49m\u001b[38;5;241;43m.\u001b[39;49m\u001b[43mstore\u001b[49m\u001b[38;5;241;43m.\u001b[39;49m\u001b[43mset_registered_model_alias\u001b[49m\u001b[43m(\u001b[49m\u001b[43mname\u001b[49m\u001b[43m,\u001b[49m\u001b[43m \u001b[49m\u001b[43malias\u001b[49m\u001b[43m,\u001b[49m\u001b[43m \u001b[49m\u001b[43mversion\u001b[49m\u001b[43m)\u001b[49m\n",
      "File \u001b[1;32m~\\anaconda3\\lib\\site-packages\\mlflow\\store\\model_registry\\rest_store.py:442\u001b[0m, in \u001b[0;36mRestStore.set_registered_model_alias\u001b[1;34m(self, name, alias, version)\u001b[0m\n\u001b[0;32m    430\u001b[0m \u001b[38;5;250m\u001b[39m\u001b[38;5;124;03m\"\"\"\u001b[39;00m\n\u001b[0;32m    431\u001b[0m \u001b[38;5;124;03mSet a registered model alias pointing to a model version.\u001b[39;00m\n\u001b[0;32m    432\u001b[0m \n\u001b[1;32m   (...)\u001b[0m\n\u001b[0;32m    439\u001b[0m \u001b[38;5;124;03m    None\u001b[39;00m\n\u001b[0;32m    440\u001b[0m \u001b[38;5;124;03m\"\"\"\u001b[39;00m\n\u001b[0;32m    441\u001b[0m req_body \u001b[38;5;241m=\u001b[39m message_to_json(SetRegisteredModelAlias(name\u001b[38;5;241m=\u001b[39mname, alias\u001b[38;5;241m=\u001b[39malias, version\u001b[38;5;241m=\u001b[39mversion))\n\u001b[1;32m--> 442\u001b[0m \u001b[38;5;28;43mself\u001b[39;49m\u001b[38;5;241;43m.\u001b[39;49m\u001b[43m_call_endpoint\u001b[49m\u001b[43m(\u001b[49m\u001b[43mSetRegisteredModelAlias\u001b[49m\u001b[43m,\u001b[49m\u001b[43m \u001b[49m\u001b[43mreq_body\u001b[49m\u001b[43m)\u001b[49m\n",
      "File \u001b[1;32m~\\anaconda3\\lib\\site-packages\\mlflow\\store\\model_registry\\base_rest_store.py:44\u001b[0m, in \u001b[0;36mBaseRestStore._call_endpoint\u001b[1;34m(self, api, json_body, call_all_endpoints, extra_headers)\u001b[0m\n\u001b[0;32m     42\u001b[0m \u001b[38;5;28;01melse\u001b[39;00m:\n\u001b[0;32m     43\u001b[0m     endpoint, method \u001b[38;5;241m=\u001b[39m \u001b[38;5;28mself\u001b[39m\u001b[38;5;241m.\u001b[39m_get_endpoint_from_method(api)\n\u001b[1;32m---> 44\u001b[0m     \u001b[38;5;28;01mreturn\u001b[39;00m \u001b[43mcall_endpoint\u001b[49m\u001b[43m(\u001b[49m\n\u001b[0;32m     45\u001b[0m \u001b[43m        \u001b[49m\u001b[38;5;28;43mself\u001b[39;49m\u001b[38;5;241;43m.\u001b[39;49m\u001b[43mget_host_creds\u001b[49m\u001b[43m(\u001b[49m\u001b[43m)\u001b[49m\u001b[43m,\u001b[49m\u001b[43m \u001b[49m\u001b[43mendpoint\u001b[49m\u001b[43m,\u001b[49m\u001b[43m \u001b[49m\u001b[43mmethod\u001b[49m\u001b[43m,\u001b[49m\u001b[43m \u001b[49m\u001b[43mjson_body\u001b[49m\u001b[43m,\u001b[49m\u001b[43m \u001b[49m\u001b[43mresponse_proto\u001b[49m\u001b[43m,\u001b[49m\u001b[43m \u001b[49m\u001b[43mextra_headers\u001b[49m\n\u001b[0;32m     46\u001b[0m \u001b[43m    \u001b[49m\u001b[43m)\u001b[49m\n",
      "File \u001b[1;32m~\\anaconda3\\lib\\site-packages\\mlflow\\utils\\rest_utils.py:363\u001b[0m, in \u001b[0;36mcall_endpoint\u001b[1;34m(host_creds, endpoint, method, json_body, response_proto, extra_headers)\u001b[0m\n\u001b[0;32m    360\u001b[0m     call_kwargs[\u001b[38;5;124m\"\u001b[39m\u001b[38;5;124mjson\u001b[39m\u001b[38;5;124m\"\u001b[39m] \u001b[38;5;241m=\u001b[39m json_body\n\u001b[0;32m    361\u001b[0m     response \u001b[38;5;241m=\u001b[39m http_request(\u001b[38;5;241m*\u001b[39m\u001b[38;5;241m*\u001b[39mcall_kwargs)\n\u001b[1;32m--> 363\u001b[0m response \u001b[38;5;241m=\u001b[39m \u001b[43mverify_rest_response\u001b[49m\u001b[43m(\u001b[49m\u001b[43mresponse\u001b[49m\u001b[43m,\u001b[49m\u001b[43m \u001b[49m\u001b[43mendpoint\u001b[49m\u001b[43m)\u001b[49m\n\u001b[0;32m    364\u001b[0m js_dict \u001b[38;5;241m=\u001b[39m json\u001b[38;5;241m.\u001b[39mloads(response\u001b[38;5;241m.\u001b[39mtext)\n\u001b[0;32m    365\u001b[0m parse_dict(js_dict\u001b[38;5;241m=\u001b[39mjs_dict, message\u001b[38;5;241m=\u001b[39mresponse_proto)\n",
      "File \u001b[1;32m~\\anaconda3\\lib\\site-packages\\mlflow\\utils\\rest_utils.py:233\u001b[0m, in \u001b[0;36mverify_rest_response\u001b[1;34m(response, endpoint)\u001b[0m\n\u001b[0;32m    231\u001b[0m \u001b[38;5;28;01mif\u001b[39;00m response\u001b[38;5;241m.\u001b[39mstatus_code \u001b[38;5;241m!=\u001b[39m \u001b[38;5;241m200\u001b[39m:\n\u001b[0;32m    232\u001b[0m     \u001b[38;5;28;01mif\u001b[39;00m _can_parse_as_json_object(response\u001b[38;5;241m.\u001b[39mtext):\n\u001b[1;32m--> 233\u001b[0m         \u001b[38;5;28;01mraise\u001b[39;00m RestException(json\u001b[38;5;241m.\u001b[39mloads(response\u001b[38;5;241m.\u001b[39mtext))\n\u001b[0;32m    234\u001b[0m     \u001b[38;5;28;01melse\u001b[39;00m:\n\u001b[0;32m    235\u001b[0m         base_msg \u001b[38;5;241m=\u001b[39m (\n\u001b[0;32m    236\u001b[0m             \u001b[38;5;124mf\u001b[39m\u001b[38;5;124m\"\u001b[39m\u001b[38;5;124mAPI request to endpoint \u001b[39m\u001b[38;5;132;01m{\u001b[39;00mendpoint\u001b[38;5;132;01m}\u001b[39;00m\u001b[38;5;124m \u001b[39m\u001b[38;5;124m\"\u001b[39m\n\u001b[0;32m    237\u001b[0m             \u001b[38;5;124mf\u001b[39m\u001b[38;5;124m\"\u001b[39m\u001b[38;5;124mfailed with error code \u001b[39m\u001b[38;5;132;01m{\u001b[39;00mresponse\u001b[38;5;241m.\u001b[39mstatus_code\u001b[38;5;132;01m}\u001b[39;00m\u001b[38;5;124m != 200\u001b[39m\u001b[38;5;124m\"\u001b[39m\n\u001b[0;32m    238\u001b[0m         )\n",
      "\u001b[1;31mRestException\u001b[0m: RESOURCE_DOES_NOT_EXIST: Response: {'error_code': 'RESOURCE_DOES_NOT_EXIST'}"
     ]
    }
   ],
   "source": [
    "# registro de challenger\n",
    "run_id = input(\"Ingrese el run_id\")\n",
    "run_uri = f\"runs:/{run_id}/model\"\n",
    "\n",
    "challenger_model_version = mlflow.register_model(model_uri=run_uri, name=\"juan-ley-random-forest-model\")\n",
    "client.set_registered_model_alias(name=model_name, alias='challenger', version=challenger_model_version.version)"
   ]
  },
  {
   "cell_type": "code",
   "execution_count": 28,
   "id": "d3342875-da6a-4aea-a64f-7031b9e66df0",
   "metadata": {},
   "outputs": [
    {
     "data": {
      "text/plain": [
       "{'C': 3.861292160942015, 'max_iter': 474.0, 'solver': 1}"
      ]
     },
     "execution_count": 28,
     "metadata": {},
     "output_type": "execute_result"
    }
   ],
   "source": [
    "best_params_lr"
   ]
  },
  {
   "cell_type": "code",
   "execution_count": 30,
   "id": "f4d9c2c0-c97d-468f-b7fa-79d2c1f0be9f",
   "metadata": {},
   "outputs": [
    {
     "data": {
      "application/vnd.jupyter.widget-view+json": {
       "model_id": "c5d2f571363a4d0db4e7ab1021630e2a",
       "version_major": 2,
       "version_minor": 0
      },
      "text/plain": [
       "Downloading artifacts:   0%|          | 0/5 [00:00<?, ?it/s]"
      ]
     },
     "metadata": {},
     "output_type": "display_data"
    },
    {
     "data": {
      "text/plain": [
       "array(['Vehicle loan or lease + Loan',\n",
       "       'Mortgage + Conventional home mortgage',\n",
       "       'Credit card or prepaid card + General-purpose credit card or charge card',\n",
       "       ..., 'Checking or savings account + Checking account',\n",
       "       'Checking or savings account + Checking account',\n",
       "       'Checking or savings account + Checking account'], dtype=object)"
      ]
     },
     "execution_count": 30,
     "metadata": {},
     "output_type": "execute_result"
    }
   ],
   "source": [
    "# registro de champion\n",
    "import mlflow.pyfunc\n",
    "\n",
    "model_name = \"juan-ley-logistic-regression-model\"\n",
    "alias = \"champion\"\n",
    "\n",
    "model_uri = f\"models:/{model_name}@{alias}\"\n",
    "\n",
    "champion_version = mlflow.pyfunc.load_model(\n",
    "    model_uri=model_uri\n",
    ")\n",
    "\n",
    "champion_version.predict(X_test)"
   ]
  },
  {
   "cell_type": "code",
   "execution_count": 31,
   "id": "fd894264-f5fb-4f40-be36-f981613d9330",
   "metadata": {},
   "outputs": [
    {
     "name": "stdin",
     "output_type": "stream",
     "text": [
      "Ingrese el run_id 0c4636f07a124fb9995c9d93b0f080a0\n"
     ]
    }
   ],
   "source": [
    "run_id = input(\"Ingrese el run_id\")\n",
    "run_uri = f\"runs:/{run_id}/model\"\n"
   ]
  },
  {
   "cell_type": "code",
   "execution_count": 32,
   "id": "861fc78f-a143-46a9-8e5e-68b65f23583c",
   "metadata": {},
   "outputs": [
    {
     "data": {
      "text/plain": [
       "<ModelVersion: aliases=['challenger', 'champion'], creation_timestamp=1732230910470, current_stage='None', description=('The model version 1 was transitioned to challenger on 2024-11-21 '\n",
       " '17:32:48.357561'), last_updated_timestamp=1732231968794, name='juan-ley-logistic-regression-model', run_id='1ffa6b99ba8e4f67af84ad76461f2d74', run_link='', source='mlflow-artifacts:/2ba27dd603444cc7af16985d563b264d/1ffa6b99ba8e4f67af84ad76461f2d74/artifacts/model', status='READY', status_message='', tags={}, user_id='', version='1'>"
      ]
     },
     "execution_count": 32,
     "metadata": {},
     "output_type": "execute_result"
    }
   ],
   "source": [
    "client = MlflowClient(tracking_uri=MLFLOW_TRACKING_URI)\n",
    "client.update_registered_model(\n",
    "    name=\"juan-ley-logistic-regression-model\",\n",
    "    description=\"anadir challenger\",\n",
    ")\n",
    "new_alias = \"challenger\"\n",
    "date = datetime.today()\n",
    "model_version = \"1\"\n",
    "\n",
    "# create \"challenger\" alias for version 1 of model \n",
    "client.set_registered_model_alias(\n",
    "    name=\"juan-ley-logistic-regression-model\",\n",
    "    alias=new_alias,\n",
    "    version=model_version\n",
    ")\n",
    "\n",
    "client.update_model_version(\n",
    "    name=\"juan-ley-logistic-regression-model\",\n",
    "    version=model_version,\n",
    "    description=f\"The model version {model_version} was transitioned to {new_alias} on {date}\",\n",
    ")"
   ]
  },
  {
   "cell_type": "code",
   "execution_count": 33,
   "id": "04eafc30-3ce1-40ad-8c1c-10320b18f397",
   "metadata": {},
   "outputs": [
    {
     "name": "stderr",
     "output_type": "stream",
     "text": [
      "Registered model 'juan-ley-logistic-regression-model' already exists. Creating a new version of this model...\n",
      "2024/11/21 17:40:18 INFO mlflow.store.model_registry.abstract_store: Waiting up to 300 seconds for model version to finish creation. Model name: juan-ley-logistic-regression-model, version 2\n",
      "Created version '2' of model 'juan-ley-logistic-regression-model'.\n"
     ]
    }
   ],
   "source": [
    "# registro de challenger\n",
    "\n",
    "challenger_model_version = mlflow.register_model(model_uri=run_uri, name=\"juan-ley-logistic-regression-model\")\n",
    "client.set_registered_model_alias(name=model_name, alias='challenger', version=challenger_model_version.version)"
   ]
  }
 ],
 "metadata": {
  "kernelspec": {
   "display_name": "Python 3 (ipykernel)",
   "language": "python",
   "name": "python3"
  },
  "language_info": {
   "codemirror_mode": {
    "name": "ipython",
    "version": 3
   },
   "file_extension": ".py",
   "mimetype": "text/x-python",
   "name": "python",
   "nbconvert_exporter": "python",
   "pygments_lexer": "ipython3",
   "version": "3.9.13"
  }
 },
 "nbformat": 4,
 "nbformat_minor": 5
}
