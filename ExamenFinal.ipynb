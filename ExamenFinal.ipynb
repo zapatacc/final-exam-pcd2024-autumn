{
 "cells": [
  {
   "cell_type": "markdown",
   "metadata": {
    "collapsed": false,
    "jupyter": {
     "outputs_hidden": false
    }
   },
   "source": [
    "      ___   _\n",
    "     |_ _| | |_    ___   ___    ___\n",
    "      | |  | __|  / _ \\ / __|  / _ \\\n",
    "      | |  | |_  |  __/ \\__ \\ | (_) |\n",
    "     |___|  \\__|  \\___| |___/  \\___/\n"
   ]
  },
  {
   "cell_type": "markdown",
   "metadata": {
    "collapsed": false,
    "jupyter": {
     "outputs_hidden": false
    }
   },
   "source": [
    "\n",
    "<h1><strong>Classification Challenge: Mejorando la Gestión de Quejas con Machine Learning</strong></h1>\n",
    "\n",
    "<hr>\n",
    "<p>Bienvenid@ al Classification Challenge</p>\n",
    "<h2>Descripción</h2>\n",
    "\n",
    "<p>En el ámbito corporativo, enfrentar y resolver desafíos diarios es esencial para mejorar la experiencia del cliente y optimizar las operaciones. Un desafío común es la adecuada gestión y clasificación de las quejas de los clientes. Para abordar esta problemática de manera efectiva, disponemos de un dataset inicial que será empleado para entrenar un modelo de machine learning. Este modelo tiene como objetivo predecir la categoría adecuada para cada nueva queja recibida, utilizando el conocimiento derivado de casos anteriores.\n",
    "\n",
    "Es importante mencionar que el dataset proporcionado, denominado `tickets_classification_eng.json` (Puedes encontrar este dataset en la carpeta `data/raw_data`), no está limpio y requerirá un proceso de preparación antes de ser utilizado para el entrenamiento del modelo. Este dataset final deberá está formado por las siguientes columnas:\n",
    "\n",
    "    complaint_what_happened - El contenido textual de la queja, que proporciona detalles sobre el incidente o problema experimentado por el cliente.\n",
    "    ticket_classification - Una combinación de las categorías de producto y subproducto involucradas, que clasifica la queja en un contexto más amplio.\n",
    "\n",
    "Para asegurarnos de que el dataset esté listo para su uso, es crucial seguir los procedimientos que se expondran adelante para seleccionar, limpiar y preparar adecuadamente los datos. Una vez que se haya completado este proceso, será necesario guardar el dataset limpio para asegurar que el modelo de machine learning pueda ser entrenado con datos precisos y confiables. \n",
    "\n",
    "La implementación de este proyecto no solo busca mejorar la eficiencia en la gestión de quejas, sino también permitir que la empresa comprenda mejor las tendencias de los problemas reportados por los clientes, facilitando una respuesta más rápida y adecuada en el futuro.\n",
    "\n"
   ]
  },
  {
   "cell_type": "markdown",
   "metadata": {
    "collapsed": false,
    "jupyter": {
     "outputs_hidden": false
    }
   },
   "source": [
    "\n",
    "## Hints\n",
    "- Utilice la función `json_normalize` del paquete `pandas` [aqui](https://pandas.pydata.org/pandas-docs/stable/reference/api/pandas.json_normalize.html) para importar los datos.\n",
    "- Use este código para importar el json como diccionario en `Python`:\n",
    "````\n",
    "import json\n",
    "with open(file_path, \"r\") as file:  \n",
    "    datos = json.load(file)\n",
    "````\n",
    "- Para la transformación de datos y obtener el dataset final a trabajar ejecute los comandos de pandas necesarios para aplicar el siguiente procedimiento:\n",
    "\n",
    "    1. **Selección de Columnas**:\n",
    "       Empieza seleccionando solo las columnas que contienen la información de la queja, el producto y el subproducto. Las columnas son:\n",
    "       - `_source.complaint_what_happened`\n",
    "       - `_source.product`\n",
    "       - `_source.sub_product`\n",
    "\n",
    "    2. **Renombrar Columnas**:\n",
    "       Cambia el nombre de las columnas para que sean más claras y fáciles de manejar:\n",
    "       - `_source.complaint_what_happened` a `complaint_what_happened`\n",
    "       - `_source.product` a `category`\n",
    "       - `_source.sub_product` a `sub_product`\n",
    "\n",
    "    3. **Creación de Nueva Columna**:\n",
    "       Añade una nueva columna llamada `ticket_classification` que sea el resultado de concatenar los valores de las columnas `category` y `sub_product`, separados por un signo más. Por ejemplo, si `category` contiene \"Banco\" y `sub_product` contiene \"Cuenta Corriente\", entonces `ticket_classification` debería ser \"Banco + Cuenta Corriente\".\n",
    "    \n",
    "    4. **Eliminar Columnas Redundantes**:\n",
    "       Después de crear la columna `ticket_classification`, elimina las columnas `sub_product` y `category`, ya que su información ahora está encapsulada en la nueva columna.\n",
    "    \n",
    "    5. **Limpieza de Datos en Columnas Específicas**:\n",
    "       Asegúrate de que la columna `complaint_what_happened` no contenga campos vacíos. Reemplaza esos campos vacíos con un valor que indique que los datos están ausentes (como `NaN`).\n",
    "    \n",
    "    6. **Eliminación de Filas con Datos Faltantes**:\n",
    "       Elimina todas las filas que tengan datos faltantes en las columnas críticas, es decir, `complaint_what_happened` y `ticket_classification`.\n",
    "    \n",
    "    7. **Reiniciar Índice**:\n",
    "       Finalmente, reinicia el índice del dataframe para asegurarte de que los índices sean consecutivos, lo cual es útil después de eliminar filas para mantener la consistencia y facilidad de acceso por índice.\n",
    "    8. **Guardar el DataFrame en un Archivo CSV**:\n",
    "   Guarda el DataFrame transformado en un archivo CSV. Elige un nombre de archivo que refleje el contenido del DataFrame y decide la ubicación más adecuada para guardar el archivo. Asegúrate de establecer el parámetro para no guardar el índice si no es necesario.\n"
   ]
  }
 ],
 "metadata": {
  "kernelspec": {
   "display_name": "Python 3 (ipykernel)",
   "language": "python",
   "name": "python3"
  },
  "language_info": {
   "codemirror_mode": {
    "name": "ipython",
    "version": 3
   },
   "file_extension": ".py",
   "mimetype": "text/x-python",
   "name": "python",
   "nbconvert_exporter": "python",
   "pygments_lexer": "ipython3",
   "version": "3.12.6"
  }
 },
 "nbformat": 4,
 "nbformat_minor": 4
}
