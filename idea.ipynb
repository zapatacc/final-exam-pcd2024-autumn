{
 "cells": [
  {
   "cell_type": "code",
   "execution_count": 55,
   "metadata": {},
   "outputs": [],
   "source": [
    "import mlflow\n",
    "import pandas as pd\n",
    "import pickle\n",
    "\n",
    "mlflow.set_tracking_uri(\"file:///tmp/mlruns\") \n",
    "\n",
    "def predict(data: dict):\n",
    "    # ID del run donde se encuentra el modelo y el LabelEncoder\n",
    "    run_id = \"1d229578028d4d7ab3e76a36a0bb3f79\"  # Asegúrate de usar el run_id correcto\n",
    "    logged_model = f\"runs:/{run_id}/pipeline_model\"\n",
    "\n",
    "    # Cargar el modelo Pipeline desde MLflow\n",
    "    loaded_model = mlflow.pyfunc.load_model(logged_model)\n",
    "\n",
    "    # Cargar el LabelEncoder desde el artefacto de MLflow\n",
    "    label_encoder_path = mlflow.artifacts.download_artifacts(run_id=run_id, artifact_path=\"label_encoder.pkl\")\n",
    "    with open(label_encoder_path, \"rb\") as f:\n",
    "        label_encoder = pickle.load(f)\n",
    "\n",
    "    # Convertir el texto en DataFrame\n",
    "    df = pd.DataFrame([data])\n",
    "\n",
    "    # Realizar la predicción\n",
    "    prediction_encoded = loaded_model.predict(df[\"complaint_what_happened\"])\n",
    "    prediction_decoded = label_encoder.inverse_transform(prediction_encoded)\n",
    "\n",
    "    return prediction_decoded\n"
   ]
  },
  {
   "cell_type": "code",
   "execution_count": 62,
   "metadata": {},
   "outputs": [
    {
     "data": {
      "text/plain": [
       "'Checking or savings account + Checking account'"
      ]
     },
     "execution_count": 62,
     "metadata": {},
     "output_type": "execute_result"
    }
   ],
   "source": [
    "data = {\"complaint_what_happened\": \"idk\"}\n",
    "predict(data)[0]"
   ]
  },
  {
   "cell_type": "code",
   "execution_count": null,
   "metadata": {},
   "outputs": [],
   "source": []
  }
 ],
 "metadata": {
  "kernelspec": {
   "display_name": ".venv",
   "language": "python",
   "name": "python3"
  },
  "language_info": {
   "codemirror_mode": {
    "name": "ipython",
    "version": 3
   },
   "file_extension": ".py",
   "mimetype": "text/x-python",
   "name": "python",
   "nbconvert_exporter": "python",
   "pygments_lexer": "ipython3",
   "version": "3.10.12"
  }
 },
 "nbformat": 4,
 "nbformat_minor": 2
}
