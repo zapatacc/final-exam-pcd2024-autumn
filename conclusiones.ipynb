{
 "cells": [
  {
   "cell_type": "markdown",
   "metadata": {},
   "source": [
    "# Conclusiones del proyecto de Maria Paula Pérez Romo"
   ]
  },
  {
   "cell_type": "markdown",
   "metadata": {},
   "source": [
    "* EDA: \n",
    " El EDA permitió identificar las principales características de los datos, como patrones, distribuciones, valores atípicos y relaciones entre variables, al igual que poder hacer el balanceo de las categorias. Este análisis inicial fue clave para definir la estrategia de ingeniería de características y ver de que se trataría todo el examen. "
   ]
  },
  {
   "cell_type": "markdown",
   "metadata": {},
   "source": [
    "* Ingenieria de caracteristicas: Se procesaron los datos para asegurar su forma, incluyendo la eliminación de valores faltantes y cambio de nombres de variables. Este paso fue crucial para garantizar que los modelos de machine learning trabajaran con datos consistentes y relevantes. Tambieíen se le aplico una vez hecho esto al dataframe una función la cual aplicaba diferentes acciones como hacer minisculas, quitar puntuaciones, lemantizar etc.., para poder meter los datos al modelo y que dieran un mejor resultado."
   ]
  },
  {
   "cell_type": "markdown",
   "metadata": {},
   "source": [
    "* Entrenamiento de modelos: \n",
    "Se entrenaron y evaluaron dos modelos: Logistic Regression y Suport Vector Classifier.\n",
    "Los experimentos fueron registrados en MLflow, lo que permitió comparar métricas como accuracy de manera eficiente.\n",
    "Se implementó hyperparameter tuning para optimizar ambos modelos con un gridsearch.\n",
    "El modelo SVC obtuvo el mejor desempeño con 59 % de accuracy y fue registrado como Champion, mientras que Logistic quedó como Challenger."
   ]
  },
  {
   "cell_type": "markdown",
   "metadata": {},
   "source": [
    "* Registro de modelos: Los modelos se registraron exitosamente en el Model Registry de MLflow. Esto asegura trazabilidad, versionamiento y la capacidad de desplegar el modelo Champion."
   ]
  },
  {
   "cell_type": "markdown",
   "metadata": {},
   "source": [
    "* Orquestacion: Se desarrolló un flujo con Prefect que hacia el preprocesamiento, entrenamiento, evaluación y registro de modelos en MLflow.\n"
   ]
  },
  {
   "cell_type": "markdown",
   "metadata": {},
   "source": [
    "* API: Se creó una API para servir el modelo Champion, permitiendo realizar predicciones de manera eficiente."
   ]
  },
  {
   "cell_type": "markdown",
   "metadata": {},
   "source": [
    "* Streamlit: Se implementó una interfaz sencilla pero funcional para interactuar con la API. Solo se ingresa el problema y te dice el tipo de ticket."
   ]
  },
  {
   "cell_type": "markdown",
   "metadata": {},
   "source": [
    "* Docker: Se modifico los contenedores hechos en clase para la API y el frontend, asegurando que ambas aplicaciones puedan ejecutarse de manera consistente en cualquier entorno."
   ]
  },
  {
   "cell_type": "markdown",
   "metadata": {},
   "source": [
    "Conclusiones: Creo que logré el objetivo del examen al desplegar el API y que hiciera predicciones de manera correcta. Espero haber seguido todos lod pasos de manera correcta."
   ]
  }
 ],
 "metadata": {
  "language_info": {
   "name": "python"
  }
 },
 "nbformat": 4,
 "nbformat_minor": 2
}
