{
 "cells": [
  {
   "cell_type": "code",
   "execution_count": 7,
   "metadata": {},
   "outputs": [],
   "source": [
    "import pickle\n",
    "import pandas as pd\n",
    "from pandas import DataFrame\n",
    "from sklearn.metrics import  root_mean_squared_error, accuracy_score,classification_report\n",
    "from sklearn.feature_extraction import  DictVectorizer\n",
    "from sklearn.linear_model import Lasso, Ridge, LinearRegression\n",
    "from sklearn.preprocessing import LabelEncoder\n",
    "from sklearn.model_selection import train_test_split\n",
    "from sklearn.feature_extraction.text import TfidfVectorizer\n",
    "import dagshub\n",
    "import mlflow\n",
    "from sklearn.linear_model import LogisticRegression\n",
    "from sklearn.svm import SVC\n",
    "from sklearn.neighbors import KNeighborsClassifier\n",
    "from mlflow.tracking import MlflowClient"
   ]
  },
  {
   "cell_type": "code",
   "execution_count": 8,
   "metadata": {},
   "outputs": [],
   "source": [
    "# Futuramente primera task leer los datos\n",
    "def readData(path:str) -> DataFrame:\n",
    "    return pd.read_csv(path)\n",
    "\n",
    "\n",
    "# Futuramente segunda task separar los datos en X y Y\n",
    "def prepareData(df:DataFrame): \n",
    "    return df[\"complaint_what_happened\"], df[\"ticket_classification\"]"
   ]
  },
  {
   "cell_type": "code",
   "execution_count": 9,
   "metadata": {},
   "outputs": [],
   "source": [
    "X,y = prepareData(readData(\"../data/clean_data/datatransformed.csv\"))\n",
    "\n",
    "\n",
    "# Todo esto sería la tercera task\n",
    "label_encoder = LabelEncoder()\n",
    "\n",
    "y_encoded = label_encoder.fit_transform(y)\n",
    "with open(\"label_encoder.pkl\", 'wb') as file:\n",
    "    pickle.dump(label_encoder, file)\n",
    "\n",
    "tfidf = TfidfVectorizer()\n",
    "X_vec = tfidf.fit_transform(X)\n",
    "with open(\"tfidf.pkl\", 'wb') as file:\n",
    "    pickle.dump(tfidf, file)\n",
    "\n",
    "X_train, X_test, y_train, y_test = train_test_split(X_vec,y_encoded, test_size=0.2, random_state=24, stratify=y_encoded)"
   ]
  },
  {
   "cell_type": "code",
   "execution_count": 10,
   "metadata": {},
   "outputs": [
    {
     "data": {
      "text/html": [
       "<pre style=\"white-space:pre;overflow-x:auto;line-height:normal;font-family:Menlo,'DejaVu Sans Mono',consolas,'Courier New',monospace\">Initialized MLflow to track repo <span style=\"color: #008000; text-decoration-color: #008000\">\"zapatacc/final-exam-pcd2024-autumn\"</span>\n",
       "</pre>\n"
      ],
      "text/plain": [
       "Initialized MLflow to track repo \u001b[32m\"zapatacc/final-exam-pcd2024-autumn\"\u001b[0m\n"
      ]
     },
     "metadata": {},
     "output_type": "display_data"
    },
    {
     "data": {
      "text/html": [
       "<pre style=\"white-space:pre;overflow-x:auto;line-height:normal;font-family:Menlo,'DejaVu Sans Mono',consolas,'Courier New',monospace\">Repository zapatacc/final-exam-pcd2024-autumn initialized!\n",
       "</pre>\n"
      ],
      "text/plain": [
       "Repository zapatacc/final-exam-pcd2024-autumn initialized!\n"
      ]
     },
     "metadata": {},
     "output_type": "display_data"
    },
    {
     "data": {
      "text/plain": [
       "<Experiment: artifact_location='mlflow-artifacts:/aed4eaf7a4a4473e95a7b7f7630a0b09', creation_time=1732246062368, experiment_id='33', last_update_time=1732246062368, lifecycle_stage='active', name='dafne-tamayo-experiments-prefect', tags={}>"
      ]
     },
     "execution_count": 10,
     "metadata": {},
     "output_type": "execute_result"
    }
   ],
   "source": [
    "dagshub.init(repo_owner='zapatacc', repo_name='final-exam-pcd2024-autumn', mlflow=True)\n",
    "MLFLOW_TRACKING_URI = mlflow.get_tracking_uri()\n",
    "mlflow.set_tracking_uri(MLFLOW_TRACKING_URI)\n",
    "mlflow.set_experiment(\"dafne-tamayo-experiments-prefect\")"
   ]
  },
  {
   "cell_type": "code",
   "execution_count": 85,
   "metadata": {},
   "outputs": [],
   "source": [
    "# Declaré models and params\n",
    "models = {\n",
    "    \"Logistic Regression\": (LogisticRegression, {\"penalty\": \"l2\", \"C\": 1.0, \"solver\": \"lbfgs\"}),\n",
    "    \"Support Vector Machine\": (SVC, {\"C\": 1.0, \"kernel\": \"rbf\", \"gamma\": \"scale\"}),\n",
    "    \"K-Nearest Neighbors\": (KNeighborsClassifier, {\"n_neighbors\": 5, \"weights\": \"uniform\"}),\n",
    "    \"K-Nearest Neighbors2\": (KNeighborsClassifier, {\"n_neighbors\": 5, \"weights\": \"distance\"})\n",
    "}"
   ]
  },
  {
   "cell_type": "code",
   "execution_count": 86,
   "metadata": {},
   "outputs": [
    {
     "name": "stderr",
     "output_type": "stream",
     "text": [
      "/Users/daftamayo/Documents/EXAMENPROYECTO/final-exam-pcd2024-autumn/myenv/lib/python3.12/site-packages/sklearn/metrics/_classification.py:1531: UndefinedMetricWarning: Precision is ill-defined and being set to 0.0 in labels with no predicted samples. Use `zero_division` parameter to control this behavior.\n",
      "  _warn_prf(average, modifier, f\"{metric.capitalize()} is\", len(result))\n",
      "/Users/daftamayo/Documents/EXAMENPROYECTO/final-exam-pcd2024-autumn/myenv/lib/python3.12/site-packages/sklearn/metrics/_classification.py:1531: UndefinedMetricWarning: Precision is ill-defined and being set to 0.0 in labels with no predicted samples. Use `zero_division` parameter to control this behavior.\n",
      "  _warn_prf(average, modifier, f\"{metric.capitalize()} is\", len(result))\n",
      "/Users/daftamayo/Documents/EXAMENPROYECTO/final-exam-pcd2024-autumn/myenv/lib/python3.12/site-packages/sklearn/metrics/_classification.py:1531: UndefinedMetricWarning: Precision is ill-defined and being set to 0.0 in labels with no predicted samples. Use `zero_division` parameter to control this behavior.\n",
      "  _warn_prf(average, modifier, f\"{metric.capitalize()} is\", len(result))\n",
      "2024/11/20 20:39:38 WARNING mlflow.models.model: Model logged without a signature and input example. Please set `input_example` parameter when logging the model to auto infer the model signature.\n"
     ]
    },
    {
     "name": "stdout",
     "output_type": "stream",
     "text": [
      "🏃 View run dafne-tamayo-Logistic Regression at: https://dagshub.com/zapatacc/final-exam-pcd2024-autumn.mlflow/#/experiments/8/runs/47e3a8eabcea439385b52a2ac7ccfa88\n",
      "🧪 View experiment at: https://dagshub.com/zapatacc/final-exam-pcd2024-autumn.mlflow/#/experiments/8\n"
     ]
    },
    {
     "name": "stderr",
     "output_type": "stream",
     "text": [
      "/Users/daftamayo/Documents/EXAMENPROYECTO/final-exam-pcd2024-autumn/myenv/lib/python3.12/site-packages/sklearn/metrics/_classification.py:1531: UndefinedMetricWarning: Precision is ill-defined and being set to 0.0 in labels with no predicted samples. Use `zero_division` parameter to control this behavior.\n",
      "  _warn_prf(average, modifier, f\"{metric.capitalize()} is\", len(result))\n",
      "/Users/daftamayo/Documents/EXAMENPROYECTO/final-exam-pcd2024-autumn/myenv/lib/python3.12/site-packages/sklearn/metrics/_classification.py:1531: UndefinedMetricWarning: Precision is ill-defined and being set to 0.0 in labels with no predicted samples. Use `zero_division` parameter to control this behavior.\n",
      "  _warn_prf(average, modifier, f\"{metric.capitalize()} is\", len(result))\n",
      "/Users/daftamayo/Documents/EXAMENPROYECTO/final-exam-pcd2024-autumn/myenv/lib/python3.12/site-packages/sklearn/metrics/_classification.py:1531: UndefinedMetricWarning: Precision is ill-defined and being set to 0.0 in labels with no predicted samples. Use `zero_division` parameter to control this behavior.\n",
      "  _warn_prf(average, modifier, f\"{metric.capitalize()} is\", len(result))\n",
      "2024/11/20 20:41:57 WARNING mlflow.models.model: Model logged without a signature and input example. Please set `input_example` parameter when logging the model to auto infer the model signature.\n"
     ]
    },
    {
     "name": "stdout",
     "output_type": "stream",
     "text": [
      "🏃 View run dafne-tamayo-Support Vector Machine at: https://dagshub.com/zapatacc/final-exam-pcd2024-autumn.mlflow/#/experiments/8/runs/9a358f2085c04230a44a1611ee222dc5\n",
      "🧪 View experiment at: https://dagshub.com/zapatacc/final-exam-pcd2024-autumn.mlflow/#/experiments/8\n"
     ]
    },
    {
     "name": "stderr",
     "output_type": "stream",
     "text": [
      "2024/11/20 20:42:07 WARNING mlflow.models.model: Model logged without a signature and input example. Please set `input_example` parameter when logging the model to auto infer the model signature.\n"
     ]
    },
    {
     "name": "stdout",
     "output_type": "stream",
     "text": [
      "🏃 View run dafne-tamayo-K-Nearest Neighbors at: https://dagshub.com/zapatacc/final-exam-pcd2024-autumn.mlflow/#/experiments/8/runs/6243d507f19a4a458abeb2b63ed3a741\n",
      "🧪 View experiment at: https://dagshub.com/zapatacc/final-exam-pcd2024-autumn.mlflow/#/experiments/8\n"
     ]
    },
    {
     "name": "stderr",
     "output_type": "stream",
     "text": [
      "2024/11/20 20:42:15 WARNING mlflow.models.model: Model logged without a signature and input example. Please set `input_example` parameter when logging the model to auto infer the model signature.\n"
     ]
    },
    {
     "name": "stdout",
     "output_type": "stream",
     "text": [
      "🏃 View run dafne-tamayo-K-Nearest Neighbors2 at: https://dagshub.com/zapatacc/final-exam-pcd2024-autumn.mlflow/#/experiments/8/runs/7a7fae480dbd4a979ce962b905a1deb6\n",
      "🧪 View experiment at: https://dagshub.com/zapatacc/final-exam-pcd2024-autumn.mlflow/#/experiments/8\n"
     ]
    }
   ],
   "source": [
    "for model_name, (model, params) in models.items():\n",
    "    with mlflow.start_run(run_name=f\"dafne-tamayo-{model_name}\"):\n",
    "        instance = model(**params)\n",
    "        \n",
    "        instance.fit(X_train, y_train)\n",
    "        y_pred = instance.predict(X_test)\n",
    "\n",
    "        accuracy = accuracy_score(y_test, y_pred)\n",
    "        report = classification_report(y_test, y_pred, output_dict=True)\n",
    "        with open (\"label_encoder.pkl\", 'wb') as file:\n",
    "            pickle.dump(label_encoder, file)\n",
    "        mlflow.log_artifact(\"label_encoder.pkl\")\n",
    "        \n",
    "        mlflow.log_params(params)\n",
    "        mlflow.log_metric(\"accuracy\", accuracy)\n",
    "        mlflow.sklearn.log_model(instance, artifact_path=f\"best_model_{model_name}\")"
   ]
  },
  {
   "cell_type": "code",
   "execution_count": 99,
   "metadata": {},
   "outputs": [
    {
     "data": {
      "text/html": [
       "<div>\n",
       "<style scoped>\n",
       "    .dataframe tbody tr th:only-of-type {\n",
       "        vertical-align: middle;\n",
       "    }\n",
       "\n",
       "    .dataframe tbody tr th {\n",
       "        vertical-align: top;\n",
       "    }\n",
       "\n",
       "    .dataframe thead th {\n",
       "        text-align: right;\n",
       "    }\n",
       "</style>\n",
       "<table border=\"1\" class=\"dataframe\">\n",
       "  <thead>\n",
       "    <tr style=\"text-align: right;\">\n",
       "      <th></th>\n",
       "      <th>index</th>\n",
       "      <th>run_id</th>\n",
       "      <th>experiment_id</th>\n",
       "      <th>status</th>\n",
       "      <th>artifact_uri</th>\n",
       "      <th>start_time</th>\n",
       "      <th>end_time</th>\n",
       "      <th>metrics.accuracy</th>\n",
       "      <th>params.C</th>\n",
       "      <th>params.gamma</th>\n",
       "      <th>params.kernel</th>\n",
       "      <th>params.penalty</th>\n",
       "      <th>params.solver</th>\n",
       "      <th>params.weights</th>\n",
       "      <th>params.n_neighbors</th>\n",
       "      <th>tags.mlflow.source.type</th>\n",
       "      <th>tags.mlflow.log-model.history</th>\n",
       "      <th>tags.mlflow.user</th>\n",
       "      <th>tags.mlflow.source.name</th>\n",
       "      <th>tags.mlflow.runName</th>\n",
       "    </tr>\n",
       "  </thead>\n",
       "  <tbody>\n",
       "    <tr>\n",
       "      <th>0</th>\n",
       "      <td>0</td>\n",
       "      <td>9a358f2085c04230a44a1611ee222dc5</td>\n",
       "      <td>8</td>\n",
       "      <td>FINISHED</td>\n",
       "      <td>mlflow-artifacts:/373176df8ec44033a983493ce72b...</td>\n",
       "      <td>2024-11-21 02:39:41.064000+00:00</td>\n",
       "      <td>2024-11-21 02:42:01.995000+00:00</td>\n",
       "      <td>0.655475</td>\n",
       "      <td>1.0</td>\n",
       "      <td>scale</td>\n",
       "      <td>rbf</td>\n",
       "      <td>None</td>\n",
       "      <td>None</td>\n",
       "      <td>None</td>\n",
       "      <td>None</td>\n",
       "      <td>LOCAL</td>\n",
       "      <td>[{\"run_id\": \"9a358f2085c04230a44a1611ee222dc5\"...</td>\n",
       "      <td>dafnetamayo</td>\n",
       "      <td>/Users/daftamayo/Documents/EXAMENPROYECTO/fina...</td>\n",
       "      <td>dafne-tamayo-Support Vector Machine</td>\n",
       "    </tr>\n",
       "    <tr>\n",
       "      <th>1</th>\n",
       "      <td>4</td>\n",
       "      <td>47e3a8eabcea439385b52a2ac7ccfa88</td>\n",
       "      <td>8</td>\n",
       "      <td>FINISHED</td>\n",
       "      <td>mlflow-artifacts:/373176df8ec44033a983493ce72b...</td>\n",
       "      <td>2024-11-21 02:39:32.384000+00:00</td>\n",
       "      <td>2024-11-21 02:39:40.650000+00:00</td>\n",
       "      <td>0.654567</td>\n",
       "      <td>1.0</td>\n",
       "      <td>None</td>\n",
       "      <td>None</td>\n",
       "      <td>l2</td>\n",
       "      <td>lbfgs</td>\n",
       "      <td>None</td>\n",
       "      <td>None</td>\n",
       "      <td>LOCAL</td>\n",
       "      <td>[{\"run_id\": \"47e3a8eabcea439385b52a2ac7ccfa88\"...</td>\n",
       "      <td>dafnetamayo</td>\n",
       "      <td>/Users/daftamayo/Documents/EXAMENPROYECTO/fina...</td>\n",
       "      <td>dafne-tamayo-Logistic Regression</td>\n",
       "    </tr>\n",
       "  </tbody>\n",
       "</table>\n",
       "</div>"
      ],
      "text/plain": [
       "   index                            run_id experiment_id    status  \\\n",
       "0      0  9a358f2085c04230a44a1611ee222dc5             8  FINISHED   \n",
       "1      4  47e3a8eabcea439385b52a2ac7ccfa88             8  FINISHED   \n",
       "\n",
       "                                        artifact_uri  \\\n",
       "0  mlflow-artifacts:/373176df8ec44033a983493ce72b...   \n",
       "1  mlflow-artifacts:/373176df8ec44033a983493ce72b...   \n",
       "\n",
       "                        start_time                         end_time  \\\n",
       "0 2024-11-21 02:39:41.064000+00:00 2024-11-21 02:42:01.995000+00:00   \n",
       "1 2024-11-21 02:39:32.384000+00:00 2024-11-21 02:39:40.650000+00:00   \n",
       "\n",
       "   metrics.accuracy params.C params.gamma params.kernel params.penalty  \\\n",
       "0          0.655475      1.0        scale           rbf           None   \n",
       "1          0.654567      1.0         None          None             l2   \n",
       "\n",
       "  params.solver params.weights params.n_neighbors tags.mlflow.source.type  \\\n",
       "0          None           None               None                   LOCAL   \n",
       "1         lbfgs           None               None                   LOCAL   \n",
       "\n",
       "                       tags.mlflow.log-model.history tags.mlflow.user  \\\n",
       "0  [{\"run_id\": \"9a358f2085c04230a44a1611ee222dc5\"...      dafnetamayo   \n",
       "1  [{\"run_id\": \"47e3a8eabcea439385b52a2ac7ccfa88\"...      dafnetamayo   \n",
       "\n",
       "                             tags.mlflow.source.name  \\\n",
       "0  /Users/daftamayo/Documents/EXAMENPROYECTO/fina...   \n",
       "1  /Users/daftamayo/Documents/EXAMENPROYECTO/fina...   \n",
       "\n",
       "                   tags.mlflow.runName  \n",
       "0  dafne-tamayo-Support Vector Machine  \n",
       "1     dafne-tamayo-Logistic Regression  "
      ]
     },
     "execution_count": 99,
     "metadata": {},
     "output_type": "execute_result"
    }
   ],
   "source": [
    "\n",
    "all_runs = mlflow.search_runs(\n",
    "    experiment_names=[\"dafne-tamayo-experiments\"],\n",
    "    order_by=[\"metrics.accuracy DESC\"],\n",
    ")\n",
    "\n",
    "bestsRun = all_runs.drop_duplicates(subset=\"metrics.accuracy\").head(2).reset_index()\n",
    "bestsRun"
   ]
  },
  {
   "cell_type": "code",
   "execution_count": 100,
   "metadata": {},
   "outputs": [
    {
     "name": "stderr",
     "output_type": "stream",
     "text": [
      "Registered model 'dafne-model' already exists. Creating a new version of this model...\n",
      "2024/11/20 20:55:11 INFO mlflow.store.model_registry.abstract_store: Waiting up to 300 seconds for model version to finish creation. Model name: dafne-model, version 7\n",
      "Created version '7' of model 'dafne-model'.\n",
      "/var/folders/f4/8xjydz814d5b98hfbbm_l9800000gn/T/ipykernel_8319/958345328.py:9: FutureWarning: ``mlflow.tracking.client.MlflowClient.get_latest_versions`` is deprecated since 2.9.0. Model registry stages will be removed in a future major release. To learn more about the deprecation of model registry stages, see our migration guide here: https://mlflow.org/docs/latest/model-registry.html#migrating-from-stages\n",
      "  model_version = client.get_latest_versions(name=model_name, stages=[\"None\"])[0].version\n",
      "Registered model 'dafne-model' already exists. Creating a new version of this model...\n",
      "2024/11/20 20:55:12 INFO mlflow.store.model_registry.abstract_store: Waiting up to 300 seconds for model version to finish creation. Model name: dafne-model, version 8\n",
      "Created version '8' of model 'dafne-model'.\n",
      "/var/folders/f4/8xjydz814d5b98hfbbm_l9800000gn/T/ipykernel_8319/958345328.py:24: FutureWarning: ``mlflow.tracking.client.MlflowClient.get_latest_versions`` is deprecated since 2.9.0. Model registry stages will be removed in a future major release. To learn more about the deprecation of model registry stages, see our migration guide here: https://mlflow.org/docs/latest/model-registry.html#migrating-from-stages\n",
      "  model_version = client.get_latest_versions(name=model_name, stages=[\"None\"])[0].version\n"
     ]
    }
   ],
   "source": [
    "client = MlflowClient()\n",
    "\n",
    "model_uri = f\"runs:/{bestsRun.run_id[1]}/model\"\n",
    "model_name = \"dafne-model\"\n",
    "\n",
    "registered_model = mlflow.register_model(model_uri=model_uri, name=model_name)\n",
    "\n",
    "# Agrega un alias \"champion\" al modelo registrado\n",
    "model_version = client.get_latest_versions(name=model_name, stages=[\"None\"])[0].version\n",
    "client.set_registered_model_alias(\n",
    "    name=model_name,\n",
    "    alias=\"challenger\",\n",
    "    version=model_version\n",
    ")\n",
    "\n",
    "###### \n",
    "\n",
    "model_uri = f\"runs:/{bestsRun.run_id[0]}/model\"\n",
    "model_name = \"dafne-model\"\n",
    "\n",
    "registered_model = mlflow.register_model(model_uri=model_uri, name=model_name)\n",
    "\n",
    "# Agrega un alias \"champion\" al modelo registrado\n",
    "model_version = client.get_latest_versions(name=model_name, stages=[\"None\"])[0].version\n",
    "client.set_registered_model_alias(\n",
    "    name=model_name,\n",
    "    alias=\"champion\",\n",
    "    version=model_version\n",
    ")"
   ]
  },
  {
   "cell_type": "markdown",
   "metadata": {},
   "source": [
    "Realizar búsqueda de hiperparámetros con GridSearch"
   ]
  },
  {
   "cell_type": "code",
   "execution_count": 11,
   "metadata": {},
   "outputs": [
    {
     "name": "stdout",
     "output_type": "stream",
     "text": [
      "Fitting 3 folds for each of 3 candidates, totalling 9 fits\n"
     ]
    },
    {
     "name": "stderr",
     "output_type": "stream",
     "text": [
      "/Users/daftamayo/Documents/EXAMENPROYECTO/final-exam-pcd2024-autumn/myenv/lib/python3.12/site-packages/sklearn/linear_model/_logistic.py:469: ConvergenceWarning: lbfgs failed to converge (status=1):\n",
      "STOP: TOTAL NO. of ITERATIONS REACHED LIMIT.\n",
      "\n",
      "Increase the number of iterations (max_iter) or scale the data as shown in:\n",
      "    https://scikit-learn.org/stable/modules/preprocessing.html\n",
      "Please also refer to the documentation for alternative solver options:\n",
      "    https://scikit-learn.org/stable/modules/linear_model.html#logistic-regression\n",
      "  n_iter_i = _check_optimize_result(\n",
      "/Users/daftamayo/Documents/EXAMENPROYECTO/final-exam-pcd2024-autumn/myenv/lib/python3.12/site-packages/sklearn/linear_model/_logistic.py:469: ConvergenceWarning: lbfgs failed to converge (status=1):\n",
      "STOP: TOTAL NO. of ITERATIONS REACHED LIMIT.\n",
      "\n",
      "Increase the number of iterations (max_iter) or scale the data as shown in:\n",
      "    https://scikit-learn.org/stable/modules/preprocessing.html\n",
      "Please also refer to the documentation for alternative solver options:\n",
      "    https://scikit-learn.org/stable/modules/linear_model.html#logistic-regression\n",
      "  n_iter_i = _check_optimize_result(\n",
      "/Users/daftamayo/Documents/EXAMENPROYECTO/final-exam-pcd2024-autumn/myenv/lib/python3.12/site-packages/sklearn/linear_model/_logistic.py:469: ConvergenceWarning: lbfgs failed to converge (status=1):\n",
      "STOP: TOTAL NO. of ITERATIONS REACHED LIMIT.\n",
      "\n",
      "Increase the number of iterations (max_iter) or scale the data as shown in:\n",
      "    https://scikit-learn.org/stable/modules/preprocessing.html\n",
      "Please also refer to the documentation for alternative solver options:\n",
      "    https://scikit-learn.org/stable/modules/linear_model.html#logistic-regression\n",
      "  n_iter_i = _check_optimize_result(\n",
      "/Users/daftamayo/Documents/EXAMENPROYECTO/final-exam-pcd2024-autumn/myenv/lib/python3.12/site-packages/sklearn/linear_model/_logistic.py:469: ConvergenceWarning: lbfgs failed to converge (status=1):\n",
      "STOP: TOTAL NO. of ITERATIONS REACHED LIMIT.\n",
      "\n",
      "Increase the number of iterations (max_iter) or scale the data as shown in:\n",
      "    https://scikit-learn.org/stable/modules/preprocessing.html\n",
      "Please also refer to the documentation for alternative solver options:\n",
      "    https://scikit-learn.org/stable/modules/linear_model.html#logistic-regression\n",
      "  n_iter_i = _check_optimize_result(\n",
      "2024/11/22 15:17:31 WARNING mlflow.models.model: Model logged without a signature and input example. Please set `input_example` parameter when logging the model to auto infer the model signature.\n"
     ]
    },
    {
     "name": "stdout",
     "output_type": "stream",
     "text": [
      "Model: Logistic Regression - Best Params: {'C': 10.0, 'penalty': 'l2', 'solver': 'lbfgs'} - Accuracy: 0.6675741076830006\n",
      "🏃 View run dafne-tamayo-Logistic Regression at: https://dagshub.com/zapatacc/final-exam-pcd2024-autumn.mlflow/#/experiments/33/runs/13988b3686ea4aeeb3d477ad56aaab3e\n",
      "🧪 View experiment at: https://dagshub.com/zapatacc/final-exam-pcd2024-autumn.mlflow/#/experiments/33\n",
      "Fitting 3 folds for each of 4 candidates, totalling 12 fits\n"
     ]
    },
    {
     "name": "stderr",
     "output_type": "stream",
     "text": [
      "/Users/daftamayo/Documents/EXAMENPROYECTO/final-exam-pcd2024-autumn/myenv/lib/python3.12/site-packages/sklearn/metrics/_classification.py:1531: UndefinedMetricWarning: Precision is ill-defined and being set to 0.0 in labels with no predicted samples. Use `zero_division` parameter to control this behavior.\n",
      "  _warn_prf(average, modifier, f\"{metric.capitalize()} is\", len(result))\n",
      "/Users/daftamayo/Documents/EXAMENPROYECTO/final-exam-pcd2024-autumn/myenv/lib/python3.12/site-packages/sklearn/metrics/_classification.py:1531: UndefinedMetricWarning: Precision is ill-defined and being set to 0.0 in labels with no predicted samples. Use `zero_division` parameter to control this behavior.\n",
      "  _warn_prf(average, modifier, f\"{metric.capitalize()} is\", len(result))\n",
      "/Users/daftamayo/Documents/EXAMENPROYECTO/final-exam-pcd2024-autumn/myenv/lib/python3.12/site-packages/sklearn/metrics/_classification.py:1531: UndefinedMetricWarning: Precision is ill-defined and being set to 0.0 in labels with no predicted samples. Use `zero_division` parameter to control this behavior.\n",
      "  _warn_prf(average, modifier, f\"{metric.capitalize()} is\", len(result))\n",
      "2024/11/22 15:23:22 WARNING mlflow.models.model: Model logged without a signature and input example. Please set `input_example` parameter when logging the model to auto infer the model signature.\n"
     ]
    },
    {
     "name": "stdout",
     "output_type": "stream",
     "text": [
      "Model: Support Vector Machine - Best Params: {'C': 1.0, 'gamma': 'scale', 'kernel': 'rbf'} - Accuracy: 0.6554748941318814\n",
      "🏃 View run dafne-tamayo-Support Vector Machine at: https://dagshub.com/zapatacc/final-exam-pcd2024-autumn.mlflow/#/experiments/33/runs/95bc9c71dbc944c395bb8d9587eba715\n",
      "🧪 View experiment at: https://dagshub.com/zapatacc/final-exam-pcd2024-autumn.mlflow/#/experiments/33\n",
      "Fitting 3 folds for each of 4 candidates, totalling 12 fits\n"
     ]
    },
    {
     "name": "stderr",
     "output_type": "stream",
     "text": [
      "2024/11/22 15:24:21 WARNING mlflow.models.model: Model logged without a signature and input example. Please set `input_example` parameter when logging the model to auto infer the model signature.\n"
     ]
    },
    {
     "name": "stdout",
     "output_type": "stream",
     "text": [
      "Model: K-Nearest Neighbors - Best Params: {'n_neighbors': 5, 'weights': 'distance'} - Accuracy: 0.5859044162129462\n",
      "🏃 View run dafne-tamayo-K-Nearest Neighbors at: https://dagshub.com/zapatacc/final-exam-pcd2024-autumn.mlflow/#/experiments/33/runs/c1efef64b00a415d8674e199bbde465e\n",
      "🧪 View experiment at: https://dagshub.com/zapatacc/final-exam-pcd2024-autumn.mlflow/#/experiments/33\n"
     ]
    }
   ],
   "source": [
    "from sklearn.model_selection import GridSearchCV\n",
    "from sklearn.metrics import accuracy_score, classification_report\n",
    "import mlflow\n",
    "import pickle\n",
    "\n",
    "models = {\n",
    "    \"Logistic Regression\": (\n",
    "        LogisticRegression,\n",
    "        {\"penalty\": [\"l2\"], \"C\": [0.1, 1.0, 10.0], \"solver\": [\"lbfgs\"]}\n",
    "    ),\n",
    "    \"Support Vector Machine\": (\n",
    "        SVC,\n",
    "        {\"C\": [0.1, 1.0], \"kernel\": [\"rbf\"], \"gamma\": [\"scale\", \"auto\"]}\n",
    "    ),\n",
    "    \"K-Nearest Neighbors\": (\n",
    "        KNeighborsClassifier,\n",
    "        {\"n_neighbors\": [3, 5], \"weights\": [\"uniform\", \"distance\"]}\n",
    "    )\n",
    "}\n",
    "\n",
    "for model_name, (model, param_grid) in models.items():\n",
    "    with mlflow.start_run(run_name=f\"dafne-tamayo-{model_name}\"):\n",
    "        grid_search = GridSearchCV(estimator=model(), param_grid=param_grid, cv=3, n_jobs=-1, verbose=1)\n",
    "        grid_search.fit(X_train, y_train)\n",
    "\n",
    "        best_model = grid_search.best_estimator_\n",
    "        best_params = grid_search.best_params_\n",
    "\n",
    "        y_pred = best_model.predict(X_test)\n",
    "        accuracy = accuracy_score(y_test, y_pred)\n",
    "        report = classification_report(y_test, y_pred, output_dict=True)\n",
    "        \n",
    "        # Registro en MLflow\n",
    "        mlflow.log_params(best_params)\n",
    "        mlflow.log_metric(\"accuracy\", accuracy)\n",
    "        mlflow.log_artifact(\"label_encoder.pkl\")\n",
    "        mlflow.log_artifact(\"tfidf.pkl\")\n",
    "        mlflow.sklearn.log_model(best_model, artifact_path=f\"best_model_{model_name}\")\n",
    "        print(f\"Model: {model_name} - Best Params: {best_params} - Accuracy: {accuracy}\")"
   ]
  },
  {
   "cell_type": "code",
   "execution_count": 12,
   "metadata": {},
   "outputs": [
    {
     "name": "stderr",
     "output_type": "stream",
     "text": [
      "Registered model 'dafne-model' already exists. Creating a new version of this model...\n",
      "2024/11/22 15:24:56 INFO mlflow.store.model_registry.abstract_store: Waiting up to 300 seconds for model version to finish creation. Model name: dafne-model, version 3\n",
      "Created version '3' of model 'dafne-model'.\n",
      "/var/folders/f4/8xjydz814d5b98hfbbm_l9800000gn/T/ipykernel_3410/2448702796.py:17: FutureWarning: ``mlflow.tracking.client.MlflowClient.get_latest_versions`` is deprecated since 2.9.0. Model registry stages will be removed in a future major release. To learn more about the deprecation of model registry stages, see our migration guide here: https://mlflow.org/docs/latest/model-registry.html#migrating-from-stages\n",
      "  model_version = client.get_latest_versions(name=model_name, stages=[\"None\"])[0].version\n",
      "Registered model 'dafne-model' already exists. Creating a new version of this model...\n",
      "2024/11/22 15:24:57 INFO mlflow.store.model_registry.abstract_store: Waiting up to 300 seconds for model version to finish creation. Model name: dafne-model, version 4\n",
      "Created version '4' of model 'dafne-model'.\n"
     ]
    }
   ],
   "source": [
    "client = MlflowClient()\n",
    "all_runs = mlflow.search_runs(\n",
    "    experiment_names=[\"dafne-tamayo-experiments-prefect\"],\n",
    "    order_by=[\"metrics.accuracy DESC\"],\n",
    ")\n",
    "\n",
    "bestsRun = all_runs.drop_duplicates(subset=\"metrics.accuracy\").head(2).reset_index()\n",
    "if len(bestsRun) < 2:\n",
    "    raise ValueError(\"No hay suficientes modelos para seleccionar champion y challenger.\")\n",
    "\n",
    "# Registrar modelos\n",
    "model_name = \"dafne-model\"\n",
    "\n",
    "for i, alias in enumerate([\"champion\", \"challenger\"]):\n",
    "    model_uri = f\"runs:/{bestsRun.run_id[i]}/best_model_Logistic Regression\"\n",
    "    registered_model = mlflow.register_model(model_uri=model_uri, name=model_name)\n",
    "    model_version = client.get_latest_versions(name=model_name, stages=[\"None\"])[0].version\n",
    "    client.set_registered_model_alias(name=model_name, alias=alias, version=model_version)"
   ]
  }
 ],
 "metadata": {
  "kernelspec": {
   "display_name": "myenv",
   "language": "python",
   "name": "python3"
  },
  "language_info": {
   "codemirror_mode": {
    "name": "ipython",
    "version": 3
   },
   "file_extension": ".py",
   "mimetype": "text/x-python",
   "name": "python",
   "nbconvert_exporter": "python",
   "pygments_lexer": "ipython3",
   "version": "3.12.4"
  }
 },
 "nbformat": 4,
 "nbformat_minor": 2
}
