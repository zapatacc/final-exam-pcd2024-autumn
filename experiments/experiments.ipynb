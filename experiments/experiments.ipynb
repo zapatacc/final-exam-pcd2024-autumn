{
 "cells": [
  {
   "cell_type": "code",
   "execution_count": 37,
   "metadata": {},
   "outputs": [],
   "source": [
    "import pickle\n",
    "import pandas as pd\n",
    "from pandas import DataFrame\n",
    "from sklearn.metrics import  root_mean_squared_error, accuracy_score,classification_report\n",
    "from sklearn.feature_extraction import  DictVectorizer\n",
    "from sklearn.linear_model import Lasso, Ridge, LinearRegression\n",
    "from sklearn.preprocessing import LabelEncoder\n",
    "from sklearn.model_selection import train_test_split\n",
    "from sklearn.feature_extraction.text import TfidfVectorizer\n",
    "import dagshub\n",
    "import mlflow\n",
    "from sklearn.linear_model import LogisticRegression\n",
    "from sklearn.svm import SVC\n",
    "from sklearn.neighbors import KNeighborsClassifier\n"
   ]
  },
  {
   "cell_type": "code",
   "execution_count": 38,
   "metadata": {},
   "outputs": [],
   "source": [
    "# Futuramente primera task leer los datos\n",
    "def readData(path:str) -> DataFrame:\n",
    "    return pd.read_csv(path)\n",
    "\n",
    "\n",
    "# Futuramente segunda task separar los datos en X y Y\n",
    "def prepareData(df:DataFrame): \n",
    "    return df[\"complaint_what_happened\"], df[\"ticket_classification\"]"
   ]
  },
  {
   "cell_type": "code",
   "execution_count": 49,
   "metadata": {},
   "outputs": [],
   "source": [
    "X,y = prepareData(readData(\"../data/clean_data/datatransformed.csv\"))\n",
    "\n",
    "\n",
    "# Todo esto seria la tercera task\n",
    "label_encoder = LabelEncoder()\n",
    "\n",
    "y_encoded = label_encoder.fit_transform(y)\n",
    "\n",
    "tfidf = TfidfVectorizer()\n",
    "X_vec = tfidf.fit_transform(X)\n",
    "\n",
    "X_train, X_test, y_train, y_test = train_test_split(X_vec,y_encoded, test_size=0.2, random_state=24, stratify=y_encoded)"
   ]
  },
  {
   "cell_type": "code",
   "execution_count": 50,
   "metadata": {},
   "outputs": [
    {
     "data": {
      "text/html": [
       "<pre style=\"white-space:pre;overflow-x:auto;line-height:normal;font-family:Menlo,'DejaVu Sans Mono',consolas,'Courier New',monospace\">Initialized MLflow to track repo <span style=\"color: #008000; text-decoration-color: #008000\">\"zapatacc/final-exam-pcd2024-autumn\"</span>\n",
       "</pre>\n"
      ],
      "text/plain": [
       "Initialized MLflow to track repo \u001b[32m\"zapatacc/final-exam-pcd2024-autumn\"\u001b[0m\n"
      ]
     },
     "metadata": {},
     "output_type": "display_data"
    },
    {
     "data": {
      "text/html": [
       "<pre style=\"white-space:pre;overflow-x:auto;line-height:normal;font-family:Menlo,'DejaVu Sans Mono',consolas,'Courier New',monospace\">Repository zapatacc/final-exam-pcd2024-autumn initialized!\n",
       "</pre>\n"
      ],
      "text/plain": [
       "Repository zapatacc/final-exam-pcd2024-autumn initialized!\n"
      ]
     },
     "metadata": {},
     "output_type": "display_data"
    },
    {
     "data": {
      "text/plain": [
       "<Experiment: artifact_location='mlflow-artifacts:/373176df8ec44033a983493ce72bbe15', creation_time=1732150480829, experiment_id='8', last_update_time=1732150480829, lifecycle_stage='active', name='dafne-tamayo-experiments', tags={}>"
      ]
     },
     "execution_count": 50,
     "metadata": {},
     "output_type": "execute_result"
    }
   ],
   "source": [
    "dagshub.init(repo_owner='zapatacc', repo_name='final-exam-pcd2024-autumn', mlflow=True)\n",
    "MLFLOW_TRACKING_URI = mlflow.get_tracking_uri()\n",
    "mlflow.set_tracking_uri(MLFLOW_TRACKING_URI)\n",
    "mlflow.set_experiment(\"dafne-tamayo-experiments\")"
   ]
  },
  {
   "cell_type": "code",
   "execution_count": 51,
   "metadata": {},
   "outputs": [],
   "source": [
    "# Declare models and params\n",
    "models = {\n",
    "    \"Logistic Regression\": (LogisticRegression, {\"penalty\": \"l2\", \"C\": 1.0, \"solver\": \"lbfgs\"}),\n",
    "    \"Support Vector Machine\": (SVC, {\"C\": 1.0, \"kernel\": \"rbf\", \"gamma\": \"scale\"}),\n",
    "    \"K-Nearest Neighbors\": (KNeighborsClassifier, {\"n_neighbors\": 5, \"weights\": \"uniform\"}),\n",
    "    \"K-Nearest Neighbors2\": (KNeighborsClassifier, {\"n_neighbors\": 5, \"weights\": \"distance\"})\n",
    "}"
   ]
  },
  {
   "cell_type": "code",
   "execution_count": 53,
   "metadata": {},
   "outputs": [
    {
     "name": "stderr",
     "output_type": "stream",
     "text": [
      "/Users/daftamayo/Documents/EXAMENPROYECTO/final-exam-pcd2024-autumn/myenv/lib/python3.12/site-packages/sklearn/metrics/_classification.py:1531: UndefinedMetricWarning: Precision is ill-defined and being set to 0.0 in labels with no predicted samples. Use `zero_division` parameter to control this behavior.\n",
      "  _warn_prf(average, modifier, f\"{metric.capitalize()} is\", len(result))\n",
      "/Users/daftamayo/Documents/EXAMENPROYECTO/final-exam-pcd2024-autumn/myenv/lib/python3.12/site-packages/sklearn/metrics/_classification.py:1531: UndefinedMetricWarning: Precision is ill-defined and being set to 0.0 in labels with no predicted samples. Use `zero_division` parameter to control this behavior.\n",
      "  _warn_prf(average, modifier, f\"{metric.capitalize()} is\", len(result))\n",
      "/Users/daftamayo/Documents/EXAMENPROYECTO/final-exam-pcd2024-autumn/myenv/lib/python3.12/site-packages/sklearn/metrics/_classification.py:1531: UndefinedMetricWarning: Precision is ill-defined and being set to 0.0 in labels with no predicted samples. Use `zero_division` parameter to control this behavior.\n",
      "  _warn_prf(average, modifier, f\"{metric.capitalize()} is\", len(result))\n",
      "2024/11/20 19:15:42 WARNING mlflow.models.model: Model logged without a signature and input example. Please set `input_example` parameter when logging the model to auto infer the model signature.\n"
     ]
    },
    {
     "name": "stdout",
     "output_type": "stream",
     "text": [
      "🏃 View run dafne-tamayo-Logistic Regression at: https://dagshub.com/zapatacc/final-exam-pcd2024-autumn.mlflow/#/experiments/8/runs/2d58ce85d783496da7fca1952f06b5af\n",
      "🧪 View experiment at: https://dagshub.com/zapatacc/final-exam-pcd2024-autumn.mlflow/#/experiments/8\n"
     ]
    },
    {
     "name": "stderr",
     "output_type": "stream",
     "text": [
      "/Users/daftamayo/Documents/EXAMENPROYECTO/final-exam-pcd2024-autumn/myenv/lib/python3.12/site-packages/sklearn/metrics/_classification.py:1531: UndefinedMetricWarning: Precision is ill-defined and being set to 0.0 in labels with no predicted samples. Use `zero_division` parameter to control this behavior.\n",
      "  _warn_prf(average, modifier, f\"{metric.capitalize()} is\", len(result))\n",
      "/Users/daftamayo/Documents/EXAMENPROYECTO/final-exam-pcd2024-autumn/myenv/lib/python3.12/site-packages/sklearn/metrics/_classification.py:1531: UndefinedMetricWarning: Precision is ill-defined and being set to 0.0 in labels with no predicted samples. Use `zero_division` parameter to control this behavior.\n",
      "  _warn_prf(average, modifier, f\"{metric.capitalize()} is\", len(result))\n",
      "/Users/daftamayo/Documents/EXAMENPROYECTO/final-exam-pcd2024-autumn/myenv/lib/python3.12/site-packages/sklearn/metrics/_classification.py:1531: UndefinedMetricWarning: Precision is ill-defined and being set to 0.0 in labels with no predicted samples. Use `zero_division` parameter to control this behavior.\n",
      "  _warn_prf(average, modifier, f\"{metric.capitalize()} is\", len(result))\n",
      "2024/11/20 19:18:02 WARNING mlflow.models.model: Model logged without a signature and input example. Please set `input_example` parameter when logging the model to auto infer the model signature.\n"
     ]
    },
    {
     "name": "stdout",
     "output_type": "stream",
     "text": [
      "🏃 View run dafne-tamayo-Support Vector Machine at: https://dagshub.com/zapatacc/final-exam-pcd2024-autumn.mlflow/#/experiments/8/runs/5c3235404243444d9be2520468c7c2a4\n",
      "🧪 View experiment at: https://dagshub.com/zapatacc/final-exam-pcd2024-autumn.mlflow/#/experiments/8\n"
     ]
    },
    {
     "name": "stderr",
     "output_type": "stream",
     "text": [
      "2024/11/20 19:18:09 WARNING mlflow.models.model: Model logged without a signature and input example. Please set `input_example` parameter when logging the model to auto infer the model signature.\n"
     ]
    },
    {
     "name": "stdout",
     "output_type": "stream",
     "text": [
      "🏃 View run dafne-tamayo-K-Nearest Neighbors at: https://dagshub.com/zapatacc/final-exam-pcd2024-autumn.mlflow/#/experiments/8/runs/0d07f96ff2354ca1ac1d603d299d3bbd\n",
      "🧪 View experiment at: https://dagshub.com/zapatacc/final-exam-pcd2024-autumn.mlflow/#/experiments/8\n"
     ]
    },
    {
     "name": "stderr",
     "output_type": "stream",
     "text": [
      "2024/11/20 19:18:20 WARNING mlflow.models.model: Model logged without a signature and input example. Please set `input_example` parameter when logging the model to auto infer the model signature.\n"
     ]
    },
    {
     "name": "stdout",
     "output_type": "stream",
     "text": [
      "🏃 View run dafne-tamayo-K-Nearest Neighbors2 at: https://dagshub.com/zapatacc/final-exam-pcd2024-autumn.mlflow/#/experiments/8/runs/e0753c2f66a040d7826cfbfa8e2ccdd1\n",
      "🧪 View experiment at: https://dagshub.com/zapatacc/final-exam-pcd2024-autumn.mlflow/#/experiments/8\n"
     ]
    }
   ],
   "source": [
    "for model_name, (model, params) in models.items():\n",
    "    with mlflow.start_run(run_name=f\"dafne-tamayo-{model_name}\"):\n",
    "        instance = model(**params)\n",
    "        \n",
    "        instance.fit(X_train, y_train)\n",
    "        y_pred = instance.predict(X_test)\n",
    "\n",
    "        accuracy = accuracy_score(y_test, y_pred)\n",
    "        report = classification_report(y_test, y_pred, output_dict=True)\n",
    "        with open (\"label_encoder.pkl\", 'wb') as file:\n",
    "            pickle.dump(label_encoder, file)\n",
    "        mlflow.log_artifact(\"label_encoder.pkl\")\n",
    "        \n",
    "        mlflow.log_params(params)\n",
    "        mlflow.log_metric(\"accuracy\", accuracy)\n",
    "        mlflow.sklearn.log_model(instance, artifact_path=f\"best_model_{model_name}\")"
   ]
  },
  {
   "cell_type": "code",
   "execution_count": 62,
   "metadata": {},
   "outputs": [],
   "source": [
    "import mlflow\n",
    "\n",
    "all_runs = mlflow.search_runs(\n",
    "    experiment_names=[\"dafne-tamayo-experiments\"],\n",
    "    order_by=[\"metrics.accuracy DESC\"],\n",
    ")\n",
    "\n",
    "bestRun = all_runs.run_id[0]"
   ]
  },
  {
   "cell_type": "code",
   "execution_count": null,
   "metadata": {},
   "outputs": [],
   "source": []
  }
 ],
 "metadata": {
  "kernelspec": {
   "display_name": "myenv",
   "language": "python",
   "name": "python3"
  },
  "language_info": {
   "codemirror_mode": {
    "name": "ipython",
    "version": 3
   },
   "file_extension": ".py",
   "mimetype": "text/x-python",
   "name": "python",
   "nbconvert_exporter": "python",
   "pygments_lexer": "ipython3",
   "version": "3.12.4"
  }
 },
 "nbformat": 4,
 "nbformat_minor": 2
}
