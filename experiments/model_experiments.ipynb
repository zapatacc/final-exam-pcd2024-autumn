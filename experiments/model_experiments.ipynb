{
 "cells": [
  {
   "metadata": {},
   "cell_type": "markdown",
   "source": "## Model Experiments",
   "id": "43ec271299af3fbb"
  },
  {
   "metadata": {},
   "cell_type": "markdown",
   "source": "Ahora llevaremos a cabo una serie de experimentos para entrenar y evaluar los modelos para clasificación de texto. Y elegiremos cuál es el mejor y los loggearemos a MLflow",
   "id": "bdedbbf6f1209dc5"
  },
  {
   "metadata": {},
   "cell_type": "markdown",
   "source": "Importamos librerías",
   "id": "d8a5d8d1c0828177"
  },
  {
   "cell_type": "code",
   "id": "initial_id",
   "metadata": {
    "collapsed": true,
    "ExecuteTime": {
     "end_time": "2024-11-21T19:10:53.110042Z",
     "start_time": "2024-11-21T19:10:52.318596Z"
    }
   },
   "source": [
    "from sklearn.model_selection import train_test_split, GridSearchCV\n",
    "from sklearn.feature_extraction.text import TfidfVectorizer\n",
    "from sklearn.linear_model import LogisticRegression\n",
    "from sklearn.svm import SVC\n",
    "from sklearn.metrics import accuracy_score, classification_report\n",
    "\n",
    "import mlflow\n",
    "import mlflow.sklearn\n",
    "from mlflow.tracking import MlflowClient\n",
    "\n",
    "import warnings\n",
    "warnings.filterwarnings('ignore')\n",
    "import pandas as pd"
   ],
   "outputs": [],
   "execution_count": 1
  },
  {
   "metadata": {},
   "cell_type": "markdown",
   "source": "Configuramos MLflow con DagsHub para rastrear y registrar nuestros experimentos.",
   "id": "b980cfc8e79c3586"
  },
  {
   "metadata": {
    "ExecuteTime": {
     "end_time": "2024-11-21T19:11:14.223631Z",
     "start_time": "2024-11-21T19:11:13.481542Z"
    }
   },
   "cell_type": "code",
   "source": [
    "import dagshub\n",
    "dagshub.init(repo_owner='zapatacc', repo_name='final-exam-pcd2024-autumn', mlflow=True)"
   ],
   "id": "c7119c72805eea2",
   "outputs": [
    {
     "data": {
      "text/plain": [
       "Accessing as JuanPab2009\n"
      ],
      "text/html": [
       "<pre style=\"white-space:pre;overflow-x:auto;line-height:normal;font-family:Menlo,'DejaVu Sans Mono',consolas,'Courier New',monospace\">Accessing as JuanPab2009\n",
       "</pre>\n"
      ]
     },
     "metadata": {},
     "output_type": "display_data"
    },
    {
     "data": {
      "text/plain": [
       "Initialized MLflow to track repo \u001B[32m\"zapatacc/final-exam-pcd2024-autumn\"\u001B[0m\n"
      ],
      "text/html": [
       "<pre style=\"white-space:pre;overflow-x:auto;line-height:normal;font-family:Menlo,'DejaVu Sans Mono',consolas,'Courier New',monospace\">Initialized MLflow to track repo <span style=\"color: #008000; text-decoration-color: #008000\">\"zapatacc/final-exam-pcd2024-autumn\"</span>\n",
       "</pre>\n"
      ]
     },
     "metadata": {},
     "output_type": "display_data"
    },
    {
     "data": {
      "text/plain": [
       "Repository zapatacc/final-exam-pcd2024-autumn initialized!\n"
      ],
      "text/html": [
       "<pre style=\"white-space:pre;overflow-x:auto;line-height:normal;font-family:Menlo,'DejaVu Sans Mono',consolas,'Courier New',monospace\">Repository zapatacc/final-exam-pcd2024-autumn initialized!\n",
       "</pre>\n"
      ]
     },
     "metadata": {},
     "output_type": "display_data"
    }
   ],
   "execution_count": 2
  },
  {
   "metadata": {},
   "cell_type": "markdown",
   "source": "Cargamos los datos procesados",
   "id": "1f37893ce789da06"
  },
  {
   "metadata": {
    "ExecuteTime": {
     "end_time": "2024-11-21T00:53:27.113025Z",
     "start_time": "2024-11-21T00:53:26.969898Z"
    }
   },
   "cell_type": "code",
   "source": [
    "df = pd.read_csv('../data/processed_data/processed_tickets.csv')\n",
    "\n",
    "df.head()"
   ],
   "id": "8b0514708b7e42d9",
   "outputs": [
    {
     "data": {
      "text/plain": [
       "                             complaint_what_happened  \\\n",
       "0  good morning name appreciate could help put st...   \n",
       "1  upgraded card //2018 told agent upgrade annive...   \n",
       "2  //2018 , trying book ticket , came across offe...   \n",
       "3  grand son give check { $ 1600.00 } deposit cha...   \n",
       "4                              please remove inquiry   \n",
       "\n",
       "                               ticket_classification  \n",
       "0                 Debt collection + Credit card debt  \n",
       "1  Credit card or prepaid card + General-purpose ...  \n",
       "2  Credit reporting, credit repair services, or o...  \n",
       "3     Checking or savings account + Checking account  \n",
       "4  Credit reporting, credit repair services, or o...  "
      ],
      "text/html": [
       "<div>\n",
       "<style scoped>\n",
       "    .dataframe tbody tr th:only-of-type {\n",
       "        vertical-align: middle;\n",
       "    }\n",
       "\n",
       "    .dataframe tbody tr th {\n",
       "        vertical-align: top;\n",
       "    }\n",
       "\n",
       "    .dataframe thead th {\n",
       "        text-align: right;\n",
       "    }\n",
       "</style>\n",
       "<table border=\"1\" class=\"dataframe\">\n",
       "  <thead>\n",
       "    <tr style=\"text-align: right;\">\n",
       "      <th></th>\n",
       "      <th>complaint_what_happened</th>\n",
       "      <th>ticket_classification</th>\n",
       "    </tr>\n",
       "  </thead>\n",
       "  <tbody>\n",
       "    <tr>\n",
       "      <th>0</th>\n",
       "      <td>good morning name appreciate could help put st...</td>\n",
       "      <td>Debt collection + Credit card debt</td>\n",
       "    </tr>\n",
       "    <tr>\n",
       "      <th>1</th>\n",
       "      <td>upgraded card //2018 told agent upgrade annive...</td>\n",
       "      <td>Credit card or prepaid card + General-purpose ...</td>\n",
       "    </tr>\n",
       "    <tr>\n",
       "      <th>2</th>\n",
       "      <td>//2018 , trying book ticket , came across offe...</td>\n",
       "      <td>Credit reporting, credit repair services, or o...</td>\n",
       "    </tr>\n",
       "    <tr>\n",
       "      <th>3</th>\n",
       "      <td>grand son give check { $ 1600.00 } deposit cha...</td>\n",
       "      <td>Checking or savings account + Checking account</td>\n",
       "    </tr>\n",
       "    <tr>\n",
       "      <th>4</th>\n",
       "      <td>please remove inquiry</td>\n",
       "      <td>Credit reporting, credit repair services, or o...</td>\n",
       "    </tr>\n",
       "  </tbody>\n",
       "</table>\n",
       "</div>"
      ]
     },
     "execution_count": 4,
     "metadata": {},
     "output_type": "execute_result"
    }
   ],
   "execution_count": 4
  },
  {
   "metadata": {},
   "cell_type": "markdown",
   "source": "Seleccionamos las columnas que utilizaremos como variables independientes (X) y la variable dependiente (y) para el modelado.",
   "id": "787db6deb7522ff5"
  },
  {
   "metadata": {
    "ExecuteTime": {
     "end_time": "2024-11-21T00:54:51.378741Z",
     "start_time": "2024-11-21T00:54:51.354681Z"
    }
   },
   "cell_type": "code",
   "source": [
    "X = df['complaint_what_happened']\n",
    "y = df['ticket_classification']\n",
    "\n",
    "X_train, X_test, y_train, y_test = train_test_split(\n",
    "    X, y, test_size=0.2, random_state=42, stratify=y\n",
    ")"
   ],
   "id": "21f1170862e5222d",
   "outputs": [],
   "execution_count": 5
  },
  {
   "metadata": {},
   "cell_type": "markdown",
   "source": "Ahora vamos a convertir el texto en una representación númerica, vectorizando con TF-IDF. Esto nos va a permitir alimentar los datos textuales a los modelos.",
   "id": "63299075b6387c47"
  },
  {
   "metadata": {
    "ExecuteTime": {
     "end_time": "2024-11-21T00:55:40.034756Z",
     "start_time": "2024-11-21T00:55:39.129400Z"
    }
   },
   "cell_type": "code",
   "source": [
    "# Inicializar el vectorizador TF-IDF\n",
    "tfidf_vectorizer = TfidfVectorizer(max_features=5000)\n",
    "\n",
    "# Ajustar y transformar los datos de entrenamiento\n",
    "X_train_tfidf = tfidf_vectorizer.fit_transform(X_train)\n",
    "\n",
    "# Transformar los datos de prueba\n",
    "X_test_tfidf = tfidf_vectorizer.transform(X_test)\n"
   ],
   "id": "6954b394935b1800",
   "outputs": [],
   "execution_count": 6
  },
  {
   "metadata": {},
   "cell_type": "markdown",
   "source": "Ahora haremos nuestro primer experimento",
   "id": "b6806c9529e2b8b8"
  },
  {
   "metadata": {
    "ExecuteTime": {
     "end_time": "2024-11-21T00:56:49.372670Z",
     "start_time": "2024-11-21T00:56:48.704361Z"
    }
   },
   "cell_type": "code",
   "source": "mlflow.set_experiment('juan-blanco-logistic-regression')\n",
   "id": "cab1c11ee91b41d3",
   "outputs": [
    {
     "name": "stderr",
     "output_type": "stream",
     "text": [
      "2024/11/20 18:56:49 INFO mlflow.tracking.fluent: Experiment with name 'juan-blanco-logistic-regression' does not exist. Creating a new experiment.\n"
     ]
    },
    {
     "data": {
      "text/plain": [
       "<Experiment: artifact_location='mlflow-artifacts:/33a06b90f9704c8da6f10c2af583fb9e', creation_time=1732150609288, experiment_id='9', last_update_time=1732150609288, lifecycle_stage='active', name='juan-blanco-logistic-regression', tags={}>"
      ]
     },
     "execution_count": 7,
     "metadata": {},
     "output_type": "execute_result"
    }
   ],
   "execution_count": 7
  },
  {
   "metadata": {},
   "cell_type": "markdown",
   "source": "### Modelo base logistic regression",
   "id": "7f249cb325b82fa6"
  },
  {
   "metadata": {},
   "cell_type": "markdown",
   "source": "Primero vamos a entrenar un modelo básico de Regresión Logística y registraremos sus métricas y artefactos a MLflow.",
   "id": "cd319ef62975a0c2"
  },
  {
   "metadata": {
    "ExecuteTime": {
     "end_time": "2024-11-21T00:57:15.654301Z",
     "start_time": "2024-11-21T00:57:06.747570Z"
    }
   },
   "cell_type": "code",
   "source": [
    "with mlflow.start_run(run_name='LogisticRegression_Baseline'):\n",
    "    lr_model = LogisticRegression(max_iter=1000)\n",
    "    \n",
    "    # Entrenar el modelo\n",
    "    lr_model.fit(X_train_tfidf, y_train)\n",
    "    \n",
    "    # Hacer predicciones\n",
    "    y_pred = lr_model.predict(X_test_tfidf)\n",
    "    \n",
    "    # Calcular métricas\n",
    "    accuracy = accuracy_score(y_test, y_pred)\n",
    "    report = classification_report(y_test, y_pred, output_dict=True)\n",
    "    \n",
    "    # Registrar métrica\n",
    "    mlflow.log_metric('accuracy', accuracy)\n",
    "    \n",
    "    # Registrar el modelo\n",
    "    mlflow.sklearn.log_model(lr_model, 'logistic_regression_model')\n",
    "    \n",
    "    # Imprimir resultados\n",
    "    print(f\"Accuracy: {accuracy}\")\n",
    "    print(classification_report(y_test, y_pred))\n"
   ],
   "id": "31e07329332e92a4",
   "outputs": [
    {
     "name": "stderr",
     "output_type": "stream",
     "text": [
      "2024/11/20 18:57:11 WARNING mlflow.models.model: Model logged without a signature and input example. Please set `input_example` parameter when logging the model to auto infer the model signature.\n"
     ]
    },
    {
     "name": "stdout",
     "output_type": "stream",
     "text": [
      "Accuracy: 0.6144678492239468\n",
      "                                                                                                 precision    recall  f1-score   support\n",
      "\n",
      "                                                     Bank account or service + Checking account       0.66      0.22      0.34       249\n",
      "                                           Bank account or service + Other bank product/service       0.00      0.00      0.00        60\n",
      "                                                 Checking or savings account + Checking account       0.60      0.89      0.72       758\n",
      "                                 Checking or savings account + Other banking product or service       0.00      0.00      0.00        48\n",
      "                                                  Checking or savings account + Savings account       0.60      0.13      0.21        46\n",
      "                                                                   Consumer Loan + Vehicle loan       0.67      0.06      0.11        35\n",
      "                       Credit card or prepaid card + General-purpose credit card or charge card       0.75      0.89      0.81       984\n",
      "Credit reporting, credit repair services, or other personal consumer reports + Credit reporting       0.65      0.76      0.70       402\n",
      "                                                                  Debt collection + Credit card       0.45      0.23      0.30        44\n",
      "                                                             Debt collection + Credit card debt       0.43      0.26      0.32        86\n",
      "                                                                Debt collection + I do not know       0.00      0.00      0.00        17\n",
      "              Money transfer, virtual currency, or money service + Domestic (US) money transfer       0.47      0.22      0.30        69\n",
      "              Money transfer, virtual currency, or money service + International money transfer       0.50      0.09      0.15        22\n",
      "                  Money transfer, virtual currency, or money service + Mobile or digital wallet       0.36      0.10      0.16        39\n",
      "                                              Mortgage + Conventional adjustable mortgage (ARM)       0.20      0.02      0.03        56\n",
      "                                                         Mortgage + Conventional fixed mortgage       0.32      0.34      0.33       157\n",
      "                                                          Mortgage + Conventional home mortgage       0.38      0.61      0.46       191\n",
      "                                                                        Mortgage + FHA mortgage       0.35      0.27      0.31        99\n",
      "                                                  Mortgage + Home equity loan or line of credit       0.50      0.09      0.16        32\n",
      "                                          Mortgage + Home equity loan or line of credit (HELOC)       0.60      0.09      0.16        33\n",
      "                                                                      Mortgage + Other mortgage       0.00      0.00      0.00        38\n",
      "                                                              Mortgage + Other type of mortgage       0.00      0.00      0.00        22\n",
      "                                                                         Mortgage + VA mortgage       0.00      0.00      0.00        19\n",
      "                                                        Student loan + Non-federal student loan       0.91      0.48      0.62        21\n",
      "                                                                  Vehicle loan or lease + Lease       0.87      0.54      0.67        24\n",
      "                                                                   Vehicle loan or lease + Loan       0.53      0.46      0.49        57\n",
      "\n",
      "                                                                                       accuracy                           0.61      3608\n",
      "                                                                                      macro avg       0.42      0.26      0.28      3608\n",
      "                                                                                   weighted avg       0.57      0.61      0.56      3608\n",
      "\n",
      "🏃 View run LogisticRegression_Baseline at: https://dagshub.com/zapatacc/final-exam-pcd2024-autumn.mlflow/#/experiments/9/runs/761c8dde7f1e4fa2b94de721ad72dbbc\n",
      "🧪 View experiment at: https://dagshub.com/zapatacc/final-exam-pcd2024-autumn.mlflow/#/experiments/9\n"
     ]
    }
   ],
   "execution_count": 8
  },
  {
   "metadata": {},
   "cell_type": "markdown",
   "source": "Obtuvimos un Accuracy de 0.6144 que es bastante bueno para una regresión logística básica y tardó relativamente muy poco.",
   "id": "520d596b021e9414"
  },
  {
   "metadata": {},
   "cell_type": "markdown",
   "source": "### Modelo con Hyperparameter Tuning de Regresión Logística",
   "id": "7bd4690bf250c3a"
  },
  {
   "metadata": {},
   "cell_type": "markdown",
   "source": "Ahora vamos a hacer una Regresión Logística con una busqueda de hiperparámetros utilizando GridSearchCV para poder optimizar el rendimiento del modelo.",
   "id": "62fc3d3bfefef95d"
  },
  {
   "metadata": {
    "ExecuteTime": {
     "end_time": "2024-11-21T01:14:22.648667Z",
     "start_time": "2024-11-21T01:14:22.642037Z"
    }
   },
   "cell_type": "code",
   "source": [
    "# Hiperparámetros a probar\n",
    "param_grid_lr = {\n",
    "    'C': [0.1, 1, 10],          # Parámetro de regularización inversa\n",
    "    'penalty': ['l1', 'l2'],    # Tipos de penalización\n",
    "    'solver': ['liblinear']     # Solvers que soportan penalización L1\n",
    "}\n",
    "\n",
    "# Configurar GridSearchCV\n",
    "grid_search_lr = GridSearchCV(\n",
    "    LogisticRegression(max_iter=1000),\n",
    "    param_grid_lr,\n",
    "    cv=5,\n",
    "    scoring='accuracy',\n",
    "    n_jobs=-1\n",
    ")"
   ],
   "id": "c4ac90caa9a3c11f",
   "outputs": [],
   "execution_count": 9
  },
  {
   "metadata": {},
   "cell_type": "markdown",
   "source": "Ahora vamos a entrenar el modelo con diferentes combinaciones de hiperparámetros, identificamos el mejor modelo y lo loggeamos.",
   "id": "69d8ea629260ada5"
  },
  {
   "metadata": {
    "ExecuteTime": {
     "end_time": "2024-11-21T01:15:20.637767Z",
     "start_time": "2024-11-21T01:14:53.468567Z"
    }
   },
   "cell_type": "code",
   "source": [
    "# Iniciar un run de mlflow\n",
    "with mlflow.start_run(run_name='LogisticRegression_Tuning'):\n",
    "    # Entrenar con diferentes hiperparámetros\n",
    "    grid_search_lr.fit(X_train_tfidf, y_train)\n",
    "    \n",
    "    # Mejor modelo\n",
    "    best_lr_model = grid_search_lr.best_estimator_\n",
    "    \n",
    "    # Hacer predicciones\n",
    "    y_pred = best_lr_model.predict(X_test_tfidf)\n",
    "    \n",
    "    # Calcular métricas\n",
    "    accuracy = accuracy_score(y_test, y_pred)\n",
    "    report = classification_report(y_test, y_pred, output_dict=True)\n",
    "    \n",
    "    # Registrar métricas y parámetros\n",
    "    mlflow.log_params(grid_search_lr.best_params_)\n",
    "    mlflow.log_metric('accuracy', accuracy)\n",
    "    \n",
    "    # Registrar el modelo\n",
    "    mlflow.sklearn.log_model(best_lr_model, 'best_logistic_regression_model')\n",
    "    \n",
    "    # Imprimir resultados\n",
    "    print(f\"Best Params: {grid_search_lr.best_params_}\")\n",
    "    print(f\"Accuracy: {accuracy}\")\n",
    "    print(classification_report(y_test, y_pred))\n"
   ],
   "id": "b9b0b91d16529f4e",
   "outputs": [
    {
     "name": "stderr",
     "output_type": "stream",
     "text": [
      "2024/11/20 19:15:16 WARNING mlflow.models.model: Model logged without a signature and input example. Please set `input_example` parameter when logging the model to auto infer the model signature.\n"
     ]
    },
    {
     "name": "stdout",
     "output_type": "stream",
     "text": [
      "Best Params: {'C': 10, 'penalty': 'l2', 'solver': 'liblinear'}\n",
      "Accuracy: 0.6122505543237251\n",
      "                                                                                                 precision    recall  f1-score   support\n",
      "\n",
      "                                                     Bank account or service + Checking account       0.49      0.31      0.38       249\n",
      "                                           Bank account or service + Other bank product/service       0.25      0.05      0.08        60\n",
      "                                                 Checking or savings account + Checking account       0.63      0.82      0.71       758\n",
      "                                 Checking or savings account + Other banking product or service       0.14      0.02      0.04        48\n",
      "                                                  Checking or savings account + Savings account       0.42      0.22      0.29        46\n",
      "                                                                   Consumer Loan + Vehicle loan       0.45      0.14      0.22        35\n",
      "                       Credit card or prepaid card + General-purpose credit card or charge card       0.76      0.87      0.81       984\n",
      "Credit reporting, credit repair services, or other personal consumer reports + Credit reporting       0.66      0.74      0.70       402\n",
      "                                                                  Debt collection + Credit card       0.54      0.32      0.40        44\n",
      "                                                             Debt collection + Credit card debt       0.51      0.36      0.42        86\n",
      "                                                                Debt collection + I do not know       0.33      0.06      0.10        17\n",
      "              Money transfer, virtual currency, or money service + Domestic (US) money transfer       0.45      0.26      0.33        69\n",
      "              Money transfer, virtual currency, or money service + International money transfer       0.73      0.36      0.48        22\n",
      "                  Money transfer, virtual currency, or money service + Mobile or digital wallet       0.38      0.21      0.27        39\n",
      "                                              Mortgage + Conventional adjustable mortgage (ARM)       0.29      0.14      0.19        56\n",
      "                                                         Mortgage + Conventional fixed mortgage       0.29      0.31      0.30       157\n",
      "                                                          Mortgage + Conventional home mortgage       0.39      0.51      0.44       191\n",
      "                                                                        Mortgage + FHA mortgage       0.32      0.31      0.32        99\n",
      "                                                  Mortgage + Home equity loan or line of credit       0.53      0.25      0.34        32\n",
      "                                          Mortgage + Home equity loan or line of credit (HELOC)       0.43      0.18      0.26        33\n",
      "                                                                      Mortgage + Other mortgage       0.10      0.03      0.04        38\n",
      "                                                              Mortgage + Other type of mortgage       0.00      0.00      0.00        22\n",
      "                                                                         Mortgage + VA mortgage       0.50      0.05      0.10        19\n",
      "                                                        Student loan + Non-federal student loan       0.93      0.67      0.78        21\n",
      "                                                                  Vehicle loan or lease + Lease       0.74      0.58      0.65        24\n",
      "                                                                   Vehicle loan or lease + Loan       0.56      0.49      0.52        57\n",
      "\n",
      "                                                                                       accuracy                           0.61      3608\n",
      "                                                                                      macro avg       0.45      0.32      0.35      3608\n",
      "                                                                                   weighted avg       0.58      0.61      0.58      3608\n",
      "\n",
      "🏃 View run LogisticRegression_Tuning at: https://dagshub.com/zapatacc/final-exam-pcd2024-autumn.mlflow/#/experiments/9/runs/3229e08788c749bc9a23fcba794a4e89\n",
      "🧪 View experiment at: https://dagshub.com/zapatacc/final-exam-pcd2024-autumn.mlflow/#/experiments/9\n"
     ]
    }
   ],
   "execution_count": 10
  },
  {
   "metadata": {},
   "cell_type": "markdown",
   "source": "Optuvimos un accuracy ligeramente inferior al modelo base de regresión logística, y tardó más, por lo que este modelo lo podemos descartar de simple vista para nuestro champion.",
   "id": "49f345cd7158692d"
  },
  {
   "metadata": {},
   "cell_type": "markdown",
   "source": "### Modelo SVC",
   "id": "50cacf527702c0f8"
  },
  {
   "metadata": {},
   "cell_type": "markdown",
   "source": "Ahora haremos un modelo básico de Suport Vector Machine, este modelo suele ser bueno en problemas de clasificación ya que maneja bien espacios de alta dimensión, como los datos vectorizados con TF-IDF, por lo que debería de darnos un buen accuracy.",
   "id": "5e672ac94b9e5c75"
  },
  {
   "metadata": {
    "ExecuteTime": {
     "end_time": "2024-11-21T01:25:27.690230Z",
     "start_time": "2024-11-21T01:25:27.011038Z"
    }
   },
   "cell_type": "code",
   "source": "mlflow.set_experiment('juan-blanco-svc')",
   "id": "a4160e2b38089e95",
   "outputs": [
    {
     "name": "stderr",
     "output_type": "stream",
     "text": [
      "2024/11/20 19:25:27 INFO mlflow.tracking.fluent: Experiment with name 'juan-blanco-svc' does not exist. Creating a new experiment.\n"
     ]
    },
    {
     "data": {
      "text/plain": [
       "<Experiment: artifact_location='mlflow-artifacts:/ca087f019bc746c09e3042068090aa20', creation_time=1732152327465, experiment_id='10', last_update_time=1732152327465, lifecycle_stage='active', name='juan-blanco-svc', tags={}>"
      ]
     },
     "execution_count": 11,
     "metadata": {},
     "output_type": "execute_result"
    }
   ],
   "execution_count": 11
  },
  {
   "metadata": {
    "ExecuteTime": {
     "end_time": "2024-11-21T01:27:52.853340Z",
     "start_time": "2024-11-21T01:25:52.798879Z"
    }
   },
   "cell_type": "code",
   "source": [
    "# Iniciar un run de mlflow\n",
    "with mlflow.start_run(run_name='SVC_Baseline'):\n",
    "    # Crear el modelo\n",
    "    svc_model = SVC()\n",
    "    \n",
    "    # Entrenar el modelo\n",
    "    svc_model.fit(X_train_tfidf, y_train)\n",
    "    \n",
    "    # Hacer predicciones\n",
    "    y_pred = svc_model.predict(X_test_tfidf)\n",
    "    \n",
    "    # Calcular métricas\n",
    "    accuracy = accuracy_score(y_test, y_pred)\n",
    "    report = classification_report(y_test, y_pred, output_dict=True)\n",
    "    \n",
    "    # Registrar métrica\n",
    "    mlflow.log_metric('accuracy', accuracy)\n",
    "    \n",
    "    # Registrar el modelo\n",
    "    mlflow.sklearn.log_model(svc_model, 'svc_model')\n",
    "    \n",
    "    # Imprimir resultados\n",
    "    print(f\"Accuracy: {accuracy}\")\n",
    "    print(classification_report(y_test, y_pred))\n"
   ],
   "id": "24ac164b0b6fc15d",
   "outputs": [
    {
     "name": "stderr",
     "output_type": "stream",
     "text": [
      "2024/11/20 19:27:48 WARNING mlflow.models.model: Model logged without a signature and input example. Please set `input_example` parameter when logging the model to auto infer the model signature.\n"
     ]
    },
    {
     "name": "stdout",
     "output_type": "stream",
     "text": [
      "Accuracy: 0.6202882483370288\n",
      "                                                                                                 precision    recall  f1-score   support\n",
      "\n",
      "                                                     Bank account or service + Checking account       0.86      0.18      0.29       249\n",
      "                                           Bank account or service + Other bank product/service       0.00      0.00      0.00        60\n",
      "                                                 Checking or savings account + Checking account       0.59      0.91      0.71       758\n",
      "                                 Checking or savings account + Other banking product or service       0.00      0.00      0.00        48\n",
      "                                                  Checking or savings account + Savings account       0.71      0.11      0.19        46\n",
      "                                                                   Consumer Loan + Vehicle loan       0.67      0.06      0.11        35\n",
      "                       Credit card or prepaid card + General-purpose credit card or charge card       0.76      0.89      0.82       984\n",
      "Credit reporting, credit repair services, or other personal consumer reports + Credit reporting       0.67      0.77      0.72       402\n",
      "                                                                  Debt collection + Credit card       0.56      0.23      0.32        44\n",
      "                                                             Debt collection + Credit card debt       0.51      0.33      0.40        86\n",
      "                                                                Debt collection + I do not know       1.00      0.06      0.11        17\n",
      "              Money transfer, virtual currency, or money service + Domestic (US) money transfer       0.52      0.23      0.32        69\n",
      "              Money transfer, virtual currency, or money service + International money transfer       1.00      0.09      0.17        22\n",
      "                  Money transfer, virtual currency, or money service + Mobile or digital wallet       0.25      0.03      0.05        39\n",
      "                                              Mortgage + Conventional adjustable mortgage (ARM)       1.00      0.04      0.07        56\n",
      "                                                         Mortgage + Conventional fixed mortgage       0.35      0.31      0.33       157\n",
      "                                                          Mortgage + Conventional home mortgage       0.35      0.70      0.47       191\n",
      "                                                                        Mortgage + FHA mortgage       0.40      0.18      0.25        99\n",
      "                                                  Mortgage + Home equity loan or line of credit       0.33      0.06      0.11        32\n",
      "                                          Mortgage + Home equity loan or line of credit (HELOC)       0.67      0.06      0.11        33\n",
      "                                                                      Mortgage + Other mortgage       0.00      0.00      0.00        38\n",
      "                                                              Mortgage + Other type of mortgage       0.00      0.00      0.00        22\n",
      "                                                                         Mortgage + VA mortgage       0.00      0.00      0.00        19\n",
      "                                                        Student loan + Non-federal student loan       0.90      0.43      0.58        21\n",
      "                                                                  Vehicle loan or lease + Lease       0.78      0.58      0.67        24\n",
      "                                                                   Vehicle loan or lease + Loan       0.56      0.44      0.49        57\n",
      "\n",
      "                                                                                       accuracy                           0.62      3608\n",
      "                                                                                      macro avg       0.52      0.26      0.28      3608\n",
      "                                                                                   weighted avg       0.61      0.62      0.56      3608\n",
      "\n",
      "🏃 View run SVC_Baseline at: https://dagshub.com/zapatacc/final-exam-pcd2024-autumn.mlflow/#/experiments/10/runs/ca7f19ef30b84c2790a744cf2a3dc389\n",
      "🧪 View experiment at: https://dagshub.com/zapatacc/final-exam-pcd2024-autumn.mlflow/#/experiments/10\n"
     ]
    }
   ],
   "execution_count": 12
  },
  {
   "metadata": {},
   "cell_type": "markdown",
   "source": "Ok nos dio un accuracy ligeramente mejor con 0.62 y no tardó tanto, este puede ser un buen candidato a ser champion, vamos a ver qué tanto cambia con una tuneada de hyperparametros.",
   "id": "104c5028286d19cb"
  },
  {
   "metadata": {},
   "cell_type": "markdown",
   "source": "### Hyperparameter Tuning para SVC",
   "id": "5efc9b39a7abcfdc"
  },
  {
   "metadata": {},
   "cell_type": "markdown",
   "source": "Ahora realizaremos una búsqueda de hiperparámetros utilizando de nuevo GridSearchCV, veamos si funciona mejor.",
   "id": "2922a85d7386f80f"
  },
  {
   "metadata": {
    "ExecuteTime": {
     "end_time": "2024-11-21T01:33:43.507361Z",
     "start_time": "2024-11-21T01:33:43.502157Z"
    }
   },
   "cell_type": "code",
   "source": [
    "# Hiperparámetros a probar\n",
    "param_grid_svc = {\n",
    "    'C': [0.1, 1, 10],\n",
    "    'kernel': ['linear', 'rbf'],  # Tipos de kernel\n",
    "    'gamma': ['scale', 'auto']\n",
    "}\n",
    "\n",
    "# Configurar GridSearchCV\n",
    "grid_search_svc = GridSearchCV(\n",
    "    SVC(),\n",
    "    param_grid_svc,\n",
    "    cv=5,\n",
    "    scoring='accuracy',\n",
    "    n_jobs=-1\n",
    ")"
   ],
   "id": "8586a0cbddcc3515",
   "outputs": [],
   "execution_count": 13
  },
  {
   "metadata": {
    "ExecuteTime": {
     "end_time": "2024-11-21T01:54:44.295907Z",
     "start_time": "2024-11-21T01:43:00.279233Z"
    }
   },
   "cell_type": "code",
   "source": [
    "with mlflow.start_run(run_name='SVC_Tuning'):\n",
    "    # Entrenar con diferentes hiperparámetros\n",
    "    grid_search_svc.fit(X_train_tfidf, y_train)\n",
    "    \n",
    "    # Mejor modelo\n",
    "    best_svc_model = grid_search_svc.best_estimator_\n",
    "    \n",
    "    # Hacer predicciones\n",
    "    y_pred = best_svc_model.predict(X_test_tfidf)\n",
    "    \n",
    "    # Calcular métricas\n",
    "    accuracy = accuracy_score(y_test, y_pred)\n",
    "    report = classification_report(y_test, y_pred, output_dict=True)\n",
    "    \n",
    "    # Registrar métricas y parámetros\n",
    "    mlflow.log_params(grid_search_svc.best_params_)\n",
    "    mlflow.log_metric('accuracy', accuracy)\n",
    "    \n",
    "    # Registrar el modelo\n",
    "    mlflow.sklearn.log_model(best_svc_model, 'best_svc_model')\n",
    "    \n",
    "    # Imprimir resultados\n",
    "    print(f\"Best Params: {grid_search_svc.best_params_}\")\n",
    "    print(f\"Accuracy: {accuracy}\")\n",
    "    print(classification_report(y_test, y_pred))"
   ],
   "id": "865345c94d5a2d2b",
   "outputs": [
    {
     "name": "stderr",
     "output_type": "stream",
     "text": [
      "2024/11/20 19:54:37 WARNING mlflow.models.model: Model logged without a signature and input example. Please set `input_example` parameter when logging the model to auto infer the model signature.\n"
     ]
    },
    {
     "name": "stdout",
     "output_type": "stream",
     "text": [
      "Best Params: {'C': 10, 'gamma': 'scale', 'kernel': 'rbf'}\n",
      "Accuracy: 0.6322062084257206\n",
      "                                                                                                 precision    recall  f1-score   support\n",
      "\n",
      "                                                     Bank account or service + Checking account       0.67      0.30      0.42       249\n",
      "                                           Bank account or service + Other bank product/service       0.33      0.02      0.03        60\n",
      "                                                 Checking or savings account + Checking account       0.62      0.87      0.73       758\n",
      "                                 Checking or savings account + Other banking product or service       0.00      0.00      0.00        48\n",
      "                                                  Checking or savings account + Savings account       0.50      0.20      0.28        46\n",
      "                                                                   Consumer Loan + Vehicle loan       0.57      0.11      0.19        35\n",
      "                       Credit card or prepaid card + General-purpose credit card or charge card       0.77      0.89      0.83       984\n",
      "Credit reporting, credit repair services, or other personal consumer reports + Credit reporting       0.68      0.75      0.71       402\n",
      "                                                                  Debt collection + Credit card       0.55      0.27      0.36        44\n",
      "                                                             Debt collection + Credit card debt       0.49      0.38      0.43        86\n",
      "                                                                Debt collection + I do not know       0.50      0.06      0.11        17\n",
      "              Money transfer, virtual currency, or money service + Domestic (US) money transfer       0.49      0.29      0.36        69\n",
      "              Money transfer, virtual currency, or money service + International money transfer       0.67      0.18      0.29        22\n",
      "                  Money transfer, virtual currency, or money service + Mobile or digital wallet       0.46      0.15      0.23        39\n",
      "                                              Mortgage + Conventional adjustable mortgage (ARM)       0.43      0.11      0.17        56\n",
      "                                                         Mortgage + Conventional fixed mortgage       0.31      0.34      0.32       157\n",
      "                                                          Mortgage + Conventional home mortgage       0.40      0.61      0.48       191\n",
      "                                                                        Mortgage + FHA mortgage       0.39      0.34      0.36        99\n",
      "                                                  Mortgage + Home equity loan or line of credit       0.56      0.16      0.24        32\n",
      "                                          Mortgage + Home equity loan or line of credit (HELOC)       0.57      0.12      0.20        33\n",
      "                                                                      Mortgage + Other mortgage       0.00      0.00      0.00        38\n",
      "                                                              Mortgage + Other type of mortgage       0.00      0.00      0.00        22\n",
      "                                                                         Mortgage + VA mortgage       0.00      0.00      0.00        19\n",
      "                                                        Student loan + Non-federal student loan       0.92      0.52      0.67        21\n",
      "                                                                  Vehicle loan or lease + Lease       0.79      0.62      0.70        24\n",
      "                                                                   Vehicle loan or lease + Loan       0.53      0.47      0.50        57\n",
      "\n",
      "                                                                                       accuracy                           0.63      3608\n",
      "                                                                                      macro avg       0.47      0.30      0.33      3608\n",
      "                                                                                   weighted avg       0.60      0.63      0.59      3608\n",
      "\n",
      "🏃 View run SVC_Tuning at: https://dagshub.com/zapatacc/final-exam-pcd2024-autumn.mlflow/#/experiments/10/runs/72c43d927dce4607a0cae9a3e07eacd6\n",
      "🧪 View experiment at: https://dagshub.com/zapatacc/final-exam-pcd2024-autumn.mlflow/#/experiments/10\n"
     ]
    }
   ],
   "execution_count": 15
  },
  {
   "metadata": {},
   "cell_type": "markdown",
   "source": "Un muy buen accuracy, subió a 0.63 pero tardó considerablemente más.",
   "id": "aac17b02b9b00c12"
  },
  {
   "metadata": {},
   "cell_type": "markdown",
   "source": [
    "Ahora cómo definimos cuál va a ser el champion y cuál va a ser el challenger, aunque las métricas no son tan distantes y el tiempo fue similar (a excepción del SVC tuneado), considero que en este caso si me ire por el que mejor accuracy tenga. \n",
    "\n",
    "El tiempo de entrenamiento si es  ligeramente superior, sin embargo, no es un tiempo tan descabellado por lo que considero que sería la mejor opción. Así que vamos a hacer una función que defina a nuestro champion y nuestro challenger teniendo en cuenta el accuracy."
   ],
   "id": "910ae4513811305d"
  },
  {
   "metadata": {},
   "cell_type": "code",
   "outputs": [],
   "execution_count": null,
   "source": [
    "mlflow.set_tracking_uri('https://dagshub.com/zapatacc/final-exam-pcd2024-autumn.mlflow')\n",
    "\n",
    "client = MlflowClient()"
   ],
   "id": "3786816739727d3f"
  },
  {
   "metadata": {
    "ExecuteTime": {
     "end_time": "2024-11-21T19:11:26.154700Z",
     "start_time": "2024-11-21T19:11:23.818940Z"
    }
   },
   "cell_type": "code",
   "source": [
    "experiment_name = \"juan-blanco-svc\"\n",
    "\n",
    "# Obtener el experimento por su nombre\n",
    "experiment = client.get_experiment_by_name(experiment_name)\n",
    "\n",
    "# Verificar que el experimento existe\n",
    "if experiment is None:\n",
    "    print(f\"El experimento '{experiment_name}' no se encontró.\")\n",
    "else:\n",
    "    # Obtener el ID del experimento\n",
    "    experiment_id = experiment.experiment_id\n",
    "\n",
    "    # Buscar los dos mejores runs en base al accuracy\n",
    "    top_runs = mlflow.search_runs(\n",
    "        experiment_ids=[experiment_id],\n",
    "        order_by=[\"metrics.accuracy DESC\"],\n",
    "        max_results=2\n",
    "    )\n",
    "\n",
    "    # Verificar que tenemos al menos dos runs\n",
    "    if len(top_runs) < 2:\n",
    "        print(\"No se encontraron suficientes runs para seleccionar Champion y Challenger.\")\n",
    "    else:\n",
    "        # Obtenemos los IDs de los mejores runs\n",
    "        champion_run = top_runs.iloc[0]\n",
    "        challenger_run = top_runs.iloc[1]\n",
    "\n",
    "        # Obtenemos los IDs de las ejecuciones\n",
    "        champion_run_id = champion_run.run_id\n",
    "        challenger_run_id = challenger_run.run_id\n",
    "\n",
    "        # Obtenemos las URIs de los modelos\n",
    "        champion_model_uri = f\"runs:/{champion_run_id}/model\"\n",
    "        challenger_model_uri = f\"runs:/{challenger_run_id}/model\"\n",
    "\n",
    "        # Declaramos el nombre del modelo registrado\n",
    "        model_name = \"blanco-model\"\n",
    "\n",
    "        # Registrar el modelo Champion\n",
    "        champion_model_version = mlflow.register_model(\n",
    "            model_uri=champion_model_uri,\n",
    "            name=model_name\n",
    "        )\n",
    "        client.set_registered_model_alias(\n",
    "            name=model_name,\n",
    "            alias='champion',\n",
    "            version=champion_model_version.version\n",
    "        )\n",
    "\n",
    "        # Registrar el modelo Challenger\n",
    "        challenger_model_version = mlflow.register_model(\n",
    "            model_uri=challenger_model_uri,\n",
    "            name=model_name\n",
    "        )\n",
    "        client.set_registered_model_alias(\n",
    "            name=model_name,\n",
    "            alias='challenger',\n",
    "            version=challenger_model_version.version\n",
    "        )\n",
    "\n",
    "        print(f\"Champion Model: Run ID {champion_run_id}, Version {champion_model_version.version}\")\n",
    "        print(f\"Challenger Model: Run ID {challenger_run_id}, Version {challenger_model_version.version}\")"
   ],
   "id": "f1a8c3c7261353e9",
   "outputs": [
    {
     "name": "stderr",
     "output_type": "stream",
     "text": [
      "Registered model 'blanco-model' already exists. Creating a new version of this model...\n",
      "2024/11/21 13:11:24 INFO mlflow.store.model_registry.abstract_store: Waiting up to 300 seconds for model version to finish creation. Model name: blanco-model, version 2\n",
      "Created version '2' of model 'blanco-model'.\n",
      "Registered model 'blanco-model' already exists. Creating a new version of this model...\n",
      "2024/11/21 13:11:25 INFO mlflow.store.model_registry.abstract_store: Waiting up to 300 seconds for model version to finish creation. Model name: blanco-model, version 3\n",
      "Created version '3' of model 'blanco-model'.\n"
     ]
    },
    {
     "name": "stdout",
     "output_type": "stream",
     "text": [
      "Champion Model: Run ID 72c43d927dce4607a0cae9a3e07eacd6, Version 2\n",
      "Challenger Model: Run ID ca7f19ef30b84c2790a744cf2a3dc389, Version 3\n"
     ]
    }
   ],
   "execution_count": 4
  },
  {
   "metadata": {},
   "cell_type": "markdown",
   "source": "Listo, ya quedaron registrados nuestros modelos champion y challenger que ambos fueron SVM, uno tuneado y el otro no.",
   "id": "a2735c971a7a081b"
  }
 ],
 "metadata": {
  "kernelspec": {
   "display_name": "Python 3",
   "language": "python",
   "name": "python3"
  },
  "language_info": {
   "codemirror_mode": {
    "name": "ipython",
    "version": 2
   },
   "file_extension": ".py",
   "mimetype": "text/x-python",
   "name": "python",
   "nbconvert_exporter": "python",
   "pygments_lexer": "ipython2",
   "version": "2.7.6"
  }
 },
 "nbformat": 4,
 "nbformat_minor": 5
}
