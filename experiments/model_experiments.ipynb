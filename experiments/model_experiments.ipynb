{
 "cells": [
  {
   "cell_type": "code",
   "id": "initial_id",
   "metadata": {
    "collapsed": true,
    "ExecuteTime": {
     "end_time": "2024-11-21T00:53:16.301312Z",
     "start_time": "2024-11-21T00:53:16.298431Z"
    }
   },
   "source": [
    "# Importar librerías para preprocesamiento y modelado\n",
    "from sklearn.model_selection import train_test_split, GridSearchCV\n",
    "from sklearn.feature_extraction.text import TfidfVectorizer\n",
    "from sklearn.linear_model import LogisticRegression\n",
    "from sklearn.svm import SVC\n",
    "from sklearn.metrics import accuracy_score, classification_report, confusion_matrix\n",
    "\n",
    "# Importar mlflow para tracking de experimentos\n",
    "import mlflow\n",
    "import mlflow.sklearn\n",
    "\n",
    "# Importar warnings para ignorar advertencias innecesarias\n",
    "import warnings\n",
    "warnings.filterwarnings('ignore')\n",
    "import pandas as pd"
   ],
   "outputs": [],
   "execution_count": 3
  },
  {
   "metadata": {
    "ExecuteTime": {
     "end_time": "2024-11-21T00:52:57.205290Z",
     "start_time": "2024-11-21T00:52:56.574543Z"
    }
   },
   "cell_type": "code",
   "source": [
    "import dagshub\n",
    "dagshub.init(repo_owner='zapatacc', repo_name='final-exam-pcd2024-autumn', mlflow=True)"
   ],
   "id": "c7119c72805eea2",
   "outputs": [
    {
     "data": {
      "text/plain": [
       "Accessing as JuanPab2009\n"
      ],
      "text/html": [
       "<pre style=\"white-space:pre;overflow-x:auto;line-height:normal;font-family:Menlo,'DejaVu Sans Mono',consolas,'Courier New',monospace\">Accessing as JuanPab2009\n",
       "</pre>\n"
      ]
     },
     "metadata": {},
     "output_type": "display_data"
    },
    {
     "data": {
      "text/plain": [
       "Initialized MLflow to track repo \u001B[32m\"zapatacc/final-exam-pcd2024-autumn\"\u001B[0m\n"
      ],
      "text/html": [
       "<pre style=\"white-space:pre;overflow-x:auto;line-height:normal;font-family:Menlo,'DejaVu Sans Mono',consolas,'Courier New',monospace\">Initialized MLflow to track repo <span style=\"color: #008000; text-decoration-color: #008000\">\"zapatacc/final-exam-pcd2024-autumn\"</span>\n",
       "</pre>\n"
      ]
     },
     "metadata": {},
     "output_type": "display_data"
    },
    {
     "data": {
      "text/plain": [
       "Repository zapatacc/final-exam-pcd2024-autumn initialized!\n"
      ],
      "text/html": [
       "<pre style=\"white-space:pre;overflow-x:auto;line-height:normal;font-family:Menlo,'DejaVu Sans Mono',consolas,'Courier New',monospace\">Repository zapatacc/final-exam-pcd2024-autumn initialized!\n",
       "</pre>\n"
      ]
     },
     "metadata": {},
     "output_type": "display_data"
    }
   ],
   "execution_count": 2
  },
  {
   "metadata": {
    "ExecuteTime": {
     "end_time": "2024-11-21T00:53:27.113025Z",
     "start_time": "2024-11-21T00:53:26.969898Z"
    }
   },
   "cell_type": "code",
   "source": [
    "df = pd.read_csv('../data/processed_data/processed_tickets.csv')\n",
    "\n",
    "df.head()"
   ],
   "id": "8b0514708b7e42d9",
   "outputs": [
    {
     "data": {
      "text/plain": [
       "                             complaint_what_happened  \\\n",
       "0  good morning name appreciate could help put st...   \n",
       "1  upgraded card //2018 told agent upgrade annive...   \n",
       "2  //2018 , trying book ticket , came across offe...   \n",
       "3  grand son give check { $ 1600.00 } deposit cha...   \n",
       "4                              please remove inquiry   \n",
       "\n",
       "                               ticket_classification  \n",
       "0                 Debt collection + Credit card debt  \n",
       "1  Credit card or prepaid card + General-purpose ...  \n",
       "2  Credit reporting, credit repair services, or o...  \n",
       "3     Checking or savings account + Checking account  \n",
       "4  Credit reporting, credit repair services, or o...  "
      ],
      "text/html": [
       "<div>\n",
       "<style scoped>\n",
       "    .dataframe tbody tr th:only-of-type {\n",
       "        vertical-align: middle;\n",
       "    }\n",
       "\n",
       "    .dataframe tbody tr th {\n",
       "        vertical-align: top;\n",
       "    }\n",
       "\n",
       "    .dataframe thead th {\n",
       "        text-align: right;\n",
       "    }\n",
       "</style>\n",
       "<table border=\"1\" class=\"dataframe\">\n",
       "  <thead>\n",
       "    <tr style=\"text-align: right;\">\n",
       "      <th></th>\n",
       "      <th>complaint_what_happened</th>\n",
       "      <th>ticket_classification</th>\n",
       "    </tr>\n",
       "  </thead>\n",
       "  <tbody>\n",
       "    <tr>\n",
       "      <th>0</th>\n",
       "      <td>good morning name appreciate could help put st...</td>\n",
       "      <td>Debt collection + Credit card debt</td>\n",
       "    </tr>\n",
       "    <tr>\n",
       "      <th>1</th>\n",
       "      <td>upgraded card //2018 told agent upgrade annive...</td>\n",
       "      <td>Credit card or prepaid card + General-purpose ...</td>\n",
       "    </tr>\n",
       "    <tr>\n",
       "      <th>2</th>\n",
       "      <td>//2018 , trying book ticket , came across offe...</td>\n",
       "      <td>Credit reporting, credit repair services, or o...</td>\n",
       "    </tr>\n",
       "    <tr>\n",
       "      <th>3</th>\n",
       "      <td>grand son give check { $ 1600.00 } deposit cha...</td>\n",
       "      <td>Checking or savings account + Checking account</td>\n",
       "    </tr>\n",
       "    <tr>\n",
       "      <th>4</th>\n",
       "      <td>please remove inquiry</td>\n",
       "      <td>Credit reporting, credit repair services, or o...</td>\n",
       "    </tr>\n",
       "  </tbody>\n",
       "</table>\n",
       "</div>"
      ]
     },
     "execution_count": 4,
     "metadata": {},
     "output_type": "execute_result"
    }
   ],
   "execution_count": 4
  },
  {
   "metadata": {
    "ExecuteTime": {
     "end_time": "2024-11-21T00:54:51.378741Z",
     "start_time": "2024-11-21T00:54:51.354681Z"
    }
   },
   "cell_type": "code",
   "source": [
    "# Definir variables independientes y dependientes\n",
    "X = df['complaint_what_happened']\n",
    "y = df['ticket_classification']\n",
    "\n",
    "# Dividir en conjuntos de entrenamiento y prueba\n",
    "X_train, X_test, y_train, y_test = train_test_split(\n",
    "    X, y, test_size=0.2, random_state=42, stratify=y\n",
    ")\n"
   ],
   "id": "21f1170862e5222d",
   "outputs": [],
   "execution_count": 5
  },
  {
   "metadata": {
    "ExecuteTime": {
     "end_time": "2024-11-21T00:55:40.034756Z",
     "start_time": "2024-11-21T00:55:39.129400Z"
    }
   },
   "cell_type": "code",
   "source": [
    "# Inicializar el vectorizador TF-IDF\n",
    "tfidf_vectorizer = TfidfVectorizer(max_features=5000)\n",
    "\n",
    "# Ajustar y transformar los datos de entrenamiento\n",
    "X_train_tfidf = tfidf_vectorizer.fit_transform(X_train)\n",
    "\n",
    "# Transformar los datos de prueba\n",
    "X_test_tfidf = tfidf_vectorizer.transform(X_test)\n"
   ],
   "id": "6954b394935b1800",
   "outputs": [],
   "execution_count": 6
  },
  {
   "metadata": {
    "ExecuteTime": {
     "end_time": "2024-11-21T00:56:49.372670Z",
     "start_time": "2024-11-21T00:56:48.704361Z"
    }
   },
   "cell_type": "code",
   "source": [
    "# Establecer el experimento\n",
    "mlflow.set_experiment('juan-blanco-logistic-regression')\n"
   ],
   "id": "cab1c11ee91b41d3",
   "outputs": [
    {
     "name": "stderr",
     "output_type": "stream",
     "text": [
      "2024/11/20 18:56:49 INFO mlflow.tracking.fluent: Experiment with name 'juan-blanco-logistic-regression' does not exist. Creating a new experiment.\n"
     ]
    },
    {
     "data": {
      "text/plain": [
       "<Experiment: artifact_location='mlflow-artifacts:/33a06b90f9704c8da6f10c2af583fb9e', creation_time=1732150609288, experiment_id='9', last_update_time=1732150609288, lifecycle_stage='active', name='juan-blanco-logistic-regression', tags={}>"
      ]
     },
     "execution_count": 7,
     "metadata": {},
     "output_type": "execute_result"
    }
   ],
   "execution_count": 7
  },
  {
   "metadata": {
    "ExecuteTime": {
     "end_time": "2024-11-21T00:57:15.654301Z",
     "start_time": "2024-11-21T00:57:06.747570Z"
    }
   },
   "cell_type": "code",
   "source": [
    "with mlflow.start_run(run_name='LogisticRegression_Baseline'):\n",
    "    lr_model = LogisticRegression(max_iter=1000)\n",
    "    \n",
    "    # Entrenar el modelo\n",
    "    lr_model.fit(X_train_tfidf, y_train)\n",
    "    \n",
    "    # Hacer predicciones\n",
    "    y_pred = lr_model.predict(X_test_tfidf)\n",
    "    \n",
    "    # Calcular métricas\n",
    "    accuracy = accuracy_score(y_test, y_pred)\n",
    "    report = classification_report(y_test, y_pred, output_dict=True)\n",
    "    \n",
    "    # Registrar métrica\n",
    "    mlflow.log_metric('accuracy', accuracy)\n",
    "    \n",
    "    # Registrar el modelo\n",
    "    mlflow.sklearn.log_model(lr_model, 'logistic_regression_model')\n",
    "    \n",
    "    # Imprimir resultados\n",
    "    print(f\"Accuracy: {accuracy}\")\n",
    "    print(classification_report(y_test, y_pred))\n"
   ],
   "id": "31e07329332e92a4",
   "outputs": [
    {
     "name": "stderr",
     "output_type": "stream",
     "text": [
      "2024/11/20 18:57:11 WARNING mlflow.models.model: Model logged without a signature and input example. Please set `input_example` parameter when logging the model to auto infer the model signature.\n"
     ]
    },
    {
     "name": "stdout",
     "output_type": "stream",
     "text": [
      "Accuracy: 0.6144678492239468\n",
      "                                                                                                 precision    recall  f1-score   support\n",
      "\n",
      "                                                     Bank account or service + Checking account       0.66      0.22      0.34       249\n",
      "                                           Bank account or service + Other bank product/service       0.00      0.00      0.00        60\n",
      "                                                 Checking or savings account + Checking account       0.60      0.89      0.72       758\n",
      "                                 Checking or savings account + Other banking product or service       0.00      0.00      0.00        48\n",
      "                                                  Checking or savings account + Savings account       0.60      0.13      0.21        46\n",
      "                                                                   Consumer Loan + Vehicle loan       0.67      0.06      0.11        35\n",
      "                       Credit card or prepaid card + General-purpose credit card or charge card       0.75      0.89      0.81       984\n",
      "Credit reporting, credit repair services, or other personal consumer reports + Credit reporting       0.65      0.76      0.70       402\n",
      "                                                                  Debt collection + Credit card       0.45      0.23      0.30        44\n",
      "                                                             Debt collection + Credit card debt       0.43      0.26      0.32        86\n",
      "                                                                Debt collection + I do not know       0.00      0.00      0.00        17\n",
      "              Money transfer, virtual currency, or money service + Domestic (US) money transfer       0.47      0.22      0.30        69\n",
      "              Money transfer, virtual currency, or money service + International money transfer       0.50      0.09      0.15        22\n",
      "                  Money transfer, virtual currency, or money service + Mobile or digital wallet       0.36      0.10      0.16        39\n",
      "                                              Mortgage + Conventional adjustable mortgage (ARM)       0.20      0.02      0.03        56\n",
      "                                                         Mortgage + Conventional fixed mortgage       0.32      0.34      0.33       157\n",
      "                                                          Mortgage + Conventional home mortgage       0.38      0.61      0.46       191\n",
      "                                                                        Mortgage + FHA mortgage       0.35      0.27      0.31        99\n",
      "                                                  Mortgage + Home equity loan or line of credit       0.50      0.09      0.16        32\n",
      "                                          Mortgage + Home equity loan or line of credit (HELOC)       0.60      0.09      0.16        33\n",
      "                                                                      Mortgage + Other mortgage       0.00      0.00      0.00        38\n",
      "                                                              Mortgage + Other type of mortgage       0.00      0.00      0.00        22\n",
      "                                                                         Mortgage + VA mortgage       0.00      0.00      0.00        19\n",
      "                                                        Student loan + Non-federal student loan       0.91      0.48      0.62        21\n",
      "                                                                  Vehicle loan or lease + Lease       0.87      0.54      0.67        24\n",
      "                                                                   Vehicle loan or lease + Loan       0.53      0.46      0.49        57\n",
      "\n",
      "                                                                                       accuracy                           0.61      3608\n",
      "                                                                                      macro avg       0.42      0.26      0.28      3608\n",
      "                                                                                   weighted avg       0.57      0.61      0.56      3608\n",
      "\n",
      "🏃 View run LogisticRegression_Baseline at: https://dagshub.com/zapatacc/final-exam-pcd2024-autumn.mlflow/#/experiments/9/runs/761c8dde7f1e4fa2b94de721ad72dbbc\n",
      "🧪 View experiment at: https://dagshub.com/zapatacc/final-exam-pcd2024-autumn.mlflow/#/experiments/9\n"
     ]
    }
   ],
   "execution_count": 8
  },
  {
   "metadata": {},
   "cell_type": "code",
   "outputs": [],
   "execution_count": null,
   "source": "",
   "id": "6354660a802543fb"
  }
 ],
 "metadata": {
  "kernelspec": {
   "display_name": "Python 3",
   "language": "python",
   "name": "python3"
  },
  "language_info": {
   "codemirror_mode": {
    "name": "ipython",
    "version": 2
   },
   "file_extension": ".py",
   "mimetype": "text/x-python",
   "name": "python",
   "nbconvert_exporter": "python",
   "pygments_lexer": "ipython2",
   "version": "2.7.6"
  }
 },
 "nbformat": 4,
 "nbformat_minor": 5
}
