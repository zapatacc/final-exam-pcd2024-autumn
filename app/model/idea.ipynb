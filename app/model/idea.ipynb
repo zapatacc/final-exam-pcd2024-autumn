{
 "cells": [
  {
   "cell_type": "code",
   "execution_count": 5,
   "metadata": {},
   "outputs": [],
   "source": [
    "import dagshub\n",
    "import mlflow\n",
    "from mlflow import MlflowClient"
   ]
  },
  {
   "cell_type": "code",
   "execution_count": 6,
   "metadata": {},
   "outputs": [
    {
     "data": {
      "text/html": [
       "<pre style=\"white-space:pre;overflow-x:auto;line-height:normal;font-family:Menlo,'DejaVu Sans Mono',consolas,'Courier New',monospace\">Accessing as Pepe-Chuy\n",
       "</pre>\n"
      ],
      "text/plain": [
       "Accessing as Pepe-Chuy\n"
      ]
     },
     "metadata": {},
     "output_type": "display_data"
    },
    {
     "data": {
      "text/html": [
       "<pre style=\"white-space:pre;overflow-x:auto;line-height:normal;font-family:Menlo,'DejaVu Sans Mono',consolas,'Courier New',monospace\">Initialized MLflow to track repo <span style=\"color: #008000; text-decoration-color: #008000\">\"zapatacc/final-exam-pcd2024-autumn\"</span>\n",
       "</pre>\n"
      ],
      "text/plain": [
       "Initialized MLflow to track repo \u001b[32m\"zapatacc/final-exam-pcd2024-autumn\"\u001b[0m\n"
      ]
     },
     "metadata": {},
     "output_type": "display_data"
    },
    {
     "data": {
      "text/html": [
       "<pre style=\"white-space:pre;overflow-x:auto;line-height:normal;font-family:Menlo,'DejaVu Sans Mono',consolas,'Courier New',monospace\">Repository zapatacc/final-exam-pcd2024-autumn initialized!\n",
       "</pre>\n"
      ],
      "text/plain": [
       "Repository zapatacc/final-exam-pcd2024-autumn initialized!\n"
      ]
     },
     "metadata": {},
     "output_type": "display_data"
    }
   ],
   "source": [
    "dagshub.init(repo_owner='zapatacc', repo_name='final-exam-pcd2024-autumn', mlflow=True)\n",
    "mlflow.set_experiment(\"jesus-carbajal-logreg-label-encoder\")\n",
    "TRACKING_URI = mlflow.get_tracking_uri()"
   ]
  },
  {
   "cell_type": "code",
   "execution_count": 21,
   "metadata": {},
   "outputs": [
    {
     "name": "stdout",
     "output_type": "stream",
     "text": [
      "Best Run ID: 8ccf9f0120494d78a04c99aa0b113d82\n",
      "Accuracy: 0.5718428684418666\n"
     ]
    },
    {
     "name": "stderr",
     "output_type": "stream",
     "text": [
      "Successfully registered model 'jesus-carbajal-model'.\n",
      "2024/11/21 02:05:51 INFO mlflow.store.model_registry.abstract_store: Waiting up to 300 seconds for model version to finish creation. Model name: jesus-carbajal-model, version 1\n",
      "Created version '1' of model 'jesus-carbajal-model'.\n",
      "/tmp/ipykernel_345485/302226163.py:36: FutureWarning: ``mlflow.tracking.client.MlflowClient.get_latest_versions`` is deprecated since 2.9.0. Model registry stages will be removed in a future major release. To learn more about the deprecation of model registry stages, see our migration guide here: https://mlflow.org/docs/latest/model-registry.html#migrating-from-stages\n",
      "  model_version = client.get_latest_versions(name=model_name, stages=[\"None\"])[0].version\n"
     ]
    }
   ],
   "source": [
    "import mlflow\n",
    "\n",
    "mlflow.set_experiment(\"jesus-carbajal-logreg-label-encoder\")\n",
    "client = MlflowClient()\n",
    "\n",
    "# Get the experiment ID\n",
    "experiment = client.get_experiment_by_name(\"jesus-carbajal-logreg-label-encoder\")\n",
    "experiment_id = experiment.experiment_id\n",
    "\n",
    "#Get 100 experiments\n",
    "runs = client.search_runs(\n",
    "    experiment_ids=[experiment_id],\n",
    "    run_view_type=mlflow.entities.ViewType.ACTIVE_ONLY,\n",
    "    max_results=100,\n",
    "    order_by=[\"start_time desc\"]\n",
    ")\n",
    "\n",
    "best_run = 0\n",
    "best_accuracy = 0\n",
    "\n",
    "for run in runs:\n",
    "    accuracy = run.data.metrics.get('accuracy', None)\n",
    "    if accuracy is not None and accuracy > best_accuracy:\n",
    "        best_accuracy = accuracy\n",
    "        best_run = run\n",
    "\n",
    "if best_run:\n",
    "    print(f\"Best Run ID: {best_run.info.run_id}\")\n",
    "    print(f\"Accuracy: {best_accuracy}\")\n",
    "\n",
    "\n",
    "model_uri = f\"runs:/{best_run.info.run_id}/model\"\n",
    "model_name = \"jesus-carbajal-model\"\n",
    "registered_model = mlflow.register_model(model_uri=model_uri, name=model_name)\n",
    "\n",
    "model_version = client.get_latest_versions(name=model_name, stages=[\"None\"])[0].version\n",
    "client.set_registered_model_alias(\n",
    "        name=model_name,\n",
    "        alias=\"Champ\",\n",
    "        version=model_version\n",
    "    )"
   ]
  },
  {
   "cell_type": "code",
   "execution_count": 24,
   "metadata": {},
   "outputs": [],
   "source": [
    "run_uri = 'runs:/8ccf9f0120494d78a04c99aa0b113d82/pipeline_model'\n"
   ]
  },
  {
   "cell_type": "code",
   "execution_count": 25,
   "metadata": {},
   "outputs": [
    {
     "name": "stderr",
     "output_type": "stream",
     "text": [
      "Downloading artifacts: 100%|██████████| 5/5 [00:02<00:00,  2.29it/s]\n"
     ]
    }
   ],
   "source": [
    "dv = mlflow.pyfunc.load_model(run_uri)"
   ]
  },
  {
   "cell_type": "code",
   "execution_count": 27,
   "metadata": {},
   "outputs": [
    {
     "data": {
      "text/plain": [
       "array(['Credit card or prepaid card + General-purpose credit card or charge card'],\n",
       "      dtype=object)"
      ]
     },
     "execution_count": 27,
     "metadata": {},
     "output_type": "execute_result"
    }
   ],
   "source": [
    "dv.predict([\"It was bad\"])"
   ]
  }
 ],
 "metadata": {
  "kernelspec": {
   "display_name": ".venv",
   "language": "python",
   "name": "python3"
  },
  "language_info": {
   "codemirror_mode": {
    "name": "ipython",
    "version": 3
   },
   "file_extension": ".py",
   "mimetype": "text/x-python",
   "name": "python",
   "nbconvert_exporter": "python",
   "pygments_lexer": "ipython3",
   "version": "3.12.3"
  }
 },
 "nbformat": 4,
 "nbformat_minor": 2
}
