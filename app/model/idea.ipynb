{
 "cells": [
  {
   "cell_type": "code",
   "execution_count": 1,
   "metadata": {},
   "outputs": [],
   "source": [
    "import dagshub\n",
    "import mlflow\n",
    "from mlflow import MlflowClient"
   ]
  },
  {
   "cell_type": "code",
   "execution_count": 2,
   "metadata": {},
   "outputs": [
    {
     "data": {
      "text/html": [
       "<pre style=\"white-space:pre;overflow-x:auto;line-height:normal;font-family:Menlo,'DejaVu Sans Mono',consolas,'Courier New',monospace\">Accessing as Pepe-Chuy\n",
       "</pre>\n"
      ],
      "text/plain": [
       "Accessing as Pepe-Chuy\n"
      ]
     },
     "metadata": {},
     "output_type": "display_data"
    },
    {
     "data": {
      "text/html": [
       "<pre style=\"white-space:pre;overflow-x:auto;line-height:normal;font-family:Menlo,'DejaVu Sans Mono',consolas,'Courier New',monospace\">Initialized MLflow to track repo <span style=\"color: #008000; text-decoration-color: #008000\">\"zapatacc/final-exam-pcd2024-autumn\"</span>\n",
       "</pre>\n"
      ],
      "text/plain": [
       "Initialized MLflow to track repo \u001b[32m\"zapatacc/final-exam-pcd2024-autumn\"\u001b[0m\n"
      ]
     },
     "metadata": {},
     "output_type": "display_data"
    },
    {
     "data": {
      "text/html": [
       "<pre style=\"white-space:pre;overflow-x:auto;line-height:normal;font-family:Menlo,'DejaVu Sans Mono',consolas,'Courier New',monospace\">Repository zapatacc/final-exam-pcd2024-autumn initialized!\n",
       "</pre>\n"
      ],
      "text/plain": [
       "Repository zapatacc/final-exam-pcd2024-autumn initialized!\n"
      ]
     },
     "metadata": {},
     "output_type": "display_data"
    }
   ],
   "source": [
    "dagshub.init(repo_owner='zapatacc', repo_name='final-exam-pcd2024-autumn', mlflow=True)\n",
    "mlflow.set_experiment(\"jesus-carbajal-logreg-label-encoder\")\n",
    "TRACKING_URI = mlflow.get_tracking_uri()"
   ]
  },
  {
   "cell_type": "code",
   "execution_count": 41,
   "metadata": {},
   "outputs": [
    {
     "name": "stdout",
     "output_type": "stream",
     "text": [
      "Best Run ID: 8ccf9f0120494d78a04c99aa0b113d82\n",
      "Accuracy: 0.5718428684418666\n"
     ]
    },
    {
     "name": "stderr",
     "output_type": "stream",
     "text": [
      "Registered model 'jesus-carbajal-model' already exists. Creating a new version of this model...\n",
      "2024/11/21 02:36:26 INFO mlflow.store.model_registry.abstract_store: Waiting up to 300 seconds for model version to finish creation. Model name: jesus-carbajal-model, version 2\n",
      "Created version '2' of model 'jesus-carbajal-model'.\n",
      "/tmp/ipykernel_345485/302226163.py:36: FutureWarning: ``mlflow.tracking.client.MlflowClient.get_latest_versions`` is deprecated since 2.9.0. Model registry stages will be removed in a future major release. To learn more about the deprecation of model registry stages, see our migration guide here: https://mlflow.org/docs/latest/model-registry.html#migrating-from-stages\n",
      "  model_version = client.get_latest_versions(name=model_name, stages=[\"None\"])[0].version\n"
     ]
    }
   ],
   "source": [
    "import mlflow\n",
    "\n",
    "mlflow.set_experiment(\"jesus-carbajal-logreg-label-encoder\")\n",
    "client = MlflowClient()\n",
    "\n",
    "# Get the experiment ID\n",
    "experiment = client.get_experiment_by_name(\"jesus-carbajal-logreg-label-encoder\")\n",
    "experiment_id = experiment.experiment_id\n",
    "\n",
    "#Get 100 experiments\n",
    "runs = client.search_runs(\n",
    "    experiment_ids=[experiment_id],\n",
    "    run_view_type=mlflow.entities.ViewType.ACTIVE_ONLY,\n",
    "    max_results=100,\n",
    "    order_by=[\"start_time desc\"]\n",
    ")\n",
    "\n",
    "best_run = 0\n",
    "best_accuracy = 0\n",
    "\n",
    "for run in runs:\n",
    "    accuracy = run.data.metrics.get('accuracy', None)\n",
    "    if accuracy is not None and accuracy > best_accuracy:\n",
    "        best_accuracy = accuracy\n",
    "        best_run = run\n",
    "\n",
    "if best_run:\n",
    "    print(f\"Best Run ID: {best_run.info.run_id}\")\n",
    "    print(f\"Accuracy: {best_accuracy}\")\n",
    "\n",
    "\n",
    "model_uri = f\"runs:/{best_run.info.run_id}/model\"\n",
    "model_name = \"jesus-carbajal-model\"\n",
    "registered_model = mlflow.register_model(model_uri=model_uri, name=model_name)\n",
    "\n",
    "model_version = client.get_latest_versions(name=model_name, stages=[\"None\"])[0].version\n",
    "client.set_registered_model_alias(\n",
    "        name=model_name,\n",
    "        alias=\"Champ\",\n",
    "        version=model_version\n",
    "    )"
   ]
  },
  {
   "cell_type": "code",
   "execution_count": 3,
   "metadata": {},
   "outputs": [],
   "source": [
    "run_uri = 'runs:/8ccf9f0120494d78a04c99aa0b113d82/pipeline_model'\n"
   ]
  },
  {
   "cell_type": "code",
   "execution_count": 4,
   "metadata": {},
   "outputs": [
    {
     "name": "stderr",
     "output_type": "stream",
     "text": [
      "/home/pepechuy/Downloads/School/Lab5/Examen/final-exam-pcd2024-autumn/.venv/lib/python3.12/site-packages/tqdm/auto.py:21: TqdmWarning: IProgress not found. Please update jupyter and ipywidgets. See https://ipywidgets.readthedocs.io/en/stable/user_install.html\n",
      "  from .autonotebook import tqdm as notebook_tqdm\n",
      "Downloading artifacts: 100%|██████████| 5/5 [00:03<00:00,  1.62it/s]\n"
     ]
    }
   ],
   "source": [
    "dv = mlflow.pyfunc.load_model(run_uri)"
   ]
  },
  {
   "cell_type": "code",
   "execution_count": 5,
   "metadata": {},
   "outputs": [
    {
     "data": {
      "text/plain": [
       "array(['Credit card or prepaid card + General-purpose credit card or charge card'],\n",
       "      dtype=object)"
      ]
     },
     "execution_count": 5,
     "metadata": {},
     "output_type": "execute_result"
    }
   ],
   "source": [
    "dv.predict([\"Runner coneda olerd\"])"
   ]
  },
  {
   "cell_type": "code",
   "execution_count": 48,
   "metadata": {},
   "outputs": [
    {
     "data": {
      "text/html": [
       "<pre style=\"white-space:pre;overflow-x:auto;line-height:normal;font-family:Menlo,'DejaVu Sans Mono',consolas,'Courier New',monospace\">Initialized MLflow to track repo <span style=\"color: #008000; text-decoration-color: #008000\">\"zapatacc/final-exam-pcd2024-autumn\"</span>\n",
       "</pre>\n"
      ],
      "text/plain": [
       "Initialized MLflow to track repo \u001b[32m\"zapatacc/final-exam-pcd2024-autumn\"\u001b[0m\n"
      ]
     },
     "metadata": {},
     "output_type": "display_data"
    },
    {
     "data": {
      "text/html": [
       "<pre style=\"white-space:pre;overflow-x:auto;line-height:normal;font-family:Menlo,'DejaVu Sans Mono',consolas,'Courier New',monospace\">Repository zapatacc/final-exam-pcd2024-autumn initialized!\n",
       "</pre>\n"
      ],
      "text/plain": [
       "Repository zapatacc/final-exam-pcd2024-autumn initialized!\n"
      ]
     },
     "metadata": {},
     "output_type": "display_data"
    },
    {
     "name": "stderr",
     "output_type": "stream",
     "text": [
      "Downloading artifacts: 100%|██████████| 5/5 [00:01<00:00,  2.82it/s]\n"
     ]
    }
   ],
   "source": [
    "dagshub.init(repo_owner='zapatacc', repo_name='final-exam-pcd2024-autumn', mlflow=True)\n",
    "\n",
    "mlflow.set_experiment(\"jesus-carbajal-logreg-label-encoder\")\n",
    "TRACKING_URI = mlflow.get_tracking_uri()\n",
    "\n",
    "run_uri = 'runs:/8ccf9f0120494d78a04c99aa0b113d82/pipeline_model'\n",
    "\n",
    "dv = mlflow.pyfunc.load_model(run_uri)"
   ]
  },
  {
   "cell_type": "code",
   "execution_count": 7,
   "metadata": {},
   "outputs": [
    {
     "name": "stderr",
     "output_type": "stream",
     "text": [
      "Downloading artifacts: 100%|██████████| 5/5 [00:02<00:00,  2.04it/s]\n"
     ]
    }
   ],
   "source": [
    "\n",
    "dagshub_repo = \"https://dagshub.com/zapatacc/final-exam-pcd2024-autumn\"\n",
    "MLFLOW_TRACKING_URI = \"https://dagshub.com/zapatacc/final-exam-pcd2024-autumn.mlflow\"\n",
    "mlflow.set_tracking_uri(uri=MLFLOW_TRACKING_URI)\n",
    "client = MlflowClient(tracking_uri=MLFLOW_TRACKING_URI)\n",
    "\n",
    "run_uri = 'runs:/8ccf9f0120494d78a04c99aa0b113d82/pipeline_model'\n",
    "\n",
    "dv = mlflow.pyfunc.load_model(run_uri)"
   ]
  },
  {
   "cell_type": "code",
   "execution_count": null,
   "metadata": {},
   "outputs": [],
   "source": [
    "\n",
    "# dagshub.init(repo_owner='zapatacc', repo_name='final-exam-pcd2024-autumn', mlflow=True)\n",
    "# mlflow.set_experiment(\"jesus-carbajal-logreg-label-encoder\")\n",
    "\n",
    "# TRACKING_URI = mlflow.get_tracking_uri()\n",
    "\n",
    "# run_uri = 'runs:/8ccf9f0120494d78a04c99aa0b113d82/pipeline_model'\n",
    "\n",
    "# dv = mlflow.pyfunc.load_model(run_uri)\n",
    "\n",
    "\n",
    "\n",
    "dagshub_repo = \"https://dagshub.com/zapatacc/final-exam-pcd2024-autumn\"\n",
    "MLFLOW_TRACKING_URI = \"https://dagshub.com/zapatacc/final-exam-pcd2024-autumn.mlflow\"\n",
    "mlflow.set_tracking_uri(uri=MLFLOW_TRACKING_URI)\n",
    "client = MlflowClient(tracking_uri=MLFLOW_TRACKING_URI)\n",
    "\n",
    "run_ = mlflow.search_runs(order_by=['metrics.accuracy'],\n",
    "                          output_format=\"list\",\n",
    "                          experiment_names=[\"pipeline_model\"]\n",
    "                          )[0]\n",
    "\n",
    "run_id = run_.info.run_id\n",
    "\n",
    "run_uri = f\"runs:/{run_id}/preprocessor\"\n",
    "\n",
    "client.download_artifacts(\n",
    "    run_id=run_id,\n",
    "    path='preprocessor',\n",
    "    dst_path='.'\n",
    ")\n",
    "\n",
    "with open(\"preprocessor/preprocessor.b\", \"rb\") as f_in:\n",
    "    dv = pickle.load(f_in)\n",
    "\n",
    "model_name = \"nyc-taxi-model\"\n",
    "alias = \"champion\"\n",
    "\n",
    "model_uri = f\"models:/{model_name}@{alias}\"\n",
    "\n",
    "champion_model = mlflow.pyfunc.load_model(\n",
    "    model_uri=model_uri\n",
    ")"
   ]
  },
  {
   "cell_type": "code",
   "execution_count": null,
   "metadata": {},
   "outputs": [],
   "source": []
  },
  {
   "cell_type": "code",
   "execution_count": 8,
   "metadata": {},
   "outputs": [
    {
     "name": "stderr",
     "output_type": "stream",
     "text": [
      "Downloading artifacts: 100%|██████████| 5/5 [00:03<00:00,  1.29it/s]\n"
     ]
    }
   ],
   "source": [
    "dagshub_repo = \"https://dagshub.com/zapatacc/final-exam-pcd2024-autumn\"\n",
    "MLFLOW_TRACKING_URI = \"https://dagshub.com/zapatacc/final-exam-pcd2024-autumn.mlflow\"\n",
    "mlflow.set_tracking_uri(uri=MLFLOW_TRACKING_URI)\n",
    "client = MlflowClient(tracking_uri=MLFLOW_TRACKING_URI)\n",
    "\n",
    "run_uri = 'runs:/8ccf9f0120494d78a04c99aa0b113d82/pipeline_model'\n",
    "\n",
    "dv = mlflow.pyfunc.load_model(run_uri)\n"
   ]
  },
  {
   "cell_type": "code",
   "execution_count": 12,
   "metadata": {},
   "outputs": [
    {
     "data": {
      "text/plain": [
       "array(['Credit card or prepaid card + General-purpose credit card or charge card'],\n",
       "      dtype=object)"
      ]
     },
     "execution_count": 12,
     "metadata": {},
     "output_type": "execute_result"
    }
   ],
   "source": [
    "dv.predict([' yfuviu undfninidf nfiunudi ijainsdi iidi'])"
   ]
  },
  {
   "cell_type": "code",
   "execution_count": 7,
   "metadata": {},
   "outputs": [],
   "source": [
    "import mlflow\n",
    "import dagshub"
   ]
  },
  {
   "cell_type": "code",
   "execution_count": 10,
   "metadata": {},
   "outputs": [
    {
     "data": {
      "text/html": [
       "<pre style=\"white-space:pre;overflow-x:auto;line-height:normal;font-family:Menlo,'DejaVu Sans Mono',consolas,'Courier New',monospace\">Initialized MLflow to track repo <span style=\"color: #008000; text-decoration-color: #008000\">\"zapatacc/final-exam-pcd2024-autumn\"</span>\n",
       "</pre>\n"
      ],
      "text/plain": [
       "Initialized MLflow to track repo \u001b[32m\"zapatacc/final-exam-pcd2024-autumn\"\u001b[0m\n"
      ]
     },
     "metadata": {},
     "output_type": "display_data"
    },
    {
     "data": {
      "text/html": [
       "<pre style=\"white-space:pre;overflow-x:auto;line-height:normal;font-family:Menlo,'DejaVu Sans Mono',consolas,'Courier New',monospace\">Repository zapatacc/final-exam-pcd2024-autumn initialized!\n",
       "</pre>\n"
      ],
      "text/plain": [
       "Repository zapatacc/final-exam-pcd2024-autumn initialized!\n"
      ]
     },
     "metadata": {},
     "output_type": "display_data"
    },
    {
     "name": "stderr",
     "output_type": "stream",
     "text": [
      "Registered model 'jesus-carbajal-model' already exists. Creating a new version of this model...\n",
      "2024/11/21 19:23:58 INFO mlflow.store.model_registry.abstract_store: Waiting up to 300 seconds for model version to finish creation. Model name: jesus-carbajal-model, version 4\n",
      "Created version '4' of model 'jesus-carbajal-model'.\n",
      "/tmp/ipykernel_17859/2768569986.py:37: FutureWarning: ``mlflow.tracking.client.MlflowClient.get_latest_versions`` is deprecated since 2.9.0. Model registry stages will be removed in a future major release. To learn more about the deprecation of model registry stages, see our migration guide here: https://mlflow.org/docs/latest/model-registry.html#migrating-from-stages\n",
      "  model_version = client.get_latest_versions(name=model_name, stages=[\"None\"])[0].version\n"
     ]
    }
   ],
   "source": [
    "dagshub.init(repo_owner='zapatacc', repo_name='final-exam-pcd2024-autumn', mlflow=True)\n",
    "mlflow.set_experiment(\"jesus-carbajal-logreg\")\n",
    "\n",
    "def getChamp():\n",
    "    mlflow.set_experiment(\"jesus-carbajal-logreg-label-encoder\")\n",
    "    client = MlflowClient()\n",
    "\n",
    "    # Get the experiment ID\n",
    "    experiment = client.get_experiment_by_name(\"jesus-carbajal-logreg-label-encoder\")\n",
    "    experiment_id = experiment.experiment_id\n",
    "\n",
    "    #Get 100 experiments\n",
    "    runs = client.search_runs(\n",
    "        experiment_ids=[experiment_id],\n",
    "        run_view_type=mlflow.entities.ViewType.ACTIVE_ONLY,\n",
    "        max_results=100,\n",
    "        order_by=[\"start_time desc\"]\n",
    "    )\n",
    "\n",
    "    best_run = 0\n",
    "    best_accuracy = 0\n",
    "\n",
    "    for run in runs:\n",
    "        accuracy = run.data.metrics.get('accuracy', None)\n",
    "        if accuracy is not None and accuracy > best_accuracy:\n",
    "            best_accuracy = accuracy\n",
    "            best_run = run\n",
    "\n",
    "    return best_run.info.run_id\n",
    "\n",
    "def setChamp(run_id, model_name):\n",
    "    \n",
    "    client = MlflowClient()\n",
    "    model_uri = f\"runs:/{run_id}/model\"\n",
    "    registered_model = mlflow.register_model(model_uri=model_uri, name=model_name)\n",
    "\n",
    "    model_version = client.get_latest_versions(name=model_name, stages=[\"None\"])[0].version\n",
    "    client.set_registered_model_alias(\n",
    "        name=model_name,\n",
    "        alias=\"Champ\",\n",
    "        version=model_version\n",
    "    )\n",
    "\n",
    "champ = getChamp()\n",
    "setChamp(champ, \"jesus-carbajal-model\")"
   ]
  },
  {
   "cell_type": "code",
   "execution_count": 9,
   "metadata": {},
   "outputs": [
    {
     "data": {
      "text/html": [
       "<pre style=\"white-space:pre;overflow-x:auto;line-height:normal;font-family:Menlo,'DejaVu Sans Mono',consolas,'Courier New',monospace\">Initialized MLflow to track repo <span style=\"color: #008000; text-decoration-color: #008000\">\"zapatacc/final-exam-pcd2024-autumn\"</span>\n",
       "</pre>\n"
      ],
      "text/plain": [
       "Initialized MLflow to track repo \u001b[32m\"zapatacc/final-exam-pcd2024-autumn\"\u001b[0m\n"
      ]
     },
     "metadata": {},
     "output_type": "display_data"
    },
    {
     "data": {
      "text/html": [
       "<pre style=\"white-space:pre;overflow-x:auto;line-height:normal;font-family:Menlo,'DejaVu Sans Mono',consolas,'Courier New',monospace\">Repository zapatacc/final-exam-pcd2024-autumn initialized!\n",
       "</pre>\n"
      ],
      "text/plain": [
       "Repository zapatacc/final-exam-pcd2024-autumn initialized!\n"
      ]
     },
     "metadata": {},
     "output_type": "display_data"
    },
    {
     "name": "stderr",
     "output_type": "stream",
     "text": [
      "Registered model 'jesus-carbajal-model' already exists. Creating a new version of this model...\n",
      "2024/11/21 19:22:43 INFO mlflow.store.model_registry.abstract_store: Waiting up to 300 seconds for model version to finish creation. Model name: jesus-carbajal-model, version 3\n",
      "Created version '3' of model 'jesus-carbajal-model'.\n",
      "/tmp/ipykernel_17859/380569046.py:49: FutureWarning: ``mlflow.tracking.client.MlflowClient.get_latest_versions`` is deprecated since 2.9.0. Model registry stages will be removed in a future major release. To learn more about the deprecation of model registry stages, see our migration guide here: https://mlflow.org/docs/latest/model-registry.html#migrating-from-stages\n",
      "  model_version = client.get_latest_versions(name=model_name, stages=[\"None\"])[0].version\n"
     ]
    }
   ],
   "source": [
    "import mlflow\n",
    "from mlflow.tracking import MlflowClient\n",
    "\n",
    "# Initialize DagsHub and set experiment\n",
    "dagshub.init(repo_owner='zapatacc', repo_name='final-exam-pcd2024-autumn', mlflow=True)\n",
    "mlflow.set_experiment(\"jesus-carbajal-logreg\")\n",
    "\n",
    "def getChamp():\n",
    "    \"\"\"\n",
    "    Finds the best model run based on the highest accuracy metric \n",
    "    in the 'jesus-carbajal-logreg-label-encoder' experiment.\n",
    "    \"\"\"\n",
    "    mlflow.set_experiment(\"jesus-carbajal-logreg-label-encoder\")\n",
    "    client = MlflowClient()\n",
    "\n",
    "    # Get the experiment ID\n",
    "    experiment = client.get_experiment_by_name(\"jesus-carbajal-logreg-label-encoder\")\n",
    "    experiment_id = experiment.experiment_id\n",
    "\n",
    "    # Get up to 100 experiment runs sorted by start time\n",
    "    runs = client.search_runs(\n",
    "        experiment_ids=[experiment_id],\n",
    "        run_view_type=mlflow.entities.ViewType.ACTIVE_ONLY,\n",
    "        max_results=100,\n",
    "        order_by=[\"start_time desc\"]\n",
    "    )\n",
    "\n",
    "    best_run = None\n",
    "    best_accuracy = 0\n",
    "\n",
    "    # Identify the run with the highest accuracy\n",
    "    for run in runs:\n",
    "        accuracy = run.data.metrics.get('accuracy', None)\n",
    "        if accuracy is not None and accuracy > best_accuracy:\n",
    "            best_accuracy = accuracy\n",
    "            best_run = run\n",
    "\n",
    "    return best_run.info.run_id if best_run else None\n",
    "\n",
    "def setChamp(run_id, model_name):\n",
    "    \"\"\"\n",
    "    Registers the given model as the 'Champ' version for the specified model name.\n",
    "    \"\"\"\n",
    "    client = MlflowClient()\n",
    "    model_uri = f\"runs:/{run_id}/model\"\n",
    "    registered_model = mlflow.register_model(model_uri=model_uri, name=model_name)\n",
    "\n",
    "    # Get the latest version of the model and set the alias to \"Champ\"\n",
    "    model_version = client.get_latest_versions(name=model_name, stages=[\"None\"])[0].version\n",
    "    client.set_registered_model_alias(\n",
    "        name=model_name,\n",
    "        alias=\"Champ\",\n",
    "        version=model_version\n",
    "    )\n",
    "\n",
    "# Main execution\n",
    "champ = getChamp()\n",
    "if champ:\n",
    "    setChamp(champ, \"jesus-carbajal-model\")\n",
    "else:\n",
    "    print(\"No suitable champion model found.\")\n"
   ]
  }
 ],
 "metadata": {
  "kernelspec": {
   "display_name": ".venv",
   "language": "python",
   "name": "python3"
  },
  "language_info": {
   "codemirror_mode": {
    "name": "ipython",
    "version": 3
   },
   "file_extension": ".py",
   "mimetype": "text/x-python",
   "name": "python",
   "nbconvert_exporter": "python",
   "pygments_lexer": "ipython3",
   "version": "3.12.3"
  }
 },
 "nbformat": 4,
 "nbformat_minor": 2
}
