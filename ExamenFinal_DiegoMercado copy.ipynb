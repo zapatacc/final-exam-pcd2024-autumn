{
 "cells": [
  {
   "cell_type": "markdown",
   "metadata": {},
   "source": [
    "# Proyecto de Ciencia de Datos: Clasificación de Quejas\n",
    "\n",
    "En este proyecto, desarrollaremos un modelo de machine learning para predecir la categoría adecuada para cada nueva queja recibida. Comenzaremos importando las librerías necesarias y cargando el dataset inicial, el cual requiere limpieza y preparación antes de su uso."
   ]
  },
  {
   "cell_type": "markdown",
   "metadata": {},
   "source": [
    "## Preprocesamiento de Datos"
   ]
  },
  {
   "cell_type": "code",
   "execution_count": 118,
   "metadata": {},
   "outputs": [],
   "source": [
    "import pandas as pd\n",
    "import json"
   ]
  },
  {
   "cell_type": "code",
   "execution_count": 119,
   "metadata": {},
   "outputs": [],
   "source": [
    "# Cargamos el archivo tickets_classification_eng.json que se encuentra en la carpeta data/raw_data.\n",
    "\n",
    "file_path = './raw_data/tickets_classification_eng.json'\n",
    "\n",
    "with open(file_path, 'r') as file:\n",
    "    data = json.load(file)"
   ]
  },
  {
   "cell_type": "code",
   "execution_count": 120,
   "metadata": {},
   "outputs": [
    {
     "data": {
      "text/html": [
       "<div>\n",
       "<style scoped>\n",
       "    .dataframe tbody tr th:only-of-type {\n",
       "        vertical-align: middle;\n",
       "    }\n",
       "\n",
       "    .dataframe tbody tr th {\n",
       "        vertical-align: top;\n",
       "    }\n",
       "\n",
       "    .dataframe thead th {\n",
       "        text-align: right;\n",
       "    }\n",
       "</style>\n",
       "<table border=\"1\" class=\"dataframe\">\n",
       "  <thead>\n",
       "    <tr style=\"text-align: right;\">\n",
       "      <th></th>\n",
       "      <th>_index</th>\n",
       "      <th>_type</th>\n",
       "      <th>_id</th>\n",
       "      <th>_score</th>\n",
       "      <th>_source.tags</th>\n",
       "      <th>_source.zip_code</th>\n",
       "      <th>_source.complaint_id</th>\n",
       "      <th>_source.issue</th>\n",
       "      <th>_source.date_received</th>\n",
       "      <th>_source.state</th>\n",
       "      <th>...</th>\n",
       "      <th>_source.company_response</th>\n",
       "      <th>_source.company</th>\n",
       "      <th>_source.submitted_via</th>\n",
       "      <th>_source.date_sent_to_company</th>\n",
       "      <th>_source.company_public_response</th>\n",
       "      <th>_source.sub_product</th>\n",
       "      <th>_source.timely</th>\n",
       "      <th>_source.complaint_what_happened</th>\n",
       "      <th>_source.sub_issue</th>\n",
       "      <th>_source.consumer_consent_provided</th>\n",
       "    </tr>\n",
       "  </thead>\n",
       "  <tbody>\n",
       "    <tr>\n",
       "      <th>0</th>\n",
       "      <td>complaint-public-v2</td>\n",
       "      <td>complaint</td>\n",
       "      <td>3211475</td>\n",
       "      <td>0.0</td>\n",
       "      <td>None</td>\n",
       "      <td>90301</td>\n",
       "      <td>3211475</td>\n",
       "      <td>Attempts to collect debt not owed</td>\n",
       "      <td>2019-04-13T12:00:00-05:00</td>\n",
       "      <td>CA</td>\n",
       "      <td>...</td>\n",
       "      <td>Closed with explanation</td>\n",
       "      <td>JPMORGAN CHASE &amp; CO.</td>\n",
       "      <td>Web</td>\n",
       "      <td>2019-04-13T12:00:00-05:00</td>\n",
       "      <td>None</td>\n",
       "      <td>Credit card debt</td>\n",
       "      <td>Yes</td>\n",
       "      <td></td>\n",
       "      <td>Debt is not yours</td>\n",
       "      <td>Consent not provided</td>\n",
       "    </tr>\n",
       "    <tr>\n",
       "      <th>1</th>\n",
       "      <td>complaint-public-v2</td>\n",
       "      <td>complaint</td>\n",
       "      <td>3229299</td>\n",
       "      <td>0.0</td>\n",
       "      <td>Servicemember</td>\n",
       "      <td>319XX</td>\n",
       "      <td>3229299</td>\n",
       "      <td>Written notification about debt</td>\n",
       "      <td>2019-05-01T12:00:00-05:00</td>\n",
       "      <td>GA</td>\n",
       "      <td>...</td>\n",
       "      <td>Closed with explanation</td>\n",
       "      <td>JPMORGAN CHASE &amp; CO.</td>\n",
       "      <td>Web</td>\n",
       "      <td>2019-05-01T12:00:00-05:00</td>\n",
       "      <td>None</td>\n",
       "      <td>Credit card debt</td>\n",
       "      <td>Yes</td>\n",
       "      <td>Good morning my name is XXXX XXXX and I apprec...</td>\n",
       "      <td>Didn't receive enough information to verify debt</td>\n",
       "      <td>Consent provided</td>\n",
       "    </tr>\n",
       "    <tr>\n",
       "      <th>2</th>\n",
       "      <td>complaint-public-v2</td>\n",
       "      <td>complaint</td>\n",
       "      <td>3199379</td>\n",
       "      <td>0.0</td>\n",
       "      <td>None</td>\n",
       "      <td>77069</td>\n",
       "      <td>3199379</td>\n",
       "      <td>Other features, terms, or problems</td>\n",
       "      <td>2019-04-02T12:00:00-05:00</td>\n",
       "      <td>TX</td>\n",
       "      <td>...</td>\n",
       "      <td>Closed with explanation</td>\n",
       "      <td>JPMORGAN CHASE &amp; CO.</td>\n",
       "      <td>Web</td>\n",
       "      <td>2019-04-02T12:00:00-05:00</td>\n",
       "      <td>None</td>\n",
       "      <td>General-purpose credit card or charge card</td>\n",
       "      <td>Yes</td>\n",
       "      <td>I upgraded my XXXX XXXX card in XX/XX/2018 and...</td>\n",
       "      <td>Problem with rewards from credit card</td>\n",
       "      <td>Consent provided</td>\n",
       "    </tr>\n",
       "    <tr>\n",
       "      <th>3</th>\n",
       "      <td>complaint-public-v2</td>\n",
       "      <td>complaint</td>\n",
       "      <td>2673060</td>\n",
       "      <td>0.0</td>\n",
       "      <td>None</td>\n",
       "      <td>48066</td>\n",
       "      <td>2673060</td>\n",
       "      <td>Trouble during payment process</td>\n",
       "      <td>2017-09-13T12:00:00-05:00</td>\n",
       "      <td>MI</td>\n",
       "      <td>...</td>\n",
       "      <td>Closed with explanation</td>\n",
       "      <td>JPMORGAN CHASE &amp; CO.</td>\n",
       "      <td>Web</td>\n",
       "      <td>2017-09-14T12:00:00-05:00</td>\n",
       "      <td>None</td>\n",
       "      <td>Conventional home mortgage</td>\n",
       "      <td>Yes</td>\n",
       "      <td></td>\n",
       "      <td>None</td>\n",
       "      <td>Consent not provided</td>\n",
       "    </tr>\n",
       "    <tr>\n",
       "      <th>4</th>\n",
       "      <td>complaint-public-v2</td>\n",
       "      <td>complaint</td>\n",
       "      <td>3203545</td>\n",
       "      <td>0.0</td>\n",
       "      <td>None</td>\n",
       "      <td>10473</td>\n",
       "      <td>3203545</td>\n",
       "      <td>Fees or interest</td>\n",
       "      <td>2019-04-05T12:00:00-05:00</td>\n",
       "      <td>NY</td>\n",
       "      <td>...</td>\n",
       "      <td>Closed with explanation</td>\n",
       "      <td>JPMORGAN CHASE &amp; CO.</td>\n",
       "      <td>Referral</td>\n",
       "      <td>2019-04-05T12:00:00-05:00</td>\n",
       "      <td>None</td>\n",
       "      <td>General-purpose credit card or charge card</td>\n",
       "      <td>Yes</td>\n",
       "      <td></td>\n",
       "      <td>Charged too much interest</td>\n",
       "      <td>N/A</td>\n",
       "    </tr>\n",
       "  </tbody>\n",
       "</table>\n",
       "<p>5 rows × 22 columns</p>\n",
       "</div>"
      ],
      "text/plain": [
       "                _index      _type      _id  _score   _source.tags  \\\n",
       "0  complaint-public-v2  complaint  3211475     0.0           None   \n",
       "1  complaint-public-v2  complaint  3229299     0.0  Servicemember   \n",
       "2  complaint-public-v2  complaint  3199379     0.0           None   \n",
       "3  complaint-public-v2  complaint  2673060     0.0           None   \n",
       "4  complaint-public-v2  complaint  3203545     0.0           None   \n",
       "\n",
       "  _source.zip_code _source.complaint_id                       _source.issue  \\\n",
       "0            90301              3211475   Attempts to collect debt not owed   \n",
       "1            319XX              3229299     Written notification about debt   \n",
       "2            77069              3199379  Other features, terms, or problems   \n",
       "3            48066              2673060      Trouble during payment process   \n",
       "4            10473              3203545                    Fees or interest   \n",
       "\n",
       "       _source.date_received _source.state  ... _source.company_response  \\\n",
       "0  2019-04-13T12:00:00-05:00            CA  ...  Closed with explanation   \n",
       "1  2019-05-01T12:00:00-05:00            GA  ...  Closed with explanation   \n",
       "2  2019-04-02T12:00:00-05:00            TX  ...  Closed with explanation   \n",
       "3  2017-09-13T12:00:00-05:00            MI  ...  Closed with explanation   \n",
       "4  2019-04-05T12:00:00-05:00            NY  ...  Closed with explanation   \n",
       "\n",
       "        _source.company _source.submitted_via _source.date_sent_to_company  \\\n",
       "0  JPMORGAN CHASE & CO.                   Web    2019-04-13T12:00:00-05:00   \n",
       "1  JPMORGAN CHASE & CO.                   Web    2019-05-01T12:00:00-05:00   \n",
       "2  JPMORGAN CHASE & CO.                   Web    2019-04-02T12:00:00-05:00   \n",
       "3  JPMORGAN CHASE & CO.                   Web    2017-09-14T12:00:00-05:00   \n",
       "4  JPMORGAN CHASE & CO.              Referral    2019-04-05T12:00:00-05:00   \n",
       "\n",
       "  _source.company_public_response                         _source.sub_product  \\\n",
       "0                            None                            Credit card debt   \n",
       "1                            None                            Credit card debt   \n",
       "2                            None  General-purpose credit card or charge card   \n",
       "3                            None                  Conventional home mortgage   \n",
       "4                            None  General-purpose credit card or charge card   \n",
       "\n",
       "  _source.timely                    _source.complaint_what_happened  \\\n",
       "0            Yes                                                      \n",
       "1            Yes  Good morning my name is XXXX XXXX and I apprec...   \n",
       "2            Yes  I upgraded my XXXX XXXX card in XX/XX/2018 and...   \n",
       "3            Yes                                                      \n",
       "4            Yes                                                      \n",
       "\n",
       "                                  _source.sub_issue  \\\n",
       "0                                 Debt is not yours   \n",
       "1  Didn't receive enough information to verify debt   \n",
       "2             Problem with rewards from credit card   \n",
       "3                                              None   \n",
       "4                         Charged too much interest   \n",
       "\n",
       "  _source.consumer_consent_provided  \n",
       "0              Consent not provided  \n",
       "1                  Consent provided  \n",
       "2                  Consent provided  \n",
       "3              Consent not provided  \n",
       "4                               N/A  \n",
       "\n",
       "[5 rows x 22 columns]"
      ]
     },
     "execution_count": 120,
     "metadata": {},
     "output_type": "execute_result"
    }
   ],
   "source": [
    "df = pd.json_normalize(data)\n",
    "df.head()"
   ]
  },
  {
   "cell_type": "code",
   "execution_count": 121,
   "metadata": {},
   "outputs": [
    {
     "name": "stdout",
     "output_type": "stream",
     "text": [
      "<class 'pandas.core.frame.DataFrame'>\n",
      "RangeIndex: 78313 entries, 0 to 78312\n",
      "Data columns (total 22 columns):\n",
      " #   Column                             Non-Null Count  Dtype  \n",
      "---  ------                             --------------  -----  \n",
      " 0   _index                             78313 non-null  object \n",
      " 1   _type                              78313 non-null  object \n",
      " 2   _id                                78313 non-null  object \n",
      " 3   _score                             78313 non-null  float64\n",
      " 4   _source.tags                       10900 non-null  object \n",
      " 5   _source.zip_code                   71556 non-null  object \n",
      " 6   _source.complaint_id               78313 non-null  object \n",
      " 7   _source.issue                      78313 non-null  object \n",
      " 8   _source.date_received              78313 non-null  object \n",
      " 9   _source.state                      76322 non-null  object \n",
      " 10  _source.consumer_disputed          78313 non-null  object \n",
      " 11  _source.product                    78313 non-null  object \n",
      " 12  _source.company_response           78313 non-null  object \n",
      " 13  _source.company                    78313 non-null  object \n",
      " 14  _source.submitted_via              78313 non-null  object \n",
      " 15  _source.date_sent_to_company       78313 non-null  object \n",
      " 16  _source.company_public_response    4 non-null      object \n",
      " 17  _source.sub_product                67742 non-null  object \n",
      " 18  _source.timely                     78313 non-null  object \n",
      " 19  _source.complaint_what_happened    78313 non-null  object \n",
      " 20  _source.sub_issue                  32016 non-null  object \n",
      " 21  _source.consumer_consent_provided  77305 non-null  object \n",
      "dtypes: float64(1), object(21)\n",
      "memory usage: 13.1+ MB\n"
     ]
    }
   ],
   "source": [
    "df.info()"
   ]
  },
  {
   "cell_type": "markdown",
   "metadata": {},
   "source": [
    "Seleccionamos las columnas relevantes"
   ]
  },
  {
   "cell_type": "code",
   "execution_count": 122,
   "metadata": {},
   "outputs": [],
   "source": [
    "df = df[['_source.complaint_what_happened', '_source.product', '_source.sub_product']]"
   ]
  },
  {
   "cell_type": "markdown",
   "metadata": {},
   "source": [
    "Renombrar las columnas para que sean mas legibles"
   ]
  },
  {
   "cell_type": "code",
   "execution_count": 123,
   "metadata": {},
   "outputs": [],
   "source": [
    "df.rename(columns={\n",
    "    '_source.complaint_what_happened': 'complaint_what_happened',\n",
    "    '_source.product': 'category',\n",
    "    '_source.sub_product': 'sub_product'\n",
    "}, inplace=True)"
   ]
  },
  {
   "cell_type": "markdown",
   "metadata": {},
   "source": [
    "Creamos una nueva columna ticket_classification"
   ]
  },
  {
   "cell_type": "code",
   "execution_count": 124,
   "metadata": {},
   "outputs": [],
   "source": [
    "df['ticket_classification'] = df['category'] + ' + ' + df['sub_product']"
   ]
  },
  {
   "cell_type": "markdown",
   "metadata": {},
   "source": [
    "Eliminamos columnas redundantes"
   ]
  },
  {
   "cell_type": "code",
   "execution_count": 125,
   "metadata": {},
   "outputs": [],
   "source": [
    "df.drop(columns=['category', 'sub_product'], inplace=True)"
   ]
  },
  {
   "cell_type": "markdown",
   "metadata": {},
   "source": [
    "Limpiamos los datos en la columna complaint_what_happened"
   ]
  },
  {
   "cell_type": "code",
   "execution_count": 126,
   "metadata": {},
   "outputs": [
    {
     "data": {
      "text/plain": [
       "0"
      ]
     },
     "execution_count": 126,
     "metadata": {},
     "output_type": "execute_result"
    }
   ],
   "source": [
    "# Contar los Nulos en complaint_what_happened\n",
    "df['complaint_what_happened'].isnull().sum()"
   ]
  },
  {
   "cell_type": "code",
   "execution_count": 127,
   "metadata": {},
   "outputs": [
    {
     "data": {
      "text/plain": [
       "57241"
      ]
     },
     "execution_count": 127,
     "metadata": {},
     "output_type": "execute_result"
    }
   ],
   "source": [
    "# Revisar si hay campos vacios en complaint_what_happened\n",
    "lambda x: x == ''\n",
    "df['complaint_what_happened'].apply(lambda x: x == '').sum()"
   ]
  },
  {
   "cell_type": "code",
   "execution_count": 128,
   "metadata": {},
   "outputs": [
    {
     "data": {
      "text/plain": [
       "0"
      ]
     },
     "execution_count": 128,
     "metadata": {},
     "output_type": "execute_result"
    }
   ],
   "source": [
    "# Revisar si hay nulos enmasacarados en complaint_what_happened\n",
    "lambda x: x == 'nan' or x == 'NaN' or x == 'NAN' or x == 'n/a' or x == 'N/A' or x == '' or x == ' '\n",
    "df['complaint_what_happened'].apply(lambda x: x == 'nan').sum()"
   ]
  },
  {
   "cell_type": "code",
   "execution_count": 129,
   "metadata": {},
   "outputs": [
    {
     "name": "stderr",
     "output_type": "stream",
     "text": [
      "C:\\Users\\diego\\AppData\\Local\\Temp\\ipykernel_27896\\3742695349.py:2: FutureWarning: A value is trying to be set on a copy of a DataFrame or Series through chained assignment using an inplace method.\n",
      "The behavior will change in pandas 3.0. This inplace method will never work because the intermediate object on which we are setting values always behaves as a copy.\n",
      "\n",
      "For example, when doing 'df[col].method(value, inplace=True)', try using 'df.method({col: value}, inplace=True)' or df[col] = df[col].method(value) instead, to perform the operation inplace on the original object.\n",
      "\n",
      "\n",
      "  df['complaint_what_happened'].replace('', pd.NA, inplace=True)\n"
     ]
    }
   ],
   "source": [
    "# Reemplazamos por el nulo de pandas\n",
    "df['complaint_what_happened'].replace('', pd.NA, inplace=True)"
   ]
  },
  {
   "cell_type": "code",
   "execution_count": 130,
   "metadata": {},
   "outputs": [
    {
     "data": {
      "text/plain": [
       "0"
      ]
     },
     "execution_count": 130,
     "metadata": {},
     "output_type": "execute_result"
    }
   ],
   "source": [
    "# Revisar si hay campos vacios en complaint_what_happened de nuevo\n",
    "lambda x: x == ''\n",
    "df['complaint_what_happened'].apply(lambda x: x == '').sum()"
   ]
  },
  {
   "cell_type": "code",
   "execution_count": 131,
   "metadata": {},
   "outputs": [
    {
     "data": {
      "text/plain": [
       "57241"
      ]
     },
     "execution_count": 131,
     "metadata": {},
     "output_type": "execute_result"
    }
   ],
   "source": [
    "# Contar los Nulos en complaint_what_happened otra vez\n",
    "df['complaint_what_happened'].isnull().sum()"
   ]
  },
  {
   "cell_type": "markdown",
   "metadata": {},
   "source": [
    "Eliminamos las filas con datos faltantes en complaint_what_happened y ticket_classification"
   ]
  },
  {
   "cell_type": "code",
   "execution_count": 132,
   "metadata": {},
   "outputs": [
    {
     "data": {
      "text/plain": [
       "10571"
      ]
     },
     "execution_count": 132,
     "metadata": {},
     "output_type": "execute_result"
    }
   ],
   "source": [
    "# Contral los nulos en ticket_classification y complaint_what_happened\n",
    "df['ticket_classification'].isnull().sum()"
   ]
  },
  {
   "cell_type": "code",
   "execution_count": 133,
   "metadata": {},
   "outputs": [
    {
     "data": {
      "text/plain": [
       "57241"
      ]
     },
     "execution_count": 133,
     "metadata": {},
     "output_type": "execute_result"
    }
   ],
   "source": [
    "df['complaint_what_happened'].isnull().sum()"
   ]
  },
  {
   "cell_type": "code",
   "execution_count": 134,
   "metadata": {},
   "outputs": [],
   "source": [
    "df.dropna(subset=['complaint_what_happened', 'ticket_classification'], inplace=True)"
   ]
  },
  {
   "cell_type": "code",
   "execution_count": 135,
   "metadata": {},
   "outputs": [
    {
     "data": {
      "text/plain": [
       "0"
      ]
     },
     "execution_count": 135,
     "metadata": {},
     "output_type": "execute_result"
    }
   ],
   "source": [
    "# Contar si se eliminaron los nulos\n",
    "df['complaint_what_happened'].isnull().sum()"
   ]
  },
  {
   "cell_type": "code",
   "execution_count": 136,
   "metadata": {},
   "outputs": [
    {
     "data": {
      "text/plain": [
       "0"
      ]
     },
     "execution_count": 136,
     "metadata": {},
     "output_type": "execute_result"
    }
   ],
   "source": [
    "df['ticket_classification'].isnull().sum()"
   ]
  },
  {
   "cell_type": "markdown",
   "metadata": {},
   "source": [
    "reiniciamos el indice en el dataframe para que si este consecutivo despues de eliminar filas"
   ]
  },
  {
   "cell_type": "code",
   "execution_count": 137,
   "metadata": {},
   "outputs": [],
   "source": [
    "df.reset_index(drop=True, inplace=True)"
   ]
  },
  {
   "cell_type": "code",
   "execution_count": 138,
   "metadata": {},
   "outputs": [
    {
     "data": {
      "text/html": [
       "<div>\n",
       "<style scoped>\n",
       "    .dataframe tbody tr th:only-of-type {\n",
       "        vertical-align: middle;\n",
       "    }\n",
       "\n",
       "    .dataframe tbody tr th {\n",
       "        vertical-align: top;\n",
       "    }\n",
       "\n",
       "    .dataframe thead th {\n",
       "        text-align: right;\n",
       "    }\n",
       "</style>\n",
       "<table border=\"1\" class=\"dataframe\">\n",
       "  <thead>\n",
       "    <tr style=\"text-align: right;\">\n",
       "      <th></th>\n",
       "      <th>complaint_what_happened</th>\n",
       "      <th>ticket_classification</th>\n",
       "    </tr>\n",
       "  </thead>\n",
       "  <tbody>\n",
       "    <tr>\n",
       "      <th>0</th>\n",
       "      <td>Good morning my name is XXXX XXXX and I apprec...</td>\n",
       "      <td>Debt collection + Credit card debt</td>\n",
       "    </tr>\n",
       "    <tr>\n",
       "      <th>1</th>\n",
       "      <td>I upgraded my XXXX XXXX card in XX/XX/2018 and...</td>\n",
       "      <td>Credit card or prepaid card + General-purpose ...</td>\n",
       "    </tr>\n",
       "    <tr>\n",
       "      <th>2</th>\n",
       "      <td>Chase Card was reported on XX/XX/2019. However...</td>\n",
       "      <td>Credit reporting, credit repair services, or o...</td>\n",
       "    </tr>\n",
       "    <tr>\n",
       "      <th>3</th>\n",
       "      <td>On XX/XX/2018, while trying to book a XXXX  XX...</td>\n",
       "      <td>Credit reporting, credit repair services, or o...</td>\n",
       "    </tr>\n",
       "    <tr>\n",
       "      <th>4</th>\n",
       "      <td>my grand son give me check for {$1600.00} i de...</td>\n",
       "      <td>Checking or savings account + Checking account</td>\n",
       "    </tr>\n",
       "    <tr>\n",
       "      <th>...</th>\n",
       "      <td>...</td>\n",
       "      <td>...</td>\n",
       "    </tr>\n",
       "    <tr>\n",
       "      <th>18958</th>\n",
       "      <td>My husband passed away. Chase bank put check o...</td>\n",
       "      <td>Checking or savings account + Checking account</td>\n",
       "    </tr>\n",
       "    <tr>\n",
       "      <th>18959</th>\n",
       "      <td>After being a Chase Card customer for well ove...</td>\n",
       "      <td>Credit card or prepaid card + General-purpose ...</td>\n",
       "    </tr>\n",
       "    <tr>\n",
       "      <th>18960</th>\n",
       "      <td>On Wednesday, XX/XX/XXXX I called Chas, my XXX...</td>\n",
       "      <td>Credit card or prepaid card + General-purpose ...</td>\n",
       "    </tr>\n",
       "    <tr>\n",
       "      <th>18961</th>\n",
       "      <td>I am not familiar with XXXX pay and did not un...</td>\n",
       "      <td>Checking or savings account + Checking account</td>\n",
       "    </tr>\n",
       "    <tr>\n",
       "      <th>18962</th>\n",
       "      <td>I have had flawless credit for 30 yrs. I've ha...</td>\n",
       "      <td>Credit card or prepaid card + General-purpose ...</td>\n",
       "    </tr>\n",
       "  </tbody>\n",
       "</table>\n",
       "<p>18963 rows × 2 columns</p>\n",
       "</div>"
      ],
      "text/plain": [
       "                                 complaint_what_happened  \\\n",
       "0      Good morning my name is XXXX XXXX and I apprec...   \n",
       "1      I upgraded my XXXX XXXX card in XX/XX/2018 and...   \n",
       "2      Chase Card was reported on XX/XX/2019. However...   \n",
       "3      On XX/XX/2018, while trying to book a XXXX  XX...   \n",
       "4      my grand son give me check for {$1600.00} i de...   \n",
       "...                                                  ...   \n",
       "18958  My husband passed away. Chase bank put check o...   \n",
       "18959  After being a Chase Card customer for well ove...   \n",
       "18960  On Wednesday, XX/XX/XXXX I called Chas, my XXX...   \n",
       "18961  I am not familiar with XXXX pay and did not un...   \n",
       "18962  I have had flawless credit for 30 yrs. I've ha...   \n",
       "\n",
       "                                   ticket_classification  \n",
       "0                     Debt collection + Credit card debt  \n",
       "1      Credit card or prepaid card + General-purpose ...  \n",
       "2      Credit reporting, credit repair services, or o...  \n",
       "3      Credit reporting, credit repair services, or o...  \n",
       "4         Checking or savings account + Checking account  \n",
       "...                                                  ...  \n",
       "18958     Checking or savings account + Checking account  \n",
       "18959  Credit card or prepaid card + General-purpose ...  \n",
       "18960  Credit card or prepaid card + General-purpose ...  \n",
       "18961     Checking or savings account + Checking account  \n",
       "18962  Credit card or prepaid card + General-purpose ...  \n",
       "\n",
       "[18963 rows x 2 columns]"
      ]
     },
     "execution_count": 138,
     "metadata": {},
     "output_type": "execute_result"
    }
   ],
   "source": [
    "df"
   ]
  },
  {
   "cell_type": "markdown",
   "metadata": {},
   "source": [
    "Guardamos el dataframe limpio en un nuevo archivo CSV"
   ]
  },
  {
   "cell_type": "code",
   "execution_count": 139,
   "metadata": {},
   "outputs": [],
   "source": [
    "import os\n",
    "\n",
    "# Creamos la carpeta clean_data si no existe\n",
    "os.makedirs('data/clean_data', exist_ok=True)\n",
    "\n",
    "df.to_csv('data/clean_data/cleaned_tickets.csv', index=False)"
   ]
  },
  {
   "cell_type": "markdown",
   "metadata": {},
   "source": [
    "## EDA"
   ]
  },
  {
   "cell_type": "code",
   "execution_count": 140,
   "metadata": {},
   "outputs": [
    {
     "data": {
      "text/html": [
       "<div>\n",
       "<style scoped>\n",
       "    .dataframe tbody tr th:only-of-type {\n",
       "        vertical-align: middle;\n",
       "    }\n",
       "\n",
       "    .dataframe tbody tr th {\n",
       "        vertical-align: top;\n",
       "    }\n",
       "\n",
       "    .dataframe thead th {\n",
       "        text-align: right;\n",
       "    }\n",
       "</style>\n",
       "<table border=\"1\" class=\"dataframe\">\n",
       "  <thead>\n",
       "    <tr style=\"text-align: right;\">\n",
       "      <th></th>\n",
       "      <th>complaint_what_happened</th>\n",
       "      <th>ticket_classification</th>\n",
       "    </tr>\n",
       "  </thead>\n",
       "  <tbody>\n",
       "    <tr>\n",
       "      <th>0</th>\n",
       "      <td>Good morning my name is XXXX XXXX and I apprec...</td>\n",
       "      <td>Debt collection + Credit card debt</td>\n",
       "    </tr>\n",
       "    <tr>\n",
       "      <th>1</th>\n",
       "      <td>I upgraded my XXXX XXXX card in XX/XX/2018 and...</td>\n",
       "      <td>Credit card or prepaid card + General-purpose ...</td>\n",
       "    </tr>\n",
       "    <tr>\n",
       "      <th>2</th>\n",
       "      <td>Chase Card was reported on XX/XX/2019. However...</td>\n",
       "      <td>Credit reporting, credit repair services, or o...</td>\n",
       "    </tr>\n",
       "    <tr>\n",
       "      <th>3</th>\n",
       "      <td>On XX/XX/2018, while trying to book a XXXX  XX...</td>\n",
       "      <td>Credit reporting, credit repair services, or o...</td>\n",
       "    </tr>\n",
       "    <tr>\n",
       "      <th>4</th>\n",
       "      <td>my grand son give me check for {$1600.00} i de...</td>\n",
       "      <td>Checking or savings account + Checking account</td>\n",
       "    </tr>\n",
       "    <tr>\n",
       "      <th>...</th>\n",
       "      <td>...</td>\n",
       "      <td>...</td>\n",
       "    </tr>\n",
       "    <tr>\n",
       "      <th>18958</th>\n",
       "      <td>My husband passed away. Chase bank put check o...</td>\n",
       "      <td>Checking or savings account + Checking account</td>\n",
       "    </tr>\n",
       "    <tr>\n",
       "      <th>18959</th>\n",
       "      <td>After being a Chase Card customer for well ove...</td>\n",
       "      <td>Credit card or prepaid card + General-purpose ...</td>\n",
       "    </tr>\n",
       "    <tr>\n",
       "      <th>18960</th>\n",
       "      <td>On Wednesday, XX/XX/XXXX I called Chas, my XXX...</td>\n",
       "      <td>Credit card or prepaid card + General-purpose ...</td>\n",
       "    </tr>\n",
       "    <tr>\n",
       "      <th>18961</th>\n",
       "      <td>I am not familiar with XXXX pay and did not un...</td>\n",
       "      <td>Checking or savings account + Checking account</td>\n",
       "    </tr>\n",
       "    <tr>\n",
       "      <th>18962</th>\n",
       "      <td>I have had flawless credit for 30 yrs. I've ha...</td>\n",
       "      <td>Credit card or prepaid card + General-purpose ...</td>\n",
       "    </tr>\n",
       "  </tbody>\n",
       "</table>\n",
       "<p>18963 rows × 2 columns</p>\n",
       "</div>"
      ],
      "text/plain": [
       "                                 complaint_what_happened  \\\n",
       "0      Good morning my name is XXXX XXXX and I apprec...   \n",
       "1      I upgraded my XXXX XXXX card in XX/XX/2018 and...   \n",
       "2      Chase Card was reported on XX/XX/2019. However...   \n",
       "3      On XX/XX/2018, while trying to book a XXXX  XX...   \n",
       "4      my grand son give me check for {$1600.00} i de...   \n",
       "...                                                  ...   \n",
       "18958  My husband passed away. Chase bank put check o...   \n",
       "18959  After being a Chase Card customer for well ove...   \n",
       "18960  On Wednesday, XX/XX/XXXX I called Chas, my XXX...   \n",
       "18961  I am not familiar with XXXX pay and did not un...   \n",
       "18962  I have had flawless credit for 30 yrs. I've ha...   \n",
       "\n",
       "                                   ticket_classification  \n",
       "0                     Debt collection + Credit card debt  \n",
       "1      Credit card or prepaid card + General-purpose ...  \n",
       "2      Credit reporting, credit repair services, or o...  \n",
       "3      Credit reporting, credit repair services, or o...  \n",
       "4         Checking or savings account + Checking account  \n",
       "...                                                  ...  \n",
       "18958     Checking or savings account + Checking account  \n",
       "18959  Credit card or prepaid card + General-purpose ...  \n",
       "18960  Credit card or prepaid card + General-purpose ...  \n",
       "18961     Checking or savings account + Checking account  \n",
       "18962  Credit card or prepaid card + General-purpose ...  \n",
       "\n",
       "[18963 rows x 2 columns]"
      ]
     },
     "execution_count": 140,
     "metadata": {},
     "output_type": "execute_result"
    }
   ],
   "source": [
    "df = pd.read_csv('./data/clean_data/cleaned_tickets.csv')\n",
    "df"
   ]
  },
  {
   "cell_type": "markdown",
   "metadata": {},
   "source": [
    "Vemos el contenido de las primeras filas para ver como quedo el dataframe"
   ]
  },
  {
   "cell_type": "code",
   "execution_count": 141,
   "metadata": {},
   "outputs": [
    {
     "data": {
      "text/html": [
       "<div>\n",
       "<style scoped>\n",
       "    .dataframe tbody tr th:only-of-type {\n",
       "        vertical-align: middle;\n",
       "    }\n",
       "\n",
       "    .dataframe tbody tr th {\n",
       "        vertical-align: top;\n",
       "    }\n",
       "\n",
       "    .dataframe thead th {\n",
       "        text-align: right;\n",
       "    }\n",
       "</style>\n",
       "<table border=\"1\" class=\"dataframe\">\n",
       "  <thead>\n",
       "    <tr style=\"text-align: right;\">\n",
       "      <th></th>\n",
       "      <th>complaint_what_happened</th>\n",
       "      <th>ticket_classification</th>\n",
       "    </tr>\n",
       "  </thead>\n",
       "  <tbody>\n",
       "    <tr>\n",
       "      <th>0</th>\n",
       "      <td>Good morning my name is XXXX XXXX and I apprec...</td>\n",
       "      <td>Debt collection + Credit card debt</td>\n",
       "    </tr>\n",
       "    <tr>\n",
       "      <th>1</th>\n",
       "      <td>I upgraded my XXXX XXXX card in XX/XX/2018 and...</td>\n",
       "      <td>Credit card or prepaid card + General-purpose ...</td>\n",
       "    </tr>\n",
       "    <tr>\n",
       "      <th>2</th>\n",
       "      <td>Chase Card was reported on XX/XX/2019. However...</td>\n",
       "      <td>Credit reporting, credit repair services, or o...</td>\n",
       "    </tr>\n",
       "    <tr>\n",
       "      <th>3</th>\n",
       "      <td>On XX/XX/2018, while trying to book a XXXX  XX...</td>\n",
       "      <td>Credit reporting, credit repair services, or o...</td>\n",
       "    </tr>\n",
       "    <tr>\n",
       "      <th>4</th>\n",
       "      <td>my grand son give me check for {$1600.00} i de...</td>\n",
       "      <td>Checking or savings account + Checking account</td>\n",
       "    </tr>\n",
       "  </tbody>\n",
       "</table>\n",
       "</div>"
      ],
      "text/plain": [
       "                             complaint_what_happened  \\\n",
       "0  Good morning my name is XXXX XXXX and I apprec...   \n",
       "1  I upgraded my XXXX XXXX card in XX/XX/2018 and...   \n",
       "2  Chase Card was reported on XX/XX/2019. However...   \n",
       "3  On XX/XX/2018, while trying to book a XXXX  XX...   \n",
       "4  my grand son give me check for {$1600.00} i de...   \n",
       "\n",
       "                               ticket_classification  \n",
       "0                 Debt collection + Credit card debt  \n",
       "1  Credit card or prepaid card + General-purpose ...  \n",
       "2  Credit reporting, credit repair services, or o...  \n",
       "3  Credit reporting, credit repair services, or o...  \n",
       "4     Checking or savings account + Checking account  "
      ]
     },
     "execution_count": 141,
     "metadata": {},
     "output_type": "execute_result"
    }
   ],
   "source": [
    "df.head()"
   ]
  },
  {
   "cell_type": "markdown",
   "metadata": {},
   "source": [
    "complaint_what_happened: Contiene el texto de la queja del cliente.\n",
    "ticket_classification: Es la combinación de la categoría y subcategoría del producto afectado."
   ]
  },
  {
   "cell_type": "markdown",
   "metadata": {},
   "source": [
    "Sacamos información del dataset"
   ]
  },
  {
   "cell_type": "code",
   "execution_count": 142,
   "metadata": {},
   "outputs": [
    {
     "name": "stdout",
     "output_type": "stream",
     "text": [
      "<class 'pandas.core.frame.DataFrame'>\n",
      "RangeIndex: 18963 entries, 0 to 18962\n",
      "Data columns (total 2 columns):\n",
      " #   Column                   Non-Null Count  Dtype \n",
      "---  ------                   --------------  ----- \n",
      " 0   complaint_what_happened  18963 non-null  object\n",
      " 1   ticket_classification    18963 non-null  object\n",
      "dtypes: object(2)\n",
      "memory usage: 296.4+ KB\n"
     ]
    }
   ],
   "source": [
    "df.info()"
   ]
  },
  {
   "cell_type": "markdown",
   "metadata": {},
   "source": [
    "Ambas columnas son de tipo object, porque contienen texto."
   ]
  },
  {
   "cell_type": "code",
   "execution_count": 143,
   "metadata": {},
   "outputs": [
    {
     "data": {
      "text/html": [
       "<div>\n",
       "<style scoped>\n",
       "    .dataframe tbody tr th:only-of-type {\n",
       "        vertical-align: middle;\n",
       "    }\n",
       "\n",
       "    .dataframe tbody tr th {\n",
       "        vertical-align: top;\n",
       "    }\n",
       "\n",
       "    .dataframe thead th {\n",
       "        text-align: right;\n",
       "    }\n",
       "</style>\n",
       "<table border=\"1\" class=\"dataframe\">\n",
       "  <thead>\n",
       "    <tr style=\"text-align: right;\">\n",
       "      <th></th>\n",
       "      <th>complaint_what_happened</th>\n",
       "      <th>ticket_classification</th>\n",
       "    </tr>\n",
       "  </thead>\n",
       "  <tbody>\n",
       "    <tr>\n",
       "      <th>count</th>\n",
       "      <td>18963</td>\n",
       "      <td>18963</td>\n",
       "    </tr>\n",
       "    <tr>\n",
       "      <th>unique</th>\n",
       "      <td>18824</td>\n",
       "      <td>78</td>\n",
       "    </tr>\n",
       "    <tr>\n",
       "      <th>top</th>\n",
       "      <td>Chase has violated 15 USC 1692 by continuing c...</td>\n",
       "      <td>Credit card or prepaid card + General-purpose ...</td>\n",
       "    </tr>\n",
       "    <tr>\n",
       "      <th>freq</th>\n",
       "      <td>11</td>\n",
       "      <td>4918</td>\n",
       "    </tr>\n",
       "  </tbody>\n",
       "</table>\n",
       "</div>"
      ],
      "text/plain": [
       "                                  complaint_what_happened  \\\n",
       "count                                               18963   \n",
       "unique                                              18824   \n",
       "top     Chase has violated 15 USC 1692 by continuing c...   \n",
       "freq                                                   11   \n",
       "\n",
       "                                    ticket_classification  \n",
       "count                                               18963  \n",
       "unique                                                 78  \n",
       "top     Credit card or prepaid card + General-purpose ...  \n",
       "freq                                                 4918  "
      ]
     },
     "execution_count": 143,
     "metadata": {},
     "output_type": "execute_result"
    }
   ],
   "source": [
    "df.describe()"
   ]
  },
  {
   "cell_type": "markdown",
   "metadata": {},
   "source": [
    "complaint_what_happened:\n",
    "\n",
    "- count: 18,963 (número total de quejas).\n",
    "- unique: 18,824 (número de quejas únicas).\n",
    "- top: El texto de la queja más frecuente.\n",
    "- freq: 11 (esta queja específica aparece 11 veces).\n",
    "\n",
    "ticket_classification:\n",
    "\n",
    "- count: 18,963.\n",
    "- unique: 78 (número de clasificaciones únicas).\n",
    "- top: \"Credit card or prepaid card + General-purpose credit card or charge card\".\n",
    "- freq: 4,918 (esta clasificación aparece 4,918 veces).\n",
    "\n",
    "Interpretación:\n",
    "\n",
    "- La mayoría de las quejas son únicas, entonces hay varios problemas reportados.\n",
    "- La clasificación de tickets más común está relacionada con tarjetas de crédito, lo que mas les importa los clientes."
   ]
  },
  {
   "cell_type": "markdown",
   "metadata": {},
   "source": [
    "Analizamos como se distribuyen las categorias en el dataset"
   ]
  },
  {
   "cell_type": "code",
   "execution_count": 144,
   "metadata": {},
   "outputs": [
    {
     "data": {
      "text/plain": [
       "ticket_classification\n",
       "Credit card or prepaid card + General-purpose credit card or charge card                           4918\n",
       "Checking or savings account + Checking account                                                     3788\n",
       "Credit reporting, credit repair services, or other personal consumer reports + Credit reporting    2011\n",
       "Bank account or service + Checking account                                                         1242\n",
       "Mortgage + Conventional home mortgage                                                               955\n",
       "Mortgage + Conventional fixed mortgage                                                              785\n",
       "Mortgage + FHA mortgage                                                                             496\n",
       "Debt collection + Credit card debt                                                                  427\n",
       "Money transfer, virtual currency, or money service + Domestic (US) money transfer                   344\n",
       "Bank account or service + Other bank product/service                                                301\n",
       "Name: count, dtype: int64"
      ]
     },
     "execution_count": 144,
     "metadata": {},
     "output_type": "execute_result"
    }
   ],
   "source": [
    "ticket_counts = df['ticket_classification'].value_counts()\n",
    "ticket_counts.head(10)"
   ]
  },
  {
   "cell_type": "markdown",
   "metadata": {},
   "source": [
    "Vemos las categorias mas frecuentes en el dataset"
   ]
  },
  {
   "cell_type": "code",
   "execution_count": null,
   "metadata": {},
   "outputs": [],
   "source": [
    "import matplotlib.pyplot as plt\n",
    "\n",
    "ticket_counts.head(10).plot(kind='barh', figsize=(10,6))\n",
    "plt.xlabel('Número de Quejas')\n",
    "plt.ylabel('Clasificación del Ticket')\n",
    "plt.title('Top 10 Clasificaciones de Tickets Más Frecuentes')\n",
    "plt.gca().invert_yaxis()\n",
    "plt.show()"
   ]
  },
  {
   "cell_type": "markdown",
   "metadata": {},
   "source": [
    "Interpretación:\n",
    "\n",
    "- Las quejas relacionadas con tarjetas de crédito y cuentas corrientes son las más comunes.\n",
    "- Los problemas con informes de crédito y hipotecas también son comunes.\n",
    "- La empresa podría enfocarse para mejorar el servicio al cliente y reducir el número de quejas."
   ]
  },
  {
   "cell_type": "markdown",
   "metadata": {},
   "source": [
    "Vemos la longitud de los textos de las quejas"
   ]
  },
  {
   "cell_type": "code",
   "execution_count": 146,
   "metadata": {},
   "outputs": [
    {
     "data": {
      "text/plain": [
       "count    18963.000000\n",
       "mean      1411.152349\n",
       "std       1550.977004\n",
       "min         19.000000\n",
       "25%        536.000000\n",
       "50%        999.000000\n",
       "75%       1760.000000\n",
       "max      31611.000000\n",
       "Name: complaint_length, dtype: float64"
      ]
     },
     "execution_count": 146,
     "metadata": {},
     "output_type": "execute_result"
    }
   ],
   "source": [
    "df['complaint_length'] = df['complaint_what_happened'].str.len()\n",
    "df['complaint_length'].describe()"
   ]
  },
  {
   "cell_type": "markdown",
   "metadata": {},
   "source": [
    "complaint_length:\n",
    "\n",
    "- count: 18,963 (número total de quejas analizadas).\n",
    "- mean: 1,411.15 caracteres (longitud media de las quejas).\n",
    "- std: 1,550.98 caracteres (desviación estándar, alta variabilidad).\n",
    "- min: 19 caracteres (queja más corta).\n",
    "- 25%: 536 caracteres (el 25% de las quejas tienen menos de 536 caracteres).\n",
    "- 50% (mediana): 999 caracteres.\n",
    "- 75%: 1,760 caracteres (el 75% de las quejas tienen menos de 1,760 caracteres).\n",
    "- max: 31,611 caracteres (queja más larga).\n",
    "\n",
    "Interpretación:\n",
    "\n",
    "- La longitud de las quejas varía mucho, desde muy cortas (19 caracteres) hasta muy largas (más de 31,000 caracteres).\n",
    "- La mediana de 999 caracteres indica que la mitad de las quejas tienen menos de 1,000 caracteres.\n",
    "- La alta desviación estándar inidcA que hay quejas MUY largas que podrían afectar el análisis y el procesamiento de texto.\n",
    "-   Veremos como afecta la variabilidad al preprocesar los datos para el modelado."
   ]
  },
  {
   "cell_type": "code",
   "execution_count": null,
   "metadata": {},
   "outputs": [],
   "source": [
    "df['complaint_length'].hist(bins=50, figsize=(10,6))\n",
    "plt.xlabel('Longitud de la Queja')\n",
    "plt.ylabel('Frecuencia')\n",
    "plt.title('Distribución de la Longitud de las Quejas')\n",
    "plt.show()"
   ]
  },
  {
   "cell_type": "markdown",
   "metadata": {},
   "source": [
    "**Conclusiones Generales del EDA:**\n",
    "\n",
    "1. **Diversidad en las Quejas:**  \n",
    "   La mayoría de las quejas son únicas, las repetidas podrian ser del mismo usuario. Esto implica que el modelo debe ser capaz de manejar una variedad de temas y vocabulario.\n",
    "\n",
    "2. **Áreas Principales de Quejas:**  \n",
    "   Las categorías más frecuentes son:\n",
    "   - Tarjetas de crédito y tarjetas prepagas.\n",
    "   - Cuentas corrientes y de ahorro.\n",
    "   - Informes de crédito y servicios de reparación de crédito.\n",
    "   - Hipotecas.  \n",
    "   \n",
    "   Estas áreas son los principales puntos para los clientes y podrían ser utiles para mejorar los servicios y productos ofrecidos.\n",
    "\n",
    "3. **Desbalance de Clases:**  \n",
    "   Existe un desbalance en las clases de `ticket_classification`, con algunas categorías siendo mucho más frecuentes que otras. Esto deberiamos verlo durante el entrenamiento del modelo para evitar sesgos y mejorar la precisión en categorías menos representadas.\n",
    "\n",
    "4. **Variabilidad en la Longitud de las Quejas:**  \n",
    "   - Las quejas varían desde muy cortas hasta muuy largas.  \n",
    "   - El preprocesamiento de texto deberá manejar eficientemente esta variabilidad, tal vez limitando la longitud máxima o utilizando técnicas que capturen información relevante independientemente de la longitud.\n",
    "\n",
    "5. **Posibles Datos Duplicados:**  \n",
    "   La existencia de una queja que aparece 11 veces sugiere posibles duplicados. Aunque el número es pequeño en relación al total de registros, podría ser beneficioso eliminar duplicados para mejorar la calidad del modelo."
   ]
  },
  {
   "cell_type": "markdown",
   "metadata": {},
   "source": [
    "**Implicaciones para el Modelado:**\n",
    "\n",
    "- **Preprocesamiento de Texto:**\n",
    "  - Limpiar y normalizar el texto (eliminar signos de puntuación, convertir a minúsculas, eliminar stopwords, etc.).\n",
    "  - Considerar técnicas de lematización o stemming para reducir palabras a su forma base.\n",
    "  - Manejar las quejas extremadamente largas y cortas, posiblemente estableciendo umbrales o utilizando padding/truncamiento.\n",
    "\n",
    "- **Representación de Texto:**\n",
    "  - Convertir el texto en representaciones numéricas utilizando técnicas como Bag of Words, TF-IDF, o embeddings como Word2Vec, GloVe, o modelos basados en Transformers (por ejemplo, BERT).\n",
    "\n",
    "- **Manejo del Desbalance de Clases:**\n",
    "  - Utilizar técnicas de resampling como sobremuestreo de clases minoritarias o submuestreo de clases mayoritarias.\n",
    "  - Aplicar técnicas como penalización de clases en los algoritmos de aprendizaje o utilizar algoritmos robustos al desbalance de clases.\n",
    "\n",
    "- **Selección de Modelos:**\n",
    "  - Probar diferentes algoritmos de clasificación como Naive Bayes, Random Forest, Support Vector Machines, y modelos de Deep Learning.\n",
    "  - Evaluar el desempeño con métricas adecuadas para clasificación multiclase y desbalanceada (por ejemplo, F1-score macro y weighted).\n",
    "\n",
    "- **Validación Cruzada y Tuning de Hiperparámetros:**\n",
    "  - Utilizar validación cruzada para obtener estimaciones más fiables del desempeño del modelo.\n",
    "  - Realizar tuning de hiperparámetros utilizando técnicas como Grid Search o Random Search, posiblemente integrando con `mlflow` para el tracking de experimentos.\n"
   ]
  },
  {
   "cell_type": "markdown",
   "metadata": {},
   "source": [
    "# Feature Engineering y Preprocesamiento de Datos\n",
    "\n",
    "Preprocesaremos el texto y convertiremos las quejas en una representación numérica que pueda ser utilizada por algoritmos de machine learning."
   ]
  },
  {
   "cell_type": "code",
   "execution_count": 148,
   "metadata": {},
   "outputs": [],
   "source": [
    "import nltk\n",
    "from nltk.corpus import stopwords\n",
    "from nltk.stem import WordNetLemmatizer\n",
    "import string\n",
    "import re\n",
    "\n",
    "from sklearn.model_selection import train_test_split\n",
    "from sklearn.feature_extraction.text import TfidfVectorizer"
   ]
  },
  {
   "cell_type": "code",
   "execution_count": 149,
   "metadata": {},
   "outputs": [
    {
     "name": "stderr",
     "output_type": "stream",
     "text": [
      "[nltk_data] Downloading package stopwords to\n",
      "[nltk_data]     C:\\Users\\diego\\AppData\\Roaming\\nltk_data...\n",
      "[nltk_data]   Package stopwords is already up-to-date!\n",
      "[nltk_data] Downloading package wordnet to\n",
      "[nltk_data]     C:\\Users\\diego\\AppData\\Roaming\\nltk_data...\n",
      "[nltk_data]   Package wordnet is already up-to-date!\n",
      "[nltk_data] Downloading package omw-1.4 to\n",
      "[nltk_data]     C:\\Users\\diego\\AppData\\Roaming\\nltk_data...\n",
      "[nltk_data]   Package omw-1.4 is already up-to-date!\n"
     ]
    },
    {
     "data": {
      "text/plain": [
       "True"
      ]
     },
     "execution_count": 149,
     "metadata": {},
     "output_type": "execute_result"
    }
   ],
   "source": [
    "# Descargar las stopwords y el lematizador de nltk\n",
    "nltk.download('stopwords')\n",
    "nltk.download('wordnet')\n",
    "nltk.download('omw-1.4')"
   ]
  },
  {
   "cell_type": "markdown",
   "metadata": {},
   "source": [
    "Funcion para preprocesar y limpiar el texto de las quejas"
   ]
  },
  {
   "cell_type": "code",
   "execution_count": 150,
   "metadata": {},
   "outputs": [],
   "source": [
    "def preprocess_text(text):\n",
    "    # Convertir a minúsculas\n",
    "    text = text.lower()\n",
    "    \n",
    "    # Eliminar URLs y direcciones de correo electrónico\n",
    "    text = re.sub(r'http\\S+|www.\\S+|@\\S+', '', text)\n",
    "    \n",
    "    # Eliminar números y caracteres especiales\n",
    "    text = re.sub(r'[^a-zA-Z\\s]', '', text)\n",
    "    \n",
    "    # Tokenización\n",
    "    tokens = text.split()\n",
    "    \n",
    "    # Eliminar stopwords\n",
    "    stop_words = set(stopwords.words('english'))\n",
    "    tokens = [word for word in tokens if word not in stop_words]\n",
    "    \n",
    "    # Lematización\n",
    "    lemmatizer = WordNetLemmatizer()\n",
    "    tokens = [lemmatizer.lemmatize(word) for word in tokens]\n",
    "    \n",
    "    # Reconstruir el texto\n",
    "    text = ' '.join(tokens)\n",
    "    return text"
   ]
  },
  {
   "cell_type": "code",
   "execution_count": 151,
   "metadata": {},
   "outputs": [],
   "source": [
    "#Aplicamos la función de preprocesamiento a la columna complaint_what_happened.\n",
    "df['clean_complaint'] = df['complaint_what_happened'].apply(preprocess_text)"
   ]
  },
  {
   "cell_type": "code",
   "execution_count": 152,
   "metadata": {},
   "outputs": [
    {
     "data": {
      "text/html": [
       "<div>\n",
       "<style scoped>\n",
       "    .dataframe tbody tr th:only-of-type {\n",
       "        vertical-align: middle;\n",
       "    }\n",
       "\n",
       "    .dataframe tbody tr th {\n",
       "        vertical-align: top;\n",
       "    }\n",
       "\n",
       "    .dataframe thead th {\n",
       "        text-align: right;\n",
       "    }\n",
       "</style>\n",
       "<table border=\"1\" class=\"dataframe\">\n",
       "  <thead>\n",
       "    <tr style=\"text-align: right;\">\n",
       "      <th></th>\n",
       "      <th>complaint_what_happened</th>\n",
       "      <th>clean_complaint</th>\n",
       "    </tr>\n",
       "  </thead>\n",
       "  <tbody>\n",
       "    <tr>\n",
       "      <th>0</th>\n",
       "      <td>Good morning my name is XXXX XXXX and I apprec...</td>\n",
       "      <td>good morning name xxxx xxxx appreciate could h...</td>\n",
       "    </tr>\n",
       "    <tr>\n",
       "      <th>1</th>\n",
       "      <td>I upgraded my XXXX XXXX card in XX/XX/2018 and...</td>\n",
       "      <td>upgraded xxxx xxxx card xxxx told agent upgrad...</td>\n",
       "    </tr>\n",
       "    <tr>\n",
       "      <th>2</th>\n",
       "      <td>Chase Card was reported on XX/XX/2019. However...</td>\n",
       "      <td>chase card reported xxxx however fraudulent ap...</td>\n",
       "    </tr>\n",
       "    <tr>\n",
       "      <th>3</th>\n",
       "      <td>On XX/XX/2018, while trying to book a XXXX  XX...</td>\n",
       "      <td>xxxx trying book xxxx xxxx ticket came across ...</td>\n",
       "    </tr>\n",
       "    <tr>\n",
       "      <th>4</th>\n",
       "      <td>my grand son give me check for {$1600.00} i de...</td>\n",
       "      <td>grand son give check deposit chase account fun...</td>\n",
       "    </tr>\n",
       "    <tr>\n",
       "      <th>...</th>\n",
       "      <td>...</td>\n",
       "      <td>...</td>\n",
       "    </tr>\n",
       "    <tr>\n",
       "      <th>18958</th>\n",
       "      <td>My husband passed away. Chase bank put check o...</td>\n",
       "      <td>husband passed away chase bank put check hold ...</td>\n",
       "    </tr>\n",
       "    <tr>\n",
       "      <th>18959</th>\n",
       "      <td>After being a Chase Card customer for well ove...</td>\n",
       "      <td>chase card customer well decade offered multip...</td>\n",
       "    </tr>\n",
       "    <tr>\n",
       "      <th>18960</th>\n",
       "      <td>On Wednesday, XX/XX/XXXX I called Chas, my XXX...</td>\n",
       "      <td>wednesday xxxxxxxx called chas xxxx xxxx visa ...</td>\n",
       "    </tr>\n",
       "    <tr>\n",
       "      <th>18961</th>\n",
       "      <td>I am not familiar with XXXX pay and did not un...</td>\n",
       "      <td>familiar xxxx pay understand great risk provid...</td>\n",
       "    </tr>\n",
       "    <tr>\n",
       "      <th>18962</th>\n",
       "      <td>I have had flawless credit for 30 yrs. I've ha...</td>\n",
       "      <td>flawless credit yr ive chase credit card chase...</td>\n",
       "    </tr>\n",
       "  </tbody>\n",
       "</table>\n",
       "<p>18963 rows × 2 columns</p>\n",
       "</div>"
      ],
      "text/plain": [
       "                                 complaint_what_happened  \\\n",
       "0      Good morning my name is XXXX XXXX and I apprec...   \n",
       "1      I upgraded my XXXX XXXX card in XX/XX/2018 and...   \n",
       "2      Chase Card was reported on XX/XX/2019. However...   \n",
       "3      On XX/XX/2018, while trying to book a XXXX  XX...   \n",
       "4      my grand son give me check for {$1600.00} i de...   \n",
       "...                                                  ...   \n",
       "18958  My husband passed away. Chase bank put check o...   \n",
       "18959  After being a Chase Card customer for well ove...   \n",
       "18960  On Wednesday, XX/XX/XXXX I called Chas, my XXX...   \n",
       "18961  I am not familiar with XXXX pay and did not un...   \n",
       "18962  I have had flawless credit for 30 yrs. I've ha...   \n",
       "\n",
       "                                         clean_complaint  \n",
       "0      good morning name xxxx xxxx appreciate could h...  \n",
       "1      upgraded xxxx xxxx card xxxx told agent upgrad...  \n",
       "2      chase card reported xxxx however fraudulent ap...  \n",
       "3      xxxx trying book xxxx xxxx ticket came across ...  \n",
       "4      grand son give check deposit chase account fun...  \n",
       "...                                                  ...  \n",
       "18958  husband passed away chase bank put check hold ...  \n",
       "18959  chase card customer well decade offered multip...  \n",
       "18960  wednesday xxxxxxxx called chas xxxx xxxx visa ...  \n",
       "18961  familiar xxxx pay understand great risk provid...  \n",
       "18962  flawless credit yr ive chase credit card chase...  \n",
       "\n",
       "[18963 rows x 2 columns]"
      ]
     },
     "execution_count": 152,
     "metadata": {},
     "output_type": "execute_result"
    }
   ],
   "source": [
    "# Observamos algunas filas para verificar que el preprocesamiento se realizó correctamente.\n",
    "df[['complaint_what_happened', 'clean_complaint']]"
   ]
  },
  {
   "cell_type": "code",
   "execution_count": 163,
   "metadata": {},
   "outputs": [
    {
     "data": {
      "text/plain": [
       "array(['Debt collection + Credit card debt',\n",
       "       'Credit card or prepaid card + General-purpose credit card or charge card',\n",
       "       'Credit reporting, credit repair services, or other personal consumer reports + Other personal consumer report',\n",
       "       'Credit reporting, credit repair services, or other personal consumer reports + Credit reporting',\n",
       "       'Checking or savings account + Checking account',\n",
       "       'Vehicle loan or lease + Loan',\n",
       "       'Money transfer, virtual currency, or money service + Domestic (US) money transfer',\n",
       "       'Checking or savings account + Savings account',\n",
       "       'Mortgage + Conventional home mortgage',\n",
       "       'Mortgage + Home equity loan or line of credit (HELOC)',\n",
       "       'Student loan + Private student loan',\n",
       "       'Debt collection + I do not know', 'Consumer Loan + Vehicle loan',\n",
       "       'Mortgage + FHA mortgage',\n",
       "       'Money transfer, virtual currency, or money service + Mobile or digital wallet',\n",
       "       'Money transfer, virtual currency, or money service + Virtual currency',\n",
       "       'Mortgage + VA mortgage', 'Mortgage + Other type of mortgage',\n",
       "       'Money transfer, virtual currency, or money service + International money transfer',\n",
       "       'Vehicle loan or lease + Lease',\n",
       "       'Credit card or prepaid card + Store credit card',\n",
       "       'Money transfer, virtual currency, or money service + Check cashing service',\n",
       "       'Checking or savings account + Other banking product or service',\n",
       "       'Credit card or prepaid card + General-purpose prepaid card',\n",
       "       'Payday loan, title loan, or personal loan + Personal line of credit',\n",
       "       'Credit reporting, credit repair services, or other personal consumer reports + Credit repair services',\n",
       "       'Money transfer, virtual currency, or money service + Foreign currency exchange',\n",
       "       'Debt collection + Other debt',\n",
       "       'Bank account or service + Checking account',\n",
       "       'Mortgage + Home equity loan or line of credit',\n",
       "       'Consumer Loan + Installment loan',\n",
       "       'Bank account or service + Other bank product/service',\n",
       "       'Debt collection + Other (i.e. phone, health club, etc.)',\n",
       "       'Debt collection + Credit card',\n",
       "       'Mortgage + Conventional adjustable mortgage (ARM)',\n",
       "       'Mortgage + Other mortgage', 'Debt collection + Auto',\n",
       "       'Mortgage + Conventional fixed mortgage',\n",
       "       'Bank account or service + Savings account',\n",
       "       'Student loan + Non-federal student loan',\n",
       "       'Debt collection + Private student loan debt',\n",
       "       'Payday loan, title loan, or personal loan + Title loan',\n",
       "       'Debt collection + Mortgage debt',\n",
       "       'Bank account or service + Cashing a check without an account',\n",
       "       'Money transfers + International money transfer',\n",
       "       \"Money transfer, virtual currency, or money service + Traveler's check or cashier's check\",\n",
       "       'Credit card or prepaid card + Payroll card',\n",
       "       'Debt collection + Auto debt',\n",
       "       'Payday loan, title loan, or personal loan + Payday loan',\n",
       "       'Checking or savings account + CD (Certificate of Deposit)',\n",
       "       'Payday loan, title loan, or personal loan + Installment loan',\n",
       "       'Credit card or prepaid card + Government benefit card',\n",
       "       'Credit card or prepaid card + Gift card',\n",
       "       'Mortgage + Reverse mortgage',\n",
       "       'Money transfer, virtual currency, or money service + Money order',\n",
       "       'Money transfer, virtual currency, or money service + Refund anticipation check',\n",
       "       'Money transfers + Domestic (US) money transfer',\n",
       "       'Debt collection + Mortgage', 'Debt collection + Payday loan debt',\n",
       "       'Debt collection + Payday loan',\n",
       "       'Prepaid card + Electronic Benefit Transfer / EBT card',\n",
       "       'Consumer Loan + Vehicle lease',\n",
       "       'Money transfer, virtual currency, or money service + Debt settlement',\n",
       "       'Checking or savings account + Personal line of credit',\n",
       "       'Debt collection + Non-federal student loan',\n",
       "       'Student loan + Federal student loan servicing',\n",
       "       'Prepaid card + Other special purpose card',\n",
       "       'Bank account or service + (CD) Certificate of deposit',\n",
       "       'Other financial service + Traveler’s/Cashier’s checks',\n",
       "       'Other financial service + Foreign currency exchange',\n",
       "       'Consumer Loan + Pawn loan',\n",
       "       'Prepaid card + Government benefit payment card',\n",
       "       'Other financial service + Check cashing',\n",
       "       'Prepaid card + General purpose card',\n",
       "       'Debt collection + Federal student loan',\n",
       "       'Other financial service + Money order',\n",
       "       'Consumer Loan + Title loan',\n",
       "       'Prepaid card + Gift or merchant card'], dtype=object)"
      ]
     },
     "execution_count": 163,
     "metadata": {},
     "output_type": "execute_result"
    }
   ],
   "source": [
    "# Ver todas las clases de ticket_classification\n",
    "df['ticket_classification'].unique()"
   ]
  },
  {
   "cell_type": "code",
   "execution_count": 164,
   "metadata": {},
   "outputs": [
    {
     "data": {
      "text/plain": [
       "78"
      ]
     },
     "execution_count": 164,
     "metadata": {},
     "output_type": "execute_result"
    }
   ],
   "source": [
    "# Ver cuántas clases únicas hay\n",
    "df['ticket_classification'].nunique()"
   ]
  },
  {
   "cell_type": "markdown",
   "metadata": {},
   "source": []
  },
  {
   "cell_type": "code",
   "execution_count": 61,
   "metadata": {},
   "outputs": [],
   "source": [
    "# Dividir el dataset en train test split\n",
    "X = df['clean_complaint']\n",
    "y = df['ticket_classification']\n",
    "\n",
    "X_train, X_test, y_train, y_test = train_test_split(X, y, test_size=0.2, random_state=11)"
   ]
  },
  {
   "cell_type": "code",
   "execution_count": 62,
   "metadata": {},
   "outputs": [],
   "source": [
    "# Convertimos el texto a vectores numericos usando TF-IDF Vectorizer\n",
    "vectorizer = TfidfVectorizer(max_features=5000)\n",
    "X_train_tfidf = vectorizer.fit_transform(X_train)\n",
    "X_test_tfidf = vectorizer.transform(X_test)"
   ]
  },
  {
   "cell_type": "code",
   "execution_count": 63,
   "metadata": {},
   "outputs": [],
   "source": [
    "# Guardamos los datos preprocesados y el vectorizador para usarlos cuando entrenemos el modelo\n",
    "import pickle"
   ]
  },
  {
   "cell_type": "code",
   "execution_count": 64,
   "metadata": {},
   "outputs": [],
   "source": [
    "import os\n",
    "\n",
    "# Crear la carpeta processed_data si no existe\n",
    "os.makedirs('data/processed_data', exist_ok=True)\n",
    "\n",
    "# Guardar los datos\n",
    "with open('data/processed_data/X_train_tfidf.pkl', 'wb') as f:\n",
    "    pickle.dump(X_train_tfidf, f)\n",
    "    \n",
    "with open('data/processed_data/X_test_tfidf.pkl', 'wb') as f:\n",
    "    pickle.dump(X_test_tfidf, f)"
   ]
  },
  {
   "cell_type": "code",
   "execution_count": 65,
   "metadata": {},
   "outputs": [],
   "source": [
    "# Guardar las etiquetas\n",
    "y_train.to_csv('data/processed_data/y_train.csv', index=False)\n",
    "y_test.to_csv('data/processed_data/y_test.csv', index=False)\n",
    "\n",
    "# Crear la carpeta models si no existe\n",
    "os.makedirs('models', exist_ok=True)\n",
    "\n",
    "# Guardar el vectorizador\n",
    "with open('models/tfidf_vectorizer.pkl', 'wb') as f:\n",
    "    pickle.dump(vectorizer, f)"
   ]
  },
  {
   "cell_type": "markdown",
   "metadata": {},
   "source": [
    "- Preprocesamiento de Texto: Limpiamos el texto eliminando URLs, correos electrónicos, números y caracteres especiales. Convertimos el texto a minúsculas, eliminamos stopwords y aplicamos lematización.\n",
    "- Vectorización: Convertimos el texto preprocesado en una matriz de características numéricas utilizando TF-IDF.\n",
    "- División de Datos: Separamos los datos en conjuntos de entrenamiento y prueba para evaluar el rendimiento del modelo,\n",
    "- Guardar los Datos: Guardamos los datos procesados y el vectorizador para facilitar el entrenamiento de modelos."
   ]
  },
  {
   "cell_type": "markdown",
   "metadata": {},
   "source": [
    "### Entrenar modelos y tracking de Experimentos con MLflow"
   ]
  },
  {
   "cell_type": "code",
   "execution_count": 66,
   "metadata": {},
   "outputs": [],
   "source": [
    "from sklearn.linear_model import LogisticRegression\n",
    "from sklearn.ensemble import RandomForestClassifier\n",
    "from sklearn.metrics import classification_report, accuracy_score\n",
    "import mlflow\n",
    "import mlflow.sklearn"
   ]
  },
  {
   "cell_type": "code",
   "execution_count": 67,
   "metadata": {},
   "outputs": [
    {
     "data": {
      "text/html": [
       "<pre style=\"white-space:pre;overflow-x:auto;line-height:normal;font-family:Menlo,'DejaVu Sans Mono',consolas,'Courier New',monospace\">Initialized MLflow to track repo <span style=\"color: #008000; text-decoration-color: #008000\">\"zapatacc/final-exam-pcd2024-autumn\"</span>\n",
       "</pre>\n"
      ],
      "text/plain": [
       "Initialized MLflow to track repo \u001b[32m\"zapatacc/final-exam-pcd2024-autumn\"\u001b[0m\n"
      ]
     },
     "metadata": {},
     "output_type": "display_data"
    },
    {
     "data": {
      "text/html": [
       "<pre style=\"white-space:pre;overflow-x:auto;line-height:normal;font-family:Menlo,'DejaVu Sans Mono',consolas,'Courier New',monospace\">Repository zapatacc/final-exam-pcd2024-autumn initialized!\n",
       "</pre>\n"
      ],
      "text/plain": [
       "Repository zapatacc/final-exam-pcd2024-autumn initialized!\n"
      ]
     },
     "metadata": {},
     "output_type": "display_data"
    }
   ],
   "source": [
    "import dagshub\n",
    "dagshub.init(repo_owner='zapatacc', repo_name='final-exam-pcd2024-autumn', mlflow=True)"
   ]
  },
  {
   "cell_type": "code",
   "execution_count": 68,
   "metadata": {},
   "outputs": [],
   "source": [
    "# Configuramos mlflow para el tracking de experimentos con DagsHub\n",
    "# URI de tracking de MLflow\n",
    "mlflow.set_tracking_uri('https://dagshub.com/zapatacc/final-exam-pcd2024-autumn.mlflow')  \n",
    "\n",
    "# Establecemos el nombre del experimento siguiendo el formato 'nombre-nombre-del-algoritmo'\n",
    "experiment_name_logreg = 'diego-mercado-logistic-regression'\n",
    "experiment_name_rf = 'diego-mercado-random-forest'"
   ]
  },
  {
   "cell_type": "code",
   "execution_count": 69,
   "metadata": {},
   "outputs": [],
   "source": [
    "# export MLFLOW_TRACKING_USERNAME='diego-mercadoc'\n",
    "# export MLFLOW_TRACKING_PASSWORD='e724448e1845c324164d75bb978ad9c472a35a9f'"
   ]
  },
  {
   "cell_type": "code",
   "execution_count": 70,
   "metadata": {},
   "outputs": [],
   "source": [
    "# Funcion de entrenamiento y tracking para trackear parametros y metricas y registrar modelo en mlflow\n",
    "def train_model(model, model_name, params, experiment_name):\n",
    "    mlflow.set_experiment(experiment_name)\n",
    "    with mlflow.start_run(run_name=model_name):\n",
    "        # Entrenamiento del modelo\n",
    "        model.set_params(**params)\n",
    "        model.fit(X_train_tfidf, y_train)\n",
    "        \n",
    "        # Predicciones\n",
    "        y_pred = model.predict(X_test_tfidf)\n",
    "        \n",
    "        # Métricas\n",
    "        accuracy = accuracy_score(y_test, y_pred)\n",
    "        report = classification_report(y_test, y_pred, output_dict=True)\n",
    "        \n",
    "        # Logging de parámetros y métricas\n",
    "        mlflow.log_params(params)\n",
    "        mlflow.log_metric('accuracy', accuracy)\n",
    "        \n",
    "        # Logging del modelo\n",
    "        mlflow.sklearn.log_model(model, model_name)\n",
    "        \n",
    "        # Imprimir resultados\n",
    "        print(f\"Modelo: {model_name}\")\n",
    "        print(f\"Accuracy: {accuracy}\")"
   ]
  },
  {
   "cell_type": "code",
   "execution_count": 71,
   "metadata": {},
   "outputs": [],
   "source": [
    "# Definir los modelos y los hiperparametros qye vamos a probar\n",
    "# Modelo 1: Regresión Logística\n",
    "logreg = LogisticRegression(max_iter=1000)\n",
    "\n",
    "logreg_params = {\n",
    "    'C': 1.0,\n",
    "    'penalty': 'l2',\n",
    "    'solver': 'lbfgs'\n",
    "}\n",
    "\n",
    "# Modelo 2: Bosque Aleatorio\n",
    "rf = RandomForestClassifier()\n",
    "\n",
    "rf_params = {\n",
    "    'n_estimators': 100,\n",
    "    'max_depth': None,\n",
    "    'min_samples_split': 2\n",
    "}"
   ]
  },
  {
   "cell_type": "code",
   "execution_count": 72,
   "metadata": {},
   "outputs": [],
   "source": [
    "# bash para startear mlflow en la terminal\n",
    "# mlflow server --backend-store-uri sqlite:///mlflow.db --default-artifact-root ./mlflow-artifacts --host"
   ]
  },
  {
   "cell_type": "code",
   "execution_count": 73,
   "metadata": {},
   "outputs": [],
   "source": [
    "# from mlflow.tracking import MlflowClient\n",
    "\n",
    "# client = MlflowClient()"
   ]
  },
  {
   "cell_type": "code",
   "execution_count": 74,
   "metadata": {},
   "outputs": [],
   "source": [
    "# # Crear el experimento si no existe\n",
    "# if not mlflow.get_experiment_by_name(experiment_name_logreg):\n",
    "# \tmlflow.create_experiment(experiment_name_logreg)\n",
    "# \t#client.create_experiment(name=experiment_name_logreg)\n",
    "\n",
    "# if not mlflow.get_experiment_by_name(experiment_name_rf):\n",
    "# \tmlflow.create_experiment(experiment_name_rf)\n",
    "# \t#client.create_experiment(name=experiment_name_rf)"
   ]
  },
  {
   "cell_type": "code",
   "execution_count": 75,
   "metadata": {},
   "outputs": [
    {
     "name": "stderr",
     "output_type": "stream",
     "text": [
      "c:\\Users\\diego\\AppData\\Local\\Programs\\Python\\Python311\\Lib\\site-packages\\sklearn\\metrics\\_classification.py:1531: UndefinedMetricWarning: Precision is ill-defined and being set to 0.0 in labels with no predicted samples. Use `zero_division` parameter to control this behavior.\n",
      "  _warn_prf(average, modifier, f\"{metric.capitalize()} is\", len(result))\n",
      "c:\\Users\\diego\\AppData\\Local\\Programs\\Python\\Python311\\Lib\\site-packages\\sklearn\\metrics\\_classification.py:1531: UndefinedMetricWarning: Precision is ill-defined and being set to 0.0 in labels with no predicted samples. Use `zero_division` parameter to control this behavior.\n",
      "  _warn_prf(average, modifier, f\"{metric.capitalize()} is\", len(result))\n",
      "c:\\Users\\diego\\AppData\\Local\\Programs\\Python\\Python311\\Lib\\site-packages\\sklearn\\metrics\\_classification.py:1531: UndefinedMetricWarning: Precision is ill-defined and being set to 0.0 in labels with no predicted samples. Use `zero_division` parameter to control this behavior.\n",
      "  _warn_prf(average, modifier, f\"{metric.capitalize()} is\", len(result))\n",
      "2024/11/20 14:56:32 WARNING mlflow.models.model: Model logged without a signature and input example. Please set `input_example` parameter when logging the model to auto infer the model signature.\n",
      "2024/11/20 14:56:37 INFO mlflow.tracking._tracking_service.client: 🏃 View run Logistic Regression Baseline at: https://dagshub.com/zapatacc/final-exam-pcd2024-autumn.mlflow/#/experiments/0/runs/4598c7bd8e994c94be4dae2ff2d1dbe2.\n",
      "2024/11/20 14:56:37 INFO mlflow.tracking._tracking_service.client: 🧪 View experiment at: https://dagshub.com/zapatacc/final-exam-pcd2024-autumn.mlflow/#/experiments/0.\n"
     ]
    },
    {
     "name": "stdout",
     "output_type": "stream",
     "text": [
      "Modelo: Logistic Regression Baseline\n",
      "Accuracy: 0.5676245715792249\n"
     ]
    },
    {
     "name": "stderr",
     "output_type": "stream",
     "text": [
      "2024/11/20 14:56:38 INFO mlflow.tracking.fluent: Experiment with name 'diego-mercado-random-forest' does not exist. Creating a new experiment.\n",
      "c:\\Users\\diego\\AppData\\Local\\Programs\\Python\\Python311\\Lib\\site-packages\\sklearn\\metrics\\_classification.py:1531: UndefinedMetricWarning: Precision is ill-defined and being set to 0.0 in labels with no predicted samples. Use `zero_division` parameter to control this behavior.\n",
      "  _warn_prf(average, modifier, f\"{metric.capitalize()} is\", len(result))\n",
      "c:\\Users\\diego\\AppData\\Local\\Programs\\Python\\Python311\\Lib\\site-packages\\sklearn\\metrics\\_classification.py:1531: UndefinedMetricWarning: Precision is ill-defined and being set to 0.0 in labels with no predicted samples. Use `zero_division` parameter to control this behavior.\n",
      "  _warn_prf(average, modifier, f\"{metric.capitalize()} is\", len(result))\n",
      "c:\\Users\\diego\\AppData\\Local\\Programs\\Python\\Python311\\Lib\\site-packages\\sklearn\\metrics\\_classification.py:1531: UndefinedMetricWarning: Precision is ill-defined and being set to 0.0 in labels with no predicted samples. Use `zero_division` parameter to control this behavior.\n",
      "  _warn_prf(average, modifier, f\"{metric.capitalize()} is\", len(result))\n",
      "2024/11/20 14:57:17 WARNING mlflow.models.model: Model logged without a signature and input example. Please set `input_example` parameter when logging the model to auto infer the model signature.\n",
      "2024/11/20 15:03:17 INFO mlflow.tracking._tracking_service.client: 🏃 View run Random Forest Baseline at: https://dagshub.com/zapatacc/final-exam-pcd2024-autumn.mlflow/#/experiments/1/runs/4e77cb6e938e44b98299a0f8180e4180.\n",
      "2024/11/20 15:03:17 INFO mlflow.tracking._tracking_service.client: 🧪 View experiment at: https://dagshub.com/zapatacc/final-exam-pcd2024-autumn.mlflow/#/experiments/1.\n"
     ]
    },
    {
     "name": "stdout",
     "output_type": "stream",
     "text": [
      "Modelo: Random Forest Baseline\n",
      "Accuracy: 0.5502240970208279\n"
     ]
    }
   ],
   "source": [
    "# Entrenamos los modelos usando la función train_model\n",
    "# Entrenar Regresión Logística\n",
    "train_model(logreg, 'Logistic Regression Baseline', logreg_params, experiment_name_logreg)\n",
    "\n",
    "# Entrenar Bosque Aleatorio\n",
    "train_model(rf, 'Random Forest Baseline', rf_params, experiment_name_rf)"
   ]
  },
  {
   "cell_type": "code",
   "execution_count": 76,
   "metadata": {},
   "outputs": [],
   "source": [
    "# Tuneamos los hiperparametros para cada modelo y registramos los experimentos en mlflow"
   ]
  },
  {
   "cell_type": "code",
   "execution_count": 77,
   "metadata": {},
   "outputs": [],
   "source": [
    "from sklearn.model_selection import GridSearchCV"
   ]
  },
  {
   "cell_type": "code",
   "execution_count": null,
   "metadata": {},
   "outputs": [],
   "source": [
    "# Tuning para regresiob logistica"
   ]
  },
  {
   "cell_type": "code",
   "execution_count": 78,
   "metadata": {},
   "outputs": [
    {
     "name": "stderr",
     "output_type": "stream",
     "text": [
      "c:\\Users\\diego\\AppData\\Local\\Programs\\Python\\Python311\\Lib\\site-packages\\sklearn\\model_selection\\_split.py:776: UserWarning: The least populated class in y has only 1 members, which is less than n_splits=3.\n",
      "  warnings.warn(\n",
      "2024/11/20 15:06:18 WARNING mlflow.models.model: Model logged without a signature and input example. Please set `input_example` parameter when logging the model to auto infer the model signature.\n",
      "2024/11/20 15:06:22 INFO mlflow.tracking._tracking_service.client: 🏃 View run Logistic Regression Hyperparameter Tuning at: https://dagshub.com/zapatacc/final-exam-pcd2024-autumn.mlflow/#/experiments/0/runs/646f6d69165e4610b1afc9d30d0e81cd.\n",
      "2024/11/20 15:06:22 INFO mlflow.tracking._tracking_service.client: 🧪 View experiment at: https://dagshub.com/zapatacc/final-exam-pcd2024-autumn.mlflow/#/experiments/0.\n"
     ]
    },
    {
     "name": "stdout",
     "output_type": "stream",
     "text": [
      "Best Logistic Regression Model:\n",
      "Parameters: {'C': 10.0, 'penalty': 'l2', 'solver': 'lbfgs'}\n",
      "Cross-Validation Accuracy: 0.5740932587907142\n",
      "Test Accuracy: 0.5636699182704983\n"
     ]
    }
   ],
   "source": [
    "logreg_param_grid = {\n",
    "    'C': [0.1, 1.0, 10.0],\n",
    "    'penalty': ['l2'],\n",
    "    'solver': ['lbfgs', 'saga']\n",
    "}\n",
    "\n",
    "grid_logreg = GridSearchCV(logreg, logreg_param_grid, cv=3, n_jobs=-1, scoring='accuracy')\n",
    "\n",
    "mlflow.set_experiment(experiment_name_logreg)\n",
    "\n",
    "with mlflow.start_run(run_name='Logistic Regression Hyperparameter Tuning'):\n",
    "    grid_logreg.fit(X_train_tfidf, y_train)\n",
    "    \n",
    "    # Mejor modelo\n",
    "    best_logreg = grid_logreg.best_estimator_\n",
    "    best_params = grid_logreg.best_params_\n",
    "    best_score = grid_logreg.best_score_\n",
    "    \n",
    "    # Predicciones en el conjunto de prueba\n",
    "    y_pred_logreg = best_logreg.predict(X_test_tfidf)\n",
    "    test_accuracy_logreg = accuracy_score(y_test, y_pred_logreg)\n",
    "    \n",
    "    # Logging\n",
    "    mlflow.log_params(best_params)\n",
    "    mlflow.log_metric('best_cv_accuracy', best_score)\n",
    "    mlflow.log_metric('test_accuracy', test_accuracy_logreg)\n",
    "    mlflow.sklearn.log_model(best_logreg, 'Best Logistic Regression Model')\n",
    "    \n",
    "    print(\"Best Logistic Regression Model:\")\n",
    "    print(f\"Parameters: {best_params}\")\n",
    "    print(f\"Cross-Validation Accuracy: {best_score}\")\n",
    "    print(f\"Test Accuracy: {test_accuracy_logreg}\")"
   ]
  },
  {
   "cell_type": "code",
   "execution_count": null,
   "metadata": {},
   "outputs": [],
   "source": [
    "# Tuning para random forest"
   ]
  },
  {
   "cell_type": "code",
   "execution_count": 79,
   "metadata": {},
   "outputs": [
    {
     "name": "stderr",
     "output_type": "stream",
     "text": [
      "c:\\Users\\diego\\AppData\\Local\\Programs\\Python\\Python311\\Lib\\site-packages\\sklearn\\model_selection\\_split.py:776: UserWarning: The least populated class in y has only 1 members, which is less than n_splits=3.\n",
      "  warnings.warn(\n",
      "2024/11/20 15:08:48 WARNING mlflow.models.model: Model logged without a signature and input example. Please set `input_example` parameter when logging the model to auto infer the model signature.\n",
      "2024/11/20 15:21:03 INFO mlflow.tracking._tracking_service.client: 🏃 View run Random Forest Hyperparameter Tuning at: https://dagshub.com/zapatacc/final-exam-pcd2024-autumn.mlflow/#/experiments/1/runs/3a1b87e2e33343ac9e49fb1eb7aef998.\n",
      "2024/11/20 15:21:03 INFO mlflow.tracking._tracking_service.client: 🧪 View experiment at: https://dagshub.com/zapatacc/final-exam-pcd2024-autumn.mlflow/#/experiments/1.\n"
     ]
    },
    {
     "name": "stdout",
     "output_type": "stream",
     "text": [
      "Best Random Forest Model:\n",
      "Parameters: {'max_depth': None, 'min_samples_split': 2, 'n_estimators': 200}\n",
      "Cross-Validation Accuracy: 0.55293296973573\n",
      "Test Accuracy: 0.5475876614816768\n"
     ]
    }
   ],
   "source": [
    "rf_param_grid = {\n",
    "    'n_estimators': [100, 200],\n",
    "    'max_depth': [None, 10, 20],\n",
    "    'min_samples_split': [2, 5]\n",
    "}\n",
    "\n",
    "grid_rf = GridSearchCV(rf, rf_param_grid, cv=3, n_jobs=-1, scoring='accuracy')\n",
    "\n",
    "mlflow.set_experiment(experiment_name_rf)\n",
    "\n",
    "with mlflow.start_run(run_name='Random Forest Hyperparameter Tuning'):\n",
    "    grid_rf.fit(X_train_tfidf, y_train)\n",
    "    \n",
    "    # Mejor modelo\n",
    "    best_rf = grid_rf.best_estimator_\n",
    "    best_params_rf = grid_rf.best_params_\n",
    "    best_score_rf = grid_rf.best_score_\n",
    "    \n",
    "    # Predicciones en el conjunto de prueba\n",
    "    y_pred_rf = best_rf.predict(X_test_tfidf)\n",
    "    test_accuracy_rf = accuracy_score(y_test, y_pred_rf)\n",
    "    \n",
    "    # Logging\n",
    "    mlflow.log_params(best_params_rf)\n",
    "    mlflow.log_metric('best_cv_accuracy', best_score_rf)\n",
    "    mlflow.log_metric('test_accuracy', test_accuracy_rf)\n",
    "    mlflow.sklearn.log_model(best_rf, 'Best Random Forest Model')\n",
    "    \n",
    "    print(\"Best Random Forest Model:\")\n",
    "    print(f\"Parameters: {best_params_rf}\")\n",
    "    print(f\"Cross-Validation Accuracy: {best_score_rf}\")\n",
    "    print(f\"Test Accuracy: {test_accuracy_rf}\")"
   ]
  },
  {
   "cell_type": "code",
   "execution_count": null,
   "metadata": {},
   "outputs": [],
   "source": [
    "# Sleccionamos el modelo Champion y el Challenger (primero y segundo mejor modelo)"
   ]
  },
  {
   "cell_type": "code",
   "execution_count": 81,
   "metadata": {},
   "outputs": [
    {
     "name": "stdout",
     "output_type": "stream",
     "text": [
      "Champion Model: Best Logistic Regression Model\n",
      "Challenger Model: Best Random Forest Model\n"
     ]
    }
   ],
   "source": [
    "if test_accuracy_logreg > test_accuracy_rf:\n",
    "    champion_model = best_logreg\n",
    "    challenger_model = best_rf\n",
    "    champion_name = 'Best Logistic Regression Model'\n",
    "    challenger_name = 'Best Random Forest Model'\n",
    "else:\n",
    "    champion_model = best_rf\n",
    "    challenger_model = best_logreg\n",
    "    champion_name = 'Best Random Forest Model'\n",
    "    challenger_name = 'Best Logistic Regression Model'\n",
    "\n",
    "print(f\"Champion Model: {champion_name}\")\n",
    "print(f\"Challenger Model: {challenger_name}\")"
   ]
  },
  {
   "cell_type": "code",
   "execution_count": null,
   "metadata": {},
   "outputs": [],
   "source": [
    "# Registramos los modelos en el model registry de mlflow con los nombres correspondientes"
   ]
  },
  {
   "cell_type": "code",
   "execution_count": 83,
   "metadata": {},
   "outputs": [
    {
     "name": "stderr",
     "output_type": "stream",
     "text": [
      "Successfully registered model 'tu-nombre-modelo'.\n",
      "2024/11/20 15:25:46 INFO mlflow.store.model_registry.abstract_store: Waiting up to 300 seconds for model version to finish creation. Model name: tu-nombre-modelo, version 1\n",
      "Created version '1' of model 'tu-nombre-modelo'.\n",
      "Successfully registered model 'tu-nombre-modelo-challenger'.\n",
      "2024/11/20 15:25:47 INFO mlflow.store.model_registry.abstract_store: Waiting up to 300 seconds for model version to finish creation. Model name: tu-nombre-modelo-challenger, version 1\n",
      "Created version '1' of model 'tu-nombre-modelo-challenger'.\n",
      "2024/11/20 15:25:47 INFO mlflow.tracking._tracking_service.client: 🏃 View run salty-roo-900 at: https://dagshub.com/zapatacc/final-exam-pcd2024-autumn.mlflow/#/experiments/1/runs/a5e6a1a0c00841a3adc3ff3e32ec0f7c.\n",
      "2024/11/20 15:25:47 INFO mlflow.tracking._tracking_service.client: 🧪 View experiment at: https://dagshub.com/zapatacc/final-exam-pcd2024-autumn.mlflow/#/experiments/1.\n"
     ]
    }
   ],
   "source": [
    "# Iniciar una nueva corrida de MLflow\n",
    "with mlflow.start_run() as run:\n",
    "    # Registrar el modelo Champion\n",
    "    result_champion = mlflow.register_model(\n",
    "        model_uri=f\"runs:/{run.info.run_id}/{champion_name}\",\n",
    "        name='tu-nombre-modelo'\n",
    "    )\n",
    "\n",
    "    # Registrar el modelo Challenger\n",
    "    result_challenger = mlflow.register_model(\n",
    "        model_uri=f\"runs:/{run.info.run_id}/{challenger_name}\",\n",
    "        name='tu-nombre-modelo-challenger'\n",
    "    )"
   ]
  },
  {
   "cell_type": "markdown",
   "metadata": {},
   "source": [
    "#### Interpretaciones\n",
    "\n",
    "**UndefinedMetricWarning:**\n",
    "\n",
    "- Interpretación: Esta advertencia indica que, durante el cálculo de las métricas de precisión, algunas clases no fueron predichas por el modelo. Como resultado, la precisión para esas clases es indefinida y se establece en 0.0.\n",
    "- Causa Probable: Es posible que haya un desbalance en las clases de ticket_classification, donde algunas clases tienen muy pocos ejemplos o incluso solo uno. Esto hace que el modelo tenga dificultades para aprender y predecir esas clases minoritarias.\n",
    "- Implicaciones: Las métricas globales pueden estar sesgadas, y el modelo podría estar ignorando clases importantes pero poco representada\n",
    "\n",
    "\n",
    "**Resultados del Entrenamiento:**\n",
    "\n",
    "- Modelo: Logistic Regression Baseline\n",
    "\n",
    "Accuracy: 0.5676 (56.76%)\n",
    "\n",
    "- Modelo: Random Forest Baseline\n",
    "\n",
    "Accuracy: 0.5502 (55.02%)\n",
    "\n",
    "\n",
    "Ambos modelos presentan un desempeño moderado, con la Regresión Logística ligeramente mejor que el Bosque Aleatorio en esta etapa inicial.\n",
    "Las advertencias sugieren que hay problemas con la predicción de ciertas clases, lo cual deberemo corregir.\n",
    "\n",
    "\n",
    "**Tuning de Hiperparámetros de logistic regression:**\n",
    "\n",
    "- Interpretación: Durante la validación cruzada (cross-validation), se detectó que la clase menos representada tiene solo un ejemplo, lo cual es menor que el número de divisiones (n_splits=3) utilizado en la validación.\n",
    "- Causa Probable: Desbalance muy severo en las clases, con algunas teniendo muy pocos ejemplos.\n",
    "- Implicaciones: La validación cruzada puede no ser fiable para esas clases, ya que en algunas particiones podrían no estar presentes, afectando la estimación del desempeño del modelo.\n",
    "\n",
    "\n",
    "Resultados del Tuning:\n",
    "\n",
    "Mejores Parámetros:\n",
    "\n",
    "- C: 10.0\n",
    "- penalty: 'l2'\n",
    "- solver: 'lbfgs'\n",
    "\n",
    "Cross-Validation Accuracy: 0.5741 (57.41%)\n",
    "\n",
    "Test Accuracy: 0.5637 (56.37%)\n",
    "\n",
    "El tuning mejoró ligeramente el desempeño del modelo en comparación con el baseline.\n",
    "La precisión se mantiene en un nivel moderado, lo que parece que el modelo aún tiene dificultades para generalizar correctamente.\n",
    "\n",
    "\n",
    "**Tuning de Hiperparámetros de Random Forest:**\n",
    "\n",
    "Interpretación: Misma que en el Output 2. La validación cruzada está afectada por el desbalance de clases.\n",
    "\n",
    "Resultados del Tuning:\n",
    "\n",
    "Mejores Parámetros:\n",
    "\n",
    "- n_estimators: 200\n",
    "- max_depth: None\n",
    "- min_samples_split: 2\n",
    "\n",
    "Cross-Validation Accuracy: 0.5529 (55.29%)\n",
    "\n",
    "Test Accuracy: 0.5476 (54.76%)\n",
    "\n",
    "El tuning no mejoró significativamente el desempeño del Bosque Aleatorio.\n",
    "La precisión es ligeramente menor que la obtenida con Regresión Logística.\n",
    "\n",
    "- Basado en el desempeño en el test, el modelo de Regresión Logística es seleccionado como Champion debido a su mayor precisión.\n",
    "- El modelo de Random Forest es seleccionado como Challenger.\n"
   ]
  },
  {
   "cell_type": "markdown",
   "metadata": {},
   "source": [
    "### Conclusiones del entrenamiento de modelos\n",
    "\n",
    "Hemos entrenado dos modelos diferentes y realizado tuning de hiperparámetros para cada uno. Utilizando mlflow, hemos realizado el tracking de los experimentos, registrado las métricas y parámetros, y almacenado los modelos en el Model Registry.\n",
    "\n",
    "\n",
    "Técnicas de Resampling:\n",
    "- Sobremuestreo de Clases Minoritarias: Utilizar métodos como SMOTE para generar ejemplos sintéticos.\n",
    "- Submuestreo de Clases Mayoritarias: Reducir el número de ejemplos de las clases más comunes.\n",
    "\n",
    "\n",
    "Algoritmos y Métricas Adecuadas:\n",
    "- Utilizar modelos que sean robustos ante el desbalance de clases.\n",
    "- Emplear métricas como el F1-score macro o weighted para evaluar el desempeño.\n",
    "\n",
    "\n",
    "Métricas de Evaluación:\n",
    "\n",
    "- Observación: La precisión (accuracy) puede no ser la mejor métrica en problemas con desbalance de clases.\n",
    "\n",
    "Recomendaciones:\n",
    "- Evaluar con Otras Métricas:\n",
    "- Matriz de Confusión: Para visualizar el desempeño por clase.\n",
    "- Reporte de Clasificación: Incluye precisión, recall y F1-score por clase.\n",
    "- Curvas ROC y AUC: Si es aplicable.\n",
    "\n",
    "\n",
    "Mejorar el Preprocesamiento y Representación de Datos:\n",
    "\n",
    "Posibles Mejoras:\n",
    "\n",
    "-Explorar Diferentes Técnicas de Vectorización:\n",
    "-Probar con embeddings más avanzados como Word2Vec, GloVe o BERT.\n",
    "\n",
    "\n",
    "Validación Cruzada Estratificada:\n",
    "\n",
    "- Problema Identificado: La validación cruzada está afectada por el desbalance de clases.\n",
    "\n",
    "Recomendación:\n",
    "\n",
    "- Utilizar StratifiedKFold en lugar de KFold para asegurar que cada fold tenga una representación proporcional de cada clase.\n"
   ]
  },
  {
   "cell_type": "markdown",
   "metadata": {},
   "source": [
    "##### Mejoras para el desbalance de clases y mejorar el modelo\n",
    "\n",
    "- Resampling (SMPOTE)\n",
    "- Modelos robustos al desbalance de clases\n",
    "- Metricas adecuadas al desbalance de dclases\n",
    "- Stratified cross-validation\n",
    "- Otras tecnicas de vectorizacion (Word2Vec, GloVe)"
   ]
  },
  {
   "cell_type": "code",
   "execution_count": 85,
   "metadata": {},
   "outputs": [],
   "source": [
    "# Instalación de imbalanced-learn\n",
    "#!pip install imbalanced-learn gensim"
   ]
  },
  {
   "cell_type": "code",
   "execution_count": 116,
   "metadata": {},
   "outputs": [],
   "source": [
    "# Instalación de imbalanced-learn y gensim si es necesario\n",
    "# !pip install imbalanced-learn gensim\n",
    "\n",
    "# Importación de librerías adicionales\n",
    "import numpy as np\n",
    "import pandas as pd\n",
    "from imblearn.over_sampling import SMOTE\n",
    "from imblearn.under_sampling import RandomUnderSampler\n",
    "from imblearn.pipeline import Pipeline\n",
    "from sklearn.preprocessing import LabelEncoder\n",
    "from sklearn.model_selection import StratifiedKFold, GridSearchCV, train_test_split\n",
    "from sklearn.metrics import (\n",
    "    classification_report,\n",
    "    confusion_matrix,\n",
    "    f1_score,\n",
    "    accuracy_score,\n",
    ")\n",
    "from sklearn.linear_model import LogisticRegression\n",
    "from sklearn.ensemble import RandomForestClassifier\n",
    "from gensim.models import Word2Vec\n",
    "import mlflow\n",
    "import mlflow.sklearn"
   ]
  },
  {
   "cell_type": "code",
   "execution_count": 168,
   "metadata": {},
   "outputs": [
    {
     "data": {
      "text/plain": [
       "array(['Debt collection + Credit card debt',\n",
       "       'Credit card or prepaid card + General-purpose credit card or charge card',\n",
       "       'Credit reporting, credit repair services, or other personal consumer reports + Other personal consumer report',\n",
       "       'Credit reporting, credit repair services, or other personal consumer reports + Credit reporting',\n",
       "       'Checking or savings account + Checking account',\n",
       "       'Vehicle loan or lease + Loan',\n",
       "       'Money transfer, virtual currency, or money service + Domestic (US) money transfer',\n",
       "       'Checking or savings account + Savings account',\n",
       "       'Mortgage + Conventional home mortgage',\n",
       "       'Mortgage + Home equity loan or line of credit (HELOC)',\n",
       "       'Student loan + Private student loan',\n",
       "       'Debt collection + I do not know', 'Consumer Loan + Vehicle loan',\n",
       "       'Mortgage + FHA mortgage',\n",
       "       'Money transfer, virtual currency, or money service + Mobile or digital wallet',\n",
       "       'Money transfer, virtual currency, or money service + Virtual currency',\n",
       "       'Mortgage + VA mortgage', 'Mortgage + Other type of mortgage',\n",
       "       'Money transfer, virtual currency, or money service + International money transfer',\n",
       "       'Vehicle loan or lease + Lease',\n",
       "       'Credit card or prepaid card + Store credit card',\n",
       "       'Money transfer, virtual currency, or money service + Check cashing service',\n",
       "       'Checking or savings account + Other banking product or service',\n",
       "       'Credit card or prepaid card + General-purpose prepaid card',\n",
       "       'Payday loan, title loan, or personal loan + Personal line of credit',\n",
       "       'Credit reporting, credit repair services, or other personal consumer reports + Credit repair services',\n",
       "       'Money transfer, virtual currency, or money service + Foreign currency exchange',\n",
       "       'Debt collection + Other debt',\n",
       "       'Bank account or service + Checking account',\n",
       "       'Mortgage + Home equity loan or line of credit',\n",
       "       'Consumer Loan + Installment loan',\n",
       "       'Bank account or service + Other bank product/service',\n",
       "       'Debt collection + Other (i.e. phone, health club, etc.)',\n",
       "       'Debt collection + Credit card',\n",
       "       'Mortgage + Conventional adjustable mortgage (ARM)',\n",
       "       'Mortgage + Other mortgage', 'Debt collection + Auto',\n",
       "       'Mortgage + Conventional fixed mortgage',\n",
       "       'Bank account or service + Savings account',\n",
       "       'Student loan + Non-federal student loan',\n",
       "       'Debt collection + Private student loan debt',\n",
       "       'Payday loan, title loan, or personal loan + Title loan',\n",
       "       'Debt collection + Mortgage debt',\n",
       "       'Bank account or service + Cashing a check without an account',\n",
       "       'Money transfers + International money transfer',\n",
       "       \"Money transfer, virtual currency, or money service + Traveler's check or cashier's check\",\n",
       "       'Credit card or prepaid card + Payroll card',\n",
       "       'Debt collection + Auto debt',\n",
       "       'Payday loan, title loan, or personal loan + Payday loan',\n",
       "       'Checking or savings account + CD (Certificate of Deposit)',\n",
       "       'Payday loan, title loan, or personal loan + Installment loan',\n",
       "       'Credit card or prepaid card + Government benefit card',\n",
       "       'Credit card or prepaid card + Gift card',\n",
       "       'Mortgage + Reverse mortgage',\n",
       "       'Money transfer, virtual currency, or money service + Money order',\n",
       "       'Money transfer, virtual currency, or money service + Refund anticipation check',\n",
       "       'Money transfers + Domestic (US) money transfer',\n",
       "       'Debt collection + Mortgage', 'Debt collection + Payday loan debt',\n",
       "       'Debt collection + Payday loan',\n",
       "       'Prepaid card + Electronic Benefit Transfer / EBT card',\n",
       "       'Consumer Loan + Vehicle lease',\n",
       "       'Money transfer, virtual currency, or money service + Debt settlement',\n",
       "       'Checking or savings account + Personal line of credit',\n",
       "       'Debt collection + Non-federal student loan',\n",
       "       'Student loan + Federal student loan servicing',\n",
       "       'Prepaid card + Other special purpose card',\n",
       "       'Bank account or service + (CD) Certificate of deposit',\n",
       "       'Other financial service + Traveler’s/Cashier’s checks',\n",
       "       'Other financial service + Foreign currency exchange',\n",
       "       'Consumer Loan + Pawn loan',\n",
       "       'Prepaid card + Government benefit payment card',\n",
       "       'Other financial service + Check cashing',\n",
       "       'Prepaid card + General purpose card',\n",
       "       'Debt collection + Federal student loan',\n",
       "       'Other financial service + Money order',\n",
       "       'Consumer Loan + Title loan',\n",
       "       'Prepaid card + Gift or merchant card'], dtype=object)"
      ]
     },
     "execution_count": 168,
     "metadata": {},
     "output_type": "execute_result"
    }
   ],
   "source": [
    "# Ver las clases en y\n",
    "y.unique()"
   ]
  },
  {
   "cell_type": "code",
   "execution_count": 169,
   "metadata": {},
   "outputs": [
    {
     "data": {
      "text/plain": [
       "78"
      ]
     },
     "execution_count": 169,
     "metadata": {},
     "output_type": "execute_result"
    }
   ],
   "source": [
    "y.nunique()"
   ]
  },
  {
   "cell_type": "code",
   "execution_count": null,
   "metadata": {},
   "outputs": [],
   "source": [
    "# Assuming that 'df' is already loaded and preprocessed\n",
    "\n",
    "# Define X and y\n",
    "X = df['clean_complaint']\n",
    "y = df['ticket_classification']\n",
    "\n",
    "# Encode labels before splitting\n",
    "label_encoder = LabelEncoder()\n",
    "y_encoded = label_encoder.fit_transform(y)\n",
    "\n",
    "# Split the dataset into training and test sets\n",
    "X_train, X_test, y_train_encoded, y_test_encoded = train_test_split(\n",
    "    X, y_encoded, test_size=0.2, random_state=11\n",
    ")\n",
    "\n",
    "# Vectorize the text using TF-IDF\n",
    "from sklearn.feature_extraction.text import TfidfVectorizer\n",
    "\n",
    "vectorizer = TfidfVectorizer(max_features=5000)\n",
    "X_train_tfidf = vectorizer.fit_transform(X_train)\n",
    "X_test_tfidf = vectorizer.transform(X_test)\n"
   ]
  },
  {
   "cell_type": "markdown",
   "metadata": {},
   "source": [
    "Fitteando el Laabel encoder en toda la vatriable objetivo y, antes de splittear, te aseguras de que todas las etiquetas esten contabilizadas y evitas el ValueError causado por etiquetas no vistas durante la transformacion."
   ]
  },
  {
   "cell_type": "code",
   "execution_count": 171,
   "metadata": {},
   "outputs": [
    {
     "name": "stdout",
     "output_type": "stream",
     "text": [
      "Distribución de clases después del filtrado inicial:\n",
      "15    3975\n",
      "6     3028\n",
      "22    1595\n",
      "2      990\n",
      "52     745\n",
      "      ... \n",
      "32       3\n",
      "65       3\n",
      "60       3\n",
      "11       3\n",
      "39       3\n",
      "Name: count, Length: 65, dtype: int64\n"
     ]
    }
   ],
   "source": [
    "# Crear el pipeline con SMOTE y RandomUnderSampler\n",
    "# Filtrar clases con menos ejemplos que el mínimo requerido para SMOTE\n",
    "min_samples = 3\n",
    "class_counts = np.bincount(y_train_encoded)\n",
    "valid_classes = np.where(class_counts >= min_samples)[0]\n",
    "\n",
    "# Filtrar las clases válidas\n",
    "filtered_indices = np.isin(y_train_encoded, valid_classes)\n",
    "X_train_filtered = X_train_tfidf[filtered_indices]\n",
    "y_train_filtered = y_train_encoded[filtered_indices]\n",
    "\n",
    "print(\"Distribución de clases después del filtrado inicial:\")\n",
    "print(pd.Series(y_train_filtered).value_counts())\n"
   ]
  },
  {
   "cell_type": "code",
   "execution_count": 172,
   "metadata": {},
   "outputs": [
    {
     "name": "stdout",
     "output_type": "stream",
     "text": [
      "Distribución de clases después del resampling:\n",
      "0     3975\n",
      "38    3975\n",
      "40    3975\n",
      "41    3975\n",
      "42    3975\n",
      "      ... \n",
      "30    3975\n",
      "31    3975\n",
      "32    3975\n",
      "33    3975\n",
      "77    3975\n",
      "Name: count, Length: 65, dtype: int64\n"
     ]
    }
   ],
   "source": [
    "# Crear el pipeline con SMOTE y RandomUnderSampler\n",
    "smote = SMOTE(random_state=11, k_neighbors=2)\n",
    "undersample = RandomUnderSampler(random_state=11)\n",
    "\n",
    "resample_pipeline = Pipeline(steps=[\n",
    "    ('smote', smote),\n",
    "    ('undersample', undersample)\n",
    "])\n",
    "\n",
    "# Aplicar el pipeline\n",
    "X_train_resampled, y_train_resampled = resample_pipeline.fit_resample(X_train_filtered, y_train_filtered)\n",
    "\n",
    "# Verificar la distribución después del resampling\n",
    "print(\"Distribución de clases después del resampling:\")\n",
    "print(pd.Series(y_train_resampled).value_counts())"
   ]
  },
  {
   "cell_type": "markdown",
   "metadata": {},
   "source": [
    "- SMOTE no puede generar muestras sintéticas porque algunas clases minoritarias tienen menos ejemplos que el número de vecinos (n_neighbors=6) que intenta utilizar el algoritmo por defecto. - Esto ocurre cuando una clase tiene muy pocos ejemplos en el conjunto de entrenamiento.\n",
    "\n",
    "- **Reducimos el valor de k_neighbors en el objeto SMOTE para adaptarlo al tamaño de las clases más pequeñas.**\n",
    "\n",
    "- **Filtrar Clases con Muy Pocos Ejemplos**\n",
    "Si algunas clases tienen menos ejemplos que el valor mínimo requerido para k_neighbors, las eliminamos del dataset, ya que no tienen suficiente información para entrenar correctamente al modelo.\n",
    "\n",
    "**Dado el contexto y la necesidad de arreglar el dataset desbalanceado de forma profesional, podemos combinar ambas estrategias para maximizar el impacto. Primero filtramos las clases extremadamente raras (con menos de 3 ejemplos, ya que no son representativas) y luego aplicamos un pipeline que incluye SMOTE para sobremuestrear y RandomUnderSampler para submuestrear las clases mayoritarias.**\n",
    "\n",
    "Beneficio de Esta Combinación:\n",
    "\n",
    "- Elimina el ruido causado por clases extremadamente raras.\n",
    "- Mantiene una representación balanceada del conjunto de datos al final del proceso.\n",
    "- Mejora la estabilidad de los modelos durante el entrenamiento y la evaluación."
   ]
  },
  {
   "cell_type": "code",
   "execution_count": 173,
   "metadata": {},
   "outputs": [],
   "source": [
    "# Crear una validación cruzada estratificada\n",
    "cv = StratifiedKFold(n_splits=3, shuffle=True, random_state=11)"
   ]
  },
  {
   "cell_type": "code",
   "execution_count": 177,
   "metadata": {},
   "outputs": [],
   "source": [
    "# Actualizamos las funciones de entrenamiento y evaluacion de los modelos para incluir las nuevas tecnicas y metricas\n",
    "\n",
    "def train_model_improved(model, model_name, params, experiment_name, X_train, y_train, X_test, y_test):\n",
    "    mlflow.set_experiment(experiment_name)\n",
    "    with mlflow.start_run(run_name=model_name):\n",
    "        # Entrenamiento del modelo\n",
    "        model.set_params(**params)\n",
    "        model.fit(X_train, y_train)\n",
    "        \n",
    "        # Predicciones\n",
    "        y_pred = model.predict(X_test)\n",
    "        \n",
    "        # Métricas\n",
    "        accuracy = accuracy_score(y_test, y_pred)\n",
    "        f1_macro = f1_score(y_test, y_pred, average='macro', zero_division=0)\n",
    "        f1_weighted = f1_score(y_test, y_pred, average='weighted', zero_division=0)\n",
    "        \n",
    "        # Obtener todas las etiquetas posibles\n",
    "        all_labels = label_encoder.transform(label_encoder.classes_)\n",
    "        \n",
    "        # Reporte de clasificación\n",
    "        report = classification_report(\n",
    "            y_test,\n",
    "            y_pred,\n",
    "            labels=all_labels,\n",
    "            target_names=label_encoder.classes_,\n",
    "            zero_division=0\n",
    "        )\n",
    "        \n",
    "        # Matriz de confusión\n",
    "        cm = confusion_matrix(y_test, y_pred, labels=all_labels)\n",
    "        \n",
    "        # Logging de parámetros y métricas\n",
    "        mlflow.log_params(params)\n",
    "        mlflow.log_metric('accuracy', accuracy)\n",
    "        mlflow.log_metric('f1_macro', f1_macro)\n",
    "        mlflow.log_metric('f1_weighted', f1_weighted)\n",
    "        \n",
    "        # Logging del modelo\n",
    "        mlflow.sklearn.log_model(model, model_name)\n",
    "        \n",
    "        # Imprimir resultados\n",
    "        print(f\"Modelo: {model_name}\")\n",
    "        print(f\"Accuracy: {accuracy}\")\n",
    "        print(f\"F1 Score (Macro): {f1_macro}\")\n",
    "        print(f\"F1 Score (Weighted): {f1_weighted}\")\n",
    "        print(\"\\nReporte de Clasificación:\")\n",
    "        print(report)\n",
    "        print(\"\\nMatriz de Confusión:\")\n",
    "        print(cm)"
   ]
  },
  {
   "cell_type": "markdown",
   "metadata": {},
   "source": [
    "##### Entrenamiento de Modelos con Datos Balanceados resampleados"
   ]
  },
  {
   "cell_type": "code",
   "execution_count": 178,
   "metadata": {},
   "outputs": [],
   "source": [
    "# Modelo 1: Regresión Logística\n",
    "logreg = LogisticRegression(max_iter=1000)\n",
    "\n",
    "logreg_params = {\n",
    "    'C': 1.0,\n",
    "    'penalty': 'l2',\n",
    "    'solver': 'lbfgs'\n",
    "}\n",
    "\n",
    "# Modelo 2: Bosque Aleatorio\n",
    "rf = RandomForestClassifier(random_state=11)\n",
    "\n",
    "rf_params = {\n",
    "    'n_estimators': 100,\n",
    "    'max_depth': None,\n",
    "    'min_samples_split': 2\n",
    "}"
   ]
  },
  {
   "cell_type": "markdown",
   "metadata": {},
   "source": [
    "##### Entrenar los modelos actualizados con los datos balanceados"
   ]
  },
  {
   "cell_type": "markdown",
   "metadata": {},
   "source": [
    "Si especificas explícitamente el parámetro de etiquetas en tus llamadas a classification_report y confusion_matrix, resuelves el error causado por la discrepancia en el número de clases y aseguras que tus métricas de evaluación sean completas y consistentes."
   ]
  },
  {
   "cell_type": "code",
   "execution_count": 179,
   "metadata": {},
   "outputs": [
    {
     "name": "stderr",
     "output_type": "stream",
     "text": [
      "2024/11/20 17:36:09 WARNING mlflow.models.model: Model logged without a signature and input example. Please set `input_example` parameter when logging the model to auto infer the model signature.\n",
      "2024/11/20 17:36:12 INFO mlflow.tracking._tracking_service.client: 🏃 View run Logistic Regression Improved at: https://dagshub.com/zapatacc/final-exam-pcd2024-autumn.mlflow/#/experiments/0/runs/b87a8e8ec00d45609ad2c8fe0ddb3e58.\n",
      "2024/11/20 17:36:12 INFO mlflow.tracking._tracking_service.client: 🧪 View experiment at: https://dagshub.com/zapatacc/final-exam-pcd2024-autumn.mlflow/#/experiments/0.\n"
     ]
    },
    {
     "name": "stdout",
     "output_type": "stream",
     "text": [
      "Modelo: Logistic Regression Improved\n",
      "Accuracy: 0.5217505931979963\n",
      "F1 Score (Macro): 0.17635517133639353\n",
      "F1 Score (Weighted): 0.5286164002557557\n",
      "\n",
      "Reporte de Clasificación:\n",
      "                                                                                                               precision    recall  f1-score   support\n",
      "\n",
      "                                                        Bank account or service + (CD) Certificate of deposit       0.00      0.00      0.00         7\n",
      "                                                 Bank account or service + Cashing a check without an account       0.25      0.25      0.25         4\n",
      "                                                                   Bank account or service + Checking account       0.41      0.48      0.44       252\n",
      "                                                         Bank account or service + Other bank product/service       0.12      0.16      0.14        73\n",
      "                                                                    Bank account or service + Savings account       0.43      0.14      0.21        22\n",
      "                                                    Checking or savings account + CD (Certificate of Deposit)       0.56      0.83      0.67         6\n",
      "                                                               Checking or savings account + Checking account       0.70      0.55      0.62       760\n",
      "                                               Checking or savings account + Other banking product or service       0.05      0.08      0.06        49\n",
      "                                                        Checking or savings account + Personal line of credit       0.00      0.00      0.00         1\n",
      "                                                                Checking or savings account + Savings account       0.32      0.49      0.39        47\n",
      "                                                                             Consumer Loan + Installment loan       0.00      0.00      0.00        12\n",
      "                                                                                    Consumer Loan + Pawn loan       0.00      0.00      0.00         1\n",
      "                                                                                   Consumer Loan + Title loan       0.00      0.00      0.00         2\n",
      "                                                                                Consumer Loan + Vehicle lease       1.00      0.17      0.29         6\n",
      "                                                                                 Consumer Loan + Vehicle loan       0.45      0.53      0.49        36\n",
      "                                     Credit card or prepaid card + General-purpose credit card or charge card       0.82      0.80      0.81       943\n",
      "                                                   Credit card or prepaid card + General-purpose prepaid card       0.25      0.09      0.13        11\n",
      "                                                                      Credit card or prepaid card + Gift card       0.00      0.00      0.00         1\n",
      "                                                        Credit card or prepaid card + Government benefit card       0.00      0.00      0.00         4\n",
      "                                                                   Credit card or prepaid card + Payroll card       0.67      1.00      0.80         2\n",
      "                                                              Credit card or prepaid card + Store credit card       0.00      0.00      0.00        11\n",
      "        Credit reporting, credit repair services, or other personal consumer reports + Credit repair services       0.00      0.00      0.00         0\n",
      "              Credit reporting, credit repair services, or other personal consumer reports + Credit reporting       0.66      0.62      0.64       416\n",
      "Credit reporting, credit repair services, or other personal consumer reports + Other personal consumer report       0.08      0.11      0.09         9\n",
      "                                                                                       Debt collection + Auto       0.00      0.00      0.00         3\n",
      "                                                                                  Debt collection + Auto debt       0.00      0.00      0.00         7\n",
      "                                                                                Debt collection + Credit card       0.34      0.39      0.36        46\n",
      "                                                                           Debt collection + Credit card debt       0.36      0.45      0.40        94\n",
      "                                                                       Debt collection + Federal student loan       0.00      0.00      0.00         0\n",
      "                                                                              Debt collection + I do not know       0.15      0.20      0.17        15\n",
      "                                                                                   Debt collection + Mortgage       0.20      0.17      0.18         6\n",
      "                                                                              Debt collection + Mortgage debt       0.38      0.53      0.44        17\n",
      "                                                                   Debt collection + Non-federal student loan       0.00      0.00      0.00         2\n",
      "                                                      Debt collection + Other (i.e. phone, health club, etc.)       0.00      0.00      0.00         4\n",
      "                                                                                 Debt collection + Other debt       0.00      0.00      0.00         7\n",
      "                                                                                Debt collection + Payday loan       0.00      0.00      0.00         1\n",
      "                                                                           Debt collection + Payday loan debt       0.00      0.00      0.00         1\n",
      "                                                                  Debt collection + Private student loan debt       0.00      0.00      0.00         2\n",
      "                                   Money transfer, virtual currency, or money service + Check cashing service       0.00      0.00      0.00         6\n",
      "                                         Money transfer, virtual currency, or money service + Debt settlement       0.00      0.00      0.00         2\n",
      "                            Money transfer, virtual currency, or money service + Domestic (US) money transfer       0.25      0.41      0.31        69\n",
      "                               Money transfer, virtual currency, or money service + Foreign currency exchange       0.00      0.00      0.00         3\n",
      "                            Money transfer, virtual currency, or money service + International money transfer       0.18      0.44      0.26        25\n",
      "                                Money transfer, virtual currency, or money service + Mobile or digital wallet       0.26      0.33      0.29        40\n",
      "                                             Money transfer, virtual currency, or money service + Money order       0.33      0.33      0.33         3\n",
      "                               Money transfer, virtual currency, or money service + Refund anticipation check       0.00      0.00      0.00         4\n",
      "                     Money transfer, virtual currency, or money service + Traveler's check or cashier's check       0.00      0.00      0.00         3\n",
      "                                        Money transfer, virtual currency, or money service + Virtual currency       0.00      0.00      0.00         6\n",
      "                                                               Money transfers + Domestic (US) money transfer       0.25      0.11      0.15         9\n",
      "                                                               Money transfers + International money transfer       0.00      0.00      0.00         4\n",
      "                                                            Mortgage + Conventional adjustable mortgage (ARM)       0.16      0.19      0.17        48\n",
      "                                                                       Mortgage + Conventional fixed mortgage       0.29      0.27      0.28       142\n",
      "                                                                        Mortgage + Conventional home mortgage       0.36      0.35      0.36       210\n",
      "                                                                                      Mortgage + FHA mortgage       0.30      0.33      0.32        98\n",
      "                                                                Mortgage + Home equity loan or line of credit       0.26      0.23      0.24        35\n",
      "                                                        Mortgage + Home equity loan or line of credit (HELOC)       0.21      0.27      0.23        26\n",
      "                                                                                    Mortgage + Other mortgage       0.16      0.24      0.19        33\n",
      "                                                                            Mortgage + Other type of mortgage       0.00      0.00      0.00        19\n",
      "                                                                                  Mortgage + Reverse mortgage       0.00      0.00      0.00         0\n",
      "                                                                                       Mortgage + VA mortgage       0.20      0.27      0.23        11\n",
      "                                                                      Other financial service + Check cashing       0.00      0.00      0.00         1\n",
      "                                                          Other financial service + Foreign currency exchange       0.00      0.00      0.00         1\n",
      "                                                                        Other financial service + Money order       0.00      0.00      0.00         1\n",
      "                                                        Other financial service + Traveler’s/Cashier’s checks       0.00      0.00      0.00         0\n",
      "                                                 Payday loan, title loan, or personal loan + Installment loan       0.00      0.00      0.00         0\n",
      "                                                      Payday loan, title loan, or personal loan + Payday loan       0.00      0.00      0.00         0\n",
      "                                          Payday loan, title loan, or personal loan + Personal line of credit       0.00      0.00      0.00         5\n",
      "                                                       Payday loan, title loan, or personal loan + Title loan       0.00      0.00      0.00         3\n",
      "                                                        Prepaid card + Electronic Benefit Transfer / EBT card       0.00      0.00      0.00         0\n",
      "                                                                          Prepaid card + General purpose card       0.00      0.00      0.00         1\n",
      "                                                                         Prepaid card + Gift or merchant card       0.00      0.00      0.00         1\n",
      "                                                               Prepaid card + Government benefit payment card       0.00      0.00      0.00         0\n",
      "                                                                    Prepaid card + Other special purpose card       0.00      0.00      0.00         0\n",
      "                                                                Student loan + Federal student loan servicing       0.00      0.00      0.00         2\n",
      "                                                                      Student loan + Non-federal student loan       0.54      0.59      0.57        22\n",
      "                                                                          Student loan + Private student loan       0.00      0.00      0.00         7\n",
      "                                                                                Vehicle loan or lease + Lease       0.61      0.58      0.60        24\n",
      "                                                                                 Vehicle loan or lease + Loan       0.34      0.53      0.42        49\n",
      "\n",
      "                                                                                                     accuracy                           0.52      3793\n",
      "                                                                                                    macro avg       0.17      0.17      0.16      3793\n",
      "                                                                                                 weighted avg       0.55      0.52      0.53      3793\n",
      "\n",
      "\n",
      "Matriz de Confusión:\n",
      "[[  0   0   0 ...   0   0   0]\n",
      " [  0   1   1 ...   0   0   0]\n",
      " [  0   0 120 ...   0   0   2]\n",
      " ...\n",
      " [  0   0   0 ...   0   0   0]\n",
      " [  0   0   0 ...   0  14   4]\n",
      " [  0   0   1 ...   0   0  26]]\n"
     ]
    },
    {
     "name": "stderr",
     "output_type": "stream",
     "text": [
      "2024/11/20 17:52:55 WARNING mlflow.models.model: Model logged without a signature and input example. Please set `input_example` parameter when logging the model to auto infer the model signature.\n",
      "2024/11/20 18:08:08 INFO mlflow.tracking._tracking_service.client: 🏃 View run Random Forest Improved at: https://dagshub.com/zapatacc/final-exam-pcd2024-autumn.mlflow/#/experiments/1/runs/2bcb1c074b2d4ab7908a5faa398adcdf.\n"
     ]
    },
    {
     "name": "stdout",
     "output_type": "stream",
     "text": [
      "Modelo: Random Forest Improved\n",
      "Accuracy: 0.5670972844713946\n",
      "F1 Score (Macro): 0.1310945463152175\n",
      "F1 Score (Weighted): 0.5060760658402877\n",
      "\n",
      "Reporte de Clasificación:\n",
      "                                                                                                               precision    recall  f1-score   support\n",
      "\n",
      "                                                        Bank account or service + (CD) Certificate of deposit       0.00      0.00      0.00         7\n",
      "                                                 Bank account or service + Cashing a check without an account       0.00      0.00      0.00         4\n",
      "                                                                   Bank account or service + Checking account       0.41      0.13      0.20       252\n",
      "                                                         Bank account or service + Other bank product/service       0.00      0.00      0.00        73\n",
      "                                                                    Bank account or service + Savings account       0.00      0.00      0.00        22\n",
      "                                                    Checking or savings account + CD (Certificate of Deposit)       0.44      0.67      0.53         6\n",
      "                                                               Checking or savings account + Checking account       0.52      0.82      0.64       760\n",
      "                                               Checking or savings account + Other banking product or service       1.00      0.02      0.04        49\n",
      "                                                        Checking or savings account + Personal line of credit       0.00      0.00      0.00         1\n",
      "                                                                Checking or savings account + Savings account       0.83      0.11      0.19        47\n",
      "                                                                             Consumer Loan + Installment loan       0.00      0.00      0.00        12\n",
      "                                                                                    Consumer Loan + Pawn loan       0.00      0.00      0.00         1\n",
      "                                                                                   Consumer Loan + Title loan       0.00      0.00      0.00         2\n",
      "                                                                                Consumer Loan + Vehicle lease       0.00      0.00      0.00         6\n",
      "                                                                                 Consumer Loan + Vehicle loan       0.80      0.22      0.35        36\n",
      "                                     Credit card or prepaid card + General-purpose credit card or charge card       0.70      0.89      0.78       943\n",
      "                                                   Credit card or prepaid card + General-purpose prepaid card       1.00      0.09      0.17        11\n",
      "                                                                      Credit card or prepaid card + Gift card       0.00      0.00      0.00         1\n",
      "                                                        Credit card or prepaid card + Government benefit card       0.00      0.00      0.00         4\n",
      "                                                                   Credit card or prepaid card + Payroll card       0.00      0.00      0.00         2\n",
      "                                                              Credit card or prepaid card + Store credit card       0.00      0.00      0.00        11\n",
      "        Credit reporting, credit repair services, or other personal consumer reports + Credit repair services       0.00      0.00      0.00         0\n",
      "              Credit reporting, credit repair services, or other personal consumer reports + Credit reporting       0.66      0.74      0.70       416\n",
      "Credit reporting, credit repair services, or other personal consumer reports + Other personal consumer report       0.00      0.00      0.00         9\n",
      "                                                                                       Debt collection + Auto       0.00      0.00      0.00         3\n",
      "                                                                                  Debt collection + Auto debt       0.00      0.00      0.00         7\n",
      "                                                                                Debt collection + Credit card       0.38      0.33      0.35        46\n",
      "                                                                           Debt collection + Credit card debt       0.39      0.23      0.29        94\n",
      "                                                                       Debt collection + Federal student loan       0.00      0.00      0.00         0\n",
      "                                                                              Debt collection + I do not know       0.00      0.00      0.00        15\n",
      "                                                                                   Debt collection + Mortgage       0.00      0.00      0.00         6\n",
      "                                                                              Debt collection + Mortgage debt       1.00      0.24      0.38        17\n",
      "                                                                   Debt collection + Non-federal student loan       0.00      0.00      0.00         2\n",
      "                                                      Debt collection + Other (i.e. phone, health club, etc.)       0.00      0.00      0.00         4\n",
      "                                                                                 Debt collection + Other debt       0.00      0.00      0.00         7\n",
      "                                                                                Debt collection + Payday loan       0.00      0.00      0.00         1\n",
      "                                                                           Debt collection + Payday loan debt       0.00      0.00      0.00         1\n",
      "                                                                  Debt collection + Private student loan debt       0.00      0.00      0.00         2\n",
      "                                   Money transfer, virtual currency, or money service + Check cashing service       0.00      0.00      0.00         6\n",
      "                                         Money transfer, virtual currency, or money service + Debt settlement       0.00      0.00      0.00         2\n",
      "                            Money transfer, virtual currency, or money service + Domestic (US) money transfer       0.46      0.19      0.27        69\n",
      "                               Money transfer, virtual currency, or money service + Foreign currency exchange       0.00      0.00      0.00         3\n",
      "                            Money transfer, virtual currency, or money service + International money transfer       0.54      0.52      0.53        25\n",
      "                                Money transfer, virtual currency, or money service + Mobile or digital wallet       0.50      0.03      0.05        40\n",
      "                                             Money transfer, virtual currency, or money service + Money order       0.00      0.00      0.00         3\n",
      "                               Money transfer, virtual currency, or money service + Refund anticipation check       0.00      0.00      0.00         4\n",
      "                     Money transfer, virtual currency, or money service + Traveler's check or cashier's check       0.00      0.00      0.00         3\n",
      "                                        Money transfer, virtual currency, or money service + Virtual currency       0.00      0.00      0.00         6\n",
      "                                                               Money transfers + Domestic (US) money transfer       1.00      0.11      0.20         9\n",
      "                                                               Money transfers + International money transfer       0.00      0.00      0.00         4\n",
      "                                                            Mortgage + Conventional adjustable mortgage (ARM)       0.50      0.04      0.08        48\n",
      "                                                                       Mortgage + Conventional fixed mortgage       0.34      0.50      0.40       142\n",
      "                                                                        Mortgage + Conventional home mortgage       0.37      0.51      0.43       210\n",
      "                                                                                      Mortgage + FHA mortgage       0.53      0.21      0.30        98\n",
      "                                                                Mortgage + Home equity loan or line of credit       0.60      0.09      0.15        35\n",
      "                                                        Mortgage + Home equity loan or line of credit (HELOC)       0.22      0.08      0.11        26\n",
      "                                                                                    Mortgage + Other mortgage       1.00      0.03      0.06        33\n",
      "                                                                            Mortgage + Other type of mortgage       0.00      0.00      0.00        19\n",
      "                                                                                  Mortgage + Reverse mortgage       0.00      0.00      0.00         0\n",
      "                                                                                       Mortgage + VA mortgage       1.00      0.09      0.17        11\n",
      "                                                                      Other financial service + Check cashing       0.00      0.00      0.00         1\n",
      "                                                          Other financial service + Foreign currency exchange       0.00      0.00      0.00         1\n",
      "                                                                        Other financial service + Money order       0.00      0.00      0.00         1\n",
      "                                                        Other financial service + Traveler’s/Cashier’s checks       0.00      0.00      0.00         0\n",
      "                                                 Payday loan, title loan, or personal loan + Installment loan       0.00      0.00      0.00         0\n",
      "                                                      Payday loan, title loan, or personal loan + Payday loan       0.00      0.00      0.00         0\n",
      "                                          Payday loan, title loan, or personal loan + Personal line of credit       0.00      0.00      0.00         5\n",
      "                                                       Payday loan, title loan, or personal loan + Title loan       0.00      0.00      0.00         3\n",
      "                                                        Prepaid card + Electronic Benefit Transfer / EBT card       0.00      0.00      0.00         0\n",
      "                                                                          Prepaid card + General purpose card       0.00      0.00      0.00         1\n",
      "                                                                         Prepaid card + Gift or merchant card       0.00      0.00      0.00         1\n",
      "                                                               Prepaid card + Government benefit payment card       0.00      0.00      0.00         0\n",
      "                                                                    Prepaid card + Other special purpose card       0.00      0.00      0.00         0\n",
      "                                                                Student loan + Federal student loan servicing       0.00      0.00      0.00         2\n",
      "                                                                      Student loan + Non-federal student loan       0.47      0.64      0.54        22\n",
      "                                                                          Student loan + Private student loan       0.00      0.00      0.00         7\n",
      "                                                                                Vehicle loan or lease + Lease       0.75      0.75      0.75        24\n",
      "                                                                                 Vehicle loan or lease + Loan       0.38      0.39      0.38        49\n",
      "\n",
      "                                                                                                     accuracy                           0.57      3793\n",
      "                                                                                                    macro avg       0.22      0.11      0.12      3793\n",
      "                                                                                                 weighted avg       0.53      0.57      0.51      3793\n",
      "\n",
      "\n",
      "Matriz de Confusión:\n",
      "[[ 0  0  2 ...  0  0  0]\n",
      " [ 0  0  1 ...  0  0  0]\n",
      " [ 0  0 34 ...  0  0  2]\n",
      " ...\n",
      " [ 0  0  0 ...  0  0  0]\n",
      " [ 0  0  1 ...  0 18  1]\n",
      " [ 0  0  0 ...  0  0 19]]\n"
     ]
    },
    {
     "name": "stderr",
     "output_type": "stream",
     "text": [
      "2024/11/20 18:08:08 INFO mlflow.tracking._tracking_service.client: 🧪 View experiment at: https://dagshub.com/zapatacc/final-exam-pcd2024-autumn.mlflow/#/experiments/1.\n"
     ]
    }
   ],
   "source": [
    "# # Codificar las etiquetas para el conjunto de entrenamiento y prueba\n",
    "# label_encoder = LabelEncoder()\n",
    "# y_train_resampled_encoded = label_encoder.fit_transform(y_train_resampled)\n",
    "# y_test_encoded = label_encoder.fit_transform(y_test)  # Use fit_transform instead of transform\n",
    "\n",
    "# Entrenar Regresión Logística Mejorada\n",
    "train_model_improved(\n",
    "    logreg,\n",
    "    'Logistic Regression Improved',\n",
    "    logreg_params,\n",
    "    experiment_name_logreg,\n",
    "    X_train_resampled,\n",
    "    y_train_resampled,\n",
    "    X_test_tfidf,\n",
    "    y_test_encoded\n",
    ")\n",
    "\n",
    "# Entrenar Bosque Aleatorio Mejorado\n",
    "train_model_improved(\n",
    "    rf,\n",
    "    'Random Forest Improved',\n",
    "    rf_params,\n",
    "    experiment_name_rf,\n",
    "    X_train_resampled,\n",
    "    y_train_resampled,\n",
    "    X_test_tfidf,\n",
    "    y_test_encoded\n",
    ")"
   ]
  },
  {
   "cell_type": "markdown",
   "metadata": {},
   "source": [
    "##### Hyperparameter Tuning con Cross-Validation Estratificada (Stratified-Cross-Validation)"
   ]
  },
  {
   "cell_type": "code",
   "execution_count": 182,
   "metadata": {},
   "outputs": [
    {
     "name": "stderr",
     "output_type": "stream",
     "text": [
      "2024/11/20 19:30:20 WARNING mlflow.models.model: Model logged without a signature and input example. Please set `input_example` parameter when logging the model to auto infer the model signature.\n",
      "2024/11/20 19:30:23 INFO mlflow.tracking._tracking_service.client: 🏃 View run Logistic Regression Hyperparameter Tuning Improved at: https://dagshub.com/zapatacc/final-exam-pcd2024-autumn.mlflow/#/experiments/0/runs/938ee556c2334b17b0c6da44468039b2.\n",
      "2024/11/20 19:30:23 INFO mlflow.tracking._tracking_service.client: 🧪 View experiment at: https://dagshub.com/zapatacc/final-exam-pcd2024-autumn.mlflow/#/experiments/0.\n"
     ]
    },
    {
     "name": "stdout",
     "output_type": "stream",
     "text": [
      "Best Logistic Regression Model Improved:\n",
      "Parameters: {'C': 10.0, 'penalty': 'l2', 'solver': 'lbfgs'}\n",
      "Best CV F1 Weighted: 0.9863221257479694\n",
      "Test Accuracy: 0.5322963353546005\n",
      "Test F1 Score (Macro): 0.1596254468158286\n",
      "Test F1 Score (Weighted): 0.5243932222572044\n",
      "\n",
      "Reporte de Clasificación:\n",
      "                                                                                                               precision    recall  f1-score   support\n",
      "\n",
      "                                                        Bank account or service + (CD) Certificate of deposit       0.00      0.00      0.00         7\n",
      "                                                 Bank account or service + Cashing a check without an account       0.50      0.25      0.33         4\n",
      "                                                                   Bank account or service + Checking account       0.37      0.41      0.39       252\n",
      "                                                         Bank account or service + Other bank product/service       0.13      0.10      0.11        73\n",
      "                                                                    Bank account or service + Savings account       1.00      0.09      0.17        22\n",
      "                                                    Checking or savings account + CD (Certificate of Deposit)       0.50      0.83      0.62         6\n",
      "                                                               Checking or savings account + Checking account       0.64      0.64      0.64       760\n",
      "                                               Checking or savings account + Other banking product or service       0.05      0.06      0.06        49\n",
      "                                                        Checking or savings account + Personal line of credit       0.00      0.00      0.00         1\n",
      "                                                                Checking or savings account + Savings account       0.40      0.43      0.41        47\n",
      "                                                                             Consumer Loan + Installment loan       0.00      0.00      0.00        12\n",
      "                                                                                    Consumer Loan + Pawn loan       0.00      0.00      0.00         1\n",
      "                                                                                   Consumer Loan + Title loan       0.00      0.00      0.00         2\n",
      "                                                                                Consumer Loan + Vehicle lease       0.50      0.17      0.25         6\n",
      "                                                                                 Consumer Loan + Vehicle loan       0.38      0.36      0.37        36\n",
      "                                     Credit card or prepaid card + General-purpose credit card or charge card       0.79      0.81      0.80       943\n",
      "                                                   Credit card or prepaid card + General-purpose prepaid card       0.25      0.09      0.13        11\n",
      "                                                                      Credit card or prepaid card + Gift card       0.00      0.00      0.00         1\n",
      "                                                        Credit card or prepaid card + Government benefit card       0.00      0.00      0.00         4\n",
      "                                                                   Credit card or prepaid card + Payroll card       0.00      0.00      0.00         2\n",
      "                                                              Credit card or prepaid card + Store credit card       0.00      0.00      0.00        11\n",
      "        Credit reporting, credit repair services, or other personal consumer reports + Credit repair services       0.00      0.00      0.00         0\n",
      "              Credit reporting, credit repair services, or other personal consumer reports + Credit reporting       0.65      0.68      0.67       416\n",
      "Credit reporting, credit repair services, or other personal consumer reports + Other personal consumer report       0.10      0.11      0.11         9\n",
      "                                                                                       Debt collection + Auto       0.00      0.00      0.00         3\n",
      "                                                                                  Debt collection + Auto debt       0.00      0.00      0.00         7\n",
      "                                                                                Debt collection + Credit card       0.40      0.37      0.39        46\n",
      "                                                                           Debt collection + Credit card debt       0.35      0.37      0.36        94\n",
      "                                                                       Debt collection + Federal student loan       0.00      0.00      0.00         0\n",
      "                                                                              Debt collection + I do not know       0.18      0.13      0.15        15\n",
      "                                                                                   Debt collection + Mortgage       0.50      0.17      0.25         6\n",
      "                                                                              Debt collection + Mortgage debt       0.42      0.47      0.44        17\n",
      "                                                                   Debt collection + Non-federal student loan       0.00      0.00      0.00         2\n",
      "                                                      Debt collection + Other (i.e. phone, health club, etc.)       0.00      0.00      0.00         4\n",
      "                                                                                 Debt collection + Other debt       0.00      0.00      0.00         7\n",
      "                                                                                Debt collection + Payday loan       0.00      0.00      0.00         1\n",
      "                                                                           Debt collection + Payday loan debt       0.00      0.00      0.00         1\n",
      "                                                                  Debt collection + Private student loan debt       0.00      0.00      0.00         2\n",
      "                                   Money transfer, virtual currency, or money service + Check cashing service       0.00      0.00      0.00         6\n",
      "                                         Money transfer, virtual currency, or money service + Debt settlement       0.00      0.00      0.00         2\n",
      "                            Money transfer, virtual currency, or money service + Domestic (US) money transfer       0.24      0.28      0.26        69\n",
      "                               Money transfer, virtual currency, or money service + Foreign currency exchange       0.00      0.00      0.00         3\n",
      "                            Money transfer, virtual currency, or money service + International money transfer       0.22      0.44      0.30        25\n",
      "                                Money transfer, virtual currency, or money service + Mobile or digital wallet       0.21      0.17      0.19        40\n",
      "                                             Money transfer, virtual currency, or money service + Money order       0.00      0.00      0.00         3\n",
      "                               Money transfer, virtual currency, or money service + Refund anticipation check       0.00      0.00      0.00         4\n",
      "                     Money transfer, virtual currency, or money service + Traveler's check or cashier's check       0.00      0.00      0.00         3\n",
      "                                        Money transfer, virtual currency, or money service + Virtual currency       0.00      0.00      0.00         6\n",
      "                                                               Money transfers + Domestic (US) money transfer       0.25      0.11      0.15         9\n",
      "                                                               Money transfers + International money transfer       0.00      0.00      0.00         4\n",
      "                                                            Mortgage + Conventional adjustable mortgage (ARM)       0.16      0.15      0.15        48\n",
      "                                                                       Mortgage + Conventional fixed mortgage       0.32      0.34      0.33       142\n",
      "                                                                        Mortgage + Conventional home mortgage       0.32      0.37      0.34       210\n",
      "                                                                                      Mortgage + FHA mortgage       0.30      0.33      0.31        98\n",
      "                                                                Mortgage + Home equity loan or line of credit       0.32      0.23      0.27        35\n",
      "                                                        Mortgage + Home equity loan or line of credit (HELOC)       0.23      0.27      0.25        26\n",
      "                                                                                    Mortgage + Other mortgage       0.19      0.24      0.21        33\n",
      "                                                                            Mortgage + Other type of mortgage       0.00      0.00      0.00        19\n",
      "                                                                                  Mortgage + Reverse mortgage       0.00      0.00      0.00         0\n",
      "                                                                                       Mortgage + VA mortgage       0.29      0.18      0.22        11\n",
      "                                                                      Other financial service + Check cashing       0.00      0.00      0.00         1\n",
      "                                                          Other financial service + Foreign currency exchange       0.00      0.00      0.00         1\n",
      "                                                                        Other financial service + Money order       0.00      0.00      0.00         1\n",
      "                                                        Other financial service + Traveler’s/Cashier’s checks       0.00      0.00      0.00         0\n",
      "                                                 Payday loan, title loan, or personal loan + Installment loan       0.00      0.00      0.00         0\n",
      "                                                      Payday loan, title loan, or personal loan + Payday loan       0.00      0.00      0.00         0\n",
      "                                          Payday loan, title loan, or personal loan + Personal line of credit       0.00      0.00      0.00         5\n",
      "                                                       Payday loan, title loan, or personal loan + Title loan       0.00      0.00      0.00         3\n",
      "                                                        Prepaid card + Electronic Benefit Transfer / EBT card       0.00      0.00      0.00         0\n",
      "                                                                          Prepaid card + General purpose card       0.00      0.00      0.00         1\n",
      "                                                                         Prepaid card + Gift or merchant card       0.00      0.00      0.00         1\n",
      "                                                               Prepaid card + Government benefit payment card       0.00      0.00      0.00         0\n",
      "                                                                    Prepaid card + Other special purpose card       0.00      0.00      0.00         0\n",
      "                                                                Student loan + Federal student loan servicing       0.00      0.00      0.00         2\n",
      "                                                                      Student loan + Non-federal student loan       0.57      0.55      0.56        22\n",
      "                                                                          Student loan + Private student loan       0.00      0.00      0.00         7\n",
      "                                                                                Vehicle loan or lease + Lease       0.72      0.54      0.62        24\n",
      "                                                                                 Vehicle loan or lease + Loan       0.33      0.41      0.36        49\n",
      "\n",
      "                                                                                                     accuracy                           0.53      3793\n",
      "                                                                                                    macro avg       0.16      0.14      0.14      3793\n",
      "                                                                                                 weighted avg       0.52      0.53      0.52      3793\n",
      "\n",
      "\n",
      "Matriz de Confusión:\n",
      "[[  0   0   1 ...   0   0   0]\n",
      " [  0   1   2 ...   0   0   0]\n",
      " [  0   1 103 ...   0   0   2]\n",
      " ...\n",
      " [  0   0   0 ...   0   0   0]\n",
      " [  0   0   0 ...   0  13   3]\n",
      " [  0   0   1 ...   0   0  20]]\n"
     ]
    }
   ],
   "source": [
    "logreg_param_grid = {\n",
    "    'C': [0.1, 1.0, 10.0],\n",
    "    'penalty': ['l2'],\n",
    "    'solver': ['lbfgs', 'saga']\n",
    "}\n",
    "\n",
    "grid_logreg = GridSearchCV(\n",
    "    logreg,\n",
    "    logreg_param_grid,\n",
    "    cv=cv,\n",
    "    n_jobs=-1,\n",
    "    scoring='f1_weighted'\n",
    ")\n",
    "\n",
    "mlflow.set_experiment(experiment_name_logreg)\n",
    "\n",
    "with mlflow.start_run(run_name='Logistic Regression Hyperparameter Tuning Improved'):\n",
    "    grid_logreg.fit(X_train_resampled, y_train_resampled)\n",
    "    \n",
    "    # Mejor modelo\n",
    "    best_logreg = grid_logreg.best_estimator_\n",
    "    best_params = grid_logreg.best_params_\n",
    "    best_score = grid_logreg.best_score_\n",
    "    \n",
    "    # Predicciones en el conjunto de prueba\n",
    "    y_pred_logreg = best_logreg.predict(X_test_tfidf)\n",
    "    test_accuracy_logreg = accuracy_score(y_test_encoded, y_pred_logreg)\n",
    "    f1_macro_logreg = f1_score(y_test_encoded, y_pred_logreg, average='macro', zero_division=0)\n",
    "    f1_weighted_logreg = f1_score(y_test_encoded, y_pred_logreg, average='weighted', zero_division=0)\n",
    "\n",
    "    # Obtener todas las etiquetas posibles\n",
    "    all_labels = label_encoder.transform(label_encoder.classes_)\n",
    "    \n",
    "    # Reporte de clasificación\n",
    "    report_logreg = classification_report(y_test_encoded, y_pred_logreg, labels=all_labels, target_names=label_encoder.classes_, zero_division=0)\n",
    "    \n",
    "    # Matriz de confusión\n",
    "    cm_logreg = confusion_matrix(y_test_encoded, y_pred_logreg, labels=all_labels)\n",
    "    \n",
    "    # Logging\n",
    "    mlflow.log_params(best_params)\n",
    "    mlflow.log_metric('best_cv_f1_weighted', best_score)\n",
    "    mlflow.log_metric('test_accuracy', test_accuracy_logreg)\n",
    "    mlflow.log_metric('test_f1_macro', f1_macro_logreg)\n",
    "    mlflow.log_metric('test_f1_weighted', f1_weighted_logreg)\n",
    "    mlflow.sklearn.log_model(best_logreg, 'Best Logistic Regression Model Improved')\n",
    "    \n",
    "    print(\"Best Logistic Regression Model Improved:\")\n",
    "    print(f\"Parameters: {best_params}\")\n",
    "    print(f\"Best CV F1 Weighted: {best_score}\")\n",
    "    print(f\"Test Accuracy: {test_accuracy_logreg}\")\n",
    "    print(f\"Test F1 Score (Macro): {f1_macro_logreg}\")\n",
    "    print(f\"Test F1 Score (Weighted): {f1_weighted_logreg}\")\n",
    "    print(\"\\nReporte de Clasificación:\")\n",
    "    print(report_logreg)\n",
    "    print(\"\\nMatriz de Confusión:\")\n",
    "    print(cm_logreg)"
   ]
  },
  {
   "cell_type": "code",
   "execution_count": 183,
   "metadata": {},
   "outputs": [
    {
     "name": "stderr",
     "output_type": "stream",
     "text": [
      "2024/11/20 20:45:05 WARNING mlflow.models.model: Model logged without a signature and input example. Please set `input_example` parameter when logging the model to auto infer the model signature.\n",
      "2024/11/20 21:07:34 INFO mlflow.tracking._tracking_service.client: 🏃 View run Random Forest Hyperparameter Tuning Improved at: https://dagshub.com/zapatacc/final-exam-pcd2024-autumn.mlflow/#/experiments/1/runs/adbfdfdb91fc41939190f24de37cd1b4.\n",
      "2024/11/20 21:07:34 INFO mlflow.tracking._tracking_service.client: 🧪 View experiment at: https://dagshub.com/zapatacc/final-exam-pcd2024-autumn.mlflow/#/experiments/1.\n"
     ]
    },
    {
     "name": "stdout",
     "output_type": "stream",
     "text": [
      "Best Random Forest Model Improved:\n",
      "Parameters: {'max_depth': None, 'min_samples_split': 2, 'n_estimators': 200}\n",
      "Best CV F1 Weighted: 0.9890423476702477\n",
      "Test Accuracy: 0.5723701555496968\n",
      "Test F1 Score (Macro): 0.13619744736903636\n",
      "Test F1 Score (Weighted): 0.5097552350772798\n",
      "\n",
      "Reporte de Clasificación:\n",
      "                                                                                                               precision    recall  f1-score   support\n",
      "\n",
      "                                                        Bank account or service + (CD) Certificate of deposit       0.00      0.00      0.00         7\n",
      "                                                 Bank account or service + Cashing a check without an account       0.00      0.00      0.00         4\n",
      "                                                                   Bank account or service + Checking account       0.41      0.12      0.18       252\n",
      "                                                         Bank account or service + Other bank product/service       0.00      0.00      0.00        73\n",
      "                                                                    Bank account or service + Savings account       0.00      0.00      0.00        22\n",
      "                                                    Checking or savings account + CD (Certificate of Deposit)       0.44      0.67      0.53         6\n",
      "                                                               Checking or savings account + Checking account       0.53      0.84      0.65       760\n",
      "                                               Checking or savings account + Other banking product or service       1.00      0.02      0.04        49\n",
      "                                                        Checking or savings account + Personal line of credit       0.00      0.00      0.00         1\n",
      "                                                                Checking or savings account + Savings account       0.80      0.09      0.15        47\n",
      "                                                                             Consumer Loan + Installment loan       0.00      0.00      0.00        12\n",
      "                                                                                    Consumer Loan + Pawn loan       0.00      0.00      0.00         1\n",
      "                                                                                   Consumer Loan + Title loan       0.00      0.00      0.00         2\n",
      "                                                                                Consumer Loan + Vehicle lease       0.00      0.00      0.00         6\n",
      "                                                                                 Consumer Loan + Vehicle loan       0.88      0.19      0.32        36\n",
      "                                     Credit card or prepaid card + General-purpose credit card or charge card       0.70      0.89      0.78       943\n",
      "                                                   Credit card or prepaid card + General-purpose prepaid card       1.00      0.09      0.17        11\n",
      "                                                                      Credit card or prepaid card + Gift card       0.00      0.00      0.00         1\n",
      "                                                        Credit card or prepaid card + Government benefit card       0.00      0.00      0.00         4\n",
      "                                                                   Credit card or prepaid card + Payroll card       0.00      0.00      0.00         2\n",
      "                                                              Credit card or prepaid card + Store credit card       0.00      0.00      0.00        11\n",
      "        Credit reporting, credit repair services, or other personal consumer reports + Credit repair services       0.00      0.00      0.00         0\n",
      "              Credit reporting, credit repair services, or other personal consumer reports + Credit reporting       0.65      0.74      0.69       416\n",
      "Credit reporting, credit repair services, or other personal consumer reports + Other personal consumer report       0.50      0.11      0.18         9\n",
      "                                                                                       Debt collection + Auto       0.00      0.00      0.00         3\n",
      "                                                                                  Debt collection + Auto debt       0.00      0.00      0.00         7\n",
      "                                                                                Debt collection + Credit card       0.40      0.30      0.35        46\n",
      "                                                                           Debt collection + Credit card debt       0.47      0.29      0.36        94\n",
      "                                                                       Debt collection + Federal student loan       0.00      0.00      0.00         0\n",
      "                                                                              Debt collection + I do not know       0.00      0.00      0.00        15\n",
      "                                                                                   Debt collection + Mortgage       0.00      0.00      0.00         6\n",
      "                                                                              Debt collection + Mortgage debt       1.00      0.24      0.38        17\n",
      "                                                                   Debt collection + Non-federal student loan       0.00      0.00      0.00         2\n",
      "                                                      Debt collection + Other (i.e. phone, health club, etc.)       0.00      0.00      0.00         4\n",
      "                                                                                 Debt collection + Other debt       0.00      0.00      0.00         7\n",
      "                                                                                Debt collection + Payday loan       0.00      0.00      0.00         1\n",
      "                                                                           Debt collection + Payday loan debt       0.00      0.00      0.00         1\n",
      "                                                                  Debt collection + Private student loan debt       0.00      0.00      0.00         2\n",
      "                                   Money transfer, virtual currency, or money service + Check cashing service       0.00      0.00      0.00         6\n",
      "                                         Money transfer, virtual currency, or money service + Debt settlement       0.00      0.00      0.00         2\n",
      "                            Money transfer, virtual currency, or money service + Domestic (US) money transfer       0.52      0.20      0.29        69\n",
      "                               Money transfer, virtual currency, or money service + Foreign currency exchange       0.00      0.00      0.00         3\n",
      "                            Money transfer, virtual currency, or money service + International money transfer       0.59      0.52      0.55        25\n",
      "                                Money transfer, virtual currency, or money service + Mobile or digital wallet       0.00      0.00      0.00        40\n",
      "                                             Money transfer, virtual currency, or money service + Money order       0.00      0.00      0.00         3\n",
      "                               Money transfer, virtual currency, or money service + Refund anticipation check       0.00      0.00      0.00         4\n",
      "                     Money transfer, virtual currency, or money service + Traveler's check or cashier's check       0.00      0.00      0.00         3\n",
      "                                        Money transfer, virtual currency, or money service + Virtual currency       0.00      0.00      0.00         6\n",
      "                                                               Money transfers + Domestic (US) money transfer       1.00      0.11      0.20         9\n",
      "                                                               Money transfers + International money transfer       0.00      0.00      0.00         4\n",
      "                                                            Mortgage + Conventional adjustable mortgage (ARM)       0.75      0.06      0.12        48\n",
      "                                                                       Mortgage + Conventional fixed mortgage       0.32      0.47      0.38       142\n",
      "                                                                        Mortgage + Conventional home mortgage       0.39      0.55      0.46       210\n",
      "                                                                                      Mortgage + FHA mortgage       0.58      0.21      0.31        98\n",
      "                                                                Mortgage + Home equity loan or line of credit       0.40      0.06      0.10        35\n",
      "                                                        Mortgage + Home equity loan or line of credit (HELOC)       0.43      0.12      0.18        26\n",
      "                                                                                    Mortgage + Other mortgage       1.00      0.06      0.11        33\n",
      "                                                                            Mortgage + Other type of mortgage       0.00      0.00      0.00        19\n",
      "                                                                                  Mortgage + Reverse mortgage       0.00      0.00      0.00         0\n",
      "                                                                                       Mortgage + VA mortgage       1.00      0.09      0.17        11\n",
      "                                                                      Other financial service + Check cashing       0.00      0.00      0.00         1\n",
      "                                                          Other financial service + Foreign currency exchange       0.00      0.00      0.00         1\n",
      "                                                                        Other financial service + Money order       0.00      0.00      0.00         1\n",
      "                                                        Other financial service + Traveler’s/Cashier’s checks       0.00      0.00      0.00         0\n",
      "                                                 Payday loan, title loan, or personal loan + Installment loan       0.00      0.00      0.00         0\n",
      "                                                      Payday loan, title loan, or personal loan + Payday loan       0.00      0.00      0.00         0\n",
      "                                          Payday loan, title loan, or personal loan + Personal line of credit       0.00      0.00      0.00         5\n",
      "                                                       Payday loan, title loan, or personal loan + Title loan       0.00      0.00      0.00         3\n",
      "                                                        Prepaid card + Electronic Benefit Transfer / EBT card       0.00      0.00      0.00         0\n",
      "                                                                          Prepaid card + General purpose card       0.00      0.00      0.00         1\n",
      "                                                                         Prepaid card + Gift or merchant card       0.00      0.00      0.00         1\n",
      "                                                               Prepaid card + Government benefit payment card       0.00      0.00      0.00         0\n",
      "                                                                    Prepaid card + Other special purpose card       0.00      0.00      0.00         0\n",
      "                                                                Student loan + Federal student loan servicing       0.00      0.00      0.00         2\n",
      "                                                                      Student loan + Non-federal student loan       0.48      0.64      0.55        22\n",
      "                                                                          Student loan + Private student loan       0.00      0.00      0.00         7\n",
      "                                                                                Vehicle loan or lease + Lease       0.72      0.75      0.73        24\n",
      "                                                                                 Vehicle loan or lease + Loan       0.45      0.47      0.46        49\n",
      "\n",
      "                                                                                                     accuracy                           0.57      3793\n",
      "                                                                                                    macro avg       0.22      0.11      0.12      3793\n",
      "                                                                                                 weighted avg       0.54      0.57      0.51      3793\n",
      "\n",
      "\n",
      "Matriz de Confusión:\n",
      "[[ 0  0  1 ...  0  0  0]\n",
      " [ 0  0  1 ...  0  0  0]\n",
      " [ 0  0 29 ...  0  0  1]\n",
      " ...\n",
      " [ 0  0  0 ...  0  0  0]\n",
      " [ 0  0  0 ...  0 18  1]\n",
      " [ 0  0  0 ...  0  0 23]]\n"
     ]
    }
   ],
   "source": [
    "# Tuning para random forest\n",
    "\n",
    "rf_param_grid = {\n",
    "    'n_estimators': [100, 200],\n",
    "    'max_depth': [None, 10, 20],\n",
    "    'min_samples_split': [2, 5]\n",
    "}\n",
    "\n",
    "grid_rf = GridSearchCV(\n",
    "    rf,\n",
    "    rf_param_grid,\n",
    "    cv=cv,\n",
    "    n_jobs=-1,\n",
    "    scoring='f1_weighted'\n",
    ")\n",
    "\n",
    "mlflow.set_experiment(experiment_name_rf)\n",
    "\n",
    "with mlflow.start_run(run_name='Random Forest Hyperparameter Tuning Improved'):\n",
    "    grid_rf.fit(X_train_resampled, y_train_resampled)\n",
    "    \n",
    "    # Mejor modelo\n",
    "    best_rf = grid_rf.best_estimator_\n",
    "    best_params_rf = grid_rf.best_params_\n",
    "    best_score_rf = grid_rf.best_score_\n",
    "    \n",
    "    # Predicciones en el conjunto de prueba\n",
    "    y_pred_rf = best_rf.predict(X_test_tfidf)\n",
    "    test_accuracy_rf = accuracy_score(y_test_encoded, y_pred_rf)\n",
    "    f1_macro_rf = f1_score(y_test_encoded, y_pred_rf, average='macro', zero_division=0)\n",
    "    f1_weighted_rf = f1_score(y_test_encoded, y_pred_rf, average='weighted', zero_division=0)\n",
    "\n",
    "    # Obtener todas las etiquetas posibles\n",
    "    all_labels = label_encoder.transform(label_encoder.classes_)\n",
    "    \n",
    "    # Reporte de clasificación\n",
    "    report_rf = classification_report(y_test_encoded, y_pred_rf, labels=all_labels, target_names=label_encoder.classes_, zero_division=0)\n",
    "    \n",
    "    # Matriz de confusión\n",
    "    cm_rf = confusion_matrix(y_test_encoded, y_pred_rf, labels=all_labels)\n",
    "    \n",
    "    # Logging\n",
    "    mlflow.log_params(best_params_rf)\n",
    "    mlflow.log_metric('best_cv_f1_weighted', best_score_rf)\n",
    "    mlflow.log_metric('test_accuracy', test_accuracy_rf)\n",
    "    mlflow.log_metric('test_f1_macro', f1_macro_rf)\n",
    "    mlflow.log_metric('test_f1_weighted', f1_weighted_rf)\n",
    "    mlflow.sklearn.log_model(best_rf, 'Best Random Forest Model Improved')\n",
    "    \n",
    "    print(\"Best Random Forest Model Improved:\")\n",
    "    print(f\"Parameters: {best_params_rf}\")\n",
    "    print(f\"Best CV F1 Weighted: {best_score_rf}\")\n",
    "    print(f\"Test Accuracy: {test_accuracy_rf}\")\n",
    "    print(f\"Test F1 Score (Macro): {f1_macro_rf}\")\n",
    "    print(f\"Test F1 Score (Weighted): {f1_weighted_rf}\")\n",
    "    print(\"\\nReporte de Clasificación:\")\n",
    "    print(report_rf)\n",
    "    print(\"\\nMatriz de Confusión:\")\n",
    "    print(cm_rf)"
   ]
  },
  {
   "cell_type": "markdown",
   "metadata": {},
   "source": [
    "##### Usamos Word2Vec para representar el texto de las quejas en vectores numéricos."
   ]
  },
  {
   "cell_type": "code",
   "execution_count": 184,
   "metadata": {},
   "outputs": [],
   "source": [
    "# Tokenizar el texto preprocesado\n",
    "df['tokens'] = df['clean_complaint'].apply(lambda x: x.split())\n",
    "\n",
    "# Entrenar el modelo Word2Vec\n",
    "w2v_model = Word2Vec(\n",
    "    sentences=df['tokens'],\n",
    "    vector_size=100,\n",
    "    window=5,\n",
    "    min_count=2,\n",
    "    workers=4,\n",
    "    sg=1,  # Usar Skip-Gram; cambiar a 0 para CBOW\n",
    "    seed=11\n",
    ")"
   ]
  },
  {
   "cell_type": "markdown",
   "metadata": {},
   "source": [
    "##### Funcion para obtener el vector promedio de las palabras en cada queja Usando Word2Vec"
   ]
  },
  {
   "cell_type": "code",
   "execution_count": 185,
   "metadata": {},
   "outputs": [],
   "source": [
    "def vectorize_text(tokens, model):\n",
    "    # Filtrar palabras que están en el vocabulario del modelo\n",
    "    tokens = [word for word in tokens if word in model.wv.key_to_index]\n",
    "    if len(tokens) > 0:\n",
    "        return np.mean(model.wv[tokens], axis=0)\n",
    "    else:\n",
    "        return np.zeros(model.vector_size)"
   ]
  },
  {
   "cell_type": "markdown",
   "metadata": {},
   "source": [
    "##### Primer snippet del intento 1"
   ]
  },
  {
   "cell_type": "markdown",
   "metadata": {},
   "source": [
    "### Intento 2\n",
    "\n",
    "----"
   ]
  },
  {
   "cell_type": "markdown",
   "metadata": {},
   "source": [
    "##### Tokenizar y vectorizar antes de resamplear"
   ]
  },
  {
   "cell_type": "code",
   "execution_count": 249,
   "metadata": {},
   "outputs": [],
   "source": [
    "# Tokenize X_train\n",
    "X_train_tokens = X_train.apply(lambda x: x.split())\n",
    "\n",
    "# Vectorize tokens using Word2Vec\n",
    "X_train_vectors = np.array([vectorize_text(tokens, w2v_model) for tokens in X_train_tokens])"
   ]
  },
  {
   "cell_type": "code",
   "execution_count": 250,
   "metadata": {},
   "outputs": [],
   "source": [
    "# Filter classes with at least min_samples\n",
    "min_samples = 3\n",
    "class_counts = np.bincount(y_train_encoded)\n",
    "valid_classes = np.where(class_counts >= min_samples)[0]\n",
    "\n",
    "# Filter the data\n",
    "filtered_indices = np.isin(y_train_encoded, valid_classes)\n",
    "X_train_vectors_filtered = X_train_vectors[filtered_indices]\n",
    "y_train_filtered = y_train_encoded[filtered_indices]"
   ]
  },
  {
   "cell_type": "code",
   "execution_count": 251,
   "metadata": {},
   "outputs": [],
   "source": [
    "# Apply SMOTE and RandomUnderSampler\n",
    "smote = SMOTE(random_state=11, k_neighbors=2)\n",
    "undersample = RandomUnderSampler(random_state=11)\n",
    "\n",
    "resample_pipeline = Pipeline(steps=[\n",
    "    ('smote', smote),\n",
    "    ('undersample', undersample)\n",
    "])\n",
    "\n",
    "X_train_resampled, y_train_resampled = resample_pipeline.fit_resample(X_train_vectors_filtered, y_train_filtered)"
   ]
  },
  {
   "cell_type": "code",
   "execution_count": 252,
   "metadata": {},
   "outputs": [],
   "source": [
    "# Tokenize and vectorize X_test\n",
    "X_test_tokens = X_test.apply(lambda x: x.split())\n",
    "X_test_vectors = np.array([vectorize_text(tokens, w2v_model) for tokens in X_test_tokens])"
   ]
  },
  {
   "cell_type": "markdown",
   "metadata": {},
   "source": [
    "##### Entrenar los modelos usando datos resampleados"
   ]
  },
  {
   "cell_type": "markdown",
   "metadata": {},
   "source": [
    "##### Entrenar regresion logistica con Word2Vec"
   ]
  },
  {
   "cell_type": "code",
   "execution_count": 253,
   "metadata": {},
   "outputs": [
    {
     "name": "stderr",
     "output_type": "stream",
     "text": [
      "2024/11/20 22:16:00 WARNING mlflow.models.model: Model logged without a signature and input example. Please set `input_example` parameter when logging the model to auto infer the model signature.\n",
      "2024/11/20 22:16:04 INFO mlflow.tracking._tracking_service.client: 🏃 View run Logistic Regression with Word2Vec at: https://dagshub.com/zapatacc/final-exam-pcd2024-autumn.mlflow/#/experiments/13/runs/b4acfbbc59f84ae19aa507ea72c47298.\n",
      "2024/11/20 22:16:04 INFO mlflow.tracking._tracking_service.client: 🧪 View experiment at: https://dagshub.com/zapatacc/final-exam-pcd2024-autumn.mlflow/#/experiments/13.\n"
     ]
    },
    {
     "name": "stdout",
     "output_type": "stream",
     "text": [
      "Modelo: Logistic Regression with Word2Vec\n",
      "Accuracy: 0.2655590717299578\n",
      "F1 Score (Macro): 0.13736004865473986\n",
      "F1 Score (Weighted): 0.33119839740089013\n",
      "\n",
      "Reporte de Clasificación:\n",
      "                                                                                                               precision    recall  f1-score   support\n",
      "\n",
      "                                                        Bank account or service + (CD) Certificate of deposit       0.00      0.00      0.00         4\n",
      "                                                 Bank account or service + Cashing a check without an account       0.03      0.25      0.05         4\n",
      "                                                                   Bank account or service + Checking account       0.34      0.24      0.28       249\n",
      "                                                         Bank account or service + Other bank product/service       0.07      0.08      0.07        60\n",
      "                                                                    Bank account or service + Savings account       0.09      0.50      0.15        14\n",
      "                                                    Checking or savings account + CD (Certificate of Deposit)       0.11      0.40      0.17         5\n",
      "                                                               Checking or savings account + Checking account       0.65      0.15      0.25       758\n",
      "                                               Checking or savings account + Other banking product or service       0.08      0.12      0.10        48\n",
      "                                                        Checking or savings account + Personal line of credit       0.00      0.00      0.00         0\n",
      "                                                                Checking or savings account + Savings account       0.12      0.33      0.17        46\n",
      "                                                                             Consumer Loan + Installment loan       0.02      0.14      0.03         7\n",
      "                                                                                    Consumer Loan + Pawn loan       0.00      0.00      0.00         1\n",
      "                                                                                   Consumer Loan + Title loan       0.00      0.00      0.00         1\n",
      "                                                                                Consumer Loan + Vehicle lease       0.00      0.00      0.00         5\n",
      "                                                                                 Consumer Loan + Vehicle loan       0.28      0.29      0.28        35\n",
      "                                     Credit card or prepaid card + General-purpose credit card or charge card       0.88      0.40      0.55       984\n",
      "                                                   Credit card or prepaid card + General-purpose prepaid card       0.01      0.12      0.01         8\n",
      "                                                                      Credit card or prepaid card + Gift card       0.00      0.00      0.00         2\n",
      "                                                        Credit card or prepaid card + Government benefit card       0.00      0.00      0.00         2\n",
      "                                                                   Credit card or prepaid card + Payroll card       0.50      1.00      0.67         1\n",
      "                                                              Credit card or prepaid card + Store credit card       0.01      0.18      0.03        11\n",
      "        Credit reporting, credit repair services, or other personal consumer reports + Credit repair services       0.00      0.00      0.00         3\n",
      "              Credit reporting, credit repair services, or other personal consumer reports + Credit reporting       0.76      0.36      0.49       402\n",
      "Credit reporting, credit repair services, or other personal consumer reports + Other personal consumer report       0.01      0.08      0.02        12\n",
      "                                                                                       Debt collection + Auto       0.00      0.00      0.00         2\n",
      "                                                                                  Debt collection + Auto debt       0.05      0.33      0.09         6\n",
      "                                                                                Debt collection + Credit card       0.32      0.36      0.34        44\n",
      "                                                                           Debt collection + Credit card debt       0.22      0.22      0.22        86\n",
      "                                                                       Debt collection + Federal student loan       0.00      0.00      0.00         0\n",
      "                                                                              Debt collection + I do not know       0.12      0.29      0.17        17\n",
      "                                                                                   Debt collection + Mortgage       0.03      0.10      0.04        10\n",
      "                                                                              Debt collection + Mortgage debt       0.11      0.38      0.17        13\n",
      "                                                                   Debt collection + Non-federal student loan       0.14      1.00      0.25         1\n",
      "                                                      Debt collection + Other (i.e. phone, health club, etc.)       0.00      0.00      0.00         4\n",
      "                                                                                 Debt collection + Other debt       0.00      0.00      0.00         6\n",
      "                                                                                Debt collection + Payday loan       0.00      0.00      0.00         0\n",
      "                                                                           Debt collection + Payday loan debt       0.00      0.00      0.00         0\n",
      "                                                                  Debt collection + Private student loan debt       0.00      0.00      0.00         1\n",
      "                                   Money transfer, virtual currency, or money service + Check cashing service       0.00      0.00      0.00         4\n",
      "                                         Money transfer, virtual currency, or money service + Debt settlement       0.00      0.00      0.00         1\n",
      "                            Money transfer, virtual currency, or money service + Domestic (US) money transfer       0.24      0.17      0.20        69\n",
      "                               Money transfer, virtual currency, or money service + Foreign currency exchange       0.08      0.67      0.14         3\n",
      "                            Money transfer, virtual currency, or money service + International money transfer       0.23      0.41      0.30        22\n",
      "                                Money transfer, virtual currency, or money service + Mobile or digital wallet       0.18      0.36      0.24        39\n",
      "                                             Money transfer, virtual currency, or money service + Money order       0.07      0.75      0.12         4\n",
      "                               Money transfer, virtual currency, or money service + Refund anticipation check       0.00      0.00      0.00         2\n",
      "                     Money transfer, virtual currency, or money service + Traveler's check or cashier's check       0.11      0.43      0.18         7\n",
      "                                        Money transfer, virtual currency, or money service + Virtual currency       0.04      0.20      0.06        10\n",
      "                                                               Money transfers + Domestic (US) money transfer       0.02      0.14      0.04         7\n",
      "                                                               Money transfers + International money transfer       0.06      0.25      0.10         4\n",
      "                                                            Mortgage + Conventional adjustable mortgage (ARM)       0.18      0.20      0.19        56\n",
      "                                                                       Mortgage + Conventional fixed mortgage       0.34      0.11      0.16       157\n",
      "                                                                        Mortgage + Conventional home mortgage       0.48      0.15      0.22       191\n",
      "                                                                                      Mortgage + FHA mortgage       0.21      0.13      0.16        99\n",
      "                                                                Mortgage + Home equity loan or line of credit       0.11      0.19      0.14        32\n",
      "                                                        Mortgage + Home equity loan or line of credit (HELOC)       0.14      0.24      0.18        33\n",
      "                                                                                    Mortgage + Other mortgage       0.11      0.16      0.13        38\n",
      "                                                                            Mortgage + Other type of mortgage       0.06      0.18      0.09        22\n",
      "                                                                                  Mortgage + Reverse mortgage       0.00      0.00      0.00         1\n",
      "                                                                                       Mortgage + VA mortgage       0.07      0.21      0.11        19\n",
      "                                                                      Other financial service + Check cashing       0.00      0.00      0.00         1\n",
      "                                                          Other financial service + Foreign currency exchange       0.00      0.00      0.00         0\n",
      "                                                                        Other financial service + Money order       0.00      0.00      0.00         0\n",
      "                                                        Other financial service + Traveler’s/Cashier’s checks       0.00      0.00      0.00         0\n",
      "                                                 Payday loan, title loan, or personal loan + Installment loan       0.06      0.33      0.11         3\n",
      "                                                      Payday loan, title loan, or personal loan + Payday loan       0.00      0.00      0.00         1\n",
      "                                          Payday loan, title loan, or personal loan + Personal line of credit       0.00      0.00      0.00         4\n",
      "                                                       Payday loan, title loan, or personal loan + Title loan       0.00      0.00      0.00         2\n",
      "                                                        Prepaid card + Electronic Benefit Transfer / EBT card       0.00      0.00      0.00         0\n",
      "                                                                          Prepaid card + General purpose card       0.00      0.00      0.00         0\n",
      "                                                                         Prepaid card + Gift or merchant card       0.00      0.00      0.00         0\n",
      "                                                               Prepaid card + Government benefit payment card       0.00      0.00      0.00         0\n",
      "                                                                    Prepaid card + Other special purpose card       0.00      0.00      0.00         0\n",
      "                                                                Student loan + Federal student loan servicing       0.08      0.50      0.13         2\n",
      "                                                                      Student loan + Non-federal student loan       0.48      0.52      0.50        21\n",
      "                                                                          Student loan + Private student loan       0.16      0.60      0.25         5\n",
      "                                                                                Vehicle loan or lease + Lease       0.33      0.50      0.40        24\n",
      "                                                                                 Vehicle loan or lease + Loan       0.31      0.35      0.33        57\n",
      "\n",
      "                                                                                                     accuracy                           0.27      3792\n",
      "                                                                                                    macro avg       0.12      0.19      0.12      3792\n",
      "                                                                                                 weighted avg       0.55      0.27      0.33      3792\n",
      "\n",
      "\n",
      "Matriz de Confusión:\n",
      "[[ 0  0  0 ...  0  0  0]\n",
      " [ 0  1  0 ...  0  0  0]\n",
      " [ 1  6 59 ...  1  0  1]\n",
      " ...\n",
      " [ 0  0  0 ...  3  0  0]\n",
      " [ 0  0  0 ...  1 12  3]\n",
      " [ 0  0  0 ...  0  5 20]]\n"
     ]
    }
   ],
   "source": [
    "train_model_improved(\n",
    "    logreg,\n",
    "    'Logistic Regression with Word2Vec',\n",
    "    logreg_params,\n",
    "    experiment_name_logreg,\n",
    "    X_train_resampled,\n",
    "    y_train_resampled,\n",
    "    X_test_vectors,\n",
    "    y_test_encoded\n",
    ")"
   ]
  },
  {
   "cell_type": "markdown",
   "metadata": {},
   "source": [
    "##### Entrenar Random Forest con Word2Vec"
   ]
  },
  {
   "cell_type": "code",
   "execution_count": 254,
   "metadata": {},
   "outputs": [
    {
     "name": "stderr",
     "output_type": "stream",
     "text": [
      "2024/11/20 22:16:04 INFO mlflow.tracking.fluent: Experiment with name 'Random Forest Experiment' does not exist. Creating a new experiment.\n",
      "2024/11/20 22:24:21 WARNING mlflow.models.model: Model logged without a signature and input example. Please set `input_example` parameter when logging the model to auto infer the model signature.\n",
      "2024/11/20 22:42:52 INFO mlflow.tracking._tracking_service.client: 🏃 View run Random Forest with Word2Vec at: https://dagshub.com/zapatacc/final-exam-pcd2024-autumn.mlflow/#/experiments/14/runs/6a6a18765190490cb1d255281f3b7938.\n",
      "2024/11/20 22:42:52 INFO mlflow.tracking._tracking_service.client: 🧪 View experiment at: https://dagshub.com/zapatacc/final-exam-pcd2024-autumn.mlflow/#/experiments/14.\n"
     ]
    },
    {
     "name": "stdout",
     "output_type": "stream",
     "text": [
      "Modelo: Random Forest with Word2Vec\n",
      "Accuracy: 0.5274261603375527\n",
      "F1 Score (Macro): 0.13593745206442737\n",
      "F1 Score (Weighted): 0.49897081569482554\n",
      "\n",
      "Reporte de Clasificación:\n",
      "                                                                                                               precision    recall  f1-score   support\n",
      "\n",
      "                                                        Bank account or service + (CD) Certificate of deposit       0.00      0.00      0.00         4\n",
      "                                                 Bank account or service + Cashing a check without an account       0.00      0.00      0.00         4\n",
      "                                                                   Bank account or service + Checking account       0.25      0.27      0.26       249\n",
      "                                                         Bank account or service + Other bank product/service       0.06      0.02      0.03        60\n",
      "                                                                    Bank account or service + Savings account       0.67      0.14      0.24        14\n",
      "                                                    Checking or savings account + CD (Certificate of Deposit)       0.00      0.00      0.00         5\n",
      "                                                               Checking or savings account + Checking account       0.56      0.64      0.60       758\n",
      "                                               Checking or savings account + Other banking product or service       0.18      0.04      0.07        48\n",
      "                                                        Checking or savings account + Personal line of credit       0.00      0.00      0.00         0\n",
      "                                                                Checking or savings account + Savings account       0.18      0.04      0.07        46\n",
      "                                                                             Consumer Loan + Installment loan       0.00      0.00      0.00         7\n",
      "                                                                                    Consumer Loan + Pawn loan       0.00      0.00      0.00         1\n",
      "                                                                                   Consumer Loan + Title loan       0.00      0.00      0.00         1\n",
      "                                                                                Consumer Loan + Vehicle lease       0.00      0.00      0.00         5\n",
      "                                                                                 Consumer Loan + Vehicle loan       0.35      0.20      0.25        35\n",
      "                                     Credit card or prepaid card + General-purpose credit card or charge card       0.74      0.83      0.79       984\n",
      "                                                   Credit card or prepaid card + General-purpose prepaid card       1.00      0.12      0.22         8\n",
      "                                                                      Credit card or prepaid card + Gift card       0.00      0.00      0.00         2\n",
      "                                                        Credit card or prepaid card + Government benefit card       0.00      0.00      0.00         2\n",
      "                                                                   Credit card or prepaid card + Payroll card       0.00      0.00      0.00         1\n",
      "                                                              Credit card or prepaid card + Store credit card       0.00      0.00      0.00        11\n",
      "        Credit reporting, credit repair services, or other personal consumer reports + Credit repair services       0.00      0.00      0.00         3\n",
      "              Credit reporting, credit repair services, or other personal consumer reports + Credit reporting       0.65      0.75      0.70       402\n",
      "Credit reporting, credit repair services, or other personal consumer reports + Other personal consumer report       0.50      0.08      0.14        12\n",
      "                                                                                       Debt collection + Auto       0.00      0.00      0.00         2\n",
      "                                                                                  Debt collection + Auto debt       0.00      0.00      0.00         6\n",
      "                                                                                Debt collection + Credit card       0.30      0.27      0.29        44\n",
      "                                                                           Debt collection + Credit card debt       0.38      0.38      0.38        86\n",
      "                                                                       Debt collection + Federal student loan       0.00      0.00      0.00         0\n",
      "                                                                              Debt collection + I do not know       0.00      0.00      0.00        17\n",
      "                                                                                   Debt collection + Mortgage       0.25      0.10      0.14        10\n",
      "                                                                              Debt collection + Mortgage debt       0.44      0.31      0.36        13\n",
      "                                                                   Debt collection + Non-federal student loan       0.00      0.00      0.00         1\n",
      "                                                      Debt collection + Other (i.e. phone, health club, etc.)       0.00      0.00      0.00         4\n",
      "                                                                                 Debt collection + Other debt       0.00      0.00      0.00         6\n",
      "                                                                                Debt collection + Payday loan       0.00      0.00      0.00         0\n",
      "                                                                           Debt collection + Payday loan debt       0.00      0.00      0.00         0\n",
      "                                                                  Debt collection + Private student loan debt       0.00      0.00      0.00         1\n",
      "                                   Money transfer, virtual currency, or money service + Check cashing service       0.00      0.00      0.00         4\n",
      "                                         Money transfer, virtual currency, or money service + Debt settlement       0.00      0.00      0.00         1\n",
      "                            Money transfer, virtual currency, or money service + Domestic (US) money transfer       0.26      0.33      0.29        69\n",
      "                               Money transfer, virtual currency, or money service + Foreign currency exchange       0.00      0.00      0.00         3\n",
      "                            Money transfer, virtual currency, or money service + International money transfer       0.47      0.32      0.38        22\n",
      "                                Money transfer, virtual currency, or money service + Mobile or digital wallet       0.41      0.28      0.33        39\n",
      "                                             Money transfer, virtual currency, or money service + Money order       0.00      0.00      0.00         4\n",
      "                               Money transfer, virtual currency, or money service + Refund anticipation check       0.00      0.00      0.00         2\n",
      "                     Money transfer, virtual currency, or money service + Traveler's check or cashier's check       0.00      0.00      0.00         7\n",
      "                                        Money transfer, virtual currency, or money service + Virtual currency       0.00      0.00      0.00        10\n",
      "                                                               Money transfers + Domestic (US) money transfer       1.00      0.14      0.25         7\n",
      "                                                               Money transfers + International money transfer       1.00      0.25      0.40         4\n",
      "                                                            Mortgage + Conventional adjustable mortgage (ARM)       0.15      0.09      0.11        56\n",
      "                                                                       Mortgage + Conventional fixed mortgage       0.28      0.32      0.30       157\n",
      "                                                                        Mortgage + Conventional home mortgage       0.31      0.40      0.35       191\n",
      "                                                                                      Mortgage + FHA mortgage       0.26      0.27      0.26        99\n",
      "                                                                Mortgage + Home equity loan or line of credit       0.00      0.00      0.00        32\n",
      "                                                        Mortgage + Home equity loan or line of credit (HELOC)       0.00      0.00      0.00        33\n",
      "                                                                                    Mortgage + Other mortgage       0.19      0.13      0.16        38\n",
      "                                                                            Mortgage + Other type of mortgage       0.40      0.09      0.15        22\n",
      "                                                                                  Mortgage + Reverse mortgage       0.00      0.00      0.00         1\n",
      "                                                                                       Mortgage + VA mortgage       0.00      0.00      0.00        19\n",
      "                                                                      Other financial service + Check cashing       0.00      0.00      0.00         1\n",
      "                                                          Other financial service + Foreign currency exchange       0.00      0.00      0.00         0\n",
      "                                                                        Other financial service + Money order       0.00      0.00      0.00         0\n",
      "                                                        Other financial service + Traveler’s/Cashier’s checks       0.00      0.00      0.00         0\n",
      "                                                 Payday loan, title loan, or personal loan + Installment loan       0.00      0.00      0.00         3\n",
      "                                                      Payday loan, title loan, or personal loan + Payday loan       0.00      0.00      0.00         1\n",
      "                                          Payday loan, title loan, or personal loan + Personal line of credit       0.00      0.00      0.00         4\n",
      "                                                       Payday loan, title loan, or personal loan + Title loan       0.00      0.00      0.00         2\n",
      "                                                        Prepaid card + Electronic Benefit Transfer / EBT card       0.00      0.00      0.00         0\n",
      "                                                                          Prepaid card + General purpose card       0.00      0.00      0.00         0\n",
      "                                                                         Prepaid card + Gift or merchant card       0.00      0.00      0.00         0\n",
      "                                                               Prepaid card + Government benefit payment card       0.00      0.00      0.00         0\n",
      "                                                                    Prepaid card + Other special purpose card       0.00      0.00      0.00         0\n",
      "                                                                Student loan + Federal student loan servicing       0.00      0.00      0.00         2\n",
      "                                                                      Student loan + Non-federal student loan       0.55      0.52      0.54        21\n",
      "                                                                          Student loan + Private student loan       0.00      0.00      0.00         5\n",
      "                                                                                Vehicle loan or lease + Lease       0.69      0.46      0.55        24\n",
      "                                                                                 Vehicle loan or lease + Loan       0.31      0.46      0.37        57\n",
      "\n",
      "                                                                                                     accuracy                           0.53      3792\n",
      "                                                                                                    macro avg       0.16      0.11      0.12      3792\n",
      "                                                                                                 weighted avg       0.49      0.53      0.50      3792\n",
      "\n",
      "\n",
      "Matriz de Confusión:\n",
      "[[ 0  0  1 ...  0  0  0]\n",
      " [ 0  0  3 ...  0  0  0]\n",
      " [ 0  0 68 ...  0  0  1]\n",
      " ...\n",
      " [ 0  0  0 ...  0  0  0]\n",
      " [ 0  0  0 ...  0 11  6]\n",
      " [ 0  0  1 ...  0  1 26]]\n"
     ]
    }
   ],
   "source": [
    "train_model_improved(\n",
    "    rf,\n",
    "    'Random Forest with Word2Vec',\n",
    "    rf_params,\n",
    "    experiment_name_rf,\n",
    "    X_train_resampled,\n",
    "    y_train_resampled,\n",
    "    X_test_vectors,\n",
    "    y_test_encoded\n",
    ")"
   ]
  },
  {
   "cell_type": "code",
   "execution_count": 257,
   "metadata": {},
   "outputs": [
    {
     "name": "stderr",
     "output_type": "stream",
     "text": [
      "2024/11/20 22:45:26 WARNING mlflow.models.model: Model logged without a signature and input example. Please set `input_example` parameter when logging the model to auto infer the model signature.\n",
      "2024/11/20 22:45:29 INFO mlflow.tracking._tracking_service.client: 🏃 View run Best Logistic Regression with Word2Vec at: https://dagshub.com/zapatacc/final-exam-pcd2024-autumn.mlflow/#/experiments/13/runs/f67a5140090a4de39ec1f8e9f3512afc.\n",
      "2024/11/20 22:45:29 INFO mlflow.tracking._tracking_service.client: 🧪 View experiment at: https://dagshub.com/zapatacc/final-exam-pcd2024-autumn.mlflow/#/experiments/13.\n"
     ]
    },
    {
     "name": "stdout",
     "output_type": "stream",
     "text": [
      "Modelo: Best Logistic Regression with Word2Vec\n",
      "Accuracy: 0.27742616033755274\n",
      "F1 Score (Macro): 0.12379730081890569\n",
      "F1 Score (Weighted): 0.3416713159773369\n",
      "\n",
      "Reporte de Clasificación:\n",
      "                                                                                                               precision    recall  f1-score   support\n",
      "\n",
      "                                                        Bank account or service + (CD) Certificate of deposit       0.00      0.00      0.00         4\n",
      "                                                 Bank account or service + Cashing a check without an account       0.04      0.25      0.07         4\n",
      "                                                                   Bank account or service + Checking account       0.33      0.25      0.29       249\n",
      "                                                         Bank account or service + Other bank product/service       0.06      0.08      0.07        60\n",
      "                                                                    Bank account or service + Savings account       0.06      0.36      0.11        14\n",
      "                                                    Checking or savings account + CD (Certificate of Deposit)       0.00      0.00      0.00         5\n",
      "                                                               Checking or savings account + Checking account       0.68      0.18      0.28       758\n",
      "                                               Checking or savings account + Other banking product or service       0.07      0.15      0.10        48\n",
      "                                                        Checking or savings account + Personal line of credit       0.00      0.00      0.00         0\n",
      "                                                                Checking or savings account + Savings account       0.13      0.33      0.18        46\n",
      "                                                                             Consumer Loan + Installment loan       0.02      0.14      0.03         7\n",
      "                                                                                    Consumer Loan + Pawn loan       0.00      0.00      0.00         1\n",
      "                                                                                   Consumer Loan + Title loan       0.00      0.00      0.00         1\n",
      "                                                                                Consumer Loan + Vehicle lease       0.06      0.20      0.09         5\n",
      "                                                                                 Consumer Loan + Vehicle loan       0.22      0.29      0.25        35\n",
      "                                     Credit card or prepaid card + General-purpose credit card or charge card       0.87      0.44      0.59       984\n",
      "                                                   Credit card or prepaid card + General-purpose prepaid card       0.00      0.00      0.00         8\n",
      "                                                                      Credit card or prepaid card + Gift card       0.00      0.00      0.00         2\n",
      "                                                        Credit card or prepaid card + Government benefit card       0.00      0.00      0.00         2\n",
      "                                                                   Credit card or prepaid card + Payroll card       0.00      0.00      0.00         1\n",
      "                                                              Credit card or prepaid card + Store credit card       0.02      0.18      0.03        11\n",
      "        Credit reporting, credit repair services, or other personal consumer reports + Credit repair services       0.00      0.00      0.00         3\n",
      "              Credit reporting, credit repair services, or other personal consumer reports + Credit reporting       0.74      0.36      0.49       402\n",
      "Credit reporting, credit repair services, or other personal consumer reports + Other personal consumer report       0.01      0.08      0.02        12\n",
      "                                                                                       Debt collection + Auto       0.00      0.00      0.00         2\n",
      "                                                                                  Debt collection + Auto debt       0.03      0.17      0.05         6\n",
      "                                                                                Debt collection + Credit card       0.29      0.34      0.32        44\n",
      "                                                                           Debt collection + Credit card debt       0.18      0.22      0.20        86\n",
      "                                                                       Debt collection + Federal student loan       0.00      0.00      0.00         0\n",
      "                                                                              Debt collection + I do not know       0.07      0.24      0.11        17\n",
      "                                                                                   Debt collection + Mortgage       0.00      0.00      0.00        10\n",
      "                                                                              Debt collection + Mortgage debt       0.12      0.38      0.19        13\n",
      "                                                                   Debt collection + Non-federal student loan       0.50      1.00      0.67         1\n",
      "                                                      Debt collection + Other (i.e. phone, health club, etc.)       0.00      0.00      0.00         4\n",
      "                                                                                 Debt collection + Other debt       0.00      0.00      0.00         6\n",
      "                                                                                Debt collection + Payday loan       0.00      0.00      0.00         0\n",
      "                                                                           Debt collection + Payday loan debt       0.00      0.00      0.00         0\n",
      "                                                                  Debt collection + Private student loan debt       0.00      0.00      0.00         1\n",
      "                                   Money transfer, virtual currency, or money service + Check cashing service       0.00      0.00      0.00         4\n",
      "                                         Money transfer, virtual currency, or money service + Debt settlement       0.00      0.00      0.00         1\n",
      "                            Money transfer, virtual currency, or money service + Domestic (US) money transfer       0.20      0.22      0.21        69\n",
      "                               Money transfer, virtual currency, or money service + Foreign currency exchange       0.09      0.67      0.16         3\n",
      "                            Money transfer, virtual currency, or money service + International money transfer       0.14      0.23      0.18        22\n",
      "                                Money transfer, virtual currency, or money service + Mobile or digital wallet       0.15      0.26      0.19        39\n",
      "                                             Money transfer, virtual currency, or money service + Money order       0.06      0.50      0.10         4\n",
      "                               Money transfer, virtual currency, or money service + Refund anticipation check       0.00      0.00      0.00         2\n",
      "                     Money transfer, virtual currency, or money service + Traveler's check or cashier's check       0.14      0.43      0.21         7\n",
      "                                        Money transfer, virtual currency, or money service + Virtual currency       0.03      0.20      0.06        10\n",
      "                                                               Money transfers + Domestic (US) money transfer       0.03      0.14      0.04         7\n",
      "                                                               Money transfers + International money transfer       0.13      0.75      0.22         4\n",
      "                                                            Mortgage + Conventional adjustable mortgage (ARM)       0.16      0.21      0.18        56\n",
      "                                                                       Mortgage + Conventional fixed mortgage       0.31      0.10      0.15       157\n",
      "                                                                        Mortgage + Conventional home mortgage       0.40      0.12      0.19       191\n",
      "                                                                                      Mortgage + FHA mortgage       0.22      0.16      0.18        99\n",
      "                                                                Mortgage + Home equity loan or line of credit       0.10      0.22      0.14        32\n",
      "                                                        Mortgage + Home equity loan or line of credit (HELOC)       0.14      0.27      0.19        33\n",
      "                                                                                    Mortgage + Other mortgage       0.09      0.13      0.11        38\n",
      "                                                                            Mortgage + Other type of mortgage       0.03      0.09      0.05        22\n",
      "                                                                                  Mortgage + Reverse mortgage       0.00      0.00      0.00         1\n",
      "                                                                                       Mortgage + VA mortgage       0.05      0.16      0.07        19\n",
      "                                                                      Other financial service + Check cashing       0.00      0.00      0.00         1\n",
      "                                                          Other financial service + Foreign currency exchange       0.00      0.00      0.00         0\n",
      "                                                                        Other financial service + Money order       0.00      0.00      0.00         0\n",
      "                                                        Other financial service + Traveler’s/Cashier’s checks       0.00      0.00      0.00         0\n",
      "                                                 Payday loan, title loan, or personal loan + Installment loan       0.00      0.00      0.00         3\n",
      "                                                      Payday loan, title loan, or personal loan + Payday loan       0.00      0.00      0.00         1\n",
      "                                          Payday loan, title loan, or personal loan + Personal line of credit       0.00      0.00      0.00         4\n",
      "                                                       Payday loan, title loan, or personal loan + Title loan       0.00      0.00      0.00         2\n",
      "                                                        Prepaid card + Electronic Benefit Transfer / EBT card       0.00      0.00      0.00         0\n",
      "                                                                          Prepaid card + General purpose card       0.00      0.00      0.00         0\n",
      "                                                                         Prepaid card + Gift or merchant card       0.00      0.00      0.00         0\n",
      "                                                               Prepaid card + Government benefit payment card       0.00      0.00      0.00         0\n",
      "                                                                    Prepaid card + Other special purpose card       0.00      0.00      0.00         0\n",
      "                                                                Student loan + Federal student loan servicing       0.00      0.00      0.00         2\n",
      "                                                                      Student loan + Non-federal student loan       0.37      0.52      0.43        21\n",
      "                                                                          Student loan + Private student loan       0.21      0.60      0.32         5\n",
      "                                                                                Vehicle loan or lease + Lease       0.32      0.46      0.38        24\n",
      "                                                                                 Vehicle loan or lease + Loan       0.28      0.33      0.30        57\n",
      "\n",
      "                                                                                                     accuracy                           0.28      3792\n",
      "                                                                                                    macro avg       0.10      0.16      0.10      3792\n",
      "                                                                                                 weighted avg       0.54      0.28      0.34      3792\n",
      "\n",
      "\n",
      "Matriz de Confusión:\n",
      "[[ 0  0  0 ...  0  0  0]\n",
      " [ 0  1  0 ...  0  0  0]\n",
      " [ 2  5 63 ...  0  0  1]\n",
      " ...\n",
      " [ 0  0  0 ...  3  0  0]\n",
      " [ 0  0  0 ...  1 11  3]\n",
      " [ 0  0  0 ...  0  6 19]]\n"
     ]
    }
   ],
   "source": [
    "# Entrenar Regresión Logística Mejorada con Word2Vec con los mejores hiperparámetros\n",
    "train_model_improved(\n",
    "    best_logreg,\n",
    "    'Best Logistic Regression with Word2Vec',\n",
    "    best_params,\n",
    "    experiment_name_logreg,\n",
    "    X_train_resampled,\n",
    "    y_train_resampled,\n",
    "    X_test_vectors,\n",
    "    y_test_encoded\n",
    ")"
   ]
  },
  {
   "cell_type": "code",
   "execution_count": null,
   "metadata": {},
   "outputs": [],
   "source": [
    "# Entrenar Bosque Aleatorio Mejorado con Word2Vec con los mejores hiperparámetros\n",
    "train_model_improved(\n",
    "    best_rf,\n",
    "    'Best Random Forest with Word2Vec',\n",
    "    best_params_rf,\n",
    "    experiment_name_rf,\n",
    "    X_train_resampled,\n",
    "    y_train_resampled,\n",
    "    X_test_vectors,\n",
    "    y_test_encoded\n",
    ")"
   ]
  },
  {
   "cell_type": "markdown",
   "metadata": {},
   "source": [
    "#### Resto del codigo del intento 1"
   ]
  },
  {
   "cell_type": "markdown",
   "metadata": {},
   "source": [
    "##### Actualizamos la selección de modelos Champion y Challenger `Comparando la metrica f1-weighted`"
   ]
  },
  {
   "cell_type": "code",
   "execution_count": null,
   "metadata": {},
   "outputs": [
    {
     "name": "stdout",
     "output_type": "stream",
     "text": [
      "Champion Model: Best Logistic Regression Model Improved\n",
      "Challenger Model: Best Random Forest Model Improved\n"
     ]
    }
   ],
   "source": [
    "# Supongamos que tenemos las métricas f1_weighted de los modelos\n",
    "model_scores = {\n",
    "    'Best Logistic Regression Model Improved': f1_weighted_logreg,\n",
    "    'Best Random Forest Model Improved': f1_weighted_rf\n",
    "}\n",
    "\n",
    "# Seleccionar el modelo con mejor f1_weighted\n",
    "champion_name = max(model_scores, key=model_scores.get)\n",
    "challenger_name = min(model_scores, key=model_scores.get)\n",
    "\n",
    "print(f\"Champion Model: {champion_name}\")\n",
    "print(f\"Challenger Model: {challenger_name}\")"
   ]
  },
  {
   "cell_type": "markdown",
   "metadata": {},
   "source": [
    "#### Registrar los nuevos modelos en el Model Registry de MLflow"
   ]
  },
  {
   "cell_type": "code",
   "execution_count": null,
   "metadata": {},
   "outputs": [
    {
     "name": "stderr",
     "output_type": "stream",
     "text": [
      "Successfully registered model 'diego-mercado-modelo-2'.\n",
      "2024/11/20 22:42:53 INFO mlflow.store.model_registry.abstract_store: Waiting up to 300 seconds for model version to finish creation. Model name: diego-mercado-modelo-2, version 1\n",
      "Created version '1' of model 'diego-mercado-modelo-2'.\n",
      "Successfully registered model 'diego-mercado-modelo-challenger-2'.\n",
      "2024/11/20 22:42:53 INFO mlflow.store.model_registry.abstract_store: Waiting up to 300 seconds for model version to finish creation. Model name: diego-mercado-modelo-challenger-2, version 1\n",
      "Created version '1' of model 'diego-mercado-modelo-challenger-2'.\n",
      "2024/11/20 22:42:53 INFO mlflow.tracking._tracking_service.client: 🏃 View run upset-mouse-705 at: https://dagshub.com/zapatacc/final-exam-pcd2024-autumn.mlflow/#/experiments/14/runs/bcc3ba7ec07e42b2a030582fe2eefc3a.\n",
      "2024/11/20 22:42:53 INFO mlflow.tracking._tracking_service.client: 🧪 View experiment at: https://dagshub.com/zapatacc/final-exam-pcd2024-autumn.mlflow/#/experiments/14.\n"
     ]
    }
   ],
   "source": [
    "# Iniciar una nueva corrida de MLflow\n",
    "with mlflow.start_run() as run:\n",
    "    # Registrar el modelo Champion\n",
    "    result_champion = mlflow.register_model(\n",
    "        model_uri=f\"runs:/{run.info.run_id}/{champion_name}\",\n",
    "        name='diego-mercado-modelo-2'\n",
    "    )\n",
    "\n",
    "    # Registrar el modelo Challenger\n",
    "    result_challenger = mlflow.register_model(\n",
    "        model_uri=f\"runs:/{run.info.run_id}/{challenger_name}\",\n",
    "        name='diego-mercado-modelo-challenger-2'\n",
    "    )"
   ]
  },
  {
   "cell_type": "markdown",
   "metadata": {},
   "source": [
    "Hemos implementado técnicas para abordar el desbalance de clases y mejorar el desempeño de nuestros modelos:\n",
    "\n",
    "- Aplicamos SMOTE para balancear las clases en el conjunto de entrenamiento.\n",
    "- Utilizamos validación cruzada estratificada para asegurar una representación proporcional de clases en cada fold.\n",
    "- Evaluamos los modelos con métricas adecuadas como F1-score (macro y weighted).\n",
    "- Generamos reportes de clasificación y matrices de confusión para entender mejor el desempeño por clase.\n",
    "- Exploramos técnicas de vectorización más avanzadas utilizando Word2Vec.\n",
    "- Con estas mejoras, esperamos que los modelos tengan un mejor desempeño en la predicción de las clases minoritarias y, en general, una mayor capacidad para generalizar."
   ]
  },
  {
   "cell_type": "markdown",
   "metadata": {},
   "source": [
    "**Explicación de los Cambios Realizados:**\n",
    "\n",
    "- **Codificación de Etiquetas:**  \n",
    "  Se codificaron tanto `y_train` como `y_test` utilizando `LabelEncoder` para asegurar que las etiquetas estén en el mismo formato numérico durante el entrenamiento y la evaluación.\n",
    "\n",
    "- **Ajuste en la Función `train_model_improved`:**  \n",
    "  Se modificó la función para aceptar `X_train`, `y_train`, `X_test` y `y_test` como parámetros, permitiendo flexibilidad al usar diferentes representaciones de datos (TF-IDF, Word2Vec).\n",
    "\n",
    "- **Manejo de `zero_division`:**  \n",
    "  Se agregó el parámetro `zero_division=0` en las métricas para manejar divisiones por cero en clases que no tienen muestras en las predicciones.\n",
    "\n",
    "- **Actualización de `classification_report`:**  \n",
    "  Se incluyó el parámetro `target_names` para mapear las etiquetas numéricas a sus nombres originales.\n",
    "\n",
    "- **Vectorización con Word2Vec:**  \n",
    "  Se corrigió la forma en que se vectorizan los conjuntos de entrenamiento y prueba para asegurar que se utilicen los mismos índices y que los tokens correspondan a los textos correctos.\n",
    "\n",
    "- **Ajuste en el Resampling:**  \n",
    "  Se eliminó la necesidad de decodificar las etiquetas después del resampling, ya que estamos trabajando con etiquetas codificadas en todo el flujo.\n",
    "\n",
    "- **Consistencia de Datos:**  \n",
    "  Se aseguró que las variables y los flujos de datos sean consistentes en todas las etapas, evitando errores como el `ValueError` por mezcla de tipos de etiquetas."
   ]
  },
  {
   "cell_type": "markdown",
   "metadata": {},
   "source": [
    "Con estas correcciones, el código está ajustado para manejar adecuadamente el desbalance de clases, emplear validación cruzada estratificada y utilizar diferentes técnicas de vectorización como TF-IDF y Word2Vec. Los modelos se entrenan y evalúan correctamente, y los resultados se registran en MLflow para su seguimiento y despliegue.\n",
    "\n",
    "Siguientes Pasos:\n",
    "\n",
    "Ahora podemos continuar con la creación del script utilizando Prefect para orquestar el flujo de entrenamiento y registro de los modelos."
   ]
  },
  {
   "cell_type": "markdown",
   "metadata": {},
   "source": [
    "-----\n",
    "\n",
    "### Próximos Pasos: Despliegue y Orquestación\n",
    "\n",
    "1. **Despliegue de la API y Frontend:**\n",
    "   - Implementar el modelo **Champion** mediante una API utilizando `fastapi` u otro framework similar.\n",
    "   - Desarrollar una interfaz gráfica sencilla con `streamlit` u otra herramienta para interactuar con la API y realizar predicciones.\n",
    "\n",
    "2. **Orquestación y Contenerización:**\n",
    "   - Crear un **script con Prefect** para automatizar y orquestar el flujo completo de entrenamiento, evaluación y registro de modelos.\n",
    "   - Utilizar `docker-compose` para contenerizar la API y el frontend, asegurando un despliegue eficiente y reproducible.\n",
    "\n",
    "#### Pasos Concretos a Seguir:\n",
    "\n",
    "- **Orquestación:**\n",
    "  - Diseñar un flujo con **Prefect** para organizar y ejecutar las etapas clave del pipeline.\n",
    "  \n",
    "- **Desarrollo de la API:**\n",
    "  - Crear una API con **FastAPI** que sirva el modelo **Champion** y permita realizar predicciones en tiempo real.\n",
    "\n",
    "- **Construcción del Frontend:**\n",
    "  - Implementar un frontend interactivo con **Streamlit** para permitir que los usuarios consulten la API y visualicen resultados.\n",
    "\n",
    "- **Contenerización:**\n",
    "  - Escribir un archivo `docker-compose.yaml` que gestione los contenedores de la API y el frontend, facilitando su despliegue conjunto.\n",
    "\n",
    "- **Conclusiones y documentación:**\n",
    "  - Resumir los resultados y lecciones aprendidas durante el proyecto.\n",
    "  - Crear una documentación detallada sobre el uso de la aplicación y los flujos de datos.\n",
    "\n",
    "- **Pruebas y Validación:**\n",
    "  - Realizar pruebas exhaustivas para garantizar que la API y el frontend funcionen correctamente y se integren sin problemas.\n",
    "\n",
    "- **Despliegue y Monitoreo:**\n",
    "  - Desplegar la aplicación en un entorno de producción y configurar un sistema de monitoreo para supervisar su rendimiento.\n",
    "\n",
    "- **Documentación y Mantenimiento:**\n",
    "  - Crear documentación detallada sobre el uso de la aplicación, los modelos subyacentes y los flujos de datos.\n",
    "  - Establecer un plan de mantenimiento para garantizar que la aplicación siga funcionando de manera óptima.\n",
    "\n",
    "Con estos pasos, completaremos el ciclo de desarrollo de extremo a extremo, desde la preparación de los datos y el entrenamiento de modelos hasta el despliegue de una aplicación interactiva y su orquestación eficiente."
   ]
  }
 ],
 "metadata": {
  "kernelspec": {
   "display_name": "Python 3",
   "language": "python",
   "name": "python3"
  },
  "language_info": {
   "codemirror_mode": {
    "name": "ipython",
    "version": 3
   },
   "file_extension": ".py",
   "mimetype": "text/x-python",
   "name": "python",
   "nbconvert_exporter": "python",
   "pygments_lexer": "ipython3",
   "version": "3.11.8"
  }
 },
 "nbformat": 4,
 "nbformat_minor": 2
}
