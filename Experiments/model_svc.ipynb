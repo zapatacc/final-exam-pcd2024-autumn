{
 "cells": [
  {
   "cell_type": "code",
   "execution_count": 21,
   "id": "initial_id",
   "metadata": {
    "collapsed": true,
    "ExecuteTime": {
     "end_time": "2024-11-22T16:56:22.585973700Z",
     "start_time": "2024-11-22T16:56:22.581123Z"
    }
   },
   "outputs": [],
   "source": [
    "import mlflow.sklearn\n",
    "from sklearn.feature_extraction.text import TfidfVectorizer\n",
    "from sklearn.svm import SVC\n",
    "from sklearn.metrics import accuracy_score\n",
    "from sklearn.model_selection import train_test_split, GridSearchCV\n",
    "import pandas as pd\n",
    "import dagshub\n",
    "from sklearn.metrics import accuracy_score, classification_report, confusion_matrix\n",
    "from mlflow.tracking import MlflowClient"
   ]
  },
  {
   "cell_type": "code",
   "outputs": [
    {
     "data": {
      "text/plain": "                                 complaint_what_happened  \\\n0      good morning name appreciate could help put st...   \n1      upgraded card //2018 told agent upgrade annive...   \n2      chase card reported //2019 . however , fraudul...   \n3      //2018 , trying book ticket , came across offe...   \n4      grand son give check { $ 1600.00 } deposit cha...   \n...                                                  ...   \n18958  husband passed away . chase bank put check hol...   \n18959  chase card customer well decade , offered mult...   \n18960  wednesday , // called chas , visa credit card ...   \n18961  familiar pay understand great risk provides co...   \n18962  flawless credit 30 yrs . 've chase credit card...   \n\n                                   ticket_classification  \n0                     Debt collection + Credit card debt  \n1      Credit card or prepaid card + General-purpose ...  \n2      Credit reporting, credit repair services, or o...  \n3      Credit reporting, credit repair services, or o...  \n4         Checking or savings account + Checking account  \n...                                                  ...  \n18958     Checking or savings account + Checking account  \n18959  Credit card or prepaid card + General-purpose ...  \n18960  Credit card or prepaid card + General-purpose ...  \n18961     Checking or savings account + Checking account  \n18962  Credit card or prepaid card + General-purpose ...  \n\n[18963 rows x 2 columns]",
      "text/html": "<div>\n<style scoped>\n    .dataframe tbody tr th:only-of-type {\n        vertical-align: middle;\n    }\n\n    .dataframe tbody tr th {\n        vertical-align: top;\n    }\n\n    .dataframe thead th {\n        text-align: right;\n    }\n</style>\n<table border=\"1\" class=\"dataframe\">\n  <thead>\n    <tr style=\"text-align: right;\">\n      <th></th>\n      <th>complaint_what_happened</th>\n      <th>ticket_classification</th>\n    </tr>\n  </thead>\n  <tbody>\n    <tr>\n      <th>0</th>\n      <td>good morning name appreciate could help put st...</td>\n      <td>Debt collection + Credit card debt</td>\n    </tr>\n    <tr>\n      <th>1</th>\n      <td>upgraded card //2018 told agent upgrade annive...</td>\n      <td>Credit card or prepaid card + General-purpose ...</td>\n    </tr>\n    <tr>\n      <th>2</th>\n      <td>chase card reported //2019 . however , fraudul...</td>\n      <td>Credit reporting, credit repair services, or o...</td>\n    </tr>\n    <tr>\n      <th>3</th>\n      <td>//2018 , trying book ticket , came across offe...</td>\n      <td>Credit reporting, credit repair services, or o...</td>\n    </tr>\n    <tr>\n      <th>4</th>\n      <td>grand son give check { $ 1600.00 } deposit cha...</td>\n      <td>Checking or savings account + Checking account</td>\n    </tr>\n    <tr>\n      <th>...</th>\n      <td>...</td>\n      <td>...</td>\n    </tr>\n    <tr>\n      <th>18958</th>\n      <td>husband passed away . chase bank put check hol...</td>\n      <td>Checking or savings account + Checking account</td>\n    </tr>\n    <tr>\n      <th>18959</th>\n      <td>chase card customer well decade , offered mult...</td>\n      <td>Credit card or prepaid card + General-purpose ...</td>\n    </tr>\n    <tr>\n      <th>18960</th>\n      <td>wednesday , // called chas , visa credit card ...</td>\n      <td>Credit card or prepaid card + General-purpose ...</td>\n    </tr>\n    <tr>\n      <th>18961</th>\n      <td>familiar pay understand great risk provides co...</td>\n      <td>Checking or savings account + Checking account</td>\n    </tr>\n    <tr>\n      <th>18962</th>\n      <td>flawless credit 30 yrs . 've chase credit card...</td>\n      <td>Credit card or prepaid card + General-purpose ...</td>\n    </tr>\n  </tbody>\n</table>\n<p>18963 rows × 2 columns</p>\n</div>"
     },
     "execution_count": 2,
     "metadata": {},
     "output_type": "execute_result"
    }
   ],
   "source": [
    "file_path = \"../data/processed/tickets_cleaned.csv\"\n",
    "df = pd.read_csv(file_path)\n",
    "df"
   ],
   "metadata": {
    "collapsed": false,
    "ExecuteTime": {
     "end_time": "2024-11-22T16:07:27.117252Z",
     "start_time": "2024-11-22T16:07:26.501513700Z"
    }
   },
   "id": "49bee39941e8344c",
   "execution_count": 2
  },
  {
   "cell_type": "code",
   "outputs": [],
   "source": [
    "X = df[\"complaint_what_happened\"] \n",
    "y = df[\"ticket_classification\"]"
   ],
   "metadata": {
    "collapsed": false,
    "ExecuteTime": {
     "end_time": "2024-11-22T16:07:30.204362600Z",
     "start_time": "2024-11-22T16:07:30.200380400Z"
    }
   },
   "id": "f7a037e1108164a0",
   "execution_count": 3
  },
  {
   "cell_type": "code",
   "outputs": [
    {
     "data": {
      "text/plain": "Accessing as PacoTinoco\n",
      "text/html": "<pre style=\"white-space:pre;overflow-x:auto;line-height:normal;font-family:Menlo,'DejaVu Sans Mono',consolas,'Courier New',monospace\">Accessing as PacoTinoco\n</pre>\n"
     },
     "metadata": {},
     "output_type": "display_data"
    },
    {
     "data": {
      "text/plain": "Initialized MLflow to track repo \u001B[32m\"zapatacc/final-exam-pcd2024-autumn\"\u001B[0m\n",
      "text/html": "<pre style=\"white-space:pre;overflow-x:auto;line-height:normal;font-family:Menlo,'DejaVu Sans Mono',consolas,'Courier New',monospace\">Initialized MLflow to track repo <span style=\"color: #008000; text-decoration-color: #008000\">\"zapatacc/final-exam-pcd2024-autumn\"</span>\n</pre>\n"
     },
     "metadata": {},
     "output_type": "display_data"
    },
    {
     "data": {
      "text/plain": "Repository zapatacc/final-exam-pcd2024-autumn initialized!\n",
      "text/html": "<pre style=\"white-space:pre;overflow-x:auto;line-height:normal;font-family:Menlo,'DejaVu Sans Mono',consolas,'Courier New',monospace\">Repository zapatacc/final-exam-pcd2024-autumn initialized!\n</pre>\n"
     },
     "metadata": {},
     "output_type": "display_data"
    },
    {
     "name": "stdout",
     "output_type": "stream",
     "text": [
      "https://dagshub.com/zapatacc/final-exam-pcd2024-autumn.mlflow\n"
     ]
    }
   ],
   "source": [
    "dagshub.init(url=\"https://dagshub.com/zapatacc/final-exam-pcd2024-autumn\", mlflow=True)\n",
    "\n",
    "MLFLOW_TRACKING_URI = mlflow.get_tracking_uri()\n",
    "print(MLFLOW_TRACKING_URI)"
   ],
   "metadata": {
    "collapsed": false,
    "ExecuteTime": {
     "end_time": "2024-11-22T16:07:35.765043700Z",
     "start_time": "2024-11-22T16:07:34.041213Z"
    }
   },
   "id": "453bf00a0d3666e7",
   "execution_count": 4
  },
  {
   "cell_type": "code",
   "outputs": [],
   "source": [
    "X = df['complaint_what_happened']\n",
    "y = df['ticket_classification']\n",
    "\n",
    "# Dividir en conjuntos de entrenamiento y prueba\n",
    "X_train, X_test, y_train, y_test = train_test_split(X, y, test_size=0.2, random_state=42)"
   ],
   "metadata": {
    "collapsed": false,
    "ExecuteTime": {
     "end_time": "2024-11-22T16:10:02.991099900Z",
     "start_time": "2024-11-22T16:10:02.959510500Z"
    }
   },
   "id": "fd6d6112cbfbf18",
   "execution_count": 7
  },
  {
   "cell_type": "markdown",
   "source": [
    "## Hacer TF-IDF"
   ],
   "metadata": {
    "collapsed": false
   },
   "id": "844d77c07a8ef1fb"
  },
  {
   "cell_type": "code",
   "outputs": [],
   "source": [
    "tfidf_vectorizer = TfidfVectorizer(max_features=5000)\n",
    "\n",
    "X_train_tfidf = tfidf_vectorizer.fit_transform(X_train)\n",
    "\n",
    "X_test_tfidf = tfidf_vectorizer.transform(X_test)"
   ],
   "metadata": {
    "collapsed": false,
    "ExecuteTime": {
     "end_time": "2024-11-22T16:10:08.893639900Z",
     "start_time": "2024-11-22T16:10:07.439050600Z"
    }
   },
   "id": "4ee2134d6c7fa842",
   "execution_count": 8
  },
  {
   "cell_type": "markdown",
   "source": [
    "## Establecer el nombre e iniciar mlflow"
   ],
   "metadata": {
    "collapsed": false
   },
   "id": "3b1496aee13805d3"
  },
  {
   "cell_type": "code",
   "outputs": [],
   "source": [
    "mlflow.set_tracking_uri('https://dagshub.com/zapatacc/final-exam-pcd2024-autumn.mlflow')"
   ],
   "metadata": {
    "collapsed": false,
    "ExecuteTime": {
     "end_time": "2024-11-22T16:42:59.447555900Z",
     "start_time": "2024-11-22T16:42:59.406487100Z"
    }
   },
   "id": "528bcd7285735cda",
   "execution_count": 14
  },
  {
   "cell_type": "code",
   "outputs": [
    {
     "name": "stderr",
     "output_type": "stream",
     "text": [
      "2024/11/22 10:11:37 INFO mlflow.tracking.fluent: Experiment with name 'Tinoco-svc' does not exist. Creating a new experiment.\n"
     ]
    },
    {
     "data": {
      "text/plain": "<Experiment: artifact_location='mlflow-artifacts:/fbb81ddfdfe148dba7f3c002b583460d', creation_time=1732291899063, experiment_id='41', last_update_time=1732291899063, lifecycle_stage='active', name='Tinoco-svc', tags={}>"
     },
     "execution_count": 9,
     "metadata": {},
     "output_type": "execute_result"
    }
   ],
   "source": [
    "# Establecer el experimento\n",
    "mlflow.set_experiment('Tinoco-svc')"
   ],
   "metadata": {
    "collapsed": false,
    "ExecuteTime": {
     "end_time": "2024-11-22T16:11:37.832266400Z",
     "start_time": "2024-11-22T16:11:36.946571900Z"
    }
   },
   "id": "883fd977e89d01a7",
   "execution_count": 9
  },
  {
   "cell_type": "code",
   "outputs": [
    {
     "name": "stderr",
     "output_type": "stream",
     "text": [
      "C:\\Users\\Francisco\\PycharmProjects\\final-exam-pcd2024-autumn\\.venv\\Lib\\site-packages\\sklearn\\metrics\\_classification.py:1531: UndefinedMetricWarning: Precision is ill-defined and being set to 0.0 in labels with no predicted samples. Use `zero_division` parameter to control this behavior.\n",
      "  _warn_prf(average, modifier, f\"{metric.capitalize()} is\", len(result))\n",
      "C:\\Users\\Francisco\\PycharmProjects\\final-exam-pcd2024-autumn\\.venv\\Lib\\site-packages\\sklearn\\metrics\\_classification.py:1531: UndefinedMetricWarning: Precision is ill-defined and being set to 0.0 in labels with no predicted samples. Use `zero_division` parameter to control this behavior.\n",
      "  _warn_prf(average, modifier, f\"{metric.capitalize()} is\", len(result))\n",
      "C:\\Users\\Francisco\\PycharmProjects\\final-exam-pcd2024-autumn\\.venv\\Lib\\site-packages\\sklearn\\metrics\\_classification.py:1531: UndefinedMetricWarning: Precision is ill-defined and being set to 0.0 in labels with no predicted samples. Use `zero_division` parameter to control this behavior.\n",
      "  _warn_prf(average, modifier, f\"{metric.capitalize()} is\", len(result))\n",
      "2024/11/22 10:32:03 WARNING mlflow.models.model: Model logged without a signature and input example. Please set `input_example` parameter when logging the model to auto infer the model signature.\n"
     ]
    },
    {
     "name": "stdout",
     "output_type": "stream",
     "text": [
      "Accuracy: 0.5921434220933298\n",
      "                                                                                                               precision    recall  f1-score   support\n",
      "\n",
      "                                                        Bank account or service + (CD) Certificate of deposit       0.00      0.00      0.00         3\n",
      "                                                 Bank account or service + Cashing a check without an account       0.00      0.00      0.00         7\n",
      "                                                                   Bank account or service + Checking account       0.72      0.17      0.27       217\n",
      "                                                         Bank account or service + Other bank product/service       0.00      0.00      0.00        55\n",
      "                                                                    Bank account or service + Savings account       0.00      0.00      0.00        17\n",
      "                                                    Checking or savings account + CD (Certificate of Deposit)       1.00      0.80      0.89         5\n",
      "                                                               Checking or savings account + Checking account       0.59      0.89      0.71       788\n",
      "                                               Checking or savings account + Other banking product or service       0.00      0.00      0.00        36\n",
      "                                                                Checking or savings account + Savings account       0.25      0.03      0.05        35\n",
      "                                                                             Consumer Loan + Installment loan       0.00      0.00      0.00         8\n",
      "                                                                                    Consumer Loan + Pawn loan       0.00      0.00      0.00         1\n",
      "                                                                                   Consumer Loan + Title loan       0.00      0.00      0.00         1\n",
      "                                                                                Consumer Loan + Vehicle lease       0.00      0.00      0.00         7\n",
      "                                                                                 Consumer Loan + Vehicle loan       0.75      0.09      0.17        32\n",
      "                                     Credit card or prepaid card + General-purpose credit card or charge card       0.70      0.90      0.79       969\n",
      "                                                   Credit card or prepaid card + General-purpose prepaid card       0.00      0.00      0.00        12\n",
      "                                                                      Credit card or prepaid card + Gift card       0.00      0.00      0.00         2\n",
      "                                                        Credit card or prepaid card + Government benefit card       0.00      0.00      0.00         3\n",
      "                                                                   Credit card or prepaid card + Payroll card       0.00      0.00      0.00         1\n",
      "                                                              Credit card or prepaid card + Store credit card       0.00      0.00      0.00        14\n",
      "        Credit reporting, credit repair services, or other personal consumer reports + Credit repair services       0.00      0.00      0.00         1\n",
      "              Credit reporting, credit repair services, or other personal consumer reports + Credit reporting       0.62      0.76      0.68       389\n",
      "Credit reporting, credit repair services, or other personal consumer reports + Other personal consumer report       1.00      0.09      0.17        11\n",
      "                                                                                       Debt collection + Auto       0.00      0.00      0.00         1\n",
      "                                                                                Debt collection + Credit card       0.67      0.17      0.28        46\n",
      "                                                                           Debt collection + Credit card debt       0.53      0.30      0.39        92\n",
      "                                                                              Debt collection + I do not know       1.00      0.06      0.11        17\n",
      "                                                                                   Debt collection + Mortgage       0.00      0.00      0.00         9\n",
      "                                                                              Debt collection + Mortgage debt       1.00      0.11      0.20        18\n",
      "                                                                   Debt collection + Non-federal student loan       0.00      0.00      0.00         1\n",
      "                                                      Debt collection + Other (i.e. phone, health club, etc.)       0.00      0.00      0.00         4\n",
      "                                                                                 Debt collection + Other debt       0.00      0.00      0.00         6\n",
      "                                                                                Debt collection + Payday loan       0.00      0.00      0.00         1\n",
      "                                   Money transfer, virtual currency, or money service + Check cashing service       0.00      0.00      0.00         2\n",
      "                            Money transfer, virtual currency, or money service + Domestic (US) money transfer       0.27      0.15      0.19        61\n",
      "                               Money transfer, virtual currency, or money service + Foreign currency exchange       0.00      0.00      0.00         4\n",
      "                            Money transfer, virtual currency, or money service + International money transfer       1.00      0.10      0.19        29\n",
      "                                Money transfer, virtual currency, or money service + Mobile or digital wallet       1.00      0.05      0.10        39\n",
      "                                             Money transfer, virtual currency, or money service + Money order       0.00      0.00      0.00         4\n",
      "                     Money transfer, virtual currency, or money service + Traveler's check or cashier's check       0.00      0.00      0.00         8\n",
      "                                        Money transfer, virtual currency, or money service + Virtual currency       0.00      0.00      0.00         8\n",
      "                                                               Money transfers + Domestic (US) money transfer       0.00      0.00      0.00         4\n",
      "                                                               Money transfers + International money transfer       0.00      0.00      0.00         5\n",
      "                                                            Mortgage + Conventional adjustable mortgage (ARM)       1.00      0.03      0.06        60\n",
      "                                                                       Mortgage + Conventional fixed mortgage       0.32      0.31      0.31       171\n",
      "                                                                        Mortgage + Conventional home mortgage       0.40      0.65      0.49       235\n",
      "                                                                                      Mortgage + FHA mortgage       0.42      0.28      0.33        87\n",
      "                                                                Mortgage + Home equity loan or line of credit       1.00      0.04      0.07        27\n",
      "                                                        Mortgage + Home equity loan or line of credit (HELOC)       0.29      0.07      0.11        30\n",
      "                                                                                    Mortgage + Other mortgage       0.00      0.00      0.00        38\n",
      "                                                                            Mortgage + Other type of mortgage       1.00      0.05      0.10        20\n",
      "                                                                                  Mortgage + Reverse mortgage       0.00      0.00      0.00         2\n",
      "                                                                                       Mortgage + VA mortgage       0.00      0.00      0.00        13\n",
      "                                                                        Other financial service + Money order       0.00      0.00      0.00         1\n",
      "                                                        Other financial service + Traveler’s/Cashier’s checks       0.00      0.00      0.00         1\n",
      "                                                 Payday loan, title loan, or personal loan + Installment loan       0.00      0.00      0.00         6\n",
      "                                          Payday loan, title loan, or personal loan + Personal line of credit       0.00      0.00      0.00         6\n",
      "                                                       Payday loan, title loan, or personal loan + Title loan       0.00      0.00      0.00         2\n",
      "                                                               Prepaid card + Government benefit payment card       0.00      0.00      0.00         1\n",
      "                                                                Student loan + Federal student loan servicing       0.00      0.00      0.00         2\n",
      "                                                                      Student loan + Non-federal student loan       0.80      0.41      0.55        29\n",
      "                                                                          Student loan + Private student loan       0.00      0.00      0.00         9\n",
      "                                                                                Vehicle loan or lease + Lease       0.46      0.27      0.34        22\n",
      "                                                                                 Vehicle loan or lease + Loan       0.47      0.41      0.44        58\n",
      "\n",
      "                                                                                                     accuracy                           0.59      3793\n",
      "                                                                                                    macro avg       0.27      0.11      0.12      3793\n",
      "                                                                                                 weighted avg       0.57      0.59      0.52      3793\n"
     ]
    },
    {
     "name": "stderr",
     "output_type": "stream",
     "text": [
      "C:\\Users\\Francisco\\PycharmProjects\\final-exam-pcd2024-autumn\\.venv\\Lib\\site-packages\\sklearn\\metrics\\_classification.py:1531: UndefinedMetricWarning: Precision is ill-defined and being set to 0.0 in labels with no predicted samples. Use `zero_division` parameter to control this behavior.\n",
      "  _warn_prf(average, modifier, f\"{metric.capitalize()} is\", len(result))\n",
      "C:\\Users\\Francisco\\PycharmProjects\\final-exam-pcd2024-autumn\\.venv\\Lib\\site-packages\\sklearn\\metrics\\_classification.py:1531: UndefinedMetricWarning: Precision is ill-defined and being set to 0.0 in labels with no predicted samples. Use `zero_division` parameter to control this behavior.\n",
      "  _warn_prf(average, modifier, f\"{metric.capitalize()} is\", len(result))\n",
      "C:\\Users\\Francisco\\PycharmProjects\\final-exam-pcd2024-autumn\\.venv\\Lib\\site-packages\\sklearn\\metrics\\_classification.py:1531: UndefinedMetricWarning: Precision is ill-defined and being set to 0.0 in labels with no predicted samples. Use `zero_division` parameter to control this behavior.\n",
      "  _warn_prf(average, modifier, f\"{metric.capitalize()} is\", len(result))\n"
     ]
    },
    {
     "name": "stdout",
     "output_type": "stream",
     "text": [
      "🏃 View run svc_model at: https://dagshub.com/zapatacc/final-exam-pcd2024-autumn.mlflow/#/experiments/41/runs/e35f29ce6100484c8814f7d2b83e6475\n",
      "🧪 View experiment at: https://dagshub.com/zapatacc/final-exam-pcd2024-autumn.mlflow/#/experiments/41\n"
     ]
    }
   ],
   "source": [
    "# Iniciar un run de mlflow\n",
    "with mlflow.start_run(run_name='svc_model'):\n",
    "    # Crear el modelo\n",
    "    svc_model = SVC()\n",
    "    \n",
    "    # Entrenar el modelo\n",
    "    svc_model.fit(X_train_tfidf, y_train)\n",
    "    \n",
    "    # Hacer predicciones\n",
    "    y_pred = svc_model.predict(X_test_tfidf)\n",
    "    \n",
    "    # Calcular métricas\n",
    "    accuracy = accuracy_score(y_test, y_pred)\n",
    "    report = classification_report(y_test, y_pred, output_dict=True)\n",
    "    \n",
    "    # Registrar métrica\n",
    "    mlflow.log_metric('accuracy', accuracy)\n",
    "    \n",
    "    # Registrar el modelo\n",
    "    mlflow.sklearn.log_model(svc_model, 'svc_model')\n",
    "    \n",
    "    # Imprimir resultados\n",
    "    print(f\"Accuracy: {accuracy}\")\n",
    "    print(classification_report(y_test, y_pred))"
   ],
   "metadata": {
    "collapsed": false,
    "ExecuteTime": {
     "end_time": "2024-11-22T16:41:00.964827600Z",
     "start_time": "2024-11-22T16:23:01.817652Z"
    }
   },
   "id": "4cd60014bdbf61d4",
   "execution_count": 13
  },
  {
   "cell_type": "markdown",
   "source": [
    "## Poner a prueba el gridsearch"
   ],
   "metadata": {
    "collapsed": false
   },
   "id": "2b7523a7675f56ea"
  },
  {
   "cell_type": "code",
   "outputs": [],
   "source": [
    "# Definir los hiperparámetros\n",
    "param_grid_svc = {\n",
    "    'C': [0.1, 1],  \n",
    "    'kernel': ['linear'], \n",
    "}"
   ],
   "metadata": {
    "collapsed": false,
    "ExecuteTime": {
     "end_time": "2024-11-22T16:43:05.727131800Z",
     "start_time": "2024-11-22T16:43:05.722106900Z"
    }
   },
   "id": "d47ecab128debd42",
   "execution_count": 15
  },
  {
   "cell_type": "markdown",
   "source": [
    "En este caso: \n",
    " \n",
    "- C: Controla la penalización por error en el margen. Valores más pequeños hacen que el modelo sea más permisivo (subajuste), mientras que valores más grandes generan un modelo más estricto (sobreajuste).\n",
    "\n",
    "\n",
    "- kernel: Define el tipo de función del núcleo.\n",
    "\n",
    "- linear: Clasificador lineal.\n",
    "\n",
    "- 'rbf': Clasificador no lineal basado en funciones de base radial.\n"
   ],
   "metadata": {
    "collapsed": false
   },
   "id": "235f5f156eba3821"
  },
  {
   "cell_type": "code",
   "outputs": [],
   "source": [
    "grid_search_svc = GridSearchCV(\n",
    "    SVC(),\n",
    "    param_grid_svc,\n",
    "    cv=3,\n",
    "    scoring='accuracy',\n",
    "    n_jobs=-1\n",
    ")"
   ],
   "metadata": {
    "collapsed": false,
    "ExecuteTime": {
     "end_time": "2024-11-22T16:43:08.115566700Z",
     "start_time": "2024-11-22T16:43:08.109851900Z"
    }
   },
   "id": "2b225f36e121b5cd",
   "execution_count": 16
  },
  {
   "cell_type": "markdown",
   "source": [
    "- param_grid_svc: El diccionario con las combinaciones de hiperparámetros a probar.\n",
    "\n",
    "- cv=3: Realiza validación cruzada con 3 particiones (folds). Esto significa que el conjunto de datos se divide en 3 partes, y el modelo se entrena en 2 partes y se evalúa en la parte restante.\n",
    "\n",
    "- scoring='accuracy': La métrica utilizada para evaluar el modelo.\n",
    "\n",
    "- n_jobs=-1: Permite utilizar todos los núcleos disponibles de la CPU para paralelizar las evaluaciones."
   ],
   "metadata": {
    "collapsed": false
   },
   "id": "edd4440ac8cbc44c"
  },
  {
   "cell_type": "code",
   "outputs": [
    {
     "name": "stderr",
     "output_type": "stream",
     "text": [
      "C:\\Users\\Francisco\\PycharmProjects\\final-exam-pcd2024-autumn\\.venv\\Lib\\site-packages\\sklearn\\model_selection\\_split.py:776: UserWarning: The least populated class in y has only 1 members, which is less than n_splits=3.\n",
      "  warnings.warn(\n",
      "C:\\Users\\Francisco\\PycharmProjects\\final-exam-pcd2024-autumn\\.venv\\Lib\\site-packages\\sklearn\\metrics\\_classification.py:1531: UndefinedMetricWarning: Precision is ill-defined and being set to 0.0 in labels with no predicted samples. Use `zero_division` parameter to control this behavior.\n",
      "  _warn_prf(average, modifier, f\"{metric.capitalize()} is\", len(result))\n",
      "C:\\Users\\Francisco\\PycharmProjects\\final-exam-pcd2024-autumn\\.venv\\Lib\\site-packages\\sklearn\\metrics\\_classification.py:1531: UndefinedMetricWarning: Precision is ill-defined and being set to 0.0 in labels with no predicted samples. Use `zero_division` parameter to control this behavior.\n",
      "  _warn_prf(average, modifier, f\"{metric.capitalize()} is\", len(result))\n",
      "C:\\Users\\Francisco\\PycharmProjects\\final-exam-pcd2024-autumn\\.venv\\Lib\\site-packages\\sklearn\\metrics\\_classification.py:1531: UndefinedMetricWarning: Precision is ill-defined and being set to 0.0 in labels with no predicted samples. Use `zero_division` parameter to control this behavior.\n",
      "  _warn_prf(average, modifier, f\"{metric.capitalize()} is\", len(result))\n",
      "2024/11/22 10:51:52 WARNING mlflow.models.model: Model logged without a signature and input example. Please set `input_example` parameter when logging the model to auto infer the model signature.\n"
     ]
    },
    {
     "name": "stdout",
     "output_type": "stream",
     "text": [
      "Best Params: {'C': 1, 'kernel': 'linear'}\n",
      "Accuracy: 0.5989981544951226\n",
      "                                                                                                               precision    recall  f1-score   support\n",
      "\n",
      "                                                        Bank account or service + (CD) Certificate of deposit       0.00      0.00      0.00         3\n",
      "                                                 Bank account or service + Cashing a check without an account       0.00      0.00      0.00         7\n",
      "                                                                   Bank account or service + Checking account       0.57      0.26      0.35       217\n",
      "                                                         Bank account or service + Other bank product/service       0.50      0.04      0.07        55\n",
      "                                                                    Bank account or service + Savings account       0.00      0.00      0.00        17\n",
      "                                                    Checking or savings account + CD (Certificate of Deposit)       0.80      0.80      0.80         5\n",
      "                                                               Checking or savings account + Checking account       0.60      0.88      0.71       788\n",
      "                                               Checking or savings account + Other banking product or service       0.00      0.00      0.00        36\n",
      "                                                                Checking or savings account + Savings account       0.43      0.09      0.14        35\n",
      "                                                                             Consumer Loan + Installment loan       0.00      0.00      0.00         8\n",
      "                                                                                    Consumer Loan + Pawn loan       0.00      0.00      0.00         1\n",
      "                                                                                   Consumer Loan + Title loan       0.00      0.00      0.00         1\n",
      "                                                                                Consumer Loan + Vehicle lease       0.00      0.00      0.00         7\n",
      "                                                                                 Consumer Loan + Vehicle loan       0.37      0.22      0.27        32\n",
      "                                     Credit card or prepaid card + General-purpose credit card or charge card       0.74      0.88      0.80       969\n",
      "                                                   Credit card or prepaid card + General-purpose prepaid card       0.00      0.00      0.00        12\n",
      "                                                                      Credit card or prepaid card + Gift card       0.00      0.00      0.00         2\n",
      "                                                        Credit card or prepaid card + Government benefit card       0.00      0.00      0.00         3\n",
      "                                                                   Credit card or prepaid card + Payroll card       0.00      0.00      0.00         1\n",
      "                                                              Credit card or prepaid card + Store credit card       0.00      0.00      0.00        14\n",
      "        Credit reporting, credit repair services, or other personal consumer reports + Credit repair services       0.00      0.00      0.00         1\n",
      "              Credit reporting, credit repair services, or other personal consumer reports + Credit reporting       0.62      0.75      0.68       389\n",
      "Credit reporting, credit repair services, or other personal consumer reports + Other personal consumer report       0.00      0.00      0.00        11\n",
      "                                                                                       Debt collection + Auto       0.00      0.00      0.00         1\n",
      "                                                                                Debt collection + Credit card       0.47      0.33      0.38        46\n",
      "                                                                           Debt collection + Credit card debt       0.49      0.30      0.38        92\n",
      "                                                                              Debt collection + I do not know       1.00      0.06      0.11        17\n",
      "                                                                                   Debt collection + Mortgage       0.00      0.00      0.00         9\n",
      "                                                                              Debt collection + Mortgage debt       1.00      0.11      0.20        18\n",
      "                                                                   Debt collection + Non-federal student loan       0.00      0.00      0.00         1\n",
      "                                                      Debt collection + Other (i.e. phone, health club, etc.)       0.00      0.00      0.00         4\n",
      "                                                                                 Debt collection + Other debt       0.00      0.00      0.00         6\n",
      "                                                                                Debt collection + Payday loan       0.00      0.00      0.00         1\n",
      "                                   Money transfer, virtual currency, or money service + Check cashing service       0.00      0.00      0.00         2\n",
      "                            Money transfer, virtual currency, or money service + Domestic (US) money transfer       0.25      0.21      0.23        61\n",
      "                               Money transfer, virtual currency, or money service + Foreign currency exchange       0.00      0.00      0.00         4\n",
      "                            Money transfer, virtual currency, or money service + International money transfer       0.89      0.28      0.42        29\n",
      "                                Money transfer, virtual currency, or money service + Mobile or digital wallet       0.40      0.05      0.09        39\n",
      "                                             Money transfer, virtual currency, or money service + Money order       0.00      0.00      0.00         4\n",
      "                     Money transfer, virtual currency, or money service + Traveler's check or cashier's check       0.00      0.00      0.00         8\n",
      "                                        Money transfer, virtual currency, or money service + Virtual currency       0.00      0.00      0.00         8\n",
      "                                                               Money transfers + Domestic (US) money transfer       0.00      0.00      0.00         4\n",
      "                                                               Money transfers + International money transfer       0.00      0.00      0.00         5\n",
      "                                                            Mortgage + Conventional adjustable mortgage (ARM)       0.71      0.08      0.15        60\n",
      "                                                                       Mortgage + Conventional fixed mortgage       0.31      0.37      0.34       171\n",
      "                                                                        Mortgage + Conventional home mortgage       0.43      0.55      0.48       235\n",
      "                                                                                      Mortgage + FHA mortgage       0.33      0.36      0.34        87\n",
      "                                                                Mortgage + Home equity loan or line of credit       0.33      0.07      0.12        27\n",
      "                                                        Mortgage + Home equity loan or line of credit (HELOC)       0.41      0.23      0.30        30\n",
      "                                                                                    Mortgage + Other mortgage       0.00      0.00      0.00        38\n",
      "                                                                            Mortgage + Other type of mortgage       1.00      0.05      0.10        20\n",
      "                                                                                  Mortgage + Reverse mortgage       0.00      0.00      0.00         2\n",
      "                                                                                       Mortgage + VA mortgage       0.67      0.15      0.25        13\n",
      "                                                                        Other financial service + Money order       0.00      0.00      0.00         1\n",
      "                                                        Other financial service + Traveler’s/Cashier’s checks       0.00      0.00      0.00         1\n",
      "                                                 Payday loan, title loan, or personal loan + Installment loan       0.00      0.00      0.00         6\n",
      "                                          Payday loan, title loan, or personal loan + Personal line of credit       0.00      0.00      0.00         6\n",
      "                                                       Payday loan, title loan, or personal loan + Title loan       0.00      0.00      0.00         2\n",
      "                                                               Prepaid card + Government benefit payment card       0.00      0.00      0.00         1\n",
      "                                                                Student loan + Federal student loan servicing       0.00      0.00      0.00         2\n",
      "                                                                      Student loan + Non-federal student loan       0.76      0.66      0.70        29\n",
      "                                                                          Student loan + Private student loan       0.00      0.00      0.00         9\n",
      "                                                                                Vehicle loan or lease + Lease       0.50      0.41      0.45        22\n",
      "                                                                                 Vehicle loan or lease + Loan       0.56      0.52      0.54        58\n",
      "\n",
      "                                                                                                     accuracy                           0.60      3793\n",
      "                                                                                                    macro avg       0.24      0.14      0.15      3793\n",
      "                                                                                                 weighted avg       0.56      0.60      0.55      3793\n"
     ]
    },
    {
     "name": "stderr",
     "output_type": "stream",
     "text": [
      "C:\\Users\\Francisco\\PycharmProjects\\final-exam-pcd2024-autumn\\.venv\\Lib\\site-packages\\sklearn\\metrics\\_classification.py:1531: UndefinedMetricWarning: Precision is ill-defined and being set to 0.0 in labels with no predicted samples. Use `zero_division` parameter to control this behavior.\n",
      "  _warn_prf(average, modifier, f\"{metric.capitalize()} is\", len(result))\n",
      "C:\\Users\\Francisco\\PycharmProjects\\final-exam-pcd2024-autumn\\.venv\\Lib\\site-packages\\sklearn\\metrics\\_classification.py:1531: UndefinedMetricWarning: Precision is ill-defined and being set to 0.0 in labels with no predicted samples. Use `zero_division` parameter to control this behavior.\n",
      "  _warn_prf(average, modifier, f\"{metric.capitalize()} is\", len(result))\n",
      "C:\\Users\\Francisco\\PycharmProjects\\final-exam-pcd2024-autumn\\.venv\\Lib\\site-packages\\sklearn\\metrics\\_classification.py:1531: UndefinedMetricWarning: Precision is ill-defined and being set to 0.0 in labels with no predicted samples. Use `zero_division` parameter to control this behavior.\n",
      "  _warn_prf(average, modifier, f\"{metric.capitalize()} is\", len(result))\n"
     ]
    },
    {
     "name": "stdout",
     "output_type": "stream",
     "text": [
      "🏃 View run svc_model at: https://dagshub.com/zapatacc/final-exam-pcd2024-autumn.mlflow/#/experiments/41/runs/db44ba774be24e248b0ebba448573a7f\n",
      "🧪 View experiment at: https://dagshub.com/zapatacc/final-exam-pcd2024-autumn.mlflow/#/experiments/41\n"
     ]
    }
   ],
   "source": [
    "with mlflow.start_run(run_name='svc_model'):\n",
    "    # Entrenar con diferentes hiperparámetros\n",
    "    grid_search_svc.fit(X_train_tfidf, y_train)\n",
    "    best_svc_model = grid_search_svc.best_estimator_\n",
    "    \n",
    "    y_pred = best_svc_model.predict(X_test_tfidf)\n",
    "    accuracy = accuracy_score(y_test, y_pred)\n",
    "    report = classification_report(y_test, y_pred, output_dict=True)\n",
    "    \n",
    "    mlflow.log_params(grid_search_svc.best_params_)\n",
    "    mlflow.log_metric('accuracy', accuracy)\n",
    "    \n",
    "    mlflow.sklearn.log_model(best_svc_model, 'best_svc_model')\n",
    "    \n",
    "    print(f\"Best Params: {grid_search_svc.best_params_}\")\n",
    "    print(f\"Accuracy: {accuracy}\")\n",
    "    print(classification_report(y_test, y_pred))"
   ],
   "metadata": {
    "collapsed": false,
    "ExecuteTime": {
     "end_time": "2024-11-22T16:54:14.184231700Z",
     "start_time": "2024-11-22T16:43:14.215777900Z"
    }
   },
   "id": "a4952616443e2835",
   "execution_count": 17
  },
  {
   "cell_type": "markdown",
   "source": [
    "## Registro Champion y challenger SVC"
   ],
   "metadata": {
    "collapsed": false
   },
   "id": "3d24b510cf107855"
  },
  {
   "cell_type": "code",
   "outputs": [],
   "source": [
    "# Sacar cliente y nombre experimento\n",
    "client = MlflowClient()\n",
    "experiment_name = \"Tinoco-svc\"\n",
    "experiment = client.get_experiment_by_name(experiment_name)\n"
   ],
   "metadata": {
    "collapsed": false,
    "ExecuteTime": {
     "end_time": "2024-11-22T16:55:58.470054200Z",
     "start_time": "2024-11-22T16:55:58.460311200Z"
    }
   },
   "id": "f2449be63852ef5c",
   "execution_count": 19
  },
  {
   "cell_type": "code",
   "outputs": [
    {
     "name": "stderr",
     "output_type": "stream",
     "text": [
      "Successfully registered model 'Tinoco-svc'.\n",
      "2024/11/22 11:01:44 INFO mlflow.store.model_registry.abstract_store: Waiting up to 300 seconds for model version to finish creation. Model name: Tinoco-svc, version 1\n",
      "Created version '1' of model 'Tinoco-svc'.\n",
      "Registered model 'Tinoco-svc' already exists. Creating a new version of this model...\n",
      "2024/11/22 11:01:45 INFO mlflow.store.model_registry.abstract_store: Waiting up to 300 seconds for model version to finish creation. Model name: Tinoco-svc, version 2\n",
      "Created version '2' of model 'Tinoco-svc'.\n"
     ]
    },
    {
     "name": "stdout",
     "output_type": "stream",
     "text": [
      "Champion Model: Run ID db44ba774be24e248b0ebba448573a7f, Version 1\n",
      "Challenger Model: Run ID e35f29ce6100484c8814f7d2b83e6475, Version 2\n"
     ]
    }
   ],
   "source": [
    "# Verificar que el experimento existe\n",
    "if experiment is None:\n",
    "    print(f\"El experimento '{experiment_name}' no se encontró.\")\n",
    "else:\n",
    "    # Obtener el ID del experimento\n",
    "    experiment_id = experiment.experiment_id\n",
    "\n",
    "    # Buscar los dos mejores runs enbaseal accuracy\n",
    "    top_runs = mlflow.search_runs(\n",
    "        experiment_ids=[experiment_id],\n",
    "        order_by=[\"metrics.accuracy DESC\"],\n",
    "        max_results=2\n",
    "    )\n",
    "\n",
    "    # Verificar que tenemos al menos dos runs\n",
    "    if len(top_runs) < 2:\n",
    "        print(\"No se encontraron suficientes runs para seleccionar Champion y Challenger.\")\n",
    "    else:\n",
    "        # Obtenemos los Ids de los mejores runs\n",
    "        champion_run = top_runs.iloc[0]\n",
    "        challenger_run = top_runs.iloc[1]\n",
    "\n",
    "        # Obtenemos los Ids de las ejecuciones\n",
    "        champion_run_id = champion_run.run_id\n",
    "        challenger_run_id = challenger_run.run_id\n",
    "\n",
    "        # Obtenemos las urs de los modelos\n",
    "        champion_model_uri = f\"runs:/{champion_run_id}/model\"\n",
    "        challenger_model_uri = f\"runs:/{challenger_run_id}/model\"\n",
    "\n",
    "        # Declaramos el nombre del modelo registrado\n",
    "        model_name = \"Tinoco-svc\"\n",
    "\n",
    "        # Registrar el modelo Champion\n",
    "        champion_model_version = mlflow.register_model(\n",
    "            model_uri=champion_model_uri,\n",
    "            name=model_name\n",
    "        )\n",
    "        client.set_registered_model_alias(\n",
    "            name=model_name,\n",
    "            alias='champion',\n",
    "            version=champion_model_version.version\n",
    "        )\n",
    "\n",
    "        # Registrar el modelo Challenger\n",
    "        challenger_model_version = mlflow.register_model(\n",
    "            model_uri=challenger_model_uri,\n",
    "            name=model_name\n",
    "        )\n",
    "        client.set_registered_model_alias(\n",
    "            name=model_name,\n",
    "            alias='challenger',\n",
    "            version=challenger_model_version.version\n",
    "        )\n",
    "\n",
    "        # Imprimir resultados\n",
    "        print(f\"Champion Model: Run ID {champion_run_id}, Version {champion_model_version.version}\")\n",
    "        print(f\"Challenger Model: Run ID {challenger_run_id}, Version {challenger_model_version.version}\")"
   ],
   "metadata": {
    "collapsed": false,
    "ExecuteTime": {
     "end_time": "2024-11-22T17:01:46.544979100Z",
     "start_time": "2024-11-22T17:01:38.805794900Z"
    }
   },
   "id": "88b2c0c67ea202c",
   "execution_count": 22
  }
 ],
 "metadata": {
  "kernelspec": {
   "display_name": "Python 3",
   "language": "python",
   "name": "python3"
  },
  "language_info": {
   "codemirror_mode": {
    "name": "ipython",
    "version": 2
   },
   "file_extension": ".py",
   "mimetype": "text/x-python",
   "name": "python",
   "nbconvert_exporter": "python",
   "pygments_lexer": "ipython2",
   "version": "2.7.6"
  }
 },
 "nbformat": 4,
 "nbformat_minor": 5
}
