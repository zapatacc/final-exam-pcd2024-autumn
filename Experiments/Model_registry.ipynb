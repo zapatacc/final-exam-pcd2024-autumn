{
 "cells": [
  {
   "metadata": {},
   "cell_type": "markdown",
   "source": "Importamos las librerias necesarias",
   "id": "1cd0973d12802e68"
  },
  {
   "metadata": {
    "ExecuteTime": {
     "end_time": "2024-11-21T17:26:27.293648Z",
     "start_time": "2024-11-21T17:26:27.253868Z"
    }
   },
   "cell_type": "code",
   "source": [
    "import pandas as pd\n",
    "from sklearn.model_selection import train_test_split, GridSearchCV\n",
    "from sklearn.ensemble import RandomForestClassifier\n",
    "from sklearn.linear_model import LogisticRegression\n",
    "from sklearn.metrics import classification_report, accuracy_score\n",
    "import mlflow\n",
    "import mlflow.sklearn\n",
    "from sklearn.feature_extraction.text import TfidfVectorizer\n",
    "import dagshub\n",
    "from hyperopt import fmin, tpe, hp, Trials, STATUS_OK\n",
    "from hyperopt.pyll.base import scope\n",
    "import pickle\n",
    "import pathlib\n",
    "from mlflow.tracking import MlflowClient"
   ],
   "id": "e41bbbdcbcc21e37",
   "outputs": [],
   "execution_count": 21
  },
  {
   "metadata": {
    "ExecuteTime": {
     "end_time": "2024-11-21T01:15:24.520462Z",
     "start_time": "2024-11-21T01:15:24.391154Z"
    }
   },
   "cell_type": "code",
   "source": "df = pd.read_csv(\"../Data/Clean_data/transformed_data.csv\")",
   "id": "c15a4dbfe3e23107",
   "outputs": [],
   "execution_count": 2
  },
  {
   "metadata": {
    "ExecuteTime": {
     "end_time": "2024-11-21T01:43:47.660486Z",
     "start_time": "2024-11-21T01:43:47.651833Z"
    }
   },
   "cell_type": "code",
   "source": [
    "X = df['complaint_what_happened']  # Cambia 'texto_queja' por el nombre real de tu columna\n",
    "y = df['ticket_classification']  # Cambia 'categoria_queja' por el nombre real de tu columna\n",
    "\n",
    "# Dividir los datos en conjunto de entrenamiento y prueba\n",
    "X_train, X_test, y_train, y_test = train_test_split(X, y, test_size=0.2, random_state=42)"
   ],
   "id": "75ffccd65ba88822",
   "outputs": [],
   "execution_count": 4
  },
  {
   "metadata": {
    "ExecuteTime": {
     "end_time": "2024-11-21T01:43:55.684129Z",
     "start_time": "2024-11-21T01:43:54.583676Z"
    }
   },
   "cell_type": "code",
   "source": [
    "vectorizer = TfidfVectorizer(max_features=5000)\n",
    "X_train = vectorizer.fit_transform(X_train)\n",
    "X_test = vectorizer.transform(X_test)"
   ],
   "id": "8f1ae5485a175356",
   "outputs": [],
   "execution_count": 7
  },
  {
   "metadata": {
    "ExecuteTime": {
     "end_time": "2024-11-21T01:43:58.868760Z",
     "start_time": "2024-11-21T01:43:56.659363Z"
    }
   },
   "cell_type": "code",
   "source": [
    "dagshub.init(url=\"https://dagshub.com/zapatacc/final-exam-pcd2024-autumn\", mlflow=True)\n",
    "\n",
    "MLFLOW_TRACKING_URI = mlflow.get_tracking_uri()\n",
    "\n",
    "print(MLFLOW_TRACKING_URI)\n",
    "\n",
    "\n",
    "mlflow.set_tracking_uri(MLFLOW_TRACKING_URI)\n",
    "mlflow.set_experiment(experiment_name=\"arturo-torres-experiment\")"
   ],
   "id": "49732f7d4e361113",
   "outputs": [
    {
     "data": {
      "text/plain": [
       "Accessing as arturotowers\n"
      ],
      "text/html": [
       "<pre style=\"white-space:pre;overflow-x:auto;line-height:normal;font-family:Menlo,'DejaVu Sans Mono',consolas,'Courier New',monospace\">Accessing as arturotowers\n",
       "</pre>\n"
      ]
     },
     "metadata": {},
     "output_type": "display_data"
    },
    {
     "data": {
      "text/plain": [
       "Initialized MLflow to track repo \u001B[32m\"zapatacc/final-exam-pcd2024-autumn\"\u001B[0m\n"
      ],
      "text/html": [
       "<pre style=\"white-space:pre;overflow-x:auto;line-height:normal;font-family:Menlo,'DejaVu Sans Mono',consolas,'Courier New',monospace\">Initialized MLflow to track repo <span style=\"color: #008000; text-decoration-color: #008000\">\"zapatacc/final-exam-pcd2024-autumn\"</span>\n",
       "</pre>\n"
      ]
     },
     "metadata": {},
     "output_type": "display_data"
    },
    {
     "data": {
      "text/plain": [
       "Repository zapatacc/final-exam-pcd2024-autumn initialized!\n"
      ],
      "text/html": [
       "<pre style=\"white-space:pre;overflow-x:auto;line-height:normal;font-family:Menlo,'DejaVu Sans Mono',consolas,'Courier New',monospace\">Repository zapatacc/final-exam-pcd2024-autumn initialized!\n",
       "</pre>\n"
      ]
     },
     "metadata": {},
     "output_type": "display_data"
    },
    {
     "name": "stdout",
     "output_type": "stream",
     "text": [
      "https://dagshub.com/zapatacc/final-exam-pcd2024-autumn.mlflow\n"
     ]
    },
    {
     "name": "stderr",
     "output_type": "stream",
     "text": [
      "2024/11/20 19:43:58 INFO mlflow.tracking.fluent: Experiment with name 'arturo-torres-experiment' does not exist. Creating a new experiment.\n"
     ]
    },
    {
     "data": {
      "text/plain": [
       "<Experiment: artifact_location='mlflow-artifacts:/6be75566f49a45ea9188daef3c3fa463', creation_time=1732153439189, experiment_id='11', last_update_time=1732153439189, lifecycle_stage='active', name='arturo-torres-experiment', tags={}>"
      ]
     },
     "execution_count": 8,
     "metadata": {},
     "output_type": "execute_result"
    }
   ],
   "execution_count": 8
  },
  {
   "metadata": {
    "ExecuteTime": {
     "end_time": "2024-11-21T01:51:32.400433Z",
     "start_time": "2024-11-21T01:51:32.388892Z"
    }
   },
   "cell_type": "code",
   "source": [
    "def objective_lr(params):\n",
    "    with mlflow.start_run(nested=True):\n",
    "        mlflow.set_tag(\"model_family\", \"LogisticRegression\")\n",
    "        mlflow.log_params(params)\n",
    "        \n",
    "        model = LogisticRegression(**params, random_state=42)\n",
    "        model.fit(X_train, y_train)\n",
    "        \n",
    "        y_pred = model.predict(X_test)\n",
    "        accuracy = accuracy_score(y_test, y_pred)\n",
    "        \n",
    "        mlflow.log_metric(\"accuracy\", accuracy)\n",
    "        mlflow.sklearn.log_model(model, \"model-lr\")\n",
    "    \n",
    "    return {'loss': accuracy, 'status': STATUS_OK}"
   ],
   "id": "6d20395194f79e61",
   "outputs": [],
   "execution_count": 10
  },
  {
   "metadata": {
    "ExecuteTime": {
     "end_time": "2024-11-21T01:51:33.333383Z",
     "start_time": "2024-11-21T01:51:33.319996Z"
    }
   },
   "cell_type": "code",
   "source": [
    "search_space_lr = {\n",
    "    'C': hp.loguniform('C', -4, 2),\n",
    "    'solver': hp.choice('solver', ['liblinear', 'lbfgs'])\n",
    "}"
   ],
   "id": "af6d47c2605bb2a",
   "outputs": [],
   "execution_count": 11
  },
  {
   "metadata": {
    "ExecuteTime": {
     "end_time": "2024-11-21T01:59:56.079984Z",
     "start_time": "2024-11-21T01:57:11.730790Z"
    }
   },
   "cell_type": "code",
   "source": [
    "with mlflow.start_run(run_name=\"LogisticRegression Hyper-parameter Optimization\"):\n",
    "    best_params_lr = fmin(\n",
    "        fn=objective_lr,\n",
    "        space=search_space_lr,\n",
    "        algo=tpe.suggest,\n",
    "        max_evals=10,\n",
    "        trials=Trials()\n",
    "    )\n",
    "    \n",
    "    # Convertir parámetros al formato adecuado\n",
    "    best_params_lr['solver'] = ['liblinear', 'lbfgs'][best_params_lr['solver']]\n",
    "    mlflow.log_params(best_params_lr)\n",
    "\n",
    "    # Entrenar modelo final de Regresión Logística\n",
    "    best_model_lr = LogisticRegression(**best_params_lr, random_state=42)\n",
    "    best_model_lr.fit(X_train, y_train)\n",
    "    \n",
    "    y_pred_lr = best_model_lr.predict(X_test)\n",
    "    accuracy_lr = accuracy_score(y_test, y_pred_lr)\n",
    "    mlflow.log_metric(\"accuracy\", accuracy_lr)"
   ],
   "id": "475365b957be91c4",
   "outputs": [
    {
     "name": "stdout",
     "output_type": "stream",
     "text": [
      "  0%|          | 0/10 [00:00<?, ?trial/s, best loss=?]"
     ]
    },
    {
     "name": "stderr",
     "output_type": "stream",
     "text": [
      "2024/11/20 19:57:18 WARNING mlflow.models.model: Model logged without a signature and input example. Please set `input_example` parameter when logging the model to auto infer the model signature.\n",
      "\n"
     ]
    },
    {
     "name": "stdout",
     "output_type": "stream",
     "text": [
      "🏃 View run loud-yak-558 at: https://dagshub.com/zapatacc/final-exam-pcd2024-autumn.mlflow/#/experiments/11/runs/9eff031e3cb245bc8422c98741d6228f\n",
      "\n",
      "🧪 View experiment at: https://dagshub.com/zapatacc/final-exam-pcd2024-autumn.mlflow/#/experiments/11\n",
      "\n",
      " 10%|█         | 1/10 [00:09<01:23,  9.31s/trial, best loss: 0.5690698954320308]"
     ]
    },
    {
     "name": "stderr",
     "output_type": "stream",
     "text": [
      "2024/11/20 19:57:25 WARNING mlflow.models.model: Model logged without a signature and input example. Please set `input_example` parameter when logging the model to auto infer the model signature.\n",
      "\n"
     ]
    },
    {
     "name": "stdout",
     "output_type": "stream",
     "text": [
      "🏃 View run rare-panda-324 at: https://dagshub.com/zapatacc/final-exam-pcd2024-autumn.mlflow/#/experiments/11/runs/f227ca8b7c73406888004617d43322c0\n",
      "\n",
      "🧪 View experiment at: https://dagshub.com/zapatacc/final-exam-pcd2024-autumn.mlflow/#/experiments/11\n",
      "\n",
      " 20%|██        | 2/10 [00:17<01:09,  8.68s/trial, best loss: 0.5013758943313154]"
     ]
    },
    {
     "name": "stderr",
     "output_type": "stream",
     "text": [
      "2024/11/20 19:57:37 WARNING mlflow.models.model: Model logged without a signature and input example. Please set `input_example` parameter when logging the model to auto infer the model signature.\n",
      "\n"
     ]
    },
    {
     "name": "stdout",
     "output_type": "stream",
     "text": [
      "🏃 View run masked-stork-15 at: https://dagshub.com/zapatacc/final-exam-pcd2024-autumn.mlflow/#/experiments/11/runs/ef95ab328af9477db379d66d8992b654\n",
      "\n",
      "🧪 View experiment at: https://dagshub.com/zapatacc/final-exam-pcd2024-autumn.mlflow/#/experiments/11\n",
      "\n",
      " 30%|███       | 3/10 [00:30<01:14, 10.66s/trial, best loss: 0.5013758943313154]"
     ]
    },
    {
     "name": "stderr",
     "output_type": "stream",
     "text": [
      "2024/11/20 19:58:17 WARNING mlflow.models.model: Model logged without a signature and input example. Please set `input_example` parameter when logging the model to auto infer the model signature.\n",
      "\n"
     ]
    },
    {
     "name": "stdout",
     "output_type": "stream",
     "text": [
      "🏃 View run learned-fly-333 at: https://dagshub.com/zapatacc/final-exam-pcd2024-autumn.mlflow/#/experiments/11/runs/407b8d6b10f04c53a5c968528cdaefd1\n",
      "\n",
      "🧪 View experiment at: https://dagshub.com/zapatacc/final-exam-pcd2024-autumn.mlflow/#/experiments/11\n",
      "\n",
      " 40%|████      | 4/10 [01:08<02:09, 21.59s/trial, best loss: 0.46642817831590533]"
     ]
    },
    {
     "name": "stderr",
     "output_type": "stream",
     "text": [
      "2024/11/20 19:58:25 WARNING mlflow.models.model: Model logged without a signature and input example. Please set `input_example` parameter when logging the model to auto infer the model signature.\n",
      "\n"
     ]
    },
    {
     "name": "stdout",
     "output_type": "stream",
     "text": [
      "🏃 View run youthful-wolf-487 at: https://dagshub.com/zapatacc/final-exam-pcd2024-autumn.mlflow/#/experiments/11/runs/0db8bc41f75c412f9b267683ba8c1f2b\n",
      "\n",
      "🧪 View experiment at: https://dagshub.com/zapatacc/final-exam-pcd2024-autumn.mlflow/#/experiments/11\n",
      "\n",
      " 50%|█████     | 5/10 [01:17<01:23, 16.74s/trial, best loss: 0.46642817831590533]"
     ]
    },
    {
     "name": "stderr",
     "output_type": "stream",
     "text": [
      "2024/11/20 19:58:36 WARNING mlflow.models.model: Model logged without a signature and input example. Please set `input_example` parameter when logging the model to auto infer the model signature.\n",
      "\n"
     ]
    },
    {
     "name": "stdout",
     "output_type": "stream",
     "text": [
      "🏃 View run puzzled-fox-329 at: https://dagshub.com/zapatacc/final-exam-pcd2024-autumn.mlflow/#/experiments/11/runs/6124726550054b6fbad61fb27a6196d1\n",
      "\n",
      "🧪 View experiment at: https://dagshub.com/zapatacc/final-exam-pcd2024-autumn.mlflow/#/experiments/11\n",
      "\n",
      " 60%|██████    | 6/10 [01:30<01:01, 15.47s/trial, best loss: 0.4488167308750688] "
     ]
    },
    {
     "name": "stderr",
     "output_type": "stream",
     "text": [
      "2024/11/20 19:59:12 WARNING mlflow.models.model: Model logged without a signature and input example. Please set `input_example` parameter when logging the model to auto infer the model signature.\n",
      "\n"
     ]
    },
    {
     "name": "stdout",
     "output_type": "stream",
     "text": [
      "🏃 View run shivering-stork-156 at: https://dagshub.com/zapatacc/final-exam-pcd2024-autumn.mlflow/#/experiments/11/runs/57c923252dec4711ad036e503cc3cc64\n",
      "\n",
      "🧪 View experiment at: https://dagshub.com/zapatacc/final-exam-pcd2024-autumn.mlflow/#/experiments/11\n",
      "\n",
      " 70%|███████   | 7/10 [02:03<01:03, 21.33s/trial, best loss: 0.4488167308750688]"
     ]
    },
    {
     "name": "stderr",
     "output_type": "stream",
     "text": [
      "2024/11/20 19:59:21 WARNING mlflow.models.model: Model logged without a signature and input example. Please set `input_example` parameter when logging the model to auto infer the model signature.\n",
      "\n"
     ]
    },
    {
     "name": "stdout",
     "output_type": "stream",
     "text": [
      "🏃 View run worried-stag-67 at: https://dagshub.com/zapatacc/final-exam-pcd2024-autumn.mlflow/#/experiments/11/runs/e1a3ffa5299240af9eb6442d8b9c5c4f\n",
      "\n",
      "🧪 View experiment at: https://dagshub.com/zapatacc/final-exam-pcd2024-autumn.mlflow/#/experiments/11\n",
      "\n",
      " 80%|████████  | 8/10 [02:12<00:35, 17.56s/trial, best loss: 0.4488167308750688]"
     ]
    },
    {
     "name": "stderr",
     "output_type": "stream",
     "text": [
      "2024/11/20 19:59:35 WARNING mlflow.models.model: Model logged without a signature and input example. Please set `input_example` parameter when logging the model to auto infer the model signature.\n",
      "\n"
     ]
    },
    {
     "name": "stdout",
     "output_type": "stream",
     "text": [
      "🏃 View run unleashed-snail-714 at: https://dagshub.com/zapatacc/final-exam-pcd2024-autumn.mlflow/#/experiments/11/runs/3fc3781fa08b40b68f4900d3431c404b\n",
      "\n",
      "🧪 View experiment at: https://dagshub.com/zapatacc/final-exam-pcd2024-autumn.mlflow/#/experiments/11\n",
      "\n",
      " 90%|█████████ | 9/10 [02:26<00:16, 16.24s/trial, best loss: 0.4488167308750688]"
     ]
    },
    {
     "name": "stderr",
     "output_type": "stream",
     "text": [
      "2024/11/20 19:59:49 WARNING mlflow.models.model: Model logged without a signature and input example. Please set `input_example` parameter when logging the model to auto infer the model signature.\n",
      "\n"
     ]
    },
    {
     "name": "stdout",
     "output_type": "stream",
     "text": [
      "🏃 View run useful-crab-885 at: https://dagshub.com/zapatacc/final-exam-pcd2024-autumn.mlflow/#/experiments/11/runs/0bc16ecbae7f4a3bb0295dbc705cfd0a\n",
      "\n",
      "🧪 View experiment at: https://dagshub.com/zapatacc/final-exam-pcd2024-autumn.mlflow/#/experiments/11\n",
      "\n",
      "100%|██████████| 10/10 [02:40<00:00, 16.07s/trial, best loss: 0.4488167308750688]\n",
      "🏃 View run LogisticRegression Hyper-parameter Optimization at: https://dagshub.com/zapatacc/final-exam-pcd2024-autumn.mlflow/#/experiments/11/runs/88e11f5f431d40ad9ed61bc316f16565\n",
      "🧪 View experiment at: https://dagshub.com/zapatacc/final-exam-pcd2024-autumn.mlflow/#/experiments/11\n"
     ]
    }
   ],
   "execution_count": 13
  },
  {
   "metadata": {
    "ExecuteTime": {
     "end_time": "2024-11-21T02:01:39.798300Z",
     "start_time": "2024-11-21T02:01:39.794474Z"
    }
   },
   "cell_type": "code",
   "source": [
    "def objective_rf(params):\n",
    "    with mlflow.start_run(nested=True):\n",
    "        mlflow.set_tag(\"model_family\", \"RandomForest\")\n",
    "        mlflow.log_params(params)\n",
    "        \n",
    "        model = RandomForestClassifier(**params, random_state=42)\n",
    "        model.fit(X_train, y_train)\n",
    "        \n",
    "        y_pred = model.predict(X_test)\n",
    "        accuracy = accuracy_score(y_test, y_pred)\n",
    "        \n",
    "        mlflow.log_metric(\"accuracy\", accuracy)\n",
    "        mlflow.sklearn.log_model(model, artifact_path=\"model-rf\")\n",
    "    \n",
    "    return {'loss': -accuracy, 'status': STATUS_OK}"
   ],
   "id": "708ead4b6970627d",
   "outputs": [],
   "execution_count": 14
  },
  {
   "metadata": {
    "ExecuteTime": {
     "end_time": "2024-11-21T02:01:40.626747Z",
     "start_time": "2024-11-21T02:01:40.622262Z"
    }
   },
   "cell_type": "code",
   "source": [
    "search_space_rf = {\n",
    "    'n_estimators': scope.int(hp.quniform('n_estimators', 100, 500, 1)),\n",
    "    'max_depth': scope.int(hp.quniform('max_depth', 5, 50, 1)),\n",
    "    'min_samples_split': scope.int(hp.quniform('min_samples_split', 2, 10, 1)),\n",
    "    'min_samples_leaf': scope.int(hp.quniform('min_samples_leaf', 1, 4, 1)),\n",
    "    'bootstrap': hp.choice('bootstrap', [True, False])\n",
    "}\n"
   ],
   "id": "5831e3b7364c55a5",
   "outputs": [],
   "execution_count": 15
  },
  {
   "metadata": {
    "ExecuteTime": {
     "end_time": "2024-11-21T15:24:38.820022Z",
     "start_time": "2024-11-21T15:10:58.153010Z"
    }
   },
   "cell_type": "code",
   "source": [
    "with mlflow.start_run(run_name=\"RandomForest Hyper-parameter Optimization\"):\n",
    "    best_params_rf = fmin(\n",
    "        fn=objective_rf,\n",
    "        space=search_space_rf,\n",
    "        algo=tpe.suggest,\n",
    "        max_evals=10,\n",
    "        trials=Trials()\n",
    "    )\n",
    "    \n",
    "    # Convertir parámetros al formato adecuado\n",
    "    best_params_rf['n_estimators'] = int(best_params_rf['n_estimators'])\n",
    "    best_params_rf['max_depth'] = int(best_params_rf['max_depth'])\n",
    "    best_params_rf['min_samples_split'] = int(best_params_rf['min_samples_split'])\n",
    "    best_params_rf['min_samples_leaf'] = int(best_params_rf['min_samples_leaf'])\n",
    "    best_params_rf['bootstrap'] = bool(best_params_rf['bootstrap'])\n",
    "    mlflow.log_params(best_params_rf)\n",
    "\n",
    "    # Entrenar modelo final de Random Forest\n",
    "    best_model_rf = RandomForestClassifier(**best_params_rf, random_state=42)\n",
    "    best_model_rf.fit(X_train, y_train)\n",
    "    \n",
    "    y_pred_rf = best_model_rf.predict(X_test)\n",
    "    accuracy_rf = accuracy_score(y_test, y_pred_rf)\n",
    "    mlflow.log_metric(\"accuracy\", accuracy_rf)\n"
   ],
   "id": "fb1b2471a5e68910",
   "outputs": [
    {
     "name": "stdout",
     "output_type": "stream",
     "text": [
      "  0%|          | 0/10 [00:00<?, ?trial/s, best loss=?]"
     ]
    },
    {
     "name": "stderr",
     "output_type": "stream",
     "text": [
      "2024/11/21 09:11:28 WARNING mlflow.models.model: Model logged without a signature and input example. Please set `input_example` parameter when logging the model to auto infer the model signature.\n",
      "\n"
     ]
    },
    {
     "name": "stdout",
     "output_type": "stream",
     "text": [
      "🏃 View run handsome-toad-429 at: https://dagshub.com/zapatacc/final-exam-pcd2024-autumn.mlflow/#/experiments/11/runs/33acc0687f5845baa915784a0cf91c5b\n",
      "\n",
      "🧪 View experiment at: https://dagshub.com/zapatacc/final-exam-pcd2024-autumn.mlflow/#/experiments/11\n",
      "\n",
      " 10%|█         | 1/10 [00:42<06:26, 42.95s/trial, best loss: -0.4678040726472207]"
     ]
    },
    {
     "name": "stderr",
     "output_type": "stream",
     "text": [
      "2024/11/21 09:12:22 WARNING mlflow.models.model: Model logged without a signature and input example. Please set `input_example` parameter when logging the model to auto infer the model signature.\n",
      "\n"
     ]
    },
    {
     "name": "stdout",
     "output_type": "stream",
     "text": [
      "🏃 View run unruly-koi-641 at: https://dagshub.com/zapatacc/final-exam-pcd2024-autumn.mlflow/#/experiments/11/runs/64c7822e04ce4c039fce5b77c7feb9c7\n",
      "\n",
      "🧪 View experiment at: https://dagshub.com/zapatacc/final-exam-pcd2024-autumn.mlflow/#/experiments/11\n",
      "\n",
      " 20%|██        | 2/10 [02:38<11:23, 85.45s/trial, best loss: -0.53852504127683]  "
     ]
    },
    {
     "name": "stderr",
     "output_type": "stream",
     "text": [
      "2024/11/21 09:13:58 WARNING mlflow.models.model: Model logged without a signature and input example. Please set `input_example` parameter when logging the model to auto infer the model signature.\n",
      "\n"
     ]
    },
    {
     "name": "stdout",
     "output_type": "stream",
     "text": [
      "🏃 View run marvelous-bird-955 at: https://dagshub.com/zapatacc/final-exam-pcd2024-autumn.mlflow/#/experiments/11/runs/570cc35387184ed990240e8dcdb3629b\n",
      "\n",
      "🧪 View experiment at: https://dagshub.com/zapatacc/final-exam-pcd2024-autumn.mlflow/#/experiments/11\n",
      "\n",
      " 30%|███       | 3/10 [03:24<07:52, 67.50s/trial, best loss: -0.53852504127683]"
     ]
    },
    {
     "name": "stderr",
     "output_type": "stream",
     "text": [
      "2024/11/21 09:15:22 WARNING mlflow.models.model: Model logged without a signature and input example. Please set `input_example` parameter when logging the model to auto infer the model signature.\n",
      "\n"
     ]
    },
    {
     "name": "stdout",
     "output_type": "stream",
     "text": [
      "🏃 View run resilient-donkey-613 at: https://dagshub.com/zapatacc/final-exam-pcd2024-autumn.mlflow/#/experiments/11/runs/ca821226bfe24d988874e4625fd528c0\n",
      "\n",
      "🧪 View experiment at: https://dagshub.com/zapatacc/final-exam-pcd2024-autumn.mlflow/#/experiments/11\n",
      "\n",
      " 40%|████      | 4/10 [05:30<09:05, 90.85s/trial, best loss: -0.5566868464501926]"
     ]
    },
    {
     "name": "stderr",
     "output_type": "stream",
     "text": [
      "2024/11/21 09:17:24 WARNING mlflow.models.model: Model logged without a signature and input example. Please set `input_example` parameter when logging the model to auto infer the model signature.\n",
      "\n"
     ]
    },
    {
     "name": "stdout",
     "output_type": "stream",
     "text": [
      "🏃 View run nimble-bee-627 at: https://dagshub.com/zapatacc/final-exam-pcd2024-autumn.mlflow/#/experiments/11/runs/0f5a5bc38f8e4c268a760818315176c2\n",
      "\n",
      "🧪 View experiment at: https://dagshub.com/zapatacc/final-exam-pcd2024-autumn.mlflow/#/experiments/11\n",
      "\n",
      " 50%|█████     | 5/10 [07:14<07:56, 95.37s/trial, best loss: -0.5594386351128233]"
     ]
    },
    {
     "name": "stderr",
     "output_type": "stream",
     "text": [
      "2024/11/21 09:18:50 WARNING mlflow.models.model: Model logged without a signature and input example. Please set `input_example` parameter when logging the model to auto infer the model signature.\n",
      "\n"
     ]
    },
    {
     "name": "stdout",
     "output_type": "stream",
     "text": [
      "🏃 View run angry-hound-989 at: https://dagshub.com/zapatacc/final-exam-pcd2024-autumn.mlflow/#/experiments/11/runs/eb8d5784793a4282882445febaec6eb7\n",
      "\n",
      "🧪 View experiment at: https://dagshub.com/zapatacc/final-exam-pcd2024-autumn.mlflow/#/experiments/11\n",
      "\n",
      " 60%|██████    | 6/10 [08:29<05:54, 88.52s/trial, best loss: -0.5594386351128233]"
     ]
    },
    {
     "name": "stderr",
     "output_type": "stream",
     "text": [
      "2024/11/21 09:20:09 WARNING mlflow.models.model: Model logged without a signature and input example. Please set `input_example` parameter when logging the model to auto infer the model signature.\n",
      "\n"
     ]
    },
    {
     "name": "stdout",
     "output_type": "stream",
     "text": [
      "🏃 View run popular-croc-712 at: https://dagshub.com/zapatacc/final-exam-pcd2024-autumn.mlflow/#/experiments/11/runs/57275bca1e2645dab90a48cdfdd91459\n",
      "\n",
      "🧪 View experiment at: https://dagshub.com/zapatacc/final-exam-pcd2024-autumn.mlflow/#/experiments/11\n",
      "\n",
      " 70%|███████   | 7/10 [09:59<04:26, 88.97s/trial, best loss: -0.5594386351128233]"
     ]
    },
    {
     "name": "stderr",
     "output_type": "stream",
     "text": [
      "2024/11/21 09:21:21 WARNING mlflow.models.model: Model logged without a signature and input example. Please set `input_example` parameter when logging the model to auto infer the model signature.\n",
      "\n"
     ]
    },
    {
     "name": "stdout",
     "output_type": "stream",
     "text": [
      "🏃 View run useful-stag-309 at: https://dagshub.com/zapatacc/final-exam-pcd2024-autumn.mlflow/#/experiments/11/runs/a3c51d1c945a4b848afbab76f2bc15c4\n",
      "\n",
      "🧪 View experiment at: https://dagshub.com/zapatacc/final-exam-pcd2024-autumn.mlflow/#/experiments/11\n",
      "\n",
      " 80%|████████  | 8/10 [10:51<02:34, 77.35s/trial, best loss: -0.5594386351128233]"
     ]
    },
    {
     "name": "stderr",
     "output_type": "stream",
     "text": [
      "2024/11/21 09:22:12 WARNING mlflow.models.model: Model logged without a signature and input example. Please set `input_example` parameter when logging the model to auto infer the model signature.\n",
      "\n"
     ]
    },
    {
     "name": "stdout",
     "output_type": "stream",
     "text": [
      "🏃 View run puzzled-sow-858 at: https://dagshub.com/zapatacc/final-exam-pcd2024-autumn.mlflow/#/experiments/11/runs/dcfb54b139e84380b70c74251ad34fc6\n",
      "\n",
      "🧪 View experiment at: https://dagshub.com/zapatacc/final-exam-pcd2024-autumn.mlflow/#/experiments/11\n",
      "\n",
      " 90%|█████████ | 9/10 [11:33<01:06, 66.27s/trial, best loss: -0.5594386351128233]"
     ]
    },
    {
     "name": "stderr",
     "output_type": "stream",
     "text": [
      "2024/11/21 09:23:15 WARNING mlflow.models.model: Model logged without a signature and input example. Please set `input_example` parameter when logging the model to auto infer the model signature.\n",
      "\n"
     ]
    },
    {
     "name": "stdout",
     "output_type": "stream",
     "text": [
      "🏃 View run fearless-shark-897 at: https://dagshub.com/zapatacc/final-exam-pcd2024-autumn.mlflow/#/experiments/11/runs/7c79233bf5db43729d6021a4d272afdb\n",
      "\n",
      "🧪 View experiment at: https://dagshub.com/zapatacc/final-exam-pcd2024-autumn.mlflow/#/experiments/11\n",
      "\n",
      "100%|██████████| 10/10 [13:06<00:00, 78.61s/trial, best loss: -0.5594386351128233]\n",
      "🏃 View run RandomForest Hyper-parameter Optimization at: https://dagshub.com/zapatacc/final-exam-pcd2024-autumn.mlflow/#/experiments/11/runs/33544082c3584abaabd447779cbb2db2\n",
      "🧪 View experiment at: https://dagshub.com/zapatacc/final-exam-pcd2024-autumn.mlflow/#/experiments/11\n"
     ]
    }
   ],
   "execution_count": 17
  },
  {
   "metadata": {},
   "cell_type": "markdown",
   "source": "No me gustaron los resultados del grid search así que probare la regresión logistica sin gridsearch",
   "id": "9de92565004ff476"
  },
  {
   "metadata": {
    "ExecuteTime": {
     "end_time": "2024-11-21T15:36:55.982827Z",
     "start_time": "2024-11-21T15:36:30.870053Z"
    }
   },
   "cell_type": "code",
   "source": [
    "with mlflow.start_run(run_name='LogisticRegression_NoTunning'):\n",
    "    mlflow.set_tag(\"model_family\", \"LogisticRegression\")\n",
    "    model = LogisticRegression(max_iter=2000)\n",
    "    model.fit(X_train, y_train)\n",
    "        \n",
    "    y_pred = model.predict(X_test)\n",
    "    accuracy = accuracy_score(y_test, y_pred)\n",
    "        \n",
    "    mlflow.log_metric(\"accuracy\", accuracy)\n",
    "    \n",
    "    \n",
    "    mlflow.sklearn.log_model(model, 'model-lr-wt')\n",
    "    \n",
    "    print(f\"Accuracy: {accuracy}\")"
   ],
   "id": "c5f2c4127813d8a0",
   "outputs": [
    {
     "name": "stderr",
     "output_type": "stream",
     "text": [
      "2024/11/21 09:36:52 WARNING mlflow.models.model: Model logged without a signature and input example. Please set `input_example` parameter when logging the model to auto infer the model signature.\n"
     ]
    },
    {
     "name": "stdout",
     "output_type": "stream",
     "text": [
      "Accuracy: 0.596587782058338\n",
      "🏃 View run LogisticRegression_NoTunning at: https://dagshub.com/zapatacc/final-exam-pcd2024-autumn.mlflow/#/experiments/11/runs/c9db5325e8e64eeda2831f7975881a8d\n",
      "🧪 View experiment at: https://dagshub.com/zapatacc/final-exam-pcd2024-autumn.mlflow/#/experiments/11\n"
     ]
    }
   ],
   "execution_count": 20
  },
  {
   "metadata": {},
   "cell_type": "markdown",
   "source": "Ya con todos los experimentos hechos, pasamos a la fase en la que elegimos los 2 mejores experimentos para que se conviertan en los modelos champion y challenger",
   "id": "755ff071f236505d"
  },
  {
   "metadata": {
    "ExecuteTime": {
     "end_time": "2024-11-21T17:30:16.460354Z",
     "start_time": "2024-11-21T17:30:14.146029Z"
    }
   },
   "cell_type": "code",
   "source": [
    "from mlflow.tracking import MlflowClient\n",
    "\n",
    "\n",
    "client = MlflowClient()\n",
    "\n",
    "# Declaramos el experimento en el que estamos trabajando\n",
    "experiment_name = \"arturo-torres-experiment\"\n",
    "\n",
    "\n",
    "experiment = client.get_experiment_by_name(experiment_name)\n",
    "\n",
    "# Buscamos las dos mejores ejecuciones en base al accuracy\n",
    "top_runs = mlflow.search_runs(\n",
    "    experiment_ids=[experiment.experiment_id],\n",
    "    order_by=[\"metrics.accuracy DESC\"],  # Cambia a ASC si buscas minimizar\n",
    "    max_results=2  # Recuperar las dos mejores\n",
    ")\n",
    "\n",
    "# Obtenemos los IDs de las mejores ejecuciones\n",
    "champion_run = top_runs.iloc[0]\n",
    "challenger_run = top_runs.iloc[1]\n",
    "\n",
    "# Obtenemos los IDs de las ejecuciones\n",
    "champion_run_id = champion_run.run_id\n",
    "challenger_run_id = challenger_run.run_id\n",
    "\n",
    "champion_model_uri = f\"runs:/{champion_run_id}/model\"\n",
    "challenger_model_uri = f\"runs:/{challenger_run_id}/model\"\n",
    "\n",
    "# Declaramos el nombre del modelo registrado\n",
    "model_name = \"arturo-model\"\n",
    "\n",
    "# Registramos el Champion\n",
    "champion_model_version = mlflow.register_model(champion_model_uri, model_name)\n",
    "client.set_registered_model_alias(model_name, \"champion\", champion_model_version.version)\n",
    "\n",
    "# Registramos el Challenger\n",
    "challenger_model_version = mlflow.register_model(challenger_model_uri, model_name)\n",
    "client.set_registered_model_alias(model_name, \"challenger\", challenger_model_version.version)\n",
    "\n",
    "# Imprimimos resultados\n",
    "print(f\"Champion Model: Run ID {champion_run_id}, Version {champion_model_version.version}\")\n",
    "print(f\"Challenger Model: Run ID {challenger_run_id}, Version {challenger_model_version.version}\")"
   ],
   "id": "fbb287cbfa4a177b",
   "outputs": [
    {
     "name": "stderr",
     "output_type": "stream",
     "text": [
      "Successfully registered model 'arturo-model'.\n",
      "2024/11/21 11:30:15 INFO mlflow.store.model_registry.abstract_store: Waiting up to 300 seconds for model version to finish creation. Model name: arturo-model, version 1\n",
      "Created version '1' of model 'arturo-model'.\n",
      "Registered model 'arturo-model' already exists. Creating a new version of this model...\n",
      "2024/11/21 11:30:16 INFO mlflow.store.model_registry.abstract_store: Waiting up to 300 seconds for model version to finish creation. Model name: arturo-model, version 2\n"
     ]
    },
    {
     "name": "stdout",
     "output_type": "stream",
     "text": [
      "Champion Model: Run ID e4f42c04de4f44d2ba5f149739a943e8, Version 1\n",
      "Challenger Model: Run ID 0bc16ecbae7f4a3bb0295dbc705cfd0a, Version 2\n"
     ]
    },
    {
     "name": "stderr",
     "output_type": "stream",
     "text": [
      "Created version '2' of model 'arturo-model'.\n"
     ]
    }
   ],
   "execution_count": 23
  },
  {
   "metadata": {},
   "cell_type": "code",
   "outputs": [],
   "execution_count": null,
   "source": "",
   "id": "aa669d1ff6368326"
  }
 ],
 "metadata": {
  "kernelspec": {
   "display_name": "Python 3",
   "language": "python",
   "name": "python3"
  },
  "language_info": {
   "codemirror_mode": {
    "name": "ipython",
    "version": 2
   },
   "file_extension": ".py",
   "mimetype": "text/x-python",
   "name": "python",
   "nbconvert_exporter": "python",
   "pygments_lexer": "ipython2",
   "version": "2.7.6"
  }
 },
 "nbformat": 4,
 "nbformat_minor": 5
}
