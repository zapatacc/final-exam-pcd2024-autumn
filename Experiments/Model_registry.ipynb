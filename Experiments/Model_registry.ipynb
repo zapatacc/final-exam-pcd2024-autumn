{
 "cells": [
  {
   "metadata": {},
   "cell_type": "markdown",
   "source": "Importamos las librerias necesarias",
   "id": "1cd0973d12802e68"
  },
  {
   "metadata": {
    "ExecuteTime": {
     "end_time": "2024-11-22T01:19:37.460418Z",
     "start_time": "2024-11-22T01:19:37.432647Z"
    }
   },
   "cell_type": "code",
   "source": [
    "import pandas as pd\n",
    "from sklearn.model_selection import train_test_split, GridSearchCV\n",
    "from sklearn.ensemble import RandomForestClassifier\n",
    "from sklearn.linear_model import LogisticRegression\n",
    "from sklearn.metrics import classification_report, accuracy_score\n",
    "import mlflow\n",
    "import mlflow.sklearn\n",
    "from sklearn.feature_extraction.text import TfidfVectorizer\n",
    "import dagshub\n",
    "from hyperopt import fmin, tpe, hp, Trials, STATUS_OK\n",
    "from hyperopt.pyll.base import scope\n",
    "import pickle\n",
    "import pathlib\n",
    "from mlflow.tracking import MlflowClient"
   ],
   "id": "e41bbbdcbcc21e37",
   "outputs": [],
   "execution_count": 24
  },
  {
   "metadata": {
    "ExecuteTime": {
     "end_time": "2024-11-22T01:19:38.254531Z",
     "start_time": "2024-11-22T01:19:37.943039Z"
    }
   },
   "cell_type": "code",
   "source": "df = pd.read_csv(\"../Data/Clean_data/transformed_data.csv\")",
   "id": "c15a4dbfe3e23107",
   "outputs": [],
   "execution_count": 25
  },
  {
   "metadata": {
    "ExecuteTime": {
     "end_time": "2024-11-22T01:19:38.739600Z",
     "start_time": "2024-11-22T01:19:38.497038Z"
    }
   },
   "cell_type": "code",
   "source": [
    "X = df['complaint_what_happened']  \n",
    "y = df['ticket_classification']  \n",
    "\n",
    "# Dividir los datos en conjunto de entrenamiento y prueba\n",
    "X_train, X_test, y_train, y_test = train_test_split(X, y, test_size=0.2, random_state=42)"
   ],
   "id": "75ffccd65ba88822",
   "outputs": [],
   "execution_count": 26
  },
  {
   "metadata": {
    "ExecuteTime": {
     "end_time": "2024-11-22T01:19:40.900526Z",
     "start_time": "2024-11-22T01:19:39.361322Z"
    }
   },
   "cell_type": "code",
   "source": [
    "vectorizer = TfidfVectorizer(max_features=5000)\n",
    "X_train = vectorizer.fit_transform(X_train)\n",
    "X_test = vectorizer.transform(X_test)"
   ],
   "id": "8f1ae5485a175356",
   "outputs": [],
   "execution_count": 27
  },
  {
   "metadata": {
    "ExecuteTime": {
     "end_time": "2024-11-22T01:19:43.206307Z",
     "start_time": "2024-11-22T01:19:41.787787Z"
    }
   },
   "cell_type": "code",
   "source": [
    "dagshub.init(url=\"https://dagshub.com/zapatacc/final-exam-pcd2024-autumn\", mlflow=True)\n",
    "\n",
    "MLFLOW_TRACKING_URI = mlflow.get_tracking_uri()\n",
    "\n",
    "print(MLFLOW_TRACKING_URI)\n",
    "\n",
    "\n",
    "mlflow.set_tracking_uri(MLFLOW_TRACKING_URI)\n",
    "mlflow.set_experiment(experiment_name=\"arturo-torres-experiment\")"
   ],
   "id": "49732f7d4e361113",
   "outputs": [
    {
     "data": {
      "text/plain": [
       "Initialized MLflow to track repo \u001B[32m\"zapatacc/final-exam-pcd2024-autumn\"\u001B[0m\n"
      ],
      "text/html": [
       "<pre style=\"white-space:pre;overflow-x:auto;line-height:normal;font-family:Menlo,'DejaVu Sans Mono',consolas,'Courier New',monospace\">Initialized MLflow to track repo <span style=\"color: #008000; text-decoration-color: #008000\">\"zapatacc/final-exam-pcd2024-autumn\"</span>\n",
       "</pre>\n"
      ]
     },
     "metadata": {},
     "output_type": "display_data"
    },
    {
     "data": {
      "text/plain": [
       "Repository zapatacc/final-exam-pcd2024-autumn initialized!\n"
      ],
      "text/html": [
       "<pre style=\"white-space:pre;overflow-x:auto;line-height:normal;font-family:Menlo,'DejaVu Sans Mono',consolas,'Courier New',monospace\">Repository zapatacc/final-exam-pcd2024-autumn initialized!\n",
       "</pre>\n"
      ]
     },
     "metadata": {},
     "output_type": "display_data"
    },
    {
     "name": "stdout",
     "output_type": "stream",
     "text": [
      "https://dagshub.com/zapatacc/final-exam-pcd2024-autumn.mlflow\n"
     ]
    },
    {
     "data": {
      "text/plain": [
       "<Experiment: artifact_location='mlflow-artifacts:/6be75566f49a45ea9188daef3c3fa463', creation_time=1732153439189, experiment_id='11', last_update_time=1732153439189, lifecycle_stage='active', name='arturo-torres-experiment', tags={}>"
      ]
     },
     "execution_count": 28,
     "metadata": {},
     "output_type": "execute_result"
    }
   ],
   "execution_count": 28
  },
  {
   "metadata": {
    "ExecuteTime": {
     "end_time": "2024-11-22T01:19:44.575407Z",
     "start_time": "2024-11-22T01:19:44.565988Z"
    }
   },
   "cell_type": "code",
   "source": [
    "def objective_lr(params):\n",
    "    with mlflow.start_run(nested=True):\n",
    "        mlflow.set_tag(\"model_family\", \"LogisticRegression\")\n",
    "        mlflow.log_params(params)\n",
    "        \n",
    "        model = LogisticRegression(**params, random_state=42)\n",
    "        model.fit(X_train, y_train)\n",
    "        \n",
    "        y_pred = model.predict(X_test)\n",
    "        accuracy = accuracy_score(y_test, y_pred)\n",
    "        \n",
    "        mlflow.log_metric(\"accuracy\", accuracy)\n",
    "        mlflow.sklearn.log_model(model, \"model-lr\")\n",
    "    \n",
    "    return {'loss': accuracy, 'status': STATUS_OK}"
   ],
   "id": "6d20395194f79e61",
   "outputs": [],
   "execution_count": 29
  },
  {
   "metadata": {
    "ExecuteTime": {
     "end_time": "2024-11-22T01:19:45.401051Z",
     "start_time": "2024-11-22T01:19:45.388986Z"
    }
   },
   "cell_type": "code",
   "source": [
    "search_space_lr = {\n",
    "    'C': hp.loguniform('C', -4, 2),\n",
    "    'solver': hp.choice('solver', ['liblinear', 'lbfgs'])\n",
    "}"
   ],
   "id": "af6d47c2605bb2a",
   "outputs": [],
   "execution_count": 30
  },
  {
   "metadata": {
    "ExecuteTime": {
     "end_time": "2024-11-22T01:22:05.433692Z",
     "start_time": "2024-11-22T01:19:46.867958Z"
    }
   },
   "cell_type": "code",
   "source": [
    "with mlflow.start_run(run_name=\"LogisticRegression Hyper-parameter Optimization\"):\n",
    "    best_params_lr = fmin(\n",
    "        fn=objective_lr,\n",
    "        space=search_space_lr,\n",
    "        algo=tpe.suggest,\n",
    "        max_evals=10,\n",
    "        trials=Trials()\n",
    "    )\n",
    "    \n",
    "    # Convertir parámetros al formato adecuado\n",
    "    best_params_lr['solver'] = ['liblinear', 'lbfgs'][best_params_lr['solver']]\n",
    "    mlflow.log_params(best_params_lr)\n",
    "\n",
    "    # Entrenar modelo final de Regresión Logística\n",
    "    best_model_lr = LogisticRegression(**best_params_lr, random_state=42)\n",
    "    best_model_lr.fit(X_train, y_train)\n",
    "    \n",
    "    y_pred_lr = best_model_lr.predict(X_test)\n",
    "    accuracy_lr = accuracy_score(y_test, y_pred_lr)\n",
    "    mlflow.log_metric(\"accuracy\", accuracy_lr)"
   ],
   "id": "475365b957be91c4",
   "outputs": [
    {
     "name": "stdout",
     "output_type": "stream",
     "text": [
      "  0%|          | 0/10 [00:00<?, ?trial/s, best loss=?]"
     ]
    },
    {
     "name": "stderr",
     "output_type": "stream",
     "text": [
      "2024/11/21 19:19:56 WARNING mlflow.models.model: Model logged without a signature and input example. Please set `input_example` parameter when logging the model to auto infer the model signature.\n",
      "\n"
     ]
    },
    {
     "name": "stdout",
     "output_type": "stream",
     "text": [
      "🏃 View run skittish-ant-968 at: https://dagshub.com/zapatacc/final-exam-pcd2024-autumn.mlflow/#/experiments/11/runs/9cc74add575c41f99cfc9ce8cc7d72e9\n",
      "\n",
      "🧪 View experiment at: https://dagshub.com/zapatacc/final-exam-pcd2024-autumn.mlflow/#/experiments/11\n",
      "\n",
      " 10%|█         | 1/10 [00:12<01:49, 12.22s/trial, best loss: 0.46752889378095763]"
     ]
    },
    {
     "name": "stderr",
     "output_type": "stream",
     "text": [
      "2024/11/21 19:20:18 WARNING mlflow.models.model: Model logged without a signature and input example. Please set `input_example` parameter when logging the model to auto infer the model signature.\n",
      "\n"
     ]
    },
    {
     "name": "stdout",
     "output_type": "stream",
     "text": [
      "🏃 View run wistful-shrimp-814 at: https://dagshub.com/zapatacc/final-exam-pcd2024-autumn.mlflow/#/experiments/11/runs/6296bb8aa8424114876b37efb25d0442\n",
      "\n",
      "🧪 View experiment at: https://dagshub.com/zapatacc/final-exam-pcd2024-autumn.mlflow/#/experiments/11\n",
      "\n",
      " 20%|██        | 2/10 [00:35<02:30, 18.77s/trial, best loss: 0.46752889378095763]"
     ]
    },
    {
     "name": "stderr",
     "output_type": "stream",
     "text": [
      "2024/11/21 19:20:28 WARNING mlflow.models.model: Model logged without a signature and input example. Please set `input_example` parameter when logging the model to auto infer the model signature.\n",
      "\n"
     ]
    },
    {
     "name": "stdout",
     "output_type": "stream",
     "text": [
      "🏃 View run amusing-grouse-232 at: https://dagshub.com/zapatacc/final-exam-pcd2024-autumn.mlflow/#/experiments/11/runs/18370b59afcd4674870ece856ec6fd0e\n",
      "\n",
      "🧪 View experiment at: https://dagshub.com/zapatacc/final-exam-pcd2024-autumn.mlflow/#/experiments/11\n",
      "\n",
      " 30%|███       | 3/10 [00:44<01:40, 14.43s/trial, best loss: 0.46752889378095763]"
     ]
    },
    {
     "name": "stderr",
     "output_type": "stream",
     "text": [
      "2024/11/21 19:20:40 WARNING mlflow.models.model: Model logged without a signature and input example. Please set `input_example` parameter when logging the model to auto infer the model signature.\n",
      "\n"
     ]
    },
    {
     "name": "stdout",
     "output_type": "stream",
     "text": [
      "🏃 View run unique-asp-777 at: https://dagshub.com/zapatacc/final-exam-pcd2024-autumn.mlflow/#/experiments/11/runs/1ece69a5c75447ff912ae9797faf8a31\n",
      "\n",
      "🧪 View experiment at: https://dagshub.com/zapatacc/final-exam-pcd2024-autumn.mlflow/#/experiments/11\n",
      "\n",
      " 40%|████      | 4/10 [00:56<01:19, 13.28s/trial, best loss: 0.46752889378095763]"
     ]
    },
    {
     "name": "stderr",
     "output_type": "stream",
     "text": [
      "2024/11/21 19:20:51 WARNING mlflow.models.model: Model logged without a signature and input example. Please set `input_example` parameter when logging the model to auto infer the model signature.\n",
      "\n"
     ]
    },
    {
     "name": "stdout",
     "output_type": "stream",
     "text": [
      "🏃 View run abrasive-foal-357 at: https://dagshub.com/zapatacc/final-exam-pcd2024-autumn.mlflow/#/experiments/11/runs/fb16b781361149aca5b2448cbc3868e6\n",
      "\n",
      "🧪 View experiment at: https://dagshub.com/zapatacc/final-exam-pcd2024-autumn.mlflow/#/experiments/11\n",
      "\n",
      " 50%|█████     | 5/10 [01:08<01:04, 12.83s/trial, best loss: 0.46752889378095763]"
     ]
    },
    {
     "name": "stderr",
     "output_type": "stream",
     "text": [
      "2024/11/21 19:21:04 WARNING mlflow.models.model: Model logged without a signature and input example. Please set `input_example` parameter when logging the model to auto infer the model signature.\n",
      "\n"
     ]
    },
    {
     "name": "stdout",
     "output_type": "stream",
     "text": [
      "🏃 View run overjoyed-roo-107 at: https://dagshub.com/zapatacc/final-exam-pcd2024-autumn.mlflow/#/experiments/11/runs/556d77bb200244c2b784d2da892023d3\n",
      "\n",
      "🧪 View experiment at: https://dagshub.com/zapatacc/final-exam-pcd2024-autumn.mlflow/#/experiments/11\n",
      "\n",
      " 60%|██████    | 6/10 [01:21<00:51, 12.89s/trial, best loss: 0.46752889378095763]"
     ]
    },
    {
     "name": "stderr",
     "output_type": "stream",
     "text": [
      "2024/11/21 19:21:24 WARNING mlflow.models.model: Model logged without a signature and input example. Please set `input_example` parameter when logging the model to auto infer the model signature.\n",
      "\n"
     ]
    },
    {
     "name": "stdout",
     "output_type": "stream",
     "text": [
      "🏃 View run sedate-wolf-318 at: https://dagshub.com/zapatacc/final-exam-pcd2024-autumn.mlflow/#/experiments/11/runs/85a60532fd4c4cb9b4eeafdba5b1ca39\n",
      "\n",
      "🧪 View experiment at: https://dagshub.com/zapatacc/final-exam-pcd2024-autumn.mlflow/#/experiments/11\n",
      "\n",
      " 70%|███████   | 7/10 [01:40<00:44, 14.83s/trial, best loss: 0.46752889378095763]"
     ]
    },
    {
     "name": "stderr",
     "output_type": "stream",
     "text": [
      "2024/11/21 19:21:34 WARNING mlflow.models.model: Model logged without a signature and input example. Please set `input_example` parameter when logging the model to auto infer the model signature.\n",
      "\n"
     ]
    },
    {
     "name": "stdout",
     "output_type": "stream",
     "text": [
      "🏃 View run luxuriant-foal-78 at: https://dagshub.com/zapatacc/final-exam-pcd2024-autumn.mlflow/#/experiments/11/runs/d5d2164358414e169b99d6a500d1a3f0\n",
      "\n",
      "🧪 View experiment at: https://dagshub.com/zapatacc/final-exam-pcd2024-autumn.mlflow/#/experiments/11\n",
      "\n",
      " 80%|████████  | 8/10 [01:50<00:26, 13.48s/trial, best loss: 0.46752889378095763]"
     ]
    },
    {
     "name": "stderr",
     "output_type": "stream",
     "text": [
      "2024/11/21 19:21:44 WARNING mlflow.models.model: Model logged without a signature and input example. Please set `input_example` parameter when logging the model to auto infer the model signature.\n",
      "\n"
     ]
    },
    {
     "name": "stdout",
     "output_type": "stream",
     "text": [
      "🏃 View run puzzled-ape-716 at: https://dagshub.com/zapatacc/final-exam-pcd2024-autumn.mlflow/#/experiments/11/runs/1c5e828fd18d4c309058740f426a2579\n",
      "\n",
      "🧪 View experiment at: https://dagshub.com/zapatacc/final-exam-pcd2024-autumn.mlflow/#/experiments/11\n",
      "\n",
      " 90%|█████████ | 9/10 [02:01<00:12, 12.51s/trial, best loss: 0.46752889378095763]"
     ]
    },
    {
     "name": "stderr",
     "output_type": "stream",
     "text": [
      "2024/11/21 19:21:57 WARNING mlflow.models.model: Model logged without a signature and input example. Please set `input_example` parameter when logging the model to auto infer the model signature.\n",
      "\n"
     ]
    },
    {
     "name": "stdout",
     "output_type": "stream",
     "text": [
      "🏃 View run dazzling-stork-812 at: https://dagshub.com/zapatacc/final-exam-pcd2024-autumn.mlflow/#/experiments/11/runs/2fb8712e739246079678f3afaf85d1a7\n",
      "\n",
      "🧪 View experiment at: https://dagshub.com/zapatacc/final-exam-pcd2024-autumn.mlflow/#/experiments/11\n",
      "\n",
      "100%|██████████| 10/10 [02:14<00:00, 13.42s/trial, best loss: 0.46752889378095763]\n",
      "🏃 View run LogisticRegression Hyper-parameter Optimization at: https://dagshub.com/zapatacc/final-exam-pcd2024-autumn.mlflow/#/experiments/11/runs/fd1a0a3a8b0649dfb1f299bc17c052c7\n",
      "🧪 View experiment at: https://dagshub.com/zapatacc/final-exam-pcd2024-autumn.mlflow/#/experiments/11\n"
     ]
    }
   ],
   "execution_count": 31
  },
  {
   "metadata": {
    "ExecuteTime": {
     "end_time": "2024-11-22T01:23:00.205820Z",
     "start_time": "2024-11-22T01:23:00.186335Z"
    }
   },
   "cell_type": "code",
   "source": [
    "def objective_rf(params):\n",
    "    with mlflow.start_run(nested=True):\n",
    "        mlflow.set_tag(\"model_family\", \"RandomForest\")\n",
    "        mlflow.log_params(params)\n",
    "        \n",
    "        model = RandomForestClassifier(**params, random_state=42)\n",
    "        model.fit(X_train, y_train)\n",
    "        \n",
    "        y_pred = model.predict(X_test)\n",
    "        accuracy = accuracy_score(y_test, y_pred)\n",
    "        \n",
    "        mlflow.log_metric(\"accuracy\", accuracy)\n",
    "        mlflow.sklearn.log_model(model, artifact_path=\"model-rf\")\n",
    "    \n",
    "    return {'loss': -accuracy, 'status': STATUS_OK}"
   ],
   "id": "708ead4b6970627d",
   "outputs": [],
   "execution_count": 32
  },
  {
   "metadata": {
    "ExecuteTime": {
     "end_time": "2024-11-22T01:23:00.582762Z",
     "start_time": "2024-11-22T01:23:00.575763Z"
    }
   },
   "cell_type": "code",
   "source": [
    "search_space_rf = {\n",
    "    'n_estimators': scope.int(hp.quniform('n_estimators', 100, 500, 1)),\n",
    "    'max_depth': scope.int(hp.quniform('max_depth', 5, 50, 1)),\n",
    "    'min_samples_split': scope.int(hp.quniform('min_samples_split', 2, 10, 1)),\n",
    "    'min_samples_leaf': scope.int(hp.quniform('min_samples_leaf', 1, 4, 1)),\n",
    "    'bootstrap': hp.choice('bootstrap', [True, False])\n",
    "}\n"
   ],
   "id": "5831e3b7364c55a5",
   "outputs": [],
   "execution_count": 33
  },
  {
   "metadata": {
    "ExecuteTime": {
     "end_time": "2024-11-22T01:40:32.420034Z",
     "start_time": "2024-11-22T01:23:01.314295Z"
    }
   },
   "cell_type": "code",
   "source": [
    "with mlflow.start_run(run_name=\"RandomForest Hyper-parameter Optimization\"):\n",
    "    best_params_rf = fmin(\n",
    "        fn=objective_rf,\n",
    "        space=search_space_rf,\n",
    "        algo=tpe.suggest,\n",
    "        max_evals=10,\n",
    "        trials=Trials()\n",
    "    )\n",
    "    \n",
    "    # Convertir parámetros al formato adecuado\n",
    "    best_params_rf['n_estimators'] = int(best_params_rf['n_estimators'])\n",
    "    best_params_rf['max_depth'] = int(best_params_rf['max_depth'])\n",
    "    best_params_rf['min_samples_split'] = int(best_params_rf['min_samples_split'])\n",
    "    best_params_rf['min_samples_leaf'] = int(best_params_rf['min_samples_leaf'])\n",
    "    best_params_rf['bootstrap'] = bool(best_params_rf['bootstrap'])\n",
    "    mlflow.log_params(best_params_rf)\n",
    "\n",
    "    # Entrenar modelo final de Random Forest\n",
    "    best_model_rf = RandomForestClassifier(**best_params_rf, random_state=42)\n",
    "    best_model_rf.fit(X_train, y_train)\n",
    "    \n",
    "    y_pred_rf = best_model_rf.predict(X_test)\n",
    "    accuracy_rf = accuracy_score(y_test, y_pred_rf)\n",
    "    mlflow.log_metric(\"accuracy\", accuracy_rf)\n"
   ],
   "id": "fb1b2471a5e68910",
   "outputs": [
    {
     "name": "stdout",
     "output_type": "stream",
     "text": [
      "  0%|          | 0/10 [00:00<?, ?trial/s, best loss=?]"
     ]
    },
    {
     "name": "stderr",
     "output_type": "stream",
     "text": [
      "2024/11/21 19:24:10 WARNING mlflow.models.model: Model logged without a signature and input example. Please set `input_example` parameter when logging the model to auto infer the model signature.\n",
      "\n"
     ]
    },
    {
     "name": "stdout",
     "output_type": "stream",
     "text": [
      "🏃 View run amazing-elk-916 at: https://dagshub.com/zapatacc/final-exam-pcd2024-autumn.mlflow/#/experiments/11/runs/b620a6b810154dfeb12692c59b020b00\n",
      "\n",
      "🧪 View experiment at: https://dagshub.com/zapatacc/final-exam-pcd2024-autumn.mlflow/#/experiments/11\n",
      "\n",
      " 10%|█         | 1/10 [04:15<38:18, 255.42s/trial, best loss: -0.5553109521188773]"
     ]
    },
    {
     "name": "stderr",
     "output_type": "stream",
     "text": [
      "2024/11/21 19:27:47 WARNING mlflow.models.model: Model logged without a signature and input example. Please set `input_example` parameter when logging the model to auto infer the model signature.\n",
      "\n"
     ]
    },
    {
     "name": "stdout",
     "output_type": "stream",
     "text": [
      "🏃 View run tasteful-grouse-518 at: https://dagshub.com/zapatacc/final-exam-pcd2024-autumn.mlflow/#/experiments/11/runs/7b94977984fa42018d3fb60e3265d2d2\n",
      "\n",
      "🧪 View experiment at: https://dagshub.com/zapatacc/final-exam-pcd2024-autumn.mlflow/#/experiments/11\n",
      "\n",
      " 20%|██        | 2/10 [05:38<20:34, 154.26s/trial, best loss: -0.5553109521188773]"
     ]
    },
    {
     "name": "stderr",
     "output_type": "stream",
     "text": [
      "2024/11/21 19:29:12 WARNING mlflow.models.model: Model logged without a signature and input example. Please set `input_example` parameter when logging the model to auto infer the model signature.\n",
      "\n"
     ]
    },
    {
     "name": "stdout",
     "output_type": "stream",
     "text": [
      "🏃 View run delightful-auk-44 at: https://dagshub.com/zapatacc/final-exam-pcd2024-autumn.mlflow/#/experiments/11/runs/d1087c80bd09478e8eb67f7d7acee99e\n",
      "\n",
      "🧪 View experiment at: https://dagshub.com/zapatacc/final-exam-pcd2024-autumn.mlflow/#/experiments/11\n",
      "\n",
      " 30%|███       | 3/10 [07:13<14:48, 126.99s/trial, best loss: -0.5553109521188773]"
     ]
    },
    {
     "name": "stderr",
     "output_type": "stream",
     "text": [
      "2024/11/21 19:30:42 WARNING mlflow.models.model: Model logged without a signature and input example. Please set `input_example` parameter when logging the model to auto infer the model signature.\n",
      "\n"
     ]
    },
    {
     "name": "stdout",
     "output_type": "stream",
     "text": [
      "🏃 View run gregarious-hound-190 at: https://dagshub.com/zapatacc/final-exam-pcd2024-autumn.mlflow/#/experiments/11/runs/e25a484b82124cbd805e8e2476c91185\n",
      "\n",
      "🧪 View experiment at: https://dagshub.com/zapatacc/final-exam-pcd2024-autumn.mlflow/#/experiments/11\n",
      "\n",
      " 40%|████      | 4/10 [08:26<10:33, 105.63s/trial, best loss: -0.5553109521188773]"
     ]
    },
    {
     "name": "stderr",
     "output_type": "stream",
     "text": [
      "2024/11/21 19:31:34 WARNING mlflow.models.model: Model logged without a signature and input example. Please set `input_example` parameter when logging the model to auto infer the model signature.\n",
      "\n"
     ]
    },
    {
     "name": "stdout",
     "output_type": "stream",
     "text": [
      "🏃 View run placid-perch-679 at: https://dagshub.com/zapatacc/final-exam-pcd2024-autumn.mlflow/#/experiments/11/runs/6d2c4c6f55b34f5a98ff9063636f50d4\n",
      "\n",
      "🧪 View experiment at: https://dagshub.com/zapatacc/final-exam-pcd2024-autumn.mlflow/#/experiments/11\n",
      "\n",
      " 50%|█████     | 5/10 [08:36<05:56, 71.22s/trial, best loss: -0.5553109521188773] "
     ]
    },
    {
     "name": "stderr",
     "output_type": "stream",
     "text": [
      "2024/11/21 19:32:25 WARNING mlflow.models.model: Model logged without a signature and input example. Please set `input_example` parameter when logging the model to auto infer the model signature.\n",
      "\n"
     ]
    },
    {
     "name": "stdout",
     "output_type": "stream",
     "text": [
      "🏃 View run youthful-ape-994 at: https://dagshub.com/zapatacc/final-exam-pcd2024-autumn.mlflow/#/experiments/11/runs/d10950bd8c97434c907c76eacc8ef3b3\n",
      "\n",
      "🧪 View experiment at: https://dagshub.com/zapatacc/final-exam-pcd2024-autumn.mlflow/#/experiments/11\n",
      "\n",
      " 60%|██████    | 6/10 [11:00<06:23, 95.82s/trial, best loss: -0.5575123830489819]"
     ]
    },
    {
     "name": "stderr",
     "output_type": "stream",
     "text": [
      "2024/11/21 19:34:26 WARNING mlflow.models.model: Model logged without a signature and input example. Please set `input_example` parameter when logging the model to auto infer the model signature.\n",
      "\n"
     ]
    },
    {
     "name": "stdout",
     "output_type": "stream",
     "text": [
      "🏃 View run masked-wolf-360 at: https://dagshub.com/zapatacc/final-exam-pcd2024-autumn.mlflow/#/experiments/11/runs/a6e9fd8fe5f24c0d8832b973f6a81ff3\n",
      "\n",
      "🧪 View experiment at: https://dagshub.com/zapatacc/final-exam-pcd2024-autumn.mlflow/#/experiments/11\n",
      "\n",
      " 70%|███████   | 7/10 [12:07<04:19, 86.64s/trial, best loss: -0.5575123830489819]"
     ]
    },
    {
     "name": "stderr",
     "output_type": "stream",
     "text": [
      "2024/11/21 19:35:20 WARNING mlflow.models.model: Model logged without a signature and input example. Please set `input_example` parameter when logging the model to auto infer the model signature.\n",
      "\n"
     ]
    },
    {
     "name": "stdout",
     "output_type": "stream",
     "text": [
      "🏃 View run painted-hawk-701 at: https://dagshub.com/zapatacc/final-exam-pcd2024-autumn.mlflow/#/experiments/11/runs/13bee2110d1d4fdbaec207d883900ffb\n",
      "\n",
      "🧪 View experiment at: https://dagshub.com/zapatacc/final-exam-pcd2024-autumn.mlflow/#/experiments/11\n",
      "\n",
      " 80%|████████  | 8/10 [12:30<02:12, 66.33s/trial, best loss: -0.5575123830489819]"
     ]
    },
    {
     "name": "stderr",
     "output_type": "stream",
     "text": [
      "2024/11/21 19:36:56 WARNING mlflow.models.model: Model logged without a signature and input example. Please set `input_example` parameter when logging the model to auto infer the model signature.\n",
      "\n"
     ]
    },
    {
     "name": "stdout",
     "output_type": "stream",
     "text": [
      "🏃 View run zealous-grouse-845 at: https://dagshub.com/zapatacc/final-exam-pcd2024-autumn.mlflow/#/experiments/11/runs/cfa67592a9044d248d89ee19e8508c06\n",
      "\n",
      "🧪 View experiment at: https://dagshub.com/zapatacc/final-exam-pcd2024-autumn.mlflow/#/experiments/11\n",
      "\n",
      " 90%|█████████ | 9/10 [16:10<01:54, 114.32s/trial, best loss: -0.5588882773802972]"
     ]
    },
    {
     "name": "stderr",
     "output_type": "stream",
     "text": [
      "2024/11/21 19:39:24 WARNING mlflow.models.model: Model logged without a signature and input example. Please set `input_example` parameter when logging the model to auto infer the model signature.\n",
      "\n"
     ]
    },
    {
     "name": "stdout",
     "output_type": "stream",
     "text": [
      "🏃 View run colorful-yak-385 at: https://dagshub.com/zapatacc/final-exam-pcd2024-autumn.mlflow/#/experiments/11/runs/4863e9b9c53f4291abba7404f30dcaf9\n",
      "\n",
      "🧪 View experiment at: https://dagshub.com/zapatacc/final-exam-pcd2024-autumn.mlflow/#/experiments/11\n",
      "\n",
      "100%|██████████| 10/10 [16:42<00:00, 100.26s/trial, best loss: -0.5588882773802972]\n",
      "🏃 View run RandomForest Hyper-parameter Optimization at: https://dagshub.com/zapatacc/final-exam-pcd2024-autumn.mlflow/#/experiments/11/runs/6b149b2d302d448f99edd4834f3caf68\n",
      "🧪 View experiment at: https://dagshub.com/zapatacc/final-exam-pcd2024-autumn.mlflow/#/experiments/11\n"
     ]
    }
   ],
   "execution_count": 34
  },
  {
   "metadata": {},
   "cell_type": "markdown",
   "source": "No me gustaron los resultados del grid search así que probare la regresión logistica sin gridsearch",
   "id": "9de92565004ff476"
  },
  {
   "metadata": {
    "ExecuteTime": {
     "end_time": "2024-11-22T01:40:44.875290Z",
     "start_time": "2024-11-22T01:40:32.435196Z"
    }
   },
   "cell_type": "code",
   "source": [
    "with mlflow.start_run(run_name='LogisticRegression_NoTunning'):\n",
    "    mlflow.set_tag(\"model_family\", \"LogisticRegression\")\n",
    "    model = LogisticRegression(max_iter=2000)\n",
    "    model.fit(X_train, y_train)\n",
    "        \n",
    "    y_pred = model.predict(X_test)\n",
    "    accuracy = accuracy_score(y_test, y_pred)\n",
    "        \n",
    "    mlflow.log_metric(\"accuracy\", accuracy)\n",
    "    \n",
    "    \n",
    "    mlflow.sklearn.log_model(model, 'model-lr-wt')\n",
    "    \n",
    "    print(f\"Accuracy: {accuracy}\")"
   ],
   "id": "c5f2c4127813d8a0",
   "outputs": [
    {
     "name": "stderr",
     "output_type": "stream",
     "text": [
      "2024/11/21 19:40:41 WARNING mlflow.models.model: Model logged without a signature and input example. Please set `input_example` parameter when logging the model to auto infer the model signature.\n"
     ]
    },
    {
     "name": "stdout",
     "output_type": "stream",
     "text": [
      "Accuracy: 0.596587782058338\n",
      "🏃 View run LogisticRegression_NoTunning at: https://dagshub.com/zapatacc/final-exam-pcd2024-autumn.mlflow/#/experiments/11/runs/4c23cde78c834f1d9f5232e53d11883e\n",
      "🧪 View experiment at: https://dagshub.com/zapatacc/final-exam-pcd2024-autumn.mlflow/#/experiments/11\n"
     ]
    }
   ],
   "execution_count": 35
  },
  {
   "metadata": {},
   "cell_type": "markdown",
   "source": "Ya con todos los experimentos hechos, pasamos a la fase en la que elegimos los 2 mejores experimentos para que se conviertan en los modelos champion y challenger",
   "id": "755ff071f236505d"
  },
  {
   "metadata": {
    "ExecuteTime": {
     "end_time": "2024-11-22T01:40:54.892376Z",
     "start_time": "2024-11-22T01:40:52.350593Z"
    }
   },
   "cell_type": "code",
   "source": [
    "from mlflow.tracking import MlflowClient\n",
    "\n",
    "\n",
    "client = MlflowClient()\n",
    "\n",
    "# Declaramos el experimento en el que estamos trabajando\n",
    "experiment_name = \"arturo-torres-experiment\"\n",
    "\n",
    "\n",
    "experiment = client.get_experiment_by_name(experiment_name)\n",
    "\n",
    "# Buscamos las dos mejores ejecuciones en base al accuracy\n",
    "top_runs = mlflow.search_runs(\n",
    "    experiment_ids=[experiment.experiment_id],\n",
    "    order_by=[\"metrics.accuracy DESC\"],  # Cambia a ASC si buscas minimizar\n",
    "    max_results=2  # Recuperar las dos mejores\n",
    ")\n",
    "\n",
    "# Obtenemos los IDs de las mejores ejecuciones\n",
    "champion_run = top_runs.iloc[0]\n",
    "challenger_run = top_runs.iloc[1]\n",
    "\n",
    "# Obtenemos los IDs de las ejecuciones\n",
    "champion_run_id = champion_run.run_id\n",
    "challenger_run_id = challenger_run.run_id\n",
    "\n",
    "champion_model_uri = f\"runs:/{champion_run_id}/model\"\n",
    "challenger_model_uri = f\"runs:/{challenger_run_id}/model\"\n",
    "\n",
    "# Declaramos el nombre del modelo registrado\n",
    "model_name = \"arturo-model\"\n",
    "\n",
    "# Registramos el Champion\n",
    "champion_model_version = mlflow.register_model(champion_model_uri, model_name)\n",
    "client.set_registered_model_alias(model_name, \"champion\", champion_model_version.version)\n",
    "\n",
    "# Registramos el Challenger\n",
    "challenger_model_version = mlflow.register_model(challenger_model_uri, model_name)\n",
    "client.set_registered_model_alias(model_name, \"challenger\", challenger_model_version.version)\n",
    "\n",
    "# Imprimimos resultados\n",
    "print(f\"Champion Model: Run ID {champion_run_id}, Version {champion_model_version.version}\")\n",
    "print(f\"Challenger Model: Run ID {challenger_run_id}, Version {challenger_model_version.version}\")"
   ],
   "id": "fbb287cbfa4a177b",
   "outputs": [
    {
     "name": "stderr",
     "output_type": "stream",
     "text": [
      "Successfully registered model 'arturo-model'.\n",
      "2024/11/21 19:40:53 INFO mlflow.store.model_registry.abstract_store: Waiting up to 300 seconds for model version to finish creation. Model name: arturo-model, version 1\n",
      "Created version '1' of model 'arturo-model'.\n",
      "Registered model 'arturo-model' already exists. Creating a new version of this model...\n",
      "2024/11/21 19:40:54 INFO mlflow.store.model_registry.abstract_store: Waiting up to 300 seconds for model version to finish creation. Model name: arturo-model, version 2\n",
      "Created version '2' of model 'arturo-model'.\n"
     ]
    },
    {
     "name": "stdout",
     "output_type": "stream",
     "text": [
      "Champion Model: Run ID e4f42c04de4f44d2ba5f149739a943e8, Version 1\n",
      "Challenger Model: Run ID 2fb8712e739246079678f3afaf85d1a7, Version 2\n"
     ]
    }
   ],
   "execution_count": 36
  },
  {
   "metadata": {},
   "cell_type": "code",
   "outputs": [],
   "execution_count": null,
   "source": "",
   "id": "aa669d1ff6368326"
  }
 ],
 "metadata": {
  "kernelspec": {
   "display_name": "Python 3",
   "language": "python",
   "name": "python3"
  },
  "language_info": {
   "codemirror_mode": {
    "name": "ipython",
    "version": 2
   },
   "file_extension": ".py",
   "mimetype": "text/x-python",
   "name": "python",
   "nbconvert_exporter": "python",
   "pygments_lexer": "ipython2",
   "version": "2.7.6"
  }
 },
 "nbformat": 4,
 "nbformat_minor": 5
}
