{
 "cells": [
  {
   "cell_type": "markdown",
   "source": [
    "## Entrenamiento, validación, evaluación y selección del modelo usando mlflow"
   ],
   "metadata": {
    "collapsed": false
   },
   "id": "28e84dc51206b3c9"
  },
  {
   "cell_type": "code",
   "outputs": [],
   "source": [
    "from sklearn.model_selection import train_test_split, GridSearchCV\n",
    "from sklearn.ensemble import RandomForestClassifier\n",
    "from sklearn.linear_model import LogisticRegression\n",
    "from sklearn.metrics import accuracy_score, classification_report\n",
    "import pandas as pd\n"
   ],
   "metadata": {
    "collapsed": false,
    "ExecuteTime": {
     "end_time": "2024-11-21T01:50:09.459625200Z",
     "start_time": "2024-11-21T01:50:06.799238200Z"
    }
   },
   "id": "e6458b5daca9d269",
   "execution_count": 6
  },
  {
   "cell_type": "code",
   "outputs": [],
   "source": [
    "import mlflow\n",
    "import mlflow.sklearn"
   ],
   "metadata": {
    "collapsed": false
   },
   "id": "f68a97548f3e5eb5"
  },
  {
   "cell_type": "code",
   "outputs": [],
   "source": [
    "# Ruta \n",
    "file_path = \"../data/processed/tickets_cleaned.csv\"\n",
    "df = pd.read_csv(file_path)\n"
   ],
   "metadata": {
    "collapsed": false,
    "ExecuteTime": {
     "end_time": "2024-11-21T17:33:36.681687900Z",
     "start_time": "2024-11-21T17:33:36.384540200Z"
    }
   },
   "id": "e5cc779cb81936ed",
   "execution_count": 15
  },
  {
   "cell_type": "code",
   "outputs": [
    {
     "data": {
      "text/plain": "                                 complaint_what_happened  \\\n0      Good morning my name is XXXX XXXX and I apprec...   \n1      I upgraded my XXXX XXXX card in XX/XX/2018 and...   \n2      Chase Card was reported on XX/XX/2019. However...   \n3      On XX/XX/2018, while trying to book a XXXX  XX...   \n4      my grand son give me check for {$1600.00} i de...   \n...                                                  ...   \n18958  My husband passed away. Chase bank put check o...   \n18959  After being a Chase Card customer for well ove...   \n18960  On Wednesday, XX/XX/XXXX I called Chas, my XXX...   \n18961  I am not familiar with XXXX pay and did not un...   \n18962  I have had flawless credit for 30 yrs. I've ha...   \n\n                                   ticket_classification  \n0                     Debt collection + Credit card debt  \n1      Credit card or prepaid card + General-purpose ...  \n2      Credit reporting, credit repair services, or o...  \n3      Credit reporting, credit repair services, or o...  \n4         Checking or savings account + Checking account  \n...                                                  ...  \n18958     Checking or savings account + Checking account  \n18959  Credit card or prepaid card + General-purpose ...  \n18960  Credit card or prepaid card + General-purpose ...  \n18961     Checking or savings account + Checking account  \n18962  Credit card or prepaid card + General-purpose ...  \n\n[18963 rows x 2 columns]",
      "text/html": "<div>\n<style scoped>\n    .dataframe tbody tr th:only-of-type {\n        vertical-align: middle;\n    }\n\n    .dataframe tbody tr th {\n        vertical-align: top;\n    }\n\n    .dataframe thead th {\n        text-align: right;\n    }\n</style>\n<table border=\"1\" class=\"dataframe\">\n  <thead>\n    <tr style=\"text-align: right;\">\n      <th></th>\n      <th>complaint_what_happened</th>\n      <th>ticket_classification</th>\n    </tr>\n  </thead>\n  <tbody>\n    <tr>\n      <th>0</th>\n      <td>Good morning my name is XXXX XXXX and I apprec...</td>\n      <td>Debt collection + Credit card debt</td>\n    </tr>\n    <tr>\n      <th>1</th>\n      <td>I upgraded my XXXX XXXX card in XX/XX/2018 and...</td>\n      <td>Credit card or prepaid card + General-purpose ...</td>\n    </tr>\n    <tr>\n      <th>2</th>\n      <td>Chase Card was reported on XX/XX/2019. However...</td>\n      <td>Credit reporting, credit repair services, or o...</td>\n    </tr>\n    <tr>\n      <th>3</th>\n      <td>On XX/XX/2018, while trying to book a XXXX  XX...</td>\n      <td>Credit reporting, credit repair services, or o...</td>\n    </tr>\n    <tr>\n      <th>4</th>\n      <td>my grand son give me check for {$1600.00} i de...</td>\n      <td>Checking or savings account + Checking account</td>\n    </tr>\n    <tr>\n      <th>...</th>\n      <td>...</td>\n      <td>...</td>\n    </tr>\n    <tr>\n      <th>18958</th>\n      <td>My husband passed away. Chase bank put check o...</td>\n      <td>Checking or savings account + Checking account</td>\n    </tr>\n    <tr>\n      <th>18959</th>\n      <td>After being a Chase Card customer for well ove...</td>\n      <td>Credit card or prepaid card + General-purpose ...</td>\n    </tr>\n    <tr>\n      <th>18960</th>\n      <td>On Wednesday, XX/XX/XXXX I called Chas, my XXX...</td>\n      <td>Credit card or prepaid card + General-purpose ...</td>\n    </tr>\n    <tr>\n      <th>18961</th>\n      <td>I am not familiar with XXXX pay and did not un...</td>\n      <td>Checking or savings account + Checking account</td>\n    </tr>\n    <tr>\n      <th>18962</th>\n      <td>I have had flawless credit for 30 yrs. I've ha...</td>\n      <td>Credit card or prepaid card + General-purpose ...</td>\n    </tr>\n  </tbody>\n</table>\n<p>18963 rows × 2 columns</p>\n</div>"
     },
     "execution_count": 16,
     "metadata": {},
     "output_type": "execute_result"
    }
   ],
   "source": [
    "df"
   ],
   "metadata": {
    "collapsed": false,
    "ExecuteTime": {
     "end_time": "2024-11-21T17:33:41.640157100Z",
     "start_time": "2024-11-21T17:33:41.610115300Z"
    }
   },
   "id": "cbf6b75ff8af23d4",
   "execution_count": 16
  },
  {
   "cell_type": "code",
   "outputs": [],
   "source": [
    "# Dividir el DataFrame en X (características) e y (etiqueta)\n",
    "X = df[\"complaint_what_happened\"] \n",
    "y = df[\"ticket_classification\"]\n",
    "\n",
    "# Dividir en conjuntos de entrenamiento y prueba\n",
    "X_train, X_test, y_train, y_test = train_test_split(X, y, test_size=0.2, random_state=42)"
   ],
   "metadata": {
    "collapsed": false,
    "ExecuteTime": {
     "end_time": "2024-11-21T17:34:11.705124100Z",
     "start_time": "2024-11-21T17:34:11.688086600Z"
    }
   },
   "id": "1b07cf9c793326bd",
   "execution_count": 17
  },
  {
   "cell_type": "markdown",
   "source": [
    "### Definir los Modelos y Experimentos"
   ],
   "metadata": {
    "collapsed": false
   },
   "id": "7c5bdbd9d309f80c"
  },
  {
   "cell_type": "code",
   "outputs": [],
   "source": [
    "import dagshub\n",
    "import mlflow\n",
    "dagshub.init(url=\"https://dagshub.com/zapatacc/final-exam-pcd2024-autumn\", mlflow=True)\n",
    "\n",
    "MLFLOW_TRACKING_URI = mlflow.get_tracking_uri()\n",
    "\n",
    "print(MLFLOW_TRACKING_URI)\n",
    "\n",
    "mlflow.set_tracking_uri(MLFLOW_TRACKING_URI)\n",
    "mlflow.set_experiment(experiment_name=\"Tinoco-experiment-Randomforest\")"
   ],
   "metadata": {
    "collapsed": false
   },
   "id": "5a596d6d3c94d728"
  },
  {
   "cell_type": "code",
   "outputs": [],
   "source": [],
   "metadata": {
    "collapsed": false
   },
   "id": "82080825f13b0d5"
  }
 ],
 "metadata": {
  "kernelspec": {
   "display_name": "Python 3",
   "language": "python",
   "name": "python3"
  },
  "language_info": {
   "codemirror_mode": {
    "name": "ipython",
    "version": 2
   },
   "file_extension": ".py",
   "mimetype": "text/x-python",
   "name": "python",
   "nbconvert_exporter": "python",
   "pygments_lexer": "ipython2",
   "version": "2.7.6"
  }
 },
 "nbformat": 4,
 "nbformat_minor": 5
}
