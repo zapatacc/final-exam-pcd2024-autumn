{
 "cells": [
  {
   "cell_type": "markdown",
   "id": "28e84dc51206b3c9",
   "metadata": {
    "collapsed": false
   },
   "source": [
    "## Entrenamiento, validación, evaluación y selección del modelo usando mlflow"
   ]
  },
  {
   "cell_type": "code",
   "execution_count": 2,
   "id": "2cacc7a8-1f66-4a0f-a67f-5d018c20e537",
   "metadata": {
    "ExecuteTime": {
     "end_time": "2024-11-22T21:14:31.717769600Z",
     "start_time": "2024-11-22T21:14:28.148085Z"
    }
   },
   "outputs": [],
   "source": [
    "import pandas as pd\n",
    "import numpy as np\n",
    "from sklearn.feature_extraction.text import TfidfVectorizer\n",
    "from sklearn.ensemble import RandomForestClassifier\n",
    "from sklearn.model_selection import train_test_split, GridSearchCV\n",
    "from sklearn.metrics import classification_report, accuracy_score\n",
    "import dagshub\n",
    "from hyperopt import fmin, tpe, hp, STATUS_OK, Trials"
   ]
  },
  {
   "cell_type": "code",
   "execution_count": 7,
   "id": "f68a97548f3e5eb5",
   "metadata": {
    "collapsed": false,
    "ExecuteTime": {
     "end_time": "2024-11-22T21:21:02.215884800Z",
     "start_time": "2024-11-22T21:20:43.570609600Z"
    }
   },
   "outputs": [],
   "source": [
    "import mlflow\n",
    "import mlflow.sklearn"
   ]
  },
  {
   "cell_type": "code",
   "execution_count": 3,
   "id": "e5cc779cb81936ed",
   "metadata": {
    "collapsed": false,
    "ExecuteTime": {
     "end_time": "2024-11-22T21:14:34.860058600Z",
     "start_time": "2024-11-22T21:14:34.647990300Z"
    }
   },
   "outputs": [],
   "source": [
    "# Ruta \n",
    "file_path = \"../data/processed/tickets_cleaned.csv\"\n",
    "df = pd.read_csv(file_path)\n"
   ]
  },
  {
   "cell_type": "code",
   "execution_count": 4,
   "id": "cbf6b75ff8af23d4",
   "metadata": {
    "collapsed": false,
    "ExecuteTime": {
     "end_time": "2024-11-22T21:14:36.363788400Z",
     "start_time": "2024-11-22T21:14:36.341082400Z"
    }
   },
   "outputs": [
    {
     "data": {
      "text/plain": "                                 complaint_what_happened  \\\n0      good morning name appreciate could help put st...   \n1      upgraded card //2018 told agent upgrade annive...   \n2      chase card reported //2019 . however , fraudul...   \n3      //2018 , trying book ticket , came across offe...   \n4      grand son give check { $ 1600.00 } deposit cha...   \n...                                                  ...   \n18958  husband passed away . chase bank put check hol...   \n18959  chase card customer well decade , offered mult...   \n18960  wednesday , // called chas , visa credit card ...   \n18961  familiar pay understand great risk provides co...   \n18962  flawless credit 30 yrs . 've chase credit card...   \n\n                                   ticket_classification  \n0                     Debt collection + Credit card debt  \n1      Credit card or prepaid card + General-purpose ...  \n2      Credit reporting, credit repair services, or o...  \n3      Credit reporting, credit repair services, or o...  \n4         Checking or savings account + Checking account  \n...                                                  ...  \n18958     Checking or savings account + Checking account  \n18959  Credit card or prepaid card + General-purpose ...  \n18960  Credit card or prepaid card + General-purpose ...  \n18961     Checking or savings account + Checking account  \n18962  Credit card or prepaid card + General-purpose ...  \n\n[18963 rows x 2 columns]",
      "text/html": "<div>\n<style scoped>\n    .dataframe tbody tr th:only-of-type {\n        vertical-align: middle;\n    }\n\n    .dataframe tbody tr th {\n        vertical-align: top;\n    }\n\n    .dataframe thead th {\n        text-align: right;\n    }\n</style>\n<table border=\"1\" class=\"dataframe\">\n  <thead>\n    <tr style=\"text-align: right;\">\n      <th></th>\n      <th>complaint_what_happened</th>\n      <th>ticket_classification</th>\n    </tr>\n  </thead>\n  <tbody>\n    <tr>\n      <th>0</th>\n      <td>good morning name appreciate could help put st...</td>\n      <td>Debt collection + Credit card debt</td>\n    </tr>\n    <tr>\n      <th>1</th>\n      <td>upgraded card //2018 told agent upgrade annive...</td>\n      <td>Credit card or prepaid card + General-purpose ...</td>\n    </tr>\n    <tr>\n      <th>2</th>\n      <td>chase card reported //2019 . however , fraudul...</td>\n      <td>Credit reporting, credit repair services, or o...</td>\n    </tr>\n    <tr>\n      <th>3</th>\n      <td>//2018 , trying book ticket , came across offe...</td>\n      <td>Credit reporting, credit repair services, or o...</td>\n    </tr>\n    <tr>\n      <th>4</th>\n      <td>grand son give check { $ 1600.00 } deposit cha...</td>\n      <td>Checking or savings account + Checking account</td>\n    </tr>\n    <tr>\n      <th>...</th>\n      <td>...</td>\n      <td>...</td>\n    </tr>\n    <tr>\n      <th>18958</th>\n      <td>husband passed away . chase bank put check hol...</td>\n      <td>Checking or savings account + Checking account</td>\n    </tr>\n    <tr>\n      <th>18959</th>\n      <td>chase card customer well decade , offered mult...</td>\n      <td>Credit card or prepaid card + General-purpose ...</td>\n    </tr>\n    <tr>\n      <th>18960</th>\n      <td>wednesday , // called chas , visa credit card ...</td>\n      <td>Credit card or prepaid card + General-purpose ...</td>\n    </tr>\n    <tr>\n      <th>18961</th>\n      <td>familiar pay understand great risk provides co...</td>\n      <td>Checking or savings account + Checking account</td>\n    </tr>\n    <tr>\n      <th>18962</th>\n      <td>flawless credit 30 yrs . 've chase credit card...</td>\n      <td>Credit card or prepaid card + General-purpose ...</td>\n    </tr>\n  </tbody>\n</table>\n<p>18963 rows × 2 columns</p>\n</div>"
     },
     "execution_count": 4,
     "metadata": {},
     "output_type": "execute_result"
    }
   ],
   "source": [
    "df"
   ]
  },
  {
   "cell_type": "code",
   "execution_count": 8,
   "id": "1b07cf9c793326bd",
   "metadata": {
    "collapsed": false,
    "ExecuteTime": {
     "end_time": "2024-11-22T21:21:05.586260300Z",
     "start_time": "2024-11-22T21:21:05.567487700Z"
    }
   },
   "outputs": [],
   "source": [
    "# Dividir el Df\n",
    "X = df[\"complaint_what_happened\"] \n",
    "y = df[\"ticket_classification\"]"
   ]
  },
  {
   "cell_type": "markdown",
   "id": "7c5bdbd9d309f80c",
   "metadata": {
    "collapsed": false
   },
   "source": [
    "### Definir los Modelos y Experimentos"
   ]
  },
  {
   "cell_type": "code",
   "execution_count": 10,
   "id": "5a596d6d3c94d728",
   "metadata": {
    "collapsed": false,
    "ExecuteTime": {
     "end_time": "2024-11-22T21:21:35.545323700Z",
     "start_time": "2024-11-22T21:21:34.567876800Z"
    }
   },
   "outputs": [
    {
     "data": {
      "text/plain": "Initialized MLflow to track repo \u001B[32m\"zapatacc/final-exam-pcd2024-autumn\"\u001B[0m\n",
      "text/html": "<pre style=\"white-space:pre;overflow-x:auto;line-height:normal;font-family:Menlo,'DejaVu Sans Mono',consolas,'Courier New',monospace\">Initialized MLflow to track repo <span style=\"color: #008000; text-decoration-color: #008000\">\"zapatacc/final-exam-pcd2024-autumn\"</span>\n</pre>\n"
     },
     "metadata": {},
     "output_type": "display_data"
    },
    {
     "data": {
      "text/plain": "Repository zapatacc/final-exam-pcd2024-autumn initialized!\n",
      "text/html": "<pre style=\"white-space:pre;overflow-x:auto;line-height:normal;font-family:Menlo,'DejaVu Sans Mono',consolas,'Courier New',monospace\">Repository zapatacc/final-exam-pcd2024-autumn initialized!\n</pre>\n"
     },
     "metadata": {},
     "output_type": "display_data"
    },
    {
     "name": "stdout",
     "output_type": "stream",
     "text": [
      "https://dagshub.com/zapatacc/final-exam-pcd2024-autumn.mlflow\n"
     ]
    }
   ],
   "source": [
    "dagshub.init(url=\"https://dagshub.com/zapatacc/final-exam-pcd2024-autumn\", mlflow=True)\n",
    "\n",
    "MLFLOW_TRACKING_URI = mlflow.get_tracking_uri()\n",
    "print(MLFLOW_TRACKING_URI)"
   ]
  },
  {
   "cell_type": "code",
   "execution_count": 11,
   "id": "82080825f13b0d5",
   "metadata": {
    "collapsed": false,
    "ExecuteTime": {
     "end_time": "2024-11-22T21:21:40.749937100Z",
     "start_time": "2024-11-22T21:21:38.863198900Z"
    }
   },
   "outputs": [
    {
     "name": "stderr",
     "output_type": "stream",
     "text": [
      "2024/11/22 15:21:39 INFO mlflow.tracking.fluent: Experiment with name 'Tinoco-RandomForest-prefect' does not exist. Creating a new experiment.\n"
     ]
    },
    {
     "data": {
      "text/plain": "<Experiment: artifact_location='mlflow-artifacts:/3af24886fbed4b2f9b29660d4e196769', creation_time=1732310500912, experiment_id='46', last_update_time=1732310500912, lifecycle_stage='active', name='Tinoco-RandomForest-prefect', tags={}>"
     },
     "execution_count": 11,
     "metadata": {},
     "output_type": "execute_result"
    }
   ],
   "source": [
    "mlflow.set_tracking_uri(MLFLOW_TRACKING_URI)\n",
    "mlflow.set_experiment(experiment_name=\"Tinoco-RandomForest-prefect\")"
   ]
  },
  {
   "cell_type": "markdown",
   "id": "0a7bd47f-0617-4b82-a21a-92bc6a1b9728",
   "metadata": {},
   "source": [
    "# Transformar los datos usando TF-IDF"
   ]
  },
  {
   "cell_type": "code",
   "execution_count": 12,
   "id": "20c3c358-fbf2-413f-ad1d-621bfc261413",
   "metadata": {
    "ExecuteTime": {
     "end_time": "2024-11-22T21:21:47.381399700Z",
     "start_time": "2024-11-22T21:21:45.790920600Z"
    }
   },
   "outputs": [],
   "source": [
    "X_train, X_test, y_train, y_test = train_test_split(X, y, test_size=0.2, random_state=42)"
   ]
  },
  {
   "cell_type": "code",
   "execution_count": 13,
   "id": "7564bbb1-dbdb-4cdb-8d7f-d622596e7fa8",
   "metadata": {
    "ExecuteTime": {
     "end_time": "2024-11-22T21:21:51.358832200Z",
     "start_time": "2024-11-22T21:21:48.942318600Z"
    }
   },
   "outputs": [],
   "source": [
    "# Vectorización del texto\n",
    "tfidf = TfidfVectorizer(max_features=5000)  \n",
    "X_train_tfidf = tfidf.fit_transform(X_train)\n",
    "X_test_tfidf = tfidf.transform(X_test)"
   ]
  },
  {
   "cell_type": "markdown",
   "id": "a52d1527-83dc-4df8-937b-44ca5b6cb02b",
   "metadata": {},
   "source": [
    "### Entrenamineto y optimización "
   ]
  },
  {
   "cell_type": "code",
   "execution_count": 14,
   "id": "dbf19fbe-ecfc-4e81-9c3d-787a68816c6c",
   "metadata": {
    "ExecuteTime": {
     "end_time": "2024-11-22T00:19:27.646447700Z",
     "start_time": "2024-11-22T00:18:09.351751900Z"
    }
   },
   "outputs": [
    {
     "data": {
      "text/plain": "RandomForestClassifier(random_state=42)",
      "text/html": "<style>#sk-container-id-1 {\n  /* Definition of color scheme common for light and dark mode */\n  --sklearn-color-text: black;\n  --sklearn-color-line: gray;\n  /* Definition of color scheme for unfitted estimators */\n  --sklearn-color-unfitted-level-0: #fff5e6;\n  --sklearn-color-unfitted-level-1: #f6e4d2;\n  --sklearn-color-unfitted-level-2: #ffe0b3;\n  --sklearn-color-unfitted-level-3: chocolate;\n  /* Definition of color scheme for fitted estimators */\n  --sklearn-color-fitted-level-0: #f0f8ff;\n  --sklearn-color-fitted-level-1: #d4ebff;\n  --sklearn-color-fitted-level-2: #b3dbfd;\n  --sklearn-color-fitted-level-3: cornflowerblue;\n\n  /* Specific color for light theme */\n  --sklearn-color-text-on-default-background: var(--sg-text-color, var(--theme-code-foreground, var(--jp-content-font-color1, black)));\n  --sklearn-color-background: var(--sg-background-color, var(--theme-background, var(--jp-layout-color0, white)));\n  --sklearn-color-border-box: var(--sg-text-color, var(--theme-code-foreground, var(--jp-content-font-color1, black)));\n  --sklearn-color-icon: #696969;\n\n  @media (prefers-color-scheme: dark) {\n    /* Redefinition of color scheme for dark theme */\n    --sklearn-color-text-on-default-background: var(--sg-text-color, var(--theme-code-foreground, var(--jp-content-font-color1, white)));\n    --sklearn-color-background: var(--sg-background-color, var(--theme-background, var(--jp-layout-color0, #111)));\n    --sklearn-color-border-box: var(--sg-text-color, var(--theme-code-foreground, var(--jp-content-font-color1, white)));\n    --sklearn-color-icon: #878787;\n  }\n}\n\n#sk-container-id-1 {\n  color: var(--sklearn-color-text);\n}\n\n#sk-container-id-1 pre {\n  padding: 0;\n}\n\n#sk-container-id-1 input.sk-hidden--visually {\n  border: 0;\n  clip: rect(1px 1px 1px 1px);\n  clip: rect(1px, 1px, 1px, 1px);\n  height: 1px;\n  margin: -1px;\n  overflow: hidden;\n  padding: 0;\n  position: absolute;\n  width: 1px;\n}\n\n#sk-container-id-1 div.sk-dashed-wrapped {\n  border: 1px dashed var(--sklearn-color-line);\n  margin: 0 0.4em 0.5em 0.4em;\n  box-sizing: border-box;\n  padding-bottom: 0.4em;\n  background-color: var(--sklearn-color-background);\n}\n\n#sk-container-id-1 div.sk-container {\n  /* jupyter's `normalize.less` sets `[hidden] { display: none; }`\n     but bootstrap.min.css set `[hidden] { display: none !important; }`\n     so we also need the `!important` here to be able to override the\n     default hidden behavior on the sphinx rendered scikit-learn.org.\n     See: https://github.com/scikit-learn/scikit-learn/issues/21755 */\n  display: inline-block !important;\n  position: relative;\n}\n\n#sk-container-id-1 div.sk-text-repr-fallback {\n  display: none;\n}\n\ndiv.sk-parallel-item,\ndiv.sk-serial,\ndiv.sk-item {\n  /* draw centered vertical line to link estimators */\n  background-image: linear-gradient(var(--sklearn-color-text-on-default-background), var(--sklearn-color-text-on-default-background));\n  background-size: 2px 100%;\n  background-repeat: no-repeat;\n  background-position: center center;\n}\n\n/* Parallel-specific style estimator block */\n\n#sk-container-id-1 div.sk-parallel-item::after {\n  content: \"\";\n  width: 100%;\n  border-bottom: 2px solid var(--sklearn-color-text-on-default-background);\n  flex-grow: 1;\n}\n\n#sk-container-id-1 div.sk-parallel {\n  display: flex;\n  align-items: stretch;\n  justify-content: center;\n  background-color: var(--sklearn-color-background);\n  position: relative;\n}\n\n#sk-container-id-1 div.sk-parallel-item {\n  display: flex;\n  flex-direction: column;\n}\n\n#sk-container-id-1 div.sk-parallel-item:first-child::after {\n  align-self: flex-end;\n  width: 50%;\n}\n\n#sk-container-id-1 div.sk-parallel-item:last-child::after {\n  align-self: flex-start;\n  width: 50%;\n}\n\n#sk-container-id-1 div.sk-parallel-item:only-child::after {\n  width: 0;\n}\n\n/* Serial-specific style estimator block */\n\n#sk-container-id-1 div.sk-serial {\n  display: flex;\n  flex-direction: column;\n  align-items: center;\n  background-color: var(--sklearn-color-background);\n  padding-right: 1em;\n  padding-left: 1em;\n}\n\n\n/* Toggleable style: style used for estimator/Pipeline/ColumnTransformer box that is\nclickable and can be expanded/collapsed.\n- Pipeline and ColumnTransformer use this feature and define the default style\n- Estimators will overwrite some part of the style using the `sk-estimator` class\n*/\n\n/* Pipeline and ColumnTransformer style (default) */\n\n#sk-container-id-1 div.sk-toggleable {\n  /* Default theme specific background. It is overwritten whether we have a\n  specific estimator or a Pipeline/ColumnTransformer */\n  background-color: var(--sklearn-color-background);\n}\n\n/* Toggleable label */\n#sk-container-id-1 label.sk-toggleable__label {\n  cursor: pointer;\n  display: block;\n  width: 100%;\n  margin-bottom: 0;\n  padding: 0.5em;\n  box-sizing: border-box;\n  text-align: center;\n}\n\n#sk-container-id-1 label.sk-toggleable__label-arrow:before {\n  /* Arrow on the left of the label */\n  content: \"▸\";\n  float: left;\n  margin-right: 0.25em;\n  color: var(--sklearn-color-icon);\n}\n\n#sk-container-id-1 label.sk-toggleable__label-arrow:hover:before {\n  color: var(--sklearn-color-text);\n}\n\n/* Toggleable content - dropdown */\n\n#sk-container-id-1 div.sk-toggleable__content {\n  max-height: 0;\n  max-width: 0;\n  overflow: hidden;\n  text-align: left;\n  /* unfitted */\n  background-color: var(--sklearn-color-unfitted-level-0);\n}\n\n#sk-container-id-1 div.sk-toggleable__content.fitted {\n  /* fitted */\n  background-color: var(--sklearn-color-fitted-level-0);\n}\n\n#sk-container-id-1 div.sk-toggleable__content pre {\n  margin: 0.2em;\n  border-radius: 0.25em;\n  color: var(--sklearn-color-text);\n  /* unfitted */\n  background-color: var(--sklearn-color-unfitted-level-0);\n}\n\n#sk-container-id-1 div.sk-toggleable__content.fitted pre {\n  /* unfitted */\n  background-color: var(--sklearn-color-fitted-level-0);\n}\n\n#sk-container-id-1 input.sk-toggleable__control:checked~div.sk-toggleable__content {\n  /* Expand drop-down */\n  max-height: 200px;\n  max-width: 100%;\n  overflow: auto;\n}\n\n#sk-container-id-1 input.sk-toggleable__control:checked~label.sk-toggleable__label-arrow:before {\n  content: \"▾\";\n}\n\n/* Pipeline/ColumnTransformer-specific style */\n\n#sk-container-id-1 div.sk-label input.sk-toggleable__control:checked~label.sk-toggleable__label {\n  color: var(--sklearn-color-text);\n  background-color: var(--sklearn-color-unfitted-level-2);\n}\n\n#sk-container-id-1 div.sk-label.fitted input.sk-toggleable__control:checked~label.sk-toggleable__label {\n  background-color: var(--sklearn-color-fitted-level-2);\n}\n\n/* Estimator-specific style */\n\n/* Colorize estimator box */\n#sk-container-id-1 div.sk-estimator input.sk-toggleable__control:checked~label.sk-toggleable__label {\n  /* unfitted */\n  background-color: var(--sklearn-color-unfitted-level-2);\n}\n\n#sk-container-id-1 div.sk-estimator.fitted input.sk-toggleable__control:checked~label.sk-toggleable__label {\n  /* fitted */\n  background-color: var(--sklearn-color-fitted-level-2);\n}\n\n#sk-container-id-1 div.sk-label label.sk-toggleable__label,\n#sk-container-id-1 div.sk-label label {\n  /* The background is the default theme color */\n  color: var(--sklearn-color-text-on-default-background);\n}\n\n/* On hover, darken the color of the background */\n#sk-container-id-1 div.sk-label:hover label.sk-toggleable__label {\n  color: var(--sklearn-color-text);\n  background-color: var(--sklearn-color-unfitted-level-2);\n}\n\n/* Label box, darken color on hover, fitted */\n#sk-container-id-1 div.sk-label.fitted:hover label.sk-toggleable__label.fitted {\n  color: var(--sklearn-color-text);\n  background-color: var(--sklearn-color-fitted-level-2);\n}\n\n/* Estimator label */\n\n#sk-container-id-1 div.sk-label label {\n  font-family: monospace;\n  font-weight: bold;\n  display: inline-block;\n  line-height: 1.2em;\n}\n\n#sk-container-id-1 div.sk-label-container {\n  text-align: center;\n}\n\n/* Estimator-specific */\n#sk-container-id-1 div.sk-estimator {\n  font-family: monospace;\n  border: 1px dotted var(--sklearn-color-border-box);\n  border-radius: 0.25em;\n  box-sizing: border-box;\n  margin-bottom: 0.5em;\n  /* unfitted */\n  background-color: var(--sklearn-color-unfitted-level-0);\n}\n\n#sk-container-id-1 div.sk-estimator.fitted {\n  /* fitted */\n  background-color: var(--sklearn-color-fitted-level-0);\n}\n\n/* on hover */\n#sk-container-id-1 div.sk-estimator:hover {\n  /* unfitted */\n  background-color: var(--sklearn-color-unfitted-level-2);\n}\n\n#sk-container-id-1 div.sk-estimator.fitted:hover {\n  /* fitted */\n  background-color: var(--sklearn-color-fitted-level-2);\n}\n\n/* Specification for estimator info (e.g. \"i\" and \"?\") */\n\n/* Common style for \"i\" and \"?\" */\n\n.sk-estimator-doc-link,\na:link.sk-estimator-doc-link,\na:visited.sk-estimator-doc-link {\n  float: right;\n  font-size: smaller;\n  line-height: 1em;\n  font-family: monospace;\n  background-color: var(--sklearn-color-background);\n  border-radius: 1em;\n  height: 1em;\n  width: 1em;\n  text-decoration: none !important;\n  margin-left: 1ex;\n  /* unfitted */\n  border: var(--sklearn-color-unfitted-level-1) 1pt solid;\n  color: var(--sklearn-color-unfitted-level-1);\n}\n\n.sk-estimator-doc-link.fitted,\na:link.sk-estimator-doc-link.fitted,\na:visited.sk-estimator-doc-link.fitted {\n  /* fitted */\n  border: var(--sklearn-color-fitted-level-1) 1pt solid;\n  color: var(--sklearn-color-fitted-level-1);\n}\n\n/* On hover */\ndiv.sk-estimator:hover .sk-estimator-doc-link:hover,\n.sk-estimator-doc-link:hover,\ndiv.sk-label-container:hover .sk-estimator-doc-link:hover,\n.sk-estimator-doc-link:hover {\n  /* unfitted */\n  background-color: var(--sklearn-color-unfitted-level-3);\n  color: var(--sklearn-color-background);\n  text-decoration: none;\n}\n\ndiv.sk-estimator.fitted:hover .sk-estimator-doc-link.fitted:hover,\n.sk-estimator-doc-link.fitted:hover,\ndiv.sk-label-container:hover .sk-estimator-doc-link.fitted:hover,\n.sk-estimator-doc-link.fitted:hover {\n  /* fitted */\n  background-color: var(--sklearn-color-fitted-level-3);\n  color: var(--sklearn-color-background);\n  text-decoration: none;\n}\n\n/* Span, style for the box shown on hovering the info icon */\n.sk-estimator-doc-link span {\n  display: none;\n  z-index: 9999;\n  position: relative;\n  font-weight: normal;\n  right: .2ex;\n  padding: .5ex;\n  margin: .5ex;\n  width: min-content;\n  min-width: 20ex;\n  max-width: 50ex;\n  color: var(--sklearn-color-text);\n  box-shadow: 2pt 2pt 4pt #999;\n  /* unfitted */\n  background: var(--sklearn-color-unfitted-level-0);\n  border: .5pt solid var(--sklearn-color-unfitted-level-3);\n}\n\n.sk-estimator-doc-link.fitted span {\n  /* fitted */\n  background: var(--sklearn-color-fitted-level-0);\n  border: var(--sklearn-color-fitted-level-3);\n}\n\n.sk-estimator-doc-link:hover span {\n  display: block;\n}\n\n/* \"?\"-specific style due to the `<a>` HTML tag */\n\n#sk-container-id-1 a.estimator_doc_link {\n  float: right;\n  font-size: 1rem;\n  line-height: 1em;\n  font-family: monospace;\n  background-color: var(--sklearn-color-background);\n  border-radius: 1rem;\n  height: 1rem;\n  width: 1rem;\n  text-decoration: none;\n  /* unfitted */\n  color: var(--sklearn-color-unfitted-level-1);\n  border: var(--sklearn-color-unfitted-level-1) 1pt solid;\n}\n\n#sk-container-id-1 a.estimator_doc_link.fitted {\n  /* fitted */\n  border: var(--sklearn-color-fitted-level-1) 1pt solid;\n  color: var(--sklearn-color-fitted-level-1);\n}\n\n/* On hover */\n#sk-container-id-1 a.estimator_doc_link:hover {\n  /* unfitted */\n  background-color: var(--sklearn-color-unfitted-level-3);\n  color: var(--sklearn-color-background);\n  text-decoration: none;\n}\n\n#sk-container-id-1 a.estimator_doc_link.fitted:hover {\n  /* fitted */\n  background-color: var(--sklearn-color-fitted-level-3);\n}\n</style><div id=\"sk-container-id-1\" class=\"sk-top-container\"><div class=\"sk-text-repr-fallback\"><pre>RandomForestClassifier(random_state=42)</pre><b>In a Jupyter environment, please rerun this cell to show the HTML representation or trust the notebook. <br />On GitHub, the HTML representation is unable to render, please try loading this page with nbviewer.org.</b></div><div class=\"sk-container\" hidden><div class=\"sk-item\"><div class=\"sk-estimator fitted sk-toggleable\"><input class=\"sk-toggleable__control sk-hidden--visually\" id=\"sk-estimator-id-1\" type=\"checkbox\" checked><label for=\"sk-estimator-id-1\" class=\"sk-toggleable__label fitted sk-toggleable__label-arrow fitted\">&nbsp;&nbsp;RandomForestClassifier<a class=\"sk-estimator-doc-link fitted\" rel=\"noreferrer\" target=\"_blank\" href=\"https://scikit-learn.org/1.5/modules/generated/sklearn.ensemble.RandomForestClassifier.html\">?<span>Documentation for RandomForestClassifier</span></a><span class=\"sk-estimator-doc-link fitted\">i<span>Fitted</span></span></label><div class=\"sk-toggleable__content fitted\"><pre>RandomForestClassifier(random_state=42)</pre></div> </div></div></div></div>"
     },
     "execution_count": 14,
     "metadata": {},
     "output_type": "execute_result"
    }
   ],
   "source": [
    "## Modelo base (sencillo)\n",
    "rf = RandomForestClassifier(random_state=42)\n",
    "\n",
    "# Entrenar el modelo\n",
    "rf.fit(X_train_tfidf, y_train)"
   ]
  },
  {
   "cell_type": "code",
   "execution_count": 15,
   "id": "cc725fc5-25a6-441a-9b9b-f933666a98ab",
   "metadata": {
    "ExecuteTime": {
     "end_time": "2024-11-22T00:21:55.144782200Z",
     "start_time": "2024-11-22T00:21:54.568891900Z"
    }
   },
   "outputs": [
    {
     "name": "stdout",
     "output_type": "stream",
     "text": [
      "Reporte de clasificación para el modelo base:\n"
     ]
    },
    {
     "name": "stderr",
     "output_type": "stream",
     "text": [
      "C:\\Users\\Francisco\\PycharmProjects\\final-exam-pcd2024-autumn\\.venv\\Lib\\site-packages\\sklearn\\metrics\\_classification.py:1531: UndefinedMetricWarning: Precision is ill-defined and being set to 0.0 in labels with no predicted samples. Use `zero_division` parameter to control this behavior.\n",
      "  _warn_prf(average, modifier, f\"{metric.capitalize()} is\", len(result))\n"
     ]
    },
    {
     "name": "stdout",
     "output_type": "stream",
     "text": [
      "                                                                                                               precision    recall  f1-score   support\n",
      "\n",
      "                                                        Bank account or service + (CD) Certificate of deposit       0.00      0.00      0.00         3\n",
      "                                                 Bank account or service + Cashing a check without an account       0.00      0.00      0.00         7\n",
      "                                                                   Bank account or service + Checking account       0.57      0.02      0.04       217\n",
      "                                                         Bank account or service + Other bank product/service       0.00      0.00      0.00        55\n",
      "                                                                    Bank account or service + Savings account       0.00      0.00      0.00        17\n",
      "                                                    Checking or savings account + CD (Certificate of Deposit)       0.00      0.00      0.00         5\n",
      "                                                               Checking or savings account + Checking account       0.52      0.88      0.65       788\n",
      "                                               Checking or savings account + Other banking product or service       0.00      0.00      0.00        36\n",
      "                                                                Checking or savings account + Savings account       1.00      0.06      0.11        35\n",
      "                                                                             Consumer Loan + Installment loan       0.00      0.00      0.00         8\n",
      "                                                                                    Consumer Loan + Pawn loan       0.00      0.00      0.00         1\n",
      "                                                                                   Consumer Loan + Title loan       0.00      0.00      0.00         1\n",
      "                                                                                Consumer Loan + Vehicle lease       0.00      0.00      0.00         7\n",
      "                                                                                 Consumer Loan + Vehicle loan       1.00      0.09      0.17        32\n",
      "                                     Credit card or prepaid card + General-purpose credit card or charge card       0.62      0.92      0.74       969\n",
      "                                                   Credit card or prepaid card + General-purpose prepaid card       1.00      0.08      0.15        12\n",
      "                                                                      Credit card or prepaid card + Gift card       0.00      0.00      0.00         2\n",
      "                                                        Credit card or prepaid card + Government benefit card       0.00      0.00      0.00         3\n",
      "                                                                   Credit card or prepaid card + Payroll card       0.00      0.00      0.00         1\n",
      "                                                              Credit card or prepaid card + Store credit card       0.00      0.00      0.00        14\n",
      "        Credit reporting, credit repair services, or other personal consumer reports + Credit repair services       0.00      0.00      0.00         1\n",
      "              Credit reporting, credit repair services, or other personal consumer reports + Credit reporting       0.60      0.72      0.66       389\n",
      "Credit reporting, credit repair services, or other personal consumer reports + Other personal consumer report       1.00      0.18      0.31        11\n",
      "                                                                                       Debt collection + Auto       0.00      0.00      0.00         1\n",
      "                                                                                Debt collection + Credit card       0.67      0.04      0.08        46\n",
      "                                                                           Debt collection + Credit card debt       0.82      0.10      0.17        92\n",
      "                                                                              Debt collection + I do not know       1.00      0.06      0.11        17\n",
      "                                                                                   Debt collection + Mortgage       0.00      0.00      0.00         9\n",
      "                                                                              Debt collection + Mortgage debt       1.00      0.11      0.20        18\n",
      "                                                                   Debt collection + Non-federal student loan       0.00      0.00      0.00         1\n",
      "                                                      Debt collection + Other (i.e. phone, health club, etc.)       0.00      0.00      0.00         4\n",
      "                                                                                 Debt collection + Other debt       0.00      0.00      0.00         6\n",
      "                                                                                Debt collection + Payday loan       0.00      0.00      0.00         1\n",
      "                                   Money transfer, virtual currency, or money service + Check cashing service       0.00      0.00      0.00         2\n",
      "                            Money transfer, virtual currency, or money service + Domestic (US) money transfer       0.67      0.03      0.06        61\n",
      "                               Money transfer, virtual currency, or money service + Foreign currency exchange       0.00      0.00      0.00         4\n",
      "                            Money transfer, virtual currency, or money service + International money transfer       0.00      0.00      0.00        29\n",
      "                                Money transfer, virtual currency, or money service + Mobile or digital wallet       0.00      0.00      0.00        39\n",
      "                                             Money transfer, virtual currency, or money service + Money order       0.00      0.00      0.00         4\n",
      "                     Money transfer, virtual currency, or money service + Traveler's check or cashier's check       0.00      0.00      0.00         8\n",
      "                                        Money transfer, virtual currency, or money service + Virtual currency       0.00      0.00      0.00         8\n",
      "                                                               Money transfers + Domestic (US) money transfer       0.00      0.00      0.00         4\n",
      "                                                               Money transfers + International money transfer       0.00      0.00      0.00         5\n",
      "                                                            Mortgage + Conventional adjustable mortgage (ARM)       1.00      0.03      0.06        60\n",
      "                                                                       Mortgage + Conventional fixed mortgage       0.35      0.33      0.34       171\n",
      "                                                                        Mortgage + Conventional home mortgage       0.36      0.45      0.40       235\n",
      "                                                                                      Mortgage + FHA mortgage       0.58      0.22      0.32        87\n",
      "                                                                Mortgage + Home equity loan or line of credit       0.00      0.00      0.00        27\n",
      "                                                        Mortgage + Home equity loan or line of credit (HELOC)       0.00      0.00      0.00        30\n",
      "                                                                                    Mortgage + Other mortgage       0.00      0.00      0.00        38\n",
      "                                                                            Mortgage + Other type of mortgage       1.00      0.05      0.10        20\n",
      "                                                                                  Mortgage + Reverse mortgage       0.00      0.00      0.00         2\n",
      "                                                                                       Mortgage + VA mortgage       0.00      0.00      0.00        13\n",
      "                                                                        Other financial service + Money order       0.00      0.00      0.00         1\n",
      "                                                        Other financial service + Traveler’s/Cashier’s checks       0.00      0.00      0.00         1\n",
      "                                                 Payday loan, title loan, or personal loan + Installment loan       0.00      0.00      0.00         6\n",
      "                                          Payday loan, title loan, or personal loan + Personal line of credit       0.00      0.00      0.00         6\n",
      "                                                       Payday loan, title loan, or personal loan + Title loan       0.00      0.00      0.00         2\n",
      "                                                               Prepaid card + Government benefit payment card       0.00      0.00      0.00         1\n",
      "                                                                Student loan + Federal student loan servicing       0.00      0.00      0.00         2\n",
      "                                                                      Student loan + Non-federal student loan       1.00      0.28      0.43        29\n",
      "                                                                          Student loan + Private student loan       0.00      0.00      0.00         9\n",
      "                                                                                Vehicle loan or lease + Lease       0.00      0.00      0.00        22\n",
      "                                                                                 Vehicle loan or lease + Loan       0.77      0.17      0.28        58\n",
      "\n",
      "                                                                                                     accuracy                           0.55      3793\n",
      "                                                                                                    macro avg       0.24      0.08      0.08      3793\n",
      "                                                                                                 weighted avg       0.52      0.55      0.46      3793\n"
     ]
    },
    {
     "name": "stderr",
     "output_type": "stream",
     "text": [
      "C:\\Users\\Francisco\\PycharmProjects\\final-exam-pcd2024-autumn\\.venv\\Lib\\site-packages\\sklearn\\metrics\\_classification.py:1531: UndefinedMetricWarning: Precision is ill-defined and being set to 0.0 in labels with no predicted samples. Use `zero_division` parameter to control this behavior.\n",
      "  _warn_prf(average, modifier, f\"{metric.capitalize()} is\", len(result))\n",
      "C:\\Users\\Francisco\\PycharmProjects\\final-exam-pcd2024-autumn\\.venv\\Lib\\site-packages\\sklearn\\metrics\\_classification.py:1531: UndefinedMetricWarning: Precision is ill-defined and being set to 0.0 in labels with no predicted samples. Use `zero_division` parameter to control this behavior.\n",
      "  _warn_prf(average, modifier, f\"{metric.capitalize()} is\", len(result))\n"
     ]
    }
   ],
   "source": [
    "y_pred = rf.predict(X_test_tfidf)\n",
    "print(\"Reporte de clasificación para el modelo base:\")\n",
    "print(classification_report(y_test, y_pred))"
   ]
  },
  {
   "cell_type": "code",
   "outputs": [],
   "source": [
    "########## intento 2"
   ],
   "metadata": {
    "collapsed": false,
    "ExecuteTime": {
     "end_time": "2024-11-22T00:35:10.592622900Z",
     "start_time": "2024-11-22T00:35:10.581019700Z"
    }
   },
   "id": "2b4a782bed7d3d9f",
   "execution_count": 18
  },
  {
   "cell_type": "code",
   "outputs": [],
   "source": [
    "import mlflow\n",
    "import mlflow.sklearn\n",
    "from hyperopt import fmin, tpe, hp, Trials\n",
    "from sklearn.feature_extraction.text import TfidfVectorizer\n",
    "from sklearn.model_selection import train_test_split\n",
    "from sklearn.ensemble import RandomForestClassifier\n",
    "from sklearn.metrics import accuracy_score\n",
    "\n",
    "# Dividir el conjunto de datos\n",
    "tfidf_vectorizer = TfidfVectorizer(max_features=5000, stop_words='english')\n",
    "X = tfidf_vectorizer.fit_transform(df['complaint_what_happened'])\n",
    "y = df['ticket_classification']\n",
    "\n",
    "X_train, X_test, y_train, y_test = train_test_split(X, y, test_size=0.2, random_state=42)\n"
   ],
   "metadata": {
    "collapsed": false,
    "ExecuteTime": {
     "end_time": "2024-11-22T03:00:58.606494200Z",
     "start_time": "2024-11-22T03:00:55.668626300Z"
    }
   },
   "id": "8fb1d2e827ae6274",
   "execution_count": 10
  },
  {
   "cell_type": "code",
   "outputs": [],
   "source": [
    "# Definir el espacio de búsqueda de hiperparámetros\n",
    "search_space_rf = {\n",
    "    'n_estimators': hp.choice('n_estimators', range(50, 301, 50)),\n",
    "    'max_depth': hp.choice('max_depth', range(5, 31, 5)),\n",
    "    'min_samples_split': hp.uniform('min_samples_split', 0.01, 0.5),\n",
    "    'min_samples_leaf': hp.uniform('min_samples_leaf', 0.01, 0.5),\n",
    "}\n"
   ],
   "metadata": {
    "collapsed": false,
    "ExecuteTime": {
     "end_time": "2024-11-22T03:01:02.717791400Z",
     "start_time": "2024-11-22T03:01:02.706383200Z"
    }
   },
   "id": "d65514a5a053a931",
   "execution_count": 11
  },
  {
   "cell_type": "code",
   "outputs": [],
   "source": [
    "# Definir la función objetivo\n",
    "def objective_rf(params):\n",
    "    with mlflow.start_run(nested=True):\n",
    "        # Crear el modelo con los parámetros actuales\n",
    "        rf_model = RandomForestClassifier(\n",
    "            n_estimators=int(params['n_estimators']),\n",
    "            max_depth=int(params['max_depth']),\n",
    "            min_samples_split=params['min_samples_split'],\n",
    "            min_samples_leaf=params['min_samples_leaf'],\n",
    "            random_state=42\n",
    "        )\n",
    "        \n",
    "        # Entrenar el modelo\n",
    "        rf_model.fit(X_train, y_train)\n",
    "        \n",
    "        # Evaluar en el conjunto de prueba\n",
    "        y_pred = rf_model.predict(X_test)\n",
    "        accuracy = accuracy_score(y_test, y_pred)\n",
    "        \n",
    "        # Loggear los parámetros y métricas en MLflow\n",
    "        mlflow.log_params(params)\n",
    "        mlflow.log_metric(\"accuracy\", accuracy)\n",
    "        \n",
    "        # Retornar el negativo de accuracy (Hyperopt minimiza)\n",
    "        return -accuracy"
   ],
   "metadata": {
    "collapsed": false,
    "ExecuteTime": {
     "end_time": "2024-11-22T03:01:05.445392200Z",
     "start_time": "2024-11-22T03:01:05.438678700Z"
    }
   },
   "id": "8786ef84e656bec5",
   "execution_count": 12
  },
  {
   "cell_type": "code",
   "outputs": [
    {
     "name": "stdout",
     "output_type": "stream",
     "text": [
      "🏃 View run treasured-worm-849 at: https://dagshub.com/zapatacc/final-exam-pcd2024-autumn.mlflow/#/experiments/24/runs/79568e9e2fdb4955bf01c2ccfdc0b2b0\n",
      "\n",
      "🧪 View experiment at: https://dagshub.com/zapatacc/final-exam-pcd2024-autumn.mlflow/#/experiments/24\n",
      "\n",
      "🏃 View run receptive-chimp-696 at: https://dagshub.com/zapatacc/final-exam-pcd2024-autumn.mlflow/#/experiments/24/runs/760c364de6644dc39d1b478b7805403c\n",
      "\n",
      "🧪 View experiment at: https://dagshub.com/zapatacc/final-exam-pcd2024-autumn.mlflow/#/experiments/24\n",
      "\n",
      "🏃 View run valuable-mink-427 at: https://dagshub.com/zapatacc/final-exam-pcd2024-autumn.mlflow/#/experiments/24/runs/3e069a148ee84546926ffc12cc4a5311\n",
      "\n",
      "🧪 View experiment at: https://dagshub.com/zapatacc/final-exam-pcd2024-autumn.mlflow/#/experiments/24\n",
      "\n",
      "🏃 View run capable-jay-135 at: https://dagshub.com/zapatacc/final-exam-pcd2024-autumn.mlflow/#/experiments/24/runs/a5d9af54014c49dcb20e7d72253f9c00\n",
      "\n",
      "🧪 View experiment at: https://dagshub.com/zapatacc/final-exam-pcd2024-autumn.mlflow/#/experiments/24\n",
      "\n",
      "🏃 View run incongruous-owl-271 at: https://dagshub.com/zapatacc/final-exam-pcd2024-autumn.mlflow/#/experiments/24/runs/05416fd099254b14aaa1ab836da35a28\n",
      "\n",
      "🧪 View experiment at: https://dagshub.com/zapatacc/final-exam-pcd2024-autumn.mlflow/#/experiments/24\n",
      "\n",
      "🏃 View run marvelous-newt-712 at: https://dagshub.com/zapatacc/final-exam-pcd2024-autumn.mlflow/#/experiments/24/runs/e16eb5f9e45e4d659951829f843680b8\n",
      "\n",
      "🧪 View experiment at: https://dagshub.com/zapatacc/final-exam-pcd2024-autumn.mlflow/#/experiments/24\n",
      "\n",
      "🏃 View run fearless-sheep-172 at: https://dagshub.com/zapatacc/final-exam-pcd2024-autumn.mlflow/#/experiments/24/runs/84ecd16ffc084caca6caae6f805fb231\n",
      "\n",
      "🧪 View experiment at: https://dagshub.com/zapatacc/final-exam-pcd2024-autumn.mlflow/#/experiments/24\n",
      "\n",
      "🏃 View run colorful-gull-210 at: https://dagshub.com/zapatacc/final-exam-pcd2024-autumn.mlflow/#/experiments/24/runs/674fd94ca42049a3b852babe5ceeadab\n",
      "\n",
      "🧪 View experiment at: https://dagshub.com/zapatacc/final-exam-pcd2024-autumn.mlflow/#/experiments/24\n",
      "\n",
      "🏃 View run unique-mare-425 at: https://dagshub.com/zapatacc/final-exam-pcd2024-autumn.mlflow/#/experiments/24/runs/80fa9b1672844fa8947d2fff3be26c36\n",
      "\n",
      "🧪 View experiment at: https://dagshub.com/zapatacc/final-exam-pcd2024-autumn.mlflow/#/experiments/24\n",
      "\n",
      "🏃 View run handsome-shrimp-134 at: https://dagshub.com/zapatacc/final-exam-pcd2024-autumn.mlflow/#/experiments/24/runs/e042b6ef5f6548819f77f3c2e7bf3523\n",
      "\n",
      "🧪 View experiment at: https://dagshub.com/zapatacc/final-exam-pcd2024-autumn.mlflow/#/experiments/24\n",
      "\n",
      "100%|██████████| 10/10 [00:39<00:00,  3.99s/trial, best loss: -0.303717374110203]\n",
      "🏃 View run Parent Random Forest at: https://dagshub.com/zapatacc/final-exam-pcd2024-autumn.mlflow/#/experiments/24/runs/f1975b85d3664cceb9d19e516dafcbca\n",
      "🧪 View experiment at: https://dagshub.com/zapatacc/final-exam-pcd2024-autumn.mlflow/#/experiments/24\n",
      "Best Parameters: {'max_depth': np.int64(1), 'min_samples_leaf': np.float64(0.039898821664180927), 'min_samples_split': np.float64(0.089245932942373), 'n_estimators': np.int64(5)}\n"
     ]
    }
   ],
   "source": [
    "# Ejecutar la optimización de hiperparámetros\n",
    "with mlflow.start_run(run_name=\"Parent Random Forest\"):\n",
    "    trials = Trials()\n",
    "    best_params_rf = fmin(\n",
    "        fn=objective_rf,\n",
    "        space=search_space_rf,\n",
    "        algo=tpe.suggest,\n",
    "        max_evals=10,  # Número de experimentos\n",
    "        trials=trials\n",
    "    )\n",
    "print(\"Best Parameters:\", best_params_rf)"
   ],
   "metadata": {
    "collapsed": false,
    "ExecuteTime": {
     "end_time": "2024-11-22T03:01:50.134182600Z",
     "start_time": "2024-11-22T03:01:07.642434700Z"
    }
   },
   "id": "76baa3eac6c6871e",
   "execution_count": 13
  },
  {
   "cell_type": "code",
   "outputs": [],
   "source": [
    "# Entrenar y registrar el modelo con los mejores parámetros\n",
    "best_rf_model = RandomForestClassifier(\n",
    "    n_estimators=int(best_params_rf['n_estimators']),\n",
    "    max_depth=int(best_params_rf['max_depth']),\n",
    "    min_samples_split=best_params_rf['min_samples_split'],\n",
    "    min_samples_leaf=best_params_rf['min_samples_leaf'],\n",
    "    random_state=42\n",
    ")"
   ],
   "metadata": {
    "collapsed": false,
    "ExecuteTime": {
     "end_time": "2024-11-22T03:02:38.067281200Z",
     "start_time": "2024-11-22T03:02:38.055181400Z"
    }
   },
   "id": "8958c88908f89dad",
   "execution_count": 14
  },
  {
   "cell_type": "code",
   "outputs": [
    {
     "data": {
      "text/plain": "{'max_depth': np.int64(1),\n 'min_samples_leaf': np.float64(0.039898821664180927),\n 'min_samples_split': np.float64(0.089245932942373),\n 'n_estimators': np.int64(5)}"
     },
     "execution_count": 22,
     "metadata": {},
     "output_type": "execute_result"
    }
   ],
   "source": [
    "best_params_rf"
   ],
   "metadata": {
    "collapsed": false,
    "ExecuteTime": {
     "end_time": "2024-11-22T05:24:59.673498800Z",
     "start_time": "2024-11-22T05:24:59.505762500Z"
    }
   },
   "id": "b1bdef2a1e462dd9",
   "execution_count": 22
  },
  {
   "cell_type": "markdown",
   "source": [
    "## MODELO RF"
   ],
   "metadata": {
    "collapsed": false
   },
   "id": "9030a7a1e8e4ab9e"
  },
  {
   "cell_type": "code",
   "outputs": [],
   "source": [
    "# train, test, split\n",
    "X = df['complaint_what_happened']\n",
    "y = df['ticket_classification']\n",
    "\n",
    "tfidf_vectorizer = TfidfVectorizer(stop_words='english', max_features=5000)\n",
    "X_tfidf = tfidf_vectorizer.fit_transform(X)\n",
    "\n",
    "X_train, X_test, y_train, y_test = train_test_split(X_tfidf, y, test_size=0.2, random_state=42)"
   ],
   "metadata": {
    "collapsed": false,
    "ExecuteTime": {
     "end_time": "2024-11-22T06:12:33.873890600Z",
     "start_time": "2024-11-22T06:12:32.289915400Z"
    }
   },
   "id": "84926756fe688d2a",
   "execution_count": 30
  },
  {
   "cell_type": "code",
   "outputs": [
    {
     "name": "stdout",
     "output_type": "stream",
     "text": [
      "  0%|          | 0/10 [00:00<?, ?trial/s, best loss=?]"
     ]
    },
    {
     "name": "stderr",
     "output_type": "stream",
     "text": [
      "2024/11/22 00:12:37 WARNING mlflow.sklearn: Failed to log training dataset information to MLflow Tracking. Reason: 'Series' object has no attribute 'toarray'\n",
      "\n",
      "C:\\Users\\Francisco\\PycharmProjects\\final-exam-pcd2024-autumn\\.venv\\Lib\\site-packages\\sklearn\\metrics\\_classification.py:1531: UndefinedMetricWarning: Precision is ill-defined and being set to 0.0 in labels with no predicted samples. Use `zero_division` parameter to control this behavior.\n",
      "  _warn_prf(average, modifier, f\"{metric.capitalize()} is\", len(result))\n",
      "\n",
      "2024/11/22 00:13:26 WARNING mlflow.utils.autologging_utils: Encountered unexpected error during sklearn autologging: The following failures occurred while performing one or more logging operations: [MlflowException('Failed to perform one or more operations on the run with ID ba042d1151bf45848d5d5a2f16c251e3. Failed operations: [RestException(\"INVALID_PARAMETER_VALUE: Response: {\\'error_code\\': \\'INVALID_PARAMETER_VALUE\\'}\")]')]\n",
      "\n"
     ]
    },
    {
     "name": "stdout",
     "output_type": "stream",
     "text": [
      "🏃 View run unequaled-sponge-127 at: https://dagshub.com/zapatacc/final-exam-pcd2024-autumn.mlflow/#/experiments/24/runs/ba042d1151bf45848d5d5a2f16c251e3\n",
      "\n",
      "🧪 View experiment at: https://dagshub.com/zapatacc/final-exam-pcd2024-autumn.mlflow/#/experiments/24\n",
      "\n",
      " 10%|█         | 1/10 [00:51<07:40, 51.20s/trial, best loss: -0.49248615871341944]"
     ]
    },
    {
     "name": "stderr",
     "output_type": "stream",
     "text": [
      "2024/11/22 00:13:28 WARNING mlflow.sklearn: Failed to log training dataset information to MLflow Tracking. Reason: 'Series' object has no attribute 'toarray'\n",
      "\n",
      "C:\\Users\\Francisco\\PycharmProjects\\final-exam-pcd2024-autumn\\.venv\\Lib\\site-packages\\sklearn\\metrics\\_classification.py:1531: UndefinedMetricWarning: Precision is ill-defined and being set to 0.0 in labels with no predicted samples. Use `zero_division` parameter to control this behavior.\n",
      "  _warn_prf(average, modifier, f\"{metric.capitalize()} is\", len(result))\n",
      "\n",
      "2024/11/22 00:14:16 WARNING mlflow.utils.autologging_utils: Encountered unexpected error during sklearn autologging: The following failures occurred while performing one or more logging operations: [MlflowException('Failed to perform one or more operations on the run with ID 0c8dd2e109a74c798aa482779eae19ce. Failed operations: [RestException(\"INVALID_PARAMETER_VALUE: Response: {\\'error_code\\': \\'INVALID_PARAMETER_VALUE\\'}\")]')]\n",
      "\n"
     ]
    },
    {
     "name": "stdout",
     "output_type": "stream",
     "text": [
      "🏃 View run mysterious-lark-794 at: https://dagshub.com/zapatacc/final-exam-pcd2024-autumn.mlflow/#/experiments/24/runs/0c8dd2e109a74c798aa482779eae19ce\n",
      "\n",
      "🧪 View experiment at: https://dagshub.com/zapatacc/final-exam-pcd2024-autumn.mlflow/#/experiments/24\n",
      "\n",
      " 20%|██        | 2/10 [01:40<06:41, 50.19s/trial, best loss: -0.4953862378064856] "
     ]
    },
    {
     "name": "stderr",
     "output_type": "stream",
     "text": [
      "2024/11/22 00:14:18 WARNING mlflow.sklearn: Failed to log training dataset information to MLflow Tracking. Reason: 'Series' object has no attribute 'toarray'\n",
      "\n",
      "C:\\Users\\Francisco\\PycharmProjects\\final-exam-pcd2024-autumn\\.venv\\Lib\\site-packages\\sklearn\\metrics\\_classification.py:1531: UndefinedMetricWarning: Precision is ill-defined and being set to 0.0 in labels with no predicted samples. Use `zero_division` parameter to control this behavior.\n",
      "  _warn_prf(average, modifier, f\"{metric.capitalize()} is\", len(result))\n",
      "\n",
      "2024/11/22 00:15:42 WARNING mlflow.utils.autologging_utils: Encountered unexpected error during sklearn autologging: The following failures occurred while performing one or more logging operations: [MlflowException('Failed to perform one or more operations on the run with ID 1d86b3ae318f428ab8c9da425cb761d1. Failed operations: [RestException(\"INVALID_PARAMETER_VALUE: Response: {\\'error_code\\': \\'INVALID_PARAMETER_VALUE\\'}\")]')]\n",
      "\n"
     ]
    },
    {
     "name": "stdout",
     "output_type": "stream",
     "text": [
      "🏃 View run melodic-ram-697 at: https://dagshub.com/zapatacc/final-exam-pcd2024-autumn.mlflow/#/experiments/24/runs/1d86b3ae318f428ab8c9da425cb761d1\n",
      "\n",
      "🧪 View experiment at: https://dagshub.com/zapatacc/final-exam-pcd2024-autumn.mlflow/#/experiments/24\n",
      "\n",
      " 30%|███       | 3/10 [03:07<07:48, 66.94s/trial, best loss: -0.4953862378064856]"
     ]
    },
    {
     "name": "stderr",
     "output_type": "stream",
     "text": [
      "2024/11/22 00:15:45 WARNING mlflow.sklearn: Failed to log training dataset information to MLflow Tracking. Reason: 'Series' object has no attribute 'toarray'\n",
      "\n",
      "C:\\Users\\Francisco\\PycharmProjects\\final-exam-pcd2024-autumn\\.venv\\Lib\\site-packages\\sklearn\\metrics\\_classification.py:1531: UndefinedMetricWarning: Precision is ill-defined and being set to 0.0 in labels with no predicted samples. Use `zero_division` parameter to control this behavior.\n",
      "  _warn_prf(average, modifier, f\"{metric.capitalize()} is\", len(result))\n",
      "\n",
      "2024/11/22 00:16:45 WARNING mlflow.utils.autologging_utils: Encountered unexpected error during sklearn autologging: The following failures occurred while performing one or more logging operations: [MlflowException('Failed to perform one or more operations on the run with ID 19bfa3985928402b93ab41c20da15ed8. Failed operations: [RestException(\"INVALID_PARAMETER_VALUE: Response: {\\'error_code\\': \\'INVALID_PARAMETER_VALUE\\'}\")]')]\n",
      "\n"
     ]
    },
    {
     "name": "stdout",
     "output_type": "stream",
     "text": [
      "🏃 View run capricious-doe-626 at: https://dagshub.com/zapatacc/final-exam-pcd2024-autumn.mlflow/#/experiments/24/runs/19bfa3985928402b93ab41c20da15ed8\n",
      "\n",
      "🧪 View experiment at: https://dagshub.com/zapatacc/final-exam-pcd2024-autumn.mlflow/#/experiments/24\n",
      "\n",
      " 40%|████      | 4/10 [04:09<06:30, 65.05s/trial, best loss: -0.4953862378064856]"
     ]
    },
    {
     "name": "stderr",
     "output_type": "stream",
     "text": [
      "2024/11/22 00:16:47 WARNING mlflow.sklearn: Failed to log training dataset information to MLflow Tracking. Reason: 'Series' object has no attribute 'toarray'\n",
      "\n",
      "C:\\Users\\Francisco\\PycharmProjects\\final-exam-pcd2024-autumn\\.venv\\Lib\\site-packages\\sklearn\\metrics\\_classification.py:1531: UndefinedMetricWarning: Precision is ill-defined and being set to 0.0 in labels with no predicted samples. Use `zero_division` parameter to control this behavior.\n",
      "  _warn_prf(average, modifier, f\"{metric.capitalize()} is\", len(result))\n",
      "\n",
      "2024/11/22 00:17:07 WARNING mlflow.utils.autologging_utils: Encountered unexpected error during sklearn autologging: The following failures occurred while performing one or more logging operations: [MlflowException('Failed to perform one or more operations on the run with ID 09d429240b614ddca1f5884c17d7ccfd. Failed operations: [RestException(\"INVALID_PARAMETER_VALUE: Response: {\\'error_code\\': \\'INVALID_PARAMETER_VALUE\\'}\")]')]\n",
      "\n"
     ]
    },
    {
     "name": "stdout",
     "output_type": "stream",
     "text": [
      "🏃 View run grandiose-slug-792 at: https://dagshub.com/zapatacc/final-exam-pcd2024-autumn.mlflow/#/experiments/24/runs/09d429240b614ddca1f5884c17d7ccfd\n",
      "\n",
      "🧪 View experiment at: https://dagshub.com/zapatacc/final-exam-pcd2024-autumn.mlflow/#/experiments/24\n",
      "\n",
      " 50%|█████     | 5/10 [04:31<04:06, 49.38s/trial, best loss: -0.4953862378064856]"
     ]
    },
    {
     "name": "stderr",
     "output_type": "stream",
     "text": [
      "2024/11/22 00:17:08 WARNING mlflow.sklearn: Failed to log training dataset information to MLflow Tracking. Reason: 'Series' object has no attribute 'toarray'\n",
      "\n",
      "C:\\Users\\Francisco\\PycharmProjects\\final-exam-pcd2024-autumn\\.venv\\Lib\\site-packages\\sklearn\\metrics\\_classification.py:1531: UndefinedMetricWarning: Precision is ill-defined and being set to 0.0 in labels with no predicted samples. Use `zero_division` parameter to control this behavior.\n",
      "  _warn_prf(average, modifier, f\"{metric.capitalize()} is\", len(result))\n",
      "\n",
      "2024/11/22 00:20:01 WARNING mlflow.utils.autologging_utils: Encountered unexpected error during sklearn autologging: The following failures occurred while performing one or more logging operations: [MlflowException('Failed to perform one or more operations on the run with ID a8e0d8f1932748c385710204c3f753ef. Failed operations: [RestException(\"INVALID_PARAMETER_VALUE: Response: {\\'error_code\\': \\'INVALID_PARAMETER_VALUE\\'}\")]')]\n",
      "\n"
     ]
    },
    {
     "name": "stdout",
     "output_type": "stream",
     "text": [
      "🏃 View run indecisive-robin-725 at: https://dagshub.com/zapatacc/final-exam-pcd2024-autumn.mlflow/#/experiments/24/runs/a8e0d8f1932748c385710204c3f753ef\n",
      "\n",
      "🧪 View experiment at: https://dagshub.com/zapatacc/final-exam-pcd2024-autumn.mlflow/#/experiments/24\n",
      "\n",
      " 60%|██████    | 6/10 [07:26<06:08, 92.10s/trial, best loss: -0.5040864750856842]"
     ]
    },
    {
     "name": "stderr",
     "output_type": "stream",
     "text": [
      "2024/11/22 00:20:03 WARNING mlflow.sklearn: Failed to log training dataset information to MLflow Tracking. Reason: 'Series' object has no attribute 'toarray'\n",
      "\n",
      "C:\\Users\\Francisco\\PycharmProjects\\final-exam-pcd2024-autumn\\.venv\\Lib\\site-packages\\sklearn\\metrics\\_classification.py:1531: UndefinedMetricWarning: Precision is ill-defined and being set to 0.0 in labels with no predicted samples. Use `zero_division` parameter to control this behavior.\n",
      "  _warn_prf(average, modifier, f\"{metric.capitalize()} is\", len(result))\n",
      "\n",
      "2024/11/22 00:21:37 WARNING mlflow.utils.autologging_utils: Encountered unexpected error during sklearn autologging: The following failures occurred while performing one or more logging operations: [MlflowException('Failed to perform one or more operations on the run with ID 0f11ff7435de47c280edcd52f9d1832d. Failed operations: [RestException(\"INVALID_PARAMETER_VALUE: Response: {\\'error_code\\': \\'INVALID_PARAMETER_VALUE\\'}\")]')]\n",
      "\n"
     ]
    },
    {
     "name": "stdout",
     "output_type": "stream",
     "text": [
      "🏃 View run dapper-gnu-26 at: https://dagshub.com/zapatacc/final-exam-pcd2024-autumn.mlflow/#/experiments/24/runs/0f11ff7435de47c280edcd52f9d1832d\n",
      "\n",
      "🧪 View experiment at: https://dagshub.com/zapatacc/final-exam-pcd2024-autumn.mlflow/#/experiments/24\n",
      "\n",
      " 70%|███████   | 7/10 [09:01<04:39, 93.14s/trial, best loss: -0.5040864750856842]"
     ]
    },
    {
     "name": "stderr",
     "output_type": "stream",
     "text": [
      "2024/11/22 00:21:38 WARNING mlflow.sklearn: Failed to log training dataset information to MLflow Tracking. Reason: 'Series' object has no attribute 'toarray'\n",
      "\n",
      "C:\\Users\\Francisco\\PycharmProjects\\final-exam-pcd2024-autumn\\.venv\\Lib\\site-packages\\sklearn\\metrics\\_classification.py:1531: UndefinedMetricWarning: Precision is ill-defined and being set to 0.0 in labels with no predicted samples. Use `zero_division` parameter to control this behavior.\n",
      "  _warn_prf(average, modifier, f\"{metric.capitalize()} is\", len(result))\n",
      "\n",
      "2024/11/22 00:23:02 WARNING mlflow.utils.autologging_utils: Encountered unexpected error during sklearn autologging: The following failures occurred while performing one or more logging operations: [MlflowException('Failed to perform one or more operations on the run with ID c2a28f4929654ce8940f5d4b4d100b81. Failed operations: [RestException(\"INVALID_PARAMETER_VALUE: Response: {\\'error_code\\': \\'INVALID_PARAMETER_VALUE\\'}\")]')]\n",
      "\n"
     ]
    },
    {
     "name": "stdout",
     "output_type": "stream",
     "text": [
      "🏃 View run judicious-doe-481 at: https://dagshub.com/zapatacc/final-exam-pcd2024-autumn.mlflow/#/experiments/24/runs/c2a28f4929654ce8940f5d4b4d100b81\n",
      "\n",
      "🧪 View experiment at: https://dagshub.com/zapatacc/final-exam-pcd2024-autumn.mlflow/#/experiments/24\n",
      "\n",
      " 80%|████████  | 8/10 [10:27<03:01, 90.68s/trial, best loss: -0.5225415238597416]"
     ]
    },
    {
     "name": "stderr",
     "output_type": "stream",
     "text": [
      "2024/11/22 00:23:04 WARNING mlflow.sklearn: Failed to log training dataset information to MLflow Tracking. Reason: 'Series' object has no attribute 'toarray'\n",
      "\n",
      "C:\\Users\\Francisco\\PycharmProjects\\final-exam-pcd2024-autumn\\.venv\\Lib\\site-packages\\sklearn\\metrics\\_classification.py:1531: UndefinedMetricWarning: Precision is ill-defined and being set to 0.0 in labels with no predicted samples. Use `zero_division` parameter to control this behavior.\n",
      "  _warn_prf(average, modifier, f\"{metric.capitalize()} is\", len(result))\n",
      "\n",
      "2024/11/22 00:23:43 WARNING mlflow.utils.autologging_utils: Encountered unexpected error during sklearn autologging: The following failures occurred while performing one or more logging operations: [MlflowException('Failed to perform one or more operations on the run with ID 7fc34c5d6bf34925a37c83e71639e187. Failed operations: [RestException(\"INVALID_PARAMETER_VALUE: Response: {\\'error_code\\': \\'INVALID_PARAMETER_VALUE\\'}\")]')]\n",
      "\n"
     ]
    },
    {
     "name": "stdout",
     "output_type": "stream",
     "text": [
      "🏃 View run skillful-wren-14 at: https://dagshub.com/zapatacc/final-exam-pcd2024-autumn.mlflow/#/experiments/24/runs/7fc34c5d6bf34925a37c83e71639e187\n",
      "\n",
      "🧪 View experiment at: https://dagshub.com/zapatacc/final-exam-pcd2024-autumn.mlflow/#/experiments/24\n",
      "\n",
      " 90%|█████████ | 9/10 [11:08<01:15, 75.28s/trial, best loss: -0.5225415238597416]"
     ]
    },
    {
     "name": "stderr",
     "output_type": "stream",
     "text": [
      "2024/11/22 00:23:45 WARNING mlflow.sklearn: Failed to log training dataset information to MLflow Tracking. Reason: 'Series' object has no attribute 'toarray'\n",
      "\n",
      "C:\\Users\\Francisco\\PycharmProjects\\final-exam-pcd2024-autumn\\.venv\\Lib\\site-packages\\sklearn\\metrics\\_classification.py:1531: UndefinedMetricWarning: Precision is ill-defined and being set to 0.0 in labels with no predicted samples. Use `zero_division` parameter to control this behavior.\n",
      "  _warn_prf(average, modifier, f\"{metric.capitalize()} is\", len(result))\n",
      "\n",
      "2024/11/22 00:25:34 WARNING mlflow.utils.autologging_utils: Encountered unexpected error during sklearn autologging: The following failures occurred while performing one or more logging operations: [MlflowException('Failed to perform one or more operations on the run with ID 620e774450914b979a08a484e3370b1c. Failed operations: [RestException(\"INVALID_PARAMETER_VALUE: Response: {\\'error_code\\': \\'INVALID_PARAMETER_VALUE\\'}\")]')]\n",
      "\n"
     ]
    },
    {
     "name": "stdout",
     "output_type": "stream",
     "text": [
      "🏃 View run dazzling-crane-585 at: https://dagshub.com/zapatacc/final-exam-pcd2024-autumn.mlflow/#/experiments/24/runs/620e774450914b979a08a484e3370b1c\n",
      "\n",
      "🧪 View experiment at: https://dagshub.com/zapatacc/final-exam-pcd2024-autumn.mlflow/#/experiments/24\n",
      "\n",
      "100%|██████████| 10/10 [12:59<00:00, 77.91s/trial, best loss: -0.5225415238597416]\n",
      "🏃 View run Parent Random Forest at: https://dagshub.com/zapatacc/final-exam-pcd2024-autumn.mlflow/#/experiments/24/runs/7e5357174e254c279d7b0f106ad09941\n",
      "🧪 View experiment at: https://dagshub.com/zapatacc/final-exam-pcd2024-autumn.mlflow/#/experiments/24\n"
     ]
    },
    {
     "name": "stderr",
     "output_type": "stream",
     "text": [
      "2024/11/22 00:25:36 INFO mlflow.utils.autologging_utils: Created MLflow autologging run with ID 'bc76cf240e934aaa9caf0ede27fa5493', which will track hyperparameters, performance metrics, model artifacts, and lineage information for the current sklearn workflow\n",
      "2024/11/22 00:25:36 WARNING mlflow.sklearn: Failed to log training dataset information to MLflow Tracking. Reason: 'Series' object has no attribute 'toarray'\n",
      "C:\\Users\\Francisco\\PycharmProjects\\final-exam-pcd2024-autumn\\.venv\\Lib\\site-packages\\sklearn\\metrics\\_classification.py:1531: UndefinedMetricWarning: Precision is ill-defined and being set to 0.0 in labels with no predicted samples. Use `zero_division` parameter to control this behavior.\n",
      "  _warn_prf(average, modifier, f\"{metric.capitalize()} is\", len(result))\n"
     ]
    },
    {
     "name": "stdout",
     "output_type": "stream",
     "text": [
      "🏃 View run powerful-mouse-1 at: https://dagshub.com/zapatacc/final-exam-pcd2024-autumn.mlflow/#/experiments/24/runs/bc76cf240e934aaa9caf0ede27fa5493\n",
      "🧪 View experiment at: https://dagshub.com/zapatacc/final-exam-pcd2024-autumn.mlflow/#/experiments/24\n",
      "Accuracy: 0.52\n",
      "Classification Report:\n",
      "                                                                                                               precision    recall  f1-score   support\n",
      "\n",
      "                                                        Bank account or service + (CD) Certificate of deposit       0.00      0.00      0.00         3\n",
      "                                                 Bank account or service + Cashing a check without an account       0.00      0.00      0.00         7\n",
      "                                                                   Bank account or service + Checking account       0.00      0.00      0.00       217\n",
      "                                                         Bank account or service + Other bank product/service       0.00      0.00      0.00        55\n",
      "                                                                    Bank account or service + Savings account       0.00      0.00      0.00        17\n",
      "                                                    Checking or savings account + CD (Certificate of Deposit)       0.00      0.00      0.00         5\n",
      "                                                               Checking or savings account + Checking account       0.52      0.85      0.64       788\n",
      "                                               Checking or savings account + Other banking product or service       0.00      0.00      0.00        36\n",
      "                                                                Checking or savings account + Savings account       0.00      0.00      0.00        35\n",
      "                                                                             Consumer Loan + Installment loan       0.00      0.00      0.00         8\n",
      "                                                                                    Consumer Loan + Pawn loan       0.00      0.00      0.00         1\n",
      "                                                                                   Consumer Loan + Title loan       0.00      0.00      0.00         1\n",
      "                                                                                Consumer Loan + Vehicle lease       0.00      0.00      0.00         7\n",
      "                                                                                 Consumer Loan + Vehicle loan       0.00      0.00      0.00        32\n",
      "                                     Credit card or prepaid card + General-purpose credit card or charge card       0.55      0.92      0.69       969\n",
      "                                                   Credit card or prepaid card + General-purpose prepaid card       0.00      0.00      0.00        12\n",
      "                                                                      Credit card or prepaid card + Gift card       0.00      0.00      0.00         2\n",
      "                                                        Credit card or prepaid card + Government benefit card       0.00      0.00      0.00         3\n",
      "                                                                   Credit card or prepaid card + Payroll card       0.00      0.00      0.00         1\n",
      "                                                              Credit card or prepaid card + Store credit card       0.00      0.00      0.00        14\n",
      "        Credit reporting, credit repair services, or other personal consumer reports + Credit repair services       0.00      0.00      0.00         1\n",
      "              Credit reporting, credit repair services, or other personal consumer reports + Credit reporting       0.60      0.65      0.62       389\n",
      "Credit reporting, credit repair services, or other personal consumer reports + Other personal consumer report       0.00      0.00      0.00        11\n",
      "                                                                                       Debt collection + Auto       0.00      0.00      0.00         1\n",
      "                                                                                Debt collection + Credit card       0.00      0.00      0.00        46\n",
      "                                                                           Debt collection + Credit card debt       1.00      0.05      0.10        92\n",
      "                                                                              Debt collection + I do not know       1.00      0.06      0.11        17\n",
      "                                                                                   Debt collection + Mortgage       0.00      0.00      0.00         9\n",
      "                                                                              Debt collection + Mortgage debt       1.00      0.06      0.11        18\n",
      "                                                                   Debt collection + Non-federal student loan       0.00      0.00      0.00         1\n",
      "                                                      Debt collection + Other (i.e. phone, health club, etc.)       0.00      0.00      0.00         4\n",
      "                                                                                 Debt collection + Other debt       0.00      0.00      0.00         6\n",
      "                                                                                Debt collection + Payday loan       0.00      0.00      0.00         1\n",
      "                                   Money transfer, virtual currency, or money service + Check cashing service       0.00      0.00      0.00         2\n",
      "                            Money transfer, virtual currency, or money service + Domestic (US) money transfer       0.00      0.00      0.00        61\n",
      "                               Money transfer, virtual currency, or money service + Foreign currency exchange       0.00      0.00      0.00         4\n",
      "                            Money transfer, virtual currency, or money service + International money transfer       0.00      0.00      0.00        29\n",
      "                                Money transfer, virtual currency, or money service + Mobile or digital wallet       0.00      0.00      0.00        39\n",
      "                                             Money transfer, virtual currency, or money service + Money order       0.00      0.00      0.00         4\n",
      "                     Money transfer, virtual currency, or money service + Traveler's check or cashier's check       0.00      0.00      0.00         8\n",
      "                                        Money transfer, virtual currency, or money service + Virtual currency       0.00      0.00      0.00         8\n",
      "                                                               Money transfers + Domestic (US) money transfer       0.00      0.00      0.00         4\n",
      "                                                               Money transfers + International money transfer       0.00      0.00      0.00         5\n",
      "                                                            Mortgage + Conventional adjustable mortgage (ARM)       0.00      0.00      0.00        60\n",
      "                                                                       Mortgage + Conventional fixed mortgage       0.29      0.22      0.25       171\n",
      "                                                                        Mortgage + Conventional home mortgage       0.35      0.43      0.38       235\n",
      "                                                                                      Mortgage + FHA mortgage       0.48      0.14      0.21        87\n",
      "                                                                Mortgage + Home equity loan or line of credit       0.00      0.00      0.00        27\n",
      "                                                        Mortgage + Home equity loan or line of credit (HELOC)       0.00      0.00      0.00        30\n",
      "                                                                                    Mortgage + Other mortgage       0.00      0.00      0.00        38\n",
      "                                                                            Mortgage + Other type of mortgage       1.00      0.05      0.10        20\n",
      "                                                                                  Mortgage + Reverse mortgage       0.00      0.00      0.00         2\n",
      "                                                                                       Mortgage + VA mortgage       0.00      0.00      0.00        13\n",
      "                                                                        Other financial service + Money order       0.00      0.00      0.00         1\n",
      "                                                        Other financial service + Traveler’s/Cashier’s checks       0.00      0.00      0.00         1\n",
      "                                                 Payday loan, title loan, or personal loan + Installment loan       0.00      0.00      0.00         6\n",
      "                                          Payday loan, title loan, or personal loan + Personal line of credit       0.00      0.00      0.00         6\n",
      "                                                       Payday loan, title loan, or personal loan + Title loan       0.00      0.00      0.00         2\n",
      "                                                               Prepaid card + Government benefit payment card       0.00      0.00      0.00         1\n",
      "                                                                Student loan + Federal student loan servicing       0.00      0.00      0.00         2\n",
      "                                                                      Student loan + Non-federal student loan       1.00      0.10      0.19        29\n",
      "                                                                          Student loan + Private student loan       0.00      0.00      0.00         9\n",
      "                                                                                Vehicle loan or lease + Lease       0.00      0.00      0.00        22\n",
      "                                                                                 Vehicle loan or lease + Loan       0.44      0.07      0.12        58\n",
      "\n",
      "                                                                                                     accuracy                           0.52      3793\n",
      "                                                                                                    macro avg       0.13      0.06      0.06      3793\n",
      "                                                                                                 weighted avg       0.41      0.52      0.42      3793\n"
     ]
    },
    {
     "name": "stderr",
     "output_type": "stream",
     "text": [
      "C:\\Users\\Francisco\\PycharmProjects\\final-exam-pcd2024-autumn\\.venv\\Lib\\site-packages\\sklearn\\metrics\\_classification.py:1531: UndefinedMetricWarning: Precision is ill-defined and being set to 0.0 in labels with no predicted samples. Use `zero_division` parameter to control this behavior.\n",
      "  _warn_prf(average, modifier, f\"{metric.capitalize()} is\", len(result))\n",
      "C:\\Users\\Francisco\\PycharmProjects\\final-exam-pcd2024-autumn\\.venv\\Lib\\site-packages\\sklearn\\metrics\\_classification.py:1531: UndefinedMetricWarning: Precision is ill-defined and being set to 0.0 in labels with no predicted samples. Use `zero_division` parameter to control this behavior.\n",
      "  _warn_prf(average, modifier, f\"{metric.capitalize()} is\", len(result))\n",
      "C:\\Users\\Francisco\\PycharmProjects\\final-exam-pcd2024-autumn\\.venv\\Lib\\site-packages\\sklearn\\metrics\\_classification.py:1531: UndefinedMetricWarning: Precision is ill-defined and being set to 0.0 in labels with no predicted samples. Use `zero_division` parameter to control this behavior.\n",
      "  _warn_prf(average, modifier, f\"{metric.capitalize()} is\", len(result))\n"
     ]
    }
   ],
   "source": [
    "mlflow.sklearn.autolog()\n",
    "\n",
    "# Define objective function for Random Forest model\n",
    "def objective_rf(params):\n",
    "    with mlflow.start_run(nested=True):\n",
    "        # Set model tag\n",
    "        mlflow.set_tag(\"model_family\", \"random_forest\")\n",
    "        \n",
    "        # Log parameters\n",
    "        mlflow.log_params(params)\n",
    "        \n",
    "        # Create the Random Forest model with given parameters\n",
    "        rf_model = RandomForestClassifier(\n",
    "            n_estimators=int(params['n_estimators']),\n",
    "            max_depth=int(params['max_depth']),\n",
    "            min_samples_split=int(params['min_samples_split']),\n",
    "            min_samples_leaf=int(params['min_samples_leaf']),\n",
    "            random_state=42\n",
    "        )\n",
    "        \n",
    "        # Fit the model\n",
    "        rf_model.fit(X_train, y_train)\n",
    "        \n",
    "        # Make predictions\n",
    "        y_pred = rf_model.predict(X_test)\n",
    "        \n",
    "        # Calculate accuracy\n",
    "        accuracy = accuracy_score(y_test, y_pred)\n",
    "        \n",
    "        # Log accuracy metric\n",
    "        mlflow.log_metric(\"accuracy\", accuracy)\n",
    "        \n",
    "        return {'loss': -accuracy, 'status': STATUS_OK}\n",
    "\n",
    "# Define search space for RandomForestClassifier\n",
    "search_space_rf = {\n",
    "    'n_estimators': hp.quniform('n_estimators', 50, 300, 1),\n",
    "    'max_depth': hp.quniform('max_depth', 5, 30, 1),\n",
    "    'min_samples_split': hp.quniform('min_samples_split', 2, 10, 1),\n",
    "    'min_samples_leaf': hp.quniform('min_samples_leaf', 1, 5, 1),\n",
    "}\n",
    "\n",
    "# Run hyperparameter optimization\n",
    "with mlflow.start_run(run_name=\"Parent Random Forest\", nested=True):\n",
    "    best_params_rf = fmin(\n",
    "        fn=objective_rf,\n",
    "        space=search_space_rf,\n",
    "        algo=tpe.suggest,\n",
    "        max_evals=10,\n",
    "        trials=Trials()\n",
    "    )\n",
    "    \n",
    "    # Log best parameters\n",
    "    mlflow.log_params(best_params_rf)\n",
    "\n",
    "# Evaluate the best model\n",
    "y_pred = RandomForestClassifier(\n",
    "    n_estimators=int(best_params_rf['n_estimators']),\n",
    "    max_depth=int(best_params_rf['max_depth']),\n",
    "    min_samples_split=int(best_params_rf['min_samples_split']),\n",
    "    min_samples_leaf=int(best_params_rf['min_samples_leaf']),\n",
    "    random_state=42\n",
    ").fit(X_train, y_train).predict(X_test)\n",
    "\n",
    "accuracy = accuracy_score(y_test, y_pred)\n",
    "report = classification_report(y_test, y_pred)\n",
    "\n",
    "print(f'Accuracy: {accuracy:.2f}')\n",
    "print('Classification Report:')\n",
    "print(report)"
   ],
   "metadata": {
    "collapsed": false,
    "ExecuteTime": {
     "end_time": "2024-11-22T06:26:51.760386100Z",
     "start_time": "2024-11-22T06:12:36.167199100Z"
    }
   },
   "id": "8cdb5cd35836b636",
   "execution_count": 31
  },
  {
   "cell_type": "markdown",
   "id": "c17ec950-7e17-4dae-8926-93d25160c537",
   "metadata": {},
   "source": [
    "## Registrar el modelo "
   ]
  },
  {
   "cell_type": "code",
   "execution_count": 14,
   "id": "a8a398b6-6cbb-435d-baec-5c3b2c24ca9f",
   "metadata": {
    "ExecuteTime": {
     "end_time": "2024-11-22T21:23:30.103171700Z",
     "start_time": "2024-11-22T21:23:22.425037500Z"
    }
   },
   "outputs": [
    {
     "name": "stderr",
     "output_type": "stream",
     "text": [
      "Registered model 'Tinoco-RandomForest-prefect' already exists. Creating a new version of this model...\n",
      "2024/11/22 15:23:30 INFO mlflow.store.model_registry.abstract_store: Waiting up to 300 seconds for model version to finish creation. Model name: Tinoco-RandomForest-prefect, version 5\n"
     ]
    },
    {
     "name": "stdout",
     "output_type": "stream",
     "text": [
      "Modelo registrado con éxito.\n"
     ]
    },
    {
     "name": "stderr",
     "output_type": "stream",
     "text": [
      "Created version '5' of model 'Tinoco-RandomForest-prefect'.\n"
     ]
    }
   ],
   "source": [
    "# Registrar modelo con MLflow\n",
    "run_id = input(\"Ingrese el run_id: \")\n",
    "run_uri = f\"runs:/{run_id}/model\"\n",
    "\n",
    "result = mlflow.register_model(\n",
    "    model_uri=run_uri,\n",
    "    name=\"Tinoco-RandomForest-prefect\"\n",
    ")\n",
    "\n",
    "print(\"Modelo registrado con éxito.\")"
   ]
  },
  {
   "cell_type": "markdown",
   "source": [
    "### Asignarle alias champion"
   ],
   "metadata": {
    "collapsed": false
   },
   "id": "7519e65fd432d8df"
  },
  {
   "cell_type": "code",
   "outputs": [
    {
     "data": {
      "text/plain": "<ModelVersion: aliases=['champion'], creation_timestamp=1732310611139, current_stage='None', description='The model version 5 was transitioned to champion on 2024-11-22 15:24:10.135960', last_updated_timestamp=1732310651791, name='Tinoco-RandomForest-prefect', run_id='52753b13f6024da788d4b72d6b8d9e49', run_link='', source='mlflow-artifacts:/d93605c076ee444987bee63989aab2a2/52753b13f6024da788d4b72d6b8d9e49/artifacts/model', status='READY', status_message='', tags={}, user_id='', version='5'>"
     },
     "execution_count": 15,
     "metadata": {},
     "output_type": "execute_result"
    }
   ],
   "source": [
    "from datetime import datetime\n",
    "from mlflow import MlflowClient\n",
    "\n",
    "client = MlflowClient(tracking_uri=MLFLOW_TRACKING_URI)\n",
    "client.update_registered_model(\n",
    "    name=\"Tinoco-RandomForest-prefect\",\n",
    "    description=\"\",\n",
    ")\n",
    "\n",
    "new_alias = \"champion\"\n",
    "date = datetime.today()\n",
    "model_version = \"5\"\n",
    "\n",
    "# create \"champion\" alias for version 5 of model RF\n",
    "client.set_registered_model_alias(\n",
    "    name=\"Tinoco-RandomForest-prefect\",\n",
    "    alias=new_alias,\n",
    "    version=model_version\n",
    ")\n",
    "\n",
    "client.update_model_version(\n",
    "    name=\"Tinoco-RandomForest-prefect\",\n",
    "    version=model_version,\n",
    "    description=f\"The model version {model_version} was transitioned to {new_alias} on {date}\",\n",
    ")"
   ],
   "metadata": {
    "collapsed": false,
    "ExecuteTime": {
     "end_time": "2024-11-22T21:24:12.438221Z",
     "start_time": "2024-11-22T21:24:08.460516800Z"
    }
   },
   "id": "c81490398faeb630",
   "execution_count": 15
  },
  {
   "cell_type": "markdown",
   "source": [
    "### Registrar y asignar alias challenger"
   ],
   "metadata": {
    "collapsed": false
   },
   "id": "603e1d2a4974c856"
  },
  {
   "cell_type": "code",
   "outputs": [
    {
     "name": "stderr",
     "output_type": "stream",
     "text": [
      "Registered model 'Tinoco-RandomForest' already exists. Creating a new version of this model...\n",
      "2024/11/22 01:41:02 INFO mlflow.store.model_registry.abstract_store: Waiting up to 300 seconds for model version to finish creation. Model name: Tinoco-RandomForest, version 2\n"
     ]
    },
    {
     "name": "stdout",
     "output_type": "stream",
     "text": [
      "Modelo registrado con éxito.\n"
     ]
    },
    {
     "name": "stderr",
     "output_type": "stream",
     "text": [
      "Created version '2' of model 'Tinoco-RandomForest'.\n"
     ]
    }
   ],
   "source": [
    "# Registrar modelo con MLflow\n",
    "run_id = input(\"Ingrese el run_id: \")\n",
    "run_uri = f\"runs:/{run_id}/model\"\n",
    "\n",
    "result = mlflow.register_model(\n",
    "    model_uri=run_uri,\n",
    "    name=\"Tinoco-RandomForest\"\n",
    ")\n",
    "\n",
    "print(\"Modelo registrado con éxito.\")"
   ],
   "metadata": {
    "collapsed": false,
    "ExecuteTime": {
     "end_time": "2024-11-22T07:41:02.783879300Z",
     "start_time": "2024-11-22T07:41:00.107446400Z"
    }
   },
   "id": "acbdda043549f94d",
   "execution_count": 35
  },
  {
   "cell_type": "code",
   "outputs": [
    {
     "data": {
      "text/plain": "<ModelVersion: aliases=['challegner'], creation_timestamp=1732261262698, current_stage='None', description=('The model version 2 was transitioned to challegner on 2024-11-22 '\n '01:41:49.729976'), last_updated_timestamp=1732261310063, name='Tinoco-RandomForest', run_id='0662099bc77945f4a5158c2b1259f869', run_link='', source='mlflow-artifacts:/d93605c076ee444987bee63989aab2a2/0662099bc77945f4a5158c2b1259f869/artifacts/model', status='READY', status_message='', tags={}, user_id='', version='2'>"
     },
     "execution_count": 36,
     "metadata": {},
     "output_type": "execute_result"
    }
   ],
   "source": [
    "client = MlflowClient(tracking_uri=MLFLOW_TRACKING_URI)\n",
    "client.update_registered_model(\n",
    "    name=\"Tinoco-RandomForest\",\n",
    "    description=\"\",\n",
    ")\n",
    "\n",
    "new_alias = \"challenger\"\n",
    "date = datetime.today()\n",
    "model_version = \"2\"\n",
    "\n",
    "# create \"challenger\" alias for version 2 of model RF\n",
    "\n",
    "client.set_registered_model_alias(\n",
    "    name=\"Tinoco-RandomForest\",\n",
    "    alias=new_alias,\n",
    "    version=model_version\n",
    ")\n",
    "\n",
    "client.update_model_version(\n",
    "    name=\"Tinoco-RandomForest\",\n",
    "    version=model_version,\n",
    "    description=f\"The model version {model_version} was transitioned to {new_alias} on {date}\",\n",
    ")"
   ],
   "metadata": {
    "collapsed": false,
    "ExecuteTime": {
     "end_time": "2024-11-22T07:41:50.150663Z",
     "start_time": "2024-11-22T07:41:49.523972800Z"
    }
   },
   "id": "e11037dc562d9202",
   "execution_count": 36
  }
 ],
 "metadata": {
  "kernelspec": {
   "display_name": "Python 3 (ipykernel)",
   "language": "python",
   "name": "python3"
  },
  "language_info": {
   "codemirror_mode": {
    "name": "ipython",
    "version": 3
   },
   "file_extension": ".py",
   "mimetype": "text/x-python",
   "name": "python",
   "nbconvert_exporter": "python",
   "pygments_lexer": "ipython3",
   "version": "3.12.0"
  }
 },
 "nbformat": 4,
 "nbformat_minor": 5
}
