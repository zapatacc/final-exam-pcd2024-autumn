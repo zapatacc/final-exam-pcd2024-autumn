{
 "cells": [
  {
   "cell_type": "code",
   "outputs": [],
   "source": [
    "import pandas as pd\n",
    "import numpy as np\n",
    "from sklearn.feature_extraction.text import TfidfVectorizer\n",
    "from sklearn.model_selection import train_test_split, GridSearchCV\n",
    "from sklearn.metrics import classification_report, accuracy_score\n",
    "import dagshub\n",
    "import mlflow \n",
    "import mlflow.sklearn\n",
    "from sklearn.model_selection import train_test_split\n",
    "from sklearn.linear_model import LogisticRegression"
   ],
   "metadata": {
    "collapsed": false,
    "ExecuteTime": {
     "end_time": "2024-11-22T16:00:51.762015700Z",
     "start_time": "2024-11-22T16:00:38.535746800Z"
    }
   },
   "id": "74646297e1fe228a",
   "execution_count": 2
  },
  {
   "cell_type": "code",
   "outputs": [
    {
     "data": {
      "text/plain": "                                 complaint_what_happened  \\\n0      good morning name appreciate could help put st...   \n1      upgraded card //2018 told agent upgrade annive...   \n2      chase card reported //2019 . however , fraudul...   \n3      //2018 , trying book ticket , came across offe...   \n4      grand son give check { $ 1600.00 } deposit cha...   \n...                                                  ...   \n18958  husband passed away . chase bank put check hol...   \n18959  chase card customer well decade , offered mult...   \n18960  wednesday , // called chas , visa credit card ...   \n18961  familiar pay understand great risk provides co...   \n18962  flawless credit 30 yrs . 've chase credit card...   \n\n                                   ticket_classification  \n0                     Debt collection + Credit card debt  \n1      Credit card or prepaid card + General-purpose ...  \n2      Credit reporting, credit repair services, or o...  \n3      Credit reporting, credit repair services, or o...  \n4         Checking or savings account + Checking account  \n...                                                  ...  \n18958     Checking or savings account + Checking account  \n18959  Credit card or prepaid card + General-purpose ...  \n18960  Credit card or prepaid card + General-purpose ...  \n18961     Checking or savings account + Checking account  \n18962  Credit card or prepaid card + General-purpose ...  \n\n[18963 rows x 2 columns]",
      "text/html": "<div>\n<style scoped>\n    .dataframe tbody tr th:only-of-type {\n        vertical-align: middle;\n    }\n\n    .dataframe tbody tr th {\n        vertical-align: top;\n    }\n\n    .dataframe thead th {\n        text-align: right;\n    }\n</style>\n<table border=\"1\" class=\"dataframe\">\n  <thead>\n    <tr style=\"text-align: right;\">\n      <th></th>\n      <th>complaint_what_happened</th>\n      <th>ticket_classification</th>\n    </tr>\n  </thead>\n  <tbody>\n    <tr>\n      <th>0</th>\n      <td>good morning name appreciate could help put st...</td>\n      <td>Debt collection + Credit card debt</td>\n    </tr>\n    <tr>\n      <th>1</th>\n      <td>upgraded card //2018 told agent upgrade annive...</td>\n      <td>Credit card or prepaid card + General-purpose ...</td>\n    </tr>\n    <tr>\n      <th>2</th>\n      <td>chase card reported //2019 . however , fraudul...</td>\n      <td>Credit reporting, credit repair services, or o...</td>\n    </tr>\n    <tr>\n      <th>3</th>\n      <td>//2018 , trying book ticket , came across offe...</td>\n      <td>Credit reporting, credit repair services, or o...</td>\n    </tr>\n    <tr>\n      <th>4</th>\n      <td>grand son give check { $ 1600.00 } deposit cha...</td>\n      <td>Checking or savings account + Checking account</td>\n    </tr>\n    <tr>\n      <th>...</th>\n      <td>...</td>\n      <td>...</td>\n    </tr>\n    <tr>\n      <th>18958</th>\n      <td>husband passed away . chase bank put check hol...</td>\n      <td>Checking or savings account + Checking account</td>\n    </tr>\n    <tr>\n      <th>18959</th>\n      <td>chase card customer well decade , offered mult...</td>\n      <td>Credit card or prepaid card + General-purpose ...</td>\n    </tr>\n    <tr>\n      <th>18960</th>\n      <td>wednesday , // called chas , visa credit card ...</td>\n      <td>Credit card or prepaid card + General-purpose ...</td>\n    </tr>\n    <tr>\n      <th>18961</th>\n      <td>familiar pay understand great risk provides co...</td>\n      <td>Checking or savings account + Checking account</td>\n    </tr>\n    <tr>\n      <th>18962</th>\n      <td>flawless credit 30 yrs . 've chase credit card...</td>\n      <td>Credit card or prepaid card + General-purpose ...</td>\n    </tr>\n  </tbody>\n</table>\n<p>18963 rows × 2 columns</p>\n</div>"
     },
     "execution_count": 3,
     "metadata": {},
     "output_type": "execute_result"
    }
   ],
   "source": [
    "file_path = \"../data/processed/tickets_cleaned.csv\"\n",
    "df = pd.read_csv(file_path)\n",
    "df"
   ],
   "metadata": {
    "collapsed": true,
    "ExecuteTime": {
     "end_time": "2024-11-22T16:00:54.523838300Z",
     "start_time": "2024-11-22T16:00:53.781130900Z"
    }
   },
   "id": "initial_id",
   "execution_count": 3
  },
  {
   "cell_type": "code",
   "outputs": [],
   "source": [
    "X = df[\"complaint_what_happened\"] \n",
    "y = df[\"ticket_classification\"]"
   ],
   "metadata": {
    "collapsed": false,
    "ExecuteTime": {
     "end_time": "2024-11-22T16:00:58.219394Z",
     "start_time": "2024-11-22T16:00:58.210289Z"
    }
   },
   "id": "964597b874943149",
   "execution_count": 4
  },
  {
   "cell_type": "code",
   "outputs": [
    {
     "data": {
      "text/plain": "Accessing as PacoTinoco\n",
      "text/html": "<pre style=\"white-space:pre;overflow-x:auto;line-height:normal;font-family:Menlo,'DejaVu Sans Mono',consolas,'Courier New',monospace\">Accessing as PacoTinoco\n</pre>\n"
     },
     "metadata": {},
     "output_type": "display_data"
    },
    {
     "data": {
      "text/plain": "Initialized MLflow to track repo \u001B[32m\"zapatacc/final-exam-pcd2024-autumn\"\u001B[0m\n",
      "text/html": "<pre style=\"white-space:pre;overflow-x:auto;line-height:normal;font-family:Menlo,'DejaVu Sans Mono',consolas,'Courier New',monospace\">Initialized MLflow to track repo <span style=\"color: #008000; text-decoration-color: #008000\">\"zapatacc/final-exam-pcd2024-autumn\"</span>\n</pre>\n"
     },
     "metadata": {},
     "output_type": "display_data"
    },
    {
     "data": {
      "text/plain": "Repository zapatacc/final-exam-pcd2024-autumn initialized!\n",
      "text/html": "<pre style=\"white-space:pre;overflow-x:auto;line-height:normal;font-family:Menlo,'DejaVu Sans Mono',consolas,'Courier New',monospace\">Repository zapatacc/final-exam-pcd2024-autumn initialized!\n</pre>\n"
     },
     "metadata": {},
     "output_type": "display_data"
    },
    {
     "name": "stdout",
     "output_type": "stream",
     "text": [
      "https://dagshub.com/zapatacc/final-exam-pcd2024-autumn.mlflow\n"
     ]
    }
   ],
   "source": [
    "dagshub.init(url=\"https://dagshub.com/zapatacc/final-exam-pcd2024-autumn\", mlflow=True)\n",
    "\n",
    "MLFLOW_TRACKING_URI = mlflow.get_tracking_uri()\n",
    "print(MLFLOW_TRACKING_URI)"
   ],
   "metadata": {
    "collapsed": false,
    "ExecuteTime": {
     "end_time": "2024-11-22T16:01:11.662099Z",
     "start_time": "2024-11-22T16:01:00.246219100Z"
    }
   },
   "id": "acd9fa975c87735",
   "execution_count": 5
  },
  {
   "cell_type": "code",
   "outputs": [],
   "source": [
    "X_train, X_test, y_train, y_test = train_test_split(X, y, test_size=0.2, random_state=42)\n",
    "\n",
    "# Vectorización del texto\n",
    "tfidf_vectorizer = TfidfVectorizer(max_features=5000)  "
   ],
   "metadata": {
    "collapsed": false,
    "ExecuteTime": {
     "end_time": "2024-11-22T16:01:25.282141200Z",
     "start_time": "2024-11-22T16:01:25.254598500Z"
    }
   },
   "id": "5d8c20b69d4388bd",
   "execution_count": 6
  },
  {
   "cell_type": "code",
   "outputs": [],
   "source": [
    "# Dividir los datos en entrenamiento y prueba\n",
    "X_train, X_test, y_train, y_test = train_test_split(\n",
    "    df['complaint_what_happened'], \n",
    "    df['ticket_classification'], \n",
    "    test_size=0.2, \n",
    "    random_state=42\n",
    ")\n",
    "\n",
    "# Ajustar y transformar los datos con TF-IDF\n",
    "X_train_tfidf = tfidf_vectorizer.fit_transform(X_train)\n",
    "X_test_tfidf = tfidf_vectorizer.transform(X_test)"
   ],
   "metadata": {
    "collapsed": false,
    "ExecuteTime": {
     "end_time": "2024-11-22T16:01:41.070463Z",
     "start_time": "2024-11-22T16:01:39.332922700Z"
    }
   },
   "id": "74b902596ecd2ab6",
   "execution_count": 7
  },
  {
   "cell_type": "code",
   "outputs": [],
   "source": [
    "# Probé 10 combinaciones diferentes en este caso de param grid y estas dos fueron las mejores que me salieron y por eso las dejé\n",
    "\n",
    "param_grid = [\n",
    "    {\"max_iter\": 300, \"C\": 2.0, \"solver\": \"liblinear\"},\n",
    "    {\"max_iter\": 100, \"C\": 1.5, \"solver\": \"sag\"}, \n",
    "]"
   ],
   "metadata": {
    "collapsed": false,
    "ExecuteTime": {
     "end_time": "2024-11-22T16:01:43.970954800Z",
     "start_time": "2024-11-22T16:01:43.955817Z"
    }
   },
   "id": "be5989b0e4b3a391",
   "execution_count": 8
  },
  {
   "cell_type": "code",
   "outputs": [
    {
     "name": "stderr",
     "output_type": "stream",
     "text": [
      "2024/11/21 21:46:02 WARNING mlflow.models.model: Model logged without a signature and input example. Please set `input_example` parameter when logging the model to auto infer the model signature.\n"
     ]
    },
    {
     "name": "stdout",
     "output_type": "stream",
     "text": [
      "Run 1:\n",
      "Classification Report:\n",
      "                                                                                                                precision    recall  f1-score   support\n",
      "\n",
      "                                                        Bank account or service + (CD) Certificate of deposit       0.00      0.00      0.00         3\n",
      "                                                 Bank account or service + Cashing a check without an account       0.00      0.00      0.00         7\n",
      "                                                                   Bank account or service + Checking account       0.47      0.27      0.35       217\n",
      "                                                         Bank account or service + Other bank product/service       1.00      0.02      0.04        55\n",
      "                                                                    Bank account or service + Savings account       0.00      0.00      0.00        17\n",
      "                                                    Checking or savings account + CD (Certificate of Deposit)       1.00      0.80      0.89         5\n",
      "                                                               Checking or savings account + Checking account       0.60      0.84      0.70       788\n",
      "                                               Checking or savings account + Other banking product or service       0.00      0.00      0.00        36\n",
      "                                                                Checking or savings account + Savings account       0.30      0.09      0.13        35\n",
      "                                                                             Consumer Loan + Installment loan       0.00      0.00      0.00         8\n",
      "                                                                                    Consumer Loan + Pawn loan       0.00      0.00      0.00         1\n",
      "                                                                                   Consumer Loan + Title loan       0.00      0.00      0.00         1\n",
      "                                                                                Consumer Loan + Vehicle lease       0.00      0.00      0.00         7\n",
      "                                                                                 Consumer Loan + Vehicle loan       0.42      0.16      0.23        32\n",
      "                                     Credit card or prepaid card + General-purpose credit card or charge card       0.69      0.90      0.78       969\n",
      "                                                   Credit card or prepaid card + General-purpose prepaid card       0.00      0.00      0.00        12\n",
      "                                                                      Credit card or prepaid card + Gift card       0.00      0.00      0.00         2\n",
      "                                                        Credit card or prepaid card + Government benefit card       0.00      0.00      0.00         3\n",
      "                                                                   Credit card or prepaid card + Payroll card       0.00      0.00      0.00         1\n",
      "                                                              Credit card or prepaid card + Store credit card       0.00      0.00      0.00        14\n",
      "        Credit reporting, credit repair services, or other personal consumer reports + Credit repair services       0.00      0.00      0.00         1\n",
      "              Credit reporting, credit repair services, or other personal consumer reports + Credit reporting       0.60      0.72      0.66       389\n",
      "Credit reporting, credit repair services, or other personal consumer reports + Other personal consumer report       0.00      0.00      0.00        11\n",
      "                                                                                       Debt collection + Auto       0.00      0.00      0.00         1\n",
      "                                                                                Debt collection + Credit card       0.48      0.24      0.32        46\n",
      "                                                                           Debt collection + Credit card debt       0.45      0.27      0.34        92\n",
      "                                                                              Debt collection + I do not know       1.00      0.06      0.11        17\n",
      "                                                                                   Debt collection + Mortgage       0.00      0.00      0.00         9\n",
      "                                                                              Debt collection + Mortgage debt       1.00      0.11      0.20        18\n",
      "                                                                   Debt collection + Non-federal student loan       0.00      0.00      0.00         1\n",
      "                                                      Debt collection + Other (i.e. phone, health club, etc.)       0.00      0.00      0.00         4\n",
      "                                                                                 Debt collection + Other debt       0.00      0.00      0.00         6\n",
      "                                                                                Debt collection + Payday loan       0.00      0.00      0.00         1\n",
      "                                   Money transfer, virtual currency, or money service + Check cashing service       0.00      0.00      0.00         2\n",
      "                            Money transfer, virtual currency, or money service + Domestic (US) money transfer       0.26      0.20      0.22        61\n",
      "                               Money transfer, virtual currency, or money service + Foreign currency exchange       0.00      0.00      0.00         4\n",
      "                            Money transfer, virtual currency, or money service + International money transfer       1.00      0.17      0.29        29\n",
      "                                Money transfer, virtual currency, or money service + Mobile or digital wallet       0.71      0.13      0.22        39\n",
      "                                             Money transfer, virtual currency, or money service + Money order       0.00      0.00      0.00         4\n",
      "                     Money transfer, virtual currency, or money service + Traveler's check or cashier's check       0.00      0.00      0.00         8\n",
      "                                        Money transfer, virtual currency, or money service + Virtual currency       0.00      0.00      0.00         8\n",
      "                                                               Money transfers + Domestic (US) money transfer       0.00      0.00      0.00         4\n",
      "                                                               Money transfers + International money transfer       0.00      0.00      0.00         5\n",
      "                                                            Mortgage + Conventional adjustable mortgage (ARM)       0.33      0.08      0.13        60\n",
      "                                                                       Mortgage + Conventional fixed mortgage       0.33      0.32      0.33       171\n",
      "                                                                        Mortgage + Conventional home mortgage       0.41      0.50      0.45       235\n",
      "                                                                                      Mortgage + FHA mortgage       0.31      0.33      0.32        87\n",
      "                                                                Mortgage + Home equity loan or line of credit       0.67      0.07      0.13        27\n",
      "                                                        Mortgage + Home equity loan or line of credit (HELOC)       0.29      0.13      0.18        30\n",
      "                                                                                    Mortgage + Other mortgage       0.00      0.00      0.00        38\n",
      "                                                                            Mortgage + Other type of mortgage       1.00      0.05      0.10        20\n",
      "                                                                                  Mortgage + Reverse mortgage       0.00      0.00      0.00         2\n",
      "                                                                                       Mortgage + VA mortgage       0.50      0.08      0.13        13\n",
      "                                                                        Other financial service + Money order       0.00      0.00      0.00         1\n",
      "                                                        Other financial service + Traveler’s/Cashier’s checks       0.00      0.00      0.00         1\n",
      "                                                 Payday loan, title loan, or personal loan + Installment loan       0.00      0.00      0.00         6\n",
      "                                          Payday loan, title loan, or personal loan + Personal line of credit       0.00      0.00      0.00         6\n",
      "                                                       Payday loan, title loan, or personal loan + Title loan       0.00      0.00      0.00         2\n",
      "                                                               Prepaid card + Government benefit payment card       0.00      0.00      0.00         1\n",
      "                                                                Student loan + Federal student loan servicing       0.00      0.00      0.00         2\n",
      "                                                                      Student loan + Non-federal student loan       0.83      0.66      0.73        29\n",
      "                                                                          Student loan + Private student loan       0.00      0.00      0.00         9\n",
      "                                                                                Vehicle loan or lease + Lease       0.46      0.27      0.34        22\n",
      "                                                                                 Vehicle loan or lease + Loan       0.57      0.47      0.51        58\n",
      "\n",
      "                                                                                                     accuracy                           0.58      3793\n",
      "                                                                                                    macro avg       0.25      0.12      0.14      3793\n",
      "                                                                                                 weighted avg       0.54      0.58      0.53      3793\n"
     ]
    },
    {
     "name": "stderr",
     "output_type": "stream",
     "text": [
      "C:\\Users\\Francisco\\PycharmProjects\\final-exam-pcd2024-autumn\\.venv\\Lib\\site-packages\\sklearn\\metrics\\_classification.py:1531: UndefinedMetricWarning: Precision is ill-defined and being set to 0.0 in labels with no predicted samples. Use `zero_division` parameter to control this behavior.\n",
      "  _warn_prf(average, modifier, f\"{metric.capitalize()} is\", len(result))\n",
      "C:\\Users\\Francisco\\PycharmProjects\\final-exam-pcd2024-autumn\\.venv\\Lib\\site-packages\\sklearn\\metrics\\_classification.py:1531: UndefinedMetricWarning: Precision is ill-defined and being set to 0.0 in labels with no predicted samples. Use `zero_division` parameter to control this behavior.\n",
      "  _warn_prf(average, modifier, f\"{metric.capitalize()} is\", len(result))\n",
      "C:\\Users\\Francisco\\PycharmProjects\\final-exam-pcd2024-autumn\\.venv\\Lib\\site-packages\\sklearn\\metrics\\_classification.py:1531: UndefinedMetricWarning: Precision is ill-defined and being set to 0.0 in labels with no predicted samples. Use `zero_division` parameter to control this behavior.\n",
      "  _warn_prf(average, modifier, f\"{metric.capitalize()} is\", len(result))\n"
     ]
    },
    {
     "name": "stdout",
     "output_type": "stream",
     "text": [
      "🏃 View run Logistic Regression Run 1 at: https://dagshub.com/zapatacc/final-exam-pcd2024-autumn.mlflow/#/experiments/0/runs/cd211721847f4750bcf0c24f65e1ec5b\n",
      "🧪 View experiment at: https://dagshub.com/zapatacc/final-exam-pcd2024-autumn.mlflow/#/experiments/0\n"
     ]
    },
    {
     "name": "stderr",
     "output_type": "stream",
     "text": [
      "2024/11/21 21:46:44 WARNING mlflow.models.model: Model logged without a signature and input example. Please set `input_example` parameter when logging the model to auto infer the model signature.\n"
     ]
    },
    {
     "name": "stdout",
     "output_type": "stream",
     "text": [
      "Run 2:\n",
      "Classification Report:\n",
      "                                                                                                                precision    recall  f1-score   support\n",
      "\n",
      "                                                        Bank account or service + (CD) Certificate of deposit       0.00      0.00      0.00         3\n",
      "                                                 Bank account or service + Cashing a check without an account       0.00      0.00      0.00         7\n",
      "                                                                   Bank account or service + Checking account       0.48      0.32      0.38       217\n",
      "                                                         Bank account or service + Other bank product/service       1.00      0.02      0.04        55\n",
      "                                                                    Bank account or service + Savings account       0.00      0.00      0.00        17\n",
      "                                                    Checking or savings account + CD (Certificate of Deposit)       1.00      0.80      0.89         5\n",
      "                                                               Checking or savings account + Checking account       0.61      0.83      0.71       788\n",
      "                                               Checking or savings account + Other banking product or service       0.00      0.00      0.00        36\n",
      "                                                                Checking or savings account + Savings account       0.30      0.09      0.13        35\n",
      "                                                                             Consumer Loan + Installment loan       0.00      0.00      0.00         8\n",
      "                                                                                    Consumer Loan + Pawn loan       0.00      0.00      0.00         1\n",
      "                                                                                   Consumer Loan + Title loan       0.00      0.00      0.00         1\n",
      "                                                                                Consumer Loan + Vehicle lease       0.00      0.00      0.00         7\n",
      "                                                                                 Consumer Loan + Vehicle loan       0.46      0.19      0.27        32\n",
      "                                     Credit card or prepaid card + General-purpose credit card or charge card       0.70      0.90      0.79       969\n",
      "                                                   Credit card or prepaid card + General-purpose prepaid card       0.00      0.00      0.00        12\n",
      "                                                                      Credit card or prepaid card + Gift card       0.00      0.00      0.00         2\n",
      "                                                        Credit card or prepaid card + Government benefit card       0.00      0.00      0.00         3\n",
      "                                                                   Credit card or prepaid card + Payroll card       0.00      0.00      0.00         1\n",
      "                                                              Credit card or prepaid card + Store credit card       0.00      0.00      0.00        14\n",
      "        Credit reporting, credit repair services, or other personal consumer reports + Credit repair services       0.00      0.00      0.00         1\n",
      "              Credit reporting, credit repair services, or other personal consumer reports + Credit reporting       0.62      0.73      0.67       389\n",
      "Credit reporting, credit repair services, or other personal consumer reports + Other personal consumer report       0.00      0.00      0.00        11\n",
      "                                                                                       Debt collection + Auto       0.00      0.00      0.00         1\n",
      "                                                                                Debt collection + Credit card       0.48      0.24      0.32        46\n",
      "                                                                           Debt collection + Credit card debt       0.47      0.30      0.37        92\n",
      "                                                                              Debt collection + I do not know       1.00      0.06      0.11        17\n",
      "                                                                                   Debt collection + Mortgage       0.00      0.00      0.00         9\n",
      "                                                                              Debt collection + Mortgage debt       1.00      0.06      0.11        18\n",
      "                                                                   Debt collection + Non-federal student loan       0.00      0.00      0.00         1\n",
      "                                                      Debt collection + Other (i.e. phone, health club, etc.)       0.00      0.00      0.00         4\n",
      "                                                                                 Debt collection + Other debt       0.00      0.00      0.00         6\n",
      "                                                                                Debt collection + Payday loan       0.00      0.00      0.00         1\n",
      "                                   Money transfer, virtual currency, or money service + Check cashing service       0.00      0.00      0.00         2\n",
      "                            Money transfer, virtual currency, or money service + Domestic (US) money transfer       0.27      0.23      0.25        61\n",
      "                               Money transfer, virtual currency, or money service + Foreign currency exchange       0.00      0.00      0.00         4\n",
      "                            Money transfer, virtual currency, or money service + International money transfer       1.00      0.17      0.29        29\n",
      "                                Money transfer, virtual currency, or money service + Mobile or digital wallet       0.67      0.15      0.25        39\n",
      "                                             Money transfer, virtual currency, or money service + Money order       0.00      0.00      0.00         4\n",
      "                     Money transfer, virtual currency, or money service + Traveler's check or cashier's check       0.00      0.00      0.00         8\n",
      "                                        Money transfer, virtual currency, or money service + Virtual currency       0.00      0.00      0.00         8\n",
      "                                                               Money transfers + Domestic (US) money transfer       0.00      0.00      0.00         4\n",
      "                                                               Money transfers + International money transfer       0.00      0.00      0.00         5\n",
      "                                                            Mortgage + Conventional adjustable mortgage (ARM)       0.31      0.08      0.13        60\n",
      "                                                                       Mortgage + Conventional fixed mortgage       0.32      0.35      0.34       171\n",
      "                                                                        Mortgage + Conventional home mortgage       0.40      0.50      0.45       235\n",
      "                                                                                      Mortgage + FHA mortgage       0.29      0.33      0.31        87\n",
      "                                                                Mortgage + Home equity loan or line of credit       0.67      0.07      0.13        27\n",
      "                                                        Mortgage + Home equity loan or line of credit (HELOC)       0.27      0.13      0.18        30\n",
      "                                                                                    Mortgage + Other mortgage       0.00      0.00      0.00        38\n",
      "                                                                            Mortgage + Other type of mortgage       1.00      0.05      0.10        20\n",
      "                                                                                  Mortgage + Reverse mortgage       0.00      0.00      0.00         2\n",
      "                                                                                       Mortgage + VA mortgage       0.00      0.00      0.00        13\n",
      "                                                                        Other financial service + Money order       0.00      0.00      0.00         1\n",
      "                                                        Other financial service + Traveler’s/Cashier’s checks       0.00      0.00      0.00         1\n",
      "                                                 Payday loan, title loan, or personal loan + Installment loan       0.00      0.00      0.00         6\n",
      "                                          Payday loan, title loan, or personal loan + Personal line of credit       0.00      0.00      0.00         6\n",
      "                                                       Payday loan, title loan, or personal loan + Title loan       0.00      0.00      0.00         2\n",
      "                                                               Prepaid card + Government benefit payment card       0.00      0.00      0.00         1\n",
      "                                                                Student loan + Federal student loan servicing       0.00      0.00      0.00         2\n",
      "                                                                      Student loan + Non-federal student loan       0.84      0.55      0.67        29\n",
      "                                                                          Student loan + Private student loan       0.00      0.00      0.00         9\n",
      "                                                                                Vehicle loan or lease + Lease       0.50      0.32      0.39        22\n",
      "                                                                                 Vehicle loan or lease + Loan       0.55      0.48      0.51        58\n",
      "\n",
      "                                                                                                     accuracy                           0.59      3793\n",
      "                                                                                                    macro avg       0.24      0.12      0.14      3793\n",
      "                                                                                                 weighted avg       0.55      0.59      0.54      3793\n"
     ]
    },
    {
     "name": "stderr",
     "output_type": "stream",
     "text": [
      "C:\\Users\\Francisco\\PycharmProjects\\final-exam-pcd2024-autumn\\.venv\\Lib\\site-packages\\sklearn\\metrics\\_classification.py:1531: UndefinedMetricWarning: Precision is ill-defined and being set to 0.0 in labels with no predicted samples. Use `zero_division` parameter to control this behavior.\n",
      "  _warn_prf(average, modifier, f\"{metric.capitalize()} is\", len(result))\n",
      "C:\\Users\\Francisco\\PycharmProjects\\final-exam-pcd2024-autumn\\.venv\\Lib\\site-packages\\sklearn\\metrics\\_classification.py:1531: UndefinedMetricWarning: Precision is ill-defined and being set to 0.0 in labels with no predicted samples. Use `zero_division` parameter to control this behavior.\n",
      "  _warn_prf(average, modifier, f\"{metric.capitalize()} is\", len(result))\n",
      "C:\\Users\\Francisco\\PycharmProjects\\final-exam-pcd2024-autumn\\.venv\\Lib\\site-packages\\sklearn\\metrics\\_classification.py:1531: UndefinedMetricWarning: Precision is ill-defined and being set to 0.0 in labels with no predicted samples. Use `zero_division` parameter to control this behavior.\n",
      "  _warn_prf(average, modifier, f\"{metric.capitalize()} is\", len(result))\n"
     ]
    },
    {
     "name": "stdout",
     "output_type": "stream",
     "text": [
      "🏃 View run Logistic Regression Run 2 at: https://dagshub.com/zapatacc/final-exam-pcd2024-autumn.mlflow/#/experiments/0/runs/6b2964c3ad1546249f5d7da9d6524d15\n",
      "🧪 View experiment at: https://dagshub.com/zapatacc/final-exam-pcd2024-autumn.mlflow/#/experiments/0\n",
      "All experiments finished and logged in MLflow.\n"
     ]
    }
   ],
   "source": [
    "# Ejecutar cada combinación de hiperparámetros\n",
    "for idx, params in enumerate(param_grid):\n",
    "    with mlflow.start_run(run_name=f\"Logistic Regression Run {idx+1}\"):\n",
    "        # Inicializar el modelo con los parámetros actuales\n",
    "        logreg = LogisticRegression(\n",
    "            max_iter=params[\"max_iter\"], \n",
    "            C=params[\"C\"], \n",
    "            solver=params[\"solver\"], \n",
    "            random_state=42\n",
    "        )\n",
    "        \n",
    "        # Entrenar el modelo\n",
    "        logreg.fit(X_train_tfidf, y_train)\n",
    "        \n",
    "        # Predicciones\n",
    "        y_pred = logreg.predict(X_test_tfidf)\n",
    "        \n",
    "        # Métrica de accuracy\n",
    "        accuracy = accuracy_score(y_test, y_pred)\n",
    "        \n",
    "        # Loggear parámetros y métricas en MLflow\n",
    "        mlflow.log_params(params)\n",
    "        mlflow.log_metric(\"accuracy\", accuracy)\n",
    "        \n",
    "        # Registrar el modelo en MLflow\n",
    "        mlflow.sklearn.log_model(logreg, f\"logistic-regression-model-run-{idx+1}\")\n",
    "        \n",
    "        # Imprimir el reporte de clasificación\n",
    "        print(f\"Run {idx+1}:\")\n",
    "        print(\"Classification Report:\\n\", classification_report(y_test, y_pred))\n",
    "\n",
    "# Confirmar que se registraron todos los experimentos en MLflow\n",
    "print(\"All experiments finished and logged in MLflow.\")"
   ],
   "metadata": {
    "collapsed": false,
    "ExecuteTime": {
     "end_time": "2024-11-22T03:46:47.723953800Z",
     "start_time": "2024-11-22T03:45:28.488484900Z"
    }
   },
   "id": "f7cf87a69cee1c88",
   "execution_count": 16
  },
  {
   "cell_type": "markdown",
   "source": [
    "*  En esta parte estoy entrenando con los dos mejores parámetros que me salieron de los 10 intentos que hice  arriba para sacar mi champion y challenger "
   ],
   "metadata": {
    "collapsed": false
   },
   "id": "98e471d2d26294b5"
  },
  {
   "cell_type": "markdown",
   "source": [
    "## CHALLENGER LOGISTIC"
   ],
   "metadata": {
    "collapsed": false
   },
   "id": "c24a02a228694a43"
  },
  {
   "cell_type": "code",
   "outputs": [
    {
     "name": "stderr",
     "output_type": "stream",
     "text": [
      "2024/11/22 10:03:27 WARNING mlflow.models.model: Model logged without a signature and input example. Please set `input_example` parameter when logging the model to auto infer the model signature.\n",
      "C:\\Users\\Francisco\\PycharmProjects\\final-exam-pcd2024-autumn\\.venv\\Lib\\site-packages\\sklearn\\metrics\\_classification.py:1531: UndefinedMetricWarning: Precision is ill-defined and being set to 0.0 in labels with no predicted samples. Use `zero_division` parameter to control this behavior.\n",
      "  _warn_prf(average, modifier, f\"{metric.capitalize()} is\", len(result))\n",
      "C:\\Users\\Francisco\\PycharmProjects\\final-exam-pcd2024-autumn\\.venv\\Lib\\site-packages\\sklearn\\metrics\\_classification.py:1531: UndefinedMetricWarning: Precision is ill-defined and being set to 0.0 in labels with no predicted samples. Use `zero_division` parameter to control this behavior.\n",
      "  _warn_prf(average, modifier, f\"{metric.capitalize()} is\", len(result))\n",
      "C:\\Users\\Francisco\\PycharmProjects\\final-exam-pcd2024-autumn\\.venv\\Lib\\site-packages\\sklearn\\metrics\\_classification.py:1531: UndefinedMetricWarning: Precision is ill-defined and being set to 0.0 in labels with no predicted samples. Use `zero_division` parameter to control this behavior.\n",
      "  _warn_prf(average, modifier, f\"{metric.capitalize()} is\", len(result))\n"
     ]
    },
    {
     "name": "stdout",
     "output_type": "stream",
     "text": [
      "Classification Report:\n",
      "                                                                                                                precision    recall  f1-score   support\n",
      "\n",
      "                                                        Bank account or service + (CD) Certificate of deposit       0.00      0.00      0.00         3\n",
      "                                                 Bank account or service + Cashing a check without an account       0.00      0.00      0.00         7\n",
      "                                                                   Bank account or service + Checking account       0.47      0.27      0.35       217\n",
      "                                                         Bank account or service + Other bank product/service       1.00      0.02      0.04        55\n",
      "                                                                    Bank account or service + Savings account       0.00      0.00      0.00        17\n",
      "                                                    Checking or savings account + CD (Certificate of Deposit)       1.00      0.80      0.89         5\n",
      "                                                               Checking or savings account + Checking account       0.60      0.84      0.70       788\n",
      "                                               Checking or savings account + Other banking product or service       0.00      0.00      0.00        36\n",
      "                                                                Checking or savings account + Savings account       0.30      0.09      0.13        35\n",
      "                                                                             Consumer Loan + Installment loan       0.00      0.00      0.00         8\n",
      "                                                                                    Consumer Loan + Pawn loan       0.00      0.00      0.00         1\n",
      "                                                                                   Consumer Loan + Title loan       0.00      0.00      0.00         1\n",
      "                                                                                Consumer Loan + Vehicle lease       0.00      0.00      0.00         7\n",
      "                                                                                 Consumer Loan + Vehicle loan       0.42      0.16      0.23        32\n",
      "                                     Credit card or prepaid card + General-purpose credit card or charge card       0.69      0.90      0.78       969\n",
      "                                                   Credit card or prepaid card + General-purpose prepaid card       0.00      0.00      0.00        12\n",
      "                                                                      Credit card or prepaid card + Gift card       0.00      0.00      0.00         2\n",
      "                                                        Credit card or prepaid card + Government benefit card       0.00      0.00      0.00         3\n",
      "                                                                   Credit card or prepaid card + Payroll card       0.00      0.00      0.00         1\n",
      "                                                              Credit card or prepaid card + Store credit card       0.00      0.00      0.00        14\n",
      "        Credit reporting, credit repair services, or other personal consumer reports + Credit repair services       0.00      0.00      0.00         1\n",
      "              Credit reporting, credit repair services, or other personal consumer reports + Credit reporting       0.60      0.72      0.66       389\n",
      "Credit reporting, credit repair services, or other personal consumer reports + Other personal consumer report       0.00      0.00      0.00        11\n",
      "                                                                                       Debt collection + Auto       0.00      0.00      0.00         1\n",
      "                                                                                Debt collection + Credit card       0.48      0.24      0.32        46\n",
      "                                                                           Debt collection + Credit card debt       0.45      0.27      0.34        92\n",
      "                                                                              Debt collection + I do not know       1.00      0.06      0.11        17\n",
      "                                                                                   Debt collection + Mortgage       0.00      0.00      0.00         9\n",
      "                                                                              Debt collection + Mortgage debt       1.00      0.11      0.20        18\n",
      "                                                                   Debt collection + Non-federal student loan       0.00      0.00      0.00         1\n",
      "                                                      Debt collection + Other (i.e. phone, health club, etc.)       0.00      0.00      0.00         4\n",
      "                                                                                 Debt collection + Other debt       0.00      0.00      0.00         6\n",
      "                                                                                Debt collection + Payday loan       0.00      0.00      0.00         1\n",
      "                                   Money transfer, virtual currency, or money service + Check cashing service       0.00      0.00      0.00         2\n",
      "                            Money transfer, virtual currency, or money service + Domestic (US) money transfer       0.26      0.20      0.22        61\n",
      "                               Money transfer, virtual currency, or money service + Foreign currency exchange       0.00      0.00      0.00         4\n",
      "                            Money transfer, virtual currency, or money service + International money transfer       1.00      0.17      0.29        29\n",
      "                                Money transfer, virtual currency, or money service + Mobile or digital wallet       0.71      0.13      0.22        39\n",
      "                                             Money transfer, virtual currency, or money service + Money order       0.00      0.00      0.00         4\n",
      "                     Money transfer, virtual currency, or money service + Traveler's check or cashier's check       0.00      0.00      0.00         8\n",
      "                                        Money transfer, virtual currency, or money service + Virtual currency       0.00      0.00      0.00         8\n",
      "                                                               Money transfers + Domestic (US) money transfer       0.00      0.00      0.00         4\n",
      "                                                               Money transfers + International money transfer       0.00      0.00      0.00         5\n",
      "                                                            Mortgage + Conventional adjustable mortgage (ARM)       0.33      0.08      0.13        60\n",
      "                                                                       Mortgage + Conventional fixed mortgage       0.33      0.32      0.33       171\n",
      "                                                                        Mortgage + Conventional home mortgage       0.41      0.50      0.45       235\n",
      "                                                                                      Mortgage + FHA mortgage       0.31      0.33      0.32        87\n",
      "                                                                Mortgage + Home equity loan or line of credit       0.67      0.07      0.13        27\n",
      "                                                        Mortgage + Home equity loan or line of credit (HELOC)       0.29      0.13      0.18        30\n",
      "                                                                                    Mortgage + Other mortgage       0.00      0.00      0.00        38\n",
      "                                                                            Mortgage + Other type of mortgage       1.00      0.05      0.10        20\n",
      "                                                                                  Mortgage + Reverse mortgage       0.00      0.00      0.00         2\n",
      "                                                                                       Mortgage + VA mortgage       0.50      0.08      0.13        13\n",
      "                                                                        Other financial service + Money order       0.00      0.00      0.00         1\n",
      "                                                        Other financial service + Traveler’s/Cashier’s checks       0.00      0.00      0.00         1\n",
      "                                                 Payday loan, title loan, or personal loan + Installment loan       0.00      0.00      0.00         6\n",
      "                                          Payday loan, title loan, or personal loan + Personal line of credit       0.00      0.00      0.00         6\n",
      "                                                       Payday loan, title loan, or personal loan + Title loan       0.00      0.00      0.00         2\n",
      "                                                               Prepaid card + Government benefit payment card       0.00      0.00      0.00         1\n",
      "                                                                Student loan + Federal student loan servicing       0.00      0.00      0.00         2\n",
      "                                                                      Student loan + Non-federal student loan       0.83      0.66      0.73        29\n",
      "                                                                          Student loan + Private student loan       0.00      0.00      0.00         9\n",
      "                                                                                Vehicle loan or lease + Lease       0.46      0.27      0.34        22\n",
      "                                                                                 Vehicle loan or lease + Loan       0.57      0.47      0.51        58\n",
      "\n",
      "                                                                                                     accuracy                           0.58      3793\n",
      "                                                                                                    macro avg       0.25      0.12      0.14      3793\n",
      "                                                                                                 weighted avg       0.54      0.58      0.53      3793\n",
      "\n",
      "Accuracy: 0.5832\n",
      "🏃 View run Challenger Logistic Regression Model at: https://dagshub.com/zapatacc/final-exam-pcd2024-autumn.mlflow/#/experiments/29/runs/0fed762d666947d699b23f9d77f9bc02\n",
      "🧪 View experiment at: https://dagshub.com/zapatacc/final-exam-pcd2024-autumn.mlflow/#/experiments/29\n",
      "Best model finished and logged in MLflow.\n"
     ]
    }
   ],
   "source": [
    "  # Dividir los datos en entrenamiento y prueba\n",
    "X_train, X_test, y_train, y_test = train_test_split(X, y, test_size=0.2, random_state=42)\n",
    "\n",
    "# Establecer el experimento en MLflow\n",
    "mlflow.set_experiment(\"Tinoco-logistic-regression\")\n",
    "\n",
    "# Hiperparámetros óptimos seleccionados\n",
    "best_params = {\"max_iter\": 300, \"C\": 2.0, \"solver\": \"liblinear\"}\n",
    "\n",
    "# Entrenar el modelo con los mejores parámetros\n",
    "with mlflow.start_run(run_name=\"Challenger Logistic Regression Model\"):\n",
    "    # Inicializar el modelo con los mejores parámetros\n",
    "    logreg = LogisticRegression(\n",
    "        max_iter=best_params[\"max_iter\"], \n",
    "        C=best_params[\"C\"], \n",
    "        solver=best_params[\"solver\"], \n",
    "        random_state=42\n",
    "    )\n",
    "    \n",
    "    # Entrenar el modelo\n",
    "    logreg.fit(X_train_tfidf, y_train)\n",
    "    \n",
    "    # Predicciones\n",
    "    y_pred = logreg.predict(X_test_tfidf)\n",
    "    \n",
    "    # Métrica de accuracy\n",
    "    accuracy = accuracy_score(y_test, y_pred)\n",
    "    \n",
    "    # Loggear parámetros y métricas en MLflow\n",
    "    mlflow.log_params(best_params)\n",
    "    mlflow.log_metric(\"accuracy\", accuracy)\n",
    "    \n",
    "    # Registrar el modelo en MLflow\n",
    "    mlflow.sklearn.log_model(logreg, \"challenger-logistic-regression-model\")\n",
    "    \n",
    "    print(\"Classification Report:\\n\", classification_report(y_test, y_pred))\n",
    "    print(f\"Accuracy: {accuracy:.4f}\")\n",
    "\n",
    "print(\"Best model finished and logged in MLflow.\")"
   ],
   "metadata": {
    "collapsed": false,
    "ExecuteTime": {
     "end_time": "2024-11-22T16:03:32.256429500Z",
     "start_time": "2024-11-22T16:02:29.021567900Z"
    }
   },
   "id": "255dbf34d0af53eb",
   "execution_count": 9
  },
  {
   "cell_type": "markdown",
   "source": [
    "## CHAMPION LOGISTIC"
   ],
   "metadata": {
    "collapsed": false
   },
   "id": "7e00432d17a27728"
  },
  {
   "cell_type": "code",
   "outputs": [
    {
     "name": "stderr",
     "output_type": "stream",
     "text": [
      "2024/11/22 10:05:10 WARNING mlflow.models.model: Model logged without a signature and input example. Please set `input_example` parameter when logging the model to auto infer the model signature.\n",
      "C:\\Users\\Francisco\\PycharmProjects\\final-exam-pcd2024-autumn\\.venv\\Lib\\site-packages\\sklearn\\metrics\\_classification.py:1531: UndefinedMetricWarning: Precision is ill-defined and being set to 0.0 in labels with no predicted samples. Use `zero_division` parameter to control this behavior.\n",
      "  _warn_prf(average, modifier, f\"{metric.capitalize()} is\", len(result))\n",
      "C:\\Users\\Francisco\\PycharmProjects\\final-exam-pcd2024-autumn\\.venv\\Lib\\site-packages\\sklearn\\metrics\\_classification.py:1531: UndefinedMetricWarning: Precision is ill-defined and being set to 0.0 in labels with no predicted samples. Use `zero_division` parameter to control this behavior.\n",
      "  _warn_prf(average, modifier, f\"{metric.capitalize()} is\", len(result))\n",
      "C:\\Users\\Francisco\\PycharmProjects\\final-exam-pcd2024-autumn\\.venv\\Lib\\site-packages\\sklearn\\metrics\\_classification.py:1531: UndefinedMetricWarning: Precision is ill-defined and being set to 0.0 in labels with no predicted samples. Use `zero_division` parameter to control this behavior.\n",
      "  _warn_prf(average, modifier, f\"{metric.capitalize()} is\", len(result))\n"
     ]
    },
    {
     "name": "stdout",
     "output_type": "stream",
     "text": [
      "Classification Report:\n",
      "                                                                                                                precision    recall  f1-score   support\n",
      "\n",
      "                                                        Bank account or service + (CD) Certificate of deposit       0.00      0.00      0.00         3\n",
      "                                                 Bank account or service + Cashing a check without an account       0.00      0.00      0.00         7\n",
      "                                                                   Bank account or service + Checking account       0.48      0.32      0.38       217\n",
      "                                                         Bank account or service + Other bank product/service       1.00      0.02      0.04        55\n",
      "                                                                    Bank account or service + Savings account       0.00      0.00      0.00        17\n",
      "                                                    Checking or savings account + CD (Certificate of Deposit)       1.00      0.80      0.89         5\n",
      "                                                               Checking or savings account + Checking account       0.61      0.83      0.71       788\n",
      "                                               Checking or savings account + Other banking product or service       0.00      0.00      0.00        36\n",
      "                                                                Checking or savings account + Savings account       0.30      0.09      0.13        35\n",
      "                                                                             Consumer Loan + Installment loan       0.00      0.00      0.00         8\n",
      "                                                                                    Consumer Loan + Pawn loan       0.00      0.00      0.00         1\n",
      "                                                                                   Consumer Loan + Title loan       0.00      0.00      0.00         1\n",
      "                                                                                Consumer Loan + Vehicle lease       0.00      0.00      0.00         7\n",
      "                                                                                 Consumer Loan + Vehicle loan       0.46      0.19      0.27        32\n",
      "                                     Credit card or prepaid card + General-purpose credit card or charge card       0.70      0.90      0.79       969\n",
      "                                                   Credit card or prepaid card + General-purpose prepaid card       0.00      0.00      0.00        12\n",
      "                                                                      Credit card or prepaid card + Gift card       0.00      0.00      0.00         2\n",
      "                                                        Credit card or prepaid card + Government benefit card       0.00      0.00      0.00         3\n",
      "                                                                   Credit card or prepaid card + Payroll card       0.00      0.00      0.00         1\n",
      "                                                              Credit card or prepaid card + Store credit card       0.00      0.00      0.00        14\n",
      "        Credit reporting, credit repair services, or other personal consumer reports + Credit repair services       0.00      0.00      0.00         1\n",
      "              Credit reporting, credit repair services, or other personal consumer reports + Credit reporting       0.62      0.73      0.67       389\n",
      "Credit reporting, credit repair services, or other personal consumer reports + Other personal consumer report       0.00      0.00      0.00        11\n",
      "                                                                                       Debt collection + Auto       0.00      0.00      0.00         1\n",
      "                                                                                Debt collection + Credit card       0.48      0.24      0.32        46\n",
      "                                                                           Debt collection + Credit card debt       0.47      0.30      0.37        92\n",
      "                                                                              Debt collection + I do not know       1.00      0.06      0.11        17\n",
      "                                                                                   Debt collection + Mortgage       0.00      0.00      0.00         9\n",
      "                                                                              Debt collection + Mortgage debt       1.00      0.06      0.11        18\n",
      "                                                                   Debt collection + Non-federal student loan       0.00      0.00      0.00         1\n",
      "                                                      Debt collection + Other (i.e. phone, health club, etc.)       0.00      0.00      0.00         4\n",
      "                                                                                 Debt collection + Other debt       0.00      0.00      0.00         6\n",
      "                                                                                Debt collection + Payday loan       0.00      0.00      0.00         1\n",
      "                                   Money transfer, virtual currency, or money service + Check cashing service       0.00      0.00      0.00         2\n",
      "                            Money transfer, virtual currency, or money service + Domestic (US) money transfer       0.27      0.23      0.25        61\n",
      "                               Money transfer, virtual currency, or money service + Foreign currency exchange       0.00      0.00      0.00         4\n",
      "                            Money transfer, virtual currency, or money service + International money transfer       1.00      0.17      0.29        29\n",
      "                                Money transfer, virtual currency, or money service + Mobile or digital wallet       0.67      0.15      0.25        39\n",
      "                                             Money transfer, virtual currency, or money service + Money order       0.00      0.00      0.00         4\n",
      "                     Money transfer, virtual currency, or money service + Traveler's check or cashier's check       0.00      0.00      0.00         8\n",
      "                                        Money transfer, virtual currency, or money service + Virtual currency       0.00      0.00      0.00         8\n",
      "                                                               Money transfers + Domestic (US) money transfer       0.00      0.00      0.00         4\n",
      "                                                               Money transfers + International money transfer       0.00      0.00      0.00         5\n",
      "                                                            Mortgage + Conventional adjustable mortgage (ARM)       0.31      0.08      0.13        60\n",
      "                                                                       Mortgage + Conventional fixed mortgage       0.32      0.35      0.34       171\n",
      "                                                                        Mortgage + Conventional home mortgage       0.40      0.50      0.45       235\n",
      "                                                                                      Mortgage + FHA mortgage       0.29      0.33      0.31        87\n",
      "                                                                Mortgage + Home equity loan or line of credit       0.67      0.07      0.13        27\n",
      "                                                        Mortgage + Home equity loan or line of credit (HELOC)       0.27      0.13      0.18        30\n",
      "                                                                                    Mortgage + Other mortgage       0.00      0.00      0.00        38\n",
      "                                                                            Mortgage + Other type of mortgage       1.00      0.05      0.10        20\n",
      "                                                                                  Mortgage + Reverse mortgage       0.00      0.00      0.00         2\n",
      "                                                                                       Mortgage + VA mortgage       0.00      0.00      0.00        13\n",
      "                                                                        Other financial service + Money order       0.00      0.00      0.00         1\n",
      "                                                        Other financial service + Traveler’s/Cashier’s checks       0.00      0.00      0.00         1\n",
      "                                                 Payday loan, title loan, or personal loan + Installment loan       0.00      0.00      0.00         6\n",
      "                                          Payday loan, title loan, or personal loan + Personal line of credit       0.00      0.00      0.00         6\n",
      "                                                       Payday loan, title loan, or personal loan + Title loan       0.00      0.00      0.00         2\n",
      "                                                               Prepaid card + Government benefit payment card       0.00      0.00      0.00         1\n",
      "                                                                Student loan + Federal student loan servicing       0.00      0.00      0.00         2\n",
      "                                                                      Student loan + Non-federal student loan       0.84      0.55      0.67        29\n",
      "                                                                          Student loan + Private student loan       0.00      0.00      0.00         9\n",
      "                                                                                Vehicle loan or lease + Lease       0.50      0.32      0.39        22\n",
      "                                                                                 Vehicle loan or lease + Loan       0.55      0.48      0.51        58\n",
      "\n",
      "                                                                                                     accuracy                           0.59      3793\n",
      "                                                                                                    macro avg       0.24      0.12      0.14      3793\n",
      "                                                                                                 weighted avg       0.55      0.59      0.54      3793\n",
      "\n",
      "Accuracy: 0.5871\n",
      "🏃 View run Best Logistic Regression Model at: https://dagshub.com/zapatacc/final-exam-pcd2024-autumn.mlflow/#/experiments/29/runs/7b1d40d6b0244f488a6f9507519e6cc7\n",
      "🧪 View experiment at: https://dagshub.com/zapatacc/final-exam-pcd2024-autumn.mlflow/#/experiments/29\n",
      "Best model finished and logged in MLflow.\n"
     ]
    }
   ],
   "source": [
    "# Dividir los datos en entrenamiento y prueba\n",
    "X_train, X_test, y_train, y_test = train_test_split(X, y, test_size=0.2, random_state=42)\n",
    "\n",
    "# Establecer el experimento en MLflow\n",
    "mlflow.set_experiment(\"Tinoco-logistic-regression\")\n",
    "\n",
    "# Hiperparámetros óptimos seleccionados\n",
    "best_params = {\"max_iter\": 100, \"C\": 1.5, \"solver\": \"sag\"}\n",
    "\n",
    "# Entrenar el modelo con los mejores parámetros\n",
    "with mlflow.start_run(run_name=\"Best Logistic Regression Model\"):\n",
    "    # Inicializar el modelo con los mejores parámetros\n",
    "    logreg = LogisticRegression(\n",
    "        max_iter=best_params[\"max_iter\"], \n",
    "        C=best_params[\"C\"], \n",
    "        solver=best_params[\"solver\"], \n",
    "        random_state=42\n",
    "    )\n",
    "    \n",
    "    # Entrenar el modelo\n",
    "    logreg.fit(X_train_tfidf, y_train)\n",
    "    \n",
    "    # Predicciones\n",
    "    y_pred = logreg.predict(X_test_tfidf)\n",
    "    \n",
    "    # Métrica de accuracy\n",
    "    accuracy = accuracy_score(y_test, y_pred)\n",
    "    \n",
    "    # Loggear parámetros y métricas en MLflow\n",
    "    mlflow.log_params(best_params)\n",
    "    mlflow.log_metric(\"accuracy\", accuracy)\n",
    "    \n",
    "    # Registrar el modelo en MLflow\n",
    "    mlflow.sklearn.log_model(logreg, \"best-logistic-regression-model\")\n",
    "    \n",
    "    print(\"Classification Report:\\n\", classification_report(y_test, y_pred))\n",
    "    print(f\"Accuracy: {accuracy:.4f}\")\n",
    "\n",
    "print(\"Best model finished and logged in MLflow.\")\n"
   ],
   "metadata": {
    "collapsed": false,
    "ExecuteTime": {
     "end_time": "2024-11-22T16:05:15.823720600Z",
     "start_time": "2024-11-22T16:04:20.197485300Z"
    }
   },
   "id": "2e7787b1e7d14024",
   "execution_count": 10
  },
  {
   "cell_type": "code",
   "outputs": [
    {
     "name": "stderr",
     "output_type": "stream",
     "text": [
      "2024/11/21 19:06:40 INFO mlflow.tracking.fluent: Experiment with name 'Tinoco-logistic-regression' does not exist. Creating a new experiment.\n"
     ]
    },
    {
     "data": {
      "text/plain": "<Experiment: artifact_location='mlflow-artifacts:/74c7ab95b6764c0c9934dbaa112073d9', creation_time=1732237600169, experiment_id='29', last_update_time=1732237600169, lifecycle_stage='active', name='Tinoco-logistic-regression', tags={}>"
     },
     "execution_count": 11,
     "metadata": {},
     "output_type": "execute_result"
    }
   ],
   "source": [
    "# Establecer el experimento en MLflow\n",
    "mlflow.set_experiment('Tinoco-logistic-regression')"
   ],
   "metadata": {
    "collapsed": false,
    "ExecuteTime": {
     "end_time": "2024-11-22T01:06:40.484246700Z",
     "start_time": "2024-11-22T01:06:39.685544900Z"
    }
   },
   "id": "aa99e8bf1fbad80e",
   "execution_count": 11
  },
  {
   "cell_type": "markdown",
   "source": [
    "## Registrar el modelo "
   ],
   "metadata": {
    "collapsed": false
   },
   "id": "f32fb49e4d004b75"
  },
  {
   "cell_type": "code",
   "outputs": [
    {
     "name": "stderr",
     "output_type": "stream",
     "text": [
      "Registered model 'Tinoco-modelo' already exists. Creating a new version of this model...\n",
      "2024/11/22 03:16:45 INFO mlflow.store.model_registry.abstract_store: Waiting up to 300 seconds for model version to finish creation. Model name: Tinoco-modelo, version 3\n"
     ]
    },
    {
     "name": "stdout",
     "output_type": "stream",
     "text": [
      "Modelo registrado con éxito.\n"
     ]
    },
    {
     "name": "stderr",
     "output_type": "stream",
     "text": [
      "Created version '3' of model 'Tinoco-modelo'.\n"
     ]
    }
   ],
   "source": [
    "# Registrar modelo con MLflow\n",
    "run_id = input(\"Ingrese el run_id: \")\n",
    "run_uri = f\"runs:/{run_id}/model\"\n",
    "\n",
    "result = mlflow.register_model(\n",
    "    model_uri=run_uri,\n",
    "    name=\"Tinoco-modelo\"\n",
    ")\n",
    "\n",
    "print(\"Modelo registrado con éxito.\")"
   ],
   "metadata": {
    "collapsed": false,
    "ExecuteTime": {
     "end_time": "2024-11-22T09:16:45.319047400Z",
     "start_time": "2024-11-22T09:16:40.603522800Z"
    }
   },
   "id": "15207ef5ff3a8947",
   "execution_count": 34
  },
  {
   "cell_type": "markdown",
   "source": [
    "### Asirgnarle alias champion"
   ],
   "metadata": {
    "collapsed": false
   },
   "id": "bb1bcc1b9fa1820"
  },
  {
   "cell_type": "code",
   "outputs": [
    {
     "data": {
      "text/plain": "<ModelVersion: aliases=['champion'], creation_timestamp=1732267004964, current_stage='None', description='The model version 3 was transitioned to champion on 2024-11-22 03:17:12.802446', last_updated_timestamp=1732267033518, name='Tinoco-modelo', run_id='8af6ab21fffa4f96ae42527daba41d84', run_link='', source='mlflow-artifacts:/55cba0c4d60444db9d22a85ca8bd8434/8af6ab21fffa4f96ae42527daba41d84/artifacts/model', status='READY', status_message='', tags={}, user_id='', version='3'>"
     },
     "execution_count": 35,
     "metadata": {},
     "output_type": "execute_result"
    }
   ],
   "source": [
    "from datetime import datetime\n",
    "from mlflow import MlflowClient\n",
    "\n",
    "client = MlflowClient(tracking_uri=MLFLOW_TRACKING_URI)\n",
    "client.update_registered_model(\n",
    "    name=\"Tinoco-modelo\",\n",
    "    description=\"\",\n",
    ")\n",
    "\n",
    "new_alias = \"champion\"\n",
    "date = datetime.today()\n",
    "model_version = \"3\"\n",
    "\n",
    "# create \"champion\" alias for version 3 of model LR\n",
    "client.set_registered_model_alias(\n",
    "    name=\"Tinoco-modelo\",\n",
    "    alias=new_alias,\n",
    "    version=model_version\n",
    ")\n",
    "\n",
    "client.update_model_version(\n",
    "    name=\"Tinoco-modelo\",\n",
    "    version=model_version,\n",
    "    description=f\"The model version {model_version} was transitioned to {new_alias} on {date}\",\n",
    ")"
   ],
   "metadata": {
    "collapsed": false,
    "ExecuteTime": {
     "end_time": "2024-11-22T09:17:13.928883400Z",
     "start_time": "2024-11-22T09:17:12.539520700Z"
    }
   },
   "id": "85f91ca1af81ee28",
   "execution_count": 35
  },
  {
   "cell_type": "markdown",
   "source": [
    "### Asignar alias challenger"
   ],
   "metadata": {
    "collapsed": false
   },
   "id": "37d0e6f4ae259d3b"
  },
  {
   "cell_type": "code",
   "outputs": [
    {
     "name": "stderr",
     "output_type": "stream",
     "text": [
      "Registered model 'Tinoco-modelo2' already exists. Creating a new version of this model...\n",
      "2024/11/22 02:34:34 INFO mlflow.store.model_registry.abstract_store: Waiting up to 300 seconds for model version to finish creation. Model name: Tinoco-modelo2, version 2\n"
     ]
    },
    {
     "name": "stdout",
     "output_type": "stream",
     "text": [
      "Modelo registrado con éxito.\n"
     ]
    },
    {
     "name": "stderr",
     "output_type": "stream",
     "text": [
      "Created version '2' of model 'Tinoco-modelo2'.\n"
     ]
    }
   ],
   "source": [
    "# Registrar modelo con MLflow\n",
    "run_id = input(\"Ingrese el run_id: \")\n",
    "run_uri = f\"runs:/{run_id}/model\"\n",
    "\n",
    "result = mlflow.register_model(\n",
    "    model_uri=run_uri,\n",
    "    name=\"Tinoco-modelo2\"\n",
    ")\n",
    "\n",
    "print(\"Modelo registrado con éxito.\")"
   ],
   "metadata": {
    "collapsed": false,
    "ExecuteTime": {
     "end_time": "2024-11-22T08:34:34.652126400Z",
     "start_time": "2024-11-22T08:34:31.797793600Z"
    }
   },
   "id": "77e96b3f4f274fd0",
   "execution_count": 30
  },
  {
   "cell_type": "code",
   "outputs": [
    {
     "data": {
      "text/plain": "<ModelVersion: aliases=['challenger'], creation_timestamp=1732264474501, current_stage='None', description=('The model version 2 was transitioned to challenger on 2024-11-22 '\n '02:34:48.660230'), last_updated_timestamp=1732264488937, name='Tinoco-modelo2', run_id='1644066e40c7405385b48920011ad5ae', run_link='', source='mlflow-artifacts:/55cba0c4d60444db9d22a85ca8bd8434/1644066e40c7405385b48920011ad5ae/artifacts/model', status='READY', status_message='', tags={}, user_id='', version='2'>"
     },
     "execution_count": 31,
     "metadata": {},
     "output_type": "execute_result"
    }
   ],
   "source": [
    "client = MlflowClient(tracking_uri=MLFLOW_TRACKING_URI)\n",
    "client.update_registered_model(\n",
    "    name=\"Tinoco-modelo\",\n",
    "    description=\"\",\n",
    ")\n",
    "\n",
    "new_alias = \"challenger\"\n",
    "date = datetime.today()\n",
    "model_version = \"2\"\n",
    "\n",
    "# create \"challenger\" alias for version 2 of model LR\n",
    "client.set_registered_model_alias(\n",
    "    name=\"Tinoco-modelo\",\n",
    "    alias=new_alias,\n",
    "    version=model_version\n",
    ")\n",
    "\n",
    "client.update_model_version(\n",
    "    name=\"Tinoco-modelo\",\n",
    "    version=model_version,\n",
    "    description=f\"The model version {model_version} was transitioned to {new_alias} on {date}\",\n",
    ")"
   ],
   "metadata": {
    "collapsed": false,
    "ExecuteTime": {
     "end_time": "2024-11-22T08:34:49.091579800Z",
     "start_time": "2024-11-22T08:34:48.443262900Z"
    }
   },
   "id": "a875e5c5aaca8b8c",
   "execution_count": 31
  },
  {
   "cell_type": "code",
   "outputs": [],
   "source": [],
   "metadata": {
    "collapsed": false
   },
   "id": "217fba6d748651f"
  }
 ],
 "metadata": {
  "kernelspec": {
   "display_name": "Python 3",
   "language": "python",
   "name": "python3"
  },
  "language_info": {
   "codemirror_mode": {
    "name": "ipython",
    "version": 2
   },
   "file_extension": ".py",
   "mimetype": "text/x-python",
   "name": "python",
   "nbconvert_exporter": "python",
   "pygments_lexer": "ipython2",
   "version": "2.7.6"
  }
 },
 "nbformat": 4,
 "nbformat_minor": 5
}
