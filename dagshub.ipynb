{
 "cells": [
  {
   "cell_type": "code",
   "execution_count": null,
   "metadata": {
    "metadata": {}
   },
   "outputs": [],
   "source": [
    "import pandas as pd\n",
    "import numpy as np\n",
    "import mlflow\n",
    "import pickle\n",
    "from sklearn.model_selection import train_test_split, GridSearchCV\n",
    "from sklearn.linear_model import LogisticRegression\n",
    "from sklearn.pipeline import Pipeline\n",
    "from sklearn.preprocessing import Normalizer\n",
    "from sklearn.metrics import accuracy_score, classification_report\n",
    "from nltk.corpus import stopwords\n",
    "from sklearn.feature_extraction.text import TfidfVectorizer  # Use TfidfVectorizer instead of CountVectorizer for efficiency\n",
    "import dagshub"
   ]
  },
  {
   "cell_type": "code",
   "execution_count": null,
   "metadata": {},
   "outputs": [],
   "source": [
    "dagshub.init(repo_owner='zapatacc', repo_name='final-exam-pcd2024-autumn', mlflow=True)\n",
    "mlflow.set_experiment(\"renata-orozco-modelos\")\n",
    "\n",
    "df = pd.read_csv(r\"../Renata/datos/cleaned.csv\")\n",
    "\n",
    "X = df['complaint_what_happened']\n",
    "y = df['ticket_classification']\n",
    "\n",
    "# Split data into train and test sets\n",
    "text_train, text_test, label_train, label_test = train_test_split(X, y, test_size=0.30, random_state=7)\n",
    "\n",
    "# Encode labels using pandas factorize\n",
    "encoded_labels_train = pd.factorize(label_train)[0]\n",
    "encoded_labels_test = pd.factorize(label_test)[0]\n",
    "\n",
    "# TF-IDF Vectorizer for transforming text data (this simplifies manual TF-IDF calculation)\n",
    "tfidf_vectorizer = TfidfVectorizer(stop_words=stopwords.words('english'))\n",
    "\n",
    "# Logistic Regression Pipeline with TF-IDF Vectorizer\n",
    "logreg_pipeline = Pipeline([\n",
    "    (\"vectorizer\", tfidf_vectorizer),\n",
    "    (\"logreg\", LogisticRegression(max_iter=500))\n",
    "])\n",
    "\n",
    "# Grid search parameters for hyperparameter tuning\n",
    "param_grid = {\n",
    "    'logreg__C': [0.5, 0.15, 0.8],\n",
    "    'logreg__penalty': ['l2'],\n",
    "    'logreg__solver': ['lbfgs'],\n",
    "}\n",
    "\n",
    "grid_search = GridSearchCV(logreg_pipeline, param_grid, scoring='accuracy', cv=5, n_jobs=1, verbose=1)\n",
    "\n",
    "# Log experiment with MLflow\n",
    "with mlflow.start_run(run_name=\"Logreg Pipeline\"):\n",
    "    grid_search.fit(text_train, encoded_labels_train)  # Fit directly with raw text data\n",
    "\n",
    "    # Get the best model from the grid search\n",
    "    best_logreg_model = grid_search.best_estimator_\n",
    "\n",
    "    # Predict on the test set\n",
    "    predictions = best_logreg_model.predict(text_test)\n",
    "\n",
    "    # Calculate metrics\n",
    "    accuracy = accuracy_score(encoded_labels_test, predictions)\n",
    "    report = classification_report(encoded_labels_test, predictions, output_dict=True)\n",
    "\n",
    "    # Log metrics to MLflow\n",
    "    mlflow.log_params(grid_search.best_params_)\n",
    "    mlflow.log_metric(\"accuracy\", accuracy)\n",
    "    mlflow.log_metric(\"precision\", report[\"weighted avg\"][\"precision\"])\n",
    "    mlflow.log_metric(\"recall\", report[\"weighted avg\"][\"recall\"])\n",
    "    mlflow.log_metric(\"f1_score\", report[\"weighted avg\"][\"f1-score\"])\n",
    "\n",
    "    # Log the best model\n",
    "    mlflow.sklearn.log_model(best_logreg_model, artifact_path=\"logreg_pipeline_model\")\n",
    "\n",
    "    # Save and log the label encoder (if you use the label mapping)\n",
    "    label_mapping = dict(enumerate(pd.unique(label_train)))\n",
    "    with open(\"label_mapping.pkl\", \"wb\") as f:\n",
    "        pickle.dump(label_mapping, f)\n",
    "    mlflow.log_artifact(\"label_mapping.pkl\")\n"
   ]
  }
 ],
 "metadata": {
  "kernelspec": {
   "display_name": "Python 3",
   "language": "python",
   "name": "python3"
  },
  "language_info": {
   "codemirror_mode": {
    "name": "ipython",
    "version": 3
   },
   "file_extension": ".py",
   "mimetype": "text/x-python",
   "name": "python",
   "nbconvert_exporter": "python",
   "pygments_lexer": "ipython3",
   "version": "3.12.7"
  }
 },
 "nbformat": 4,
 "nbformat_minor": 2
}
